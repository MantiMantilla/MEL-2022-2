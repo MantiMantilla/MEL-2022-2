{
 "cells": [
  {
   "cell_type": "markdown",
   "id": "f960ea7c",
   "metadata": {},
   "source": [
    "# Proyecto - Desarrollo"
   ]
  },
  {
   "cell_type": "markdown",
   "id": "96d0f7c8",
   "metadata": {},
   "source": [
    "## Detección de la ocupación de una oficina a partir de datos de luz, temperatura, humedad y concentración de CO2, por medio del uso de modelos estadísticos lineales."
   ]
  },
  {
   "cell_type": "markdown",
   "id": "248cf7ba",
   "metadata": {},
   "source": [
    "Alejandro Mantilla - 201711304\n",
    "\n",
    "Ximena Palacio - 201730995 "
   ]
  },
  {
   "cell_type": "code",
   "execution_count": 1,
   "id": "b871c142",
   "metadata": {},
   "outputs": [
    {
     "data": {
      "text/html": [
       "<table class=\"dataframe\">\n",
       "<caption>A tibble: 6 × 7</caption>\n",
       "<thead>\n",
       "\t<tr><th scope=col>date</th><th scope=col>Temperature</th><th scope=col>Humidity</th><th scope=col>Light</th><th scope=col>CO2</th><th scope=col>HumidityRatio</th><th scope=col>Occupancy</th></tr>\n",
       "\t<tr><th scope=col>&lt;dttm&gt;</th><th scope=col>&lt;dbl&gt;</th><th scope=col>&lt;dbl&gt;</th><th scope=col>&lt;dbl&gt;</th><th scope=col>&lt;dbl&gt;</th><th scope=col>&lt;dbl&gt;</th><th scope=col>&lt;dbl&gt;</th></tr>\n",
       "</thead>\n",
       "<tbody>\n",
       "\t<tr><td>2015-02-11 14:48:00</td><td>21.7600</td><td>31.13333</td><td>437.3333</td><td>1029.667</td><td>0.005021011</td><td>1</td></tr>\n",
       "\t<tr><td>2015-02-11 14:49:00</td><td>21.7900</td><td>31.00000</td><td>437.3333</td><td>1000.000</td><td>0.005008581</td><td>1</td></tr>\n",
       "\t<tr><td>2015-02-11 14:50:00</td><td>21.7675</td><td>31.12250</td><td>434.0000</td><td>1003.750</td><td>0.005021569</td><td>1</td></tr>\n",
       "\t<tr><td>2015-02-11 14:51:00</td><td>21.7675</td><td>31.12250</td><td>439.0000</td><td>1009.500</td><td>0.005021569</td><td>1</td></tr>\n",
       "\t<tr><td>2015-02-11 14:52:00</td><td>21.7900</td><td>31.13333</td><td>437.3333</td><td>1005.667</td><td>0.005030298</td><td>1</td></tr>\n",
       "\t<tr><td>2015-02-11 14:53:00</td><td>21.7600</td><td>31.26000</td><td>437.3333</td><td>1014.333</td><td>0.005041605</td><td>1</td></tr>\n",
       "</tbody>\n",
       "</table>\n"
      ],
      "text/latex": [
       "A tibble: 6 × 7\n",
       "\\begin{tabular}{lllllll}\n",
       " date & Temperature & Humidity & Light & CO2 & HumidityRatio & Occupancy\\\\\n",
       " <dttm> & <dbl> & <dbl> & <dbl> & <dbl> & <dbl> & <dbl>\\\\\n",
       "\\hline\n",
       "\t 2015-02-11 14:48:00 & 21.7600 & 31.13333 & 437.3333 & 1029.667 & 0.005021011 & 1\\\\\n",
       "\t 2015-02-11 14:49:00 & 21.7900 & 31.00000 & 437.3333 & 1000.000 & 0.005008581 & 1\\\\\n",
       "\t 2015-02-11 14:50:00 & 21.7675 & 31.12250 & 434.0000 & 1003.750 & 0.005021569 & 1\\\\\n",
       "\t 2015-02-11 14:51:00 & 21.7675 & 31.12250 & 439.0000 & 1009.500 & 0.005021569 & 1\\\\\n",
       "\t 2015-02-11 14:52:00 & 21.7900 & 31.13333 & 437.3333 & 1005.667 & 0.005030298 & 1\\\\\n",
       "\t 2015-02-11 14:53:00 & 21.7600 & 31.26000 & 437.3333 & 1014.333 & 0.005041605 & 1\\\\\n",
       "\\end{tabular}\n"
      ],
      "text/markdown": [
       "\n",
       "A tibble: 6 × 7\n",
       "\n",
       "| date &lt;dttm&gt; | Temperature &lt;dbl&gt; | Humidity &lt;dbl&gt; | Light &lt;dbl&gt; | CO2 &lt;dbl&gt; | HumidityRatio &lt;dbl&gt; | Occupancy &lt;dbl&gt; |\n",
       "|---|---|---|---|---|---|---|\n",
       "| 2015-02-11 14:48:00 | 21.7600 | 31.13333 | 437.3333 | 1029.667 | 0.005021011 | 1 |\n",
       "| 2015-02-11 14:49:00 | 21.7900 | 31.00000 | 437.3333 | 1000.000 | 0.005008581 | 1 |\n",
       "| 2015-02-11 14:50:00 | 21.7675 | 31.12250 | 434.0000 | 1003.750 | 0.005021569 | 1 |\n",
       "| 2015-02-11 14:51:00 | 21.7675 | 31.12250 | 439.0000 | 1009.500 | 0.005021569 | 1 |\n",
       "| 2015-02-11 14:52:00 | 21.7900 | 31.13333 | 437.3333 | 1005.667 | 0.005030298 | 1 |\n",
       "| 2015-02-11 14:53:00 | 21.7600 | 31.26000 | 437.3333 | 1014.333 | 0.005041605 | 1 |\n",
       "\n"
      ],
      "text/plain": [
       "  date                Temperature Humidity Light    CO2      HumidityRatio\n",
       "1 2015-02-11 14:48:00 21.7600     31.13333 437.3333 1029.667 0.005021011  \n",
       "2 2015-02-11 14:49:00 21.7900     31.00000 437.3333 1000.000 0.005008581  \n",
       "3 2015-02-11 14:50:00 21.7675     31.12250 434.0000 1003.750 0.005021569  \n",
       "4 2015-02-11 14:51:00 21.7675     31.12250 439.0000 1009.500 0.005021569  \n",
       "5 2015-02-11 14:52:00 21.7900     31.13333 437.3333 1005.667 0.005030298  \n",
       "6 2015-02-11 14:53:00 21.7600     31.26000 437.3333 1014.333 0.005041605  \n",
       "  Occupancy\n",
       "1 1        \n",
       "2 1        \n",
       "3 1        \n",
       "4 1        \n",
       "5 1        \n",
       "6 1        "
      ]
     },
     "metadata": {},
     "output_type": "display_data"
    }
   ],
   "source": [
    "library(readr)\n",
    "datos <- read_csv(\"Archivos/datos_entrenamiento.csv\",\n",
    "                  show_col_types = FALSE)\n",
    "\n",
    "datos$date <- lubridate::round_date(datos$date,\n",
    "           unit = \"minute\")\n",
    "\n",
    "datos$id <- NULL\n",
    "\n",
    "head(datos)"
   ]
  },
  {
   "cell_type": "code",
   "execution_count": 2,
   "id": "056b21c7",
   "metadata": {},
   "outputs": [],
   "source": [
    "datos$date <- lubridate::round_date(datos$date,\n",
    "                                    unit = \"minute\")\n",
    "\n",
    "datos$DayOfWeek <- lubridate::wday(datos$date, week_start=1)\n",
    "datos$WorkingTime <- as.numeric(lubridate::wday(datos$date, week_start=1) <= 5\n",
    "                               & lubridate::hour(datos$date) >= 8\n",
    "                               & lubridate::hour(datos$date) <= 18)\n",
    "\n",
    "\n",
    "datos$HourOfDay <- lubridate::hour(datos$date)\n",
    "datos$MinuteOfHour <- lubridate::minute(datos$date)\n"
   ]
  },
  {
   "cell_type": "code",
   "execution_count": 3,
   "id": "0b77a66e",
   "metadata": {},
   "outputs": [],
   "source": [
    "dates <- datos$date\n",
    "datos$date <- NULL"
   ]
  },
  {
   "cell_type": "code",
   "execution_count": 4,
   "id": "d2a78125",
   "metadata": {},
   "outputs": [
    {
     "data": {
      "text/html": [
       "<table class=\"dataframe\">\n",
       "<caption>A tibble: 6 × 10</caption>\n",
       "<thead>\n",
       "\t<tr><th scope=col>Temperature</th><th scope=col>Humidity</th><th scope=col>Light</th><th scope=col>CO2</th><th scope=col>HumidityRatio</th><th scope=col>Occupancy</th><th scope=col>DayOfWeek</th><th scope=col>WorkingTime</th><th scope=col>HourOfDay</th><th scope=col>MinuteOfHour</th></tr>\n",
       "\t<tr><th scope=col>&lt;dbl&gt;</th><th scope=col>&lt;dbl&gt;</th><th scope=col>&lt;dbl&gt;</th><th scope=col>&lt;dbl&gt;</th><th scope=col>&lt;dbl&gt;</th><th scope=col>&lt;dbl&gt;</th><th scope=col>&lt;dbl&gt;</th><th scope=col>&lt;dbl&gt;</th><th scope=col>&lt;int&gt;</th><th scope=col>&lt;int&gt;</th></tr>\n",
       "</thead>\n",
       "<tbody>\n",
       "\t<tr><td>21.7600</td><td>31.13333</td><td>437.3333</td><td>1029.667</td><td>0.005021011</td><td>1</td><td>3</td><td>1</td><td>14</td><td>48</td></tr>\n",
       "\t<tr><td>21.7900</td><td>31.00000</td><td>437.3333</td><td>1000.000</td><td>0.005008581</td><td>1</td><td>3</td><td>1</td><td>14</td><td>49</td></tr>\n",
       "\t<tr><td>21.7675</td><td>31.12250</td><td>434.0000</td><td>1003.750</td><td>0.005021569</td><td>1</td><td>3</td><td>1</td><td>14</td><td>50</td></tr>\n",
       "\t<tr><td>21.7675</td><td>31.12250</td><td>439.0000</td><td>1009.500</td><td>0.005021569</td><td>1</td><td>3</td><td>1</td><td>14</td><td>51</td></tr>\n",
       "\t<tr><td>21.7900</td><td>31.13333</td><td>437.3333</td><td>1005.667</td><td>0.005030298</td><td>1</td><td>3</td><td>1</td><td>14</td><td>52</td></tr>\n",
       "\t<tr><td>21.7600</td><td>31.26000</td><td>437.3333</td><td>1014.333</td><td>0.005041605</td><td>1</td><td>3</td><td>1</td><td>14</td><td>53</td></tr>\n",
       "</tbody>\n",
       "</table>\n"
      ],
      "text/latex": [
       "A tibble: 6 × 10\n",
       "\\begin{tabular}{llllllllll}\n",
       " Temperature & Humidity & Light & CO2 & HumidityRatio & Occupancy & DayOfWeek & WorkingTime & HourOfDay & MinuteOfHour\\\\\n",
       " <dbl> & <dbl> & <dbl> & <dbl> & <dbl> & <dbl> & <dbl> & <dbl> & <int> & <int>\\\\\n",
       "\\hline\n",
       "\t 21.7600 & 31.13333 & 437.3333 & 1029.667 & 0.005021011 & 1 & 3 & 1 & 14 & 48\\\\\n",
       "\t 21.7900 & 31.00000 & 437.3333 & 1000.000 & 0.005008581 & 1 & 3 & 1 & 14 & 49\\\\\n",
       "\t 21.7675 & 31.12250 & 434.0000 & 1003.750 & 0.005021569 & 1 & 3 & 1 & 14 & 50\\\\\n",
       "\t 21.7675 & 31.12250 & 439.0000 & 1009.500 & 0.005021569 & 1 & 3 & 1 & 14 & 51\\\\\n",
       "\t 21.7900 & 31.13333 & 437.3333 & 1005.667 & 0.005030298 & 1 & 3 & 1 & 14 & 52\\\\\n",
       "\t 21.7600 & 31.26000 & 437.3333 & 1014.333 & 0.005041605 & 1 & 3 & 1 & 14 & 53\\\\\n",
       "\\end{tabular}\n"
      ],
      "text/markdown": [
       "\n",
       "A tibble: 6 × 10\n",
       "\n",
       "| Temperature &lt;dbl&gt; | Humidity &lt;dbl&gt; | Light &lt;dbl&gt; | CO2 &lt;dbl&gt; | HumidityRatio &lt;dbl&gt; | Occupancy &lt;dbl&gt; | DayOfWeek &lt;dbl&gt; | WorkingTime &lt;dbl&gt; | HourOfDay &lt;int&gt; | MinuteOfHour &lt;int&gt; |\n",
       "|---|---|---|---|---|---|---|---|---|---|\n",
       "| 21.7600 | 31.13333 | 437.3333 | 1029.667 | 0.005021011 | 1 | 3 | 1 | 14 | 48 |\n",
       "| 21.7900 | 31.00000 | 437.3333 | 1000.000 | 0.005008581 | 1 | 3 | 1 | 14 | 49 |\n",
       "| 21.7675 | 31.12250 | 434.0000 | 1003.750 | 0.005021569 | 1 | 3 | 1 | 14 | 50 |\n",
       "| 21.7675 | 31.12250 | 439.0000 | 1009.500 | 0.005021569 | 1 | 3 | 1 | 14 | 51 |\n",
       "| 21.7900 | 31.13333 | 437.3333 | 1005.667 | 0.005030298 | 1 | 3 | 1 | 14 | 52 |\n",
       "| 21.7600 | 31.26000 | 437.3333 | 1014.333 | 0.005041605 | 1 | 3 | 1 | 14 | 53 |\n",
       "\n"
      ],
      "text/plain": [
       "  Temperature Humidity Light    CO2      HumidityRatio Occupancy DayOfWeek\n",
       "1 21.7600     31.13333 437.3333 1029.667 0.005021011   1         3        \n",
       "2 21.7900     31.00000 437.3333 1000.000 0.005008581   1         3        \n",
       "3 21.7675     31.12250 434.0000 1003.750 0.005021569   1         3        \n",
       "4 21.7675     31.12250 439.0000 1009.500 0.005021569   1         3        \n",
       "5 21.7900     31.13333 437.3333 1005.667 0.005030298   1         3        \n",
       "6 21.7600     31.26000 437.3333 1014.333 0.005041605   1         3        \n",
       "  WorkingTime HourOfDay MinuteOfHour\n",
       "1 1           14        48          \n",
       "2 1           14        49          \n",
       "3 1           14        50          \n",
       "4 1           14        51          \n",
       "5 1           14        52          \n",
       "6 1           14        53          "
      ]
     },
     "metadata": {},
     "output_type": "display_data"
    }
   ],
   "source": [
    "head(datos)"
   ]
  },
  {
   "cell_type": "code",
   "execution_count": null,
   "id": "eb93d47a",
   "metadata": {},
   "outputs": [],
   "source": [
    "dev.new(width=5, height=4)\n",
    "\n",
    "pairs(datos,\n",
    "      col = \"#B04C7A\",\n",
    "     )"
   ]
  },
  {
   "cell_type": "code",
   "execution_count": 5,
   "id": "894617a7",
   "metadata": {},
   "outputs": [
    {
     "data": {
      "text/plain": [
       "  Temperature       Humidity         Light             CO2        \n",
       " Min.   :19.50   Min.   :21.86   Min.   :   0.0   Min.   : 484.7  \n",
       " 1st Qu.:20.29   1st Qu.:26.64   1st Qu.:   0.0   1st Qu.: 542.3  \n",
       " Median :20.79   Median :30.20   Median :   0.0   Median : 639.0  \n",
       " Mean   :21.00   Mean   :29.89   Mean   : 123.1   Mean   : 753.2  \n",
       " 3rd Qu.:21.53   3rd Qu.:32.70   3rd Qu.: 208.2   3rd Qu.: 831.1  \n",
       " Max.   :24.39   Max.   :39.50   Max.   :1581.0   Max.   :2076.5  \n",
       " HumidityRatio        Occupancy        DayOfWeek      WorkingTime    \n",
       " Min.   :0.003275   Min.   :0.0000   Min.   :1.000   Min.   :0.0000  \n",
       " 1st Qu.:0.004196   1st Qu.:0.0000   1st Qu.:2.000   1st Qu.:0.0000  \n",
       " Median :0.004593   Median :0.0000   Median :4.000   Median :0.0000  \n",
       " Mean   :0.004589   Mean   :0.2101   Mean   :4.034   Mean   :0.3048  \n",
       " 3rd Qu.:0.004998   3rd Qu.:0.0000   3rd Qu.:6.000   3rd Qu.:1.0000  \n",
       " Max.   :0.005769   Max.   :1.0000   Max.   :7.000   Max.   :1.0000  \n",
       "   HourOfDay     MinuteOfHour  \n",
       " Min.   : 0.0   Min.   : 0.00  \n",
       " 1st Qu.: 5.0   1st Qu.:14.00  \n",
       " Median :11.0   Median :29.00  \n",
       " Mean   :11.5   Mean   :29.49  \n",
       " 3rd Qu.:18.0   3rd Qu.:45.00  \n",
       " Max.   :23.0   Max.   :59.00  "
      ]
     },
     "metadata": {},
     "output_type": "display_data"
    }
   ],
   "source": [
    "summary(datos)"
   ]
  },
  {
   "cell_type": "code",
   "execution_count": 6,
   "id": "b8ba6b8e",
   "metadata": {},
   "outputs": [
    {
     "data": {
      "image/png": "[encoded data removed]",
      "text/plain": [
       "Plot with title “Histograma de la ocupación.”"
      ]
     },
     "metadata": {
      "image/png": {
       "height": 420,
       "width": 420
      }
     },
     "output_type": "display_data"
    }
   ],
   "source": [
    "hist(datos$Occupancy, breaks = c(0, 0.5, 1 ),\n",
    "     col = \"#B04C7A\",\n",
    "     main = \"Histograma de la ocupación.\",\n",
    "     xlab = \"Ocupación\")"
   ]
  },
  {
   "cell_type": "code",
   "execution_count": 7,
   "id": "3163bc8f",
   "metadata": {},
   "outputs": [],
   "source": [
    "datos_1 <- datos[datos$Occupancy == 1, ]\n",
    "datos_0 <- datos[datos$Occupancy == 0, ]\n",
    "\n",
    "indices_1 <- sample(nrow(datos_1),\n",
    "                    size = nrow(datos_0) - nrow(datos_1),\n",
    "                    replace = TRUE)\n",
    "\n",
    "datos_balanceados <- rbind(datos,\n",
    "                           datos_1[indices_1, ])\n",
    "\n",
    "datos <- datos_balanceados"
   ]
  },
  {
   "cell_type": "code",
   "execution_count": 10,
   "id": "b0f72e4f",
   "metadata": {},
   "outputs": [
    {
     "data": {
      "text/html": [
       "<style>\n",
       ".list-inline {list-style: none; margin:0; padding: 0}\n",
       ".list-inline>li {display: inline-block}\n",
       ".list-inline>li:not(:last-child)::after {content: \"\\00b7\"; padding: 0 .5ex}\n",
       "</style>\n",
       "<ol class=list-inline><li>15406</li><li>10</li></ol>\n"
      ],
      "text/latex": [
       "\\begin{enumerate*}\n",
       "\\item 15406\n",
       "\\item 10\n",
       "\\end{enumerate*}\n"
      ],
      "text/markdown": [
       "1. 15406\n",
       "2. 10\n",
       "\n",
       "\n"
      ],
      "text/plain": [
       "[1] 15406    10"
      ]
     },
     "metadata": {},
     "output_type": "display_data"
    }
   ],
   "source": [
    "dim(datos)"
   ]
  },
  {
   "cell_type": "code",
   "execution_count": null,
   "id": "339c06a0",
   "metadata": {},
   "outputs": [],
   "source": [
    "hist(datos_balanceados$Occupancy, breaks = c(0, 0.5, 1 ),\n",
    "     col = \"#B04C7A\",\n",
    "     main = \"Histograma de la ocupación.\",\n",
    "     xlab = \"Ocupación\")"
   ]
  },
  {
   "cell_type": "code",
   "execution_count": 9,
   "id": "068d24a8",
   "metadata": {},
   "outputs": [],
   "source": []
  },
  {
   "cell_type": "code",
   "execution_count": null,
   "id": "1051d849",
   "metadata": {},
   "outputs": [],
   "source": []
  },
  {
   "cell_type": "code",
   "execution_count": null,
   "id": "503ed465",
   "metadata": {},
   "outputs": [],
   "source": [
    "boxplot(datos$DayOfWeek ~ datos$Occupancy,\n",
    "        ylab = \"Día de la semana\",\n",
    "        xlab = \"Ocupación\",\n",
    "        col = \"#E79C82\")"
   ]
  },
  {
   "cell_type": "code",
   "execution_count": null,
   "id": "51daaef1",
   "metadata": {},
   "outputs": [],
   "source": [
    "plot(datos$DayOfWeek,\n",
    "     datos$Occupancy,\n",
    "     ylab = \"Ocupación\",\n",
    "     xlab = \"Día de la semana\",\n",
    "     col = \"#E79C82\")"
   ]
  },
  {
   "cell_type": "code",
   "execution_count": null,
   "id": "93f1ee48",
   "metadata": {},
   "outputs": [],
   "source": [
    "boxplot(datos$HourOfDay ~ datos$Occupancy,\n",
    "        ylab = \"Hora del día\",\n",
    "        xlab = \"Ocupación\",\n",
    "        col = \"#E79C82\")"
   ]
  },
  {
   "cell_type": "code",
   "execution_count": null,
   "id": "5551ce62",
   "metadata": {},
   "outputs": [],
   "source": [
    "boxplot(datos$MinuteOfHour ~ datos$Occupancy,\n",
    "        ylab = \"Minuto de la hora\",\n",
    "        xlab = \"Ocupación\",\n",
    "        col = \"#E79C82\")"
   ]
  },
  {
   "cell_type": "code",
   "execution_count": null,
   "id": "278540e4",
   "metadata": {},
   "outputs": [],
   "source": [
    "plot(datos$WorkingTime,\n",
    "     datos$Occupancy,\n",
    "     ylab = \"Ocupación\",\n",
    "     xlab = \"Horario laboral\",\n",
    "     col = \"#E79C82\")"
   ]
  },
  {
   "cell_type": "code",
   "execution_count": null,
   "id": "e0c98348",
   "metadata": {},
   "outputs": [],
   "source": [
    "head(datos)"
   ]
  },
  {
   "cell_type": "code",
   "execution_count": null,
   "id": "e09daf76",
   "metadata": {},
   "outputs": [],
   "source": [
    "boxplot(datos$HumidityRatio ~ as.factor(datos$WorkingDay) + datos$Occupancy,\n",
    "        xlab = \"Ocupación\",\n",
    "        col = rainbow(2, s = 0.5))"
   ]
  },
  {
   "cell_type": "code",
   "execution_count": null,
   "id": "ad4d58b5",
   "metadata": {},
   "outputs": [],
   "source": [
    "hist(datos$DayOfWeek)"
   ]
  },
  {
   "cell_type": "code",
   "execution_count": null,
   "id": "c62b8d40",
   "metadata": {},
   "outputs": [],
   "source": [
    "hist(datos$Temperature,\n",
    "     main = \"Histograma de temperaturas\",\n",
    "     xlab = \"Temperatura\",\n",
    "     col = \"#D86036\")"
   ]
  },
  {
   "cell_type": "code",
   "execution_count": null,
   "id": "51a411de",
   "metadata": {},
   "outputs": [],
   "source": [
    "boxplot(datos$Temperature ~ datos$Occupancy,\n",
    "        ylab = \"Temperatura\",\n",
    "        xlab = \"Ocupación\",\n",
    "        col = \"#D86036\")"
   ]
  },
  {
   "cell_type": "code",
   "execution_count": null,
   "id": "77d1ce38",
   "metadata": {},
   "outputs": [],
   "source": [
    "plot(datos$Temperature,\n",
    "     datos$Occupancy,\n",
    "     ylab = \"Ocupación\",\n",
    "     xlab = \"Temperatura\",\n",
    "     col = \"#D86036\")"
   ]
  },
  {
   "cell_type": "code",
   "execution_count": null,
   "id": "05661084",
   "metadata": {},
   "outputs": [],
   "source": [
    "hist(datos$Humidity,\n",
    "     main = \"Histograma de humedad\",\n",
    "     xlab = \"Humedad\",\n",
    "     col = \"#CF2D4C\")"
   ]
  },
  {
   "cell_type": "code",
   "execution_count": null,
   "id": "25f3f58c",
   "metadata": {},
   "outputs": [],
   "source": [
    "boxplot(datos$Humidity ~ datos$Occupancy,\n",
    "        ylab = \"Humedad\",\n",
    "        xlab = \"Ocupación\",\n",
    "        col = \"#CF2D4C\")"
   ]
  },
  {
   "cell_type": "code",
   "execution_count": null,
   "id": "a1df425c",
   "metadata": {},
   "outputs": [],
   "source": [
    "plot(datos$Humidity,\n",
    "     datos$Occupancy,\n",
    "     ylab = \"Ocupación\",\n",
    "     xlab = \"Humedad\",\n",
    "     col = \"#CF2D4C\")"
   ]
  },
  {
   "cell_type": "code",
   "execution_count": null,
   "id": "fc036f3b",
   "metadata": {},
   "outputs": [],
   "source": [
    "hist(datos$Light,\n",
    "     main = \"Histograma de intensidad de luz\",\n",
    "     xlab = \"Intensidad de luz\",\n",
    "     col = \"#B04C7A\")"
   ]
  },
  {
   "cell_type": "code",
   "execution_count": null,
   "id": "7f505877",
   "metadata": {},
   "outputs": [],
   "source": [
    "boxplot(datos$Light ~ datos$Occupancy,\n",
    "        ylab = \"Intensidad de luz\",\n",
    "        xlab = \"Ocupación\",\n",
    "        col = \"#B04C7A\")"
   ]
  },
  {
   "cell_type": "code",
   "execution_count": null,
   "id": "f5e5a43e",
   "metadata": {},
   "outputs": [],
   "source": [
    "plot(datos$Light,\n",
    "     datos$Occupancy,\n",
    "     ylab = \"Ocupación\",\n",
    "     xlab = \"Intensidad de luz\",\n",
    "     col = \"#B04C7A\")"
   ]
  },
  {
   "cell_type": "code",
   "execution_count": null,
   "id": "14d11740",
   "metadata": {},
   "outputs": [],
   "source": [
    "hist(datos$CO2,\n",
    "     main = \"Histograma de concentración de CO2\",\n",
    "     xlab = \"Concentración de CO2\",\n",
    "     col = \"#623A6C\")"
   ]
  },
  {
   "cell_type": "code",
   "execution_count": null,
   "id": "fd01e77c",
   "metadata": {},
   "outputs": [],
   "source": [
    "boxplot(datos$CO2 ~ datos$Occupancy,\n",
    "        ylab = \"CO2\",\n",
    "        xlab = \"Concentración de CO2\",\n",
    "        col = \"#623A6C\")"
   ]
  },
  {
   "cell_type": "code",
   "execution_count": null,
   "id": "7d47fb64",
   "metadata": {},
   "outputs": [],
   "source": [
    "plot(datos$CO2,\n",
    "     datos$Occupancy,\n",
    "     ylab = \"Ocupación\",\n",
    "     xlab = \"Concentración de CO2\",\n",
    "     col = \"#623A6C\")"
   ]
  },
  {
   "cell_type": "code",
   "execution_count": null,
   "id": "770e3c46",
   "metadata": {},
   "outputs": [],
   "source": [
    "hist(datos$HumidityRatio,\n",
    "     main = \"Histograma de tasa de humedad.\",\n",
    "     xlab = \"Tasa de humedad\",\n",
    "     col = \"#545E66\")"
   ]
  },
  {
   "cell_type": "code",
   "execution_count": null,
   "id": "8fdc109e",
   "metadata": {},
   "outputs": [],
   "source": [
    "boxplot(datos$HumidityRatio ~ datos$Occupancy,\n",
    "        ylab = \"Tasa de humedad\",\n",
    "        xlab = \"Tasa de humedad\",\n",
    "        col = \"#545E66\")"
   ]
  },
  {
   "cell_type": "code",
   "execution_count": null,
   "id": "46c1ae1b",
   "metadata": {},
   "outputs": [],
   "source": [
    "plot(datos$HumidityRatio,\n",
    "     datos$Occupancy,\n",
    "     ylab = \"Ocupación\",\n",
    "     xlab = \"Tasa de humedad\",\n",
    "     col = \"#545E66\")"
   ]
  },
  {
   "cell_type": "code",
   "execution_count": 11,
   "id": "2612fb92",
   "metadata": {},
   "outputs": [
    {
     "data": {
      "text/html": [
       "<table class=\"dataframe\">\n",
       "<caption>A data.frame: 6 × 9</caption>\n",
       "<thead>\n",
       "\t<tr><th></th><th scope=col>Temperature</th><th scope=col>Humidity</th><th scope=col>Light</th><th scope=col>CO2</th><th scope=col>DayOfWeek</th><th scope=col>WorkingTime</th><th scope=col>HourOfDay</th><th scope=col>MinuteOfHour</th><th scope=col>Occupancy</th></tr>\n",
       "\t<tr><th></th><th scope=col>&lt;dbl&gt;</th><th scope=col>&lt;dbl&gt;</th><th scope=col>&lt;dbl&gt;</th><th scope=col>&lt;dbl&gt;</th><th scope=col>&lt;dbl&gt;</th><th scope=col>&lt;dbl&gt;</th><th scope=col>&lt;dbl&gt;</th><th scope=col>&lt;dbl&gt;</th><th scope=col>&lt;dbl&gt;</th></tr>\n",
       "</thead>\n",
       "<tbody>\n",
       "\t<tr><th scope=row>1</th><td>21.7600</td><td>31.13333</td><td>437.3333</td><td>1029.667</td><td>3</td><td>1</td><td>14</td><td>48</td><td>1</td></tr>\n",
       "\t<tr><th scope=row>2</th><td>21.7900</td><td>31.00000</td><td>437.3333</td><td>1000.000</td><td>3</td><td>1</td><td>14</td><td>49</td><td>1</td></tr>\n",
       "\t<tr><th scope=row>3</th><td>21.7675</td><td>31.12250</td><td>434.0000</td><td>1003.750</td><td>3</td><td>1</td><td>14</td><td>50</td><td>1</td></tr>\n",
       "\t<tr><th scope=row>4</th><td>21.7675</td><td>31.12250</td><td>439.0000</td><td>1009.500</td><td>3</td><td>1</td><td>14</td><td>51</td><td>1</td></tr>\n",
       "\t<tr><th scope=row>5</th><td>21.7900</td><td>31.13333</td><td>437.3333</td><td>1005.667</td><td>3</td><td>1</td><td>14</td><td>52</td><td>1</td></tr>\n",
       "\t<tr><th scope=row>6</th><td>21.7600</td><td>31.26000</td><td>437.3333</td><td>1014.333</td><td>3</td><td>1</td><td>14</td><td>53</td><td>1</td></tr>\n",
       "</tbody>\n",
       "</table>\n"
      ],
      "text/latex": [
       "A data.frame: 6 × 9\n",
       "\\begin{tabular}{r|lllllllll}\n",
       "  & Temperature & Humidity & Light & CO2 & DayOfWeek & WorkingTime & HourOfDay & MinuteOfHour & Occupancy\\\\\n",
       "  & <dbl> & <dbl> & <dbl> & <dbl> & <dbl> & <dbl> & <dbl> & <dbl> & <dbl>\\\\\n",
       "\\hline\n",
       "\t1 & 21.7600 & 31.13333 & 437.3333 & 1029.667 & 3 & 1 & 14 & 48 & 1\\\\\n",
       "\t2 & 21.7900 & 31.00000 & 437.3333 & 1000.000 & 3 & 1 & 14 & 49 & 1\\\\\n",
       "\t3 & 21.7675 & 31.12250 & 434.0000 & 1003.750 & 3 & 1 & 14 & 50 & 1\\\\\n",
       "\t4 & 21.7675 & 31.12250 & 439.0000 & 1009.500 & 3 & 1 & 14 & 51 & 1\\\\\n",
       "\t5 & 21.7900 & 31.13333 & 437.3333 & 1005.667 & 3 & 1 & 14 & 52 & 1\\\\\n",
       "\t6 & 21.7600 & 31.26000 & 437.3333 & 1014.333 & 3 & 1 & 14 & 53 & 1\\\\\n",
       "\\end{tabular}\n"
      ],
      "text/markdown": [
       "\n",
       "A data.frame: 6 × 9\n",
       "\n",
       "| <!--/--> | Temperature &lt;dbl&gt; | Humidity &lt;dbl&gt; | Light &lt;dbl&gt; | CO2 &lt;dbl&gt; | DayOfWeek &lt;dbl&gt; | WorkingTime &lt;dbl&gt; | HourOfDay &lt;dbl&gt; | MinuteOfHour &lt;dbl&gt; | Occupancy &lt;dbl&gt; |\n",
       "|---|---|---|---|---|---|---|---|---|---|\n",
       "| 1 | 21.7600 | 31.13333 | 437.3333 | 1029.667 | 3 | 1 | 14 | 48 | 1 |\n",
       "| 2 | 21.7900 | 31.00000 | 437.3333 | 1000.000 | 3 | 1 | 14 | 49 | 1 |\n",
       "| 3 | 21.7675 | 31.12250 | 434.0000 | 1003.750 | 3 | 1 | 14 | 50 | 1 |\n",
       "| 4 | 21.7675 | 31.12250 | 439.0000 | 1009.500 | 3 | 1 | 14 | 51 | 1 |\n",
       "| 5 | 21.7900 | 31.13333 | 437.3333 | 1005.667 | 3 | 1 | 14 | 52 | 1 |\n",
       "| 6 | 21.7600 | 31.26000 | 437.3333 | 1014.333 | 3 | 1 | 14 | 53 | 1 |\n",
       "\n"
      ],
      "text/plain": [
       "  Temperature Humidity Light    CO2      DayOfWeek WorkingTime HourOfDay\n",
       "1 21.7600     31.13333 437.3333 1029.667 3         1           14       \n",
       "2 21.7900     31.00000 437.3333 1000.000 3         1           14       \n",
       "3 21.7675     31.12250 434.0000 1003.750 3         1           14       \n",
       "4 21.7675     31.12250 439.0000 1009.500 3         1           14       \n",
       "5 21.7900     31.13333 437.3333 1005.667 3         1           14       \n",
       "6 21.7600     31.26000 437.3333 1014.333 3         1           14       \n",
       "  MinuteOfHour Occupancy\n",
       "1 48           1        \n",
       "2 49           1        \n",
       "3 50           1        \n",
       "4 51           1        \n",
       "5 52           1        \n",
       "6 53           1        "
      ]
     },
     "metadata": {},
     "output_type": "display_data"
    }
   ],
   "source": [
    "datos_trans <- as.data.frame(model.matrix(Occupancy ~ . - HumidityRatio - 1,\n",
    "                                          data = datos))\n",
    "\n",
    "#+ (HourOfDay) * (Temperature + Humidity)\n",
    "#+ (DayOfWeek) * (Temperature)\n",
    "#+ (WorkingTime) * (Temperature + Humidity + Light + CO2)\n",
    "\n",
    "datos_trans$Occupancy <- datos$Occupancy\n",
    "head(datos_trans)"
   ]
  },
  {
   "cell_type": "code",
   "execution_count": 12,
   "id": "a8602539",
   "metadata": {
    "scrolled": false
   },
   "outputs": [
    {
     "data": {
      "text/plain": [
       "\n",
       "Call:\n",
       "glm(formula = Occupancy ~ ., family = \"binomial\", data = datos_trans)\n",
       "\n",
       "Deviance Residuals: \n",
       "    Min       1Q   Median       3Q      Max  \n",
       "-4.0611   0.0000   0.0000   0.0937   3.2479  \n",
       "\n",
       "Coefficients:\n",
       "               Estimate Std. Error z value Pr(>|z|)    \n",
       "(Intercept)  -1.279e+01  5.189e+02  -0.025 0.980344    \n",
       "Temperature  -8.684e-01  1.388e-01  -6.255 3.97e-10 ***\n",
       "Humidity      1.765e-01  5.387e-02   3.276 0.001053 ** \n",
       "Light         2.063e-02  6.711e-04  30.747  < 2e-16 ***\n",
       "CO2           4.949e-05  5.877e-04   0.084 0.932881    \n",
       "DayOfWeek    -2.582e-01  1.086e-01  -2.377 0.017446 *  \n",
       "WorkingTime   2.044e+01  5.189e+02   0.039 0.968582    \n",
       "HourOfDay     1.920e-01  5.003e-02   3.837 0.000124 ***\n",
       "MinuteOfHour -3.991e-03  6.322e-03  -0.631 0.527818    \n",
       "---\n",
       "Signif. codes:  0 ‘***’ 0.001 ‘**’ 0.01 ‘*’ 0.05 ‘.’ 0.1 ‘ ’ 1\n",
       "\n",
       "(Dispersion parameter for binomial family taken to be 1)\n",
       "\n",
       "    Null deviance: 21357.25  on 15405  degrees of freedom\n",
       "Residual deviance:   827.91  on 15397  degrees of freedom\n",
       "AIC: 845.91\n",
       "\n",
       "Number of Fisher Scoring iterations: 21\n"
      ]
     },
     "metadata": {},
     "output_type": "display_data"
    }
   ],
   "source": [
    "modelo_comp <- glm(Occupancy ~ ., data = datos_trans, family = \"binomial\")\n",
    "sm <- summary(modelo_comp)\n",
    "sm"
   ]
  },
  {
   "cell_type": "code",
   "execution_count": 13,
   "id": "a3979b34",
   "metadata": {},
   "outputs": [
    {
     "data": {
      "text/html": [
       "<style>\n",
       ".dl-inline {width: auto; margin:0; padding: 0}\n",
       ".dl-inline>dt, .dl-inline>dd {float: none; width: auto; display: inline-block}\n",
       ".dl-inline>dt::after {content: \":\\0020\"; padding-right: .5ex}\n",
       ".dl-inline>dt:not(:first-of-type) {padding-left: .5ex}\n",
       "</style><dl class=dl-inline><dt>Temperature</dt><dd>1.92951938009982</dd><dt>Humidity</dt><dd>3.27114934808882</dd><dt>Light</dt><dd>1.2376638314578</dd><dt>CO2</dt><dd>2.14613133482829</dd><dt>DayOfWeek</dt><dd>1.96417340112003</dd><dt>WorkingTime</dt><dd>1.00000043631153</dd><dt>HourOfDay</dt><dd>2.58004861737645</dd><dt>MinuteOfHour</dt><dd>1.03440927080421</dd></dl>\n"
      ],
      "text/latex": [
       "\\begin{description*}\n",
       "\\item[Temperature] 1.92951938009982\n",
       "\\item[Humidity] 3.27114934808882\n",
       "\\item[Light] 1.2376638314578\n",
       "\\item[CO2] 2.14613133482829\n",
       "\\item[DayOfWeek] 1.96417340112003\n",
       "\\item[WorkingTime] 1.00000043631153\n",
       "\\item[HourOfDay] 2.58004861737645\n",
       "\\item[MinuteOfHour] 1.03440927080421\n",
       "\\end{description*}\n"
      ],
      "text/markdown": [
       "Temperature\n",
       ":   1.92951938009982Humidity\n",
       ":   3.27114934808882Light\n",
       ":   1.2376638314578CO2\n",
       ":   2.14613133482829DayOfWeek\n",
       ":   1.96417340112003WorkingTime\n",
       ":   1.00000043631153HourOfDay\n",
       ":   2.58004861737645MinuteOfHour\n",
       ":   1.03440927080421\n",
       "\n"
      ],
      "text/plain": [
       " Temperature     Humidity        Light          CO2    DayOfWeek  WorkingTime \n",
       "    1.929519     3.271149     1.237664     2.146131     1.964173     1.000000 \n",
       "   HourOfDay MinuteOfHour \n",
       "    2.580049     1.034409 "
      ]
     },
     "metadata": {},
     "output_type": "display_data"
    }
   ],
   "source": [
    "car::vif(modelo_comp)"
   ]
  },
  {
   "cell_type": "code",
   "execution_count": 21,
   "id": "fd1d2f24",
   "metadata": {},
   "outputs": [
    {
     "name": "stderr",
     "output_type": "stream",
     "text": [
      "Warning message:\n",
      "“glm.fit: fitted probabilities numerically 0 or 1 occurred”\n"
     ]
    },
    {
     "data": {
      "text/plain": [
       "\n",
       "Call:\n",
       "glm(formula = Occupancy ~ . - CO2 - WorkingTime - MinuteOfHour, \n",
       "    family = \"binomial\", data = datos_trans)\n",
       "\n",
       "Deviance Residuals: \n",
       "    Min       1Q   Median       3Q      Max  \n",
       "-4.3768  -0.0340  -0.0022   0.0686   3.8481  \n",
       "\n",
       "Coefficients:\n",
       "              Estimate Std. Error z value Pr(>|z|)    \n",
       "(Intercept) -4.0713498  2.7504148  -1.480  0.13880    \n",
       "Temperature -0.2614219  0.1072073  -2.438  0.01475 *  \n",
       "Humidity     0.1010733  0.0362096   2.791  0.00525 ** \n",
       "Light        0.0264527  0.0007318  36.149  < 2e-16 ***\n",
       "DayOfWeek   -0.8310600  0.0679529 -12.230  < 2e-16 ***\n",
       "HourOfDay    0.1708129  0.0303633   5.626 1.85e-08 ***\n",
       "---\n",
       "Signif. codes:  0 ‘***’ 0.001 ‘**’ 0.01 ‘*’ 0.05 ‘.’ 0.1 ‘ ’ 1\n",
       "\n",
       "(Dispersion parameter for binomial family taken to be 1)\n",
       "\n",
       "    Null deviance: 21357.3  on 15405  degrees of freedom\n",
       "Residual deviance:  1000.7  on 15400  degrees of freedom\n",
       "AIC: 1012.7\n",
       "\n",
       "Number of Fisher Scoring iterations: 9\n"
      ]
     },
     "metadata": {},
     "output_type": "display_data"
    }
   ],
   "source": [
    "modelo_comp_red <- glm(Occupancy ~ . - CO2 - WorkingTime - MinuteOfHour, data = datos_trans, family = \"binomial\")\n",
    "sm <- summary(modelo_comp_red)\n",
    "sm"
   ]
  },
  {
   "cell_type": "code",
   "execution_count": 16,
   "id": "df41f1e9",
   "metadata": {},
   "outputs": [
    {
     "data": {
      "text/html": [
       "<style>\n",
       ".dl-inline {width: auto; margin:0; padding: 0}\n",
       ".dl-inline>dt, .dl-inline>dd {float: none; width: auto; display: inline-block}\n",
       ".dl-inline>dt::after {content: \":\\0020\"; padding-right: .5ex}\n",
       ".dl-inline>dt:not(:first-of-type) {padding-left: .5ex}\n",
       "</style><dl class=dl-inline><dt>Temperature</dt><dd>1.56713140133082</dd><dt>Humidity</dt><dd>1.81681197997674</dd><dt>Light</dt><dd>1.48901869600764</dd><dt>DayOfWeek</dt><dd>1.37797283833993</dd><dt>HourOfDay</dt><dd>1.88780179412608</dd></dl>\n"
      ],
      "text/latex": [
       "\\begin{description*}\n",
       "\\item[Temperature] 1.56713140133082\n",
       "\\item[Humidity] 1.81681197997674\n",
       "\\item[Light] 1.48901869600764\n",
       "\\item[DayOfWeek] 1.37797283833993\n",
       "\\item[HourOfDay] 1.88780179412608\n",
       "\\end{description*}\n"
      ],
      "text/markdown": [
       "Temperature\n",
       ":   1.56713140133082Humidity\n",
       ":   1.81681197997674Light\n",
       ":   1.48901869600764DayOfWeek\n",
       ":   1.37797283833993HourOfDay\n",
       ":   1.88780179412608\n",
       "\n"
      ],
      "text/plain": [
       "Temperature    Humidity       Light   DayOfWeek   HourOfDay \n",
       "   1.567131    1.816812    1.489019    1.377973    1.887802 "
      ]
     },
     "metadata": {},
     "output_type": "display_data"
    }
   ],
   "source": [
    "car::vif(modelo_comp_red)"
   ]
  },
  {
   "cell_type": "code",
   "execution_count": 17,
   "id": "9c9f67c7",
   "metadata": {
    "scrolled": false
   },
   "outputs": [
    {
     "data": {
      "image/png": "[encoded data removed]",
      "text/plain": [
       "Plot with title “”"
      ]
     },
     "metadata": {
      "image/png": {
       "height": 420,
       "width": 420
      }
     },
     "output_type": "display_data"
    },
    {
     "data": {
      "image/png": "[encoded data removed]",
      "text/plain": [
       "Plot with title “”"
      ]
     },
     "metadata": {
      "image/png": {
       "height": 420,
       "width": 420
      }
     },
     "output_type": "display_data"
    },
    {
     "data": {
      "image/png": "[encoded data removed]",
      "text/plain": [
       "Plot with title “”"
      ]
     },
     "metadata": {
      "image/png": {
       "height": 420,
       "width": 420
      }
     },
     "output_type": "display_data"
    },
    {
     "data": {
      "image/png": "[encoded data removed]",
      "text/plain": [
       "Plot with title “”"
      ]
     },
     "metadata": {
      "image/png": {
       "height": 420,
       "width": 420
      }
     },
     "output_type": "display_data"
    }
   ],
   "source": [
    "plot(modelo_comp_red)"
   ]
  },
  {
   "cell_type": "code",
   "execution_count": 18,
   "id": "3040cf7d",
   "metadata": {},
   "outputs": [
    {
     "data": {
      "text/plain": [
       "\n",
       "Call:\n",
       "glm(formula = Occupancy ~ 1, family = \"binomial\", data = datos_trans)\n",
       "\n",
       "Deviance Residuals: \n",
       "   Min      1Q  Median      3Q     Max  \n",
       "-1.177  -1.177   0.000   1.177   1.177  \n",
       "\n",
       "Coefficients:\n",
       "              Estimate Std. Error z value Pr(>|z|)\n",
       "(Intercept) -1.716e-16  1.611e-02       0        1\n",
       "\n",
       "(Dispersion parameter for binomial family taken to be 1)\n",
       "\n",
       "    Null deviance: 21357  on 15405  degrees of freedom\n",
       "Residual deviance: 21357  on 15405  degrees of freedom\n",
       "AIC: 21359\n",
       "\n",
       "Number of Fisher Scoring iterations: 2\n"
      ]
     },
     "metadata": {},
     "output_type": "display_data"
    }
   ],
   "source": [
    "modelo_inter <- glm(Occupancy ~ 1, data = datos_trans, family = \"binomial\")\n",
    "sm <- summary(modelo_inter)\n",
    "sm"
   ]
  },
  {
   "cell_type": "code",
   "execution_count": 19,
   "id": "f37dbbe3",
   "metadata": {
    "scrolled": true
   },
   "outputs": [
    {
     "data": {
      "text/html": [
       "<table class=\"dataframe\">\n",
       "<caption>A anova: 2 × 5</caption>\n",
       "<thead>\n",
       "\t<tr><th></th><th scope=col>Resid. Df</th><th scope=col>Resid. Dev</th><th scope=col>Df</th><th scope=col>Deviance</th><th scope=col>Pr(&gt;Chi)</th></tr>\n",
       "\t<tr><th></th><th scope=col>&lt;dbl&gt;</th><th scope=col>&lt;dbl&gt;</th><th scope=col>&lt;dbl&gt;</th><th scope=col>&lt;dbl&gt;</th><th scope=col>&lt;dbl&gt;</th></tr>\n",
       "</thead>\n",
       "<tbody>\n",
       "\t<tr><th scope=row>1</th><td>15400</td><td> 1000.748</td><td>NA</td><td>      NA</td><td>NA</td></tr>\n",
       "\t<tr><th scope=row>2</th><td>15405</td><td>21357.251</td><td>-5</td><td>-20356.5</td><td> 0</td></tr>\n",
       "</tbody>\n",
       "</table>\n"
      ],
      "text/latex": [
       "A anova: 2 × 5\n",
       "\\begin{tabular}{r|lllll}\n",
       "  & Resid. Df & Resid. Dev & Df & Deviance & Pr(>Chi)\\\\\n",
       "  & <dbl> & <dbl> & <dbl> & <dbl> & <dbl>\\\\\n",
       "\\hline\n",
       "\t1 & 15400 &  1000.748 & NA &       NA & NA\\\\\n",
       "\t2 & 15405 & 21357.251 & -5 & -20356.5 &  0\\\\\n",
       "\\end{tabular}\n"
      ],
      "text/markdown": [
       "\n",
       "A anova: 2 × 5\n",
       "\n",
       "| <!--/--> | Resid. Df &lt;dbl&gt; | Resid. Dev &lt;dbl&gt; | Df &lt;dbl&gt; | Deviance &lt;dbl&gt; | Pr(&gt;Chi) &lt;dbl&gt; |\n",
       "|---|---|---|---|---|---|\n",
       "| 1 | 15400 |  1000.748 | NA |       NA | NA |\n",
       "| 2 | 15405 | 21357.251 | -5 | -20356.5 |  0 |\n",
       "\n"
      ],
      "text/plain": [
       "  Resid. Df Resid. Dev Df Deviance Pr(>Chi)\n",
       "1 15400      1000.748  NA       NA NA      \n",
       "2 15405     21357.251  -5 -20356.5  0      "
      ]
     },
     "metadata": {},
     "output_type": "display_data"
    }
   ],
   "source": [
    "anova(modelo_comp_red, modelo_inter, test = \"LRT\")"
   ]
  },
  {
   "cell_type": "code",
   "execution_count": 22,
   "id": "cddd4932",
   "metadata": {},
   "outputs": [
    {
     "name": "stderr",
     "output_type": "stream",
     "text": [
      "Warning message:\n",
      "“glm.fit: fitted probabilities numerically 0 or 1 occurred”\n"
     ]
    },
    {
     "data": {
      "text/plain": [
       "\n",
       "Call:\n",
       "glm(formula = Occupancy ~ . - CO2 - WorkingTime - MinuteOfHour - \n",
       "    1, family = \"binomial\", data = datos_trans)\n",
       "\n",
       "Deviance Residuals: \n",
       "    Min       1Q   Median       3Q      Max  \n",
       "-4.3864  -0.0342  -0.0022   0.0740   3.8579  \n",
       "\n",
       "Coefficients:\n",
       "              Estimate Std. Error z value Pr(>|z|)    \n",
       "Temperature -0.4123057  0.0345435 -11.936  < 2e-16 ***\n",
       "Humidity     0.0653121  0.0270582   2.414   0.0158 *  \n",
       "Light        0.0265514  0.0007267  36.536  < 2e-16 ***\n",
       "DayOfWeek   -0.8046363  0.0645828 -12.459  < 2e-16 ***\n",
       "HourOfDay    0.1788001  0.0294389   6.074 1.25e-09 ***\n",
       "---\n",
       "Signif. codes:  0 ‘***’ 0.001 ‘**’ 0.01 ‘*’ 0.05 ‘.’ 0.1 ‘ ’ 1\n",
       "\n",
       "(Dispersion parameter for binomial family taken to be 1)\n",
       "\n",
       "    Null deviance: 21357.3  on 15406  degrees of freedom\n",
       "Residual deviance:  1002.9  on 15401  degrees of freedom\n",
       "AIC: 1012.9\n",
       "\n",
       "Number of Fisher Scoring iterations: 9\n"
      ]
     },
     "metadata": {},
     "output_type": "display_data"
    }
   ],
   "source": [
    "modelo_comp_red_2 <- glm(Occupancy ~ . - CO2 - WorkingTime - MinuteOfHour - 1, data = datos_trans, family = \"binomial\")\n",
    "sm <- summary(modelo_comp_red_2)\n",
    "sm"
   ]
  },
  {
   "cell_type": "code",
   "execution_count": 23,
   "id": "3da354c3",
   "metadata": {},
   "outputs": [
    {
     "name": "stderr",
     "output_type": "stream",
     "text": [
      "Warning message in vif.default(modelo_comp_red_2):\n",
      "“No intercept: vifs may not be sensible.”\n"
     ]
    },
    {
     "data": {
      "text/html": [
       "<style>\n",
       ".dl-inline {width: auto; margin:0; padding: 0}\n",
       ".dl-inline>dt, .dl-inline>dd {float: none; width: auto; display: inline-block}\n",
       ".dl-inline>dt::after {content: \":\\0020\"; padding-right: .5ex}\n",
       ".dl-inline>dt:not(:first-of-type) {padding-left: .5ex}\n",
       "</style><dl class=dl-inline><dt>Temperature</dt><dd>58.7202221917398</dd><dt>Humidity</dt><dd>62.1383863932228</dd><dt>Light</dt><dd>7.20691131093429</dd><dt>DayOfWeek</dt><dd>7.17580470537004</dd><dt>HourOfDay</dt><dd>19.3403488991166</dd></dl>\n"
      ],
      "text/latex": [
       "\\begin{description*}\n",
       "\\item[Temperature] 58.7202221917398\n",
       "\\item[Humidity] 62.1383863932228\n",
       "\\item[Light] 7.20691131093429\n",
       "\\item[DayOfWeek] 7.17580470537004\n",
       "\\item[HourOfDay] 19.3403488991166\n",
       "\\end{description*}\n"
      ],
      "text/markdown": [
       "Temperature\n",
       ":   58.7202221917398Humidity\n",
       ":   62.1383863932228Light\n",
       ":   7.20691131093429DayOfWeek\n",
       ":   7.17580470537004HourOfDay\n",
       ":   19.3403488991166\n",
       "\n"
      ],
      "text/plain": [
       "Temperature    Humidity       Light   DayOfWeek   HourOfDay \n",
       "  58.720222   62.138386    7.206911    7.175805   19.340349 "
      ]
     },
     "metadata": {},
     "output_type": "display_data"
    }
   ],
   "source": [
    "car::vif(modelo_comp_red_2)"
   ]
  },
  {
   "cell_type": "code",
   "execution_count": 24,
   "id": "1fe32e30",
   "metadata": {},
   "outputs": [
    {
     "data": {
      "text/html": [
       "<table class=\"dataframe\">\n",
       "<caption>A anova: 2 × 5</caption>\n",
       "<thead>\n",
       "\t<tr><th></th><th scope=col>Resid. Df</th><th scope=col>Resid. Dev</th><th scope=col>Df</th><th scope=col>Deviance</th><th scope=col>Pr(&gt;Chi)</th></tr>\n",
       "\t<tr><th></th><th scope=col>&lt;dbl&gt;</th><th scope=col>&lt;dbl&gt;</th><th scope=col>&lt;dbl&gt;</th><th scope=col>&lt;dbl&gt;</th><th scope=col>&lt;dbl&gt;</th></tr>\n",
       "</thead>\n",
       "<tbody>\n",
       "\t<tr><th scope=row>1</th><td>15400</td><td>1000.748</td><td>NA</td><td>       NA</td><td>       NA</td></tr>\n",
       "\t<tr><th scope=row>2</th><td>15401</td><td>1002.869</td><td>-1</td><td>-2.120923</td><td>0.1452989</td></tr>\n",
       "</tbody>\n",
       "</table>\n"
      ],
      "text/latex": [
       "A anova: 2 × 5\n",
       "\\begin{tabular}{r|lllll}\n",
       "  & Resid. Df & Resid. Dev & Df & Deviance & Pr(>Chi)\\\\\n",
       "  & <dbl> & <dbl> & <dbl> & <dbl> & <dbl>\\\\\n",
       "\\hline\n",
       "\t1 & 15400 & 1000.748 & NA &        NA &        NA\\\\\n",
       "\t2 & 15401 & 1002.869 & -1 & -2.120923 & 0.1452989\\\\\n",
       "\\end{tabular}\n"
      ],
      "text/markdown": [
       "\n",
       "A anova: 2 × 5\n",
       "\n",
       "| <!--/--> | Resid. Df &lt;dbl&gt; | Resid. Dev &lt;dbl&gt; | Df &lt;dbl&gt; | Deviance &lt;dbl&gt; | Pr(&gt;Chi) &lt;dbl&gt; |\n",
       "|---|---|---|---|---|---|\n",
       "| 1 | 15400 | 1000.748 | NA |        NA |        NA |\n",
       "| 2 | 15401 | 1002.869 | -1 | -2.120923 | 0.1452989 |\n",
       "\n"
      ],
      "text/plain": [
       "  Resid. Df Resid. Dev Df Deviance  Pr(>Chi) \n",
       "1 15400     1000.748   NA        NA        NA\n",
       "2 15401     1002.869   -1 -2.120923 0.1452989"
      ]
     },
     "metadata": {},
     "output_type": "display_data"
    }
   ],
   "source": [
    "anova(modelo_comp_red, modelo_comp_red_2, test = \"LRT\")"
   ]
  },
  {
   "cell_type": "code",
   "execution_count": null,
   "id": "692c5975",
   "metadata": {},
   "outputs": [],
   "source": [
    "modelo_simp <- glm(Occupancy ~ . -1 - Temperature - Humidity - MinuteOfHour, data = datos_trans, family = \"binomial\")\n",
    "sm <- summary(modelo_simp)\n",
    "sm"
   ]
  },
  {
   "cell_type": "code",
   "execution_count": null,
   "id": "0f86d10c",
   "metadata": {},
   "outputs": [],
   "source": [
    "car::vif(modelo_simp)"
   ]
  },
  {
   "cell_type": "code",
   "execution_count": null,
   "id": "6816ca4c",
   "metadata": {},
   "outputs": [],
   "source": [
    "ep <- summary(modelo_simp)$null.deviance - summary(modelo_simp)$deviance\n",
    "p_value <- 1 - pchisq(ep, df = 6)\n",
    "p_value"
   ]
  },
  {
   "cell_type": "code",
   "execution_count": null,
   "id": "2ae77c44",
   "metadata": {},
   "outputs": [],
   "source": [
    "modelo_simp_red <- glm(Occupancy ~ . - 1 - Temperature - Humidity - WorkingTime, data = datos_trans, family = \"binomial\")\n",
    "sm <- summary(modelo_simp_red)\n",
    "sm"
   ]
  },
  {
   "cell_type": "code",
   "execution_count": null,
   "id": "5f02ebd7",
   "metadata": {},
   "outputs": [],
   "source": [
    "anova(modelo_simp, modelo_simp_red, test = \"LRT\")"
   ]
  },
  {
   "cell_type": "code",
   "execution_count": null,
   "id": "63b964e9",
   "metadata": {},
   "outputs": [],
   "source": [
    "plot(modelo_simp)"
   ]
  },
  {
   "cell_type": "code",
   "execution_count": null,
   "id": "ac029012",
   "metadata": {},
   "outputs": [],
   "source": [
    "modelo_simp_red <- glm(Occupancy ~ -(.) + Temperature, data = datos_trans, family = \"binomial\")\n",
    "sm <- summary(modelo_simp_red)\n",
    "sm"
   ]
  },
  {
   "cell_type": "code",
   "execution_count": null,
   "id": "4adfc48c",
   "metadata": {
    "scrolled": false
   },
   "outputs": [],
   "source": [
    "# Sobredispersión\n",
    "DHARMa::testDispersion(modelo_comp_red)\n",
    "\n",
    "simulationOutput <- DHARMa::simulateResiduals(fittedModel = modelo_comp_red, alternative = \"greater\")\n",
    "plot(simulationOutput, asFactor = TRUE)\n",
    "\n"
   ]
  },
  {
   "cell_type": "code",
   "execution_count": null,
   "id": "dd03bec2",
   "metadata": {},
   "outputs": [],
   "source": [
    "DHARMa::plotResiduals(simulationOutput, datos$Humidity, quantreg = T)"
   ]
  },
  {
   "cell_type": "code",
   "execution_count": null,
   "id": "0e2cfed4",
   "metadata": {},
   "outputs": [],
   "source": [
    "range(modelo_comp_red$residuals)"
   ]
  },
  {
   "cell_type": "code",
   "execution_count": null,
   "id": "bb9a9a70",
   "metadata": {},
   "outputs": [],
   "source": [
    "modelo_simp_probit <- glm(Occupancy ~ . - 1 - Temperature - Humidity, data = datos_trans, family = binomial(link = \"probit\"))\n",
    "sm <- summary(modelo_simp_probit)\n",
    "sm"
   ]
  },
  {
   "cell_type": "code",
   "execution_count": null,
   "id": "cc06d3e8",
   "metadata": {},
   "outputs": [],
   "source": [
    "plot(modelo_simp_probit)"
   ]
  },
  {
   "cell_type": "code",
   "execution_count": null,
   "id": "b6fa19b9",
   "metadata": {},
   "outputs": [],
   "source": [
    "car::vif(modelo_simp)"
   ]
  },
  {
   "cell_type": "code",
   "execution_count": null,
   "id": "d08cb2d8",
   "metadata": {
    "scrolled": true
   },
   "outputs": [],
   "source": [
    "plot(dates, modelo_comp_red$residuals[1:length(dates)])"
   ]
  },
  {
   "cell_type": "markdown",
   "id": "a218ce88",
   "metadata": {},
   "source": [
    "## Modelo definitivo"
   ]
  },
  {
   "cell_type": "code",
   "execution_count": 85,
   "id": "c9c9bb51",
   "metadata": {},
   "outputs": [
    {
     "name": "stderr",
     "output_type": "stream",
     "text": [
      "Warning message:\n",
      "“glm.fit: fitted probabilities numerically 0 or 1 occurred”\n"
     ]
    },
    {
     "data": {
      "text/plain": [
       "\n",
       "Call:\n",
       "glm(formula = Occupancy ~ . - CO2 - WorkingTime - MinuteOfHour, \n",
       "    family = \"binomial\", data = datos_trans)\n",
       "\n",
       "Deviance Residuals: \n",
       "    Min       1Q   Median       3Q      Max  \n",
       "-4.3768  -0.0340  -0.0022   0.0686   3.8481  \n",
       "\n",
       "Coefficients:\n",
       "              Estimate Std. Error z value Pr(>|z|)    \n",
       "(Intercept) -4.0713498  2.7504148  -1.480  0.13880    \n",
       "Temperature -0.2614219  0.1072073  -2.438  0.01475 *  \n",
       "Humidity     0.1010733  0.0362096   2.791  0.00525 ** \n",
       "Light        0.0264527  0.0007318  36.149  < 2e-16 ***\n",
       "DayOfWeek   -0.8310600  0.0679529 -12.230  < 2e-16 ***\n",
       "HourOfDay    0.1708129  0.0303633   5.626 1.85e-08 ***\n",
       "---\n",
       "Signif. codes:  0 ‘***’ 0.001 ‘**’ 0.01 ‘*’ 0.05 ‘.’ 0.1 ‘ ’ 1\n",
       "\n",
       "(Dispersion parameter for binomial family taken to be 1)\n",
       "\n",
       "    Null deviance: 21357.3  on 15405  degrees of freedom\n",
       "Residual deviance:  1000.7  on 15400  degrees of freedom\n",
       "AIC: 1012.7\n",
       "\n",
       "Number of Fisher Scoring iterations: 9\n"
      ]
     },
     "metadata": {},
     "output_type": "display_data"
    }
   ],
   "source": [
    "modelo_comp_red <- glm(Occupancy ~ . - CO2 - WorkingTime - MinuteOfHour, data = datos_trans, family = \"binomial\")\n",
    "sm <- summary(modelo_comp_red)\n",
    "sm"
   ]
  },
  {
   "cell_type": "code",
   "execution_count": 86,
   "id": "5c61f366",
   "metadata": {
    "scrolled": true
   },
   "outputs": [
    {
     "name": "stderr",
     "output_type": "stream",
     "text": [
      "Waiting for profiling to be done...\n",
      "\n",
      "Warning message:\n",
      "“glm.fit: fitted probabilities numerically 0 or 1 occurred”\n",
      "Warning message:\n",
      "“glm.fit: fitted probabilities numerically 0 or 1 occurred”\n",
      "Warning message:\n",
      "“glm.fit: fitted probabilities numerically 0 or 1 occurred”\n",
      "Warning message:\n",
      "“glm.fit: fitted probabilities numerically 0 or 1 occurred”\n",
      "Warning message:\n",
      "“glm.fit: fitted probabilities numerically 0 or 1 occurred”\n",
      "Warning message:\n",
      "“glm.fit: fitted probabilities numerically 0 or 1 occurred”\n",
      "Warning message:\n",
      "“glm.fit: fitted probabilities numerically 0 or 1 occurred”\n",
      "Warning message:\n",
      "“glm.fit: fitted probabilities numerically 0 or 1 occurred”\n",
      "Warning message:\n",
      "“glm.fit: fitted probabilities numerically 0 or 1 occurred”\n",
      "Warning message:\n",
      "“glm.fit: fitted probabilities numerically 0 or 1 occurred”\n",
      "Warning message:\n",
      "“glm.fit: fitted probabilities numerically 0 or 1 occurred”\n",
      "Warning message:\n",
      "“glm.fit: fitted probabilities numerically 0 or 1 occurred”\n",
      "Warning message:\n",
      "“glm.fit: fitted probabilities numerically 0 or 1 occurred”\n",
      "Warning message:\n",
      "“glm.fit: fitted probabilities numerically 0 or 1 occurred”\n",
      "Warning message:\n",
      "“glm.fit: fitted probabilities numerically 0 or 1 occurred”\n",
      "Warning message:\n",
      "“glm.fit: fitted probabilities numerically 0 or 1 occurred”\n",
      "Warning message:\n",
      "“glm.fit: fitted probabilities numerically 0 or 1 occurred”\n",
      "Warning message:\n",
      "“glm.fit: fitted probabilities numerically 0 or 1 occurred”\n",
      "Warning message:\n",
      "“glm.fit: fitted probabilities numerically 0 or 1 occurred”\n",
      "Warning message:\n",
      "“glm.fit: fitted probabilities numerically 0 or 1 occurred”\n",
      "Warning message:\n",
      "“glm.fit: fitted probabilities numerically 0 or 1 occurred”\n",
      "Warning message:\n",
      "“glm.fit: fitted probabilities numerically 0 or 1 occurred”\n",
      "Warning message:\n",
      "“glm.fit: fitted probabilities numerically 0 or 1 occurred”\n",
      "Warning message:\n",
      "“glm.fit: fitted probabilities numerically 0 or 1 occurred”\n",
      "Warning message:\n",
      "“glm.fit: fitted probabilities numerically 0 or 1 occurred”\n",
      "Warning message:\n",
      "“glm.fit: fitted probabilities numerically 0 or 1 occurred”\n",
      "Warning message:\n",
      "“glm.fit: fitted probabilities numerically 0 or 1 occurred”\n",
      "Warning message:\n",
      "“glm.fit: fitted probabilities numerically 0 or 1 occurred”\n",
      "Warning message:\n",
      "“glm.fit: fitted probabilities numerically 0 or 1 occurred”\n",
      "Warning message:\n",
      "“glm.fit: fitted probabilities numerically 0 or 1 occurred”\n",
      "Warning message:\n",
      "“glm.fit: fitted probabilities numerically 0 or 1 occurred”\n",
      "Warning message:\n",
      "“glm.fit: fitted probabilities numerically 0 or 1 occurred”\n",
      "Warning message:\n",
      "“glm.fit: fitted probabilities numerically 0 or 1 occurred”\n",
      "Warning message:\n",
      "“glm.fit: fitted probabilities numerically 0 or 1 occurred”\n",
      "Warning message:\n",
      "“glm.fit: fitted probabilities numerically 0 or 1 occurred”\n",
      "Warning message:\n",
      "“glm.fit: fitted probabilities numerically 0 or 1 occurred”\n",
      "Warning message:\n",
      "“glm.fit: fitted probabilities numerically 0 or 1 occurred”\n",
      "Warning message:\n",
      "“glm.fit: fitted probabilities numerically 0 or 1 occurred”\n",
      "Warning message:\n",
      "“glm.fit: fitted probabilities numerically 0 or 1 occurred”\n",
      "Warning message:\n",
      "“glm.fit: fitted probabilities numerically 0 or 1 occurred”\n",
      "Warning message:\n",
      "“glm.fit: fitted probabilities numerically 0 or 1 occurred”\n",
      "Warning message:\n",
      "“glm.fit: fitted probabilities numerically 0 or 1 occurred”\n",
      "Warning message:\n",
      "“glm.fit: fitted probabilities numerically 0 or 1 occurred”\n",
      "Warning message:\n",
      "“glm.fit: fitted probabilities numerically 0 or 1 occurred”\n",
      "Warning message:\n",
      "“glm.fit: fitted probabilities numerically 0 or 1 occurred”\n",
      "Warning message:\n",
      "“glm.fit: fitted probabilities numerically 0 or 1 occurred”\n",
      "Warning message:\n",
      "“glm.fit: fitted probabilities numerically 0 or 1 occurred”\n",
      "Warning message:\n",
      "“glm.fit: fitted probabilities numerically 0 or 1 occurred”\n",
      "Warning message:\n",
      "“glm.fit: fitted probabilities numerically 0 or 1 occurred”\n",
      "Warning message:\n",
      "“glm.fit: fitted probabilities numerically 0 or 1 occurred”\n",
      "Warning message:\n",
      "“glm.fit: fitted probabilities numerically 0 or 1 occurred”\n",
      "Warning message:\n",
      "“glm.fit: fitted probabilities numerically 0 or 1 occurred”\n",
      "Warning message:\n",
      "“glm.fit: fitted probabilities numerically 0 or 1 occurred”\n",
      "Warning message:\n",
      "“glm.fit: fitted probabilities numerically 0 or 1 occurred”\n",
      "Warning message:\n",
      "“glm.fit: fitted probabilities numerically 0 or 1 occurred”\n",
      "Warning message:\n",
      "“glm.fit: fitted probabilities numerically 0 or 1 occurred”\n",
      "Warning message:\n",
      "“glm.fit: fitted probabilities numerically 0 or 1 occurred”\n",
      "Warning message:\n",
      "“glm.fit: fitted probabilities numerically 0 or 1 occurred”\n",
      "Warning message:\n",
      "“glm.fit: fitted probabilities numerically 0 or 1 occurred”\n",
      "Warning message:\n",
      "“glm.fit: fitted probabilities numerically 0 or 1 occurred”\n",
      "Warning message:\n",
      "“glm.fit: fitted probabilities numerically 0 or 1 occurred”\n",
      "Warning message:\n",
      "“glm.fit: fitted probabilities numerically 0 or 1 occurred”\n",
      "Warning message:\n",
      "“glm.fit: fitted probabilities numerically 0 or 1 occurred”\n",
      "Warning message:\n",
      "“glm.fit: fitted probabilities numerically 0 or 1 occurred”\n",
      "Warning message:\n",
      "“glm.fit: fitted probabilities numerically 0 or 1 occurred”\n",
      "Warning message:\n",
      "“glm.fit: fitted probabilities numerically 0 or 1 occurred”\n"
     ]
    },
    {
     "data": {
      "text/html": [
       "<table class=\"dataframe\">\n",
       "<caption>A matrix: 6 × 2 of type dbl</caption>\n",
       "<thead>\n",
       "\t<tr><th></th><th scope=col>2.5 %</th><th scope=col>97.5 %</th></tr>\n",
       "</thead>\n",
       "<tbody>\n",
       "\t<tr><th scope=row>(Intercept)</th><td>-9.36197011</td><td> 1.44145347</td></tr>\n",
       "\t<tr><th scope=row>Temperature</th><td>-0.47687054</td><td>-0.05588939</td></tr>\n",
       "\t<tr><th scope=row>Humidity</th><td> 0.02956018</td><td> 0.17173210</td></tr>\n",
       "\t<tr><th scope=row>Light</th><td> 0.02507926</td><td> 0.02795197</td></tr>\n",
       "\t<tr><th scope=row>DayOfWeek</th><td>-0.96963420</td><td>-0.70259487</td></tr>\n",
       "\t<tr><th scope=row>HourOfDay</th><td> 0.11233304</td><td> 0.23133912</td></tr>\n",
       "</tbody>\n",
       "</table>\n"
      ],
      "text/latex": [
       "A matrix: 6 × 2 of type dbl\n",
       "\\begin{tabular}{r|ll}\n",
       "  & 2.5 \\% & 97.5 \\%\\\\\n",
       "\\hline\n",
       "\t(Intercept) & -9.36197011 &  1.44145347\\\\\n",
       "\tTemperature & -0.47687054 & -0.05588939\\\\\n",
       "\tHumidity &  0.02956018 &  0.17173210\\\\\n",
       "\tLight &  0.02507926 &  0.02795197\\\\\n",
       "\tDayOfWeek & -0.96963420 & -0.70259487\\\\\n",
       "\tHourOfDay &  0.11233304 &  0.23133912\\\\\n",
       "\\end{tabular}\n"
      ],
      "text/markdown": [
       "\n",
       "A matrix: 6 × 2 of type dbl\n",
       "\n",
       "| <!--/--> | 2.5 % | 97.5 % |\n",
       "|---|---|---|\n",
       "| (Intercept) | -9.36197011 |  1.44145347 |\n",
       "| Temperature | -0.47687054 | -0.05588939 |\n",
       "| Humidity |  0.02956018 |  0.17173210 |\n",
       "| Light |  0.02507926 |  0.02795197 |\n",
       "| DayOfWeek | -0.96963420 | -0.70259487 |\n",
       "| HourOfDay |  0.11233304 |  0.23133912 |\n",
       "\n"
      ],
      "text/plain": [
       "            2.5 %       97.5 %     \n",
       "(Intercept) -9.36197011  1.44145347\n",
       "Temperature -0.47687054 -0.05588939\n",
       "Humidity     0.02956018  0.17173210\n",
       "Light        0.02507926  0.02795197\n",
       "DayOfWeek   -0.96963420 -0.70259487\n",
       "HourOfDay    0.11233304  0.23133912"
      ]
     },
     "metadata": {},
     "output_type": "display_data"
    }
   ],
   "source": [
    "confint(modelo_comp_red)"
   ]
  },
  {
   "cell_type": "code",
   "execution_count": 109,
   "id": "2c44855f",
   "metadata": {},
   "outputs": [],
   "source": [
    "library(readr)\n",
    "datos_prueba <- read_csv(\"Archivos/datos_prueba.csv\",\n",
    "                  show_col_types = FALSE)\n",
    "\n",
    "datos_prueba$date <- lubridate::round_date(datos_prueba$date,\n",
    "           unit = \"minute\")\n",
    "\n",
    "datos_prueba$id <- NULL\n"
   ]
  },
  {
   "cell_type": "code",
   "execution_count": 110,
   "id": "f59d67f5",
   "metadata": {},
   "outputs": [
    {
     "data": {
      "text/html": [
       "<table class=\"dataframe\">\n",
       "<caption>A tibble: 6 × 6</caption>\n",
       "<thead>\n",
       "\t<tr><th scope=col>Temperature</th><th scope=col>Humidity</th><th scope=col>Light</th><th scope=col>DayOfWeek</th><th scope=col>HourOfDay</th><th scope=col>Occupancy</th></tr>\n",
       "\t<tr><th scope=col>&lt;dbl&gt;</th><th scope=col>&lt;dbl&gt;</th><th scope=col>&lt;dbl&gt;</th><th scope=col>&lt;dbl&gt;</th><th scope=col>&lt;int&gt;</th><th scope=col>&lt;dbl&gt;</th></tr>\n",
       "</thead>\n",
       "<tbody>\n",
       "\t<tr><td>23.18</td><td>27.2720</td><td>426.0</td><td>3</td><td>17</td><td>1</td></tr>\n",
       "\t<tr><td>23.15</td><td>27.2675</td><td>429.5</td><td>3</td><td>17</td><td>1</td></tr>\n",
       "\t<tr><td>23.15</td><td>27.2450</td><td>426.0</td><td>3</td><td>17</td><td>1</td></tr>\n",
       "\t<tr><td>23.15</td><td>27.2000</td><td>426.0</td><td>3</td><td>17</td><td>1</td></tr>\n",
       "\t<tr><td>23.10</td><td>27.2000</td><td>426.0</td><td>3</td><td>17</td><td>1</td></tr>\n",
       "\t<tr><td>23.10</td><td>27.2000</td><td>419.0</td><td>3</td><td>17</td><td>1</td></tr>\n",
       "</tbody>\n",
       "</table>\n"
      ],
      "text/latex": [
       "A tibble: 6 × 6\n",
       "\\begin{tabular}{llllll}\n",
       " Temperature & Humidity & Light & DayOfWeek & HourOfDay & Occupancy\\\\\n",
       " <dbl> & <dbl> & <dbl> & <dbl> & <int> & <dbl>\\\\\n",
       "\\hline\n",
       "\t 23.18 & 27.2720 & 426.0 & 3 & 17 & 1\\\\\n",
       "\t 23.15 & 27.2675 & 429.5 & 3 & 17 & 1\\\\\n",
       "\t 23.15 & 27.2450 & 426.0 & 3 & 17 & 1\\\\\n",
       "\t 23.15 & 27.2000 & 426.0 & 3 & 17 & 1\\\\\n",
       "\t 23.10 & 27.2000 & 426.0 & 3 & 17 & 1\\\\\n",
       "\t 23.10 & 27.2000 & 419.0 & 3 & 17 & 1\\\\\n",
       "\\end{tabular}\n"
      ],
      "text/markdown": [
       "\n",
       "A tibble: 6 × 6\n",
       "\n",
       "| Temperature &lt;dbl&gt; | Humidity &lt;dbl&gt; | Light &lt;dbl&gt; | DayOfWeek &lt;dbl&gt; | HourOfDay &lt;int&gt; | Occupancy &lt;dbl&gt; |\n",
       "|---|---|---|---|---|---|\n",
       "| 23.18 | 27.2720 | 426.0 | 3 | 17 | 1 |\n",
       "| 23.15 | 27.2675 | 429.5 | 3 | 17 | 1 |\n",
       "| 23.15 | 27.2450 | 426.0 | 3 | 17 | 1 |\n",
       "| 23.15 | 27.2000 | 426.0 | 3 | 17 | 1 |\n",
       "| 23.10 | 27.2000 | 426.0 | 3 | 17 | 1 |\n",
       "| 23.10 | 27.2000 | 419.0 | 3 | 17 | 1 |\n",
       "\n"
      ],
      "text/plain": [
       "  Temperature Humidity Light DayOfWeek HourOfDay Occupancy\n",
       "1 23.18       27.2720  426.0 3         17        1        \n",
       "2 23.15       27.2675  429.5 3         17        1        \n",
       "3 23.15       27.2450  426.0 3         17        1        \n",
       "4 23.15       27.2000  426.0 3         17        1        \n",
       "5 23.10       27.2000  426.0 3         17        1        \n",
       "6 23.10       27.2000  419.0 3         17        1        "
      ]
     },
     "metadata": {},
     "output_type": "display_data"
    }
   ],
   "source": [
    "datos_prueba$date <- lubridate::round_date(datos_prueba$date,\n",
    "                                    unit = \"minute\")\n",
    "\n",
    "datos_prueba$DayOfWeek <- lubridate::wday(datos_prueba$date, week_start=1)\n",
    "datos_prueba$WorkingTime <- as.numeric(lubridate::wday(datos_prueba$date, week_start=1) <= 5\n",
    "                               & lubridate::hour(datos_prueba$date) >= 8\n",
    "                               & lubridate::hour(datos_prueba$date) <= 18)\n",
    "\n",
    "\n",
    "datos_prueba$HourOfDay <- lubridate::hour(datos_prueba$date)\n",
    "datos_prueba$MinuteOfHour <- lubridate::minute(datos_prueba$date)\n",
    "\n",
    "datos_prueba <- datos_prueba[, c(\"Temperature\", \"Humidity\", \"Light\", \"DayOfWeek\", \"HourOfDay\", \"Occupancy\")]\n",
    "\n",
    "head(datos_prueba)"
   ]
  },
  {
   "cell_type": "code",
   "execution_count": 80,
   "id": "6c968921",
   "metadata": {},
   "outputs": [],
   "source": [
    "datos_prueba <- datos_prueba[1:4, ]"
   ]
  },
  {
   "cell_type": "code",
   "execution_count": 81,
   "id": "5b4d422f",
   "metadata": {},
   "outputs": [
    {
     "data": {
      "text/html": [
       "<table class=\"dataframe\">\n",
       "<caption>A tibble: 6 × 10</caption>\n",
       "<thead>\n",
       "\t<tr><th scope=col>Temperature</th><th scope=col>Humidity</th><th scope=col>Light</th><th scope=col>CO2</th><th scope=col>HumidityRatio</th><th scope=col>Occupancy</th><th scope=col>DayOfWeek</th><th scope=col>WorkingTime</th><th scope=col>HourOfDay</th><th scope=col>MinuteOfHour</th></tr>\n",
       "\t<tr><th scope=col>&lt;dbl&gt;</th><th scope=col>&lt;dbl&gt;</th><th scope=col>&lt;dbl&gt;</th><th scope=col>&lt;dbl&gt;</th><th scope=col>&lt;dbl&gt;</th><th scope=col>&lt;dbl&gt;</th><th scope=col>&lt;dbl&gt;</th><th scope=col>&lt;dbl&gt;</th><th scope=col>&lt;int&gt;</th><th scope=col>&lt;int&gt;</th></tr>\n",
       "</thead>\n",
       "<tbody>\n",
       "\t<tr><td>21.7600</td><td>31.13333</td><td>437.3333</td><td>1029.667</td><td>0.005021011</td><td>1</td><td>3</td><td>1</td><td>14</td><td>48</td></tr>\n",
       "\t<tr><td>21.7900</td><td>31.00000</td><td>437.3333</td><td>1000.000</td><td>0.005008581</td><td>1</td><td>3</td><td>1</td><td>14</td><td>49</td></tr>\n",
       "\t<tr><td>21.7675</td><td>31.12250</td><td>434.0000</td><td>1003.750</td><td>0.005021569</td><td>1</td><td>3</td><td>1</td><td>14</td><td>50</td></tr>\n",
       "\t<tr><td>21.7675</td><td>31.12250</td><td>439.0000</td><td>1009.500</td><td>0.005021569</td><td>1</td><td>3</td><td>1</td><td>14</td><td>51</td></tr>\n",
       "\t<tr><td>21.7900</td><td>31.13333</td><td>437.3333</td><td>1005.667</td><td>0.005030298</td><td>1</td><td>3</td><td>1</td><td>14</td><td>52</td></tr>\n",
       "\t<tr><td>21.7600</td><td>31.26000</td><td>437.3333</td><td>1014.333</td><td>0.005041605</td><td>1</td><td>3</td><td>1</td><td>14</td><td>53</td></tr>\n",
       "</tbody>\n",
       "</table>\n"
      ],
      "text/latex": [
       "A tibble: 6 × 10\n",
       "\\begin{tabular}{llllllllll}\n",
       " Temperature & Humidity & Light & CO2 & HumidityRatio & Occupancy & DayOfWeek & WorkingTime & HourOfDay & MinuteOfHour\\\\\n",
       " <dbl> & <dbl> & <dbl> & <dbl> & <dbl> & <dbl> & <dbl> & <dbl> & <int> & <int>\\\\\n",
       "\\hline\n",
       "\t 21.7600 & 31.13333 & 437.3333 & 1029.667 & 0.005021011 & 1 & 3 & 1 & 14 & 48\\\\\n",
       "\t 21.7900 & 31.00000 & 437.3333 & 1000.000 & 0.005008581 & 1 & 3 & 1 & 14 & 49\\\\\n",
       "\t 21.7675 & 31.12250 & 434.0000 & 1003.750 & 0.005021569 & 1 & 3 & 1 & 14 & 50\\\\\n",
       "\t 21.7675 & 31.12250 & 439.0000 & 1009.500 & 0.005021569 & 1 & 3 & 1 & 14 & 51\\\\\n",
       "\t 21.7900 & 31.13333 & 437.3333 & 1005.667 & 0.005030298 & 1 & 3 & 1 & 14 & 52\\\\\n",
       "\t 21.7600 & 31.26000 & 437.3333 & 1014.333 & 0.005041605 & 1 & 3 & 1 & 14 & 53\\\\\n",
       "\\end{tabular}\n"
      ],
      "text/markdown": [
       "\n",
       "A tibble: 6 × 10\n",
       "\n",
       "| Temperature &lt;dbl&gt; | Humidity &lt;dbl&gt; | Light &lt;dbl&gt; | CO2 &lt;dbl&gt; | HumidityRatio &lt;dbl&gt; | Occupancy &lt;dbl&gt; | DayOfWeek &lt;dbl&gt; | WorkingTime &lt;dbl&gt; | HourOfDay &lt;int&gt; | MinuteOfHour &lt;int&gt; |\n",
       "|---|---|---|---|---|---|---|---|---|---|\n",
       "| 21.7600 | 31.13333 | 437.3333 | 1029.667 | 0.005021011 | 1 | 3 | 1 | 14 | 48 |\n",
       "| 21.7900 | 31.00000 | 437.3333 | 1000.000 | 0.005008581 | 1 | 3 | 1 | 14 | 49 |\n",
       "| 21.7675 | 31.12250 | 434.0000 | 1003.750 | 0.005021569 | 1 | 3 | 1 | 14 | 50 |\n",
       "| 21.7675 | 31.12250 | 439.0000 | 1009.500 | 0.005021569 | 1 | 3 | 1 | 14 | 51 |\n",
       "| 21.7900 | 31.13333 | 437.3333 | 1005.667 | 0.005030298 | 1 | 3 | 1 | 14 | 52 |\n",
       "| 21.7600 | 31.26000 | 437.3333 | 1014.333 | 0.005041605 | 1 | 3 | 1 | 14 | 53 |\n",
       "\n"
      ],
      "text/plain": [
       "  Temperature Humidity Light    CO2      HumidityRatio Occupancy DayOfWeek\n",
       "1 21.7600     31.13333 437.3333 1029.667 0.005021011   1         3        \n",
       "2 21.7900     31.00000 437.3333 1000.000 0.005008581   1         3        \n",
       "3 21.7675     31.12250 434.0000 1003.750 0.005021569   1         3        \n",
       "4 21.7675     31.12250 439.0000 1009.500 0.005021569   1         3        \n",
       "5 21.7900     31.13333 437.3333 1005.667 0.005030298   1         3        \n",
       "6 21.7600     31.26000 437.3333 1014.333 0.005041605   1         3        \n",
       "  WorkingTime HourOfDay MinuteOfHour\n",
       "1 1           14        48          \n",
       "2 1           14        49          \n",
       "3 1           14        50          \n",
       "4 1           14        51          \n",
       "5 1           14        52          \n",
       "6 1           14        53          "
      ]
     },
     "metadata": {},
     "output_type": "display_data"
    }
   ],
   "source": [
    "head(datos)"
   ]
  },
  {
   "cell_type": "code",
   "execution_count": 82,
   "id": "e9fa2d71",
   "metadata": {},
   "outputs": [
    {
     "data": {
      "text/html": [
       "<style>\n",
       ".list-inline {list-style: none; margin:0; padding: 0}\n",
       ".list-inline>li {display: inline-block}\n",
       ".list-inline>li:not(:last-child)::after {content: \"\\00b7\"; padding: 0 .5ex}\n",
       "</style>\n",
       "<ol class=list-inline><li>15406</li><li>10</li></ol>\n"
      ],
      "text/latex": [
       "\\begin{enumerate*}\n",
       "\\item 15406\n",
       "\\item 10\n",
       "\\end{enumerate*}\n"
      ],
      "text/markdown": [
       "1. 15406\n",
       "2. 10\n",
       "\n",
       "\n"
      ],
      "text/plain": [
       "[1] 15406    10"
      ]
     },
     "metadata": {},
     "output_type": "display_data"
    }
   ],
   "source": [
    "dim(datos)"
   ]
  },
  {
   "cell_type": "code",
   "execution_count": 84,
   "id": "5b1e18ba",
   "metadata": {},
   "outputs": [
    {
     "data": {
      "text/html": [
       "<table class=\"dataframe\">\n",
       "<caption>A matrix: 1 × 1 of type dbl</caption>\n",
       "<thead>\n",
       "\t<tr><th></th><th scope=col>Occupancy</th></tr>\n",
       "</thead>\n",
       "<tbody>\n",
       "\t<tr><th scope=row>Occupancy</th><td>0</td></tr>\n",
       "</tbody>\n",
       "</table>\n"
      ],
      "text/latex": [
       "A matrix: 1 × 1 of type dbl\n",
       "\\begin{tabular}{r|l}\n",
       "  & Occupancy\\\\\n",
       "\\hline\n",
       "\tOccupancy & 0\\\\\n",
       "\\end{tabular}\n"
      ],
      "text/markdown": [
       "\n",
       "A matrix: 1 × 1 of type dbl\n",
       "\n",
       "| <!--/--> | Occupancy |\n",
       "|---|---|\n",
       "| Occupancy | 0 |\n",
       "\n"
      ],
      "text/plain": [
       "          Occupancy\n",
       "Occupancy 0        "
      ]
     },
     "metadata": {},
     "output_type": "display_data"
    }
   ],
   "source": [
    "x <- as.matrix(cbind(1, datos[, -c(4, 5, 6, 8, 10)]))\n",
    "\n",
    "a <- as.matrix(cbind(1, datos_prueba[, -6]))\n",
    "\n",
    "c <- as.matrix(datos_prueba[, \"Occupancy\"], ncol = 1)\n",
    "\n",
    "beta <- as.matrix(modelo_comp_red$coefficients, ncol = 1)\n",
    "\n",
    "var_beta <- solve(t(x)\n",
    "                  %*% (diag(modelo_comp_red$fitted.values\n",
    "                            * (1 - modelo_comp_red$fitted.values)))\n",
    "                  %*% x)\n",
    "\n",
    "ep <- t((a %*% beta) - c) %*% solve(a %*% var_beta %*% t(a)) %*% ((a %*% beta) - c)\n",
    "\n",
    "\n",
    "p_value <- 1 - pchisq(ep, df = nrow(a))\n",
    "p_value\n"
   ]
  },
  {
   "cell_type": "code",
   "execution_count": 89,
   "id": "8c3ccbdb",
   "metadata": {},
   "outputs": [
    {
     "data": {
      "text/html": [
       "<table class=\"dataframe\">\n",
       "<caption>A tibble: 6 × 6</caption>\n",
       "<thead>\n",
       "\t<tr><th scope=col>Temperature</th><th scope=col>Humidity</th><th scope=col>Light</th><th scope=col>DayOfWeek</th><th scope=col>HourOfDay</th><th scope=col>Occupancy</th></tr>\n",
       "\t<tr><th scope=col>&lt;dbl&gt;</th><th scope=col>&lt;dbl&gt;</th><th scope=col>&lt;dbl&gt;</th><th scope=col>&lt;dbl&gt;</th><th scope=col>&lt;int&gt;</th><th scope=col>&lt;dbl&gt;</th></tr>\n",
       "</thead>\n",
       "<tbody>\n",
       "\t<tr><td>23.18</td><td>27.2720</td><td>426.0</td><td>3</td><td>17</td><td>1</td></tr>\n",
       "\t<tr><td>23.15</td><td>27.2675</td><td>429.5</td><td>3</td><td>17</td><td>1</td></tr>\n",
       "\t<tr><td>23.15</td><td>27.2450</td><td>426.0</td><td>3</td><td>17</td><td>1</td></tr>\n",
       "\t<tr><td>23.15</td><td>27.2000</td><td>426.0</td><td>3</td><td>17</td><td>1</td></tr>\n",
       "\t<tr><td>23.10</td><td>27.2000</td><td>426.0</td><td>3</td><td>17</td><td>1</td></tr>\n",
       "\t<tr><td>23.10</td><td>27.2000</td><td>419.0</td><td>3</td><td>17</td><td>1</td></tr>\n",
       "</tbody>\n",
       "</table>\n"
      ],
      "text/latex": [
       "A tibble: 6 × 6\n",
       "\\begin{tabular}{llllll}\n",
       " Temperature & Humidity & Light & DayOfWeek & HourOfDay & Occupancy\\\\\n",
       " <dbl> & <dbl> & <dbl> & <dbl> & <int> & <dbl>\\\\\n",
       "\\hline\n",
       "\t 23.18 & 27.2720 & 426.0 & 3 & 17 & 1\\\\\n",
       "\t 23.15 & 27.2675 & 429.5 & 3 & 17 & 1\\\\\n",
       "\t 23.15 & 27.2450 & 426.0 & 3 & 17 & 1\\\\\n",
       "\t 23.15 & 27.2000 & 426.0 & 3 & 17 & 1\\\\\n",
       "\t 23.10 & 27.2000 & 426.0 & 3 & 17 & 1\\\\\n",
       "\t 23.10 & 27.2000 & 419.0 & 3 & 17 & 1\\\\\n",
       "\\end{tabular}\n"
      ],
      "text/markdown": [
       "\n",
       "A tibble: 6 × 6\n",
       "\n",
       "| Temperature &lt;dbl&gt; | Humidity &lt;dbl&gt; | Light &lt;dbl&gt; | DayOfWeek &lt;dbl&gt; | HourOfDay &lt;int&gt; | Occupancy &lt;dbl&gt; |\n",
       "|---|---|---|---|---|---|\n",
       "| 23.18 | 27.2720 | 426.0 | 3 | 17 | 1 |\n",
       "| 23.15 | 27.2675 | 429.5 | 3 | 17 | 1 |\n",
       "| 23.15 | 27.2450 | 426.0 | 3 | 17 | 1 |\n",
       "| 23.15 | 27.2000 | 426.0 | 3 | 17 | 1 |\n",
       "| 23.10 | 27.2000 | 426.0 | 3 | 17 | 1 |\n",
       "| 23.10 | 27.2000 | 419.0 | 3 | 17 | 1 |\n",
       "\n"
      ],
      "text/plain": [
       "  Temperature Humidity Light DayOfWeek HourOfDay Occupancy\n",
       "1 23.18       27.2720  426.0 3         17        1        \n",
       "2 23.15       27.2675  429.5 3         17        1        \n",
       "3 23.15       27.2450  426.0 3         17        1        \n",
       "4 23.15       27.2000  426.0 3         17        1        \n",
       "5 23.10       27.2000  426.0 3         17        1        \n",
       "6 23.10       27.2000  419.0 3         17        1        "
      ]
     },
     "metadata": {},
     "output_type": "display_data"
    }
   ],
   "source": [
    "head(datos_prueba)"
   ]
  },
  {
   "cell_type": "code",
   "execution_count": 95,
   "id": "55880d23",
   "metadata": {},
   "outputs": [
    {
     "data": {
      "text/html": [
       "<table class=\"dataframe\">\n",
       "<caption>A tibble: 0 × 6</caption>\n",
       "<thead>\n",
       "\t<tr><th scope=col>Temperature</th><th scope=col>Humidity</th><th scope=col>Light</th><th scope=col>DayOfWeek</th><th scope=col>HourOfDay</th><th scope=col>Occupancy</th></tr>\n",
       "\t<tr><th scope=col>&lt;dbl&gt;</th><th scope=col>&lt;dbl&gt;</th><th scope=col>&lt;dbl&gt;</th><th scope=col>&lt;dbl&gt;</th><th scope=col>&lt;int&gt;</th><th scope=col>&lt;dbl&gt;</th></tr>\n",
       "</thead>\n",
       "<tbody>\n",
       "</tbody>\n",
       "</table>\n"
      ],
      "text/latex": [
       "A tibble: 0 × 6\n",
       "\\begin{tabular}{llllll}\n",
       " Temperature & Humidity & Light & DayOfWeek & HourOfDay & Occupancy\\\\\n",
       " <dbl> & <dbl> & <dbl> & <dbl> & <int> & <dbl>\\\\\n",
       "\\hline\n",
       "\\end{tabular}\n"
      ],
      "text/markdown": [
       "\n",
       "A tibble: 0 × 6\n",
       "\n",
       "| Temperature &lt;dbl&gt; | Humidity &lt;dbl&gt; | Light &lt;dbl&gt; | DayOfWeek &lt;dbl&gt; | HourOfDay &lt;int&gt; | Occupancy &lt;dbl&gt; |\n",
       "|---|---|---|---|---|---|\n",
       "\n"
      ],
      "text/plain": [
       "     Temperature Humidity Light DayOfWeek HourOfDay Occupancy"
      ]
     },
     "metadata": {},
     "output_type": "display_data"
    }
   ],
   "source": [
    "head(new_datos)"
   ]
  },
  {
   "cell_type": "code",
   "execution_count": 100,
   "id": "311f3f02",
   "metadata": {
    "scrolled": false
   },
   "outputs": [],
   "source": [
    "\n",
    "\n",
    "new_datos <- datos_prueba[FALSE, ]\n",
    "\n",
    "new_datos$HourOfDay <- as.double(new_datos$HourOfDay)\n",
    "\n",
    "minutes_to_group <- 30\n",
    "\n",
    "for(upper in minutes_to_group * (1:(nrow(datos_prueba) / minutes_to_group))) {\n",
    "    #print(paste(upper, upper - (minutes_to_group - 1)))\n",
    "    #print(data.frame(as.list(colMeans(datos_prueba[(upper - (minutes_to_group - 1)):upper, ]))))\n",
    "    new_datos[nrow(new_datos) + 1, ] <- data.frame(as.list(colMeans(datos_prueba[(upper - (minutes_to_group - 1)):upper, ])))\n",
    "}\n",
    "\n",
    "# new_datos <- new_datos[new_datos$WorkingTime != 0, ]\n",
    "\n",
    "datos_prueba <- new_datos"
   ]
  },
  {
   "cell_type": "code",
   "execution_count": 101,
   "id": "823581fb",
   "metadata": {},
   "outputs": [
    {
     "data": {
      "text/html": [
       "<style>\n",
       ".list-inline {list-style: none; margin:0; padding: 0}\n",
       ".list-inline>li {display: inline-block}\n",
       ".list-inline>li:not(:last-child)::after {content: \"\\00b7\"; padding: 0 .5ex}\n",
       "</style>\n",
       "<ol class=list-inline><li>271</li><li>6</li></ol>\n"
      ],
      "text/latex": [
       "\\begin{enumerate*}\n",
       "\\item 271\n",
       "\\item 6\n",
       "\\end{enumerate*}\n"
      ],
      "text/markdown": [
       "1. 271\n",
       "2. 6\n",
       "\n",
       "\n"
      ],
      "text/plain": [
       "[1] 271   6"
      ]
     },
     "metadata": {},
     "output_type": "display_data"
    }
   ],
   "source": [
    "dim(datos_prueba)"
   ]
  },
  {
   "cell_type": "code",
   "execution_count": 106,
   "id": "adc7a657",
   "metadata": {},
   "outputs": [],
   "source": [
    "x <- as.matrix(cbind(1, datos[, -c(4, 5, 6, 8, 10)]))\n",
    "\n",
    "beta <- as.matrix(modelo_comp_red$coefficients, ncol = 1)\n",
    "\n",
    "var_beta <- solve(t(x)\n",
    "                      %*% (diag(modelo_comp_red$fitted.values\n",
    "                                * (1 - modelo_comp_red$fitted.values)))\n",
    "                      %*% x)\n",
    "\n",
    "rejected <- 0\n",
    "\n",
    "not_rejected <- 0\n",
    "\n",
    "for(restric in 1:nrow(datos_prueba)){\n",
    "\n",
    "    a <- as.matrix(cbind(1, datos_prueba[restric, -6]))\n",
    "\n",
    "    c <- as.matrix(datos_prueba[restric, \"Occupancy\"], ncol = 1)\n",
    "\n",
    "    ep <- t((a %*% beta) - c) %*% solve(a %*% var_beta %*% t(a)) %*% ((a %*% beta) - c)\n",
    "\n",
    "    p_value <- 1 - pchisq(ep, df = nrow(a))\n",
    "    \n",
    "    if(p_value <= 0.1){\n",
    "        rejected <- rejected + 1\n",
    "    } else {\n",
    "        not_rejected <- not_rejected + 1\n",
    "    }\n",
    "    \n",
    "}\n",
    "\n",
    "\n"
   ]
  },
  {
   "cell_type": "code",
   "execution_count": 107,
   "id": "5d63b9d2",
   "metadata": {},
   "outputs": [
    {
     "data": {
      "text/html": [
       "268"
      ],
      "text/latex": [
       "268"
      ],
      "text/markdown": [
       "268"
      ],
      "text/plain": [
       "[1] 268"
      ]
     },
     "metadata": {},
     "output_type": "display_data"
    },
    {
     "data": {
      "text/html": [
       "3"
      ],
      "text/latex": [
       "3"
      ],
      "text/markdown": [
       "3"
      ],
      "text/plain": [
       "[1] 3"
      ]
     },
     "metadata": {},
     "output_type": "display_data"
    }
   ],
   "source": [
    "rejected\n",
    "not_rejected"
   ]
  },
  {
   "cell_type": "code",
   "execution_count": 117,
   "id": "6a3e5f9d",
   "metadata": {},
   "outputs": [
    {
     "name": "stderr",
     "output_type": "stream",
     "text": [
      "Setting levels: control = 0, case = 1\n",
      "\n",
      "Warning message in roc.default(response, predictor, auc = TRUE, ...):\n",
      "“Deprecated use a matrix as predictor. Unexpected results may be produced, please pass a numeric vector.”\n",
      "Setting direction: controls < cases\n",
      "\n"
     ]
    },
    {
     "data": {
      "text/html": [
       "0.992535171489925"
      ],
      "text/latex": [
       "0.992535171489925"
      ],
      "text/markdown": [
       "0.992535171489925"
      ],
      "text/plain": [
       "Area under the curve: 0.9925"
      ]
     },
     "metadata": {},
     "output_type": "display_data"
    },
    {
     "name": "stderr",
     "output_type": "stream",
     "text": [
      "Setting levels: control = 0, case = 1\n",
      "\n",
      "Warning message in roc.default(x, predictor, plot = TRUE, ...):\n",
      "“Deprecated use a matrix as predictor. Unexpected results may be produced, please pass a numeric vector.”\n",
      "Setting direction: controls < cases\n",
      "\n"
     ]
    },
    {
     "data": {
      "image/png": "[encoded data removed]",
      "text/plain": [
       "plot without title"
      ]
     },
     "metadata": {
      "image/png": {
       "height": 420,
       "width": 420
      }
     },
     "output_type": "display_data"
    }
   ],
   "source": [
    "a <- as.matrix(cbind(1, datos_prueba[, -6]))\n",
    "x <- as.matrix(cbind(1, datos[, -c(4, 5, 6, 8, 10)]))\n",
    "\n",
    "\n",
    "predicted_test <- exp(a %*% beta) / (1 + exp(a %*% beta))\n",
    "predicted_train <- x %*% beta\n",
    "\n",
    "pROC::auc(datos_prueba$Occupancy, predicted_test)\n",
    "\n",
    "pROC::plot.roc(datos_prueba$Occupancy, predicted_test)"
   ]
  },
  {
   "cell_type": "code",
   "execution_count": 123,
   "id": "b635df5f",
   "metadata": {},
   "outputs": [
    {
     "data": {
      "text/html": [
       "0.98857914773425"
      ],
      "text/latex": [
       "0.98857914773425"
      ],
      "text/markdown": [
       "0.98857914773425"
      ],
      "text/plain": [
       "[1] 0.9885791"
      ]
     },
     "metadata": {},
     "output_type": "display_data"
    }
   ],
   "source": [
    "1 - sum(abs(datos_prueba$Occupancy - predicted_test) > 0.5) / nrow(datos_prueba)"
   ]
  },
  {
   "cell_type": "markdown",
   "id": "caa0dfcd",
   "metadata": {},
   "source": [
    "## Estimación por agrupación"
   ]
  },
  {
   "cell_type": "code",
   "execution_count": null,
   "id": "904dc0bc",
   "metadata": {},
   "outputs": [],
   "source": [
    "datos <- readr::read_csv(\"Archivos/datos_entrenamiento.csv\",\n",
    "                  show_col_types = FALSE)\n",
    "\n",
    "datos$id <- NULL\n",
    "\n",
    "datos$date <- lubridate::round_date(datos$date,\n",
    "                                    unit = \"minute\")\n",
    "\n",
    "datos$DayOfWeek <- lubridate::wday(datos$date, week_start=1)\n",
    "datos$WorkingTime <- as.numeric(lubridate::wday(datos$date, week_start=1) <= 5\n",
    "                               & lubridate::hour(datos$date) >= 8\n",
    "                               & lubridate::hour(datos$date) <= 18)\n",
    "datos$HourOfDay <- as.double(lubridate::hour(datos$date))\n",
    "\n",
    "head(datos)"
   ]
  },
  {
   "cell_type": "code",
   "execution_count": null,
   "id": "28e785fd",
   "metadata": {},
   "outputs": [],
   "source": [
    "range(datos$date)\n"
   ]
  },
  {
   "cell_type": "code",
   "execution_count": null,
   "id": "300bc6c6",
   "metadata": {},
   "outputs": [],
   "source": [
    "new_datos <- datos[FALSE, -1]\n",
    "\n",
    "minutes_to_group <- 15\n",
    "\n",
    "for(upper in minutes_to_group * (1:(nrow(datos) / minutes_to_group))) {\n",
    "    new_datos[nrow(new_datos) + 1, ] <- data.frame(as.list(colMeans(datos[(upper - (minutes_to_group - 1)):upper, -1])))\n",
    "}\n",
    "\n",
    "new_datos <- new_datos[new_datos$WorkingTime != 0, ]\n",
    "\n",
    "datos <- new_datos\n",
    "\n",
    "head(new_datos)\n",
    "dim(new_datos)"
   ]
  },
  {
   "cell_type": "code",
   "execution_count": null,
   "id": "3451a491",
   "metadata": {
    "scrolled": false
   },
   "outputs": [],
   "source": [
    "options(repr.plot.width = 18, repr.plot.height = 18)\n",
    "\n",
    "panel.hist <- function(x, ...)\n",
    "{\n",
    "    usr <- par(\"usr\"); on.exit(par(usr))\n",
    "    par(usr = c(usr[1:2], 0, 1.5) )\n",
    "    h <- hist(x, plot = FALSE)\n",
    "    breaks <- h$breaks; nB <- length(breaks)\n",
    "    y <- h$counts; y <- y/max(y)\n",
    "    rect(breaks[-nB], 0, breaks[-1], y, col = \"cyan\", ...)\n",
    "}\n",
    "\n",
    "pairs(new_datos, diag.panel=panel.hist)"
   ]
  },
  {
   "cell_type": "code",
   "execution_count": null,
   "id": "b38830b6",
   "metadata": {
    "scrolled": true
   },
   "outputs": [],
   "source": [
    "summary(modelo_comp_red)"
   ]
  },
  {
   "cell_type": "code",
   "execution_count": null,
   "id": "0c770a1a",
   "metadata": {},
   "outputs": [],
   "source": [
    "boxplot(datos$DayOfWeek ~ datos$Occupancy,\n",
    "        ylab = \"Día de la semana\",\n",
    "        xlab = \"Ocupación\",\n",
    "        col = \"#E79C82\")"
   ]
  },
  {
   "cell_type": "code",
   "execution_count": null,
   "id": "bc04259e",
   "metadata": {},
   "outputs": [],
   "source": [
    "plot(datos$DayOfWeek,\n",
    "     datos$Occupancy,\n",
    "     ylab = \"Ocupación\",\n",
    "     xlab = \"Día de la semana\",\n",
    "     col = \"#E79C82\")"
   ]
  },
  {
   "cell_type": "code",
   "execution_count": null,
   "id": "c72a8e7e",
   "metadata": {},
   "outputs": [],
   "source": [
    "boxplot(datos$HourOfDay ~ datos$Occupancy,\n",
    "        ylab = \"Hora del día\",\n",
    "        xlab = \"Ocupación\",\n",
    "        col = \"#E79C82\")"
   ]
  },
  {
   "cell_type": "code",
   "execution_count": null,
   "id": "bda26b56",
   "metadata": {},
   "outputs": [],
   "source": [
    "plot(datos$WorkingTime,\n",
    "     datos$Occupancy,\n",
    "     ylab = \"Ocupación\",\n",
    "     xlab = \"Horario laboral\",\n",
    "     col = \"#E79C82\")"
   ]
  },
  {
   "cell_type": "code",
   "execution_count": null,
   "id": "2b51e78b",
   "metadata": {},
   "outputs": [],
   "source": [
    "head(datos)"
   ]
  },
  {
   "cell_type": "code",
   "execution_count": null,
   "id": "602c66d6",
   "metadata": {},
   "outputs": [],
   "source": [
    "boxplot(datos$HumidityRatio ~ datos$WorkingTime + datos$Occupancy,\n",
    "        xlab = \"Ocupación\",\n",
    "        col = rainbow(2, s = 0.5))"
   ]
  },
  {
   "cell_type": "code",
   "execution_count": null,
   "id": "3139e14e",
   "metadata": {},
   "outputs": [],
   "source": [
    "hist(datos$DayOfWeek)"
   ]
  },
  {
   "cell_type": "code",
   "execution_count": null,
   "id": "2cf21179",
   "metadata": {},
   "outputs": [],
   "source": [
    "hist(datos$Temperature,\n",
    "     main = \"Histograma de temperaturas\",\n",
    "     xlab = \"Temperatura\",\n",
    "     col = \"#D86036\")"
   ]
  },
  {
   "cell_type": "code",
   "execution_count": null,
   "id": "82b8f6fa",
   "metadata": {},
   "outputs": [],
   "source": [
    "boxplot(datos$Temperature ~ datos$Occupancy,\n",
    "        ylab = \"Temperatura\",\n",
    "        xlab = \"Ocupación\",\n",
    "        col = \"#D86036\")"
   ]
  },
  {
   "cell_type": "code",
   "execution_count": null,
   "id": "c98ed47d",
   "metadata": {},
   "outputs": [],
   "source": [
    "plot(datos$Temperature,\n",
    "     datos$Occupancy,\n",
    "     ylab = \"Ocupación\",\n",
    "     xlab = \"Temperatura\",\n",
    "     col = \"#D86036\")"
   ]
  },
  {
   "cell_type": "code",
   "execution_count": null,
   "id": "c77d0578",
   "metadata": {},
   "outputs": [],
   "source": [
    "hist(datos$Humidity,\n",
    "     main = \"Histograma de humedad\",\n",
    "     xlab = \"Humedad\",\n",
    "     col = \"#CF2D4C\")"
   ]
  },
  {
   "cell_type": "code",
   "execution_count": null,
   "id": "1a4101a2",
   "metadata": {},
   "outputs": [],
   "source": [
    "boxplot(datos$Humidity ~ datos$Occupancy,\n",
    "        ylab = \"Humedad\",\n",
    "        xlab = \"Ocupación\",\n",
    "        col = \"#CF2D4C\")"
   ]
  },
  {
   "cell_type": "code",
   "execution_count": null,
   "id": "59f526ce",
   "metadata": {},
   "outputs": [],
   "source": [
    "plot(datos$Humidity,\n",
    "     datos$Occupancy,\n",
    "     ylab = \"Ocupación\",\n",
    "     xlab = \"Humedad\",\n",
    "     col = \"#CF2D4C\")"
   ]
  },
  {
   "cell_type": "code",
   "execution_count": null,
   "id": "7d88aa3b",
   "metadata": {},
   "outputs": [],
   "source": [
    "hist(datos$Light,\n",
    "     main = \"Histograma de intensidad de luz\",\n",
    "     xlab = \"Intensidad de luz\",\n",
    "     col = \"#B04C7A\")"
   ]
  },
  {
   "cell_type": "code",
   "execution_count": null,
   "id": "5066ff78",
   "metadata": {},
   "outputs": [],
   "source": [
    "boxplot(datos$Light ~ datos$Occupancy,\n",
    "        ylab = \"Intensidad de luz\",\n",
    "        xlab = \"Ocupación\",\n",
    "        col = \"#B04C7A\")"
   ]
  },
  {
   "cell_type": "code",
   "execution_count": null,
   "id": "0fe58c9d",
   "metadata": {},
   "outputs": [],
   "source": [
    "plot(datos$Light,\n",
    "     datos$Occupancy,\n",
    "     ylab = \"Ocupación\",\n",
    "     xlab = \"Intensidad de luz\",\n",
    "     col = \"#B04C7A\")"
   ]
  },
  {
   "cell_type": "code",
   "execution_count": null,
   "id": "35f0acd4",
   "metadata": {},
   "outputs": [],
   "source": [
    "hist(datos$CO2,\n",
    "     main = \"Histograma de concentración de CO2\",\n",
    "     xlab = \"Concentración de CO2\",\n",
    "     col = \"#623A6C\")"
   ]
  },
  {
   "cell_type": "code",
   "execution_count": null,
   "id": "7cf31877",
   "metadata": {},
   "outputs": [],
   "source": [
    "boxplot(datos$CO2 ~ datos$Occupancy,\n",
    "        ylab = \"CO2\",\n",
    "        xlab = \"Concentración de CO2\",\n",
    "        col = \"#623A6C\")"
   ]
  },
  {
   "cell_type": "code",
   "execution_count": null,
   "id": "c63c055c",
   "metadata": {},
   "outputs": [],
   "source": [
    "plot(datos$CO2,\n",
    "     datos$Occupancy,\n",
    "     ylab = \"Ocupación\",\n",
    "     xlab = \"Concentración de CO2\",\n",
    "     col = \"#623A6C\")"
   ]
  },
  {
   "cell_type": "code",
   "execution_count": null,
   "id": "ac3d70cf",
   "metadata": {},
   "outputs": [],
   "source": [
    "hist(datos$HumidityRatio,\n",
    "     main = \"Histograma de tasa de humedad.\",\n",
    "     xlab = \"Tasa de humedad\",\n",
    "     col = \"#545E66\")"
   ]
  },
  {
   "cell_type": "code",
   "execution_count": null,
   "id": "14b23ffc",
   "metadata": {},
   "outputs": [],
   "source": [
    "boxplot(datos$HumidityRatio ~ datos$Occupancy,\n",
    "        ylab = \"Tasa de humedad\",\n",
    "        xlab = \"Tasa de humedad\",\n",
    "        col = \"#545E66\")"
   ]
  },
  {
   "cell_type": "code",
   "execution_count": null,
   "id": "4e2407b6",
   "metadata": {},
   "outputs": [],
   "source": [
    "plot(datos$HumidityRatio,\n",
    "     datos$Occupancy,\n",
    "     ylab = \"Ocupación\",\n",
    "     xlab = \"Tasa de humedad\",\n",
    "     col = \"#545E66\")"
   ]
  },
  {
   "cell_type": "code",
   "execution_count": null,
   "id": "cfb838ce",
   "metadata": {},
   "outputs": [],
   "source": [
    "datos_trans <- as.data.frame(model.matrix(Occupancy ~ . - HumidityRatio - WorkingTime - 1,\n",
    "                                          data = datos))\n",
    "\n",
    "#+ (HourOfDay) * (Temperature + Humidity)\n",
    "#+ (DayOfWeek) * (Temperature)\n",
    "#+ (WorkingTime) * (Temperature + Humidity + Light + CO2)\n",
    "\n",
    "datos_trans$Occupancy <- datos$Occupancy\n",
    "head(datos_trans)"
   ]
  },
  {
   "cell_type": "code",
   "execution_count": null,
   "id": "327f73f0",
   "metadata": {
    "scrolled": false
   },
   "outputs": [],
   "source": [
    "modelo_comp <- glm(Occupancy ~ . - 1 - HourOfDay, data = datos_trans, family = \"binomial\")\n",
    "sm <- summary(modelo_comp)\n",
    "sm"
   ]
  },
  {
   "cell_type": "code",
   "execution_count": null,
   "id": "e2deb795",
   "metadata": {},
   "outputs": [],
   "source": [
    "car::vif(modelo_comp)"
   ]
  },
  {
   "cell_type": "code",
   "execution_count": null,
   "id": "c4ccf35b",
   "metadata": {},
   "outputs": [],
   "source": [
    "simulationOutput <- DHARMa::simulateResiduals(fittedModel = fittedModel)"
   ]
  },
  {
   "cell_type": "code",
   "execution_count": null,
   "id": "5e3628f1",
   "metadata": {},
   "outputs": [],
   "source": []
  }
 ],
 "metadata": {
  "kernelspec": {
   "display_name": "R",
   "language": "R",
   "name": "ir"
  },
  "language_info": {
   "codemirror_mode": "r",
   "file_extension": ".r",
   "mimetype": "text/x-r-source",
   "name": "R",
   "pygments_lexer": "r",
   "version": "4.2.1"
  }
 },
 "nbformat": 4,
 "nbformat_minor": 5
}
