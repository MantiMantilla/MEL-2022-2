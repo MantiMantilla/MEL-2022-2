{
 "cells": [
  {
   "cell_type": "markdown",
   "id": "f960ea7c",
   "metadata": {},
   "source": [
    "# Proyecto - Entrega 1"
   ]
  },
  {
   "cell_type": "markdown",
   "id": "96d0f7c8",
   "metadata": {},
   "source": [
    "## Detección de la ocupación de una oficina a partir de datos de luz, temperatura, humedad y concentración de CO2, por medio del uso de modelos estadísticos lineales."
   ]
  },
  {
   "cell_type": "markdown",
   "id": "248cf7ba",
   "metadata": {},
   "source": [
    "Alejandro Mantilla - 201711304\n",
    "\n",
    "Ximena Palacio - 201730995 "
   ]
  },
  {
   "cell_type": "markdown",
   "id": "c33ac0dc",
   "metadata": {},
   "source": [
    "### Datos"
   ]
  },
  {
   "cell_type": "markdown",
   "id": "10cf12e5",
   "metadata": {},
   "source": [
    "El proyecto se realiza sobre los datos de Luis M. Candanedo, 2015, en los cuales recopilan información de diversos sensores un una oficina para construir una muestra estructurada de 8143 registros para la muestra de entrenamiento, 2665 registros para una muestra de prueba y 9752　para otra muestra de prueba.\n",
    "\n",
    "Enlace a documento investigativo:\n",
    "\n",
    "https://doi.org/10.1016/j.enbuild.2015.11.071\n",
    "\n",
    "El autor del conjunto de datos integra información adquirida de sensores que miden en tiempo real distintos atributos del entorno en una oficina de 5.85m × 3.50m × 3.53m en Bélgica. Particularmente, mide temperatura, humedad, luz y concentración de CO2. Adicionalmente, incluye una variable transformada que llama \"Humidity ratio\", que calcula a partir de las variables de temperatura y humedad (esta transformación es sugerida por un manual de la sociedad americana de calentadores).\n",
    "\n",
    "La métrica peculiar de interes en estos datos es un indicador binario de si la oficina está ocupada o no. Podría ser interesante medir la cantidad de personas en la oficina, pero no lo permiten los datos.\n",
    "\n",
    "La intención del experimento desarrollado por el autor es integrar un sistema detección de la ocupación con controles de energía, ventilación y calentadores para hacer un manejo más eficiente de recursos. El autor reconoce la viabilidad y robustez de un sistema que incorpore cámaras y sistemas de visión de máquina, pero enfatiza la importancia de respetar la privacidad de los usuarios de la oficina."
   ]
  },
  {
   "cell_type": "code",
   "execution_count": 4,
   "id": "b871c142",
   "metadata": {},
   "outputs": [
    {
     "data": {
      "text/html": [
       "<table class=\"dataframe\">\n",
       "<caption>A tibble: 6 × 8</caption>\n",
       "<thead>\n",
       "\t<tr><th scope=col>id</th><th scope=col>date</th><th scope=col>Temperature</th><th scope=col>Humidity</th><th scope=col>Light</th><th scope=col>CO2</th><th scope=col>HumidityRatio</th><th scope=col>Occupancy</th></tr>\n",
       "\t<tr><th scope=col>&lt;dbl&gt;</th><th scope=col>&lt;dttm&gt;</th><th scope=col>&lt;dbl&gt;</th><th scope=col>&lt;dbl&gt;</th><th scope=col>&lt;dbl&gt;</th><th scope=col>&lt;dbl&gt;</th><th scope=col>&lt;dbl&gt;</th><th scope=col>&lt;dbl&gt;</th></tr>\n",
       "</thead>\n",
       "<tbody>\n",
       "\t<tr><td>1</td><td>2015-02-04 17:51:00</td><td>23.18</td><td>27.2720</td><td>426.0</td><td>721.25</td><td>0.004792988</td><td>1</td></tr>\n",
       "\t<tr><td>2</td><td>2015-02-04 17:51:59</td><td>23.15</td><td>27.2675</td><td>429.5</td><td>714.00</td><td>0.004783441</td><td>1</td></tr>\n",
       "\t<tr><td>3</td><td>2015-02-04 17:53:00</td><td>23.15</td><td>27.2450</td><td>426.0</td><td>713.50</td><td>0.004779464</td><td>1</td></tr>\n",
       "\t<tr><td>4</td><td>2015-02-04 17:54:00</td><td>23.15</td><td>27.2000</td><td>426.0</td><td>708.25</td><td>0.004771509</td><td>1</td></tr>\n",
       "\t<tr><td>5</td><td>2015-02-04 17:55:00</td><td>23.10</td><td>27.2000</td><td>426.0</td><td>704.50</td><td>0.004756993</td><td>1</td></tr>\n",
       "\t<tr><td>6</td><td>2015-02-04 17:55:59</td><td>23.10</td><td>27.2000</td><td>419.0</td><td>701.00</td><td>0.004756993</td><td>1</td></tr>\n",
       "</tbody>\n",
       "</table>\n"
      ],
      "text/latex": [
       "A tibble: 6 × 8\n",
       "\\begin{tabular}{llllllll}\n",
       " id & date & Temperature & Humidity & Light & CO2 & HumidityRatio & Occupancy\\\\\n",
       " <dbl> & <dttm> & <dbl> & <dbl> & <dbl> & <dbl> & <dbl> & <dbl>\\\\\n",
       "\\hline\n",
       "\t 1 & 2015-02-04 17:51:00 & 23.18 & 27.2720 & 426.0 & 721.25 & 0.004792988 & 1\\\\\n",
       "\t 2 & 2015-02-04 17:51:59 & 23.15 & 27.2675 & 429.5 & 714.00 & 0.004783441 & 1\\\\\n",
       "\t 3 & 2015-02-04 17:53:00 & 23.15 & 27.2450 & 426.0 & 713.50 & 0.004779464 & 1\\\\\n",
       "\t 4 & 2015-02-04 17:54:00 & 23.15 & 27.2000 & 426.0 & 708.25 & 0.004771509 & 1\\\\\n",
       "\t 5 & 2015-02-04 17:55:00 & 23.10 & 27.2000 & 426.0 & 704.50 & 0.004756993 & 1\\\\\n",
       "\t 6 & 2015-02-04 17:55:59 & 23.10 & 27.2000 & 419.0 & 701.00 & 0.004756993 & 1\\\\\n",
       "\\end{tabular}\n"
      ],
      "text/markdown": [
       "\n",
       "A tibble: 6 × 8\n",
       "\n",
       "| id &lt;dbl&gt; | date &lt;dttm&gt; | Temperature &lt;dbl&gt; | Humidity &lt;dbl&gt; | Light &lt;dbl&gt; | CO2 &lt;dbl&gt; | HumidityRatio &lt;dbl&gt; | Occupancy &lt;dbl&gt; |\n",
       "|---|---|---|---|---|---|---|---|\n",
       "| 1 | 2015-02-04 17:51:00 | 23.18 | 27.2720 | 426.0 | 721.25 | 0.004792988 | 1 |\n",
       "| 2 | 2015-02-04 17:51:59 | 23.15 | 27.2675 | 429.5 | 714.00 | 0.004783441 | 1 |\n",
       "| 3 | 2015-02-04 17:53:00 | 23.15 | 27.2450 | 426.0 | 713.50 | 0.004779464 | 1 |\n",
       "| 4 | 2015-02-04 17:54:00 | 23.15 | 27.2000 | 426.0 | 708.25 | 0.004771509 | 1 |\n",
       "| 5 | 2015-02-04 17:55:00 | 23.10 | 27.2000 | 426.0 | 704.50 | 0.004756993 | 1 |\n",
       "| 6 | 2015-02-04 17:55:59 | 23.10 | 27.2000 | 419.0 | 701.00 | 0.004756993 | 1 |\n",
       "\n"
      ],
      "text/plain": [
       "  id date                Temperature Humidity Light CO2    HumidityRatio\n",
       "1 1  2015-02-04 17:51:00 23.18       27.2720  426.0 721.25 0.004792988  \n",
       "2 2  2015-02-04 17:51:59 23.15       27.2675  429.5 714.00 0.004783441  \n",
       "3 3  2015-02-04 17:53:00 23.15       27.2450  426.0 713.50 0.004779464  \n",
       "4 4  2015-02-04 17:54:00 23.15       27.2000  426.0 708.25 0.004771509  \n",
       "5 5  2015-02-04 17:55:00 23.10       27.2000  426.0 704.50 0.004756993  \n",
       "6 6  2015-02-04 17:55:59 23.10       27.2000  419.0 701.00 0.004756993  \n",
       "  Occupancy\n",
       "1 1        \n",
       "2 1        \n",
       "3 1        \n",
       "4 1        \n",
       "5 1        \n",
       "6 1        "
      ]
     },
     "metadata": {},
     "output_type": "display_data"
    }
   ],
   "source": [
    "library(readr)\n",
    "datos <- read_csv(\"Archivos/datos_entrenamiento.csv\",\n",
    "                  show_col_types = FALSE)\n",
    "head(datos)"
   ]
  },
  {
   "cell_type": "markdown",
   "id": "75846bc1",
   "metadata": {},
   "source": [
    "La variable `date` nos indica el momento en el que se toma el registro. Por el esquema del experimento los registros se toman en tiempo real a intervalos de un minuto aproximadamente. Los datos se registran ininterrumpidadmente a lo largo de 7 días, por lo cual no consideraremos atributos adicionales con los que podríamos enriquecer los datos como factores climáticos, ya que estos son invariantes a lo largo del periodo de muestra. Sugerimos incluir una variable adicional binaria que identifique si la fecha corresponde a un horario laboral."
   ]
  },
  {
   "cell_type": "markdown",
   "id": "8cac6622",
   "metadata": {},
   "source": [
    "La variable `Temperature` mide en celcius la temperatura de la oficina."
   ]
  },
  {
   "cell_type": "markdown",
   "id": "da351b0a",
   "metadata": {},
   "source": [
    "La variable `Humidity` mide en RH (porcentaje) la humedad relativa en el aire. Aquí 100(%) representa la máxima capacidad de vapor en el aire a la temperatura del momento."
   ]
  },
  {
   "cell_type": "markdown",
   "id": "c9d434db",
   "metadata": {},
   "source": [
    "La variable `Light` mide en lux la intensidad de luz en la oficina. Esta variable es influenciada por la iluminación artificial de la oficina y la luz externa."
   ]
  },
  {
   "cell_type": "markdown",
   "id": "b66a7916",
   "metadata": {},
   "source": [
    "La variable `CO2` mide en ppm (parts per million) la concentración de CO2 del aire en la oficina."
   ]
  },
  {
   "cell_type": "markdown",
   "id": "503d8b03",
   "metadata": {},
   "source": [
    "### De interés."
   ]
  },
  {
   "cell_type": "markdown",
   "id": "d4bad1aa",
   "metadata": {},
   "source": [
    "En la búsqueda de un tema de investigación para el proyecto tuvimos claro que queriamos hallar la intersección entre electrónica asequible (arduino, sensores, sistemas embebidos) y el cuidado del medio ambiente. Este conjunto de datos satisface perfectamente la necesidad de evaluar distintos factores de entorno por medio de tecnología de bajo costo para detectar factores que puedan influenciar sistemas de control. Estos podrían permitir tomar decisiones sobre el uso eficiente de recursos y por consecuente favorecer al cuidado del medio ambiente."
   ]
  },
  {
   "cell_type": "markdown",
   "id": "b1db6b2b",
   "metadata": {},
   "source": [
    "Los autores del dataset sugieren que, aunque existen sistemas de detección altamente capaces, estos suelen depender de sensores que directamente violan la privacidad de los usuarios del espacio como cámaras, micrófonos y seguimiento geo-espacial. Además, el desarrollo de estos sistemas puede significar un costo relvante. La intención es, entonces, el desarrollo de un sistema de bajo costo que abstraiga la necesidad de medir el comportamiento humano y en su lugar detecte factores del entorno."
   ]
  },
  {
   "cell_type": "markdown",
   "id": "5f04cbdd",
   "metadata": {},
   "source": [
    "Por métodos de inferencia estadística queremos identificar la calidad de la información adquirida con el fin de predecir la ocupación de la oficina. Aunque la relación causal usual se encuentre invertida, reconocemos la importancia de diseñar un modelo con alta exactitud y precisión. Incluiremos técnicas de selección y transormación de variables (incluyendo potenciales interacciones) para dedicar el estudio solo a los factores más relevantes y para caracterizar apropiadamente la relación del comportamiento. Utilizaremos también intervalos de confianza con un $\\alpha = 0.05$ para validar nuestros hallazgos y para complementar las pruebas de hipótesis."
   ]
  },
  {
   "cell_type": "markdown",
   "id": "081a3ca2",
   "metadata": {},
   "source": [
    "Algunas pruebas preliminares que buscamos responder son:\n",
    "\n",
    "- Significancia global y parcial de las variables y sus transformaciones.\n",
    "\n",
    "- Validación de supuestos y especificación.\n",
    "\n",
    "- A partir de observaciones no incluidas en el entrenamiento, qué tan acertado es el modelo (pruebas con restricciones).\n",
    "\n",
    "- Interpretación de los intervalos de confianza de los coeficientes y de combinaciones lineales de los mismos."
   ]
  },
  {
   "cell_type": "markdown",
   "id": "c1effd7b",
   "metadata": {},
   "source": [
    "### Retos estadísticos\n",
    "\n",
    "Desde un inicio sabemos que nos enfrentamos a un problema que no debe modelarse como una regresión tradicional por OLS, ya que la naturaleza de los datos puede llevarnos a querer estimar una variable binaria. Tentativamente, utilizaremos modelos lineales generalizados tipo _logit_ y probit.\n",
    "\n",
    "Definitivamente algunas variables contienen información redundante, por lo que dedicaremos un esfuerzo importante al filtro inicial y a la corrección de supuestos como la multicolinealidad (particularmente por temperatura y humedad). Los datos, además, pueden estar autocorrelacionados espacialmente ya que son datos observados secuencialmente, lo cual deberemos evaluar y corregir de ser necesario."
   ]
  },
  {
   "cell_type": "markdown",
   "id": "77605df0",
   "metadata": {},
   "source": [
    "### Referencias"
   ]
  },
  {
   "cell_type": "markdown",
   "id": "82fb14bd",
   "metadata": {},
   "source": [
    "L.M. Candanedo, V. Feldheim, Accurate occupancy detection of an office room from light, temperature, humidity and CO2 measurements using statistical learning models, Energy and Buildings (2015), recuperado de: http://dx.doi.org/10.1016/j.enbuild.2015.11.071"
   ]
  }
 ],
 "metadata": {
  "kernelspec": {
   "display_name": "R",
   "language": "R",
   "name": "ir"
  },
  "language_info": {
   "codemirror_mode": "r",
   "file_extension": ".r",
   "mimetype": "text/x-r-source",
   "name": "R",
   "pygments_lexer": "r",
   "version": "4.2.1"
  }
 },
 "nbformat": 4,
 "nbformat_minor": 5
}
