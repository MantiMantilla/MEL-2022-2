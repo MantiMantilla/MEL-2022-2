{
 "cells": [
  {
   "cell_type": "markdown",
   "id": "f960ea7c",
   "metadata": {},
   "source": [
    "# Proyecto - Desarrollo"
   ]
  },
  {
   "cell_type": "markdown",
   "id": "96d0f7c8",
   "metadata": {},
   "source": [
    "## Detección de la ocupación de una oficina a partir de datos de luz, temperatura, humedad y concentración de CO2, por medio del uso de modelos estadísticos lineales."
   ]
  },
  {
   "cell_type": "markdown",
   "id": "248cf7ba",
   "metadata": {},
   "source": [
    "Alejandro Mantilla - 201711304\n",
    "\n",
    "Ximena Palacio - 201730995 "
   ]
  },
  {
   "cell_type": "code",
   "execution_count": 12,
   "id": "b871c142",
   "metadata": {},
   "outputs": [
    {
     "data": {
      "text/html": [
       "<table class=\"dataframe\">\n",
       "<caption>A tibble: 6 × 8</caption>\n",
       "<thead>\n",
       "\t<tr><th scope=col>id</th><th scope=col>date</th><th scope=col>Temperature</th><th scope=col>Humidity</th><th scope=col>Light</th><th scope=col>CO2</th><th scope=col>HumidityRatio</th><th scope=col>Occupancy</th></tr>\n",
       "\t<tr><th scope=col>&lt;dbl&gt;</th><th scope=col>&lt;dttm&gt;</th><th scope=col>&lt;dbl&gt;</th><th scope=col>&lt;dbl&gt;</th><th scope=col>&lt;dbl&gt;</th><th scope=col>&lt;dbl&gt;</th><th scope=col>&lt;dbl&gt;</th><th scope=col>&lt;dbl&gt;</th></tr>\n",
       "</thead>\n",
       "<tbody>\n",
       "\t<tr><td>1</td><td>2015-02-11 14:48:00</td><td>21.7600</td><td>31.13333</td><td>437.3333</td><td>1029.667</td><td>0.005021011</td><td>1</td></tr>\n",
       "\t<tr><td>2</td><td>2015-02-11 14:49:00</td><td>21.7900</td><td>31.00000</td><td>437.3333</td><td>1000.000</td><td>0.005008581</td><td>1</td></tr>\n",
       "\t<tr><td>3</td><td>2015-02-11 14:50:00</td><td>21.7675</td><td>31.12250</td><td>434.0000</td><td>1003.750</td><td>0.005021569</td><td>1</td></tr>\n",
       "\t<tr><td>4</td><td>2015-02-11 14:51:00</td><td>21.7675</td><td>31.12250</td><td>439.0000</td><td>1009.500</td><td>0.005021569</td><td>1</td></tr>\n",
       "\t<tr><td>5</td><td>2015-02-11 14:51:59</td><td>21.7900</td><td>31.13333</td><td>437.3333</td><td>1005.667</td><td>0.005030298</td><td>1</td></tr>\n",
       "\t<tr><td>6</td><td>2015-02-11 14:53:00</td><td>21.7600</td><td>31.26000</td><td>437.3333</td><td>1014.333</td><td>0.005041605</td><td>1</td></tr>\n",
       "</tbody>\n",
       "</table>\n"
      ],
      "text/latex": [
       "A tibble: 6 × 8\n",
       "\\begin{tabular}{llllllll}\n",
       " id & date & Temperature & Humidity & Light & CO2 & HumidityRatio & Occupancy\\\\\n",
       " <dbl> & <dttm> & <dbl> & <dbl> & <dbl> & <dbl> & <dbl> & <dbl>\\\\\n",
       "\\hline\n",
       "\t 1 & 2015-02-11 14:48:00 & 21.7600 & 31.13333 & 437.3333 & 1029.667 & 0.005021011 & 1\\\\\n",
       "\t 2 & 2015-02-11 14:49:00 & 21.7900 & 31.00000 & 437.3333 & 1000.000 & 0.005008581 & 1\\\\\n",
       "\t 3 & 2015-02-11 14:50:00 & 21.7675 & 31.12250 & 434.0000 & 1003.750 & 0.005021569 & 1\\\\\n",
       "\t 4 & 2015-02-11 14:51:00 & 21.7675 & 31.12250 & 439.0000 & 1009.500 & 0.005021569 & 1\\\\\n",
       "\t 5 & 2015-02-11 14:51:59 & 21.7900 & 31.13333 & 437.3333 & 1005.667 & 0.005030298 & 1\\\\\n",
       "\t 6 & 2015-02-11 14:53:00 & 21.7600 & 31.26000 & 437.3333 & 1014.333 & 0.005041605 & 1\\\\\n",
       "\\end{tabular}\n"
      ],
      "text/markdown": [
       "\n",
       "A tibble: 6 × 8\n",
       "\n",
       "| id &lt;dbl&gt; | date &lt;dttm&gt; | Temperature &lt;dbl&gt; | Humidity &lt;dbl&gt; | Light &lt;dbl&gt; | CO2 &lt;dbl&gt; | HumidityRatio &lt;dbl&gt; | Occupancy &lt;dbl&gt; |\n",
       "|---|---|---|---|---|---|---|---|\n",
       "| 1 | 2015-02-11 14:48:00 | 21.7600 | 31.13333 | 437.3333 | 1029.667 | 0.005021011 | 1 |\n",
       "| 2 | 2015-02-11 14:49:00 | 21.7900 | 31.00000 | 437.3333 | 1000.000 | 0.005008581 | 1 |\n",
       "| 3 | 2015-02-11 14:50:00 | 21.7675 | 31.12250 | 434.0000 | 1003.750 | 0.005021569 | 1 |\n",
       "| 4 | 2015-02-11 14:51:00 | 21.7675 | 31.12250 | 439.0000 | 1009.500 | 0.005021569 | 1 |\n",
       "| 5 | 2015-02-11 14:51:59 | 21.7900 | 31.13333 | 437.3333 | 1005.667 | 0.005030298 | 1 |\n",
       "| 6 | 2015-02-11 14:53:00 | 21.7600 | 31.26000 | 437.3333 | 1014.333 | 0.005041605 | 1 |\n",
       "\n"
      ],
      "text/plain": [
       "  id date                Temperature Humidity Light    CO2      HumidityRatio\n",
       "1 1  2015-02-11 14:48:00 21.7600     31.13333 437.3333 1029.667 0.005021011  \n",
       "2 2  2015-02-11 14:49:00 21.7900     31.00000 437.3333 1000.000 0.005008581  \n",
       "3 3  2015-02-11 14:50:00 21.7675     31.12250 434.0000 1003.750 0.005021569  \n",
       "4 4  2015-02-11 14:51:00 21.7675     31.12250 439.0000 1009.500 0.005021569  \n",
       "5 5  2015-02-11 14:51:59 21.7900     31.13333 437.3333 1005.667 0.005030298  \n",
       "6 6  2015-02-11 14:53:00 21.7600     31.26000 437.3333 1014.333 0.005041605  \n",
       "  Occupancy\n",
       "1 1        \n",
       "2 1        \n",
       "3 1        \n",
       "4 1        \n",
       "5 1        \n",
       "6 1        "
      ]
     },
     "metadata": {},
     "output_type": "display_data"
    }
   ],
   "source": [
    "library(readr)\n",
    "datos <- read_csv(\"Archivos/datos_entrenamiento.csv\",\n",
    "                  show_col_types = FALSE)\n",
    "head(datos)"
   ]
  },
  {
   "cell_type": "code",
   "execution_count": 2,
   "id": "eb4fc973",
   "metadata": {},
   "outputs": [],
   "source": [
    "datos$DayOfWeek <- lubridate::wday(datos$date, week_start=1)\n",
    "datos$WorkingDay <- as.numeric(lubridate::wday(datos$date, week_start=1) <= 5)\n"
   ]
  },
  {
   "cell_type": "code",
   "execution_count": 13,
   "id": "2a2ce576",
   "metadata": {},
   "outputs": [],
   "source": [
    "datos$HourOfDay <- lubridate::hour(datos$date)\n",
    "datos$MinuteOfHour <- lubridate::minute(datos$date)\n"
   ]
  },
  {
   "cell_type": "code",
   "execution_count": null,
   "id": "fb2393e5",
   "metadata": {},
   "outputs": [],
   "source": []
  },
  {
   "cell_type": "code",
   "execution_count": 6,
   "id": "dfa6abd3",
   "metadata": {},
   "outputs": [],
   "source": [
    "datos$date <- NULL"
   ]
  },
  {
   "cell_type": "code",
   "execution_count": 14,
   "id": "af27af32",
   "metadata": {},
   "outputs": [
    {
     "data": {
      "text/html": [
       "<table class=\"dataframe\">\n",
       "<caption>A tibble: 6 × 10</caption>\n",
       "<thead>\n",
       "\t<tr><th scope=col>id</th><th scope=col>date</th><th scope=col>Temperature</th><th scope=col>Humidity</th><th scope=col>Light</th><th scope=col>CO2</th><th scope=col>HumidityRatio</th><th scope=col>Occupancy</th><th scope=col>HourOfDay</th><th scope=col>MinuteOfHour</th></tr>\n",
       "\t<tr><th scope=col>&lt;dbl&gt;</th><th scope=col>&lt;dttm&gt;</th><th scope=col>&lt;dbl&gt;</th><th scope=col>&lt;dbl&gt;</th><th scope=col>&lt;dbl&gt;</th><th scope=col>&lt;dbl&gt;</th><th scope=col>&lt;dbl&gt;</th><th scope=col>&lt;dbl&gt;</th><th scope=col>&lt;int&gt;</th><th scope=col>&lt;int&gt;</th></tr>\n",
       "</thead>\n",
       "<tbody>\n",
       "\t<tr><td>1</td><td>2015-02-11 14:48:00</td><td>21.7600</td><td>31.13333</td><td>437.3333</td><td>1029.667</td><td>0.005021011</td><td>1</td><td>14</td><td>48</td></tr>\n",
       "\t<tr><td>2</td><td>2015-02-11 14:49:00</td><td>21.7900</td><td>31.00000</td><td>437.3333</td><td>1000.000</td><td>0.005008581</td><td>1</td><td>14</td><td>49</td></tr>\n",
       "\t<tr><td>3</td><td>2015-02-11 14:50:00</td><td>21.7675</td><td>31.12250</td><td>434.0000</td><td>1003.750</td><td>0.005021569</td><td>1</td><td>14</td><td>50</td></tr>\n",
       "\t<tr><td>4</td><td>2015-02-11 14:51:00</td><td>21.7675</td><td>31.12250</td><td>439.0000</td><td>1009.500</td><td>0.005021569</td><td>1</td><td>14</td><td>51</td></tr>\n",
       "\t<tr><td>5</td><td>2015-02-11 14:51:59</td><td>21.7900</td><td>31.13333</td><td>437.3333</td><td>1005.667</td><td>0.005030298</td><td>1</td><td>14</td><td>51</td></tr>\n",
       "\t<tr><td>6</td><td>2015-02-11 14:53:00</td><td>21.7600</td><td>31.26000</td><td>437.3333</td><td>1014.333</td><td>0.005041605</td><td>1</td><td>14</td><td>53</td></tr>\n",
       "</tbody>\n",
       "</table>\n"
      ],
      "text/latex": [
       "A tibble: 6 × 10\n",
       "\\begin{tabular}{llllllllll}\n",
       " id & date & Temperature & Humidity & Light & CO2 & HumidityRatio & Occupancy & HourOfDay & MinuteOfHour\\\\\n",
       " <dbl> & <dttm> & <dbl> & <dbl> & <dbl> & <dbl> & <dbl> & <dbl> & <int> & <int>\\\\\n",
       "\\hline\n",
       "\t 1 & 2015-02-11 14:48:00 & 21.7600 & 31.13333 & 437.3333 & 1029.667 & 0.005021011 & 1 & 14 & 48\\\\\n",
       "\t 2 & 2015-02-11 14:49:00 & 21.7900 & 31.00000 & 437.3333 & 1000.000 & 0.005008581 & 1 & 14 & 49\\\\\n",
       "\t 3 & 2015-02-11 14:50:00 & 21.7675 & 31.12250 & 434.0000 & 1003.750 & 0.005021569 & 1 & 14 & 50\\\\\n",
       "\t 4 & 2015-02-11 14:51:00 & 21.7675 & 31.12250 & 439.0000 & 1009.500 & 0.005021569 & 1 & 14 & 51\\\\\n",
       "\t 5 & 2015-02-11 14:51:59 & 21.7900 & 31.13333 & 437.3333 & 1005.667 & 0.005030298 & 1 & 14 & 51\\\\\n",
       "\t 6 & 2015-02-11 14:53:00 & 21.7600 & 31.26000 & 437.3333 & 1014.333 & 0.005041605 & 1 & 14 & 53\\\\\n",
       "\\end{tabular}\n"
      ],
      "text/markdown": [
       "\n",
       "A tibble: 6 × 10\n",
       "\n",
       "| id &lt;dbl&gt; | date &lt;dttm&gt; | Temperature &lt;dbl&gt; | Humidity &lt;dbl&gt; | Light &lt;dbl&gt; | CO2 &lt;dbl&gt; | HumidityRatio &lt;dbl&gt; | Occupancy &lt;dbl&gt; | HourOfDay &lt;int&gt; | MinuteOfHour &lt;int&gt; |\n",
       "|---|---|---|---|---|---|---|---|---|---|\n",
       "| 1 | 2015-02-11 14:48:00 | 21.7600 | 31.13333 | 437.3333 | 1029.667 | 0.005021011 | 1 | 14 | 48 |\n",
       "| 2 | 2015-02-11 14:49:00 | 21.7900 | 31.00000 | 437.3333 | 1000.000 | 0.005008581 | 1 | 14 | 49 |\n",
       "| 3 | 2015-02-11 14:50:00 | 21.7675 | 31.12250 | 434.0000 | 1003.750 | 0.005021569 | 1 | 14 | 50 |\n",
       "| 4 | 2015-02-11 14:51:00 | 21.7675 | 31.12250 | 439.0000 | 1009.500 | 0.005021569 | 1 | 14 | 51 |\n",
       "| 5 | 2015-02-11 14:51:59 | 21.7900 | 31.13333 | 437.3333 | 1005.667 | 0.005030298 | 1 | 14 | 51 |\n",
       "| 6 | 2015-02-11 14:53:00 | 21.7600 | 31.26000 | 437.3333 | 1014.333 | 0.005041605 | 1 | 14 | 53 |\n",
       "\n"
      ],
      "text/plain": [
       "  id date                Temperature Humidity Light    CO2      HumidityRatio\n",
       "1 1  2015-02-11 14:48:00 21.7600     31.13333 437.3333 1029.667 0.005021011  \n",
       "2 2  2015-02-11 14:49:00 21.7900     31.00000 437.3333 1000.000 0.005008581  \n",
       "3 3  2015-02-11 14:50:00 21.7675     31.12250 434.0000 1003.750 0.005021569  \n",
       "4 4  2015-02-11 14:51:00 21.7675     31.12250 439.0000 1009.500 0.005021569  \n",
       "5 5  2015-02-11 14:51:59 21.7900     31.13333 437.3333 1005.667 0.005030298  \n",
       "6 6  2015-02-11 14:53:00 21.7600     31.26000 437.3333 1014.333 0.005041605  \n",
       "  Occupancy HourOfDay MinuteOfHour\n",
       "1 1         14        48          \n",
       "2 1         14        49          \n",
       "3 1         14        50          \n",
       "4 1         14        51          \n",
       "5 1         14        51          \n",
       "6 1         14        53          "
      ]
     },
     "metadata": {},
     "output_type": "display_data"
    }
   ],
   "source": [
    "head(datos)"
   ]
  },
  {
   "cell_type": "code",
   "execution_count": null,
   "id": "eb93d47a",
   "metadata": {},
   "outputs": [],
   "source": [
    "pairs(datos,\n",
    "      col = \"#B04C7A\")"
   ]
  },
  {
   "cell_type": "code",
   "execution_count": null,
   "id": "1ff55403",
   "metadata": {},
   "outputs": [],
   "source": []
  },
  {
   "cell_type": "code",
   "execution_count": null,
   "id": "894617a7",
   "metadata": {},
   "outputs": [],
   "source": [
    "summary(datos)"
   ]
  },
  {
   "cell_type": "code",
   "execution_count": null,
   "id": "b8ba6b8e",
   "metadata": {},
   "outputs": [],
   "source": [
    "hist(datos$Occupancy, breaks = c(0, 0.5, 1 ),\n",
    "     col = \"#B04C7A\",\n",
    "     main = \"Histograma de la ocupación.\",\n",
    "     xlab = \"Ocupación\")"
   ]
  },
  {
   "cell_type": "code",
   "execution_count": null,
   "id": "51daaef1",
   "metadata": {},
   "outputs": [],
   "source": [
    "plot(datos$date,\n",
    "     datos$Occupancy,\n",
    "     ylab = \"Ocupación\",\n",
    "     xlab = \"Fecha\",\n",
    "     col = \"#E79C82\")"
   ]
  },
  {
   "cell_type": "code",
   "execution_count": null,
   "id": "c62b8d40",
   "metadata": {},
   "outputs": [],
   "source": [
    "hist(datos$Temperature,\n",
    "     xlab = \"Temperatura\",\n",
    "     col = \"#D86036\")"
   ]
  },
  {
   "cell_type": "code",
   "execution_count": null,
   "id": "d6e3d90d",
   "metadata": {},
   "outputs": [],
   "source": [
    "boxplot(datos$Temperature ~ datos$Occupancy,\n",
    "     xlab = \"Ocupación\",\n",
    "     col = \"#D86036\")"
   ]
  },
  {
   "cell_type": "code",
   "execution_count": null,
   "id": "77d1ce38",
   "metadata": {},
   "outputs": [],
   "source": [
    "plot(datos$Temperature,\n",
    "     datos$Occupancy,\n",
    "     ylab = \"Ocupación\",\n",
    "     xlab = \"Temperatura\",\n",
    "     col = \"#D86036\")"
   ]
  },
  {
   "cell_type": "code",
   "execution_count": null,
   "id": "05661084",
   "metadata": {},
   "outputs": [],
   "source": [
    "hist(datos$Humidity,\n",
    "     xlab = \"Humedad\",\n",
    "     col = \"#CF2D4C\")"
   ]
  },
  {
   "cell_type": "code",
   "execution_count": null,
   "id": "8738c420",
   "metadata": {},
   "outputs": [],
   "source": [
    "boxplot(datos$Humidity ~ datos$Occupancy,\n",
    "     xlab = \"Ocupación\",\n",
    "     col = \"#CF2D4C\")"
   ]
  },
  {
   "cell_type": "code",
   "execution_count": null,
   "id": "a1df425c",
   "metadata": {},
   "outputs": [],
   "source": [
    "plot(datos$Humidity,\n",
    "     datos$Occupancy,\n",
    "     ylab = \"Ocupación\",\n",
    "     xlab = \"Humedad\",\n",
    "     col = \"#CF2D4C\")"
   ]
  },
  {
   "cell_type": "code",
   "execution_count": null,
   "id": "fc036f3b",
   "metadata": {},
   "outputs": [],
   "source": [
    "hist(datos$Light,\n",
    "     xlab = \"Intensidad de luz\",\n",
    "     col = \"#B04C7A\")"
   ]
  },
  {
   "cell_type": "code",
   "execution_count": null,
   "id": "3053c8fd",
   "metadata": {},
   "outputs": [],
   "source": [
    "boxplot(datos$Light ~ datos$Occupancy,\n",
    "     xlab = \"Ocupación\",\n",
    "     col = \"#B04C7A\")"
   ]
  },
  {
   "cell_type": "code",
   "execution_count": null,
   "id": "f5e5a43e",
   "metadata": {},
   "outputs": [],
   "source": [
    "plot(datos$Light,\n",
    "     datos$Occupancy,\n",
    "     ylab = \"Ocupación\",\n",
    "     xlab = \"Intensidad de luz\",\n",
    "     col = \"#B04C7A\")"
   ]
  },
  {
   "cell_type": "code",
   "execution_count": null,
   "id": "14d11740",
   "metadata": {},
   "outputs": [],
   "source": [
    "hist(datos$CO2,\n",
    "     xlab = \"Concentración de CO2\",\n",
    "     col = \"#623A6C\")"
   ]
  },
  {
   "cell_type": "code",
   "execution_count": null,
   "id": "789f2f58",
   "metadata": {},
   "outputs": [],
   "source": [
    "boxplot(datos$CO2 ~ datos$Occupancy,\n",
    "     xlab = \"Concentración de CO2\",\n",
    "     col = \"#623A6C\")"
   ]
  },
  {
   "cell_type": "code",
   "execution_count": null,
   "id": "7d47fb64",
   "metadata": {},
   "outputs": [],
   "source": [
    "plot(datos$CO2,\n",
    "     datos$Occupancy,\n",
    "     ylab = \"Ocupación\",\n",
    "     xlab = \"Concentración de CO2\",\n",
    "     col = \"#623A6C\")"
   ]
  },
  {
   "cell_type": "code",
   "execution_count": null,
   "id": "770e3c46",
   "metadata": {},
   "outputs": [],
   "source": [
    "hist(datos$HumidityRatio,\n",
    "     xlab = \"Tasa de humedad\",\n",
    "     col = \"#545E66\")"
   ]
  },
  {
   "cell_type": "code",
   "execution_count": null,
   "id": "a9a42217",
   "metadata": {},
   "outputs": [],
   "source": [
    "boxplot(datos$HumidityRatio ~ datos$Occupancy,\n",
    "     xlab = \"Tasa de humedad\",\n",
    "     col = \"#545E66\")"
   ]
  },
  {
   "cell_type": "code",
   "execution_count": null,
   "id": "46c1ae1b",
   "metadata": {},
   "outputs": [],
   "source": [
    "plot(datos$HumidityRatio,\n",
    "     datos$Occupancy,\n",
    "     ylab = \"Ocupación\",\n",
    "     xlab = \"Tasa de humedad\",\n",
    "     col = \"#545E66\")"
   ]
  },
  {
   "cell_type": "code",
   "execution_count": null,
   "id": "e23a4c7d",
   "metadata": {},
   "outputs": [],
   "source": []
  }
 ],
 "metadata": {
  "kernelspec": {
   "display_name": "R",
   "language": "R",
   "name": "ir"
  },
  "language_info": {
   "codemirror_mode": "r",
   "file_extension": ".r",
   "mimetype": "text/x-r-source",
   "name": "R",
   "pygments_lexer": "r",
   "version": "4.2.1"
  }
 },
 "nbformat": 4,
 "nbformat_minor": 5
}
