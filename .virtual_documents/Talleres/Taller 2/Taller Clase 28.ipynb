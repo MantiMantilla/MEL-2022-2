library(ISLR)
data <- College
data["Private"] <- ifelse(data$Private == "Yes", 1, 0)
data <- data[c("Enroll", "Private", "Room.Board", "Books", "Expend")]
head(data)


?College


boxplot(data$Enroll ~ data$Private)


library(AER)
# Modelo de lineal generalizado Poisson
modelo_pois <- glm(Enroll ~ .,
                   family = poisson, data = data)

summary(modelo_pois)
dispersiontest(modelo_pois)


library(MASS)

modelo_nb <- glm.nb(Enroll ~ Private + Room.Board + Books + Expend, data = data)

summary(modelo_nb)
pchisq(2 * (logLik(modelo_nb)
            - logLik(modelo_pois)), df = 1, lower.tail = FALSE)


modelo_nb_nopriv <- update(modelo_nb, . ~ . - Private)
anova(modelo_nb, modelo_nb_nopriv)


mat_a <- matrix(c(1, 1, 4000, 400, 8000), nrow = 1)
beta <- matrix(modelo_pois$coefficients, ncol = 1)
lb_chi_sq <- qchisq(0.025, df = 1)
ub_chi_sq <- qchisq(0.975, df = 1)
X <- model.matrix(~., data = data[-1])
W <- diag(c(exp(X %*% beta)))
beta_lb <- mat_a %*% beta - sqrt(ub_chi_sq / (solve(mat_a %*% solve(t(X) %*% W %*% X) %*% t(mat_a))))
beta_ub <- mat_a %*% beta + sqrt(lb_chi_sq / (solve(mat_a %*% solve(t(X) %*% W %*% X) %*% t(mat_a))))
interv <- cbind(beta_lb, mat_a %*% beta, beta_ub)
colnames(interv) <- c(0.025, "Mean", 0.975)
interv


modelo_pois_inter <- glm(Enroll ~ Private*.,
                   family = poisson, data = data)
summary(modelo_pois_inter)


mat_a <- matrix(c(c(0, 0, 0, 0, 0, 1, 0, 0),
                  c(0, 0, 0, 0, 0, 0, 1, 0),
                  c(0, 0, 0, 0, 0, 0, 0, 1)),
                nrow = 3, ncol = length(modelo_pois_inter$coefficients),
                byrow = TRUE)
beta <- matrix(modelo_pois_inter$coefficients, ncol = 1)
vec_c <- matrix(c(0, 0, 0), nrow = 3, ncol = 1)
X <- model.matrix(~Private*., data = data[-1])
W <- diag(c(exp(X %*% beta)))

EP <- t(mat_a %*% beta) %*% solve(mat_a %*% solve(t(X) %*% W %*% X) %*% t(mat_a)) %*% (mat_a %*% beta)
EP > qchisq(0.975, df = 3)


library(car)
vif(modelo_pois)


vif(modelo_pois_inter)
