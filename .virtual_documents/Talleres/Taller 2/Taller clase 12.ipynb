datos <- ISLR::Carseats

# Excluimos la columna shelve_loc_good para no
# introducir multicolinealidad al modelo.
shelve_loc_bad <- as.double(datos$ShelveLoc == "Bad")
shelve_loc_medium <- as.double(datos$ShelveLoc == "Medium")

urban <- as.double(datos$Urban == "Yes")

datos <- cbind(datos[c(1, 4, 3)], urban, shelve_loc_bad, shelve_loc_medium)
colnames(datos) <- c("Sales", "Advertising", "Income", "Urban",
                     "Shelve_loc_bad", "Shelve_loc_medium")

head(datos)


















