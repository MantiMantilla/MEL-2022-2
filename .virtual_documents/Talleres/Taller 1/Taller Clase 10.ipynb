library(ISLR)
data  <- Auto
names <- Auto$name[1:100]
data  <- data[1:100, 1:5]
head(data)


y  <- data$mpg

x1 <- data$cylinders
x2 <- data$displacement
x3 <- data$horsepower
x4 <- data$weight


fit1 <- lm(y ~ x1 + x2 + x3 + x4)
summary(fit1)


fit2 <- lm(y ~ x2 + x3)
summary(fit2)


anova(fit1, fit2)


xp1 <- c(6, 300, 150, 3600)
xp2 <- c(6, 300, 100, 2800)
xp3 <- c(4, 250, 100, 3000)


n <- length(x1)
p <- 5
q <- 3

xp <- rbind(xp1, xp2, xp3)
A <- cbind(1, xp)

c <- c(15, 14, 12)

X <- cbind(1, x1, x2, x3, x4)

xtx <- t(X) %*% X
H <- solve(xtx)

beta_hat <- H %*% t(X) %*% y

y_hat <- X %*% beta_hat

s2 <- sum((y - y_hat)^2) / (n - p)

beta_r <- beta_hat +
          (H %*% t(A) %*% solve(A %*% H %*% t(A)) %*% (c - (A %*% beta_hat)))

EP <- (sum((y_hat - (X %*% beta_r)) ^ 2) / q) / s2

pvalue <- 1 - pf(EP, q, (n - p))
pvalue


SSR <- sum(y_hat - mean(y)) ^ 2

SST <- sum(y - mean(y)) ^ 2

R2 <- SSR / SST
R2
