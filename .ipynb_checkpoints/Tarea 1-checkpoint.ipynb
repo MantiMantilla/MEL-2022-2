{
 "cells": [
  {
   "cell_type": "markdown",
   "id": "2aad01e2",
   "metadata": {},
   "source": [
    "# Tarea 1 - MEL\n",
    "\n",
    "## 1. Yo que se \n",
    "  \n",
    "\n",
    "2. \n",
    "\n",
    "lkjahsdflkajshd\n",
    "\n",
    "$ x_1 = 57$\n",
    "\n",
    "$$\n",
    "\\sum_{i=1}^{7}{x_i}\n",
    "$$\n"
   ]
  },
  {
   "cell_type": "code",
   "execution_count": null,
   "id": "6390b4a9",
   "metadata": {},
   "outputs": [],
   "source": [
    "x <- c(1,2,3)\n",
    "x"
   ]
  },
  {
   "cell_type": "code",
   "execution_count": null,
   "id": "acc94a8d",
   "metadata": {},
   "outputs": [],
   "source": []
  }
 ],
 "metadata": {
  "kernelspec": {
   "display_name": "R",
   "language": "R",
   "name": "ir"
  }
 },
 "nbformat": 4,
 "nbformat_minor": 5
}
