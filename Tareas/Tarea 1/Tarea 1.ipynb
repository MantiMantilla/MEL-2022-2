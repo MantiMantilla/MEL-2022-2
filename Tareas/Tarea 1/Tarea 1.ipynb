{
 "cells": [
  {
   "cell_type": "markdown",
   "id": "2aad01e2",
   "metadata": {},
   "source": [
    "# Tarea 1 - MEL\n",
    "\n",
    "Alejandro Mantilla - 201711304\n",
    "\n",
    "Ximena Palacio - 201730995\n",
    "\n",
    "Juan Manuel Betancourt - 201632544"
   ]
  },
  {
   "cell_type": "markdown",
   "id": "ca847e7b",
   "metadata": {},
   "source": [
    "## Índice\n",
    "\n",
    "- [Parte A](#Parte-A.-Problemas-Teóricos-y-Conceptuales.)\n",
    "    - [Problema 1](#Problema-1.-Fundamentos-de-Inferencia-Paramétrica.)\n",
    "        - [__I.__](#I.-$\\bar{Y}-=-\\frac{1}{n}\\sum_{i=1}^{n}Y_{i}-\\sim-\\text{Normal}(0,1/n)$)\n",
    "        - [__II.__](#II.-$\\sum_{i=1}^{n}Y_{i}^{2}-\\sim-\\chi^{2}(n)$)\n",
    "        - [__III.__](#III.-$\\sum_{i=1}^{n}\\left(Y_{i}-\\bar{Y}\\right)^{2}-\\sim-\\chi^{2}(n-1)$)\n",
    "        - [__IV.__](#IV.-$c-\\cdot-\\frac{n\\bar{Y}^{2}}{\\sum_{i=1}^{n}\\left(Y_{i}-\\bar{Y}\\right)^{2}}-\\sim-F(1,-n-1)$;-con-$c-=-?$)\n",
    "    - [Problema 2](#Problema-2.-Fundamentos-Distribuciones-Multivariadas:-Propiedades.)\n",
    "    - [Problema 3](#Problema-3.-Fundamentos-de-Inferencia-Paramétrica.)\n",
    "    - [Problema 4](#Problema-4.-Fundamentos-de-Inferencia-Paramétrica.)\n",
    "        - [__I.__](#I.-Muestre-que-$\\sum_{i=1}^{n}a_{i}-=-1$.)\n",
    "        - [__II.__](#II.-Demuestre-que-de-todos-los-posibles-estimadores-insesgados-lineales-para-$\\mu$,-$\\bar{Y}$-es-el-que-tiene-menor-varianza-(BLUE).)\n",
    "    - [Problema 5](#Problema-5.-Fundamentos-del-Modelo-de-Regresión-Lineal.)\n",
    "        - [__I.__](#I.-Sí-$p=n$,-qué-relación-hay-entre-$Y$-y-$\\hat-Y$?)\n",
    "        - [__II.__](#II.-Porque-($Y$-y-$\\hat-Y$)-debe-ser-ortogonal-a-cualquier-$\\omega-\\in-\\Omega$)\n",
    "        - [__III.__](#III.-Ahora-suponga-que-se-hace-una-transformación-lineal-para-crean-nuevas-variables-${Z}$-tal-que-la-nueva-matriz-de-datos-es:-$Z=XA$,-donde-$A-\\in-\\mathbb{R}^{p\\times-p}$-es-una-matriz-de-rango-completo.-Sí-se-define--$\\Omega_z-\\{Z\\theta-\\vert{\\theta}\\in-\\mathbb{R}^p-\\}$-entonces,-¿qué-relación-existe-entre\\-$\\hat-Y$-y-la-proyección-de-$Y$-en-$\\Omega_z$?)\n",
    "        - [__IV.__](#IV.-Con-el-resultado-anterior,-y-usando-los-datos-measure.txt,-se-usa-el-contorno-del-pecho-como-la-variable-de-respuesta-$Y$-y-las-otras-dos-como-variables-independientes-$X_1$-y-$X_2$.-Se-estima-el-modelo-de-regresión-correspondiente.)\n",
    "            - [__a.__](#a.-----Se-quiere-encontrar-los-vectores-$\\hat{Y}$-con-los-modelos-que-tiene-las-variables-$X$-y-las-variables-$W$)\n",
    "            - [__b.__](#b.-Contrastar-un-intervalo-de-confianza-para-el-valor-esperado-del-contorno-del-pecho)\n",
    "    - [Problema 6](#Problema-6.-Fundamentos-de-Álgebra-para-Modelos-Lineales.)\n",
    "        - [__I.__](#I.-$\\frac{d\\alpha_1}{dz}-=-a$)\n",
    "        - [__II.__](#II.-$\\frac{d\\alpha_2}{dz}-=-(\\mathbb{M}-+-\\mathbb{M}^T)z$.)\n",
    "    - [Problema 7](#Problema-7.-Fundamentos-de-Inferencia-Paramétrica.)\n",
    "        - [__I.__](#I.-Halle-el-estimador-de-máxima-verosimilitud-$\\hat{\\theta}$)\n",
    "        - [__II.__](#II.-----Comente-sobre-la-distribución-de-$\\frac{\\hat{\\theta}-{\\theta}}{\\sqrt{\\left(\\frac{{\\theta}^\\mathbf{2}}{t{n}}\\right)}\\-}\\-$cuando-$n$-representa-un-tamaño-de-muestra-grande.)\n",
    "        - [__III.__](#III.-Consulte-sobre-el-teorema-de-Slutsky-y-úselo-junto-con-la-información-del-numeral-anterior-para-construir-un-intervalo-de-confianza-$(1-\\alpha)$-para-el-parámetro-$\\theta$.)\n",
    "        - [__IV.__](#IV.-----Suponiendo-que-el-número-de-entradas-que-ocurren-al-baño-del-5-piso-del-edificio-ML,-se-comportan-como-un-proceso-Poisson-con-tasa-$\\frac{\\mathbf{1}}{\\mathbf{\\theta}}$.-Y-suponiendo-que,-en-una-semana,-el-promedio-de-entradas-por-hora-es-de-21.4-y-que-el-día-laboral-tiene-12-horas.--Se-construye-un-intervalo-de-confianza-para-la-media-del-tiempo-entre-arribos-con-una-confianza-del-95%)\n",
    "    - [Problema 8](#Problema-8.-Proyecciones-y-Distribuciones.)\n",
    "        - [__I.__](#)\n",
    "        - [__II.__](#)\n",
    "        - [__III.__](#)\n",
    "- [Parte B](#Parte-B.-Problemas-Aplicados-con-Datos-Reales.)\n",
    "    - [Problema 9](#Problema-9.-Carseats-Sales-Data.)\n",
    "        - [__I.__](#)\n",
    "        - [__II.__](#)\n",
    "        - [__III.__](#)\n",
    "        - [__IV.__](#)\n",
    "        - [__V.__](#)\n",
    "        - [__VI.__](#)\n",
    "        - [__VII.__](#)\n",
    "        - [__VIII.__](#)\n",
    "    - [Problema 10](#Problema-10.-Problema-Libre.)\n",
    "        - [__I.__](#I.----Haga-una-descripción-de-los-datos-y-del-problema-general-sobre-el-cual-quiere-inferir.-Muestre-algunas-gráficas-que-resuman-el-comportamiento-de-los-datos.)\n",
    "        - [__II.__](#II.----Se-realizan-las-siguientes-pruebas)\n",
    "            - [__a.__](#a.-Significancia-individual-de-cada-variable)\n",
    "            - [__b.__](#b.-Significancia-global-del-modelo)\n",
    "            - [__c.__](#c.-Significancia-parcial-de-algunas-variables)\n",
    "            - [__d.__](#d.-Una-combinación-lineal-de-betas-(que-tenga-sentido-dentro-del-contexto-del-problema))"
   ]
  },
  {
   "cell_type": "markdown",
   "id": "888a75fb",
   "metadata": {},
   "source": [
    "## Parte A. Problemas Teóricos y Conceptuales."
   ]
  },
  {
   "cell_type": "markdown",
   "id": "d4c8c825",
   "metadata": {},
   "source": [
    "### Problema 1. Fundamentos de Inferencia Paramétrica."
   ]
  },
  {
   "cell_type": "markdown",
   "id": "4895cd6d",
   "metadata": {},
   "source": [
    "Ayuda:\n",
    "* Si $Z \\sim \\text{Normal}(0, 1)$, entonces $Z^{2}\\sim \\chi^{2}(1)$.\n",
    "* Si $Z_{1} \\sim \\chi^{2}(v_{1})$ y $Z_{2} \\sim \\chi^{2}(v_{2})$ y  $Z_{1}$ y $Z_{2}$ son independientes, entonces $(Z_{1} + Z_{2}) \\sim\\chi^{2}(v_{1} + v_{2})$.\n",
    "* $\\sum_{i=1}^{n}\\left(Y_{i}-\\bar{Y}\\right)^{2}$ y $\\bar{Y}$ son independientes en el caso de $Y_{i} \\sim \\text{Normal}(\\mu,\\sigma^{2})$.\n",
    "\n",
    "Se tiene una muestra aleatoria $Y_1, Y_2, \\cdots , Y_n$ de una población $Y \\sim \\text{Normal}(0, 1)$. Demuestre:"
   ]
  },
  {
   "cell_type": "markdown",
   "id": "224e9468",
   "metadata": {},
   "source": [
    "#### __I.__ $\\bar{Y} = \\frac{1}{n}\\sum_{i=1}^{n}Y_{i} \\sim \\text{Normal}(0,1/n)$"
   ]
  },
  {
   "cell_type": "markdown",
   "id": "443a26a6",
   "metadata": {},
   "source": [
    "Partimos de que\n",
    "\n",
    "$$\n",
    "Y_{i}\\sim \\text{Normal}(0,1).\n",
    "$$"
   ]
  },
  {
   "cell_type": "markdown",
   "id": "d7c71a18",
   "metadata": {},
   "source": [
    "Por propiedad de la varianza de la distribución normal, multiplicar la variable por un factor, afecta la distribución de manera que la varianza se multiplica por el cuadrado del factor.\n",
    "\n",
    "\\begin{align*}\n",
    "    \\frac{Y_{i}}{n} &\\sim \\text{Normal}(0,1/{n^{2}})\\\\\n",
    "    \\frac{Y_{1}}{n} + \\frac{Y_{2}}{n} + \\cdots + \\frac{Y_{n}}{n} &\\sim \\text{Normal}(0,\\underbrace{1/n^{2} + 1/n^{2} + \\cdots + 1/n^{2}}_{n \\text{ veces}} )\\\\\n",
    "    \\sum_{i=1}^{n}\\frac{Y_{i}}{n} = \\frac{1}{n}\\sum_{i=1}^{n}Y_{i} &\\sim \\text{Normal}(0,\\sum_{i=1}^{n}1/{n^{2}})\\\\\n",
    "    \\frac{1}{n}\\sum_{i=1}^{n}Y_{i} &\\sim \\text{Normal}(0,\\frac{1}{n}\\underbrace{\\sum_{i=1}^{n}1/{n}}_{=1})\\\\\n",
    "    \\frac{1}{n}\\sum_{i=1}^{n}Y_{i} &\\sim \\text{Normal}(0,1/n).\n",
    "\\end{align*}"
   ]
  },
  {
   "cell_type": "markdown",
   "id": "ed87b203",
   "metadata": {},
   "source": [
    "#### __II.__ $\\sum_{i=1}^{n}Y_{i}^{2} \\sim \\chi^{2}(n)$"
   ]
  },
  {
   "cell_type": "markdown",
   "id": "5a3c3f68",
   "metadata": {},
   "source": [
    "Demostraremos por inducción, dadas la primera y segunda ayuda.\n",
    "        \n",
    "__Paso base (__$n = 1$__):__\n",
    "\n",
    "$$\n",
    "    \\sum_{i = 1}^{1}Y_{i}^{2} = Y_{1}^{2} \\sim \\chi^{2}(1)\n",
    "$$\n",
    "\n",
    "La primera ayuda garantiza la afirmación.        "
   ]
  },
  {
   "cell_type": "markdown",
   "id": "5ac4dea9",
   "metadata": {},
   "source": [
    "__Paso inductivo (suponer para__ $n = k$__, demostrar para__ $n = k+1$__):__\n",
    "        \n",
    "Suponemos que\n",
    "\n",
    "$$\n",
    "\\sum_{i=1}^{k}Y_{i}^{2} = Y_{1}^{2} + Y_{2}^{2} + \\cdots + Y_{k-1}^{2} + Y_{k}^{2} \\sim \\chi^{2}(k).\n",
    "$$"
   ]
  },
  {
   "cell_type": "markdown",
   "id": "da1c0a30",
   "metadata": {},
   "source": [
    "Ahora debemos demostrar que\n",
    "\n",
    "$$\n",
    "\\sum_{i=1}^{k+1}Y_{i}^{2} \\sim \\chi^{2}(k+1).\n",
    "$$"
   ]
  },
  {
   "cell_type": "markdown",
   "id": "8bc0e4c9",
   "metadata": {},
   "source": [
    "Como implicación del supuesto y del paso base, obtenemos que\n",
    "\n",
    "$$\n",
    "\\sum_{i=1}^{k+1}Y_{i}^{2} = \\underbrace{\\left[Y_{1}^{2} + Y_{2}^{2} + \\cdots + Y_{k-1}^{2} + Y_{k}^{2}\\right]}_{\\sim \\chi^{2}(k)} + \\underbrace{\\left[Y_{k+1}^{2}\\right]}_{\\sim \\chi^{2}(1)}\n",
    "$$"
   ]
  },
  {
   "cell_type": "markdown",
   "id": "a87c9947",
   "metadata": {},
   "source": [
    "Como implicación de la segunda ayuda, obtenemos que\n",
    "\n",
    "$$\n",
    "\\sum_{i=1}^{k+1}Y_{i}^{2} = \\underbrace{\\left[Y_{1}^{2} + Y_{2}^{2} + \\cdots + Y_{k-1}^{2} + Y_{k}^{2}\\right]}_{\\sim \\chi^{2}(k)} + \\underbrace{\\left[Y_{k+1}^{2}\\right]}_{\\sim \\chi^{2}(1)} \\sim \\chi^{2}((k) + (1)) = \\chi^{2}(k+1).\n",
    "$$\n",
    "        \n",
    "Con esto, hemos demostrado la afirmación inicial."
   ]
  },
  {
   "cell_type": "markdown",
   "id": "2c2c8309",
   "metadata": {},
   "source": [
    " #### __III.__ $\\sum_{i=1}^{n}\\left(Y_{i}-\\bar{Y}\\right)^{2} \\sim \\chi^{2}(n-1)$"
   ]
  },
  {
   "cell_type": "markdown",
   "id": "1ee377e5",
   "metadata": {},
   "source": [
    "Por propiedad de la distribución normal estándar y la primera ayuda, $\\bar{Y} \\sim \\text{Normal}\\left(0, \\frac{1}{n}\\right) \\Rightarrow \\frac{\\bar{Y}}{1/\\sqrt{n}} \\sim \\text{Normal}(0,1) \\Rightarrow \\left(\\frac{\\bar{Y}}{1/\\sqrt{n}}\\right)^{2} \\sim \\chi^{2}(1)$."
   ]
  },
  {
   "cell_type": "markdown",
   "id": "4ca50479",
   "metadata": {},
   "source": [
    "Desarrollemos lo demostrado en el punto anterior, $\\sum_{i=1}^{n}Y_{i}^{2} \\sim \\chi^{2}(n)$.\n",
    "\n",
    "\\begin{align*}\n",
    "    \\sum_{i=1}^{n}Y_{i}^{2} &= \\sum_{i=1}^{n}\\left(Y_{i} - \\bar{Y} + \\bar{Y}\\right)^{2}\\\\\n",
    "    &= \\sum_{i=1}^{n}\\left(Y_{i} - \\bar{Y}\\right)^{2} + \\sum_{i=1}^{n}\\bar{Y}^{2} + 2\\bar{Y}\\sum_{i=1}^{n}\\left(Y_{i}-\\bar{Y}\\right).\n",
    "\\end{align*}        "
   ]
  },
  {
   "cell_type": "markdown",
   "id": "6c2177b5",
   "metadata": {},
   "source": [
    "Por propiedad de la muestra de la media, podemos ver que $\\sum_{i=1}^{n}Y_{i} = n\\bar{Y}$, por lo cual $\\sum_{i=1}^{n}\\left(Y_{i}-\\bar{Y}\\right) = n\\bar{Y}-n\\bar{Y} = 0$.\n",
    "        \n",
    "Seguimos con el desarrollo:\n",
    "\n",
    "\\begin{align*}\n",
    "    \\sum_{i=1}^{n}Y_{i}^{2} &= \\sum_{i=1}^{n}\\left(Y_{i} - \\bar{Y}\\right)^{2} + \\sum_{i=1}^{n}\\bar{Y}^{2} + \\underbrace{2\\bar{Y}\\sum_{i=1}^{n}\\left(Y_{i}-\\bar{Y}\\right)}_{=0}\\\\\n",
    "    &= \\sum_{i=1}^{n}\\left(Y_{i} - \\bar{Y}\\right)^{2} + \\sum_{i=1}^{n}\\bar{Y}^{2}\\\\\n",
    "    &= \\sum_{i=1}^{n}\\left(Y_{i} - \\bar{Y}\\right)^{2} + n\\bar{Y}^{2}\\\\\n",
    "    &= \\sum_{i=1}^{n}\\left(Y_{i} - \\bar{Y}\\right)^{2} + \\underbrace{\\left(\\frac{\\bar{Y}}{1/\\sqrt{n}}\\right)^{2}}_{\\sim \\chi^{2}(1)}.\n",
    "\\end{align*}        "
   ]
  },
  {
   "cell_type": "markdown",
   "id": "e8dc4e95",
   "metadata": {},
   "source": [
    "Ahora despejamos para la suma original cuya distribución queremos conocer y aplicamos la indicación de la segunda ayuda:\n",
    "\n",
    "\\begin{align*}\n",
    "    \\underbrace{\\underbrace{\\sum_{i=1}^{n}Y_{i}^{2}}_{\\sim \\chi^{2}(n)} - \\underbrace{\\left(\\frac{\\bar{Y}}{1/\\sqrt{n}}\\right)^{2}}_{\\sim \\chi^{2}(1)}}_{\\sim \\chi^{2}(n-1)} &= \\sum_{i=1}^{n}\\left(Y_{i} - \\bar{Y}\\right)^{2}.\n",
    "\\end{align*}"
   ]
  },
  {
   "cell_type": "markdown",
   "id": "006ebcdf",
   "metadata": {},
   "source": [
    "#### __IV.__ $c \\cdot \\frac{n\\bar{Y}^{2}}{\\sum_{i=1}^{n}\\left(Y_{i}-\\bar{Y}\\right)^{2}} \\sim F(1, n-1)$; con $c = ?$"
   ]
  },
  {
   "cell_type": "markdown",
   "id": "1de2df52",
   "metadata": {},
   "source": [
    "Partimos de la estructura de las variables aleatorias cuya distribución es $F(j, k)$.\n",
    "        \n",
    "Sean $W_{1}$ y $W_{2}$ variables aleatorias con distribución $\\chi^{2}$ con grados de libertad $j$ y $k$ respectivamente. Entonces,\n",
    "\n",
    "$$\n",
    "    \\frac{W_{1} / j}{W_{2} / k} \\sim F(j, k).\n",
    "$$  "
   ]
  },
  {
   "cell_type": "markdown",
   "id": "42fd4b10",
   "metadata": {},
   "source": [
    "Sabemos de demostraciones anteriores que\n",
    "\n",
    "\\begin{align*}\n",
    "    n\\bar{Y}^{2} = \\left(\\frac{\\bar{Y}}{1/\\sqrt{n}}\\right)^{2} &\\sim \\chi^{2}(1)\\text{, y que}\\\\\n",
    "    \\sum_{i=1}^{n}\\left(Y_{i}-\\bar{Y}\\right)^{2} &\\sim \\chi^{2}(n-1).\n",
    "\\end{align*}"
   ]
  },
  {
   "cell_type": "markdown",
   "id": "fdb58145",
   "metadata": {},
   "source": [
    "Haciendo uso de la tercera ayuda, debido a que el numerador y el denominador son independientes, podemos afirmar la siguiente relación:\n",
    "\n",
    "$$\n",
    "    \\frac{n\\bar{Y}^{2} / 1}{\\sum_{i=1}^{n}\\left(Y_{i}-\\bar{Y}\\right)^{2} / (n-1)} \\sim F(1, n-1).\n",
    "$$"
   ]
  },
  {
   "cell_type": "markdown",
   "id": "08dc2a76",
   "metadata": {},
   "source": [
    "Concluimos que\n",
    "\n",
    "$$\n",
    "    (n-1)\\cdot \\frac{n\\bar{Y}^{2}}{\\sum_{i=1}^{n}\\left(Y_{i}-\\bar{Y}\\right)^{2}} \\sim F(1, n-1)\n",
    "$$\n",
    "\n",
    "y por lo tanto $c=n-1$."
   ]
  },
  {
   "cell_type": "markdown",
   "id": "68ff15bb",
   "metadata": {},
   "source": [
    "### Problema 2. Fundamentos Distribuciones Multivariadas: Propiedades."
   ]
  },
  {
   "cell_type": "markdown",
   "id": "188040ab",
   "metadata": {},
   "source": [
    "Queremos demostrar que la matriz de covarianzas $Cov(\\hat{Y}, Y-\\hat{Y})$ contiene ceros únicamente."
   ]
  },
  {
   "cell_type": "markdown",
   "id": "50b07ff2",
   "metadata": {},
   "source": [
    "Sabemos que la expresión matricial para la estimación de $Y$, es la siguiente:\n",
    "\n",
    "$$\n",
    "    \\hat{Y} = X\\left(X'X\\right)^{-1}X'Y = HY.\n",
    "$$"
   ]
  },
  {
   "cell_type": "markdown",
   "id": "25f88661",
   "metadata": {},
   "source": [
    "Podemos expresar $Y-\\hat{Y}$ como\n",
    "\n",
    "\\begin{align*}\n",
    "    Y-\\hat{Y} &= Y-HY\\\\\n",
    "              &= \\left(I - H\\right)Y.\n",
    "\\end{align*}"
   ]
  },
  {
   "cell_type": "markdown",
   "id": "aa81860a",
   "metadata": {},
   "source": [
    "Utilizamos la ayuda del enunciado para expresar la matriz de covarianzas. Note que las matrices $H$ e $I$ son simétricas.\n",
    "\n",
    "\\begin{align*}\n",
    "    Cov(\\hat{Y}, Y-\\hat{Y}) &= \\,Cov(HY,\\left(I - H\\right)Y)\\\\\n",
    "                            &= H\\,Cov(Y,Y)\\left(I - H\\right)'\\\\\n",
    "                            &= H\\,Cov(Y,Y)\\left(I' - H'\\right)\\\\\n",
    "                            &= H\\,Cov(Y,Y)\\left(I - H\\right).\n",
    "\\end{align*}"
   ]
  },
  {
   "cell_type": "markdown",
   "id": "f4e6ca75",
   "metadata": {},
   "source": [
    "El supuesto de que las observaciones son independientes entre sí nos permite que $Cov(Y,Y)=I$.\n",
    "\n",
    "\\begin{align*}\n",
    "    Cov(\\hat{Y}, Y-\\hat{Y}) &= H\\,Cov(Y,Y)\\left(I - H\\right)\\\\\n",
    "                            &= H\\,\\left(I - H\\right)\\\\\n",
    "                            &= H - H^{2}.\n",
    "\\end{align*}"
   ]
  },
  {
   "cell_type": "markdown",
   "id": "6fb92b52",
   "metadata": {},
   "source": [
    "Por la indempotencia de $H$,\n",
    "\n",
    "\\begin{align*}\n",
    "    Cov(\\hat{Y}, Y-\\hat{Y}) &= H-H\\\\\n",
    "                            &= 0.\n",
    "\\end{align*}\n",
    "\n",
    "La matriz de covarianzas contiene solo ceros y por lo tanto $Y$ y $Y-\\hat{Y}$ son independientes."
   ]
  },
  {
   "cell_type": "markdown",
   "id": "4aba05a8",
   "metadata": {},
   "source": [
    "### Problema 3. Fundamentos de Inferencia Paramétrica."
   ]
  },
  {
   "cell_type": "markdown",
   "id": "ef56f3d6",
   "metadata": {},
   "source": [
    "Se tiene una muestra aleatoria $Y_1$, $Y_2$, $\\cdots$, $Y_n$ de una población $Y \\sim \\text{Normal}(\\mu, \\sigma^{2})$. El estimador convencional de la varianza es:\n",
    "\n",
    "$$\n",
    "    S^{2} = \\frac{\\sum_{i=1}^{n}\\left(Y_{i}-\\bar{Y}\\right)^{2}}{n-1}.\n",
    "$$"
   ]
  },
  {
   "cell_type": "markdown",
   "id": "e27a1911",
   "metadata": {},
   "source": [
    "Sin embargo, el estimador por máxima verosimilitud es $\\hat{\\sigma}^{2}=\\frac{(n-1)S^{2}}{n}$. ¿Cuál de los dos es el mejor estimador? "
   ]
  },
  {
   "cell_type": "markdown",
   "id": "08846a52",
   "metadata": {},
   "source": [
    "Iniciamos el procedimiento, desarrollando la expresión del error cuadrático medio. En los siguientes pasos, $E$, se refiere al la función de valor esperado.\n",
    "\n",
    "\\begin{align*}\n",
    "    MSE\\left(\\hat{\\theta}\\right) &= E\\left[(\\hat{\\theta}-\\theta)^{2}\\right] \\\\\n",
    "    &= E\\left[(\\hat{\\theta} - \\theta)(\\hat{\\theta} - \\theta)\\right] \\\\\n",
    "    &= E\\left[\\hat{\\theta}^{2} + \\theta^{2} - 2\\theta\\hat{\\theta}\\right] \\\\\n",
    "    &= E\\left[\\hat{\\theta}^{2}\\right] + E\\left[\\theta^{2}\\right] - E\\left[2\\theta\\hat{\\theta}\\right] \\\\\n",
    "    &= E\\left[\\hat{\\theta}^{2}\\right] + \\theta^{2} - 2\\theta E \\left[\\hat{\\theta}\\right]\n",
    "\\end{align*}"
   ]
  },
  {
   "cell_type": "markdown",
   "id": "be359a70",
   "metadata": {},
   "source": [
    "Expresamos la varianza del estimador en terminos de su valor esperado y despejamos:\n",
    "\n",
    "\\begin{align*}\n",
    "    & Var\\left(\\hat{\\theta}\\right) = E\\left[\\hat{\\theta}^{2}\\right] - E\\left[\\hat{\\theta}\\right]^{2} \\\\\n",
    "    \\Rightarrow & E\\left[\\hat{\\theta}^{2}\\right] = Var\\left(\\hat{\\theta}\\right) + E\\left[\\hat{\\theta}\\right]^{2}\n",
    "\\end{align*}"
   ]
  },
  {
   "cell_type": "markdown",
   "id": "80728ecb",
   "metadata": {},
   "source": [
    "Expresamos el sesgo del estimador en terminos de su valor esperado:\n",
    "\n",
    "$$\n",
    "Bias\\left(\\hat{\\theta}\\right) = E\\left[\\hat{\\theta}\\right] - \\theta\n",
    "$$"
   ]
  },
  {
   "cell_type": "markdown",
   "id": "51d3e599",
   "metadata": {},
   "source": [
    "Desarrollamos la expresión del $MSE$ según el sesgo y la varianza.\n",
    "\n",
    "\\begin{align*}\n",
    "    MSE\\left(\\hat{\\theta}\\right) &= E\\left[\\hat{\\theta}^{2}\\right] + \\theta^{2} - 2\\theta E \\left[\\hat{\\theta}\\right] \\\\\n",
    "    &= Var\\left(\\hat{\\theta}\\right) + E\\left[\\hat{\\theta}\\right]^{2} + \\theta^{2} - 2\\theta E \\left[\\hat{\\theta}\\right] \\\\\n",
    "    &= Var\\left(\\hat{\\theta}\\right) + \\left( E\\left[\\hat{\\theta}\\right] - \\theta\\right)^{2} \\\\\n",
    "    &= Var\\left(\\hat{\\theta}\\right) + \\left( Bias\\left(\\hat{\\theta}\\right) \\right)^{2}\n",
    "\\end{align*}"
   ]
  },
  {
   "cell_type": "markdown",
   "id": "0ebc2d6b",
   "metadata": {},
   "source": [
    "A partir de la expresión dada para $S^{2}$ y de manera similar a la demostración del problema [1.3](#3.-$\\sum_{i=1}^{n}\\left(Y_{i}-\\bar{Y}\\right)^{2}-\\sim-\\chi^{2}(n-1)$):"
   ]
  },
  {
   "cell_type": "markdown",
   "id": "06941853",
   "metadata": {},
   "source": [
    "Sea $X_{i} = Y_{i} - \\mu$. Podemos sustituir en $S^{2}$ los $Y_{i}$ por $X_{i}$ ya que restar una constante para cada uno de los $Y_{i}$ no cambia la medida de dispersión.\n",
    "\n",
    "\\begin{align*}\n",
    "    (n-1)S^{2} &= \\sum_{i=1}^{n}\\left(Y_{i}-\\bar{Y}\\right)^{2} = \\sum_{i=1}^{n}\\left(X_{i}-\\bar{X}\\right)^{2} \\\\\n",
    "    &= \\sum_{i=1}^{n}(X_{i}^{2} - 2\\bar{X}X_{i} + \\bar{X}^{2}) \\\\\n",
    "    &= \\sum_{i=1}^{n}\\left(X_{i}^{2}\\right) - 2\\bar{X}\\sum_{i=1}^{n} \\left(X_{i}\\right) + n \\bar{X}^{2} \\\\\n",
    "    &= \\sum_{i=1}^{n}X_{i}^{2} - 2n\\bar{X}^{2} + n \\bar{X}^{2} \\\\\n",
    "    &= \\sum_{i=1}^{n} X_{i}^{2} - n\\bar{X}^{2} \\\\\n",
    "    \\frac{(n-1)S^{2}}{\\sigma^{2}} &= \\frac{\\sum_{i=1}^{n} X_{i}^{2}}{\\sigma^{2}} - \\frac{n\\bar{X}^{2}}{\\sigma^{2}} \\\\\n",
    "    &= \\sum_{i=1}^{n} \\left(\\frac{X_{i}}{\\sigma}\\right)^{2} - n\\left(\\frac{\\bar{X}}{\\sigma}\\right)^{2} \\\\\n",
    "    &= \\sum_{i=1}^{n} \\left(\\frac{X_{i}}{\\sigma}\\right)^{2} - \\left(\\frac{\\bar{X}}{\\sigma/\\sqrt{n}}\\right)^{2}\n",
    "\\end{align*}"
   ]
  },
  {
   "cell_type": "markdown",
   "id": "b69de024",
   "metadata": {},
   "source": [
    "Notamos que $\\frac{X_{i}}{\\sigma}$ y $\\frac{\\bar{X}}{\\sigma/\\sqrt{n}}$ tienen distribución $\\text{Normal}(0,1)$ y que el lado derecho de la ecuación puede interpretarse como la suma de $n-1$ variables aleatorias al cuadrado. Como consecuencia de la ayuda 2 del [problema 1](#Problema-1.-Fundamentos-de-Inferencia-Paramétrica.),\n",
    "\n",
    "$$\n",
    "    \\frac{(n-1)S^{2}}{\\sigma^{2}} = \\underbrace{\\underbrace{\\sum_{i=1}^{n} \\left(\\frac{X_{i}}{\\sigma}\\right)^{2}}_{\\chi^{2}(n)} - \\underbrace{\\left(\\frac{\\bar{X}}{\\sigma/\\sqrt{n}}\\right)^{2}}_{\\chi^{2}(1)}}_{\\chi^{2}(n-1)}.\n",
    "$$"
   ]
  },
  {
   "cell_type": "markdown",
   "id": "70a9953c",
   "metadata": {},
   "source": [
    "Por propiedades de la distribución $\\chi^{2}(n-1)$, calculamos la varianza de $S^{2}$:\n",
    "\n",
    "\\begin{align*}\n",
    "    Var\\left(\\frac{(n-1)S^{2}}{\\sigma^{2}}\\right) &= 2(n-1) \\\\\n",
    "    \\frac{(n-1)^{2}}{\\sigma^{4}}Var\\left(S^{2}\\right) &= 2(n-1) \\\\\n",
    "    Var\\left(S^{2}\\right) &= \\frac{2\\sigma^{4}}{n-1}.\n",
    "\\end{align*}"
   ]
  },
  {
   "cell_type": "markdown",
   "id": "d1ae1ecd",
   "metadata": {},
   "source": [
    "Calculamos el valor esperado de $S^{2}$:\n",
    "\n",
    "\\begin{align*}\n",
    "    E\\left[\\frac{(n-1)S^{2}}{\\sigma^{2}}\\right] &= n-1 \\\\\n",
    "    \\frac{n-1}{\\sigma^{2}}E\\left[S^{2}\\right] &= n-1 \\\\\n",
    "    E\\left[S^{2}\\right] &= \\sigma^{2}. \\\\\n",
    "\\end{align*}"
   ]
  },
  {
   "cell_type": "markdown",
   "id": "60044dad",
   "metadata": {},
   "source": [
    "Por consecuencia, $Bias\\left(S^{2}\\right) = 0$ y $MSE\\left( S^{2}\\right) = \\frac{2\\sigma^{4}}{n-1}$."
   ]
  },
  {
   "cell_type": "markdown",
   "id": "9e09e9a3",
   "metadata": {},
   "source": [
    "Calculamos la varianza de $\\hat{\\sigma}^{2}$:\n",
    "\n",
    "\\begin{align*}\n",
    "    Var\\left(\\hat{\\sigma}^{2}\\right) &= Var\\left(\\frac{(n-1)S^{2}}{n}\\right) \\\\\n",
    "    &= \\left(\\frac{n-1}{n}\\right)^{2}Var\\left(S^{2}\\right) \\\\\n",
    "    &= \\left(\\frac{n-1}{n}\\right)^{2}\\frac{2\\sigma^{4}}{n-1} \\\\\n",
    "    &= \\frac{2\\sigma^{4} (n-1)}{n^{2}}. \\\\\n",
    "\\end{align*}"
   ]
  },
  {
   "cell_type": "markdown",
   "id": "8aab6ed1",
   "metadata": {},
   "source": [
    "Calculamos el valor esperado de $\\hat{\\sigma}^{2}$:\n",
    "\n",
    "\\begin{align*}\n",
    "    E\\left[\\hat{\\sigma}^{2}\\right] &= E\\left[\\frac{(n-1)S^{2}}{n}\\right] \\\\\n",
    "    &= \\frac{(n-1)}{n}E\\left[S^{2}\\right] \\\\\n",
    "    &= \\frac{(n-1)}{n}\\sigma^{2}.\n",
    "\\end{align*}"
   ]
  },
  {
   "cell_type": "markdown",
   "id": "ff983f6e",
   "metadata": {},
   "source": [
    "Por consecuencia, $Bias\\left(\\hat{\\sigma}^{2}\\right) = \\frac{(n-1)}{n}\\sigma^{2} - \\sigma^{2}$ y \n",
    "\n",
    "\\begin{align*}\n",
    "    MSE\\left( \\hat{\\sigma}^{2}\\right) &= \\frac{2\\sigma^{4} (n-1)}{n^{2}} + \\left( \\frac{(n-1)}{n}\\sigma^{2} - \\sigma^{2}\\right)^{2} \\\\\n",
    "    &= \\frac{2\\sigma^{4} (n-1)}{n^{2}} + \\sigma^{4}\\left( \\frac{(n-1)}{n} - 1\\right)^{2} \\\\\n",
    "    &= \\sigma^{4}\\left(\\frac{2 (n-1)}{n^{2}} + \\left( \\frac{(n-1)}{n} - 1\\right)^{2}\\right) \\\\\n",
    "    &= \\sigma^{4}\\left(\\frac{2n - 2}{n^{2}} + \\left( \\frac{-1}{n}\\right)^{2}\\right) \\\\\n",
    "    &= \\sigma^{4}\\left(\\frac{2n - 1}{n^{2}}\\right). \\\\\n",
    "    % &= \\sigma^{4}\\left(\\frac{2}{n} - \\frac{1}{n^{2}}\\right). \\\\\n",
    "\\end{align*}"
   ]
  },
  {
   "cell_type": "markdown",
   "id": "1010282c",
   "metadata": {},
   "source": [
    "Dividimos los $MSE$ para identificar al mayor:\n",
    "\n",
    "\\begin{align*}\n",
    "    \\frac{MSE\\left( \\hat{\\sigma}^{2} \\right)}{MSE\\left( S^{2} \\right)} &= \\frac{\\frac{2\\sigma^{4}}{n-1}}{\\sigma^{4}\\left(\\frac{2n - 1}{n^{2}}\\right)} \\\\\n",
    "    &= \\frac{2\\sigma^{4}}{(n-1)\\sigma^{4}\\left(\\frac{2n - 1}{n^{2}}\\right)} \\\\\n",
    "    &= \\frac{2n^{2}}{(n-1)(2n - 1)} \\\\\n",
    "    &= \\frac{2n^{2}}{2n^{2} -3n + 1}.\n",
    "\\end{align*}"
   ]
  },
  {
   "cell_type": "markdown",
   "id": "3f600f7f",
   "metadata": {},
   "source": [
    "Resulta evidente que $\\frac{MSE\\left( \\hat{\\sigma}^{2} \\right)}{MSE\\left( S^{2} \\right)} > 1, \\ \\forall n \\geq 2$, lo que nos permite concluir que $S^{2}$ tiene mejor $MSE$ y, por lo menos para este criterio, es mejor estimador.\n",
    "\n",
    "Claro está que existen distintos estimadores de la varianza que minimizan el $MSE$, mejor de lo que lo hace $S^{2}$. "
   ]
  },
  {
   "cell_type": "markdown",
   "id": "d6c3b36d",
   "metadata": {},
   "source": [
    "### Problema 4. Fundamentos de Inferencia Paramétrica."
   ]
  },
  {
   "cell_type": "markdown",
   "id": "c4a0b4ee",
   "metadata": {},
   "source": [
    "Se tiene una muestra aleatoria $Y_1, Y_2, \\cdots, Y_n$ de una población $Y \\sim f_{Y}(y)$. Se sabe además que\n",
    "$\\mu = E\\left[Y\\right]$ y $\\sigma^{2} = Var\\left(Y\\right)$ son dos parámetros desconocidos (media y varianza de la población). Se define un estimador lineal insesgado de $\\mu$ como:\n",
    "\n",
    "$$\n",
    "    \\hat{\\mu} = \\sum_{i=1}^{n}a_{i}Y_{i},\n",
    "$$\n",
    "\n",
    "donde $a_{1}, \\cdots,a_{n}$ son constantes arbitrarias y $E[\\hat{\\mu}] = \\mu$."
   ]
  },
  {
   "cell_type": "markdown",
   "id": "cb7c5396",
   "metadata": {},
   "source": [
    "#### __I.__ Muestre que $\\sum_{i=1}^{n}a_{i} = 1$."
   ]
  },
  {
   "cell_type": "markdown",
   "id": "c2a856c9",
   "metadata": {},
   "source": [
    "Calculamos el valor esperado del estimador $\\hat{\\mu}$.\n",
    "\n",
    "\\begin{align*}\n",
    "    E\\left[\\hat{\\mu}\\right] &= E\\left[ \\sum_{i=1}^{n}a_{i}Y_{i} \\right] \\\\\n",
    "    \\mu &= \\sum_{i=1}^{n}a_{i} E\\left[ Y_{i} \\right] \\\\\n",
    "    &= \\sum_{i=1}^{n}a_{i} \\mu \\\\\n",
    "    &= \\mu \\sum_{i=1}^{n}a_{i} \\\\\n",
    "    1 &= \\sum_{i=1}^{n}a_{i}.\n",
    "\\end{align*}"
   ]
  },
  {
   "cell_type": "markdown",
   "id": "c84bc4e4",
   "metadata": {},
   "source": [
    "#### __II.__ Demuestre que de todos los posibles estimadores insesgados lineales para $\\mu$, $\\bar{Y}$ es el que tiene menor varianza (BLUE)."
   ]
  },
  {
   "cell_type": "markdown",
   "id": "ce8b4e77",
   "metadata": {},
   "source": [
    "Calculamos la varianza del estimador $\\hat{\\mu}$.\n",
    "\n",
    "\\begin{align*}\n",
    "    Var\\left( \\hat{\\mu} \\right) &= E\\left[ \\hat{\\mu}^{2} \\right] - E\\left[ \\hat{\\mu} \\right]^{2} \\\\\n",
    "    &= E\\left[ \\left(\\sum_{i=1}^{n}a_{i}Y_{i}\\right)^{2} \\right] - E\\left[ \\sum_{i=1}^{n}a_{i}Y_{i} \\right]^{2} \\\\\n",
    "    &= E\\left[ \\sum_{i=1}^{n}\\sum_{j=1}^{n}a_{i}a_{j}Y_{i}Y_{j} \\right] - \\left(\\sum_{i=1}^{n}a_{i}E\\left[Y_{i}\\right]\\right)^{2} \\\\\n",
    "    &= \\sum_{i=1}^{n}\\sum_{j=1}^{n}a_{i}a_{j}E\\left[ Y_{i}Y_{j} \\right] - \\sum_{i=1}^{n}\\sum_{j=1}^{n}a_{i}a_{j}E\\left[Y_{i} \\right]E\\left[ Y_{j} \\right] \\\\\n",
    "    &= \\sum_{i=1}^{n}\\sum_{j=1}^{n}a_{i}a_{j}E\\left[ Y_{i}Y_{j} \\right] - a_{i}a_{j}E\\left[Y_{i} \\right]E\\left[ Y_{j} \\right] \\\\\n",
    "    &= \\sum_{i=1}^{n}\\sum_{j=1}^{n}a_{i}a_{j}\\left(E\\left[ Y_{i}Y_{j} \\right] - E\\left[Y_{i} \\right]E\\left[ Y_{j} \\right]\\right) \\\\\n",
    "    &= \\sum_{i=1}^{n}\\sum_{j=1}^{n}a_{i}a_{j} Cov(Y_{i}, Y_{j}).\n",
    "\\end{align*}"
   ]
  },
  {
   "cell_type": "markdown",
   "id": "30fdfbba",
   "metadata": {},
   "source": [
    "Las covarianzas entre $Y$s cuando $i\\neq j$ son iguales a cero, de manera que se simplifica la expresión:\n",
    "\n",
    "\\begin{align*}\n",
    "    Var(\\hat{\\mu}) &= \\sum_{i=1}^{n}a_{i}^{2} Var(Y_{i}) \\\\\n",
    "    &= \\sum_{i=1}^{n} a_{i}^{2} \\sigma^{2} \\\\\n",
    "    &= \\sigma^{2} \\sum_{i=1}^{n} a_{i}^{2} \\\\\n",
    "\\end{align*}"
   ]
  },
  {
   "cell_type": "markdown",
   "id": "e6872b08",
   "metadata": {},
   "source": [
    "Podemos derivar de manera similar la varianza de $\\bar{Y}$:\n",
    "\n",
    "$$\n",
    "    Var(\\bar{Y}) = \\frac{\\sigma^{2}}{n}.\n",
    "$$"
   ]
  },
  {
   "cell_type": "markdown",
   "id": "61c3fb67",
   "metadata": {},
   "source": [
    "Nuestro objetivo es ahora demostrar que $\\sum_{i=1}^{n} a_{i}^{2} \\geq \\frac{1}{n}$. Desarrollemos un poco la desigualdad:"
   ]
  },
  {
   "cell_type": "markdown",
   "id": "20589562",
   "metadata": {},
   "source": [
    "Sean $\\vec{a}$ y $\\vec{b}$ dos vectores de longitud $n$, separados por un ángulo $\\theta$:\n",
    "\n",
    "$$\n",
    "    \\vec{a} = \\left[\\begin{matrix} a_{1} & \\cdots & a_{n}\\end{matrix}\\right], \\quad \\vec{b} = \\left[\\begin{matrix} 1 & \\cdots & 1\\end{matrix}\\right].\n",
    "$$"
   ]
  },
  {
   "cell_type": "markdown",
   "id": "f0d0afe5",
   "metadata": {},
   "source": [
    "Podemos llegar a la misma expresión desde la desigualdad de Cauchy-Schwarz.\n",
    "\n",
    "\\begin{align*}\n",
    "    \\vec{a}\\cdot\\vec{b} &\\leq \\left\\Vert\\vec{a}\\right\\Vert \\left\\Vert\\vec{b}\\right\\Vert \\\\\n",
    "    a_{1} + \\cdots + a_{n} &\\leq \\sqrt{\\left(a_{1}^{2} + \\cdots + a_{n}^{2}\\right)} \\sqrt{\\left(1 + \\cdots + 1\\right)} \\\\\n",
    "    \\sum_{i=1}^{n}a_{i}\\ &\\leq \\sqrt{\\sum_{i=1}^{n}a_{i}^{2}} \\sqrt{n} \\\\\n",
    "    \\left(\\sum_{i=1}^{n}a_{i}\\right)^{2} &\\leq n\\sum_{i=1}^{n}a_{i}^{2} \\\\\n",
    "    \\frac{1}{n}\\left(\\sum_{i=1}^{n}a_{i}\\right)^{2} &\\leq \\sum_{i=1}^{n}a_{i}^{2} \\\\\n",
    "    \\frac{1}{n}\\left(1 \\right)^{2} &\\leq \\sum_{i=1}^{n}a_{i}^{2} \\\\\n",
    "    \\frac{1}{n} &\\leq \\sum_{i=1}^{n}a_{i}^{2}.\n",
    "\\end{align*}"
   ]
  },
  {
   "cell_type": "markdown",
   "id": "72e957d9",
   "metadata": {},
   "source": [
    "### Problema 5. Fundamentos del Modelo de Regresión Lineal."
   ]
  },
  {
   "cell_type": "markdown",
   "id": "7edfcabf",
   "metadata": {},
   "source": [
    "Se tiene un modelo de regresión lineal con $n$ observaciones y $k=p-1$ variables. El estimador de mínimos cuadrados es $\\hat\\beta \\in \\mathbb{R} ^p $ y $ \\hat Y= X\\hat\\beta \\in \\mathbb{R}^n $ es la predicción en los puntos de la muestra. Sea $X=(X_0,X_1,\\cdots,X_K ) \\in  \\mathbb{R} ^{n\\times p} $ la matriz de las variables independientes, donde $X_0=(1,1,\\cdots,1)$.\n",
    "Se define entonces el subespacio  $\\mathbb{R} ^n$ de todas las posibles combinaciones lineales de $X_0,X_1,\\cdots,X_k$ como:\n",
    "\n",
    "$$ \n",
    "    \\Omega=\\{X\\theta \\vert \\theta \\in \\mathbb{R} ^p \\}.\n",
    "$$\n",
    "\n",
    "Por definición, $\\Omega$ tiene dimensiones $p \\le n.$\n",
    "\n"
   ]
  },
  {
   "cell_type": "markdown",
   "id": "058ae7f4",
   "metadata": {},
   "source": [
    "#### I. Sí $p=n$, qué relación hay entre $Y$ y $\\hat Y$?"
   ]
  },
  {
   "cell_type": "markdown",
   "id": "af901533",
   "metadata": {},
   "source": [
    "Sí se tiene en cuenta que $\\hat Y$ es el vector en $\\mathbb{R}^n $ que puede ser expresado como una combinación lineal de las columnas de la matriz $X$ que se encuentra más cercano al vector $Y$, lo anterior quiere decir que cuando $p<n$, $\\hat Y $ se puede entender como el punto más cercano a  $Y$ sobre $\\Omega$. Por lo que el caso en el que $p=n$, la diferencia que hay entre $Y$ y $\\hat Y $ se elimina, pues tienen exactamente las mismas dimensiones. Es decir que cuando $p=n$, cualquier vector $Y$ que seleccione ya va a estar sobre el espacio de $\\Omega$ y no necesita ser proyectado para poder determinar $\\hat Y$, por lo que se puede afirmar que $Y= \\hat Y$."
   ]
  },
  {
   "cell_type": "markdown",
   "id": "aa8b7075",
   "metadata": {},
   "source": [
    "#### II. Porque ($Y$ y $\\hat Y$) debe ser ortogonal a cualquier $\\omega \\in \\Omega$"
   ]
  },
  {
   "cell_type": "markdown",
   "id": "3e3900d5",
   "metadata": {},
   "source": [
    "![Imagen punto 5](Archivos/Imagen_Punto_5.png)"
   ]
  },
  {
   "cell_type": "markdown",
   "id": "e1093f1d",
   "metadata": {},
   "source": [
    "La imagen anterior nos permite entender las relaciones entre el plano $\\Omega$, $Y$ y $\\hat Y$. Se puede ver claramente que $(Y-\\hat Y)$ forma un vector entre sí que en la imagen está representado con color rojo punteado. Si se tiene en cuenta que $\\hat Y$ es el punto proyectado sobre el plano $\\Omega$, más cercano a $Y$, se puede observar que se genera un triángulo rectángulo entre estos dos puntos. Para lo cual, se utiliza el teorema de Pitágoras y con este se puede concluir que el ángulo que hay entre el vector $\\hat Y $ y el vector rojo de la resta entre  $(Y-\\hat Y)$ debe ser de 90° (ángulo recto) para que la distancia entre estos dos puntos sea la menor, que es lo que se quiere con la proyección."
   ]
  },
  {
   "cell_type": "markdown",
   "id": "1384876f",
   "metadata": {},
   "source": [
    "Teniendo en cuenta lo anterior, es decir que en efecto  $(Y-\\hat Y)$ tiene un ángulo recto con respecto a  $\\hat Y$, y que  $\\hat Y$ es un vector sobre el plano $\\Omega$; a cualquier vector sobre este plano se le debe poder replicar lo anterior, por lo tanto, se puede concluir que $(Y-\\hat Y)$  es ortogonal a cualquier $\\omega \\in \\Omega$. Esto es coherente con los resultados del problema 2, donde demostramos que ambos vectores tienen covarianza $0$."
   ]
  },
  {
   "cell_type": "markdown",
   "id": "697ed2d4",
   "metadata": {},
   "source": [
    "#### III. Ahora suponga que se hace una transformación lineal para crean nuevas variables ${Z}$ tal que la nueva matriz de datos es: "
   ]
  },
  {
   "cell_type": "markdown",
   "id": "7be64821",
   "metadata": {},
   "source": [
    "$$\n",
    "    Z=XA,\n",
    "$$\n",
    "\n",
    "donde $A \\in \\mathbb{R}^{p\\times p}$ es una matriz de rango completo.\n",
    "\n",
    "Si se define \n",
    "\n",
    "$$\n",
    "    \\Omega_z \\{Z\\theta \\vert{\\theta}\\in \\mathbb{R}^p \\}\n",
    "$$\n",
    "\n",
    "entonces, ¿qué relación existe entre $\\hat Y$ y la proyección de $Y$ en $\\Omega_z$?"
   ]
  },
  {
   "cell_type": "markdown",
   "id": "76d164a9",
   "metadata": {},
   "source": [
    "Es posible según la definición de $\\Omega$ que existan otros vectores que sean combinaciones lineales de las $X$, es decir que por definición del subespacio $\\Omega$ es posible escribir efectivamente \n",
    "$$\n",
    "Z=XA\n",
    "$$\n",
    "\n",
    "Según lo mencionado en la primera parte de este punto se sabe que $ \\hat{Y}$ por definición es una combinación lineal, por lo que en esta transformación lineal para crear Z se sigue cumpliendo lo anteriormente mencionado y $\\hat{{Y}}$se puede entender como el punto más cercano a  ${Y}$ sobre $\\Omega_z$, pues el subespacio generado por las columnas de $X$ es el mismo que el subespacio generado por las columnas de $W$, dado que $A$ es una matriz que transforma $X$, entonces se cumpliría lo siguiente: \n"
   ]
  },
  {
   "cell_type": "markdown",
   "id": "89af53ea",
   "metadata": {},
   "source": [
    "Sabiendo que $\\hat{Y}=X\\hat{\\beta}=P_\\Omega Y$ entonces se hará la comprobación con las matrices de proyección para simplificar la comprobación:\n",
    "$$\n",
    "P_X=X\\left(X^tX\\right)^{-1}X^t\n",
    "$$\n",
    "\n",
    "$$\n",
    "P_X=P_Z\n",
    "$$\n"
   ]
  },
  {
   "cell_type": "markdown",
   "id": "f375ff50",
   "metadata": {},
   "source": [
    "Esto se puede comprobar de la siguiente manera: \n",
    "$$\n",
    "P_z=Z\\left(Z^tZ\\right)^{-1}Z^t\n",
    "$$\n",
    "\n",
    "$$\n",
    "P_X=X\\left(X^tX\\right)^{-1}X^t\n",
    "$$"
   ]
  },
  {
   "cell_type": "markdown",
   "id": "c0707a87",
   "metadata": {},
   "source": [
    "Y como se sabe que $Z=XA$ …\n",
    "\n",
    "$$\n",
    "P_z=XA\\left(({XA)}^tXA\\right)^{-1}({XA)}^t\n",
    "$$"
   ]
  },
  {
   "cell_type": "markdown",
   "id": "9b3af1f2",
   "metadata": {},
   "source": [
    "Teniendo en cuenta que $A\\in{R}^{pxp}$ y $A^t$ y $\\ A $ tienen el mismo rango sería una transformación lineal de $\\ \\mathbb{R}^{nxp} $ a $\\ \\mathbb{R}^{nxp} $\n",
    "\n",
    "$$\n",
    "P_z=XA\\left(X^tA^tXA\\right)^{-1}({XA)}^t\n",
    "$$\n",
    "\n",
    "$$\n",
    "P_z=XA(A^{-1})\\left(X^tX\\right)^{-1}\\left(A^t\\right)^{-1}({XA)}^t\n",
    "$$\n",
    "\n",
    "$$\n",
    "P_z=X\\mathbb{I}\\left(X^tX\\right)^{-1}\\mathbb{I}({X)}^t\n",
    "$$\n",
    "\n",
    "$$\n",
    "P_z=X\\left(X^tX\\right)^{-1}({X)}^t=P_x\\ \n",
    "$$\n"
   ]
  },
  {
   "cell_type": "markdown",
   "id": "2e1d1d6d",
   "metadata": {},
   "source": [
    "Recordando entonces que $\\hat{Y}=X\\hat{\\beta}=P_\\Omega Y\\$  es claro que: \n",
    "\n",
    "$$\n",
    "\\hat{Y}=P_zY=P_xY\n",
    "$$\n"
   ]
  },
  {
   "cell_type": "markdown",
   "id": "1feb0d9e",
   "metadata": {},
   "source": [
    "#### IV. Con el resultado anterior, y usando los datos measure.txt, se usa el contorno del pecho como la variable de respuesta $Y$ y las otras dos como variables independientes $X_1$ y $X_2$. Se estima el modelo de regresión correspondiente."
   ]
  },
  {
   "cell_type": "markdown",
   "id": "5493a12f",
   "metadata": {},
   "source": [
    "Lo primero que se debe hacer es estimar el modelo de regresión correspondiente. Se tiene que el contorno del pecho es la variable $Y$ y las otras variables son las independientes en donde $X_1=\\text{cintura} $ y $X_2 =\\text{cadera}$ y se sabe que $n=20$.\n",
    "\n",
    "El modelo de regresión debe ser entonces \n",
    "$$\n",
    "Y=\\beta_0+\\beta_1x_1+\\beta_2x_2+\\varepsilon \n",
    "$$\n",
    "\n",
    "$$\n",
    "Y=X \\beta + \\varepsilon\n",
    "$$"
   ]
  },
  {
   "cell_type": "code",
   "execution_count": 1,
   "id": "49e3eee4",
   "metadata": {
    "scrolled": false,
    "vscode": {
     "languageId": "r"
    }
   },
   "outputs": [
    {
     "data": {
      "text/plain": [
       "\n",
       "Call:\n",
       "lm(formula = y ~ x1 + x2)\n",
       "\n",
       "Residuals:\n",
       "    Min      1Q  Median      3Q     Max \n",
       "-3.6671 -0.7791  0.0921  0.9816  4.0126 \n",
       "\n",
       "Coefficients:\n",
       "            Estimate Std. Error t value Pr(>|t|)   \n",
       "(Intercept)  15.7979     6.5574   2.409  0.02761 * \n",
       "x1            0.4399     0.1328   3.312  0.00412 **\n",
       "x2            0.2398     0.1928   1.244  0.23044   \n",
       "---\n",
       "Signif. codes:  0 ‘***’ 0.001 ‘**’ 0.01 ‘*’ 0.05 ‘.’ 0.1 ‘ ’ 1\n",
       "\n",
       "Residual standard error: 1.865 on 17 degrees of freedom\n",
       "Multiple R-squared:  0.5309,\tAdjusted R-squared:  0.4757 \n",
       "F-statistic: 9.621 on 2 and 17 DF,  p-value: 0.001606\n"
      ]
     },
     "metadata": {},
     "output_type": "display_data"
    },
    {
     "data": {
      "text/html": [
       "<table class=\"dataframe\">\n",
       "<caption>A matrix: 3 × 3 of type dbl</caption>\n",
       "<thead>\n",
       "\t<tr><th></th><th scope=col>(Intercept)</th><th scope=col>x1</th><th scope=col>x2</th></tr>\n",
       "</thead>\n",
       "<tbody>\n",
       "\t<tr><th scope=row>(Intercept)</th><td>42.9992368</td><td>-0.10046810</td><td>-1.07995395</td></tr>\n",
       "\t<tr><th scope=row>x1</th><td>-0.1004681</td><td> 0.01764284</td><td>-0.01062163</td></tr>\n",
       "\t<tr><th scope=row>x2</th><td>-1.0799540</td><td>-0.01062163</td><td> 0.03717570</td></tr>\n",
       "</tbody>\n",
       "</table>\n"
      ],
      "text/latex": [
       "A matrix: 3 × 3 of type dbl\n",
       "\\begin{tabular}{r|lll}\n",
       "  & (Intercept) & x1 & x2\\\\\n",
       "\\hline\n",
       "\t(Intercept) & 42.9992368 & -0.10046810 & -1.07995395\\\\\n",
       "\tx1 & -0.1004681 &  0.01764284 & -0.01062163\\\\\n",
       "\tx2 & -1.0799540 & -0.01062163 &  0.03717570\\\\\n",
       "\\end{tabular}\n"
      ],
      "text/markdown": [
       "\n",
       "A matrix: 3 × 3 of type dbl\n",
       "\n",
       "| <!--/--> | (Intercept) | x1 | x2 |\n",
       "|---|---|---|---|\n",
       "| (Intercept) | 42.9992368 | -0.10046810 | -1.07995395 |\n",
       "| x1 | -0.1004681 |  0.01764284 | -0.01062163 |\n",
       "| x2 | -1.0799540 | -0.01062163 |  0.03717570 |\n",
       "\n"
      ],
      "text/plain": [
       "            (Intercept) x1          x2         \n",
       "(Intercept) 42.9992368  -0.10046810 -1.07995395\n",
       "x1          -0.1004681   0.01764284 -0.01062163\n",
       "x2          -1.0799540  -0.01062163  0.03717570"
      ]
     },
     "metadata": {},
     "output_type": "display_data"
    }
   ],
   "source": [
    "#Regresión lineal con X1 y X2\n",
    "data <- read.table(\"Archivos/measure.txt\")\n",
    "y <- data$Chest\n",
    "x1 <- data$Waist\n",
    "x2 <- data$Hips\n",
    "\n",
    "RegresionX <- lm(y ~ x1 + x2)\n",
    "summary(RegresionX)\n",
    "vcov(RegresionX)"
   ]
  },
  {
   "cell_type": "markdown",
   "id": "ce4afebf",
   "metadata": {},
   "source": [
    "Ahora se quiere cambiar las variables de la siguiente manera: \n",
    "\n",
    "$$\n",
    "    W_1:\\text{cintura más cadera}\n",
    "$$\n",
    "$$\n",
    "    W_1=X_1+X_2\n",
    "$$\n",
    "\n",
    "$$\n",
    "    W_2:\\text{cintura menos cadera}\n",
    "$$\n",
    "$$\n",
    "    W_2=X_1-X_2\n",
    "$$\n"
   ]
  },
  {
   "cell_type": "code",
   "execution_count": 2,
   "id": "63190174",
   "metadata": {
    "scrolled": false,
    "vscode": {
     "languageId": "r"
    }
   },
   "outputs": [
    {
     "data": {
      "text/plain": [
       "\n",
       "Call:\n",
       "lm(formula = y ~ w1 + w2)\n",
       "\n",
       "Residuals:\n",
       "    Min      1Q  Median      3Q     Max \n",
       "-3.6671 -0.7791  0.0921  0.9816  4.0126 \n",
       "\n",
       "Coefficients:\n",
       "            Estimate Std. Error t value Pr(>|t|)   \n",
       "(Intercept) 15.79785    6.55738   2.409  0.02761 * \n",
       "w1           0.33985    0.09162   3.709  0.00174 **\n",
       "w2           0.10003    0.13790   0.725  0.47808   \n",
       "---\n",
       "Signif. codes:  0 ‘***’ 0.001 ‘**’ 0.01 ‘*’ 0.05 ‘.’ 0.1 ‘ ’ 1\n",
       "\n",
       "Residual standard error: 1.865 on 17 degrees of freedom\n",
       "Multiple R-squared:  0.5309,\tAdjusted R-squared:  0.4757 \n",
       "F-statistic: 9.621 on 2 and 17 DF,  p-value: 0.001606\n"
      ]
     },
     "metadata": {},
     "output_type": "display_data"
    },
    {
     "data": {
      "text/html": [
       "<table class=\"dataframe\">\n",
       "<caption>A matrix: 3 × 3 of type dbl</caption>\n",
       "<thead>\n",
       "\t<tr><th></th><th scope=col>(Intercept)</th><th scope=col>w1</th><th scope=col>w2</th></tr>\n",
       "</thead>\n",
       "<tbody>\n",
       "\t<tr><th scope=row>(Intercept)</th><td>42.9992368</td><td>-0.590211024</td><td> 0.489742926</td></tr>\n",
       "\t<tr><th scope=row>w1</th><td>-0.5902110</td><td> 0.008393819</td><td>-0.004883215</td></tr>\n",
       "\t<tr><th scope=row>w2</th><td> 0.4897429</td><td>-0.004883215</td><td> 0.019015446</td></tr>\n",
       "</tbody>\n",
       "</table>\n"
      ],
      "text/latex": [
       "A matrix: 3 × 3 of type dbl\n",
       "\\begin{tabular}{r|lll}\n",
       "  & (Intercept) & w1 & w2\\\\\n",
       "\\hline\n",
       "\t(Intercept) & 42.9992368 & -0.590211024 &  0.489742926\\\\\n",
       "\tw1 & -0.5902110 &  0.008393819 & -0.004883215\\\\\n",
       "\tw2 &  0.4897429 & -0.004883215 &  0.019015446\\\\\n",
       "\\end{tabular}\n"
      ],
      "text/markdown": [
       "\n",
       "A matrix: 3 × 3 of type dbl\n",
       "\n",
       "| <!--/--> | (Intercept) | w1 | w2 |\n",
       "|---|---|---|---|\n",
       "| (Intercept) | 42.9992368 | -0.590211024 |  0.489742926 |\n",
       "| w1 | -0.5902110 |  0.008393819 | -0.004883215 |\n",
       "| w2 |  0.4897429 | -0.004883215 |  0.019015446 |\n",
       "\n"
      ],
      "text/plain": [
       "            (Intercept) w1           w2          \n",
       "(Intercept) 42.9992368  -0.590211024  0.489742926\n",
       "w1          -0.5902110   0.008393819 -0.004883215\n",
       "w2           0.4897429  -0.004883215  0.019015446"
      ]
     },
     "metadata": {},
     "output_type": "display_data"
    }
   ],
   "source": [
    "#Regresión lineal con W1 y W2\n",
    "w1 <- x1+x2\n",
    "w2 <- x1-x2\n",
    "\n",
    "RegresionW <- lm(y ~ w1 + w2)\n",
    "summary(RegresionW)\n",
    "vcov(RegresionW)"
   ]
  },
  {
   "cell_type": "markdown",
   "id": "cd0d83e7",
   "metadata": {},
   "source": [
    "##### a. Se quiere encontrar los vectores $\\hat{Y}$ con los modelos que tiene las variables $X$ y las variables $W$"
   ]
  },
  {
   "cell_type": "markdown",
   "id": "66516b07",
   "metadata": {},
   "source": [
    "Por un lado, se tiene el modelo de las variables $X$ de la siguiente manera \n",
    "$$\n",
    "Y=X \\beta + \\varepsilon\n",
    "$$\n",
    "\n",
    "$$\n",
    "\\hat{Y}=X\\hat{\\beta}\n",
    "$$\n",
    "\n",
    "$$\n",
    "\\hat{Y}=X\\left(X^tX\\right)^{-1}X^tY\n",
    "$$"
   ]
  },
  {
   "cell_type": "markdown",
   "id": "305d6d27",
   "metadata": {},
   "source": [
    "Por otro lado, se tiene el modelo, pero con las variables $W$: \n",
    "$$\n",
    "Y=W \\theta + \\varepsilon\n",
    "$$\n",
    "\n",
    "$$\n",
    "\\hat{Y}=W\\hat{\\theta}\n",
    "$$\n",
    "\n",
    "$$\n",
    "\\hat{Y}=W\\left(W^tW\\right)^{-1}W^tY\n",
    "$$\n"
   ]
  },
  {
   "cell_type": "code",
   "execution_count": 3,
   "id": "b7e61694",
   "metadata": {
    "scrolled": false,
    "vscode": {
     "languageId": "r"
    }
   },
   "outputs": [
    {
     "name": "stdout",
     "output_type": "stream",
     "text": [
      "          [,1]\n",
      " [1,] 36.66866\n",
      " [2,] 38.74754\n",
      " [3,] 37.62795\n",
      " [4,] 39.66707\n",
      " [5,] 36.46860\n",
      " [6,] 38.98736\n",
      " [7,] 40.38654\n",
      " [8,] 38.58724\n",
      " [9,] 37.86777\n",
      "[10,] 39.22718\n",
      "[11,] 34.74883\n",
      "[12,] 35.66836\n",
      "[13,] 35.22848\n",
      "[14,] 33.62925\n",
      "[15,] 36.34807\n",
      "[16,] 36.10824\n",
      "[17,] 35.90818\n",
      "[18,] 36.10824\n",
      "[19,] 37.70748\n",
      "[20,] 34.30895\n"
     ]
    }
   ],
   "source": [
    "#Y gorro con X1 y X2\n",
    "X <- cbind(1, x1, x2)\n",
    "xtx <- t(X) %*% X\n",
    "H <- solve(xtx)\n",
    "P <- X %*% H %*% t(X)\n",
    "beta_hat <- H %*% t(X) %*% y\n",
    "y_hat <- P %*% y\n",
    "sigma2 <- sum((y - y_hat) ^ 2) / (20 - 3)\n",
    "\n",
    "print(y_hat)"
   ]
  },
  {
   "cell_type": "code",
   "execution_count": 4,
   "id": "baaa3113",
   "metadata": {
    "vscode": {
     "languageId": "r"
    }
   },
   "outputs": [
    {
     "name": "stdout",
     "output_type": "stream",
     "text": [
      "          [,1]\n",
      " [1,] 36.66866\n",
      " [2,] 38.74754\n",
      " [3,] 37.62795\n",
      " [4,] 39.66707\n",
      " [5,] 36.46860\n",
      " [6,] 38.98736\n",
      " [7,] 40.38654\n",
      " [8,] 38.58724\n",
      " [9,] 37.86777\n",
      "[10,] 39.22718\n",
      "[11,] 34.74883\n",
      "[12,] 35.66836\n",
      "[13,] 35.22848\n",
      "[14,] 33.62925\n",
      "[15,] 36.34807\n",
      "[16,] 36.10824\n",
      "[17,] 35.90818\n",
      "[18,] 36.10824\n",
      "[19,] 37.70748\n",
      "[20,] 34.30895\n"
     ]
    }
   ],
   "source": [
    "#Y gorro con W1 y W2\n",
    "W <- cbind(1, w1, w2)\n",
    "wtw <- t(W) %*% W\n",
    "Hw <- solve(wtw)\n",
    "Pw <- W %*% Hw %*% t(W)\n",
    "beta_hatw <- Hw %*% t(W) %*% y\n",
    "y_hatw <- Pw %*% y\n",
    "sigma2w <- sum((y - y_hatw) ^ 2) / (20 - 3)\n",
    "\n",
    "print(y_hatw)"
   ]
  },
  {
   "cell_type": "markdown",
   "id": "8e739989",
   "metadata": {},
   "source": [
    "Como se puede observar que el vector $\\hat Y$ es exactamente el mismo entre los dos modelos, para el modelo con las variables X y para el modelo con las variables W, lo cual muestra que efectivamente, como se mencionó en el literal anterior, los $\\hat Y$ deben ser y son iguales incluso cuando las columnas del vector $X$ y del vector $W$ no son iguales pero sí son independientes y es por esto tambien que se construye el mismo subespacio de proyección tal como tambien se comprobó anteriormente. "
   ]
  },
  {
   "cell_type": "markdown",
   "id": "fc4b241a",
   "metadata": {},
   "source": [
    "##### b. Contrastar un intervalo de confianza para el valor esperado del contorno del pecho"
   ]
  },
  {
   "cell_type": "markdown",
   "id": "f92b49c7",
   "metadata": {},
   "source": [
    "Para el intervalo de confianza se utiliza lo siguiente: \n",
    "$$\n",
    "IC:\\left[\\hat{Y}-t_{\\alpha/2,gle}*\\sqrt{{\\hat{\\sigma}}^2C^T\\left(X^TX\\right)^{-1}C}\\right]\n",
    "$$"
   ]
  },
  {
   "cell_type": "markdown",
   "id": "2021e181",
   "metadata": {},
   "source": [
    "Para el caso de X: \n",
    "$$\n",
    "c=\\left(\\begin{matrix}1&30&30\\\\\\end{matrix}\\right)\n",
    "$$\n",
    "\n",
    "$$\n",
    "{I.C}_x=\\left[{\\hat{\\beta}}_0+30{\\hat{\\beta}}_1+30{\\hat{\\beta}}_2-\\ t_{\\frac{\\alpha}{2},gle}\\sqrt{{\\hat{\\sigma}}^2c^T\\left(X^TX\\right)^{-1}c};\\ {\\hat{\\beta}}_0+30{\\hat{\\beta}}_1+30{\\hat{\\beta}}_2+t_{\\frac{\\alpha}{2},gle}\\sqrt{{\\hat{\\sigma}}^2c^T\\left(X^TX\\right)^{-1}c}\\right]\n",
    "$$\n"
   ]
  },
  {
   "cell_type": "markdown",
   "id": "eda30e46",
   "metadata": {},
   "source": [
    "Con el vector $\\beta$ hallado en el literal anterior, $gle = 17$ y $\\alpha = 0.05$."
   ]
  },
  {
   "cell_type": "code",
   "execution_count": 5,
   "id": "7822b5e0",
   "metadata": {
    "scrolled": true,
    "vscode": {
     "languageId": "r"
    }
   },
   "outputs": [
    {
     "data": {
      "text/html": [
       "<style>\n",
       ".list-inline {list-style: none; margin:0; padding: 0}\n",
       ".list-inline>li {display: inline-block}\n",
       ".list-inline>li:not(:last-child)::after {content: \"\\00b7\"; padding: 0 .5ex}\n",
       "</style>\n",
       "<ol class=list-inline><li>32.9261844193469</li><li>39.4518442533569</li></ol>\n"
      ],
      "text/latex": [
       "\\begin{enumerate*}\n",
       "\\item 32.9261844193469\n",
       "\\item 39.4518442533569\n",
       "\\end{enumerate*}\n"
      ],
      "text/markdown": [
       "1. 32.9261844193469\n",
       "2. 39.4518442533569\n",
       "\n",
       "\n"
      ],
      "text/plain": [
       "[1] 32.92618 39.45184"
      ]
     },
     "metadata": {},
     "output_type": "display_data"
    }
   ],
   "source": [
    "#Intervalo de confianza con X1 y X2\n",
    "cx <- c(1,30,30)\n",
    "limitex_inf <- t(cx) %*% beta_hat - qt(0.975,17) * sqrt(sigma2 * (t(cx) %*% H %*% cx))\n",
    "limitex_sup <- t(cx) %*% beta_hat + qt(0.975,17) * sqrt(sigma2 * (t(cx) %*% H %*% cx))\n",
    "\n",
    "IC1 <- c(limitex_inf,limitex_sup)\n",
    "IC1"
   ]
  },
  {
   "cell_type": "markdown",
   "id": "f8cd32a5",
   "metadata": {},
   "source": [
    "$$\n",
    "    IC_x:\\left[32.926; 39.452\\right]\n",
    "$$"
   ]
  },
  {
   "cell_type": "markdown",
   "id": "756237d8",
   "metadata": {},
   "source": [
    "Y Para $W$ es:\n",
    "$$\n",
    "c=\\left(\\begin{matrix}1&60&0\\\\\\end{matrix}\\right)\n",
    "$$\n",
    "\n",
    "$$\n",
    "{I.C}_w=\\left[{\\hat{\\theta}}_0+60{\\hat{\\theta}}_1+0{\\hat{\\theta}}_2-\\ t_{\\frac{\\alpha}{2},gle}\\sqrt{{\\hat{\\sigma}}^2p^T\\left(X^TX\\right)^{-1}p};\\ {\\hat{\\theta}}_0+60{\\hat{\\theta}}_1+0{\\hat{\\theta}}_2+t_{\\frac{\\alpha}{2},gle}\\sqrt{{\\hat{\\sigma}}^2p^T\\left(X^TX\\right)^{-1}p}\\right]\n",
    "$$\n",
    "\n"
   ]
  },
  {
   "cell_type": "code",
   "execution_count": 6,
   "id": "e0e49fb3",
   "metadata": {
    "scrolled": true,
    "vscode": {
     "languageId": "r"
    }
   },
   "outputs": [
    {
     "data": {
      "text/html": [
       "<style>\n",
       ".list-inline {list-style: none; margin:0; padding: 0}\n",
       ".list-inline>li {display: inline-block}\n",
       ".list-inline>li:not(:last-child)::after {content: \"\\00b7\"; padding: 0 .5ex}\n",
       "</style>\n",
       "<ol class=list-inline><li>32.9261844193478</li><li>39.4518442533581</li></ol>\n"
      ],
      "text/latex": [
       "\\begin{enumerate*}\n",
       "\\item 32.9261844193478\n",
       "\\item 39.4518442533581\n",
       "\\end{enumerate*}\n"
      ],
      "text/markdown": [
       "1. 32.9261844193478\n",
       "2. 39.4518442533581\n",
       "\n",
       "\n"
      ],
      "text/plain": [
       "[1] 32.92618 39.45184"
      ]
     },
     "metadata": {},
     "output_type": "display_data"
    }
   ],
   "source": [
    "#IC con W1 y W2\n",
    "cw <- c(1,60,0)\n",
    "limitew_inf <- t(cw)%*%beta_hatw - qt(0.975,17) * sqrt(sigma2w * (t(cw) %*% Hw %*% cw))\n",
    "limitew_sup <- t(cw)%*%beta_hatw + qt(0.975,17) * sqrt(sigma2w * (t(cw) %*% Hw %*% cw))\n",
    "\n",
    "IC2 <- c(limitew_inf, limitew_sup)\n",
    "IC2"
   ]
  },
  {
   "cell_type": "markdown",
   "id": "dc2060b9",
   "metadata": {},
   "source": [
    "$$\n",
    "    IC_{w}:\\left[32.926; 39.452\\right]\n",
    "$$"
   ]
  },
  {
   "cell_type": "markdown",
   "id": "d273e0d0",
   "metadata": {},
   "source": [
    "Estos intervalos de confianza nos muestra que con un nivel de confianza del 95% el valor esperado de $Y$, es decir el valor esperado de la medida del pecho va a estar entre 32.926 y 39.452 tanto para el caso en el que la `cintura` $= 30$ y la `cadera` $= 30$ como en el caso en el que el tamaño es $60$ y la forma es $0$. \n",
    "\n",
    "Esto quiere decir que la proyección del subespacio es la misma, por lo que el valor esperado de cada valor de $\\hat Y$ es el mismo, sin importar la transformación que se le haga al vector $X$"
   ]
  },
  {
   "cell_type": "markdown",
   "id": "cb0adea1",
   "metadata": {},
   "source": [
    "### Problema 6. Fundamentos de Álgebra para Modelos Lineales."
   ]
  },
  {
   "cell_type": "markdown",
   "id": "2312aecd",
   "metadata": {},
   "source": [
    "Sean $a$, $z$ en $\\mathbb{R}^p$ y $M$ una matriz en $\\mathbb{R}^{p \\times p}$. Se definen las funciones:\n",
    "\n",
    "$$\n",
    "\\alpha_1 = a^Tz \\quad \\alpha_2 = z^T\\mathbb{M}z\n",
    "$$"
   ]
  },
  {
   "cell_type": "markdown",
   "id": "4fb4490c",
   "metadata": {},
   "source": [
    "Demuestre:"
   ]
  },
  {
   "cell_type": "markdown",
   "id": "d2165b20",
   "metadata": {},
   "source": [
    "#### I. $\\frac{d\\alpha_1}{dz} = a$"
   ]
  },
  {
   "cell_type": "markdown",
   "id": "8cfd778c",
   "metadata": {},
   "source": [
    "Para expresar la derivada de $\\alpha_1$ respecto al vector $z$ es necesario hallar la expresión resultante del producto. Al operar los dos vectores se tendría lo siguiente:\n",
    "\n",
    "$$\n",
    "    a^Tz =\n",
    "        \\begin{bmatrix}\n",
    "            a_1 & a_2 & \\cdots & a_p\n",
    "        \\end{bmatrix}\n",
    "        \\begin{bmatrix}\n",
    "            z_1 \\\\\n",
    "            z_2 \\\\\n",
    "            \\vdots \\\\\n",
    "            z_p\n",
    "        \\end{bmatrix}\n",
    "        = a_1 z_1 + a_2 z_2+ \\cdots + a_p z_p.\n",
    "$$"
   ]
  },
  {
   "cell_type": "markdown",
   "id": "4d3849d6",
   "metadata": {},
   "source": [
    "Al obtener la expresión esclar, es posible utilizar la definición del Jacobiano para hallar el vector de derivadas\n",
    "\n",
    "$$\n",
    "    \\frac{d \\alpha_1}{dz} =\n",
    "        \\begin{bmatrix}\n",
    "            \\frac{d \\alpha_1}{dz_1} \\\\ \n",
    "            \\frac{d \\alpha_1}{dz_2} \\\\\n",
    "            \\vdots \\\\\n",
    "            \\frac{d \\alpha_1}{dz_p}\n",
    "        \\end{bmatrix}.\n",
    "$$"
   ]
  },
  {
   "cell_type": "markdown",
   "id": "86339455",
   "metadata": {},
   "source": [
    "Es decir,\n",
    "\n",
    "$$\n",
    "    \\frac{d \\alpha_1}{dz} =\n",
    "        \\begin{bmatrix}\n",
    "        \\frac{d}{dz_1} (a_1z_1 + a_2z_2+ \\cdots + a_pz_p) \\\\\n",
    "        \\frac{d}{dz_2} (a_1z_1 + a_2z_2+ \\cdots + a_pz_p) \\\\\n",
    "        \\vdots \\\\\n",
    "        \\frac{d}{dz_p} (a_1z_1 + a_2z_2+ \\cdots + a_pz_p)\n",
    "    \\end{bmatrix}.\n",
    "$$"
   ]
  },
  {
   "cell_type": "markdown",
   "id": "cabd326f",
   "metadata": {},
   "source": [
    "En cada componente $i$ del vector, la derivada será igual a $a_i$, dado que los demás términos serán constantes. Es decir, se obtendrá el siguiente vector.\n",
    "\n",
    "$$\n",
    "    \\frac{d \\alpha_1}{dz} =\n",
    "        \\begin{bmatrix}\n",
    "            a_1 \\\\\n",
    "            a_2 \\\\\n",
    "            \\vdots \\\\\n",
    "            a_p\n",
    "        \\end{bmatrix}.\n",
    "$$"
   ]
  },
  {
   "cell_type": "markdown",
   "id": "5576bb28",
   "metadata": {},
   "source": [
    "De esta forma, es posible afirmar que \n",
    "\n",
    "$$\n",
    "\\frac{d \\alpha_1}{dz} = a.\n",
    "$$ "
   ]
  },
  {
   "cell_type": "markdown",
   "id": "811e6466",
   "metadata": {},
   "source": [
    "#### II. $\\frac{d\\alpha_2}{dz} = (\\mathbb{M} + \\mathbb{M}^T)z$."
   ]
  },
  {
   "cell_type": "markdown",
   "id": "e58722ac",
   "metadata": {},
   "source": [
    "Nuevamente, para expresar la derivada de $\\alpha_2$ será necesario hallar la expresión escalar resultante del producto matricial. Esto, lo descompondremos en dos pasos. En primer lugar, el producto $z^T\\mathbb{M}$ se vería de la siguiente manera:\n",
    "\n",
    "$$\n",
    "    z^T\\mathbb{M} =\n",
    "        \\begin{bmatrix}\n",
    "            z_1 & z_2 & \\cdots & z_p\n",
    "        \\end{bmatrix}\n",
    "        \\begin{bmatrix}\n",
    "            m_{11} & m_{12} & \\cdots & m_{1p} \\\\\n",
    "            m_{21} & m_{22} & \\cdots & m_{2p} \\\\\n",
    "            \\vdots & \\vdots & \\ddots & \\vdots \\\\\n",
    "            m_{p1} & m_{p2} & \\cdots & m_{pp}\n",
    "        \\end{bmatrix}.\n",
    "$$"
   ]
  },
  {
   "cell_type": "markdown",
   "id": "e0d88c46",
   "metadata": {},
   "source": [
    "Al observar la primera componenete del vector resultante, se vería la siguiente expresión:\n",
    "\n",
    "$$\n",
    "z_1m_{11} + z_2m_{21} + \\cdots + z_pm_{p1}.\n",
    "$$"
   ]
  },
  {
   "cell_type": "markdown",
   "id": "5d2c5655",
   "metadata": {},
   "source": [
    "Consecuentemente, la expresión del $i$-ésimo componente de este vector será\n",
    "\n",
    "$$\n",
    "z_1m_{1i} + z_2m_{2i} + \\cdots + z_pm_{pi}.\n",
    "$$"
   ]
  },
  {
   "cell_type": "markdown",
   "id": "1910999f",
   "metadata": {},
   "source": [
    "Esta expresión se puede compactar con una sumatoria. Es decir, el vector se puede ver como:\n",
    "\n",
    "$$\n",
    "    z^T\\mathbb{M} =\n",
    "    \\begin{bmatrix}\n",
    "        \\sum_{i=1}^{p}{z_im_{i1}} & \\sum_{i=1}^{p}{z_im_{i2}} & \\cdots & \\sum_{i=1}^{p}{z_im_{ip}}\n",
    "    \\end{bmatrix}.\n",
    "$$"
   ]
  },
  {
   "cell_type": "markdown",
   "id": "dfc046ab",
   "metadata": {},
   "source": [
    "Para encontrar la expresión escalar, hace falta multiplicar el vector que se obtuvo por el vector $z$. Es decir,\n",
    "\n",
    "$$\n",
    "    z^T\\mathbb{M}z =\n",
    "    \\begin{bmatrix}\n",
    "        \\sum_{i=1}^{p}{z_im_{i1}} & \\sum_{i=1}^{p}{z_im_{i2}} & \\cdots & \\sum_{i=1}^{p}{z_im_{ip}}\n",
    "    \\end{bmatrix}\n",
    "    \\begin{bmatrix}\n",
    "        z_1 \\\\\n",
    "        z_2 \\\\\n",
    "        \\vdots \\\\\n",
    "        z_p\n",
    "    \\end{bmatrix}.\n",
    "$$"
   ]
  },
  {
   "cell_type": "markdown",
   "id": "228b292e",
   "metadata": {},
   "source": [
    "Así, la expresión resultante es:\n",
    "\n",
    "$$\n",
    "    z^T\\mathbb{M}z = z_1\\sum_{i=1}^{p}{z_im_{i1}} + z_2\\sum_{i=1}^{p}{z_im_{i2}} + \\cdots + z_p \\sum_{i=1}^{p}{z_im_{ip}}.\n",
    "$$"
   ]
  },
  {
   "cell_type": "markdown",
   "id": "57415846",
   "metadata": {},
   "source": [
    "Una vez obtenemos la expresion escalar, empleamos el jacobiano para hallar la derivada de la función matricial. Para esto, veremos el primer componente del vector de derivadas, es decir $\\frac{d(z^T\\mathbb{M}z)}{dz_1}$. Para hallar la derivada, eliminaremos en primer lugar todos terminos que no contengan $z_1$ ya que serán constantes. Así, los terminos que quedan (sin derivar aún) son:\n",
    "\n",
    "$$\n",
    "    z_1\\sum_{i=1}^{p}{z_im_{i1}} + z_2(z_1m_{12}) + \\cdots + z_p(z_1m_{1p}).\n",
    "$$"
   ]
  },
  {
   "cell_type": "markdown",
   "id": "2bf5cf6e",
   "metadata": {},
   "source": [
    "La primera sumatoria se puede expandir para obtener lo siguiente:\n",
    "\n",
    "$$\n",
    "    z_1(z_1m_{11} + z_2m_{21} + \\cdots + z_pm_{p1}) + z_2(z_1m_{12}) + \\cdots + z_p(z_1m_{1p}).\n",
    "$$"
   ]
  },
  {
   "cell_type": "markdown",
   "id": "7247bab5",
   "metadata": {},
   "source": [
    "Al expandir la expresión se obtendría lo siguiente:\n",
    "\n",
    "$$\n",
    "(z_1z_1m_{11} + z_1z_2m_{21} + \\cdots + z_1z_pm_{p1}) + z_2z_1m_{12} + \\cdots + z_pz_1m_{1p}.\n",
    "$$"
   ]
  },
  {
   "cell_type": "markdown",
   "id": "0fc2cff8",
   "metadata": {},
   "source": [
    "En este momento, se puede ver que la derivada sería la siguiente expresión:\n",
    "\n",
    "\\begin{align*}\n",
    "        \\frac{d\\alpha_2}{dz_1} &= (2z_1m_{11} + z_2m_{21} + \\cdots + z_pm_{p1}) + z_2m_{12} + \\cdots + z_pm_{1p} \\\\\n",
    "        &= z_1(m_{11} + m_{11}) + z_2(m_{21} + m_{12}) + \\cdots + z_p(m_{p1} + m_{1p}).\n",
    "\\end{align*}"
   ]
  },
  {
   "cell_type": "markdown",
   "id": "91cfce81",
   "metadata": {},
   "source": [
    "Al generalizar, la $i$-ésima derivada sería\n",
    "\n",
    "$$\n",
    "    \\frac{d\\alpha_2}{dz_i} = z_1(m_{1i} + m_{i1}) + z_2(m_{2i} + m_{i2}) + \\cdots + z_p(m_{pi} + m_{ip}).\n",
    "$$"
   ]
  },
  {
   "cell_type": "markdown",
   "id": "1c8594f8",
   "metadata": {},
   "source": [
    "Al organizar el vector de derivadas, es posible comprobar que es igual al producto $(\\mathbb{M} + \\mathbb{M}^T)z$\n",
    "\n",
    "$$\n",
    "    \\frac{d\\alpha_2}{dz} =\n",
    "        \\begin{bmatrix}\n",
    "            z_1(m_{11} + m_{11}) + z_2(m_{21} + m_{12}) + \\cdots + z_p(m_{p1} + m_{1p}) \\\\\n",
    "            z_1(m_{12} + m_{i2}) + z_2(m_{22} + m_{22}) + \\cdots + z_p(m_{p2} + m_{2p}) \\\\\n",
    "            \\vdots \\\\\n",
    "            z_1(m_{1p} + m_{p1}) + z_2(m_{2p} + m_{p2}) + \\cdots + z_p(m_{pp} + m_{pp})\n",
    "        \\end{bmatrix}.\n",
    "$$"
   ]
  },
  {
   "cell_type": "markdown",
   "id": "0037d3ba",
   "metadata": {},
   "source": [
    "### Problema 7. Fundamentos de Inferencia Paramétrica."
   ]
  },
  {
   "cell_type": "markdown",
   "id": "19b3610d",
   "metadata": {},
   "source": [
    "Se tiene una muestra aleatoria $Y_1,Y_2,\\cdots, Y_n$ de una población $Y\\sim \\text{Exponencial}(\\theta)$ con función de densidad $f(x)=\\frac{1}{\\theta}\\cdot e^\\frac{-x}{\\theta}$, donde $E\\left[Y\\right]=\\theta $ y $Var\\left(Y\\right)=\\theta^2$."
   ]
  },
  {
   "cell_type": "markdown",
   "id": "7269216f",
   "metadata": {},
   "source": [
    "#### I. Halle el estimador de máxima verosimilitud $\\hat{\\theta}$"
   ]
  },
  {
   "cell_type": "markdown",
   "id": "3603f95b",
   "metadata": {},
   "source": [
    "Para hallar el estimador de máxima verosimilitud se deben seguir los siguientes pasos: \n",
    "\n",
    "1.\tFunción de verosimilitud\n",
    "$$\n",
    "L\\left(\\theta;Y_1,\\ Y_2,\\ \\cdots,\\ Y_n\\right)=\\prod_{i=1}^{n}f_x\\left(Y_i;\\theta\\right)=\\prod_{i=1}^{n}\\frac{1}{\\theta}\\cdot e^\\frac{-{Y}_i}{\\theta}=\\left(\\frac{1}{\\theta}\\right)^n\\cdot\\ e^{- \\frac{1}{\\theta}\\cdot\\sum_{i=1}^{n}Y_i}\n",
    "$$\n",
    "\n",
    "2.\tLogaritmo natural de la función de verosimilitud \n",
    "$$\n",
    "\\ln{\\left(L\\left(\\theta;Y_1,\\ Y_2,\\ \\cdots,\\ Y_n\\right)\\right)}=\\ln{\\left[\\left(\\frac{1}{\\theta}\\right)^n\\cdot e^{\\frac{1}{\\theta}\\cdot\\sum_{i=1}^{n}Y_i}\\right]}\n",
    "=\\ln{\\left(\\left(\\frac{1}{\\theta}\\right)^n\\right)}+\\ln{\\left(e^{-\\frac{1}{\\theta}\\cdot\\sum_{i=1}^{n}Y_i}\\right)}\n",
    "=-n\\cdot\\ln{\\left(\\theta\\right)}-\\frac{1}{\\theta}\\cdot\\sum_{i=1}^{n}Y_i\n",
    "$$\n",
    "\n",
    "3.  Derivar respecto al parámetro\n",
    "$$\n",
    "\\frac{\\partial}{\\partial\\theta}\\left[-n\\cdot\\ln{\\left(\\theta\\right)}-\\frac{1}{\\theta}\\cdot\\sum_{i=1}^{n}Y_i\\right]\n",
    "=\\frac{\\partial}{\\partial\\theta}\\left[-n\\cdot\\ln{\\left(\\theta\\right)}\\right]-\\frac{\\partial}{\\partial\\theta}\\left[\\frac{1}{\\theta}\\cdot\\sum_{i=1}^{n}Y_i\\right]\n",
    "=-\\frac{n}{\\theta}+\\frac{\\sum_{i=1}^{n}Y_i}{\\theta^2}\n",
    "$$\n",
    "\n",
    "4. Igualar a 0 y despejar el parámetro\n",
    "\\begin{align*}\n",
    "    -\\frac{n}{\\theta}+\\frac{\\sum_{i=1}^{n}Y_i}{\\theta^2} &= 0\\\\\n",
    "    \\frac{\\sum_{i=1}^{n}Y_i}{\\theta^2} &=\\frac{n}{\\theta} \\\\\n",
    "    \\frac{\\sum_{i=1}^{n}Y_i}{\\theta}&=n \\\\\n",
    "    \\frac{\\sum_{i=1}^{n}Y_i}{n} &= \\hat{\\theta} \\\\\n",
    "    \\bar{Y} &= \\hat{\\theta}\n",
    "\\end{align*}\n",
    "\n",
    "El procedimiento anterior mostró que el estimador de máxima verosimilitud para la función de densidad dada es $\\hat{\\theta}=\\bar{Y}$."
   ]
  },
  {
   "cell_type": "markdown",
   "id": "d3e7b442",
   "metadata": {},
   "source": [
    "#### II. \tComente sobre la distribución de $\\frac{\\hat{\\theta}-{\\theta}}{\\sqrt{\\left(\\frac{{\\theta}^\\mathbf{2}}{t{n}}\\right)}\\ }\\ $cuando $n$ representa un tamaño de muestra grande. "
   ]
  },
  {
   "cell_type": "markdown",
   "id": "230b927b",
   "metadata": {},
   "source": [
    "Para este caso en donde sucede que $n$ representa un número muy grande se puede hacer uso del teorema del límite central (TLC), el cual establece que si se tiene una población con un tamaño de muestra mayor a 30 (es decir $n>30$) entonces la distribución de la media asemeja a una distribución normal cuya media es $\\mu$ y la varianza es $\\frac{\\sigma^2}{n}$. Para el caso del TLC se pueden tener dos consideraciones, la primera cuando lo que se quiere es un promedio y la segunda cuando se quiere una suma.\n",
    "\n",
    "Particularmente para $Y\\sim \\text{Exponencial(\\theta)}$, $\\bar{Y} \\sim \\text{Normal(\\)}$\n",
    "\n",
    "Estas se expresan de la siguiente manera: \n",
    "\n",
    "$$\n",
    "\\lim_{n\\rightarrow\\infty}{\\left(\\bar{x}\\right) \\sim \\text{Normal}\\left(\\mu,\\frac{\\sigma^{2}}{n}\\right)}\n",
    "$$\n",
    "\n",
    "$$\n",
    "\\lim_{n\\rightarrow\\infty}{\\left(\\frac{\\bar{{x}}-{\\mu}}{\\frac{{\\sigma}}{\\sqrt{n}}}\\right) \\sim \\text{Normal}\\left(0,1\\right)}\n",
    "$$\n",
    "\n",
    "$$\n",
    "\\lim_{n\\rightarrow\\infty}{\\left(\\frac{\\bar{x}-n\\mu}{\\frac{\\sigma^2}{\\sqrt n}}\\right) \\sim Normal\\left(0,1\\right)}\n",
    "$$\n",
    "\n",
    "Así para este caso en particular de la distribución exponencial, sí n es un número muy grande entonces se puede estandarizar como una distribución normal de la siguiente manera:\n",
    "$$\n",
    "{{lim}}{{n}\\rightarrow\\infty}{\\left(\\frac{\\hat{{\\theta}}-{\\theta}}{\\frac{{\\theta}}{\\sqrt{n}}}\\right)\\ \\sim \\ {Normal}\\ (\\mathbf{0},\\mathbf{1})}\n",
    "$$\n",
    "\n",
    "Es decir que cuando $n>>$ entonces…\n",
    "$$\n",
    "{z}=\\frac{\\hat{{\\theta}}-{\\theta}}{\\frac{\\hat{{\\theta}}}{\\sqrt{n}}}\\ \\sim \\ {Normal}\\ (\\mathbf{0},\\mathbf{1})\n",
    "$$"
   ]
  },
  {
   "cell_type": "markdown",
   "id": "ac1dd2b1",
   "metadata": {},
   "source": [
    "#### III. Consulte sobre el teorema de Slutsky y úselo junto con la información del numeral anterior para construir un intervalo de confianza $(1-\\alpha)$ para el parámetro $\\theta$. "
   ]
  },
  {
   "cell_type": "markdown",
   "id": "afd57ea3",
   "metadata": {},
   "source": [
    "El teorema de Slutsky plantea algunas propiedades para tener en cuenta en las operaciones de variables aleatorias sobre sucesiones convergentes, es decir que sus límites tienden a un número finito perteneciente a los números reales. \n",
    "Sí se tiene una sucesión de variables aleatorias $X_n$ y $Y_n$, en donde $X_n$ debe ser convergente en distribución y $Y_n$ convergente en probabilidad/Distribución a una constante c.\n",
    "\n",
    "Propiedad 1: $X_n+Y_n$  $\\underrightarrow{d}$  $X+c$\n",
    "\n",
    "Propiedad 2: $X_n\\ast\\ Y_n$  $\\underrightarrow{d}$  $cX$\n",
    "\n",
    "Propiedad 3: $:\\frac{X_n}{Y_n}$   $\\underrightarrow{d}$  $\\frac{X}{c}$\n",
    "\n",
    "\n",
    "\n",
    "                                                        … en donde d corresponde a la convergencia en distribución\n",
    "\n"
   ]
  },
  {
   "cell_type": "markdown",
   "id": "c3015eb3",
   "metadata": {},
   "source": [
    "Para construir el intervalo de confianza se tiene en cuenta el resultado del punto anterior y las propiedades mencionadas para poder afirmar que en efecto la distribución que se tenía en el punto anterior converge a una normal estándar con parámetros (media=1 y varianza=0)\n",
    "$$\n",
    "{z}=\\frac{\\hat{{\\theta}}-{\\theta}}{\\frac{\\hat{{\\theta}}}{\\sqrt{n}}}\\ \\underrightarrow{d}\\ {Normal}\\ (\\mathbf{0},\\mathbf{1})\n",
    "$$"
   ]
  },
  {
   "cell_type": "markdown",
   "id": "bb56dc45",
   "metadata": {},
   "source": [
    "Ya para la construcción del Intervalo de Confianza (IC) se tiene en cuenta las propiedades de la distribución normal que establecen que debe existir un valor  $z_\\frac{\\alpha}{2}$ tal que: \n",
    "$$\n",
    "P\\left(-z_\\frac{\\alpha}{2}\\le Z\\le z_\\frac{\\alpha}{2}\\right)=1-\\alpha\n",
    "$$\n"
   ]
  },
  {
   "cell_type": "markdown",
   "id": "fc271116",
   "metadata": {},
   "source": [
    "Sí se remplazan los valores se tiene que: \n",
    "$$\n",
    "P\\left(-z_\\frac{\\alpha}{2}\\le\\frac{\\hat{{\\theta}}-{\\theta}}{\\frac{\\hat{{\\theta}}}{\\sqrt\\{n}}\\le z_\\frac{\\alpha}{2}\\right)=1-\\alpha\n",
    "$$"
   ]
  },
  {
   "cell_type": "markdown",
   "id": "4fb54dab",
   "metadata": {},
   "source": [
    "Sí se multiplica la desigualdad por $\\frac{\\sigma}{\\sqrt n}$ queda… \n",
    "$$\n",
    "P\\left(-z_\\frac{\\alpha}{2}\\frac{\\hat{{\\theta}}}{\\sqrt{n}}\\le\\hat{{\\theta}}-{\\theta}\\le z_\\frac{\\alpha}{2}\\frac{\\hat{{\\theta}}}{\\sqrt{n}}\\right)=1-\\alpha\n",
    "$$\n"
   ]
  },
  {
   "cell_type": "markdown",
   "id": "aca8c133",
   "metadata": {},
   "source": [
    "Luego se pasa a restar el estimador $\\hat{\\theta}$\n",
    "$$\n",
    "P\\left(-z_\\frac{\\alpha}{2}\\frac{\\hat{{\\theta}}}{\\sqrt{n}}-\\hat{{\\theta}}\\le\\left(-{\\theta}\\right)\\le z_\\frac{\\alpha}{2}\\frac{\\hat{{\\theta}}}{\\sqrt{n}}-\\hat{{\\theta}}\\right)=1-\\alpha\n",
    "$$\n"
   ]
  },
  {
   "cell_type": "markdown",
   "id": "d9bdef67",
   "metadata": {},
   "source": [
    "Y ahora se se multiplica por (-1) y se reajusta el orden \n",
    "$$\n",
    "P\\left(\\hat{{\\theta}}+z_\\frac{\\alpha}{2}\\frac{\\hat{{\\theta}}}{\\sqrt{n}}\\le{\\theta}\\le\\ \\hat{{\\theta}}{-z}_\\frac{\\alpha}{2}\\frac{\\hat{{\\theta}}}{\\sqrt{n}}\\right)=1-\\alpha\n",
    "$$\n"
   ]
  },
  {
   "cell_type": "markdown",
   "id": "cd66cfbc",
   "metadata": {},
   "source": [
    "Por lo que el intervalo de confianza queda como se presenta a continuación:\n",
    "$$\n",
    "IC:\\left[\\hat{{\\theta}}+z_\\frac{\\alpha}{2}\\frac{\\hat{{\\theta}}}{\\sqrt{n}};\\hat{{\\theta}}{-z}_\\frac{\\alpha}{2}\\frac{\\hat{{\\theta}}}{\\sqrt{n}}\\right]\n",
    "$$"
   ]
  },
  {
   "cell_type": "markdown",
   "id": "cc53bbac",
   "metadata": {},
   "source": [
    "#### IV. \tSuponiendo que el número de entradas que ocurren al baño del 5 piso del edificio ML, se comportan como un proceso Poisson con tasa $\\frac{\\mathbf{1}}{\\mathbf{\\theta}}$. Y suponiendo que, en una semana, el promedio de entradas por hora es de 21.4 y que el día laboral tiene 12 horas.  Se construye un intervalo de confianza para la media del tiempo entre arribos con una confianza del 95%"
   ]
  },
  {
   "cell_type": "markdown",
   "id": "a4f1e791",
   "metadata": {},
   "source": [
    "Sí se tiene un evento que ocurre al azar varias veces a lo largo del tiempo y de manera continua, y se hace el supuesto de que los tiempos de ocurrencia son independientes entre sí y todos tienen una distribución exponencial de parámetro $\\frac{1}{\\theta}$. \n",
    "Se tiene entonces que:\n",
    "$$\n",
    "\\hat{{\\theta}}=\\frac{1}{\\theta}=\\frac{1}{21.4}=0.0467\n",
    "$$\n",
    "\n",
    "$$\n",
    "n=\\frac{12 horas}{día} * \\frac{5días}{semana}= \\frac{60horas}{semana}\n",
    "$$\n",
    "\n",
    "$$\n",
    "\\frac{\\alpha}{2}=\\frac{0.05}{2}=0.025\n",
    "$$"
   ]
  },
  {
   "cell_type": "markdown",
   "id": "fdc800d8",
   "metadata": {},
   "source": [
    "Con lo anterior se reemplazan los valores del intervalo de confianza del literal anterior y se obtiene que: \n",
    "$$\n",
    "IC:\\left[\\mathbf{0}.\\mathbf{0467}-1.96)\\frac{\\mathbf{0}.\\mathbf{0467}}{\\sqrt{\\mathbf{60}}};\\ \\mathbf{0}.\\mathbf{0467}+1.96)\\frac{\\mathbf{0}.\\mathbf{0467}}{\\sqrt{\\mathbf{60}}}\\right]\n",
    "$$\n",
    "\n",
    "$$\n",
    "IC:\\left[0.0349;0.0586\\right]\n",
    "$$\n",
    "\n",
    "El resultado anterior quiere decir que con una confianza del 95%, el parámetro teta se encuentra entre 0.0349 y 0.0586, es decir que la media del tiempo en horas entre los arribos al baño del 5 piso del edificio ML está entre 0.0349 y 0.0586.\n"
   ]
  },
  {
   "cell_type": "markdown",
   "id": "b72debb7",
   "metadata": {},
   "source": [
    "### Problema 8. Proyecciones y Distribuciones."
   ]
  },
  {
   "cell_type": "markdown",
   "id": "061688ff",
   "metadata": {},
   "source": [
    "Teniendo en cuenta que $\\mathbb{Y}\\sim \\text{Normal}_{40}(\\mathbb{X}\\beta,\\sigma^2\\mathbb{I}_{40x40})$ y que la matrix de proyección $\\mathbb{P_{\\Omega}}=\\mathbb{X}(\\mathbb{X}^t\\mathbb{X})^{-1}\\mathbb{X}^t$.\n",
    "\n",
    "1. Demostrar porqué $(\\mathbb{Y} - \\mathbb{X}\\beta)^t(\\mathbb{I} - \\mathbb{P_{\\Omega}})(\\mathbb{Y} - \\mathbb{X}\\beta)=||\\mathbb{Y} - \\mathbb{P_{\\Omega}}\\mathbb{Y}||^2 = || \\mathbb{Y} - \\hat{\\mathbb{Y}}||^2$.\n",
    "\n",
    "Para probar que las tres expresiones son las mismas, proponemos partir de la primera. Esta expresa la norma al cuadrado del vector entre las observaciones $\\mathbb{Y}$ y el estimador $\\hat{\\mathbb{Y}}$. Sin embargo, el estimador que se tiene de las observaciones se puede entender como la proyección del vector $\\mathbb{Y}$ sobre el sub-espacio $\\Omega \\subset \\mathbb{R}^p$ generado por la combinación lineal de las columnas de la matrix $\\mathbb{X}$. Es decir, empleando la defición de la matrix de proyección $P_{\\Omega}$, se puede reescribir $\\hat{\\mathbb{Y}}$ como $\\mathbb{P_{\\Omega}}\\mathbb{Y}$. Así, derivamos la primera igualdad. \n",
    "\n",
    "$$\n",
    "||\\mathbb{Y} - \\mathbb{P_{\\Omega}}\\mathbb{Y}||^2 = || \\mathbb{Y} - \\hat{\\mathbb{Y}}||^2\n",
    "$$\n",
    "\n",
    "En cuanto a la tercera expresión, se puede operar para comprobar que se llegará al mismo resultado. Para ver esto, proponemos operar el producto de las dos matrices de la derecha. Es decir, \n",
    "\n",
    "$$(\\mathbb{I} - \\mathbb{P_{\\Omega}})(\\mathbb{Y} - \\mathbb{X}\\beta) = \\mathbb{I}\\mathbb{Y} - \\mathbb{I}\\mathbb{X}\\beta - \\mathbb{P}_{\\Omega}\\mathbb{Y} + \\mathbb{P_{\\Omega}}\\mathbb{X}\\beta$$\n",
    "\n",
    "En primer lugar, los vectores multiplicados por la identidad serán iguales. Por otra parte, se reemplazará el termino $\\mathbb{X}\\beta$ por $\\hat{\\mathbb{Y}}$. Así, se tiene lo siguiente.\n",
    "\n",
    "$$\n",
    " \\mathbb{Y} - \\hat{\\mathbb{Y}} - \\mathbb{P}_{\\Omega}\\mathbb{Y} + \\mathbb{P_{\\Omega}}\\hat{\\mathbb{Y}}\n",
    " $$\n",
    "\n",
    "Para continuar, son necesarios dos conceptos asociados a la matriz de proyección $\\mathbb{P_{\\Omega}}$. El primero, es que por definición $\\mathbb{P}_{\\Omega}\\mathbb{Y} = \\hat{\\mathbb{Y}}$ pues dicha matriz es aquella que proyecta los vectores $\\mathbb{Y}$ en el sub-espacio $\\Omega$. El segundo, que sigue el mismo proncipio, es que la proyección de un vector sobre el sub-espacio al que pertenece es él mismo. De esta manera, $\\mathbb{P_{\\Omega}}\\hat{\\mathbb{Y}} = \\hat{\\mathbb{Y}}$. Al reemplazar las expresiones presentadas previamente, se obtiene la siguiente expresión. \n",
    "\n",
    "$$ \n",
    "\\mathbb{Y} - \\hat{\\mathbb{Y}} - \\hat{\\mathbb{Y}} + \\hat{\\mathbb{Y}} = \\mathbb{Y} -  \\hat{\\mathbb{Y}}\n",
    "$$\n",
    "\n",
    "Evaluando el término hallado en la expresión original, se tendría que \n",
    " \n",
    "$$\n",
    "(\\mathbb{Y} - \\mathbb{X}\\beta)^t(\\mathbb{I} - \\mathbb{P_{\\Omega}})(\\mathbb{Y} - \\mathbb{X}\\beta)=(\\mathbb{Y} - \\mathbb{X}\\beta)^t(\\mathbb{Y} -  \\hat{\\mathbb{Y}})\n",
    "$$\n",
    "\n",
    "Utilizando la misma definición que se ha empleado para toda la explicación, se puede reemplazar $\\mathbb{X}\\beta$ por $\\hat{\\mathbb{Y}}$ y esta es la operación matricial para hallar la norma de un vector al cuadrado $||\\mathbb{G}||^2=\\mathbb{G}^t\\mathbb{G}$\n",
    "\n",
    "\n",
    "2. Encontrar la distribución de $\\frac{1}{\\sigma^2}||\\mathbb{Y} - \\hat{\\mathbb{Y}}||^2$.\n",
    "\n",
    "Del literal anterior, se puede establecer que $||\\mathbb{Y} - \\hat{\\mathbb{Y}}||^2 = (\\mathbb{Y} - \\mathbb{X}\\beta)^t(\\mathbb{Y} - \\mathbb{X}\\beta)$. A partir de esto, vamos a basarnos en la siguiente definición para hallar la distribución. \n",
    "\n",
    "-   Si el vector aleatorio $\\mathbb{W} \\sim Normal_p(\\mu,\\Sigma)$, entonces la variable definida como $(\\mathbb{W} - \\mu)^T\\Sigma^{-1}(\\mathbb{W} - \\mu)$ se distribuye $x^2(p)$.\n",
    "\n",
    "\n",
    "Empleando esta definición, es posible traducir la expresión anterior para que cumpla con la condición. Es decir, $\\mathbb{W} = \\mathbb{Y}$, $\\mu = \\mathbb{X}\\beta$ y $\\Sigma = \\sigma^2 \\mathbb{I}$. Así, se obtiene lo siguiente:\n",
    "\n",
    "$$\n",
    "(\\mathbb{Y} - \\mathbb{X}\\beta)^T(\\sigma^2 \\mathbb{I})^{-1}(\\mathbb{Y} - \\mathbb{X}\\beta)\n",
    "$$\n",
    "\n",
    "Operamos el inverso para los dos terminos del producto de la mitad para obtener lo siguiente. Adicionalmente, utilizamos la definición de la proyección para reemplazar $\\mathbb{X}\\beta$ por $\\hat{\\mathbb{Y}}$\n",
    "\n",
    "$$\n",
    "(\\mathbb{Y} - \\hat{\\mathbb{Y}})^T(\\sigma^2)^{-1} (\\mathbb{I})^{-1}(\\mathbb{Y} - \\hat{\\mathbb{Y}}) = (\\mathbb{Y} - \\hat{\\mathbb{Y}})^T \\frac{\\mathbb{I}}{\\sigma^2} (\\mathbb{Y} - \\hat{\\mathbb{Y}})\n",
    "$$\n",
    "\n",
    "Finalmente, se reorganiza la expresión para ver que el producto entre los dos paréntesis es la norma al cuadrado del vector $\\mathbb{Y} - \\hat{\\mathbb{Y}}$. Es decir, que\n",
    "\n",
    "\n",
    "$$\n",
    "(\\mathbb{Y} - \\hat{\\mathbb{Y}})^T \\frac{\\mathbb{I}}{\\sigma^2} (\\mathbb{Y} - \\hat{\\mathbb{Y}}) = \\frac{1}{\\sigma^2}||\\mathbb{Y} -  \\hat{\\mathbb{Y}}||^2\n",
    "$$\n",
    "\n",
    "Por la definición que se dio al inicio de la explicación, esta expresión se distribuye Chi-cuadrado con p grados de libertad $x^2(p)$\n",
    "\n",
    "3. Porqué si el modelo es significagivo no se distribuye como $x^2$ con 39 grados de libertad.\n",
    "\n",
    "Ya se ve que la expresión $\\frac{1}{\\sigma^2}||\\mathbb{Y} -  \\hat{\\mathbb{Y}}||^2$ se distribuye Chi-cuadrado con $p$ gradosd de libertad. En este caso, $p$ que es el número de parámetros a estimar $(k + 1)$ son 10. Por lo tanto, la distribución de $\\frac{1}{\\sigma^2}||\\mathbb{Y} -  \\hat{\\mathbb{Y}}||^2$ sería una Chi-cuadrado con 10 grados de libertad, no 39."
   ]
  },
  {
   "cell_type": "markdown",
   "id": "c174ac1e",
   "metadata": {},
   "source": [
    "## Parte B. Problemas Aplicados con Datos Reales."
   ]
  },
  {
   "cell_type": "markdown",
   "id": "e1367666",
   "metadata": {},
   "source": [
    "### Problema 9. _Carseats Sales Data_."
   ]
  },
  {
   "cell_type": "markdown",
   "id": "6c0bbfb5",
   "metadata": {},
   "source": [
    "Para construir el modelo de regresión lineal múltiple es necesario procesar los datos que se van a analizar. Lo primero será remover las variables categoricas para trabajar únicamente con las continuas. "
   ]
  },
  {
   "cell_type": "code",
   "execution_count": null,
   "id": "52062edd",
   "metadata": {
    "vscode": {
     "languageId": "r"
    }
   },
   "outputs": [],
   "source": [
    "# Uploading library and processing data\n",
    "library(ISLR)\n",
    "categorical_variables = c(7,10,11)\n",
    "data=Carseats[,-categorical_variables] #remove non-continuous variables # nolint\n",
    "head(data)\n",
    "help(Carseats)"
   ]
  },
  {
   "cell_type": "markdown",
   "id": "2169ce79",
   "metadata": {},
   "source": [
    "1. Estimar un modelo de regresión lineal e interpretar cada uno de los parámetros de la recta."
   ]
  },
  {
   "cell_type": "code",
   "execution_count": null,
   "id": "d697dd82",
   "metadata": {
    "vscode": {
     "languageId": "r"
    }
   },
   "outputs": [],
   "source": [
    "model = lm(Sales ~ ., data = data)\n",
    "print(model)"
   ]
  },
  {
   "cell_type": "markdown",
   "id": "0e7b78fb",
   "metadata": {},
   "source": [
    "De acuerdo con los resultados obtenidos, se puede hacer el siguiente análisis sobre los coeficientes del modelo.\n",
    "\n",
    "1. CompPrice: Por cada dolar que aumente el precio que cobran los proveedores, se estima que el valor esperado de las ventas aumentará en 0.0939 mil unidades.\n",
    "\n",
    "\n",
    "2. Income: Por cada mil dólares que aumente el ingreso de la comunidad, se estima que el valor esperado de las ventas aumentará en 0.0129 mil unidades.\n",
    "\n",
    "\n",
    "3. Por cada mil dolares que se aumente en la inversión de la publicidad, se estima que el valor esperado de las ventas aumentará en 0.131 mil unidades.\n",
    "\n",
    "\n",
    "4. Por cada mil unidades que aumente la población, se estima que el valor esperado de las ventas disminuirá en 0.00012 mil unidades.\n",
    "\n",
    "\n",
    "5. Por cada dolar que aumente el precio de las sillas, se estima que el valor esperado de las ventas disminuya en 0.0926 mil unidades.\n",
    "\n",
    "\n",
    "6. Por cada año que aumente la población, se estima que el valor esperado de las ventas disminuirá en 0.044 mil unidades.\n",
    "\n",
    "\n",
    "7. Por cada nivel que aumente la educación de la población, se estima que el valor esperado de las ventas disminuyan en 0.0399 mil unidades."
   ]
  },
  {
   "cell_type": "code",
   "execution_count": null,
   "id": "bac33977",
   "metadata": {
    "vscode": {
     "languageId": "r"
    }
   },
   "outputs": [],
   "source": [
    "\n",
    "\n",
    "model = lm(Sales~CompPrice + Income + Advertising + Price + Age, data = data) # nolint\n",
    "summary(model)"
   ]
  },
  {
   "cell_type": "markdown",
   "id": "6316f985",
   "metadata": {},
   "source": [
    "### Problema 10. Problema Libre."
   ]
  },
  {
   "cell_type": "markdown",
   "id": "1307eb92",
   "metadata": {},
   "source": [
    "Se debe escoger unos datos que estén relacionados a un problema inferencial de su preferencia. Debe haber una variable de interés $(Y)$ y al menos 3 variables explicativas $(k \\le 3)$. Recuerde que, para un problema de regresión, Y debe ser continua.\n",
    "\n"
   ]
  },
  {
   "cell_type": "markdown",
   "id": "b0259de1",
   "metadata": {},
   "source": [
    "#### I.\tHaga una descripción de los datos y del problema general sobre el cual quiere inferir. Muestre algunas gráficas que resuman el comportamiento de los datos."
   ]
  },
  {
   "cell_type": "markdown",
   "id": "638a8df1",
   "metadata": {},
   "source": [
    "Para este problema se utilizará el paquete de R “ISLR”, el cual significa Data for an Introduction to Statistical Learning with Applications in R. Dentro de este paquete se pueden encontrar diferentes tipos de datos, pero en este caso utilizaremos los datos Auto, que hacen referencia a un total de 392 datos de diferentes tipos de automóviles con sus algunas características. A continuación, se muestran las variables que están dentro de este paquete:\n",
    "\n",
    "|Variable|Descripción|\n",
    "|--------|-----------|\n",
    "|mpg| Millas por galón|\n",
    "|Cylinders| Número de cilindros que tiene el carro (entre 4 a 8)|\n",
    "|Displacement| Desplazamiento del motor en pulgadas|\n",
    "|Horsepower|Caballos de fuerza del motor|\n",
    "|Weight|Peso del carro en libras|\n",
    "|Acceleratios|Tiempo de aceleración de 0 a 60 millos por hora por segundo|\n",
    "|Year|Año del modelo|\n",
    "|Origin| Un factor que termina el origen del carro (1. Americano, 2. Europeo, 3. Japonés|\n",
    "|Name| Nombre del auto|"
   ]
  },
  {
   "cell_type": "markdown",
   "id": "7507fd8a",
   "metadata": {},
   "source": [
    "Lo que se quiere es comprender los factores que caracterizan la aceleración de un carro, para lo cual es necesario eliminar las variables categóricas como lo es el Origin y el Name. Por otro lado, se debe asegurar que la base de datos no tenga información faltante, por lo que en realidad la base tiene 408 datos, pero el programa ya ha hecho la depuración correspondiente por lo que nuestro $n = 392.$\n",
    "\n",
    "Ahora bien, ya con los datos organizados y ajustados es importante saber sobre el comportamiento de los mismos, por lo que se hizo un resumen de cada una de las variables en donde aparece el mínimo, el 1er cuantil, la mediana, la media, el 3er cuantil y el valor máximo.  Estos valores se muestran a continuación: \n"
   ]
  },
  {
   "cell_type": "code",
   "execution_count": null,
   "id": "ea931d70",
   "metadata": {
    "vscode": {
     "languageId": "r"
    }
   },
   "outputs": [],
   "source": [
    "library(\"ISLR\")\n",
    "datos1 = Auto\n",
    "datos=datos1[,c(1,2,3,4,5,6,7)]\n",
    "\n",
    "y = datos$acceleration\n",
    "x1 = datos$mpg\n",
    "x2 = datos$cylinders\n",
    "x3 = datos$displacement\n",
    "x4 = datos$horsepower\n",
    "x5 = datos$weight\n",
    "x6 = datos$year\n",
    "\n",
    "#Resumen de la base de datos \n",
    "summary(datos)"
   ]
  },
  {
   "cell_type": "markdown",
   "id": "3864c47d",
   "metadata": {},
   "source": [
    "También para poder tener una mayor claridad sobre el comportamiento de cada una de las variables, se procede entonces a realizar 3 tipos de gráficos diferentes: histogramas, cajas y bigotes y por último gráficos de dispersión.\n",
    "\n",
    "Con los histogramas vemos como se distribuyen los datos usando barras o segmentos y en cada barra se muestra la frecuencia de las observaciones\n"
   ]
  },
  {
   "cell_type": "code",
   "execution_count": null,
   "id": "f551fac4",
   "metadata": {
    "scrolled": false,
    "vscode": {
     "languageId": "r"
    }
   },
   "outputs": [],
   "source": [
    "#Grafícas básicas\n",
    "#install.packages(\"ggplot2\")\n",
    "library(ggplot2)\n",
    "\n",
    "#Histogramas\n",
    "hist(y,main = \"Histograma Aceleración\")\n",
    "hist(x1,main = \"Histograma mpg\")\n",
    "hist(x2,main = \"Histograma Cilindros\")\n",
    "hist(x3,main = \"Histograma Desplazamiento\")\n",
    "hist(x4,main = \"Histograma Caballos de fuerza\")\n",
    "hist(x5,main = \"Histograma Peso\")\n",
    "hist(x6,main = \"Histograma Año\")\n"
   ]
  },
  {
   "cell_type": "markdown",
   "id": "89474d28",
   "metadata": {},
   "source": [
    "Otro de los tipos de gráficas que pueden ser muy útiles son los diagramas de cajas y bigotes, pues estos nos permiten ver la distribución de una variable usando los cuantiles. "
   ]
  },
  {
   "cell_type": "code",
   "execution_count": null,
   "id": "e595f11f",
   "metadata": {
    "vscode": {
     "languageId": "r"
    }
   },
   "outputs": [],
   "source": [
    "#Diagramas de cajas y bigotes\n",
    "Cajas_y_Bigotes1=boxplot(y,x1, main=\"Cajas & Bigotes Aceleración Vs mpg\")\n",
    "Cajas_y_Bigotes2=boxplot(y,x2, main=\"Cajas&Bigotes Aceleración Vs Cilindros\")\n",
    "Cajas_y_Bigotes3=boxplot(y,x3, main=\"Cajas&Bigotes Aceleración Vs Desplazamiento\")\n",
    "Cajas_y_Bigotes4=boxplot(y,x4, main=\"Cajas&Bigotes Aceleración Vs Caballos de fuerza\")\n",
    "Cajas_y_Bigotes5=boxplot(y,x5, main=\"Cajas&Bigotes Aceleración Vs Peso\")\n",
    "Cajas_y_Bigotes6=boxplot(y,x6, main=\"Cajas&Bigotes Aceleración Vs Año\")"
   ]
  },
  {
   "cell_type": "markdown",
   "id": "c158ade0",
   "metadata": {},
   "source": [
    "El diagrama de dispersión es supremamente útil pues nos permite ver la relación entre dos variables, en este caso la variable de respuestas y las explicativas."
   ]
  },
  {
   "cell_type": "code",
   "execution_count": null,
   "id": "73b3bb50",
   "metadata": {
    "vscode": {
     "languageId": "r"
    }
   },
   "outputs": [],
   "source": [
    "#Diagramas de dispersión\n",
    "Dispersion1 = plot(x = datos$mpg, y = datos$acceleration)\n",
    "Dispersion2 = plot(x = datos$cylinders, y = datos$acceleration)\n",
    "Dispersion3 = plot(x = datos$displacement, y = datos$acceleration)\n",
    "Dispersion4 = plot(x = datos$horsepower, y = datos$acceleration)\n",
    "Dispersion5 = plot(x = datos$weight, y = datos$acceleration)\n",
    "Dispersion6 = plot(x = datos$year, y = datos$acceleration)"
   ]
  },
  {
   "cell_type": "markdown",
   "id": "d8c1044b",
   "metadata": {},
   "source": [
    "#### II.\tSe realizan las siguientes pruebas"
   ]
  },
  {
   "cell_type": "markdown",
   "id": "48d70ebc",
   "metadata": {},
   "source": [
    "Antes de realizar cualquier prueba es importante definir el modelo de regresión lineal con base en la variable de interés y sus correspondientes variables explicativas que decidimos conservar. \n",
    "\n",
    "$$\n",
    "y=Aceleración\n",
    "$$\n",
    "\n",
    "$$\n",
    "x_1=mpg\n",
    "$$\n",
    "\n",
    "$$\n",
    "x_2=número de cilindros (cylinders)\n",
    "$$\n",
    "\n",
    "$$\n",
    "x_3=desplazamiento(displacement)\n",
    "$$\n",
    "\n",
    "$$\n",
    "x_4=Caballos\\ de\\ fuerza\\ (Horsepower)\n",
    "$$\n",
    "\n",
    "$$\n",
    "x_5=peso\\ (Weight)\n",
    "$$\n",
    "\n",
    "$$\n",
    "x_6=Año (Year)\n",
    "$$\n",
    "\n",
    "Y dadas estas variables, el modelo de regresión línea se puede expresar como: \n",
    "\n",
    "$$\n",
    "Y=\\beta_0+\\beta_1X_1+\\beta_2X_2+\\beta_3X_3+\\beta_4X_4+\\beta_5X_5+\\beta_6X_6+\\varepsilon\n",
    "$$\n",
    "\n",
    "En el software de R el comando utilizado para expresar la regresión es el siguiente: \n",
    "\n",
    "$$\n",
    "regresion\\ =\\ lm\\left(y~x1+x2+x3+x4+x5+x6\\right)\n",
    "$$\n"
   ]
  },
  {
   "cell_type": "code",
   "execution_count": null,
   "id": "2112e8d8",
   "metadata": {
    "vscode": {
     "languageId": "r"
    }
   },
   "outputs": [],
   "source": [
    "regresion = lm(y~x1+x2+x3+x4+x5+x6)\n",
    "regresion"
   ]
  },
  {
   "cell_type": "markdown",
   "id": "58c047d1",
   "metadata": {},
   "source": [
    "##### a. Significancia individual de cada variable"
   ]
  },
  {
   "cell_type": "markdown",
   "id": "1e6a1f47",
   "metadata": {},
   "source": [
    "Ahora sí con las variables y el modelo de regresión lineal definido ahora sí se puede proceder a evaluar la significancia individual de cada una de las variables, para esto se debe utilizar una prueba t-Student de la siguiente manera: \n",
    "$$\n",
    "H_0:\\beta_j=0 \n",
    "$$\n",
    "\n",
    "$$\n",
    "H_1:\\beta_j\\neq0\n",
    "$$\n",
    "\n",
    "$$\n",
    "EP=\\frac{\\ \\widehat{{\\beta}_{j}}}{\\sqrt{\\widehat{{Var}}(\\widehat{{\\beta}_{j}})}}~t_{gl_{error}}\\ \n",
    "$$\n",
    "\n",
    "Se rechaza la hipótesis nula si:\n",
    "$$\n",
    "\\left(|t_{EP}|\\right)>tcrítico(\\alpha /2,n-k-1)\n",
    "$$\n",
    "\n",
    "En R, este proceso se puede hacer muy fácilmente con el comando “summary”, por lo que se realiza: summary(regresion)\n"
   ]
  },
  {
   "cell_type": "code",
   "execution_count": null,
   "id": "45aa0f08",
   "metadata": {
    "vscode": {
     "languageId": "r"
    }
   },
   "outputs": [],
   "source": [
    "summary(regresion)"
   ]
  },
  {
   "cell_type": "markdown",
   "id": "80071194",
   "metadata": {},
   "source": [
    "Con estos resultados que podemos observar, nos damos cuenta que de manera individual, las variables Desplazamiento, Caballos de fuerza y peso son significativas para explicar la aceleración de un carro, esto lo sabemos pues el p-value de estas 3 variables es menor a la significancia de 5%. \n",
    "\n",
    "Adicionalmente nos arroja el valor de $R^2$, lo cual nos indica que tan bien mi modelo se ajusto a los datos. En este caso el valor del coeficiente de determinación fue $R^2=0.6139=61.39 \\%$, recordando entonces que sí $R^2=100\\%$ quiere decir que el modelo se ajusta muy bien a los datos, por lo que las variables $x$ explican totalmente la variación de $Y$. \n",
    "En este caso en particular este coeficiente no es tan alto, pero sí nos muestra que de alguna manera existen algunas relaciones y variables que en efecto explican la aceleración\n",
    "\n",
    "$$\n",
    "R^2=\\frac{SSR}{SST}=1-\\frac{SSE}{SST}\n",
    "$$\n",
    "\n",
    "$$\n",
    "R^2=\\frac{\\sum_{t=1}^{T}{({\\hat{Y}}_t-\\bar{Y})}^2}{\\sum_{t=1}^{T}{(Y_t-\\bar{Y})}^2}\n",
    "$$"
   ]
  },
  {
   "cell_type": "markdown",
   "id": "8cd83450",
   "metadata": {},
   "source": [
    "##### b. Significancia global del modelo"
   ]
  },
  {
   "cell_type": "markdown",
   "id": "1092bc2e",
   "metadata": {},
   "source": [
    "Para establecer la significancia global del modelo es necesario en este caso utilizar una F, para la cual es necesario calcular los SSR y los SSE y con esto encontrar el MSE de la siguiente manera:\n",
    "\n",
    "Para esta prueba yo voy a evaluar la siguiente hipotesis:\n",
    "$$\n",
    "𝐻_0:=\\beta_1 =\\beta_2 =\\beta_3 = \\beta_4 =\\beta_5 =\\beta_6=0\n",
    "$$\n",
    "\n",
    "$$\n",
    "𝐻_1:Algún \\ \\beta_i  \\ne 0\n",
    "$$\n",
    "\n",
    "\n",
    "$$\n",
    "SSR=\\sum_{i=1}^{n}{({\\hat{Y}}_i-\\bar{Y})}^2\n",
    "$$\n",
    "\n",
    "$$\n",
    "SSE=\\sum_{i=1}^{n}{(Y_i-{\\hat{Y}}_i)}^2\n",
    "$$\n",
    "\n",
    "$$\n",
    "MSE=\\frac{SSE}{n-k-1}\n",
    "$$\n",
    "\n",
    "$$\n",
    "MSR=\\frac{SSR}{k}\n",
    "$$\n",
    "\n",
    "$$\n",
    "F=\\frac{MSR}{MSE}\n",
    "$$\n",
    "\n",
    "Luego se procede a calcular la prueba F, o F critico:\n",
    "$$\n",
    "F_{critico}(1- \\alpha,k,n-k-1)\n",
    "$$"
   ]
  },
  {
   "cell_type": "code",
   "execution_count": null,
   "id": "ae15a8fb",
   "metadata": {
    "vscode": {
     "languageId": "r"
    }
   },
   "outputs": [],
   "source": [
    "SSR = sum(fitted(regresion)-mean(y))^2\n",
    "MSR = SSR/(6)\n",
    "\n",
    "SSE = sum(y-mean(y))^2\n",
    "MSE = SSE/(392-6-1)\n",
    "\n",
    "#Calcular el estadístico de Prueba\n",
    "F= MSR/MSE\n",
    "\n",
    "#Caclcular el F crítico\n",
    "Fcritico = qf(0.95,6,(392-6-1))\n",
    "\n",
    "SSR\n",
    "MSR\n",
    "SSE\n",
    "MSE\n",
    "F\n",
    "Fcritico"
   ]
  },
  {
   "cell_type": "markdown",
   "id": "2d5eb15e",
   "metadata": {},
   "source": [
    "Dado que el estadístico de prueba $F>F_{crítico}$ pues $68.7215>2.1221$ dada una significancia del 5%, entonces se puede concluir que se rechaza la hipotesis nula por lo que el modelo es globalmente significativo."
   ]
  },
  {
   "cell_type": "markdown",
   "id": "aa1c3072",
   "metadata": {},
   "source": [
    "##### c. Significancia parcial de algunas variables"
   ]
  },
  {
   "cell_type": "markdown",
   "id": "1b596e09",
   "metadata": {},
   "source": [
    "Para hacer la significacia parcial se debe realizar una prueba F parcial en la cual voy a tener un modelo reducido, por lo que eliminaré las variables $x_1,\\ x_2 \\ y\\  x_6$ dejando entonces el siguiente modelo reducido: \n",
    "$$\n",
    "Y=\\beta_0+\\beta_3X_3+\\beta_4X_4+\\beta_5X_5+\\varepsilon\n",
    "$$\n",
    "\n",
    "Es decir que debo tener la siguiente hipótesis: \n",
    "$$\n",
    "𝐻_0:=\\beta_1 =\\beta_2 =\\beta_6=0\n",
    "$$\n",
    "\n",
    "$$\n",
    "𝐻_1:\\ \\beta_i  \\ne 0 \\ para \\ algún\\ i \\in [1, 2, 6]\n",
    "$$\n",
    "\n",
    "y con esto se tiene el siguietne estadístico de prueba que hace referencia a la F parcial mencionada \n",
    "\n",
    "$$\n",
    "F_{parcial}=\\frac{\\frac{SSR_{full}-SSR_{red}}{gl_{full}-gl_{red}}}{MSE_{full}}\n",
    "$$\n",
    "Luego se obtuvo el estadístico F crítico:\n",
    "$$\n",
    "F_{critico}(1- \\alpha,k,n-k-1)\n",
    "$$\n",
    "\n",
    "Algo importante es que el modelo reducido no contiene esas 3 variables pues son las variables que no sos significativas para explicar la aceleración de un carro."
   ]
  },
  {
   "cell_type": "code",
   "execution_count": null,
   "id": "d9c124de",
   "metadata": {
    "vscode": {
     "languageId": "r"
    }
   },
   "outputs": [],
   "source": [
    "# Se quita X1, X2 y X6 pues no es significativa\n",
    "regresion_reducida = lm(y~x3+x4+x5)\n",
    "\n",
    "SSR2=sum((fitted(regresion)-mean(y))^2)\n",
    "SSE2=sum((fitted(regresion_reducida)-mean(y))^2)\n",
    "\n",
    "#Calculo de la F (Estadistico de prueba)\n",
    "F_parcial = (SSR2-SSE2)/3/MSE\n",
    "\n",
    "#Calculo F critico\n",
    "F_critico = qf(0.95,3,(392-3-1)) \n",
    "\n",
    "SSR2\n",
    "SSE2\n",
    "F_parcial\n",
    "F_critico\n"
   ]
  },
  {
   "cell_type": "markdown",
   "id": "d5e24398",
   "metadata": {},
   "source": [
    "Dado que el estadístico de prueba $F_{parcial}>F_{crítico}$ pues $2.877>2.627$ con un 95% de confianza se puede concluir que se rechaza la hipotesis nula por lo que las variables que excluimos en realidad son significativas para el modelo, por lo cual no es adecuado utilizar el modelo reducido "
   ]
  },
  {
   "cell_type": "markdown",
   "id": "0ea5ec3c",
   "metadata": {},
   "source": [
    "##### d. Una combinación lineal de betas (que tenga sentido dentro del contexto del problema)"
   ]
  },
  {
   "cell_type": "markdown",
   "id": "aeb4e2a3",
   "metadata": {},
   "source": [
    "Para este punto queremos saber sí el efecto del número de cilindros es igual al efecto de los caballos de fuerza en la aceleración de un carro. \n",
    "Para poder realizar esto debemos considerar la siguiente hipotesis: \n",
    "\n",
    "$$\n",
    "{H_o:\\ \\beta}_2-\\beta_4=0\n",
    "$$\n",
    "\n",
    "$$\n",
    "H_1:\\beta_2-\\beta_4\\neq0\n",
    "$$\n",
    "\n",
    "Y para esta pruea se requiere un estadístico de prueba t como se muestra a continuación: \n",
    "$$\n",
    "t=\\frac{\\widehat{\\beta_2}-\\widehat{\\beta_4}\\ -a }{\\sqrt{MSE\\cdot\\left(\\widehat{var}\\left(\\widehat{\\beta_2}\\right)+\\widehat{var}\\left(\\widehat{\\beta_4}\\right)\\right)}}\n",
    "$$\n",
    "\n",
    "$$\n",
    "t=\\left(\\sum{C_j\\ast\\widehat{{\\beta}_j}}-a\\right)/\\left(\\sqrt{\\widehat{var}\\left(\\sum C_j\\right)\\widehat{{\\beta}_j}}\\right)\n",
    "$$\n",
    "La t crítica de la prueba corresponde a:\n",
    "\n",
    "$$\n",
    "t_{1-\\frac{\\alpha}{2},\\ n-k-1}\n",
    "$$"
   ]
  },
  {
   "cell_type": "code",
   "execution_count": null,
   "id": "108a4233",
   "metadata": {
    "vscode": {
     "languageId": "r"
    }
   },
   "outputs": [],
   "source": [
    "Cj =c(0,0,1,0,-1,0,0)\n",
    "a=0\n",
    "\n",
    "x=cbind(rep(1,392),x1,x2,x3,x4,x5,x6)\n",
    "xtx=t(x)%*%x\n",
    "H=solve(xtx)\n",
    "beta_hat=H%*%t(x)%*%y\n",
    "\n",
    "parte1=t(Cj)%*%beta_hat-a\n",
    "parte2=sqrt(MSE*(t(Cj)%*%H%*%Cj))\n",
    "\n",
    "EPt=parte1/parte2\n",
    "EPt\n",
    "\n",
    "t_critica=qt(0.975,392-6-1)\n",
    "t_critica"
   ]
  },
  {
   "cell_type": "markdown",
   "id": "3c32b515",
   "metadata": {},
   "source": [
    "Dado que el estadístico de prueba $t<t_{crítica}$ pues $-6.14^{13}<1.966$ con un 95% de confianza se puede concluir que no se rechaza la hipotesis nula, por lo que el efecto del número de cilindros es igual al efecto de los caballos de fuerza en la aceleración de un carro. "
   ]
  }
 ],
 "metadata": {
  "kernelspec": {
   "display_name": "R",
   "language": "R",
   "name": "ir"
  },
  "language_info": {
   "codemirror_mode": "r",
   "file_extension": ".r",
   "mimetype": "text/x-r-source",
   "name": "R",
   "pygments_lexer": "r",
   "version": "4.1.3"
  }
 },
 "nbformat": 4,
 "nbformat_minor": 5
}
