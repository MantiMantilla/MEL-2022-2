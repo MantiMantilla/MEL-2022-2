{
 "cells": [
  {
   "cell_type": "markdown",
   "id": "c2f0b8e4",
   "metadata": {},
   "source": [
    "# Tarea 2 - MEL\n",
    "\n",
    "Alejandro Mantilla - 201711304\n",
    "\n",
    "Ximena Palacio - 201730995"
   ]
  },
  {
   "cell_type": "markdown",
   "id": "d9ec8b5f",
   "metadata": {},
   "source": [
    "## Índice\n",
    "\n",
    "- [Parte A](#Parte-A.-Problemas-Computacionales.)\n",
    "\n",
    "    - [Problema 1](#Problema-1.-Escriba-su-propia-función-para-hacer-pruebas-sobre-los-betas.)\n",
    "    - [Problema 2](#Problema-2.-Visualizando-las-regiones-de-confianza.)\n",
    "\n",
    "- [Parte B](#Parte-B.-Problemas-Teóricos-y-Conceptuales.)\n",
    "\n",
    "    - [Problema 3](#Problema-3.-Formas-de-variables-dummies.)\n",
    "    \n",
    "- [Parte C](#Parte-C.-Problemas-Aplicados-con-Datos-Reales.)\n",
    "\n",
    "    - [Problema 4](#Problema-4.-Modelos-No-Lineales.)\n",
    "    - [Problema 5](#Problema-5.-Efectos-de-la-personalidad-en-la-producción-intelectual-bajo-estrés.)\n",
    "    - [Problema 6](#Problema-6.-Interacciones-y-Multicolinealidad.)"
   ]
  },
  {
   "cell_type": "markdown",
   "id": "0b8d3940",
   "metadata": {},
   "source": [
    "## Parte A. Problemas Computacionales."
   ]
  },
  {
   "cell_type": "markdown",
   "id": "eddb49f9",
   "metadata": {},
   "source": [
    "### Problema 1. Escriba su propia función para hacer pruebas sobre los betas."
   ]
  },
  {
   "cell_type": "markdown",
   "id": "ff38ecde",
   "metadata": {},
   "source": []
  },
  {
   "cell_type": "code",
   "execution_count": null,
   "id": "9284b17d",
   "metadata": {},
   "outputs": [],
   "source": []
  },
  {
   "cell_type": "markdown",
   "id": "8ed858de",
   "metadata": {},
   "source": [
    "### Problema 2. Visualizando las regiones de confianza."
   ]
  },
  {
   "cell_type": "markdown",
   "id": "6a846176",
   "metadata": {},
   "source": []
  },
  {
   "cell_type": "code",
   "execution_count": null,
   "id": "e8f0d82c",
   "metadata": {},
   "outputs": [],
   "source": []
  },
  {
   "cell_type": "markdown",
   "id": "5140f00d",
   "metadata": {},
   "source": [
    "## Parte B. Problemas Teóricos y Conceptuales."
   ]
  },
  {
   "cell_type": "markdown",
   "id": "9399ee46",
   "metadata": {},
   "source": [
    "### Problema 3. Formas de variables dummies."
   ]
  },
  {
   "cell_type": "markdown",
   "id": "d1e43360",
   "metadata": {},
   "source": []
  },
  {
   "cell_type": "markdown",
   "id": "5d54f966",
   "metadata": {},
   "source": [
    "## Parte C. Problemas Aplicados con Datos Reales."
   ]
  },
  {
   "cell_type": "markdown",
   "id": "895ab991",
   "metadata": {},
   "source": [
    "### Problema 4. Modelos No-Lineales."
   ]
  },
  {
   "cell_type": "markdown",
   "id": "d6f49d20",
   "metadata": {},
   "source": []
  },
  {
   "cell_type": "code",
   "execution_count": null,
   "id": "8b9f6c40",
   "metadata": {},
   "outputs": [],
   "source": []
  },
  {
   "cell_type": "markdown",
   "id": "52e32563",
   "metadata": {},
   "source": [
    "### Problema 5. Efectos de la personalidad en la producción intelectual bajo estrés."
   ]
  },
  {
   "cell_type": "markdown",
   "id": "2d0f9dd3",
   "metadata": {},
   "source": []
  },
  {
   "cell_type": "code",
   "execution_count": null,
   "id": "a49302e2",
   "metadata": {},
   "outputs": [],
   "source": []
  },
  {
   "cell_type": "markdown",
   "id": "200f595f",
   "metadata": {},
   "source": [
    "### Problema 6. Interacciones y Multicolinealidad."
   ]
  },
  {
   "cell_type": "markdown",
   "id": "4b65b4ed",
   "metadata": {},
   "source": []
  },
  {
   "cell_type": "code",
   "execution_count": null,
   "id": "6802138c",
   "metadata": {},
   "outputs": [],
   "source": []
  }
 ],
 "metadata": {
  "kernelspec": {
   "display_name": "R",
   "language": "R",
   "name": "ir"
  },
  "language_info": {
   "codemirror_mode": "r",
   "file_extension": ".r",
   "mimetype": "text/x-r-source",
   "name": "R",
   "pygments_lexer": "r",
   "version": "4.1.3"
  }
 },
 "nbformat": 4,
 "nbformat_minor": 5
}
