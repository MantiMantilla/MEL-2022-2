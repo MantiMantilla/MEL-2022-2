{
 "cells": [
  {
   "cell_type": "markdown",
   "id": "c2f0b8e4",
   "metadata": {},
   "source": [
    "# Tarea 2 - MEL\n",
    "\n",
    "Alejandro Mantilla - 201711304\n",
    "\n",
    "Ximena Palacio - 201730995"
   ]
  },
  {
   "cell_type": "markdown",
   "id": "d9ec8b5f",
   "metadata": {},
   "source": [
    "## Índice\n",
    "\n",
    "- [Parte A](#Parte-A.-Problemas-Computacionales.)\n",
    "\n",
    "    - [Problema 1](#Problema-1.-Escriba-su-propia-función-para-hacer-pruebas-sobre-los-betas.)\n",
    "    - [Problema 2](#Problema-2.-Visualizando-las-regiones-de-confianza.)\n",
    "\n",
    "- [Parte B](#Parte-B.-Problemas-Teóricos-y-Conceptuales.)\n",
    "\n",
    "    - [Problema 3](#Problema-3.-Formas-de-variables-dummies.)\n",
    "    \n",
    "- [Parte C](#Parte-C.-Problemas-Aplicados-con-Datos-Reales.)\n",
    "\n",
    "    - [Problema 4](#Problema-4.-Modelos-No-Lineales.)\n",
    "    - [Problema 5](#Problema-5.-Efectos-de-la-personalidad-en-la-producción-intelectual-bajo-estrés.)\n",
    "    - [Problema 6](#Problema-6.-Interacciones-y-Multicolinealidad.)"
   ]
  },
  {
   "cell_type": "markdown",
   "id": "0b8d3940",
   "metadata": {},
   "source": [
    "## Parte A. Problemas Computacionales."
   ]
  },
  {
   "cell_type": "markdown",
   "id": "eddb49f9",
   "metadata": {},
   "source": [
    "### Problema 1. Escriba su propia función para hacer pruebas sobre los betas."
   ]
  },
  {
   "cell_type": "markdown",
   "id": "6a846176",
   "metadata": {},
   "source": [
    "Como ya lo vimos en clase, las pruebas $F$ para restricciones en los parámetros $\\beta$ de la recta incluyen\n",
    "la mayor parte de las pruebas que se pueden hacer sobre los modelos de regresión (significancia global,\n",
    "significancia de cada variable, combinaciones lineales, etc).\n",
    "\n",
    "Como habrá visto, la función `lm` de R no tiene la opción de inferir sobre restricciones generales, sino\n",
    "que hace la prueba de significancia global y las individuales.\n",
    "\n",
    "Lea el capítulo 10 del documento de introducción a R (`intro-R.pdf`) sobre cómo crear sus propias\n",
    "funciones, y con esto:"
   ]
  },
  {
   "cell_type": "markdown",
   "id": "c055b235",
   "metadata": {},
   "source": [
    "#### 1. Cree su propia función para estimar un modelo de regresión lineal en donde los inputs son: matriz $X$, vector $Y$, el vector $c$, la matriz $A$ (si se quiere hacer una prueba general con restricciones) y el vector de subíndices que se quieren incluir en la hipótesis nula de una prueba de significancia parcial. Puede usar como base las funciones vistas en clase, si lo prefiere."
   ]
  },
  {
   "cell_type": "markdown",
   "id": "b7f1d877",
   "metadata": {},
   "source": [
    "#### 2. La función debe tener una entrada binaria en la que el usuario decida si quiere hacer una prueba con restricciones generales o una significancia parcial."
   ]
  },
  {
   "cell_type": "markdown",
   "id": "209d252e",
   "metadata": {},
   "source": [
    "#### 3. La función debe dar como salida: la prueba de significancia global, las significancias individuales de cada uno de los betas (con pruebas de hipótesis o intervalos de confianza) y el resultado de la prueba asociada a $A$ o a los índices de los betas en la prueba parcial, incluyendo el _$p$-value_."
   ]
  },
  {
   "cell_type": "markdown",
   "id": "6bebc63d",
   "metadata": {},
   "source": [
    "#### 4. Póngale el nombre de su preferencia a la función, añádale los demás atributos que quiera y úsela a su conveniencia."
   ]
  },
  {
   "cell_type": "markdown",
   "id": "126c23be",
   "metadata": {},
   "source": [
    "Definimos la función, y la probamos a partir deun ejemplo sencillo con los datos de marketing del paquete `datarium`."
   ]
  },
  {
   "cell_type": "code",
   "execution_count": 1,
   "id": "44fddbb2",
   "metadata": {},
   "outputs": [],
   "source": [
    "hipotesis_tests <- function(X,\n",
    "                            y,\n",
    "                            partial_tests = FALSE,\n",
    "                            indices = NULL,\n",
    "                            A = NULL,\n",
    "                            c = NULL) {\n",
    "\n",
    "    p_val <- function(X, y, n, p, q, A, c) {\n",
    "\n",
    "        xtx <- t(X) %*% X\n",
    "        H <- solve(xtx)\n",
    "\n",
    "        beta_hat <- H %*% t(X) %*% y\n",
    "\n",
    "        y_hat <- X %*% beta_hat\n",
    "\n",
    "        s2 <- sum((y - y_hat) ^ 2) / (n - p)\n",
    "\n",
    "        beta_r <- beta_hat +\n",
    "                  (H %*% t(A)\n",
    "                   %*% solve(A %*% H %*% t(A))\n",
    "                   %*% (c - (A %*% beta_hat)))\n",
    "\n",
    "        ep <- (sum((y_hat - (X %*% beta_r)) ^ 2) / q) / s2\n",
    "\n",
    "        pvalue <- 1 - pf(ep, q, (n - p))\n",
    "\n",
    "        return(c(ep, pvalue))\n",
    "\n",
    "    }\n",
    "\n",
    "    result <- list()\n",
    "\n",
    "    if (!partial_tests) {\n",
    "\n",
    "        n <- nrow(X)\n",
    "        p <- ncol(X)\n",
    "        q <- nrow(A)\n",
    "\n",
    "        result$restricted <- paste(\"(ep, pvalue):\", p_val(X, y, n, p, q, A, c))\n",
    "\n",
    "    } else {\n",
    "\n",
    "        n <- nrow(X)\n",
    "        p <- ncol(X)\n",
    "\n",
    "        indices <- which(colnames(X) %in% indices)\n",
    "\n",
    "        q <- length(unique(indices))\n",
    "\n",
    "        A <- diag(1, p)[indices, ]\n",
    "        c <- matrix(rep(0, q), ncol = 1)\n",
    "\n",
    "        result$partial <- paste(\"(ep, pvalue):\", p_val(X, y, n, p, q, A, c))\n",
    "\n",
    "    }\n",
    "\n",
    "    n <- nrow(X)\n",
    "    p <- ncol(X)\n",
    "\n",
    "    q <- p - 1\n",
    "\n",
    "    A <- cbind(0, diag(1, q))\n",
    "    c <- matrix(0, nrow = q)\n",
    "\n",
    "    result$global <- paste(\"(ep, pvalue):\", p_val(X, y, n, p, q, A, c))\n",
    "\n",
    "    result$marginal <- list()\n",
    "\n",
    "    for(i in 2:p) {\n",
    "\n",
    "        result$marginal[[paste(\"marginal\", colnames(X)[i], sep = \"_\")]] <- paste(\"(ep, pvalue):\", p_val(X, y, n, p, q, A[i - 1, , drop = FALSE], c[i - 1, , drop = FALSE]))\n",
    "\n",
    "    }\n",
    "\n",
    "    return(result)\n",
    "\n",
    "}"
   ]
  },
  {
   "cell_type": "code",
   "execution_count": 2,
   "id": "6213c9e4-b833-4138-9c1c-513ebe854d7a",
   "metadata": {},
   "outputs": [
    {
     "name": "stdout",
     "output_type": "stream",
     "text": [
      "[1] \"Prueba parcial.\"\n"
     ]
    },
    {
     "data": {
      "text/html": [
       "<dl>\n",
       "\t<dt>$partial</dt>\n",
       "\t\t<dd><style>\n",
       ".list-inline {list-style: none; margin:0; padding: 0}\n",
       ".list-inline>li {display: inline-block}\n",
       ".list-inline>li:not(:last-child)::after {content: \"\\00b7\"; padding: 0 .5ex}\n",
       "</style>\n",
       "<ol class=list-inline><li>'(ep, pvalue): 805.714107187276'</li><li>'(ep, pvalue): 0'</li></ol>\n",
       "</dd>\n",
       "\t<dt>$global</dt>\n",
       "\t\t<dd><style>\n",
       ".list-inline {list-style: none; margin:0; padding: 0}\n",
       ".list-inline>li {display: inline-block}\n",
       ".list-inline>li:not(:last-child)::after {content: \"\\00b7\"; padding: 0 .5ex}\n",
       "</style>\n",
       "<ol class=list-inline><li>'(ep, pvalue): 570.270703659095'</li><li>'(ep, pvalue): 0'</li></ol>\n",
       "</dd>\n",
       "\t<dt>$marginal</dt>\n",
       "\t\t<dd><dl>\n",
       "\t<dt>$marginal_youtube</dt>\n",
       "\t\t<dd><style>\n",
       ".list-inline {list-style: none; margin:0; padding: 0}\n",
       ".list-inline>li {display: inline-block}\n",
       ".list-inline>li:not(:last-child)::after {content: \"\\00b7\"; padding: 0 .5ex}\n",
       "</style>\n",
       "<ol class=list-inline><li>'(ep, pvalue): 358.801945611961'</li><li>'(ep, pvalue): 0'</li></ol>\n",
       "</dd>\n",
       "\t<dt>$marginal_facebook</dt>\n",
       "\t\t<dd><style>\n",
       ".list-inline {list-style: none; margin:0; padding: 0}\n",
       ".list-inline>li {display: inline-block}\n",
       ".list-inline>li:not(:last-child)::after {content: \"\\00b7\"; padding: 0 .5ex}\n",
       "</style>\n",
       "<ol class=list-inline><li>'(ep, pvalue): 159.775056548176'</li><li>'(ep, pvalue): 0'</li></ol>\n",
       "</dd>\n",
       "\t<dt>$marginal_newspaper</dt>\n",
       "\t\t<dd><style>\n",
       ".list-inline {list-style: none; margin:0; padding: 0}\n",
       ".list-inline>li {display: inline-block}\n",
       ".list-inline>li:not(:last-child)::after {content: \"\\00b7\"; padding: 0 .5ex}\n",
       "</style>\n",
       "<ol class=list-inline><li>'(ep, pvalue): 0.0104093483677209'</li><li>'(ep, pvalue): 0.998540630496386'</li></ol>\n",
       "</dd>\n",
       "</dl>\n",
       "</dd>\n",
       "</dl>\n"
      ],
      "text/latex": [
       "\\begin{description}\n",
       "\\item[\\$partial] \\begin{enumerate*}\n",
       "\\item '(ep, pvalue): 805.714107187276'\n",
       "\\item '(ep, pvalue): 0'\n",
       "\\end{enumerate*}\n",
       "\n",
       "\\item[\\$global] \\begin{enumerate*}\n",
       "\\item '(ep, pvalue): 570.270703659095'\n",
       "\\item '(ep, pvalue): 0'\n",
       "\\end{enumerate*}\n",
       "\n",
       "\\item[\\$marginal] \\begin{description}\n",
       "\\item[\\$marginal\\_youtube] \\begin{enumerate*}\n",
       "\\item '(ep, pvalue): 358.801945611961'\n",
       "\\item '(ep, pvalue): 0'\n",
       "\\end{enumerate*}\n",
       "\n",
       "\\item[\\$marginal\\_facebook] \\begin{enumerate*}\n",
       "\\item '(ep, pvalue): 159.775056548176'\n",
       "\\item '(ep, pvalue): 0'\n",
       "\\end{enumerate*}\n",
       "\n",
       "\\item[\\$marginal\\_newspaper] \\begin{enumerate*}\n",
       "\\item '(ep, pvalue): 0.0104093483677209'\n",
       "\\item '(ep, pvalue): 0.998540630496386'\n",
       "\\end{enumerate*}\n",
       "\n",
       "\\end{description}\n",
       "\n",
       "\\end{description}\n"
      ],
      "text/markdown": [
       "$partial\n",
       ":   1. '(ep, pvalue): 805.714107187276'\n",
       "2. '(ep, pvalue): 0'\n",
       "\n",
       "\n",
       "\n",
       "$global\n",
       ":   1. '(ep, pvalue): 570.270703659095'\n",
       "2. '(ep, pvalue): 0'\n",
       "\n",
       "\n",
       "\n",
       "$marginal\n",
       ":   $marginal_youtube\n",
       ":   1. '(ep, pvalue): 358.801945611961'\n",
       "2. '(ep, pvalue): 0'\n",
       "\n",
       "\n",
       "\n",
       "$marginal_facebook\n",
       ":   1. '(ep, pvalue): 159.775056548176'\n",
       "2. '(ep, pvalue): 0'\n",
       "\n",
       "\n",
       "\n",
       "$marginal_newspaper\n",
       ":   1. '(ep, pvalue): 0.0104093483677209'\n",
       "2. '(ep, pvalue): 0.998540630496386'\n",
       "\n",
       "\n",
       "\n",
       "\n",
       "\n",
       "\n",
       "\n",
       "\n"
      ],
      "text/plain": [
       "$partial\n",
       "[1] \"(ep, pvalue): 805.714107187276\" \"(ep, pvalue): 0\"               \n",
       "\n",
       "$global\n",
       "[1] \"(ep, pvalue): 570.270703659095\" \"(ep, pvalue): 0\"               \n",
       "\n",
       "$marginal\n",
       "$marginal$marginal_youtube\n",
       "[1] \"(ep, pvalue): 358.801945611961\" \"(ep, pvalue): 0\"               \n",
       "\n",
       "$marginal$marginal_facebook\n",
       "[1] \"(ep, pvalue): 159.775056548176\" \"(ep, pvalue): 0\"               \n",
       "\n",
       "$marginal$marginal_newspaper\n",
       "[1] \"(ep, pvalue): 0.0104093483677209\" \"(ep, pvalue): 0.998540630496386\" \n",
       "\n"
      ]
     },
     "metadata": {},
     "output_type": "display_data"
    },
    {
     "name": "stdout",
     "output_type": "stream",
     "text": [
      "[1] \"Prueba restringida.\"\n"
     ]
    },
    {
     "data": {
      "text/html": [
       "<dl>\n",
       "\t<dt>$restricted</dt>\n",
       "\t\t<dd><style>\n",
       ".list-inline {list-style: none; margin:0; padding: 0}\n",
       ".list-inline>li {display: inline-block}\n",
       ".list-inline>li:not(:last-child)::after {content: \"\\00b7\"; padding: 0 .5ex}\n",
       "</style>\n",
       "<ol class=list-inline><li>'(ep, pvalue): 264.724159608646'</li><li>'(ep, pvalue): 0'</li></ol>\n",
       "</dd>\n",
       "\t<dt>$global</dt>\n",
       "\t\t<dd><style>\n",
       ".list-inline {list-style: none; margin:0; padding: 0}\n",
       ".list-inline>li {display: inline-block}\n",
       ".list-inline>li:not(:last-child)::after {content: \"\\00b7\"; padding: 0 .5ex}\n",
       "</style>\n",
       "<ol class=list-inline><li>'(ep, pvalue): 570.270703659095'</li><li>'(ep, pvalue): 0'</li></ol>\n",
       "</dd>\n",
       "\t<dt>$marginal</dt>\n",
       "\t\t<dd><dl>\n",
       "\t<dt>$marginal_youtube</dt>\n",
       "\t\t<dd><style>\n",
       ".list-inline {list-style: none; margin:0; padding: 0}\n",
       ".list-inline>li {display: inline-block}\n",
       ".list-inline>li:not(:last-child)::after {content: \"\\00b7\"; padding: 0 .5ex}\n",
       "</style>\n",
       "<ol class=list-inline><li>'(ep, pvalue): 358.801945611961'</li><li>'(ep, pvalue): 0'</li></ol>\n",
       "</dd>\n",
       "\t<dt>$marginal_facebook</dt>\n",
       "\t\t<dd><style>\n",
       ".list-inline {list-style: none; margin:0; padding: 0}\n",
       ".list-inline>li {display: inline-block}\n",
       ".list-inline>li:not(:last-child)::after {content: \"\\00b7\"; padding: 0 .5ex}\n",
       "</style>\n",
       "<ol class=list-inline><li>'(ep, pvalue): 159.775056548176'</li><li>'(ep, pvalue): 0'</li></ol>\n",
       "</dd>\n",
       "\t<dt>$marginal_newspaper</dt>\n",
       "\t\t<dd><style>\n",
       ".list-inline {list-style: none; margin:0; padding: 0}\n",
       ".list-inline>li {display: inline-block}\n",
       ".list-inline>li:not(:last-child)::after {content: \"\\00b7\"; padding: 0 .5ex}\n",
       "</style>\n",
       "<ol class=list-inline><li>'(ep, pvalue): 0.0104093483677209'</li><li>'(ep, pvalue): 0.998540630496386'</li></ol>\n",
       "</dd>\n",
       "</dl>\n",
       "</dd>\n",
       "</dl>\n"
      ],
      "text/latex": [
       "\\begin{description}\n",
       "\\item[\\$restricted] \\begin{enumerate*}\n",
       "\\item '(ep, pvalue): 264.724159608646'\n",
       "\\item '(ep, pvalue): 0'\n",
       "\\end{enumerate*}\n",
       "\n",
       "\\item[\\$global] \\begin{enumerate*}\n",
       "\\item '(ep, pvalue): 570.270703659095'\n",
       "\\item '(ep, pvalue): 0'\n",
       "\\end{enumerate*}\n",
       "\n",
       "\\item[\\$marginal] \\begin{description}\n",
       "\\item[\\$marginal\\_youtube] \\begin{enumerate*}\n",
       "\\item '(ep, pvalue): 358.801945611961'\n",
       "\\item '(ep, pvalue): 0'\n",
       "\\end{enumerate*}\n",
       "\n",
       "\\item[\\$marginal\\_facebook] \\begin{enumerate*}\n",
       "\\item '(ep, pvalue): 159.775056548176'\n",
       "\\item '(ep, pvalue): 0'\n",
       "\\end{enumerate*}\n",
       "\n",
       "\\item[\\$marginal\\_newspaper] \\begin{enumerate*}\n",
       "\\item '(ep, pvalue): 0.0104093483677209'\n",
       "\\item '(ep, pvalue): 0.998540630496386'\n",
       "\\end{enumerate*}\n",
       "\n",
       "\\end{description}\n",
       "\n",
       "\\end{description}\n"
      ],
      "text/markdown": [
       "$restricted\n",
       ":   1. '(ep, pvalue): 264.724159608646'\n",
       "2. '(ep, pvalue): 0'\n",
       "\n",
       "\n",
       "\n",
       "$global\n",
       ":   1. '(ep, pvalue): 570.270703659095'\n",
       "2. '(ep, pvalue): 0'\n",
       "\n",
       "\n",
       "\n",
       "$marginal\n",
       ":   $marginal_youtube\n",
       ":   1. '(ep, pvalue): 358.801945611961'\n",
       "2. '(ep, pvalue): 0'\n",
       "\n",
       "\n",
       "\n",
       "$marginal_facebook\n",
       ":   1. '(ep, pvalue): 159.775056548176'\n",
       "2. '(ep, pvalue): 0'\n",
       "\n",
       "\n",
       "\n",
       "$marginal_newspaper\n",
       ":   1. '(ep, pvalue): 0.0104093483677209'\n",
       "2. '(ep, pvalue): 0.998540630496386'\n",
       "\n",
       "\n",
       "\n",
       "\n",
       "\n",
       "\n",
       "\n",
       "\n"
      ],
      "text/plain": [
       "$restricted\n",
       "[1] \"(ep, pvalue): 264.724159608646\" \"(ep, pvalue): 0\"               \n",
       "\n",
       "$global\n",
       "[1] \"(ep, pvalue): 570.270703659095\" \"(ep, pvalue): 0\"               \n",
       "\n",
       "$marginal\n",
       "$marginal$marginal_youtube\n",
       "[1] \"(ep, pvalue): 358.801945611961\" \"(ep, pvalue): 0\"               \n",
       "\n",
       "$marginal$marginal_facebook\n",
       "[1] \"(ep, pvalue): 159.775056548176\" \"(ep, pvalue): 0\"               \n",
       "\n",
       "$marginal$marginal_newspaper\n",
       "[1] \"(ep, pvalue): 0.0104093483677209\" \"(ep, pvalue): 0.998540630496386\" \n",
       "\n"
      ]
     },
     "metadata": {},
     "output_type": "display_data"
    }
   ],
   "source": [
    "data(\"marketing\", package = \"datarium\")\n",
    "\n",
    "X <- marketing[, c(\"youtube\", \"facebook\", \"newspaper\")]\n",
    "X <- as.matrix(cbind(1, X))\n",
    "y <- as.matrix(marketing[\"sales\"])\n",
    "\n",
    "# Partial (facebook = youtube = 0):\n",
    "print(\"Prueba parcial.\")\n",
    "hipotesis_tests(X = X, y = y, partial_tests = TRUE,\n",
    "                indices = c(\"facebook\", \"youtube\"))\n",
    "\n",
    "# Compund (facebook = youtube):\n",
    "print(\"Prueba restringida.\")\n",
    "A <- matrix(c(0, 1, -1, 0), nrow = 1)\n",
    "c <- matrix(0)\n",
    "hipotesis_tests(X, y, partial_tests = FALSE, A = A, c = c)\n"
   ]
  },
  {
   "cell_type": "markdown",
   "id": "8ed858de",
   "metadata": {},
   "source": [
    "### Problema 2. Visualizando las regiones de confianza."
   ]
  },
  {
   "cell_type": "markdown",
   "id": "1888b340",
   "metadata": {},
   "source": [
    "Hasta ahora sabemos hacer intervalos de confianza asociados a cada uno de los parámetros $\\beta_{j}$ para $j = 0, 1, \\cdots , k$. Sin embargo, estos están relacionados a pruebas individuales, con conjuntas. Para solucionar esto, vamos a hacer regiones conjuntas de confianza para pares de parámetros. Para esto, tenga en cuenta que cada par de estimadores $\\hat{\\beta}_{i}$ y $\\hat{\\beta}_{i}$ para $i, j \\in \\{0, . . . , k\\}$ se distribuyen como un vector normal bivariado (revisar las propiedades de la distribución normal multivariada), Esto es:\n",
    "\n",
    "$$\n",
    "  \\left( \\hat{\\beta}_{i}, \\hat{\\beta}_{i}\\right)^{T} \\sim \\mathcal{N}_{2}\\left(\\left( \\beta_{i}, \\beta_{i}\\right)^{T}, \\sigma^{2}\\textbf{W}_{ij}\\right).\n",
    "$$"
   ]
  },
  {
   "cell_type": "markdown",
   "id": "ed5447c5",
   "metadata": {},
   "source": [
    "Donde la matriz $\\textbf{W}_{ij}$ corresponde a los elementos correspondientes a las varianza y covarianza, esto es:\n",
    "\n",
    "$$\n",
    "  \\textbf{W}_{ij} =\n",
    "  \\begin{bmatrix}\n",
    "    h_{ii} & h_{ij}\\\\\n",
    "    h_{ij} & h_{jj}\n",
    "  \\end{bmatrix}.\n",
    "$$"
   ]
  },
  {
   "cell_type": "markdown",
   "id": "48788d08",
   "metadata": {},
   "source": [
    "Para construir el la región de confianza siga los siguientes pasos:"
   ]
  },
  {
   "cell_type": "markdown",
   "id": "784a9db4",
   "metadata": {},
   "source": [
    "#### 1. Determine la distribución de:\n",
    "\n",
    "$$\n",
    "  \\sigma^{-1}\\textbf{W}_{ij}^{-\\frac{1}{2}}\n",
    "  \\begin{bmatrix}\n",
    "    \\hat{\\beta}_{i} - \\beta_{i}\\\\\n",
    "    \\hat{\\beta}_{j} - \\beta_{j}\n",
    "  \\end{bmatrix}\n",
    "$$"
   ]
  },
  {
   "cell_type": "markdown",
   "id": "46ec10d4",
   "metadata": {},
   "source": [
    "Llegamos a la expresión deseada, estandarizando los estimadores. Estandarizar las distribuciones marginales también estandariza la distribución conjunta.\n",
    "\n",
    "\\begin{align*}\n",
    "  \\begin{bmatrix}\n",
    "    \\hat{\\beta}_{i}\\\\\n",
    "    \\hat{\\beta}_{j}\n",
    "  \\end{bmatrix} &\\sim \\mathcal{N}_{2}\\left(\n",
    "  \\begin{bmatrix}\n",
    "    \\beta_{i}\\\\\n",
    "    \\beta_{j}\n",
    "  \\end{bmatrix}, \\sigma^{2}\\textbf{W}_{ij}\\right) \\\\\n",
    "  \\begin{bmatrix}\n",
    "    \\hat{\\beta}_{i} - \\beta_{i} \\\\\n",
    "    \\hat{\\beta}_{j} - \\beta_{j}\n",
    "  \\end{bmatrix} &\\sim \\mathcal{N}_{2}\\left(\n",
    "  \\begin{bmatrix}\n",
    "    0\\\\\n",
    "    0\n",
    "  \\end{bmatrix}, \\sigma^{2}\\textbf{W}_{ij}\\right)\n",
    "\\end{align*}"
   ]
  },
  {
   "cell_type": "markdown",
   "id": "9ae315a2",
   "metadata": {},
   "source": [
    "$$\n",
    "  \\left[ \\sigma^{2}\\textbf{W}_{ij} \\right]^{-\\frac{1}{2}}\n",
    "  \\begin{bmatrix}\n",
    "    \\hat{\\beta}_{i} - \\beta_{i}\\\\\n",
    "    \\hat{\\beta}_{j} - \\beta_{j}\n",
    "  \\end{bmatrix}\n",
    "  = \\sigma^{-1}\\textbf{W}_{ij}^{-\\frac{1}{2}}\n",
    "  \\begin{bmatrix}\n",
    "    \\hat{\\beta}_{i} - \\beta_{i}\\\\\n",
    "    \\hat{\\beta}_{j} - \\beta_{j}\n",
    "  \\end{bmatrix}\n",
    "  \\sim \\mathcal{N}_{2}\\left(\n",
    "  \\begin{bmatrix}\n",
    "    0\\\\\n",
    "    0\n",
    "  \\end{bmatrix},\n",
    "  \\begin{bmatrix}\n",
    "    1 & 0\\\\\n",
    "    0 & 1\n",
    "  \\end{bmatrix}\\right).\n",
    "$$\n",
    "\n",
    "La expresión se distribuye normal estándar bivariada."
   ]
  },
  {
   "cell_type": "markdown",
   "id": "9241398a",
   "metadata": {},
   "source": [
    "#### 2. Determine la distribución de:\n",
    "\n",
    "$$\n",
    "  \\sigma^{-2}\n",
    "  \\begin{bmatrix}\n",
    "    \\hat{\\beta}_{i} - \\beta_{i}\\\\\n",
    "    \\hat{\\beta}_{j} - \\beta_{j}\n",
    "  \\end{bmatrix}^{T}\n",
    "  \\textbf{W}_{ij}^{-1}\n",
    "  \\begin{bmatrix}\n",
    "    \\hat{\\beta}_{i} - \\beta_{i}\\\\\n",
    "    \\hat{\\beta}_{j} - \\beta_{j}\n",
    "  \\end{bmatrix}\n",
    "$$"
   ]
  },
  {
   "cell_type": "markdown",
   "id": "b5823cf1",
   "metadata": {},
   "source": [
    "Usaremos la propiedad de simetría de la matriz $\\textbf{W}_{ij}$: $\\left[\\textbf{W}_{ij}\\right]^{T} = \\textbf{W}_{ij}$."
   ]
  },
  {
   "cell_type": "markdown",
   "id": "5a5b623f",
   "metadata": {},
   "source": [
    "Tomamos dos características que demostramos en la tarea anterior. Si $Y\\sim\\mathcal{N}(0,1)$, entonces:\n",
    "\n",
    "-   $Y^{2}\\sim\\chi^{2}(1)$, y\n",
    "-   $\\sum_{i = 1}^{n}Y_{i}^{2}\\sim\\chi^{2}(n)$."
   ]
  },
  {
   "cell_type": "markdown",
   "id": "270014f0",
   "metadata": {},
   "source": [
    "Por lo mismo, podemos ver que si $\\begin{bmatrix} Y_{1} \\\\ Y_{2} \\end{bmatrix} \\sim \\mathcal{N}_{2}(0,1)$, entonces:\n",
    "\n",
    "$$\n",
    "  \\begin{bmatrix} Y_{1} \\\\ Y_{2} \\end{bmatrix} ^{2} = \\begin{bmatrix} Y_{1} & Y_{2} \\end{bmatrix}\\begin{bmatrix} Y_{1} \\\\ Y_{2} \\end{bmatrix} = Y_{1}^{2} + Y_{2}^{2} = \\sum_{i = 1}^{2} Y_{i}^{2} \\sim \\chi^{2}(2).\n",
    "$$"
   ]
  },
  {
   "cell_type": "markdown",
   "id": "bf62e034",
   "metadata": {},
   "source": [
    "La consecuencia de esta propiedad es que:\n",
    "\n",
    "$$\n",
    "  \\left[\\sigma^{-1}\\textbf{W}_{ij}^{-\\frac{1}{2}}\n",
    "  \\begin{bmatrix}\n",
    "    \\hat{\\beta}_{i} - \\beta_{i}\\\\\n",
    "    \\hat{\\beta}_{j} - \\beta_{j}\n",
    "  \\end{bmatrix}\\right]^{2} \\sim \\chi^{2}(2).\n",
    "$$"
   ]
  },
  {
   "cell_type": "markdown",
   "id": "8fdbfcd3",
   "metadata": {},
   "source": [
    "Desarrollamos esta propiedad hasta alcanzar la expresión deseada.\n",
    "\n",
    "\n",
    "\\begin{align*}\n",
    "  \\left[\\sigma^{-1}\\textbf{W}_{ij}^{-\\frac{1}{2}}\n",
    "  \\begin{bmatrix}\n",
    "    \\hat{\\beta}_{i} - \\beta_{i}\\\\\n",
    "    \\hat{\\beta}_{j} - \\beta_{j}\n",
    "  \\end{bmatrix}\\right]^{2} &=\n",
    "  \\left[\\sigma^{-1}\\textbf{W}_{ij}^{-\\frac{1}{2}}\n",
    "  \\begin{bmatrix}\n",
    "    \\hat{\\beta}_{i} - \\beta_{i}\\\\\n",
    "    \\hat{\\beta}_{j} - \\beta_{j}\n",
    "  \\end{bmatrix}\\right]^{T} \\left[\\sigma^{-1}\\textbf{W}_{ij}^{-\\frac{1}{2}}\n",
    "  \\begin{bmatrix}\n",
    "    \\hat{\\beta}_{i} - \\beta_{i}\\\\\n",
    "    \\hat{\\beta}_{j} - \\beta_{j}\n",
    "  \\end{bmatrix}\\right] \\\\\n",
    "  &= \\sigma^{-2}\n",
    "  \\begin{bmatrix}\n",
    "    \\hat{\\beta}_{i} - \\beta_{i}\\\\\n",
    "    \\hat{\\beta}_{j} - \\beta_{j}\n",
    "  \\end{bmatrix}^{T} \\left[\\textbf{W}_{ij}^{-\\frac{1}{2}}\\right]^{T} \\left[\\textbf{W}_{ij}^{-\\frac{1}{2}}\n",
    "  \\begin{bmatrix}\n",
    "    \\hat{\\beta}_{i} - \\beta_{i}\\\\\n",
    "    \\hat{\\beta}_{j} - \\beta_{j}\n",
    "  \\end{bmatrix}\\right] \\\\\n",
    "  &= \\sigma^{-2}\n",
    "  \\begin{bmatrix}\n",
    "    \\hat{\\beta}_{i} - \\beta_{i}\\\\\n",
    "    \\hat{\\beta}_{j} - \\beta_{j}\n",
    "  \\end{bmatrix}^{T} \\textbf{W}_{ij}^{-1}\n",
    "  \\begin{bmatrix}\n",
    "    \\hat{\\beta}_{i} - \\beta_{i}\\\\\n",
    "    \\hat{\\beta}_{j} - \\beta_{j}\n",
    "  \\end{bmatrix} \\sim \\chi^{2}(2).\n",
    "\\end{align*}"
   ]
  },
  {
   "cell_type": "markdown",
   "id": "9545a0b7",
   "metadata": {},
   "source": [
    "#### 3. Como la varianza del error ($\\sigma^{2}$) no se conoce, determine la distribución de:\n",
    "\n",
    "$$\n",
    "  \\left(\\frac{1}{2\\cdot MSE}\\right)\n",
    "  \\begin{bmatrix}\n",
    "    \\hat{\\beta}_{i} - \\beta_{i}\\\\\n",
    "    \\hat{\\beta}_{j} - \\beta_{j}\n",
    "  \\end{bmatrix}^{T}\n",
    "  \\textbf{W}_{ij}^{-1}\n",
    "  \\begin{bmatrix}\n",
    "    \\hat{\\beta}_{i} - \\beta_{i}\\\\\n",
    "    \\hat{\\beta}_{j} - \\beta_{j}\n",
    "  \\end{bmatrix}\n",
    "$$"
   ]
  },
  {
   "cell_type": "markdown",
   "id": "4c6be663",
   "metadata": {},
   "source": [
    "Por el teorema de Cochran, $\\frac{SSE}{\\sigma^{2}}\\sim\\chi^{2}(n-2)$.\n",
    "\n",
    "Sean $S_{1} \\sim \\chi^{2}(d_{1})$ y $S_{2} \\sim \\chi^{2}(d_{2})$, entonces $\\frac{S_{1}/d_{1}}{S_{2}/d_{2}} \\sim F(d_{1}, d_{2})$."
   ]
  },
  {
   "cell_type": "markdown",
   "id": "cd2408b7",
   "metadata": {},
   "source": [
    "Construimos una distribución $F$ de la misma manera:\n",
    "\n",
    "$$\n",
    "  S_{1} := \\sigma^{-2}\n",
    "  \\begin{bmatrix}\n",
    "    \\hat{\\beta}_{i} - \\beta_{i}\\\\\n",
    "    \\hat{\\beta}_{j} - \\beta_{j}\n",
    "  \\end{bmatrix}^{T} \\textbf{W}_{ij}^{-1}\n",
    "  \\begin{bmatrix}\n",
    "    \\hat{\\beta}_{i} - \\beta_{i}\\\\\n",
    "    \\hat{\\beta}_{j} - \\beta_{j}\n",
    "  \\end{bmatrix}.\\\\\n",
    "  S_{1}\\sim \\chi^{2}(2) \\implies d_{1} = 2.\n",
    "$$"
   ]
  },
  {
   "cell_type": "markdown",
   "id": "accac2d3",
   "metadata": {},
   "source": [
    "$$\n",
    "  S_{2} := \\frac{SSE}{\\sigma^{2}}. \\\\\n",
    "  S_{2} \\sim \\chi^{2}(n-2) \\Rightarrow d_{2} = n-2.\n",
    "$$"
   ]
  },
  {
   "cell_type": "markdown",
   "id": "7cc4e002",
   "metadata": {},
   "source": [
    "$$\n",
    "  \\frac{\\sigma^{-2}\n",
    "  \\begin{bmatrix}\n",
    "    \\hat{\\beta}_{i} - \\beta_{i}\\\\\n",
    "    \\hat{\\beta}_{j} - \\beta_{j}\n",
    "  \\end{bmatrix}^{T} \\textbf{W}_{ij}^{-1}\n",
    "  \\begin{bmatrix}\n",
    "    \\hat{\\beta}_{i} - \\beta_{i}\\\\\n",
    "    \\hat{\\beta}_{j} - \\beta_{j}\n",
    "  \\end{bmatrix} / 2}{\\frac{SSE}{\\sigma^{2}} / (n-2)} \\sim F(2, n-2).\n",
    "$$"
   ]
  },
  {
   "cell_type": "markdown",
   "id": "66f96919",
   "metadata": {},
   "source": [
    "$$\n",
    "  \\frac{\\sigma^{-2}\n",
    "  \\begin{bmatrix}\n",
    "    \\hat{\\beta}_{i} - \\beta_{i}\\\\\n",
    "    \\hat{\\beta}_{j} - \\beta_{j}\n",
    "  \\end{bmatrix}^{T} \\textbf{W}_{ij}^{-1}\n",
    "  \\begin{bmatrix}\n",
    "    \\hat{\\beta}_{i} - \\beta_{i}\\\\\n",
    "    \\hat{\\beta}_{j} - \\beta_{j}\n",
    "  \\end{bmatrix} / 2}{\\frac{SSE}{\\sigma^{2}} / (n-2)} = \n",
    "  \\frac{\\begin{bmatrix}\n",
    "    \\hat{\\beta}_{i} - \\beta_{i}\\\\\n",
    "    \\hat{\\beta}_{j} - \\beta_{j}\n",
    "  \\end{bmatrix}^{T}\n",
    "  \\textbf{W}_{ij}^{-1}\n",
    "  \\begin{bmatrix}\n",
    "    \\hat{\\beta}_{i} - \\beta_{i}\\\\\n",
    "    \\hat{\\beta}_{j} - \\beta_{j}\n",
    "  \\end{bmatrix}}{2\\cdot MSE}.\n",
    "$$"
   ]
  },
  {
   "cell_type": "markdown",
   "id": "919b16fc",
   "metadata": {},
   "source": [
    "#### 4. Use la expresión del numeral anterior para definir una región (en este caso una elipse) que forma una región bidimensional con una confianza de $1-\\alpha$."
   ]
  },
  {
   "cell_type": "markdown",
   "id": "b11d0c98",
   "metadata": {},
   "source": [
    "Suponemos un intervalo de confianza conjunto sobre el estadístico F de cola superior.\n",
    "\n",
    "La expresión del literal anterior define la forma cuadrática:\n",
    "\\begin{align*}\n",
    "  f\\left(\\beta_{i},\\beta_{j}\\right) &= \\frac{\\begin{bmatrix}\n",
    "      \\hat{\\beta}_{i} - \\beta_{i}\\\\\n",
    "      \\hat{\\beta}_{j} - \\beta_{j}\n",
    "    \\end{bmatrix}^{T}\n",
    "    \\textbf{W}_{ij}^{-1}\n",
    "    \\begin{bmatrix}\n",
    "      \\hat{\\beta}_{i} - \\beta_{i}\\\\\n",
    "      \\hat{\\beta}_{j} - \\beta_{j}\n",
    "    \\end{bmatrix}}{2\\cdot MSE} \\\\ \n",
    "    &= \\frac{h_{jj}\\left( \\hat{\\beta}_{i} -\\beta_{i}\\right)^{2} - 2h_{ij}\\left( \\hat{\\beta}_{i} -\\beta_{i}\\right)\\left( \\hat{\\beta}_{j} -\\beta_{j}\\right) + h_{ii}\\left( \\hat{\\beta}_{j} -\\beta_{j}\\right)^{2}}{2 \\cdot (h_{ii}h_{jj}-h_{ij}^{2}) \\cdot MSE} \\\\\n",
    "\\end{align*}"
   ]
  },
  {
   "cell_type": "markdown",
   "id": "00e2a19c",
   "metadata": {},
   "source": [
    "Si se acota de la siguiente manera, esta forma cuadrática describe una región que satisface el intervalo de confianza en forma de elipse:\n",
    "\n",
    "$$\n",
    "\\frac{h_{jj}\\left( \\hat{\\beta}_{i} -\\beta_{i}\\right)^{2} - 2h_{ij}\\left( \\hat{\\beta}_{i} -\\beta_{i}\\right)\\left( \\hat{\\beta}_{j} -\\beta_{j}\\right) + h_{ii}\\left( \\hat{\\beta}_{j} -\\beta_{j}\\right)^{2}}{2 \\cdot (h_{ii}h_{jj}-h_{ij}^{2}) \\cdot MSE} \\leq F_{1-\\alpha}(2,n-2).\n",
    "$$"
   ]
  },
  {
   "cell_type": "markdown",
   "id": "389fc272",
   "metadata": {},
   "source": [
    "Expandimos la forma cuadrática hasta llegar a la forma general: $ax^{2} + by^{2} + cxy + dx + ey + f \\leq 0$. Esto nos va a permitir graficar la elipse de manera más sencilla ya que conoceerémos la longitud de sus ejes y cuanto espacio debería ocupar en el gráfico.\n",
    "\n",
    "$$\n",
    "  h_{jj}\\left( \\hat{\\beta}_{i}^{2} - 2\\hat{\\beta}_{i}\\beta_{i} + \\beta_{i}^{2}\\right) - 2h_{ij}\\left( \\hat{\\beta}_{i}\\hat{\\beta}_{j} + \\beta_{i}\\beta_{j} - \\hat{\\beta}_{i}\\beta_{j} - \\hat{\\beta}_{j}\\beta_{i} \\right) + h_{ii}\\left( \\hat{\\beta}_{j}^{2} - 2\\hat{\\beta}_{j}\\beta_{j} + \\beta_{j}^{2}\\right) \\leq 2 \\cdot (h_{ii}h_{jj}-h_{ij}^{2}) \\cdot MSE \\cdot F_{1-\\alpha}(2,n-2)\\\\\n",
    "  h_{jj}\\beta_{i}^{2} + h_{ii}\\beta_{j}^{2} - 2h_{ij}\\beta_{i}\\beta_{j} + \\left(2h_{ij}\\hat{\\beta}_{j} - 2h_{jj}\\hat{\\beta}_{i}\\right)\\beta_{i} + \\left(2h_{ij}\\hat{\\beta}_{i} - 2h_{ii}\\hat{\\beta}_{j}\\right)\\beta_{j} - 2h_{ij}\\hat{\\beta}_{i}\\hat{\\beta}_{j} + h_{jj}\\hat{\\beta}_{i}^{2} + h_{ii}\\hat{\\beta}_{j}^{2} - 2 \\cdot (h_{ii}h_{jj}-h_{ij}^{2}) \\cdot MSE \\cdot F_{1-\\alpha}(2,n-2) \\leq 0.\n",
    "$$"
   ]
  },
  {
   "cell_type": "markdown",
   "id": "13e78f48",
   "metadata": {},
   "source": [
    "En esta región, $F_{1 - \\alpha}(2,n-2)$ es el percentil para un porcentaje $\\alpha$ de cola izquierda de una distribución $F(2,n-2)$."
   ]
  },
  {
   "cell_type": "markdown",
   "id": "d7d5f6f3",
   "metadata": {},
   "source": [
    "#### 5 & 6. Investigue la función contour de R, y úsela para graficar la región (elipse) de confianza dados los valores $\\hat{\\beta}_{i}$, $\\hat{\\beta}_{j}$, $\\textbf{W}_{ij}$ y el $MSE$. Puede usar cualquier otra función que considere pertinente para graficar. Cree una función donde los inputs son los datos X, Y, el nivel de significancia ($\\alpha$) y el par de parámetros betas (por ejemplo $\\beta_{1}$ y $\\beta_{3}$). Como resultado de la función, se debe producir un gráfico con la elipse de confianza para los dos parámetros seleccionados."
   ]
  },
  {
   "cell_type": "code",
   "execution_count": 3,
   "id": "f45e394f",
   "metadata": {},
   "outputs": [],
   "source": [
    "# Los parámetros alpha y n son desconocidos y deberían ser registrados por el usuario.\n",
    "# Sus valores por defecto son para poder correr la función con instancias de prueba.\n",
    "ellipse_contour <- function(beta_hat_i, beta_hat_j, W_ij, MSE, alpha = 0.05, n = 1000){\n",
    "  # Producimos los parámetros de la forma general de la elipse (a * x ^ 2 + b * y ^ 2 + c * x * y + d * x + e * y + f < 0).\n",
    "  a <- W_ij[2, 2]\n",
    "  b <- W_ij[1, 1]\n",
    "  c <- -2*W_ij[1,2]\n",
    "  d <- 2*W_ij[1,2]*beta_hat_j - 2*W_ij[2,2]*beta_hat_i\n",
    "  e <- 2*W_ij[1,2]*beta_hat_i - 2*W_ij[1,1]*beta_hat_j\n",
    "  f <- -2*W_ij[1,2]*beta_hat_i*beta_hat_j + W_ij[2,2]*beta_hat_i^2 + W_ij[1,1]*beta_hat_j^2 - 2*(W_ij[1,1]*W_ij[2,2] - W_ij[1,2]^2) * MSE * qf(1-alpha, 2, n-2)\n",
    "\n",
    "  # Definimos una función que grafica elipses a partir de sus parámetros.\n",
    "  plot.ellipse <- function (a, b, c, d, e, f, n) {\n",
    "    ## solve for centre\n",
    "    A <- matrix(c(a, c / 2, c / 2, b), 2L)\n",
    "    B <- c(-d / 2, -e / 2)\n",
    "    mu <- solve(A, B)\n",
    "    ## generate points on circle\n",
    "    r <- sqrt(a * mu[1] ^ 2 + b * mu[2] ^ 2 + c * mu[1] * mu[2] - f)\n",
    "    theta <- seq(0, 2 * pi, length = n)\n",
    "    v <- rbind(r * cos(theta), r * sin(theta))\n",
    "    ## transform for points on ellipse\n",
    "    z <- backsolve(chol(A), v) + mu\n",
    "    ## plot points\n",
    "    plot(t(z), type = \"l\")\n",
    "  }\n",
    "\n",
    "  # Graficamos la elipse.\n",
    "  plot.ellipse(a, b, c, d, e, f, n)\n",
    "}"
   ]
  },
  {
   "cell_type": "markdown",
   "id": "00eeb74a",
   "metadata": {},
   "source": [
    "Hacemos un ejemplo sencillo con los datos de marketing del paquete `datarium`. Para estos datos vamos a computar la matriz de covarianzas de los beta seleccionados y el MSE del modelo. Haremos este procedimiento según los lineamientos del literal 6."
   ]
  },
  {
   "cell_type": "code",
   "execution_count": 4,
   "id": "6d970ed9",
   "metadata": {},
   "outputs": [
    {
     "data": {
      "text/html": [
       "<table class=\"dataframe\">\n",
       "<caption>A data.frame: 6 × 4</caption>\n",
       "<thead>\n",
       "\t<tr><th></th><th scope=col>youtube</th><th scope=col>facebook</th><th scope=col>newspaper</th><th scope=col>sales</th></tr>\n",
       "\t<tr><th></th><th scope=col>&lt;dbl&gt;</th><th scope=col>&lt;dbl&gt;</th><th scope=col>&lt;dbl&gt;</th><th scope=col>&lt;dbl&gt;</th></tr>\n",
       "</thead>\n",
       "<tbody>\n",
       "\t<tr><th scope=row>1</th><td>276.12</td><td>45.36</td><td>83.04</td><td>26.52</td></tr>\n",
       "\t<tr><th scope=row>2</th><td> 53.40</td><td>47.16</td><td>54.12</td><td>12.48</td></tr>\n",
       "\t<tr><th scope=row>3</th><td> 20.64</td><td>55.08</td><td>83.16</td><td>11.16</td></tr>\n",
       "\t<tr><th scope=row>4</th><td>181.80</td><td>49.56</td><td>70.20</td><td>22.20</td></tr>\n",
       "\t<tr><th scope=row>5</th><td>216.96</td><td>12.96</td><td>70.08</td><td>15.48</td></tr>\n",
       "\t<tr><th scope=row>6</th><td> 10.44</td><td>58.68</td><td>90.00</td><td> 8.64</td></tr>\n",
       "</tbody>\n",
       "</table>\n"
      ],
      "text/latex": [
       "A data.frame: 6 × 4\n",
       "\\begin{tabular}{r|llll}\n",
       "  & youtube & facebook & newspaper & sales\\\\\n",
       "  & <dbl> & <dbl> & <dbl> & <dbl>\\\\\n",
       "\\hline\n",
       "\t1 & 276.12 & 45.36 & 83.04 & 26.52\\\\\n",
       "\t2 &  53.40 & 47.16 & 54.12 & 12.48\\\\\n",
       "\t3 &  20.64 & 55.08 & 83.16 & 11.16\\\\\n",
       "\t4 & 181.80 & 49.56 & 70.20 & 22.20\\\\\n",
       "\t5 & 216.96 & 12.96 & 70.08 & 15.48\\\\\n",
       "\t6 &  10.44 & 58.68 & 90.00 &  8.64\\\\\n",
       "\\end{tabular}\n"
      ],
      "text/markdown": [
       "\n",
       "A data.frame: 6 × 4\n",
       "\n",
       "| <!--/--> | youtube &lt;dbl&gt; | facebook &lt;dbl&gt; | newspaper &lt;dbl&gt; | sales &lt;dbl&gt; |\n",
       "|---|---|---|---|---|\n",
       "| 1 | 276.12 | 45.36 | 83.04 | 26.52 |\n",
       "| 2 |  53.40 | 47.16 | 54.12 | 12.48 |\n",
       "| 3 |  20.64 | 55.08 | 83.16 | 11.16 |\n",
       "| 4 | 181.80 | 49.56 | 70.20 | 22.20 |\n",
       "| 5 | 216.96 | 12.96 | 70.08 | 15.48 |\n",
       "| 6 |  10.44 | 58.68 | 90.00 |  8.64 |\n",
       "\n"
      ],
      "text/plain": [
       "  youtube facebook newspaper sales\n",
       "1 276.12  45.36    83.04     26.52\n",
       "2  53.40  47.16    54.12     12.48\n",
       "3  20.64  55.08    83.16     11.16\n",
       "4 181.80  49.56    70.20     22.20\n",
       "5 216.96  12.96    70.08     15.48\n",
       "6  10.44  58.68    90.00      8.64"
      ]
     },
     "metadata": {},
     "output_type": "display_data"
    }
   ],
   "source": [
    "data(\"marketing\", package = \"datarium\")\n",
    "head(marketing)\n",
    "X <- marketing[, c(\"youtube\", \"facebook\", \"newspaper\")]\n",
    "y <- marketing[\"sales\"]"
   ]
  },
  {
   "cell_type": "markdown",
   "id": "98484b93",
   "metadata": {},
   "source": [
    "Crearemos una función que reciba estos datos, calcule los valores necesarios y llame a la función `ellipse_contour` que creamos antes."
   ]
  },
  {
   "cell_type": "code",
   "execution_count": 5,
   "id": "aca1e831",
   "metadata": {},
   "outputs": [
    {
     "data": {
      "image/png": "iVBORw0KGgoAAAANSUhEUgAAA0gAAANICAMAAADKOT/pAAADAFBMVEUAAAABAQECAgIDAwME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\noOD/Acx7xceZww4iAAAAAElFTkSuQmCC",
      "text/plain": [
       "plot without title"
      ]
     },
     "metadata": {
      "image/png": {
       "height": 420,
       "width": 420
      }
     },
     "output_type": "display_data"
    }
   ],
   "source": [
    "# Los parámetros beta_index_1 y beta_index_2 son enteros\n",
    "# de 0 a k, con k cantidad de variables.\n",
    "ellipse_from_data <- function(X, y, alpha = 0.05, beta_index_1, beta_index_2){\n",
    "  X <- as.matrix(cbind(intercept = 1, X))\n",
    "  X <- X[,c(beta_index_1, beta_index_2)]\n",
    "  y <- as.matrix(y)\n",
    "  n <- length(y)\n",
    "  cov.mat <- solve(t(X) %*% X)\n",
    "  coeff <- cov.mat %*% t(X) %*% y\n",
    "  MSE <- sum((X %*% coeff - y) ^ 2) / (n - 2)\n",
    "  ellipse_contour(coeff[1], coeff[2], cov.mat, MSE, alpha, n)\n",
    "}\n",
    "\n",
    "ellipse_from_data(X, y, 0.05, 1, 2)"
   ]
  },
  {
   "cell_type": "markdown",
   "id": "5140f00d",
   "metadata": {},
   "source": [
    "## Parte B. Problemas Teóricos y Conceptuales."
   ]
  },
  {
   "cell_type": "markdown",
   "id": "9399ee46",
   "metadata": {},
   "source": [
    "### Problema 3. Formas de variables dummies."
   ]
  },
  {
   "cell_type": "markdown",
   "id": "d1e43360",
   "metadata": {},
   "source": [
    "Lo primero que se debe hacer es plantear el modelo utilizando los datos de `Carseats`.\n",
    "$$x_1 = \\ {Income} $$\n",
    "$$x_2 = \\ {Advertising} $$\n",
    "$$z = \\ {ShelveLoc} $$\n",
    "\n",
    "Dado que la variable $z$ es una variable catergótica, el modelo tiene multicolinealidad y por ende no se puese estimar por lo que se debe utilizar una clase base. Para efectos de este punto se pide que se utilice la parametrización con restricción de suma cero. \n",
    "Para lo anterior se utiliza como blase base \"bad\" y la codificación quedaría de la siguiente manera: \n",
    "\n",
    "\\begin{equation}\n",
    "z_m = \n",
    "\\left\\{\n",
    "    \\begin{array}{lr}\n",
    "        1, \\ \\textit{caso de posición medium} \\\\\n",
    "        \\frac{-n_m}{n_b} ,\\ \\textit{caso de posición bad} \\\\\n",
    "        0,{dlc}\n",
    "    \\end{array}\n",
    "    \\right\\} \n",
    "\\end{equation}\n",
    "\n",
    "\\begin{equation}\n",
    "z_g = \n",
    "\\left\\{\n",
    "    \\begin{array}{lr}\n",
    "        1, \\ \\textit{caso de posición good} \\\\\n",
    "        \\frac{-n_g}{n_b} ,\\ \\textit{caso de posición bad} \\\\\n",
    "        0,{dlc}\n",
    "    \\end{array}\n",
    "    \\right\\} \n",
    "\\end{equation}\n",
    "\n",
    "Teniendo en cuenta las restricciones se considera el siguiente modelo con todas las dummies y todas las interacciones:\n",
    "\n",
    "$$\n",
    "y=\\beta_0 + \\beta_1 x_1 +\\beta_2 x_2 + \\tau_1 z_m + \\tau_2 z_g +\\gamma_1 x_1 z_m +\\gamma_2 x_1 z_g +\\gamma_3 x_2 z_m ++\\gamma_4 x_2 z_g + \\epsilon\n",
    "$$\n"
   ]
  },
  {
   "cell_type": "code",
   "execution_count": 1,
   "id": "c9ee0d1c",
   "metadata": {},
   "outputs": [
    {
     "data": {
      "text/plain": [
       "\n",
       "Call:\n",
       "lm(formula = y ~ x1 + x2 + zm + zg + x1xzm + x1xzg + x2xzm + \n",
       "    x2xzg)\n",
       "\n",
       "Residuals:\n",
       "    Min      1Q  Median      3Q     Max \n",
       "-6.1411 -1.6175  0.0447  1.5514  6.3020 \n",
       "\n",
       "Coefficients:\n",
       "             Estimate Std. Error t value Pr(>|t|)    \n",
       "(Intercept)  5.717157   0.308247  18.547  < 2e-16 ***\n",
       "x1           0.016629   0.003967   4.192 3.42e-05 ***\n",
       "x2           0.095648   0.016672   5.737 1.93e-08 ***\n",
       "zm          -0.436735   0.281770  -1.550    0.122    \n",
       "zg           3.289884   0.595522   5.524 6.05e-08 ***\n",
       "x1xzm        0.003513   0.003618   0.971    0.332    \n",
       "x1xzg       -0.010079   0.007563  -1.333    0.183    \n",
       "x2xzm        0.006748   0.015179   0.445    0.657    \n",
       "x2xzg        0.007940   0.031565   0.252    0.802    \n",
       "---\n",
       "Signif. codes:  0 ‘***’ 0.001 ‘**’ 0.01 ‘*’ 0.05 ‘.’ 0.1 ‘ ’ 1\n",
       "\n",
       "Residual standard error: 2.203 on 391 degrees of freedom\n",
       "Multiple R-squared:  0.4035,\tAdjusted R-squared:  0.3913 \n",
       "F-statistic: 33.06 on 8 and 391 DF,  p-value: < 2.2e-16\n"
      ]
     },
     "metadata": {},
     "output_type": "display_data"
    },
    {
     "data": {
      "text/html": [
       "\n",
       "<table style=\"width: 100%;\"><tr><td>Carseats {ISLR}</td><td style=\"text-align: right;\">R Documentation</td></tr></table>\n",
       "\n",
       "<h2>Sales of Child Car Seats\n",
       "\n",
       "</h2>\n",
       "\n",
       "<h3>Description</h3>\n",
       "\n",
       "<p>A simulated data set containing sales of child car seats at\n",
       "400 different stores.\n",
       "\n",
       "</p>\n",
       "\n",
       "\n",
       "<h3>Usage</h3>\n",
       "\n",
       "<pre><code class='language-R'>Carseats</code></pre>\n",
       "\n",
       "\n",
       "<h3>Format</h3>\n",
       "\n",
       "<p>A data frame with 400 observations on the following 11 variables.\n",
       "</p>\n",
       "\n",
       "<dl>\n",
       "<dt><code>Sales</code></dt><dd><p>Unit sales (in thousands) at each location</p>\n",
       "</dd>\n",
       "<dt><code>CompPrice</code></dt><dd><p>Price charged by competitor at each location</p>\n",
       "</dd>\n",
       "<dt><code>Income</code></dt><dd><p>Community income level (in thousands of dollars)</p>\n",
       "</dd>\n",
       "<dt><code>Advertising</code></dt><dd><p>Local advertising budget for company at\n",
       "each location (in thousands of dollars)</p>\n",
       "</dd>\n",
       "<dt><code>Population</code></dt><dd><p>Population size in region (in thousands)</p>\n",
       "</dd>\n",
       "<dt><code>Price</code></dt><dd><p>Price company charges for car seats at each site</p>\n",
       "</dd>\n",
       "<dt><code>ShelveLoc</code></dt><dd><p>A factor with levels <code>Bad</code>, <code>Good</code>\n",
       "and <code>Medium</code> indicating the quality of the shelving location\n",
       "for the car seats at each site</p>\n",
       "</dd>\n",
       "<dt><code>Age</code></dt><dd><p>Average age of the local population</p>\n",
       "</dd>\n",
       "<dt><code>Education</code></dt><dd><p>Education level at each location</p>\n",
       "</dd>\n",
       "<dt><code>Urban</code></dt><dd><p>A factor with levels <code>No</code> and <code>Yes</code> to\n",
       "indicate whether the store is in an urban or rural location</p>\n",
       "</dd>\n",
       "<dt><code>US</code></dt><dd><p>A factor with levels <code>No</code> and <code>Yes</code> to\n",
       "indicate whether the store is in the US or not</p>\n",
       "</dd>\n",
       "</dl>\n",
       "\n",
       "\n",
       "\n",
       "<h3>Source</h3>\n",
       "\n",
       "<p>Simulated data\n",
       "\n",
       "</p>\n",
       "\n",
       "\n",
       "<h3>References</h3>\n",
       "\n",
       "<p>James, G., Witten, D., Hastie, T., and Tibshirani, R. (2013)\n",
       "<em>An Introduction to Statistical Learning with applications in R</em>,\n",
       "<a href=\"https://www.statlearning.com\">https://www.statlearning.com</a>,\n",
       "Springer-Verlag, New York\n",
       "</p>\n",
       "\n",
       "\n",
       "<h3>Examples</h3>\n",
       "\n",
       "<pre><code class='language-R'>summary(Carseats)\n",
       "lm.fit=lm(Sales~Advertising+Price,data=Carseats)\n",
       "</code></pre>\n",
       "\n",
       "<hr /><div style=\"text-align: center;\">[Package <em>ISLR</em> version 1.4 ]</div>\n",
       "</div>"
      ],
      "text/latex": [
       "\\inputencoding{utf8}\n",
       "\\HeaderA{Carseats}{Sales of Child Car Seats}{Carseats}\n",
       "\\keyword{datasets}{Carseats}\n",
       "%\n",
       "\\begin{Description}\\relax\n",
       "A simulated data set containing sales of child car seats at\n",
       "400 different stores.\n",
       "\n",
       "\\end{Description}\n",
       "%\n",
       "\\begin{Usage}\n",
       "\\begin{verbatim}\n",
       "Carseats\n",
       "\\end{verbatim}\n",
       "\\end{Usage}\n",
       "%\n",
       "\\begin{Format}\n",
       "A data frame with 400 observations on the following 11 variables.\n",
       "\\begin{description}\n",
       "\n",
       "\\item[\\code{Sales}] Unit sales (in thousands) at each location\n",
       "\\item[\\code{CompPrice}] Price charged by competitor at each location\n",
       "\\item[\\code{Income}] Community income level (in thousands of dollars)\n",
       "\\item[\\code{Advertising}] Local advertising budget for company at\n",
       "each location (in thousands of dollars)\n",
       "\\item[\\code{Population}] Population size in region (in thousands)\n",
       "\\item[\\code{Price}] Price company charges for car seats at each site\n",
       "\\item[\\code{ShelveLoc}] A factor with levels \\code{Bad}, \\code{Good}\n",
       "and \\code{Medium} indicating the quality of the shelving location\n",
       "for the car seats at each site\n",
       "\\item[\\code{Age}] Average age of the local population\n",
       "\\item[\\code{Education}] Education level at each location\n",
       "\\item[\\code{Urban}] A factor with levels \\code{No} and \\code{Yes} to\n",
       "indicate whether the store is in an urban or rural location\n",
       "\\item[\\code{US}] A factor with levels \\code{No} and \\code{Yes} to\n",
       "indicate whether the store is in the US or not\n",
       "\n",
       "\\end{description}\n",
       "\n",
       "\\end{Format}\n",
       "%\n",
       "\\begin{Source}\\relax\n",
       "Simulated data\n",
       "\n",
       "\\end{Source}\n",
       "%\n",
       "\\begin{References}\\relax\n",
       "James, G., Witten, D., Hastie, T., and Tibshirani, R. (2013)\n",
       "\\emph{An Introduction to Statistical Learning with applications in R},\n",
       "\\url{https://www.statlearning.com},\n",
       "Springer-Verlag, New York\n",
       "\\end{References}\n",
       "%\n",
       "\\begin{Examples}\n",
       "\\begin{ExampleCode}\n",
       "summary(Carseats)\n",
       "lm.fit=lm(Sales~Advertising+Price,data=Carseats)\n",
       "\\end{ExampleCode}\n",
       "\\end{Examples}"
      ],
      "text/plain": [
       "Carseats                 package:ISLR                  R Documentation\n",
       "\n",
       "_\bS_\ba_\bl_\be_\bs _\bo_\bf _\bC_\bh_\bi_\bl_\bd _\bC_\ba_\br _\bS_\be_\ba_\bt_\bs\n",
       "\n",
       "_\bD_\be_\bs_\bc_\br_\bi_\bp_\bt_\bi_\bo_\bn:\n",
       "\n",
       "     A simulated data set containing sales of child car seats at 400\n",
       "     different stores.\n",
       "\n",
       "_\bU_\bs_\ba_\bg_\be:\n",
       "\n",
       "     Carseats\n",
       "     \n",
       "_\bF_\bo_\br_\bm_\ba_\bt:\n",
       "\n",
       "     A data frame with 400 observations on the following 11 variables.\n",
       "\n",
       "     ‘Sales’ Unit sales (in thousands) at each location\n",
       "\n",
       "     ‘CompPrice’ Price charged by competitor at each location\n",
       "\n",
       "     ‘Income’ Community income level (in thousands of dollars)\n",
       "\n",
       "     ‘Advertising’ Local advertising budget for company at each\n",
       "          location (in thousands of dollars)\n",
       "\n",
       "     ‘Population’ Population size in region (in thousands)\n",
       "\n",
       "     ‘Price’ Price company charges for car seats at each site\n",
       "\n",
       "     ‘ShelveLoc’ A factor with levels ‘Bad’, ‘Good’ and ‘Medium’\n",
       "          indicating the quality of the shelving location for the car\n",
       "          seats at each site\n",
       "\n",
       "     ‘Age’ Average age of the local population\n",
       "\n",
       "     ‘Education’ Education level at each location\n",
       "\n",
       "     ‘Urban’ A factor with levels ‘No’ and ‘Yes’ to indicate whether\n",
       "          the store is in an urban or rural location\n",
       "\n",
       "     ‘US’ A factor with levels ‘No’ and ‘Yes’ to indicate whether the\n",
       "          store is in the US or not\n",
       "\n",
       "_\bS_\bo_\bu_\br_\bc_\be:\n",
       "\n",
       "     Simulated data\n",
       "\n",
       "_\bR_\be_\bf_\be_\br_\be_\bn_\bc_\be_\bs:\n",
       "\n",
       "     James, G., Witten, D., Hastie, T., and Tibshirani, R. (2013) _An\n",
       "     Introduction to Statistical Learning with applications in R_,\n",
       "     <https://www.statlearning.com>, Springer-Verlag, New York\n",
       "\n",
       "_\bE_\bx_\ba_\bm_\bp_\bl_\be_\bs:\n",
       "\n",
       "     summary(Carseats)\n",
       "     lm.fit=lm(Sales~Advertising+Price,data=Carseats)\n",
       "     "
      ]
     },
     "metadata": {},
     "output_type": "display_data"
    }
   ],
   "source": [
    "#PUNTO 3\n",
    "library(psych)\n",
    "library(ISLR)\n",
    "\n",
    "data <- Carseats\n",
    "\n",
    "#Frecuencia\n",
    "nm <- table(data$ShelveLoc)[3]\n",
    "ng <- table(data$ShelveLoc)[2]\n",
    "nb <- table(data$ShelveLoc)[1]\n",
    "\n",
    "#Variables dummies\n",
    "zm <- ifelse(data$ShelveLoc == \"Medium\", 1,ifelse(data$ShelveLoc == \"Bad\",-(nm/nb),0))\n",
    "zg <- ifelse(data$ShelveLoc == \"Good\", 1,ifelse(data$ShelveLoc == \"Bad\",-(ng/nb),0))\n",
    "\n",
    "#Modelo\n",
    "y <- data$Sales\n",
    "x1 <- data$Income\n",
    "x2 <- data$Advertising\n",
    "x1xzm <- x1 * zm\n",
    "x1xzg <- x1 * zg\n",
    "x2xzm <- x2 * zm\n",
    "x2xzg <- x2 * zg\n",
    "\n",
    "x<-cbind(x1, x2, zm, zg, x1xzm, x1xzg, x2xzm, x2xzg)\n",
    "regresion<-lm(y~x1+x2+zm+zg+x1xzm+x1xzg+x2xzm+x2xzg)\n",
    "summary(regresion)  "
   ]
  },
  {
   "cell_type": "markdown",
   "id": "bf1bdeb0",
   "metadata": {},
   "source": [
    "#### 1. ¿Es cierto que la posición en el estante no infuye sobre las ventas?"
   ]
  },
  {
   "cell_type": "markdown",
   "id": "80042440",
   "metadata": {},
   "source": [
    "Para poder saber sí la posición del estante no influye en las ventas se plantea la siguiente prueba de hipótesis\n",
    "$$\n",
    "H_0:\\tau_1 = \\tau_2 = \\gamma_1 = \\gamma_2 = \\gamma_3 = \\gamma_4 = 0 \n",
    "$$\n",
    "\n",
    "$$\n",
    "H_1: \\tau_1 \\neq 0 \\ \\  or \\ \\ \\tau_2 \\neq 0 \\ \\ or \\ \\ \\gamma_1 \\neq 0 \\ \\ or \\ \\ \\gamma_2 \\neq 0 \\ \\ or \\ \\ \\gamma_3 \\neq 0 \\ \\ or \\ \\ \\gamma_4 \\neq 0 \\ \\ \n",
    "$$"
   ]
  },
  {
   "cell_type": "code",
<<<<<<< HEAD
   "execution_count": 2,
=======
   "execution_count": 7,
>>>>>>> d5fb446 (Corrected punto 1, Tarea 2.)
   "id": "2c62ef4e",
   "metadata": {},
   "outputs": [
    {
     "data": {
      "text/html": [
       "<dl>\n",
       "\t<dt>$F</dt>\n",
       "\t\t<dd>34.1201927262883</dd>\n",
       "\t<dt>$pvalue</dt>\n",
       "\t\t<dd>0</dd>\n",
       "</dl>\n"
      ],
      "text/latex": [
       "\\begin{description}\n",
       "\\item[\\$F] 34.1201927262883\n",
       "\\item[\\$pvalue] 0\n",
       "\\end{description}\n"
      ],
      "text/markdown": [
       "$F\n",
       ":   34.1201927262883\n",
       "$pvalue\n",
       ":   0\n",
       "\n",
       "\n"
      ],
      "text/plain": [
       "$F\n",
       "[1] 34.12019\n",
       "\n",
       "$pvalue\n",
       "[1] 0\n"
      ]
     },
     "metadata": {},
     "output_type": "display_data"
    }
   ],
   "source": [
    "gtest <- function(x,y,A,c){\n",
    "  n <- length(y)\n",
    "  k <- dim(x)[2]\n",
    "  p <- k + 1\n",
    "  q <- dim(A)[1]\n",
    "  xx <- cbind(rep(1,n), x)\n",
    "  beta <- solve(t(xx) %*% xx) %*% t(xx) %*% y\n",
    "  yhat <- xx %*% beta  \n",
    "  mse <- sum((y - yhat)^2)/(n - p)\n",
    "  betaH <- beta + solve(t(xx) %*% xx) %*% t(A) %*% solve(A %*% solve(t(xx) %*% xx) %*% t(A)) %*% (c- A %*% beta)\n",
    "  yhatH <- xx %*% betaH\n",
    "  F <- (sum((y- yhatH)^2)-sum((y- yhat)^2))/q /mse\n",
    "  pval <- 1-pf(F, q, n- p)\n",
    "  return(list(F = F, pvalue = pval))\n",
    "}\n",
    "\n",
    "A <- matrix(c(0,0,0,1,0,0,0,0,0,\n",
    "             0,0,0,0,1,0,0,0,0,\n",
    "             0,0,0,0,0,1,0,0,0,\n",
    "             0,0,0,0,0,0,1,0,0,\n",
    "             0,0,0,0,0,0,0,1,0,\n",
    "             0,0,0,0,0,0,0,0,1),ncol=9,byrow = T)     \n",
    "     \n",
    "c <-c(0,0,0,0,0,0)\n",
    "\n",
    "gtest(x,y,A,c)"
   ]
  },
  {
   "cell_type": "markdown",
   "id": "c7f884e2",
   "metadata": {},
   "source": [
    "Con un nivel de confianza del 95% se puede concluir que se rechaza $H_0$, es decir que al menos una posición en el estante sí influye en las ventas. Pues el ${p value}<5 \\% $ "
   ]
  },
  {
   "cell_type": "markdown",
   "id": "24dd8084",
   "metadata": {},
   "source": [
    "#### 2. ¿Es cierto que los modelos en todas las clases son paralelos (los efectos no cambian)?"
   ]
  },
  {
   "cell_type": "markdown",
   "id": "c994b80d",
   "metadata": {},
   "source": [
    "Para poder saber si los modelos en todas las clases son paralelos, es decir que sus efectos no cambian se plantea la siguiente prueba de hipótesis \n",
    "\n",
    "\n",
    "$$\n",
    "H_0:\\gamma_1 = \\gamma_2 = \\gamma_3 = \\gamma_4 = 0 \n",
    "$$\n",
    "\n",
    "$$\n",
    "H_1:\\gamma_1 \\neq 0 \\ \\ or \\ \\ \\gamma_2 \\neq 0 \\ \\ or \\ \\ \\gamma_3 \\neq 0 \\ \\ or \\ \\ \\gamma_4 \\neq 0 \\ \\ \n",
    "$$"
   ]
  },
  {
   "cell_type": "code",
<<<<<<< HEAD
   "execution_count": 3,
=======
   "execution_count": 8,
>>>>>>> d5fb446 (Corrected punto 1, Tarea 2.)
   "id": "8f5ad32e",
   "metadata": {},
   "outputs": [
    {
     "data": {
      "text/html": [
       "<dl>\n",
       "\t<dt>$F</dt>\n",
       "\t\t<dd>0.60200591116345</dd>\n",
       "\t<dt>$pvalue</dt>\n",
       "\t\t<dd>0.661404585232439</dd>\n",
       "</dl>\n"
      ],
      "text/latex": [
       "\\begin{description}\n",
       "\\item[\\$F] 0.60200591116345\n",
       "\\item[\\$pvalue] 0.661404585232439\n",
       "\\end{description}\n"
      ],
      "text/markdown": [
       "$F\n",
       ":   0.60200591116345\n",
       "$pvalue\n",
       ":   0.661404585232439\n",
       "\n",
       "\n"
      ],
      "text/plain": [
       "$F\n",
       "[1] 0.6020059\n",
       "\n",
       "$pvalue\n",
       "[1] 0.6614046\n"
      ]
     },
     "metadata": {},
     "output_type": "display_data"
    }
   ],
   "source": [
    "A <- matrix(c(0,0,0,0,0,1,0,0,0,\n",
    "             0,0,0,0,0,0,1,0,0,\n",
    "             0,0,0,0,0,0,0,1,0,\n",
    "             0,0,0,0,0,0,0,0,1),\n",
    "           ncol=9,byrow = T)\n",
    "\n",
    "\n",
    "c <- c(0,0,0,0)\n",
    "\n",
    "gtest(x,y,A,c)"
   ]
  },
  {
   "cell_type": "markdown",
   "id": "cddebf6b",
   "metadata": {},
   "source": [
    "Con un nivel de confianza del 95% se puede concluir que se no hay suficiente evidencia estadística para rechazar $H_0$, es decir que el modelo en todas sus clases es pararelo, es decir que en se puede afirmar que sus efectos no cambian, pues el ${p value}>5 \\% $ "
   ]
  },
  {
   "cell_type": "markdown",
   "id": "5f088b9f",
   "metadata": {},
   "source": [
    "#### 3. ¿Son los modelos para las ventas posición media en el estante, y para la posición buena iguales?"
   ]
  },
  {
   "cell_type": "markdown",
   "id": "c30c2de2",
   "metadata": {},
   "source": [
    "Para poder saber si los modelos para las ventas en la posicipon media del estante y la posición buena del estante son iguales, se plantea la siguiente prueba de hipótesis \n",
    "\n",
    "\\begin{equation}\n",
    "H_0 = \n",
    "\\left\\{\n",
    "    \\begin{array}{lr}\n",
    "        \\tau_1 = \\tau_2\\\\\n",
    "        \\gamma_1 = \\gamma_2\\\\\n",
    "        \\gamma_3 =  \\gamma_4\n",
    "    \\end{array}\n",
    "    \\right\\} \n",
    "\\end{equation}\n",
    "\n",
    "$$\n",
    "H_1:\\textit{Al menos una es diferente}\n",
    "$$"
   ]
  },
  {
   "cell_type": "code",
<<<<<<< HEAD
   "execution_count": 4,
=======
   "execution_count": 9,
>>>>>>> d5fb446 (Corrected punto 1, Tarea 2.)
   "id": "4ccb1503",
   "metadata": {},
   "outputs": [
    {
     "data": {
      "text/html": [
       "<dl>\n",
       "\t<dt>$F</dt>\n",
       "\t\t<dd>33.7912840694451</dd>\n",
       "\t<dt>$pvalue</dt>\n",
       "\t\t<dd>0</dd>\n",
       "</dl>\n"
      ],
      "text/latex": [
       "\\begin{description}\n",
       "\\item[\\$F] 33.7912840694451\n",
       "\\item[\\$pvalue] 0\n",
       "\\end{description}\n"
      ],
      "text/markdown": [
       "$F\n",
       ":   33.7912840694451\n",
       "$pvalue\n",
       ":   0\n",
       "\n",
       "\n"
      ],
      "text/plain": [
       "$F\n",
       "[1] 33.79128\n",
       "\n",
       "$pvalue\n",
       "[1] 0\n"
      ]
     },
     "metadata": {},
     "output_type": "display_data"
    }
   ],
   "source": [
    "A <- matrix(c(0,0,0,-1,1,0,0,0,0,\n",
    "             0,0,0,0,0,-1,1,0,0,\n",
    "             0,0,0,0,0,0,0,-1,1),ncol=9,byrow = T)\n",
    "c <- c(0,0,0)\n",
    "\n",
    "gtest(x,y,A,c)\n",
    "\n"
   ]
  },
  {
   "cell_type": "markdown",
   "id": "e8435d2e",
   "metadata": {},
   "source": [
    "Con un nivel de confianza del 95% se puede concluir que se rechaza $H_0$, es decir que los modelos no son iguales. La posición media en el estante puede ser igual a la posición buena en el estante por lo menos para algún caso. Pues el ${p value}<5 \\% $ "
   ]
  },
  {
   "cell_type": "markdown",
   "id": "6571ae27",
   "metadata": {},
   "source": [
    "#### 4. ¿Es cierto que el efecto de la publicidad es igual en la posición mala que en la media?"
   ]
  },
  {
   "cell_type": "markdown",
   "id": "2eda1a21",
   "metadata": {},
   "source": [
    "Para poder saber si el efecto de la publicidad es igual en la posición mala que en la media, se utiliza el coeficiente $\\gamma_3$ que corresponde a la interacción entre la publicidad y la posición media y en la prueba de hipótesis queremos ver si este coeficiente es igual a 0 (no se ve la interacción con la posición mala pues esta es nuestra clase base). La prueba de hipotesis sería:\n",
    "\n",
    "$$\n",
    "H_0: \\gamma_3 =  0\n",
    "$$\n",
    "\n",
    "$$\n",
    "H_1:\\gamma_3 \\neq 0\n",
    "$$"
   ]
  },
  {
   "cell_type": "code",
<<<<<<< HEAD
   "execution_count": 5,
=======
   "execution_count": 10,
>>>>>>> d5fb446 (Corrected punto 1, Tarea 2.)
   "id": "8a6f645a",
   "metadata": {},
   "outputs": [
    {
     "data": {
      "text/html": [
       "<dl>\n",
       "\t<dt>$F</dt>\n",
       "\t\t<dd>0.197609658538114</dd>\n",
       "\t<dt>$pvalue</dt>\n",
       "\t\t<dd>0.656903169094905</dd>\n",
       "</dl>\n"
      ],
      "text/latex": [
       "\\begin{description}\n",
       "\\item[\\$F] 0.197609658538114\n",
       "\\item[\\$pvalue] 0.656903169094905\n",
       "\\end{description}\n"
      ],
      "text/markdown": [
       "$F\n",
       ":   0.197609658538114\n",
       "$pvalue\n",
       ":   0.656903169094905\n",
       "\n",
       "\n"
      ],
      "text/plain": [
       "$F\n",
       "[1] 0.1976097\n",
       "\n",
       "$pvalue\n",
       "[1] 0.6569032\n"
      ]
     },
     "metadata": {},
     "output_type": "display_data"
    }
   ],
   "source": [
    "A <- matrix(c(0,0,0,0,0,0,0,1,0),ncol=9,byrow = T)\n",
    "c <-c(0)\n",
    "\n",
    "gtest(x,y,A,c)\n"
   ]
  },
  {
   "cell_type": "code",
<<<<<<< HEAD
   "execution_count": 6,
=======
   "execution_count": 11,
>>>>>>> d5fb446 (Corrected punto 1, Tarea 2.)
   "id": "d0670e56",
   "metadata": {},
   "outputs": [
    {
     "data": {
      "text/html": [
       "<dl>\n",
       "\t<dt>$t</dt>\n",
       "\t\t<dd><table class=\"dataframe\">\n",
       "<caption>A matrix: 1 × 1 of type dbl</caption>\n",
       "<tbody>\n",
       "\t<tr><td>0.4445331</td></tr>\n",
       "</tbody>\n",
       "</table>\n",
       "</dd>\n",
       "\t<dt>$pvalue</dt>\n",
       "\t\t<dd>0.656903169094905</dd>\n",
       "</dl>\n"
      ],
      "text/latex": [
       "\\begin{description}\n",
       "\\item[\\$t] A matrix: 1 × 1 of type dbl\n",
       "\\begin{tabular}{l}\n",
       "\t 0.4445331\\\\\n",
       "\\end{tabular}\n",
       "\n",
       "\\item[\\$pvalue] 0.656903169094905\n",
       "\\end{description}\n"
      ],
      "text/markdown": [
       "$t\n",
       ":   \n",
       "A matrix: 1 × 1 of type dbl\n",
       "\n",
       "| 0.4445331 |\n",
       "\n",
       "\n",
       "$pvalue\n",
       ":   0.656903169094905\n",
       "\n",
       "\n"
      ],
      "text/plain": [
       "$t\n",
       "          [,1]\n",
       "[1,] 0.4445331\n",
       "\n",
       "$pvalue\n",
       "[1] 0.6569032\n"
      ]
     },
     "metadata": {},
     "output_type": "display_data"
    }
   ],
   "source": [
    "#Otra forma para comparar\n",
    "ltest <- function(y,x,lin,const,dir=b){\n",
    "  n <- dim(x)[1]\n",
    "  k <- dim(x)[2]\n",
    "  p <- k + 1\n",
    "  xx <- cbind(rep(1, n), x)\n",
    "  beta <- solve(t(xx) %*% xx) %*% t(xx) %*% y\n",
    "  A <- matrix(lin, ncol = p)\n",
    "  c <- const\n",
    "  t <- sign(A %*% lin - c) * sqrt(gtest(x,y,A,c)$F)  \n",
    "  if(dir == \"+\"){pval = 1 - pt(t,n-p)}\n",
    "  if(dir == \"-\"){pval = pt(t,n-p)}\n",
    "  if(dir == \"b\"){pval = min(2 * (1 - pt(t,n - p)),2 *(pt(t, n - p)))}\n",
    "  return(list(t = t, pvalue = pval))\n",
    "}\n",
    "\n",
    "lin <- c(0,0,0,0,0,0,0,1,0)\n",
    "ltest(y,x,lin,0,\"b\")\n",
    "\n"
   ]
  },
  {
   "cell_type": "markdown",
   "id": "ab787770",
   "metadata": {},
   "source": [
    "Con un nivel de confianza del 95% se puede concluir que se no hay suficiente evidencia estadística para rechazar $H_0$, es decir que el efecto de la publicidad para la posición mala es igual que para la posición media, pues el ${p value}>5 \\% $, e incluso es exactamente el mismo valor haciendolo con una prueba $F$ o con una prueba parcial $t$."
   ]
  },
  {
   "cell_type": "markdown",
   "id": "5d54f966",
   "metadata": {},
   "source": [
    "## Parte C. Problemas Aplicados con Datos Reales."
   ]
  },
  {
   "cell_type": "markdown",
   "id": "895ab991",
   "metadata": {},
   "source": [
    "### Problema 4. Modelos No-Lineales."
   ]
  },
  {
   "cell_type": "markdown",
   "id": "cf57900a",
   "metadata": {},
   "source": [
    "Para este problema se utilizan los datos de `productivity.txt`.\n",
    "$$y= \\ {Productividad \\ de \\ un \\ trabajador} $$\n",
    "$$x_1 = \\ {Temperatura  \\ ambiental} $$\n",
    "$$x_2 = \\ {Tiempo \\ que \\ lleva \\ un \\ trabajador \\ haciendo \\ una \\ tarea \\ repetitiva} $$\n"
   ]
  },
  {
   "cell_type": "markdown",
   "id": "d6f49d20",
   "metadata": {},
   "source": [
    "#### 1. Estime un modelo de regresión lineal y concluya sobre la influencia de los dos factores en mención."
   ]
  },
  {
   "cell_type": "markdown",
   "id": "bfd207fa",
   "metadata": {},
   "source": [
    "Lo primero que se debe hacer es realizar el modelo de regresión lineal: \n",
    "$$\n",
    "y=\\beta_0 + \\beta_1 x_1 +\\beta_2 x_2+ \\epsilon\n",
    "$$\n"
   ]
  },
  {
   "cell_type": "code",
   "execution_count": 12,
   "id": "27e9ebd1",
   "metadata": {},
   "outputs": [
    {
     "data": {
      "text/html": [
       "<table class=\"dataframe\">\n",
       "<caption>A data.frame: 6 × 3</caption>\n",
       "<thead>\n",
       "\t<tr><th></th><th scope=col>productivity</th><th scope=col>temp</th><th scope=col>time</th></tr>\n",
       "\t<tr><th></th><th scope=col>&lt;dbl&gt;</th><th scope=col>&lt;dbl&gt;</th><th scope=col>&lt;dbl&gt;</th></tr>\n",
       "</thead>\n",
       "<tbody>\n",
       "\t<tr><th scope=row>1</th><td>-64.484955</td><td> 0.4624386</td><td>7.091994</td></tr>\n",
       "\t<tr><th scope=row>2</th><td> 13.085415</td><td> 3.4582853</td><td>2.489547</td></tr>\n",
       "\t<tr><th scope=row>3</th><td> -5.037034</td><td>-0.8721229</td><td>3.073026</td></tr>\n",
       "\t<tr><th scope=row>4</th><td>-12.330433</td><td>-1.4433754</td><td>4.514572</td></tr>\n",
       "\t<tr><th scope=row>5</th><td>-47.669672</td><td>-0.3049131</td><td>6.325797</td></tr>\n",
       "\t<tr><th scope=row>6</th><td>-20.448369</td><td> 1.9950954</td><td>4.634171</td></tr>\n",
       "</tbody>\n",
       "</table>\n"
      ],
      "text/latex": [
       "A data.frame: 6 × 3\n",
       "\\begin{tabular}{r|lll}\n",
       "  & productivity & temp & time\\\\\n",
       "  & <dbl> & <dbl> & <dbl>\\\\\n",
       "\\hline\n",
       "\t1 & -64.484955 &  0.4624386 & 7.091994\\\\\n",
       "\t2 &  13.085415 &  3.4582853 & 2.489547\\\\\n",
       "\t3 &  -5.037034 & -0.8721229 & 3.073026\\\\\n",
       "\t4 & -12.330433 & -1.4433754 & 4.514572\\\\\n",
       "\t5 & -47.669672 & -0.3049131 & 6.325797\\\\\n",
       "\t6 & -20.448369 &  1.9950954 & 4.634171\\\\\n",
       "\\end{tabular}\n"
      ],
      "text/markdown": [
       "\n",
       "A data.frame: 6 × 3\n",
       "\n",
       "| <!--/--> | productivity &lt;dbl&gt; | temp &lt;dbl&gt; | time &lt;dbl&gt; |\n",
       "|---|---|---|---|\n",
       "| 1 | -64.484955 |  0.4624386 | 7.091994 |\n",
       "| 2 |  13.085415 |  3.4582853 | 2.489547 |\n",
       "| 3 |  -5.037034 | -0.8721229 | 3.073026 |\n",
       "| 4 | -12.330433 | -1.4433754 | 4.514572 |\n",
       "| 5 | -47.669672 | -0.3049131 | 6.325797 |\n",
       "| 6 | -20.448369 |  1.9950954 | 4.634171 |\n",
       "\n"
      ],
      "text/plain": [
       "  productivity temp       time    \n",
       "1 -64.484955    0.4624386 7.091994\n",
       "2  13.085415    3.4582853 2.489547\n",
       "3  -5.037034   -0.8721229 3.073026\n",
       "4 -12.330433   -1.4433754 4.514572\n",
       "5 -47.669672   -0.3049131 6.325797\n",
       "6 -20.448369    1.9950954 4.634171"
      ]
     },
     "metadata": {},
     "output_type": "display_data"
    },
    {
     "data": {
      "text/plain": [
       "\n",
       "Call:\n",
       "lm(formula = y ~ x1 + x2)\n",
       "\n",
       "Residuals:\n",
       "    Min      1Q  Median      3Q     Max \n",
       "-22.266  -6.739  -1.815   5.572  36.549 \n",
       "\n",
       "Coefficients:\n",
       "            Estimate Std. Error t value Pr(>|t|)    \n",
       "(Intercept)  54.9257     2.1207   25.90  < 2e-16 ***\n",
       "x1           -2.3381     0.3418   -6.84 5.84e-11 ***\n",
       "x2          -15.7437     0.4010  -39.26  < 2e-16 ***\n",
       "---\n",
       "Signif. codes:  0 ‘***’ 0.001 ‘**’ 0.01 ‘*’ 0.05 ‘.’ 0.1 ‘ ’ 1\n",
       "\n",
       "Residual standard error: 11.24 on 255 degrees of freedom\n",
       "Multiple R-squared:  0.8936,\tAdjusted R-squared:  0.8928 \n",
       "F-statistic:  1071 on 2 and 255 DF,  p-value: < 2.2e-16\n"
      ]
     },
     "metadata": {},
     "output_type": "display_data"
    }
   ],
   "source": [
    "data <- read.table(\"Archivos/productivity.txt\", head = TRUE)\n",
    "head(data)\n",
    "\n",
    "##Variables del modelo\n",
    "y <- data$productivity \n",
    "x1 <- data$temp \n",
    "x2 <- data$time\n",
    "\n",
    "n <- length(y)\n",
    "x <- cbind(rep(1,n), x1, x2)\n",
    "xtx <- t(x) %*% x\n",
    "H <- solve(xtx)\n",
    "\n",
    "beta <- H %*% t(x) %*% y\n",
    "\n",
    "modeloProductividad1 <- lm(y~x1+x2)\n",
    "summary(modeloProductividad1)\n"
   ]
  },
  {
   "cell_type": "markdown",
   "id": "f49ac122",
   "metadata": {},
   "source": [
    "Como ya tenemos el modelo y con el resumen de este podemos concluir que con un nivel de confianza del 95%. \n",
    "* El intercepto $\\beta_0$ es significativo para el modelo y su valor estimado es de 54.9257\n",
    "* La temperatura ambiental $x_1$ sí es significativa y por ende influye en la productividad. El valor estimado es de -2.3381\n",
    "* El tiempo que lleva un trabajador haciendo una tarea repetitiva $x_2$ es significativa y por ende influye en la productividad del trabajador. Su valor estimado es de -15.7437\n",
    "\n",
    "Dado lo anterior se podría decir que a medida que la temperatura ambiental aumenta en una unidad, la productividad disminuye en 2.34 unidades. Por otro lado, a medida que el tiempo que lleva un trabajador haciendo una tarea repetitiva aumenta en una unidad, la productividad del trabajador disminuirá en 15.74 unidades."
   ]
  },
  {
   "cell_type": "markdown",
   "id": "9374bbb0",
   "metadata": {},
   "source": [
    "#### 2. Se cree que el modelo es no-lineal, por lo cual es mejor usar un modelo polinomial de orden 2. ¿Cree que el modelo resultante debe ser aditivo?"
   ]
  },
  {
   "cell_type": "markdown",
   "id": "25a2c5c0",
   "metadata": {},
   "source": [
    "Antes de pensar en sí el modelo debería o no ser aditivo debemos contruir un nuevo modelo que en este caso será un modelo polinomial de orden 2. Es decir:\n",
    "$$\n",
    "y=\\alpha_0 + \\alpha_1 z_1 +\\alpha_2 z_2+  \\alpha_3 (z_1)^2 +\\alpha_4 (z_2)^2 +  \\alpha_5 z_1 z_2 +\\epsilon\n",
    "$$\n",
    "\n",
    "En donde $z_1 = (x_1 - \\bar{x_1})$ y $z_2 = (x_2 - \\bar{x_2})$"
   ]
  },
  {
   "cell_type": "code",
<<<<<<< HEAD
   "execution_count": 2,
=======
   "execution_count": 13,
>>>>>>> d5fb446 (Corrected punto 1, Tarea 2.)
   "id": "55bdadfd",
   "metadata": {},
   "outputs": [
    {
     "data": {
      "text/plain": [
       "\n",
       "Call:\n",
       "lm(formula = y ~ z1 + z2 + z1s + z2s + z1z2)\n",
       "\n",
       "Residuals:\n",
       "    Min      1Q  Median      3Q     Max \n",
       "-3.2451 -0.8419  0.0096  0.8786  2.8396 \n",
       "\n",
       "Coefficients:\n",
       "             Estimate Std. Error t value Pr(>|t|)    \n",
       "(Intercept) -32.79736    0.12109 -270.85   <2e-16 ***\n",
       "z1           -0.67367    0.03980  -16.93   <2e-16 ***\n",
       "z2          -14.76251    0.04804 -307.29   <2e-16 ***\n",
       "z1s           1.89113    0.01523  124.18   <2e-16 ***\n",
       "z2s          -1.44641    0.02332  -62.03   <2e-16 ***\n",
       "z1z2         -0.99262    0.02570  -38.62   <2e-16 ***\n",
       "---\n",
       "Signif. codes:  0 ‘***’ 0.001 ‘**’ 0.01 ‘*’ 0.05 ‘.’ 0.1 ‘ ’ 1\n",
       "\n",
       "Residual standard error: 1.237 on 252 degrees of freedom\n",
       "Multiple R-squared:  0.9987,\tAdjusted R-squared:  0.9987 \n",
       "F-statistic: 3.948e+04 on 5 and 252 DF,  p-value: < 2.2e-16\n"
      ]
     },
     "metadata": {},
     "output_type": "display_data"
    }
   ],
   "source": [
    "#Modelo no-liena\n",
    "z1 <- x1 - mean(x1)\n",
    "z2 <- x2 - mean(x2)\n",
    "z1s <- z1^2\n",
    "z2s <- z2^2\n",
    "z1z2 <- z1*z2\n",
    "\n",
    "xb <- cbind(z1,z2,z1s,z2s,z1z2)\n",
    "\n",
    "modeloProductividad2 <- lm(y~z1+z2+z1s+z2s+z1z2) \n",
    "summary(modeloProductividad2)"
   ]
  },
  {
   "cell_type": "markdown",
   "id": "393bf422",
   "metadata": {},
   "source": [
    "Ya teniendo el modelo polinomial del segundo orden, se puede proceeder ahora si a contestar la pregunta de si el modelo resultante debería o no ser aditivo. Esto en otras palabras quiere decir que debemos evaluar si la interacción es significativa, para lo cual se plantea la siguiente prueba de hipótesis:\n",
    "$$\n",
    "H_0: \\alpha_5 =  0\n",
    "$$\n",
    "\n",
    "$$\n",
    "H_1:\\alpha_5 \\neq 0\n",
    "$$"
   ]
  },
  {
   "cell_type": "code",
<<<<<<< HEAD
   "execution_count": 3,
=======
   "execution_count": 14,
>>>>>>> d5fb446 (Corrected punto 1, Tarea 2.)
   "id": "85411551",
   "metadata": {},
   "outputs": [
    {
     "ename": "ERROR",
     "evalue": "Error in gtest(x, y, A, c): no se pudo encontrar la función \"gtest\"\n",
     "output_type": "error",
     "traceback": [
      "Error in gtest(x, y, A, c): no se pudo encontrar la función \"gtest\"\nTraceback:\n",
      "1. ltest(y, xb, q, 0, \"b\")"
     ]
    }
   ],
   "source": [
    "ltest <- function(y,x,lin,const,dir=b){\n",
    "  n <- dim(x)[1]\n",
    "  k <- dim(x)[2]\n",
    "  p <- k + 1\n",
    "  xx <- cbind(rep(1, n), x)\n",
    "  beta <- solve(t(xx) %*% xx) %*% t(xx) %*% y\n",
    "  A <- matrix(lin, ncol = p)\n",
    "  c <- const\n",
    "  t <- sign(A %*% lin - c) * sqrt(gtest(x,y,A,c)$F)  \n",
    "  if(dir == \"+\"){pval = 1 - pt(t,n-p)}\n",
    "  if(dir == \"-\"){pval = pt(t,n-p)}\n",
    "  if(dir == \"b\"){pval = min(2 * (1 - pt(t,n - p)),2 *(pt(t, n - p)))}\n",
    "  return(list(t = t, pvalue = pval))\n",
    "}\n",
    "\n",
    "q <- c(0,0,0,0,0,1)\n",
    "ltest(y, xb, q, 0, \"b\")"
   ]
  },
  {
   "cell_type": "markdown",
   "id": "86027ab0",
   "metadata": {},
   "source": [
    "Con un nivel de confianza del 95% se puede concluir que se rechaza $H_0$, pues el ${p value}<5 \\% $. Esto quiere decir que la interacción entre el tiempo que lleva un trabajador haciendo una tarea repetitiva y la temperatura ambiental es significativa e importante, por lo tanto el modelo no puede ser aditivo."
   ]
  },
  {
   "cell_type": "markdown",
   "id": "a063fcec",
   "metadata": {},
   "source": [
    "#### 3. Si se sabe que la temperatura ambiental es de 2, estime el efecto que tiene el tiempo que se lleva haciendo la tarea (cuando este es 2.5) sobre la productividad"
   ]
  },
  {
   "cell_type": "markdown",
   "id": "8b90e7a5",
   "metadata": {},
   "source": [
    "Teniendo en cuenta que el modelo que tenemos es no-lineal, para poder estimar el efecto que tiene el tiempo que lleva un trabajador haciendo una tarea repetitiva sobre la productividad dados unos valores, lo primero que se debe hacer es derivar el modelo con respecto al tiempo que lleva un trabajador haciendo una tarea: \n",
    "\n",
    "$$\n",
    "\\frac{dy}{dz_2}=\\alpha_2 + 2\\alpha_4 z_2 + \\alpha_5 z_1\n",
    "$$\n",
    "\n",
    "Luego remplazamos los valores en la ecuación sabiendo por el modelo que: \n",
    "$$\n",
    "\\alpha_2 = -14.76251\n",
    "$$\n",
    "$$\n",
    "\\alpha_4 = -1.44641\n",
    "$$\n",
    "$$\n",
    "\\alpha_5 = -0.99262\n",
    "$$\n",
    "\n",
    "Por otro lado..."
   ]
  },
  {
   "cell_type": "code",
<<<<<<< HEAD
   "execution_count": 4,
=======
   "execution_count": 15,
>>>>>>> d5fb446 (Corrected punto 1, Tarea 2.)
   "id": "932ef7b7",
   "metadata": {},
   "outputs": [
    {
     "data": {
      "text/html": [
       "1.0158901129465"
      ],
      "text/latex": [
       "1.0158901129465"
      ],
      "text/markdown": [
       "1.0158901129465"
      ],
      "text/plain": [
       "[1] 1.01589"
      ]
     },
     "metadata": {},
     "output_type": "display_data"
    },
    {
     "data": {
      "text/html": [
       "-2.76669329304501"
      ],
      "text/latex": [
       "-2.76669329304501"
      ],
      "text/markdown": [
       "-2.76669329304501"
      ],
      "text/plain": [
       "[1] -2.766693"
      ]
     },
     "metadata": {},
     "output_type": "display_data"
    }
   ],
   "source": [
    "z12 <- 2 - mean(x1)\n",
    "z22 <- 2.5 - mean(x2)\n",
    "z12\n",
    "z22"
   ]
  },
  {
   "cell_type": "markdown",
   "id": "4b0c9729",
   "metadata": {},
   "source": [
    "Teniendo en cuenta que $x_1 = 2$ y que $x_2 = 2.5$ y recordando que $z_1 = (x_1 - \\bar{x_1})$ y $z_2 = (x_2 - \\bar{x_2})$:\n",
    "\n",
    "$$\n",
    "z_2 = -2.7667\n",
    "$$\n",
    "\n",
    "$$\n",
    "z_1 = 1.0159\n",
    "$$\n",
    "\n",
    "La ecuación se puede plantear numéricamente de la siguiente manera: \n",
    "$$\n",
    "\\frac{dy}{dz_2}=[-14.76251] +[2 \\cdot(-1.44641) \\cdot(-2.7667)] + [(-0.99262) \\cdot1.0159]\n",
    "$$\n",
    "$$\n",
    "\\frac{dy}{dz_2}=-4.014\n",
    "$$\n",
    "\n",
    "Dado que el tiempo es 2.5 y que la temperatura ambiental es 2, se puede decir que el efecto que tiene el tiempo que un trabajador lleva haciendo una actividad repetitiva sobre la productividad es de -4.014."
   ]
  },
  {
   "cell_type": "markdown",
   "id": "34bdc5a8",
   "metadata": {},
   "source": [
    "#### 4. Si en un día particular la temperatura ambiental es de 2.5 y y un trabajador llava 3 días haciendo la misma labor en el mismo sitio, construya un intervalo de predicción para la productividad del trabajador."
   ]
  },
  {
   "cell_type": "markdown",
   "id": "69f45aac",
   "metadata": {},
   "source": [
    "Esta información se puede escribir de la siguiente manera: \n",
    "$$\n",
    "x_1 = 2.5\n",
    "$$\n",
    "$$\n",
    "x_2 = 3\n",
    "$$\n",
    "\n",
    "Ahora bien para calcular el IP para la productividad del trabajador se utiliza la siguiente fórmula: \n",
    "\n",
    "$$\n",
    "IP={\\hat{\\mu}}_p\\pm t_{\\left(1-\\frac{\\alpha}{2}\\right),\\ \\ \\ n-p}\\cdot\\sqrt{{\\hat{\\sigma}}_2\\cdot(1+x_p^T\\cdot\\left(X^T\\cdot X\\right)^{-1}\\cdot x_p}\n",
    "$$"
   ]
  },
  {
   "cell_type": "code",
<<<<<<< HEAD
   "execution_count": 5,
=======
   "execution_count": 16,
>>>>>>> d5fb446 (Corrected punto 1, Tarea 2.)
   "id": "419d4363",
   "metadata": {},
   "outputs": [
    {
<<<<<<< HEAD
     "data": {
      "text/html": [
       "<style>\n",
       ".list-inline {list-style: none; margin:0; padding: 0}\n",
       ".list-inline>li {display: inline-block}\n",
       ".list-inline>li:not(:last-child)::after {content: \"\\00b7\"; padding: 0 .5ex}\n",
       "</style>\n",
       "<ol class=list-inline><li>-2.49650992433306</li><li>2.43326811689517</li></ol>\n"
      ],
      "text/latex": [
       "\\begin{enumerate*}\n",
       "\\item -2.49650992433306\n",
       "\\item 2.43326811689517\n",
       "\\end{enumerate*}\n"
      ],
      "text/markdown": [
       "1. -2.49650992433306\n",
       "2. 2.43326811689517\n",
       "\n",
       "\n"
      ],
      "text/plain": [
       "[1] -2.496510  2.433268"
      ]
     },
     "metadata": {},
     "output_type": "display_data"
=======
     "ename": "ERROR",
     "evalue": "Error in t(g): object 'g' not found\n",
     "output_type": "error",
     "traceback": [
      "Error in t(g): object 'g' not found\nTraceback:\n",
      "1. t(g)"
     ]
>>>>>>> d5fb446 (Corrected punto 1, Tarea 2.)
    }
   ],
   "source": [
    "## Primero se calculan los betas\n",
    "x4 <- cbind(rep(1, n), xb)\n",
    "xtx4 <- t(x4) %*% x4\n",
    "H4 <- solve(xtx4)\n",
    "betas4 <- H4 %*% t(x4) %*% y\n",
    "p <- 6\n",
    "\n",
    "#Luego se calcula el MSE\n",
    "MSE <- (sum((y - x4 %*% betas4 )^2)) / (n - p)\n",
    "\n",
    "#Se obtienen los valores de z1 y z2 según x1 y x2 dados \n",
    "z13 <- 2.5 - mean(x1)\n",
    "z23 <- 3 - mean(x2)\n",
    "\n",
    "#Calculo del IP\n",
    "modeloProductividad4<- c(1, z13, z23, z13^2, z23^2, z13*z23)\n",
    "miu <- t(modeloProductividad4) %*% betas4\n",
    "int_inf <- miu - qt(0.975, n - p) * sqrt(MSE * (1 + t(modeloProductividad4) %*% H4 %*% modeloProductividad4))\n",
    "int_sup <- miu + qt(0.975, n - p) * sqrt(MSE * (1 + t(modeloProductividad4) %*% H4 %*% modeloProductividad4))\n",
    "IP <- c(int_inf, int_sup)\n",
    "IP"
   ]
  },
  {
   "cell_type": "markdown",
   "id": "81f32d40",
   "metadata": {},
   "source": [
    "El intervalo de predicción resultante es: \n",
    "$$\n",
    "IP: [ -2.4965 ; 2.4332]\n",
    "$$\n",
    "\n",
    "Lo anterior quiere decir que con un nivel de confianza del $95 \\%$, si un trabajador lleva 3 días haciendo la misma tarea repetitiva y la temperatura del ambiente es de 2.5, la productividad del trabajador estará entre -2.45 y 2.43.\n"
   ]
  },
  {
   "cell_type": "markdown",
   "id": "52e32563",
   "metadata": {},
   "source": [
    "### Problema 5. Efectos de la personalidad en la producción intelectual bajo estrés."
   ]
  },
  {
   "cell_type": "markdown",
   "id": "2d0f9dd3",
   "metadata": {},
   "source": [
    "Recopilando la información se sabe que hay una prueba que evalua el desempeño de las personas con base en unos parámetros. En total el cuestionario tiene 44 preguntas de las cuales unas suman y otras restan para el puntaje final. El método utilizado es el método OCEAN, en donde: \n",
    "$$\n",
    "O: apertura\\ a \\ la \\ experiencia \\\\\n",
    "C: responsabilidad \\\\\n",
    "E: extraversión \\\\\n",
    "A: agradable \\\\\n",
    "N: neuroticismo \n",
    "$$"
   ]
  },
  {
   "cell_type": "markdown",
   "id": "81f17629",
   "metadata": {},
   "source": [
    "#### 1. Dado que la base de datos posee algunos datos faltantes (NA), impute estos datos con los promedios de la respectiva variable."
   ]
  },
  {
   "cell_type": "markdown",
   "id": "5addd2f7",
   "metadata": {},
   "source": [
    "No se podrá resolver el problema 5 si hay datos faltantes (NA) por lo que lo primero que se debe hacer es remplazar estos NA por el promedio de cada una de las columnas "
   ]
  },
  {
   "cell_type": "code",
   "execution_count": 13,
   "id": "dab29f87",
   "metadata": {},
   "outputs": [],
   "source": [
    "data=read.table(\"Archivos/personality_scores.txt\",head=T)\n",
    "m=as.matrix(data)\n",
    "\n",
    "col <- ncol(m)\n",
    "fil <- nrow(m)\n",
    "\n",
    "for(i in 1:fil){\n",
    "  for(j in 1:col) {\n",
    "    if(is.na(m[i,j])){\n",
    "      m[i,j] = mean(as.matrix(m[,j]),na.rm = T)\n",
    "    }\n",
    "  }\n",
    "}\n",
    "m"
   ]
  },
  {
   "cell_type": "markdown",
   "id": "9f07b495",
   "metadata": {},
   "source": [
    "#### 2. Compile el cuestionario para encontrar los cinco factores de personalidad de cada individuo."
   ]
  },
  {
   "cell_type": "markdown",
   "id": "bbc65d7a",
   "metadata": {},
   "source": [
    "Ya con los datos sin (NA) ahora se procede con el segundo paso que corresponde a copilar los datos del cuestionario en los 5 factores de personalidad (OCEAN). Para poder realizar esto se debe tener en cuenta el nombre de cada una de las columnas, pues es ahí donde se específica el factor al que pertenecen. Otro aspecto que se debe tener en cuenta es que cuando en el nombre de la columna aparece una R eso quiere decir que es negativo y por ende el valor resta al total del puntaje. \n",
    "\n",
    "Este proceso se realiza a continuación y arroja el resultado de los puntajes para cada uno de los factores:"
   ]
  },
  {
   "cell_type": "code",
<<<<<<< HEAD
   "execution_count": 14,
=======
   "execution_count": null,
>>>>>>> d5fb446 (Corrected punto 1, Tarea 2.)
   "id": "82735e4a",
   "metadata": {},
   "outputs": [],
   "source": [
    "O <- m[,1+7] + m[,1+12] + m[,1+19] + m[,1+20]+ m[,1+28] + m[,1+29] + m[,1+32] - m[,1+39] + m[,1+43] + m[,1+44]\n",
    "C <- m[,1+4] - m[,1+10] + m[,1+14] - m[,1+22] - m[,1+26] + m[,1+33] + m[,1+38] + m[,1+41] - m[,1+42]\n",
    "E <- m[,1+1] - m[,1+6] + m[,1+13] + m[,1+16] - m[,1+24] + m[,1+30] - m[,1+35] + m[,1+40]\n",
    "A <- -m[,1+3] + m[,1+8] + m[,1+9] - m[,1+15] + m[,1+21] + m[,1+25] - m[,1+31] -m[,1+36] + m[,1+37]\n",
    "N <- m[,1+2] + m[,1+5] - m[,1+11] + m[,1+17] + m[,1+18] + m[,1+23] - m[,1+27] -m[,1+34]\n",
    "\n",
    "S <- data$Satisfaction\n",
    "Puntaje <- data$Score\n",
    "\n",
    "matriz <- cbind(O,C,E,A,N, data$Satisfaction, data$Score)\n",
    "matriz"
   ]
  },
  {
   "cell_type": "markdown",
   "id": "421a00bb",
   "metadata": {},
   "source": [
    "Una vez ya tenemos la matriz OCEAN con todos datos de la personalidad, adicionalmente la penultima columna tiene los datos de Satisfacción del trabajo y en la ultima columan se encuentran los datos del puntaje."
   ]
  },
  {
   "cell_type": "markdown",
   "id": "5e946e1a",
   "metadata": {},
   "source": [
    "Ahora antes de continuar se debe plantear el modelo de regresión no-lineal cuadrático con las interacciones incluidas. El modelo sería  el siguiente:\n",
    "\n",
    "$$\n",
    "Y=\\beta_0+\\beta_1ZO+\\beta_2ZC+\\beta_3ZE+\\beta_4ZA+\\beta_5ZN+\\beta_6ZS+\\beta_7ZO^2+\\beta_8ZC^2+\\beta_9ZE^2+\\beta_{10}ZA^2+\\beta_{11}ZN^2+\\beta_{12}ZS^2+\\beta_{13}ZOC+\\beta_{14}ZOE+\\beta_{15}ZOA+\\beta_{16}ZON+\\beta_{17}ZOS+\\beta_{18}ZCE+\\beta_{19}ZCA+\\beta_{20}ZCN+\\beta_{21}ZCS+\\beta_{22}ZEA+\\beta_{23}ZEN+\\beta_{24}ZES+\\beta_{25}ZAN+\\beta_{26}ZAS+\\beta_{27}ZNS+\\varepsilon\n",
    "$$\n",
    "\n",
    "Tal como se vio en el problema anterior las variables Z fueron calculadas cómo: \n",
    "\n",
    "$$\n",
    "Z_i=X_i-\\bar{X_i} \\ \\ \\forall i\\in O,C,E,A,N,S \\\\\n",
    "Z_i^2=Z_i\\cdot Z_i \\ \\ \\forall i\\in O,C,E,A,N,S \\\\\n",
    "Z_{ij}=Z_i\\cdot Z_j\\ \\ \\ \\ \\forall i,j\\in\\left\\{O,C,E,A,N,S\\right\\}\\ y\\ i\\neq j\n",
    "$$\n"
   ]
  },
  {
   "cell_type": "code",
<<<<<<< HEAD
   "execution_count": 15,
=======
   "execution_count": null,
>>>>>>> d5fb446 (Corrected punto 1, Tarea 2.)
   "id": "56b7826e",
   "metadata": {},
   "outputs": [],
   "source": [
    "ZO <- O-mean(O)\n",
    "ZC <- C-mean(C)\n",
    "ZE <- E-mean(E)\n",
    "ZA <- A-mean(A)\n",
    "ZN <- N-mean(N)\n",
    "ZS <- S-mean(S)\n",
    "\n",
    "ZO2 <- ZO^2\n",
    "ZC2 <- ZC^2\n",
    "ZE2 <- ZE^2\n",
    "ZA2 <- ZA^2\n",
    "ZN2 <- ZN^2\n",
    "ZS2 <- ZS^2\n",
    "\n",
    "ZOC <- ZO*ZC\n",
    "ZOE <- ZO*ZE\n",
    "ZOA <- ZO*ZA\n",
    "ZON <- ZO*ZN\n",
    "ZOS <- ZO*ZS\n",
    "ZCE <- ZC*ZE\n",
    "ZCA <- ZC*ZA\n",
    "ZCN <- ZC*ZN\n",
    "ZCS <- ZC*ZS\n",
    "ZEA <- ZE*ZA\n",
    "ZEN <- ZE*ZN\n",
    "ZES <- ZE*ZS\n",
    "ZAN <- ZA*ZN\n",
    "ZAS <- ZA*ZS\n",
    "ZNS <- ZN*ZS\n",
    "\n",
    "fit <- lm(Puntaje~ZO+ZC+ZE+ZA+ZN+ZS+ZO2+ZC2+ZE2+ZA2+ZN2+ZS2+ZOC+ZOE+ZOA+ZON+ZOS+ZCE+ZCA+ZCN+ZCS+ZEA+ZEN+ZES+ZAN+ZAS+ZNS)\n",
    "summary(fit)\n",
    "matriz2 <- cbind(ZO,ZC,ZE,ZA,ZN,ZS,ZO2,ZC2,ZE2,ZA2,ZN2,ZS2,ZOC,ZOE,ZOA,ZON,ZOS,ZCE,ZCA,ZCN,ZCS,ZEA,ZEN,ZES,ZAN,ZAS,ZNS)"
   ]
  },
  {
   "cell_type": "markdown",
   "id": "cbaa64c2",
   "metadata": {},
   "source": [
    "#### 2. Es cierto que el efecto de C sobre el desempeño depende (interactúa) con la satisfacción?"
   ]
  },
  {
   "cell_type": "markdown",
   "id": "2e784835",
   "metadata": {},
   "source": [
    "Como bien se mostró el modelo es un modelo polinomial cuadrático y el componente de $\\beta_{21}ZCS$ es justamente el que me puede dar información sobre el efecto $\\beta$ que tiene C con la satisfacción (S). \n",
    "Teniendo en cuenta lo anterior se plantea la siguiente prueba de hipótesis: \n",
    "\n",
    "$$\n",
    "H_0: \\beta_{21} = 0\n",
    "$$\n",
    "\n",
    "$$\n",
    "H_1: \\beta_{21} \\neq 0\n",
    "$$"
   ]
  },
  {
   "cell_type": "code",
<<<<<<< HEAD
   "execution_count": 16,
=======
   "execution_count": null,
>>>>>>> d5fb446 (Corrected punto 1, Tarea 2.)
   "id": "1a37edc7",
   "metadata": {},
   "outputs": [],
   "source": [
    "gtest <- function(x,y,A,c){\n",
    "  n <- length(y)\n",
    "  k <- dim(x)[2]\n",
    "  p <- k + 1\n",
    "  q <- dim(A)[1]\n",
    "  xx <- cbind(rep(1,n), x)\n",
    "  beta <- solve(t(xx) %*% xx) %*% t(xx) %*% y\n",
    "  yhat <- xx %*% beta  \n",
    "  mse <- sum((y - yhat)^2)/(n - p)\n",
    "  betaH <- beta + solve(t(xx) %*% xx) %*% t(A) %*% solve(A %*% solve(t(xx) %*% xx) %*% t(A)) %*% (c- A %*% beta)\n",
    "  yhatH <- xx %*% betaH\n",
    "  F <- (sum((y- yhatH)^2)-sum((y- yhat)^2))/q /mse\n",
    "  pval <- 1-pf(F, q, n- p)\n",
    "  return(list(F = F, pvalue = pval))\n",
    "}\n",
    "\n",
    "ltest <- function(y,x,lin,const,dir=b){\n",
    "  n <- dim(x)[1]\n",
    "  k <- dim(x)[2]\n",
    "  p <- k + 1\n",
    "  xx <- cbind(rep(1, n), x)\n",
    "  beta <- solve(t(xx) %*% xx) %*% t(xx) %*% y\n",
    "  A <- matrix(lin, ncol = p)\n",
    "  c <- const\n",
    "  t <- sign(A %*% lin - c) * sqrt(gtest(x,y,A,c)$F)  \n",
    "  if(dir == \"+\"){pval = 1 - pt(t,n-p)}\n",
    "  if(dir == \"-\"){pval = pt(t,n-p)}\n",
    "  if(dir == \"b\"){pval = min(2 * (1 - pt(t,n - p)),2 *(pt(t, n - p)))}\n",
    "  return(list(t = t, pvalue = pval))\n",
    "}\n",
    "\n",
    "c52 <- c(0,0,0,0,0,0,0,0,0,0,0,0,0,0,0,0,0,0,0,0,0,1,0,0,0,0,0,0)\n",
    "ltest(Puntaje, matriz2, c52, 0, \"b\")"
   ]
  },
  {
   "cell_type": "markdown",
   "id": "00f2289d",
   "metadata": {},
   "source": [
    "Con un nivel de confianza del 95% se puede concluir que no hay suficiente evidencia estadística para rechazar $H_0$, es decir que el efecto de C sobre el desempeño no depende o no interactua con la satisfacción, pues el ${p value}>5 \\% $."
   ]
  },
  {
   "cell_type": "markdown",
   "id": "d5588162",
   "metadata": {},
   "source": [
    "#### 3. ¿Es cierto que A y O no deben infuir sobre el desempeño?"
   ]
  },
  {
   "cell_type": "markdown",
   "id": "4c1c6039",
   "metadata": {},
   "source": [
    "Dado que se quiere saber sí A y B influyen o no sobre el desempeño, se debe hacer la siguiente prueba de hipótesis:\n",
    "\n",
    "\\begin{equation}\n",
    "H_0 = \n",
    "\\left\\{\n",
    "    \\begin{array}{lr}\n",
    "        \\beta_1 = 0 \\\\\n",
    "        \\beta_4 = 0 \\\\\n",
    "        \\beta_7 = 0 \\\\\n",
    "        \\beta_{10} = 0 \\\\\n",
    "        \\beta_{15} = 0\n",
    "    \\end{array}\n",
    "    \\right\\} \n",
    "\\end{equation}\n",
    "\n",
    "$$\n",
    "H_1:\\textit{Al menos una es diferente}\n",
    "$$\n"
   ]
  },
  {
   "cell_type": "code",
<<<<<<< HEAD
   "execution_count": 17,
=======
   "execution_count": null,
>>>>>>> d5fb446 (Corrected punto 1, Tarea 2.)
   "id": "728d1480",
   "metadata": {},
   "outputs": [],
   "source": [
    "r1 <- c(0,1,0,0,0,0,0,0,0,0,0,0,0,0,0,0,0,0,0,0,0,0,0,0,0,0,0,0)\n",
    "r2 <- c(0,0,0,0,1,0,0,0,0,0,0,0,0,0,0,0,0,0,0,0,0,0,0,0,0,0,0,0) \n",
    "r3 <- c(0,0,0,0,0,0,0,1,0,0,0,0,0,0,0,0,0,0,0,0,0,0,0,0,0,0,0,0) \n",
    "r4 <- c(0,0,0,0,0,0,0,0,0,0,1,0,0,0,0,0,0,0,0,0,0,0,0,0,0,0,0,0) \n",
    "r5 <- c(0,0,0,0,0,0,0,0,0,0,0,0,0,0,0,1,0,0,0,0,0,0,0,0,0,0,0,0) \n",
    "\n",
    "m53 <- rbind(r1,r2,r3,r4,r5)\n",
    "c53 <- c(0,0,0,0,0)\n",
    "\n",
    "gtest(matriz2,Puntaje,m53,c53) "
   ]
  },
  {
   "cell_type": "markdown",
   "id": "ce39d078",
   "metadata": {},
   "source": [
    "Con un nivel de confianza del 95% se puede concluir que se rechaza $H_0$, pues el ${p value}<5 \\% $. Esto quiere decir A, O, o al menos una de sus interacciones o términos cuadráticos influyen sobre el desempeño. "
   ]
  },
  {
   "cell_type": "markdown",
   "id": "7af19ddd",
   "metadata": {},
   "source": [
    "#### 4. ¿Se cree que para niveles bajos y altos de C el desempeño es alto, pero para niveles promedio de C, el desempeño es menor. "
   ]
  },
  {
   "cell_type": "markdown",
   "id": "2d10bc72",
   "metadata": {},
   "source": [
    "Lo que se quiere analizar en este punto es si el efecto de C sobre el desempeño es cuadrático. Teniendo esto en cuenta y sabíendo que las interacciones tambien pueden llegar a afectar el comportamiento de C se plantea un nuevo modelo (modelo reducido), que tuviera solo en cuenta la parte lineal y cuadrática \n",
    "\n",
    "$$\n",
    "Y=\\beta_0+\\beta_1ZO+\\beta_2ZC+\\beta_3ZE+\\beta_4ZA+\\beta_5ZN+\\beta_6ZS+\\beta_7ZO^2+\\beta_8ZC^2+\\beta_9ZE^2+\\beta_{10}ZA^2+\\beta_{11}ZN^2+\\beta_{12}ZS^2+\\varepsilon\n",
    "$$\n",
    "\n",
    "Con este nuevo modelo se plantea la siguiente prueba de hipótesis: \n",
    "\n",
    "\\begin{equation}\n",
    "H_0 = \n",
    "\\left\\{\n",
    "    \\begin{array}{lr}\n",
    "        \\beta_2 = 0 \\\\\n",
    "        \\beta_8 = 0\n",
    "    \\end{array}\n",
    "    \\right\\} \n",
    "\\end{equation}\n",
    "\n",
    "$$\n",
    "H_1:\\textit{Al menos una es diferente}\n",
    "$$\n"
   ]
  },
  {
   "cell_type": "code",
<<<<<<< HEAD
   "execution_count": 18,
=======
   "execution_count": null,
>>>>>>> d5fb446 (Corrected punto 1, Tarea 2.)
   "id": "d55343ff",
   "metadata": {},
   "outputs": [],
   "source": [
    "matriz52 <- cbind(ZO,ZC,ZE,ZA,ZN,ZS,ZO2,ZC2,ZE2,ZA2,ZN2,ZS2)\n",
    "\n",
    "r6 <- c(0,0,1,0,0,0,0,0,0,0,0,0,0)\n",
    "r7 <- c(0,0,0,0,0,0,0,0,1,0,0,0,0)\n",
    "\n",
    "m54 <- rbind(r6,r7)\n",
    "c54 <- c(0,0)\n",
    "gtest(matriz52,Puntaje,m54,c54) "
   ]
  },
  {
   "cell_type": "markdown",
   "id": "32558d8d",
   "metadata": {},
   "source": [
    "Con un nivel de confianza del 95% se puede concluir que no hay suficiente evidencia estadística para rechazar $H_0$, es decir que C puede no tener un comportamiento cuadrático , pues el ${p value}>5 \\% $."
   ]
  },
  {
   "cell_type": "markdown",
   "id": "f9c020cb",
   "metadata": {},
   "source": [
    "#### 5. En un modelo que considera apropiado, ¿el efecto de E es lineal?\n"
   ]
  },
  {
   "cell_type": "markdown",
   "id": "f77e5153",
   "metadata": {},
   "source": [
    "Para esta pregunta vamos a volver a utilizar el modelo completo que teníamos inicialmente. Y se va a realizar la siguiente prueba de hipótesis para corroborar sí el efecto de E es o no lineal (es decir se le va a hacer una prueba a la variable cuadrática)\n",
    "\n",
    "$$\n",
    "H_0: \\beta_{9} = 0\n",
    "$$\n",
    "\n",
    "$$\n",
    "H_1: \\beta_{9} \\neq 0\n",
    "$$"
   ]
  },
  {
   "cell_type": "code",
<<<<<<< HEAD
   "execution_count": 19,
=======
   "execution_count": null,
>>>>>>> d5fb446 (Corrected punto 1, Tarea 2.)
   "id": "e5974230",
   "metadata": {},
   "outputs": [],
   "source": [
    "r8 <- c(0,0,0,0,0,0,0,0,0,1,0,0,0,0,0,0,0,0,0,0,0,0,0,0,0,0,0,0) \n",
    "\n",
    "#Prueba F\n",
    "m55 <- rbind(r8)\n",
    "c55 <- c(0)\n",
    "gtest(matriz2,Puntaje,m55,c55) \n",
    "\n",
    "#Prueba t\n",
    "ltest(Puntaje, matriz2, r8, 0, \"b\")"
   ]
  },
  {
   "cell_type": "markdown",
   "id": "754acc02",
   "metadata": {},
   "source": [
    "Con un nivel de confianza del 95% se puede concluir que no hay suficiente evidencia estadística para rechazar $H_0$, es decir que el efecto de E tiene un comportamiento lineal, pues el ${p value}>5 \\% $."
   ]
  },
  {
   "cell_type": "markdown",
   "id": "b480190a",
   "metadata": {},
   "source": [
    "#### 6. Con un modelo apropiado, resuma en palabras cuál es el efecto que tiene la personalidad sobre la producción intelectual bajo estrés. "
   ]
  },
  {
   "cell_type": "markdown",
   "id": "e024b0dd",
   "metadata": {},
   "source": [
    "Para poder analizar el efecto que tiene la personalidad sobre la producción intelectual bajo estrés, se debe utilizar el modelo completo (con la parte lineal, cuadrática y con las interacciones) que se definió el comienzo y ver las significancias individuales de las variables del modelo. "
   ]
  },
  {
   "cell_type": "code",
<<<<<<< HEAD
   "execution_count": 20,
=======
   "execution_count": null,
>>>>>>> d5fb446 (Corrected punto 1, Tarea 2.)
   "id": "b7d9e030",
   "metadata": {},
   "outputs": [],
   "source": [
    "pairs(matriz)\n",
    "fit1 <- lm(Puntaje~ZO+ZC+ZE+ZA+ZN+ZS+ZO2+ZC2+ZE2+ZA2+ZN2+ZS2+ZOC+ZOE+ZOA+ZON+ZOS+ZCE+ZCA+ZCN+ZCS+ZEA+ZEN+ZES+ZAN+ZAS+ZNS)\n",
    "summary(fit1)"
   ]
  },
  {
   "cell_type": "markdown",
   "id": "15ae59e6",
   "metadata": {},
   "source": [
    "De lo anterior se pueden concluir muchas cosas. La primera es que al ver la gráfica podemos darnos cuena que hay una alta correlación positiva entre el efecto O y la satisfacción y el Puntaje. Y tambien entre la Satisfacción y el Puntaje, lo que quiere decir que hay multicolinealidad en el modelo. Por ejemplo la variable de satisfacción nos da la misma información que el puntaje, muy probablemente entre máyor fue su puntaje mayor fue su satisfacción. \n",
    "\n",
    "Por otro lado con el modelo podemos ver que la mayoría de las variables (lineales) son individualmente significativas, a excepción del efecto E. Mientras que la mayoría de las variables (cuadráticas) no son significativas individualmente, a excepción del efecto O y de la satisfacción. Por último, de las 15 interacciones solo 3 son individualmente significativas (O con A, O con N y A con satisfacción)\n",
    "\n",
    "Como vemos que las interacciones no son muy significativas para el modelo se decide elimanrlas y crear un nuevo modelo solo con las varaibles lineales y cuadráticas (sin interacción)"
   ]
  },
  {
   "cell_type": "code",
<<<<<<< HEAD
   "execution_count": 21,
=======
   "execution_count": null,
>>>>>>> d5fb446 (Corrected punto 1, Tarea 2.)
   "id": "80332909",
   "metadata": {},
   "outputs": [],
   "source": [
    "fit2 <- lm(Puntaje~ZO+ZC+ZE+ZA+ZN+ZS+ZO2+ZC2+ZE2+ZA2+ZN2+ZS2)\n",
    "summary(fit2)"
   ]
  },
  {
   "cell_type": "markdown",
   "id": "3933989a",
   "metadata": {},
   "source": [
    "Observando los resultados de este nuevo modelo, se puede ver que no es muy diferente los resultados individuales que con respecto al modelo pasado. Lo anterior quiere decir que en su mayiría las variables lineales son las que en efecto son significativas mayoritariamente. Las variables cuadráticas en terminos generales no son significativas (a excepción del efecto O al cuadrado y de la satisfacción al cuadrado) \n",
    "Al ver esto se puede llegar a pensar que incluso los efectos cuadráticos no tienen una gran influencia o no son lo suficientemente relevantes y por ende podemos omitirlos y quedarnos solo con un modelo lineal simple."
   ]
  },
  {
   "cell_type": "code",
<<<<<<< HEAD
   "execution_count": 22,
=======
   "execution_count": null,
>>>>>>> d5fb446 (Corrected punto 1, Tarea 2.)
   "id": "804884d2",
   "metadata": {},
   "outputs": [],
   "source": [
    "fit3 <- lm(Puntaje~O+C+E+A+N+S)\n",
    "summary(fit3)"
   ]
  },
  {
   "cell_type": "markdown",
   "id": "f454c586",
   "metadata": {},
   "source": [
    "Finalmente, bajo un nivel de confianza del 95% se puede concluir que con un modelo lineal la mayoría de las variables son significativas.  Con un nivel de significancia del 10% la única variable que no es significativa es la del efecto E. \n",
    "Teniendo en cuenta todo el análisis anterior se podría llegar a pensar que el efecto de la personalidad sobre la producción intelectual bajo estres, es en su mayoría un efecto lineal, por lo que sus efectos cuadráticos no son lo suficientemente significativos y se pueden omitir, al igual que las interacciones."
   ]
  },
  {
   "cell_type": "markdown",
   "id": "200f595f",
   "metadata": {},
   "source": [
    "### Problema 6. Interacciones y Multicolinealidad."
   ]
  },
  {
   "cell_type": "code",
   "execution_count": null,
   "id": "24ee23cd",
   "metadata": {},
   "outputs": [],
   "source": []
  },
  {
   "cell_type": "markdown",
   "id": "4b65b4ed",
   "metadata": {},
   "source": [
    "En la base de datos `mtcars`, se usan las variables continuas: `disp` (desplazamiento), `hp` (potencia), y `wt` (peso del carro). Además, se usan las siguientes variables categóricas: `vs` (dispocición de los cilindrios) y `am` (tipo de transmisión). Use:"
   ]
  },
  {
   "cell_type": "code",
   "execution_count": null,
   "id": "6802138c",
   "metadata": {},
   "outputs": [],
   "source": [
    "library(ISLR)\n",
    "data <- mtcars\n",
    "data <- data[c(\"mpg\", \"disp\", \"hp\", \"wt\", \"vs\", \"am\")]\n",
    "head(data)\n"
   ]
  },
  {
   "cell_type": "markdown",
   "id": "563b47cd-0517-42ec-97d6-65de8b9cb7e7",
   "metadata": {},
   "source": [
    "Considere un modelo que contenga las tres variables continuas y las variables categóricas (con todas las interacciones entre continuas y dummies):"
   ]
  },
  {
   "cell_type": "markdown",
   "id": "2634d44f-6d6b-49b0-8c36-4aeb4cbc0dd1",
   "metadata": {},
   "source": [
    "\\begin{align*}\n",
    "    mpg &= \\quad \\beta_{0} \\\\\n",
    "        &\\quad + \\beta_{\\text{disp}} \\cdot \\text{disp} + \\beta_{\\text{hp}} \\cdot \\text{hp} + \\beta_{\\text{wt}} \\cdot \\text{wt} \\\\\n",
    "        &\\quad + \\gamma_{vs} + \\gamma_{am} \\\\\n",
    "        &\\quad + \\eta_{\\text{disp} \\cdot \\text{vs}} \\cdot \\text{disp} \\cdot \\text{vs} + \\eta_{\\text{disp} \\cdot \\text{am}} \\cdot \\text{disp}\\cdot \\text{am} + \\eta_{\\text{hp} \\cdot \\text{vs}} \\cdot \\text{hp} \\cdot \\text{vs} + \\eta_{\\text{hp} \\cdot \\text{am}} \\cdot \\text{hp}\\cdot \\text{am} + \\eta_{\\text{wt} \\cdot \\text{vs}} \\cdot \\text{wt} \\cdot \\text{vs} + \\eta_{\\text{wt} \\cdot \\text{am}} \\cdot \\text{wt}\\cdot \\text{am}\n",
    "\\end{align*}"
   ]
  },
  {
   "cell_type": "code",
   "execution_count": null,
   "id": "cc6c9df7-688d-4e7a-bda2-1408c100c757",
   "metadata": {},
   "outputs": [],
   "source": [
    "data_inter <- data\n",
    "data_inter[\"disp:vs1\"] <- data[\"disp\"] * data[\"vs\"]\n",
    "data_inter[\"disp:am1\"] <- data[\"disp\"] * data[\"am\"]\n",
    "data_inter[\"hp:vs1\"]   <- data[\"hp\"] * data[\"vs\"]\n",
    "data_inter[\"hp:am1\"]   <- data[\"hp\"] * data[\"am\"]\n",
    "data_inter[\"wt:vs1\"]   <- data[\"wt\"] * data[\"vs\"]\n",
    "data_inter[\"wt:am1\"]   <- data[\"wt\"] * data[\"am\"]\n",
    "head(data_inter)\n"
   ]
  },
  {
   "cell_type": "code",
   "execution_count": null,
   "id": "bae7dd50-994b-4f59-95bd-61c414de7dde",
   "metadata": {},
   "outputs": [],
   "source": [
    "modelo_1 <- lm(mpg~., data = data_inter)\n",
    "summary(modelo_1)\n"
   ]
  },
  {
   "cell_type": "markdown",
   "id": "ee331144-5afe-4f9b-b06c-4db38ab91055",
   "metadata": {},
   "source": [
    "#### 1. ¿Influye el tipo de caja en los modelos?"
   ]
  },
  {
   "cell_type": "markdown",
   "id": "9b235906-2e94-48cc-827f-ecde744a9a25",
   "metadata": {},
   "source": [
    "Debemos probar las siguientes hipótesis:\n",
    "\n",
    "\\begin{align*}\n",
    "    H_{0}: &\\quad \\gamma_{am} = 0 \\\\\n",
    "           &\\land \\eta_{\\text{disp} \\cdot \\text{am}} = 0 \\\\\n",
    "           &\\land \\eta_{\\text{hp} \\cdot \\text{am}} = 0 \\\\\n",
    "           &\\land \\eta_{\\text{wt} \\cdot \\text{am}} = 0 \\\\\n",
    "    H_{a}: &\\quad \\neg H_{0}\n",
    "\\end{align*}"
   ]
  },
  {
   "cell_type": "markdown",
   "id": "ce7f6572-0315-43dc-89e2-fb1b60dfbedd",
   "metadata": {},
   "source": [
    "Usamos la función implementada en el problema 1 de esta tarea."
   ]
  },
  {
   "cell_type": "code",
   "execution_count": null,
   "id": "b04f5420-29a8-4d6d-b1db-ced58b74d267",
   "metadata": {},
   "outputs": [],
   "source": [
    "hipotesis_tests(X, y, partial_tests = FALSE, indices = NULL, A = NULL, c = NULL)"
   ]
  },
  {
   "cell_type": "markdown",
   "id": "4ab83716-ce53-4fd0-b416-9b8603664b78",
   "metadata": {},
   "source": [
    "#### 2. ¿Vale la pena considerar las interacciones en los modelos, o son todos paralelos?"
   ]
  },
  {
   "cell_type": "code",
   "execution_count": null,
   "id": "c4254a18-eed1-40ad-9484-f0ad2b962049",
   "metadata": {},
   "outputs": [],
   "source": []
  },
  {
   "cell_type": "markdown",
   "id": "4d607a68-20d4-423f-8bf4-f0f2652fb63b",
   "metadata": {},
   "source": [
    "#### 3. ¿Es igual el efecto de la variable `wt` en el consumo de combustible para la caja manual con motor en línea que para caja automática con motor en `v`?"
   ]
  },
  {
   "cell_type": "code",
   "execution_count": null,
   "id": "7fcab25c-065a-4962-937e-17cc08985adb",
   "metadata": {},
   "outputs": [],
   "source": []
  },
  {
   "cell_type": "markdown",
   "id": "acefdf66-8b51-4b83-b628-33e775d98227",
   "metadata": {},
   "source": [
    "#### 4. ¿Es igual el modelo para la caja manual con motor en línea que para caja automática con motor en v?"
   ]
  },
  {
   "cell_type": "code",
   "execution_count": null,
   "id": "c77bd69d-ed68-47c2-b73c-142d740b2ea5",
   "metadata": {},
   "outputs": [],
   "source": []
  },
  {
   "cell_type": "markdown",
   "id": "5810f107-48ab-4862-8733-e9f0035b1df4",
   "metadata": {},
   "source": [
    "#### 5. Un vendedor ofrece dos modelos. El carro 1 tiene `disp=20`, `hp=150`, `wt=1500`, caja manual y motor en v. El carro 2 tiene `disp=17`, `hp=100`, `wt=2600`, caja automática y motor en línea. El vendedor afirma que los consumos medios de combustible son respectivamente $18$ y $21$. ¿Es cierta la afirmación del vendedor?"
   ]
  },
  {
   "cell_type": "code",
   "execution_count": null,
   "id": "bbbffa4e-210c-4081-9686-5313217e9537",
   "metadata": {},
   "outputs": [],
   "source": []
  },
  {
   "cell_type": "markdown",
   "id": "9da524ee-2492-4da5-9d92-ff6d11cfc09c",
   "metadata": {},
   "source": [
    "#### 6. Al parecer las pruebas tienden a no dar significativas en los puntos anteriores. Pruebe que el modelo tiene problemas de multicolinealidad, y explique qué relación tiene esto con las interacciones que se inluyen en el modelo."
   ]
  },
  {
   "cell_type": "code",
   "execution_count": null,
   "id": "ef3fe27b-972a-4ee1-97b2-c80494ad862c",
   "metadata": {},
   "outputs": [],
   "source": []
  },
  {
   "cell_type": "markdown",
   "id": "8bcfe1fc-0d86-4b4d-b2b6-4ffc1f830f71",
   "metadata": {},
   "source": [
    "#### 7. Corra el modelo sin intereacciones y determine si siguen existiendo problemas de multicolinealidad."
   ]
  },
  {
   "cell_type": "code",
   "execution_count": null,
   "id": "a1dc8fe1-8ade-4094-8c4a-5ca3fbb0ea0f",
   "metadata": {},
   "outputs": [],
   "source": []
  }
 ],
 "metadata": {
  "kernelspec": {
   "display_name": "R",
   "language": "R",
   "name": "ir"
  },
  "language_info": {
   "codemirror_mode": "r",
   "file_extension": ".r",
   "mimetype": "text/x-r-source",
   "name": "R",
   "pygments_lexer": "r",
   "version": "4.2.1"
  }
 },
 "nbformat": 4,
 "nbformat_minor": 5
}
