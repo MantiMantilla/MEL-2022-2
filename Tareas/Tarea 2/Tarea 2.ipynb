{
 "cells": [
  {
   "cell_type": "markdown",
   "id": "c2f0b8e4",
   "metadata": {},
   "source": [
    "# Tarea 2 - MEL\n",
    "\n",
    "Alejandro Mantilla - 201711304\n",
    "\n",
    "Ximena Palacio - 201730995"
   ]
  },
  {
   "cell_type": "markdown",
   "id": "d9ec8b5f",
   "metadata": {},
   "source": [
    "## Índice\n",
    "\n",
    "- [Parte A](#Parte-A.-Problemas-Computacionales.)\n",
    "\n",
    "    - [Problema 1](#Problema-1.-Escriba-su-propia-función-para-hacer-pruebas-sobre-los-betas.)\n",
    "    - [Problema 2](#Problema-2.-Visualizando-las-regiones-de-confianza.)\n",
    "\n",
    "- [Parte B](#Parte-B.-Problemas-Teóricos-y-Conceptuales.)\n",
    "\n",
    "    - [Problema 3](#Problema-3.-Formas-de-variables-dummies.)\n",
    "    \n",
    "- [Parte C](#Parte-C.-Problemas-Aplicados-con-Datos-Reales.)\n",
    "\n",
    "    - [Problema 4](#Problema-4.-Modelos-No-Lineales.)\n",
    "    - [Problema 5](#Problema-5.-Efectos-de-la-personalidad-en-la-producción-intelectual-bajo-estrés.)\n",
    "    - [Problema 6](#Problema-6.-Interacciones-y-Multicolinealidad.)"
   ]
  },
  {
   "cell_type": "markdown",
   "id": "0b8d3940",
   "metadata": {},
   "source": [
    "## Parte A. Problemas Computacionales."
   ]
  },
  {
   "cell_type": "markdown",
   "id": "eddb49f9",
   "metadata": {},
   "source": [
    "### Problema 1. Escriba su propia función para hacer pruebas sobre los betas."
   ]
  },
  {
   "cell_type": "markdown",
   "id": "6a846176",
   "metadata": {},
   "source": [
    "Como ya lo vimos en clase, las pruebas $F$ para restricciones en los parámetros $\\beta$ de la recta incluyen\n",
    "la mayor parte de las pruebas que se pueden hacer sobre los modelos de regresión (significancia global,\n",
    "significancia de cada variable, combinaciones lineales, etc).\n",
    "\n",
    "Como habrá visto, la función `lm` de R no tiene la opción de inferir sobre restricciones generales, sino\n",
    "que hace la prueba de significancia global y las individuales.\n",
    "\n",
    "Lea el capítulo 10 del documento de introducción a R (`intro-R.pdf`) sobre cómo crear sus propias\n",
    "funciones, y con esto:"
   ]
  },
  {
   "cell_type": "markdown",
   "id": "c055b235",
   "metadata": {},
   "source": [
    "#### 1. Cree su propia función para estimar un modelo de regresión lineal en donde los inputs son: matriz $X$, vector $Y$, el vector $c$, la matriz $A$ (si se quiere hacer una prueba general con restricciones) y el vector de subíndices que se quieren incluir en la hipótesis nula de una prueba de significancia parcial. Puede usar como base las funciones vistas en clase, si lo prefiere."
   ]
  },
  {
   "cell_type": "markdown",
   "id": "b7f1d877",
   "metadata": {},
   "source": [
    "#### 2. La función debe tener una entrada binaria en la que el usuario decida si quiere hacer una prueba con restricciones generales o una significancia parcial."
   ]
  },
  {
   "cell_type": "markdown",
   "id": "209d252e",
   "metadata": {},
   "source": [
    "#### 3. La función debe dar como salida: la prueba de significancia global, las significancias individuales de cada uno de los betas (con pruebas de hipótesis o intervalos de confianza) y el resultado de la prueba asociada a $A$ o a los índices de los betas en la prueba parcial, incluyendo el _$p$-value_."
   ]
  },
  {
   "cell_type": "markdown",
   "id": "6bebc63d",
   "metadata": {},
   "source": [
    "#### 4. Póngale el nombre de su preferencia a la función, añádale los demás atributos que quiera y úsela a su conveniencia."
   ]
  },
  {
   "cell_type": "markdown",
   "id": "126c23be",
   "metadata": {},
   "source": [
    "Definimos la función, y la probamos a partir deun ejemplo sencillo con los datos de marketing del paquete `datarium`."
   ]
  },
  {
   "cell_type": "code",
   "execution_count": 1,
   "id": "44fddbb2",
   "metadata": {},
   "outputs": [],
   "source": [
    "hipotesis_tests <- function(X,\n",
    "                            y,\n",
    "                            partial_tests = FALSE,\n",
    "                            indices = NULL,\n",
    "                            A = NULL,\n",
    "                            c = NULL) {\n",
    "\n",
    "    p_val <- function(X, y, n, p, q, A, c) {\n",
    "\n",
    "        xtx <- t(X) %*% X\n",
    "        H <- solve(xtx)\n",
    "\n",
    "        beta_hat <- H %*% t(X) %*% y\n",
    "\n",
    "        y_hat <- X %*% beta_hat\n",
    "\n",
    "        s2 <- sum((y - y_hat) ^ 2) / (n - p)\n",
    "\n",
    "        beta_r <- beta_hat +\n",
    "                  (H %*% t(A)\n",
    "                   %*% solve(A %*% H %*% t(A))\n",
    "                   %*% (c - (A %*% beta_hat)))\n",
    "\n",
    "        ep <- (sum((y_hat - (X %*% beta_r)) ^ 2) / q) / s2\n",
    "\n",
    "        pvalue <- 1 - pf(ep, q, (n - p))\n",
    "\n",
    "        return(c(ep, pvalue))\n",
    "\n",
    "    }\n",
    "\n",
    "    result <- list()\n",
    "\n",
    "    if (!partial_tests) {\n",
    "\n",
    "        n <- nrow(X)\n",
    "        p <- ncol(X)\n",
    "        q <- nrow(A)\n",
    "\n",
    "        result$restricted <- paste(\"(ep, pvalue):\", p_val(X, y, n, p, q, A, c))\n",
    "\n",
    "    } else {\n",
    "\n",
    "        n <- nrow(X)\n",
    "        p <- ncol(X)\n",
    "\n",
    "        indices <- which(colnames(X) %in% indices)\n",
    "\n",
    "        q <- length(unique(indices))\n",
    "\n",
    "        A <- diag(1, p)[indices, ]\n",
    "        c <- matrix(rep(0, q), ncol = 1)\n",
    "\n",
    "        result$partial <- paste(\"(ep, pvalue):\", p_val(X, y, n, p, q, A, c))\n",
    "\n",
    "    }\n",
    "\n",
    "    n <- nrow(X)\n",
    "    p <- ncol(X)\n",
    "\n",
    "    q <- p - 1\n",
    "\n",
    "    A <- cbind(0, diag(1, q))\n",
    "    c <- matrix(0, nrow = q)\n",
    "\n",
    "    result$global <- paste(\"(ep, pvalue):\", p_val(X, y, n, p, q, A, c))\n",
    "\n",
    "    result$marginal <- list()\n",
    "\n",
    "    for(i in 2:p) {\n",
    "\n",
    "        result$marginal[[paste(\"marginal\", colnames(X)[i], sep = \"_\")]] <- paste(\"(ep, pvalue):\", p_val(X, y, n, p, q, A[i - 1, , drop = FALSE], c[i - 1, , drop = FALSE]))\n",
    "\n",
    "    }\n",
    "\n",
    "    return(result)\n",
    "\n",
    "}"
   ]
  },
  {
   "cell_type": "code",
   "execution_count": 2,
   "id": "6213c9e4-b833-4138-9c1c-513ebe854d7a",
   "metadata": {},
   "outputs": [
    {
     "name": "stdout",
     "output_type": "stream",
     "text": [
      "[1] \"Prueba parcial.\"\n"
     ]
    },
    {
     "data": {
      "text/html": [
       "<dl>\n",
       "\t<dt>$partial</dt>\n",
       "\t\t<dd><style>\n",
       ".list-inline {list-style: none; margin:0; padding: 0}\n",
       ".list-inline>li {display: inline-block}\n",
       ".list-inline>li:not(:last-child)::after {content: \"\\00b7\"; padding: 0 .5ex}\n",
       "</style>\n",
       "<ol class=list-inline><li>'(ep, pvalue): 805.714107187276'</li><li>'(ep, pvalue): 0'</li></ol>\n",
       "</dd>\n",
       "\t<dt>$global</dt>\n",
       "\t\t<dd><style>\n",
       ".list-inline {list-style: none; margin:0; padding: 0}\n",
       ".list-inline>li {display: inline-block}\n",
       ".list-inline>li:not(:last-child)::after {content: \"\\00b7\"; padding: 0 .5ex}\n",
       "</style>\n",
       "<ol class=list-inline><li>'(ep, pvalue): 570.270703659095'</li><li>'(ep, pvalue): 0'</li></ol>\n",
       "</dd>\n",
       "\t<dt>$marginal</dt>\n",
       "\t\t<dd><dl>\n",
       "\t<dt>$marginal_youtube</dt>\n",
       "\t\t<dd><style>\n",
       ".list-inline {list-style: none; margin:0; padding: 0}\n",
       ".list-inline>li {display: inline-block}\n",
       ".list-inline>li:not(:last-child)::after {content: \"\\00b7\"; padding: 0 .5ex}\n",
       "</style>\n",
       "<ol class=list-inline><li>'(ep, pvalue): 358.801945611961'</li><li>'(ep, pvalue): 0'</li></ol>\n",
       "</dd>\n",
       "\t<dt>$marginal_facebook</dt>\n",
       "\t\t<dd><style>\n",
       ".list-inline {list-style: none; margin:0; padding: 0}\n",
       ".list-inline>li {display: inline-block}\n",
       ".list-inline>li:not(:last-child)::after {content: \"\\00b7\"; padding: 0 .5ex}\n",
       "</style>\n",
       "<ol class=list-inline><li>'(ep, pvalue): 159.775056548176'</li><li>'(ep, pvalue): 0'</li></ol>\n",
       "</dd>\n",
       "\t<dt>$marginal_newspaper</dt>\n",
       "\t\t<dd><style>\n",
       ".list-inline {list-style: none; margin:0; padding: 0}\n",
       ".list-inline>li {display: inline-block}\n",
       ".list-inline>li:not(:last-child)::after {content: \"\\00b7\"; padding: 0 .5ex}\n",
       "</style>\n",
       "<ol class=list-inline><li>'(ep, pvalue): 0.0104093483677209'</li><li>'(ep, pvalue): 0.998540630496386'</li></ol>\n",
       "</dd>\n",
       "</dl>\n",
       "</dd>\n",
       "</dl>\n"
      ],
      "text/latex": [
       "\\begin{description}\n",
       "\\item[\\$partial] \\begin{enumerate*}\n",
       "\\item '(ep, pvalue): 805.714107187276'\n",
       "\\item '(ep, pvalue): 0'\n",
       "\\end{enumerate*}\n",
       "\n",
       "\\item[\\$global] \\begin{enumerate*}\n",
       "\\item '(ep, pvalue): 570.270703659095'\n",
       "\\item '(ep, pvalue): 0'\n",
       "\\end{enumerate*}\n",
       "\n",
       "\\item[\\$marginal] \\begin{description}\n",
       "\\item[\\$marginal\\_youtube] \\begin{enumerate*}\n",
       "\\item '(ep, pvalue): 358.801945611961'\n",
       "\\item '(ep, pvalue): 0'\n",
       "\\end{enumerate*}\n",
       "\n",
       "\\item[\\$marginal\\_facebook] \\begin{enumerate*}\n",
       "\\item '(ep, pvalue): 159.775056548176'\n",
       "\\item '(ep, pvalue): 0'\n",
       "\\end{enumerate*}\n",
       "\n",
       "\\item[\\$marginal\\_newspaper] \\begin{enumerate*}\n",
       "\\item '(ep, pvalue): 0.0104093483677209'\n",
       "\\item '(ep, pvalue): 0.998540630496386'\n",
       "\\end{enumerate*}\n",
       "\n",
       "\\end{description}\n",
       "\n",
       "\\end{description}\n"
      ],
      "text/markdown": [
       "$partial\n",
       ":   1. '(ep, pvalue): 805.714107187276'\n",
       "2. '(ep, pvalue): 0'\n",
       "\n",
       "\n",
       "\n",
       "$global\n",
       ":   1. '(ep, pvalue): 570.270703659095'\n",
       "2. '(ep, pvalue): 0'\n",
       "\n",
       "\n",
       "\n",
       "$marginal\n",
       ":   $marginal_youtube\n",
       ":   1. '(ep, pvalue): 358.801945611961'\n",
       "2. '(ep, pvalue): 0'\n",
       "\n",
       "\n",
       "\n",
       "$marginal_facebook\n",
       ":   1. '(ep, pvalue): 159.775056548176'\n",
       "2. '(ep, pvalue): 0'\n",
       "\n",
       "\n",
       "\n",
       "$marginal_newspaper\n",
       ":   1. '(ep, pvalue): 0.0104093483677209'\n",
       "2. '(ep, pvalue): 0.998540630496386'\n",
       "\n",
       "\n",
       "\n",
       "\n",
       "\n",
       "\n",
       "\n",
       "\n"
      ],
      "text/plain": [
       "$partial\n",
       "[1] \"(ep, pvalue): 805.714107187276\" \"(ep, pvalue): 0\"               \n",
       "\n",
       "$global\n",
       "[1] \"(ep, pvalue): 570.270703659095\" \"(ep, pvalue): 0\"               \n",
       "\n",
       "$marginal\n",
       "$marginal$marginal_youtube\n",
       "[1] \"(ep, pvalue): 358.801945611961\" \"(ep, pvalue): 0\"               \n",
       "\n",
       "$marginal$marginal_facebook\n",
       "[1] \"(ep, pvalue): 159.775056548176\" \"(ep, pvalue): 0\"               \n",
       "\n",
       "$marginal$marginal_newspaper\n",
       "[1] \"(ep, pvalue): 0.0104093483677209\" \"(ep, pvalue): 0.998540630496386\" \n",
       "\n"
      ]
     },
     "metadata": {},
     "output_type": "display_data"
    },
    {
     "name": "stdout",
     "output_type": "stream",
     "text": [
      "[1] \"Prueba restringida.\"\n"
     ]
    },
    {
     "data": {
      "text/html": [
       "<dl>\n",
       "\t<dt>$restricted</dt>\n",
       "\t\t<dd><style>\n",
       ".list-inline {list-style: none; margin:0; padding: 0}\n",
       ".list-inline>li {display: inline-block}\n",
       ".list-inline>li:not(:last-child)::after {content: \"\\00b7\"; padding: 0 .5ex}\n",
       "</style>\n",
       "<ol class=list-inline><li>'(ep, pvalue): 264.724159608646'</li><li>'(ep, pvalue): 0'</li></ol>\n",
       "</dd>\n",
       "\t<dt>$global</dt>\n",
       "\t\t<dd><style>\n",
       ".list-inline {list-style: none; margin:0; padding: 0}\n",
       ".list-inline>li {display: inline-block}\n",
       ".list-inline>li:not(:last-child)::after {content: \"\\00b7\"; padding: 0 .5ex}\n",
       "</style>\n",
       "<ol class=list-inline><li>'(ep, pvalue): 570.270703659095'</li><li>'(ep, pvalue): 0'</li></ol>\n",
       "</dd>\n",
       "\t<dt>$marginal</dt>\n",
       "\t\t<dd><dl>\n",
       "\t<dt>$marginal_youtube</dt>\n",
       "\t\t<dd><style>\n",
       ".list-inline {list-style: none; margin:0; padding: 0}\n",
       ".list-inline>li {display: inline-block}\n",
       ".list-inline>li:not(:last-child)::after {content: \"\\00b7\"; padding: 0 .5ex}\n",
       "</style>\n",
       "<ol class=list-inline><li>'(ep, pvalue): 358.801945611961'</li><li>'(ep, pvalue): 0'</li></ol>\n",
       "</dd>\n",
       "\t<dt>$marginal_facebook</dt>\n",
       "\t\t<dd><style>\n",
       ".list-inline {list-style: none; margin:0; padding: 0}\n",
       ".list-inline>li {display: inline-block}\n",
       ".list-inline>li:not(:last-child)::after {content: \"\\00b7\"; padding: 0 .5ex}\n",
       "</style>\n",
       "<ol class=list-inline><li>'(ep, pvalue): 159.775056548176'</li><li>'(ep, pvalue): 0'</li></ol>\n",
       "</dd>\n",
       "\t<dt>$marginal_newspaper</dt>\n",
       "\t\t<dd><style>\n",
       ".list-inline {list-style: none; margin:0; padding: 0}\n",
       ".list-inline>li {display: inline-block}\n",
       ".list-inline>li:not(:last-child)::after {content: \"\\00b7\"; padding: 0 .5ex}\n",
       "</style>\n",
       "<ol class=list-inline><li>'(ep, pvalue): 0.0104093483677209'</li><li>'(ep, pvalue): 0.998540630496386'</li></ol>\n",
       "</dd>\n",
       "</dl>\n",
       "</dd>\n",
       "</dl>\n"
      ],
      "text/latex": [
       "\\begin{description}\n",
       "\\item[\\$restricted] \\begin{enumerate*}\n",
       "\\item '(ep, pvalue): 264.724159608646'\n",
       "\\item '(ep, pvalue): 0'\n",
       "\\end{enumerate*}\n",
       "\n",
       "\\item[\\$global] \\begin{enumerate*}\n",
       "\\item '(ep, pvalue): 570.270703659095'\n",
       "\\item '(ep, pvalue): 0'\n",
       "\\end{enumerate*}\n",
       "\n",
       "\\item[\\$marginal] \\begin{description}\n",
       "\\item[\\$marginal\\_youtube] \\begin{enumerate*}\n",
       "\\item '(ep, pvalue): 358.801945611961'\n",
       "\\item '(ep, pvalue): 0'\n",
       "\\end{enumerate*}\n",
       "\n",
       "\\item[\\$marginal\\_facebook] \\begin{enumerate*}\n",
       "\\item '(ep, pvalue): 159.775056548176'\n",
       "\\item '(ep, pvalue): 0'\n",
       "\\end{enumerate*}\n",
       "\n",
       "\\item[\\$marginal\\_newspaper] \\begin{enumerate*}\n",
       "\\item '(ep, pvalue): 0.0104093483677209'\n",
       "\\item '(ep, pvalue): 0.998540630496386'\n",
       "\\end{enumerate*}\n",
       "\n",
       "\\end{description}\n",
       "\n",
       "\\end{description}\n"
      ],
      "text/markdown": [
       "$restricted\n",
       ":   1. '(ep, pvalue): 264.724159608646'\n",
       "2. '(ep, pvalue): 0'\n",
       "\n",
       "\n",
       "\n",
       "$global\n",
       ":   1. '(ep, pvalue): 570.270703659095'\n",
       "2. '(ep, pvalue): 0'\n",
       "\n",
       "\n",
       "\n",
       "$marginal\n",
       ":   $marginal_youtube\n",
       ":   1. '(ep, pvalue): 358.801945611961'\n",
       "2. '(ep, pvalue): 0'\n",
       "\n",
       "\n",
       "\n",
       "$marginal_facebook\n",
       ":   1. '(ep, pvalue): 159.775056548176'\n",
       "2. '(ep, pvalue): 0'\n",
       "\n",
       "\n",
       "\n",
       "$marginal_newspaper\n",
       ":   1. '(ep, pvalue): 0.0104093483677209'\n",
       "2. '(ep, pvalue): 0.998540630496386'\n",
       "\n",
       "\n",
       "\n",
       "\n",
       "\n",
       "\n",
       "\n",
       "\n"
      ],
      "text/plain": [
       "$restricted\n",
       "[1] \"(ep, pvalue): 264.724159608646\" \"(ep, pvalue): 0\"               \n",
       "\n",
       "$global\n",
       "[1] \"(ep, pvalue): 570.270703659095\" \"(ep, pvalue): 0\"               \n",
       "\n",
       "$marginal\n",
       "$marginal$marginal_youtube\n",
       "[1] \"(ep, pvalue): 358.801945611961\" \"(ep, pvalue): 0\"               \n",
       "\n",
       "$marginal$marginal_facebook\n",
       "[1] \"(ep, pvalue): 159.775056548176\" \"(ep, pvalue): 0\"               \n",
       "\n",
       "$marginal$marginal_newspaper\n",
       "[1] \"(ep, pvalue): 0.0104093483677209\" \"(ep, pvalue): 0.998540630496386\" \n",
       "\n"
      ]
     },
     "metadata": {},
     "output_type": "display_data"
    }
   ],
   "source": [
    "data(\"marketing\", package = \"datarium\")\n",
    "\n",
    "X <- marketing[, c(\"youtube\", \"facebook\", \"newspaper\")]\n",
    "X <- as.matrix(cbind(1, X))\n",
    "y <- as.matrix(marketing[\"sales\"])\n",
    "\n",
    "# Partial (facebook = youtube = 0):\n",
    "print(\"Prueba parcial.\")\n",
    "hipotesis_tests(X = X, y = y, partial_tests = TRUE,\n",
    "                indices = c(\"facebook\", \"youtube\"))\n",
    "\n",
    "# Compund (facebook = youtube):\n",
    "print(\"Prueba restringida.\")\n",
    "A <- matrix(c(0, 1, -1, 0), nrow = 1)\n",
    "c <- matrix(0)\n",
    "hipotesis_tests(X, y, partial_tests = FALSE, A = A, c = c)\n"
   ]
  },
  {
   "cell_type": "markdown",
   "id": "8ed858de",
   "metadata": {},
   "source": [
    "### Problema 2. Visualizando las regiones de confianza."
   ]
  },
  {
   "cell_type": "markdown",
   "id": "1888b340",
   "metadata": {},
   "source": [
    "Hasta ahora sabemos hacer intervalos de confianza asociados a cada uno de los parámetros $\\beta_{j}$ para $j = 0, 1, \\cdots , k$. Sin embargo, estos están relacionados a pruebas individuales, con conjuntas. Para solucionar esto, vamos a hacer regiones conjuntas de confianza para pares de parámetros. Para esto, tenga en cuenta que cada par de estimadores $\\hat{\\beta}_{i}$ y $\\hat{\\beta}_{i}$ para $i, j \\in \\{0, . . . , k\\}$ se distribuyen como un vector normal bivariado (revisar las propiedades de la distribución normal multivariada), Esto es:\n",
    "\n",
    "$$\n",
    "  \\left( \\hat{\\beta}_{i}, \\hat{\\beta}_{i}\\right)^{T} \\sim \\mathcal{N}_{2}\\left(\\left( \\beta_{i}, \\beta_{i}\\right)^{T}, \\sigma^{2}\\textbf{W}_{ij}\\right).\n",
    "$$"
   ]
  },
  {
   "cell_type": "markdown",
   "id": "ed5447c5",
   "metadata": {},
   "source": [
    "Donde la matriz $\\textbf{W}_{ij}$ corresponde a los elementos correspondientes a las varianza y covarianza, esto es:\n",
    "\n",
    "$$\n",
    "  \\textbf{W}_{ij} =\n",
    "  \\begin{bmatrix}\n",
    "    h_{ii} & h_{ij}\\\\\n",
    "    h_{ij} & h_{jj}\n",
    "  \\end{bmatrix}.\n",
    "$$"
   ]
  },
  {
   "cell_type": "markdown",
   "id": "48788d08",
   "metadata": {},
   "source": [
    "Para construir el la región de confianza siga los siguientes pasos:"
   ]
  },
  {
   "cell_type": "markdown",
   "id": "784a9db4",
   "metadata": {},
   "source": [
    "#### 1. Determine la distribución de:\n",
    "\n",
    "$$\n",
    "  \\sigma^{-1}\\textbf{W}_{ij}^{-\\frac{1}{2}}\n",
    "  \\begin{bmatrix}\n",
    "    \\hat{\\beta}_{i} - \\beta_{i}\\\\\n",
    "    \\hat{\\beta}_{j} - \\beta_{j}\n",
    "  \\end{bmatrix}\n",
    "$$"
   ]
  },
  {
   "cell_type": "markdown",
   "id": "46ec10d4",
   "metadata": {},
   "source": [
    "Llegamos a la expresión deseada, estandarizando los estimadores. Estandarizar las distribuciones marginales también estandariza la distribución conjunta.\n",
    "\n",
    "\\begin{align*}\n",
    "  \\begin{bmatrix}\n",
    "    \\hat{\\beta}_{i}\\\\\n",
    "    \\hat{\\beta}_{j}\n",
    "  \\end{bmatrix} &\\sim \\mathcal{N}_{2}\\left(\n",
    "  \\begin{bmatrix}\n",
    "    \\beta_{i}\\\\\n",
    "    \\beta_{j}\n",
    "  \\end{bmatrix}, \\sigma^{2}\\textbf{W}_{ij}\\right) \\\\\n",
    "  \\begin{bmatrix}\n",
    "    \\hat{\\beta}_{i} - \\beta_{i} \\\\\n",
    "    \\hat{\\beta}_{j} - \\beta_{j}\n",
    "  \\end{bmatrix} &\\sim \\mathcal{N}_{2}\\left(\n",
    "  \\begin{bmatrix}\n",
    "    0\\\\\n",
    "    0\n",
    "  \\end{bmatrix}, \\sigma^{2}\\textbf{W}_{ij}\\right)\n",
    "\\end{align*}"
   ]
  },
  {
   "cell_type": "markdown",
   "id": "9ae315a2",
   "metadata": {},
   "source": [
    "$$\n",
    "  \\left[ \\sigma^{2}\\textbf{W}_{ij} \\right]^{-\\frac{1}{2}}\n",
    "  \\begin{bmatrix}\n",
    "    \\hat{\\beta}_{i} - \\beta_{i}\\\\\n",
    "    \\hat{\\beta}_{j} - \\beta_{j}\n",
    "  \\end{bmatrix}\n",
    "  = \\sigma^{-1}\\textbf{W}_{ij}^{-\\frac{1}{2}}\n",
    "  \\begin{bmatrix}\n",
    "    \\hat{\\beta}_{i} - \\beta_{i}\\\\\n",
    "    \\hat{\\beta}_{j} - \\beta_{j}\n",
    "  \\end{bmatrix}\n",
    "  \\sim \\mathcal{N}_{2}\\left(\n",
    "  \\begin{bmatrix}\n",
    "    0\\\\\n",
    "    0\n",
    "  \\end{bmatrix},\n",
    "  \\begin{bmatrix}\n",
    "    1 & 0\\\\\n",
    "    0 & 1\n",
    "  \\end{bmatrix}\\right).\n",
    "$$\n",
    "\n",
    "La expresión se distribuye normal estándar bivariada."
   ]
  },
  {
   "cell_type": "markdown",
   "id": "9241398a",
   "metadata": {},
   "source": [
    "#### 2. Determine la distribución de:\n",
    "\n",
    "$$\n",
    "  \\sigma^{-2}\n",
    "  \\begin{bmatrix}\n",
    "    \\hat{\\beta}_{i} - \\beta_{i}\\\\\n",
    "    \\hat{\\beta}_{j} - \\beta_{j}\n",
    "  \\end{bmatrix}^{T}\n",
    "  \\textbf{W}_{ij}^{-1}\n",
    "  \\begin{bmatrix}\n",
    "    \\hat{\\beta}_{i} - \\beta_{i}\\\\\n",
    "    \\hat{\\beta}_{j} - \\beta_{j}\n",
    "  \\end{bmatrix}\n",
    "$$"
   ]
  },
  {
   "cell_type": "markdown",
   "id": "b5823cf1",
   "metadata": {},
   "source": [
    "Usaremos la propiedad de simetría de la matriz $\\textbf{W}_{ij}$: $\\left[\\textbf{W}_{ij}\\right]^{T} = \\textbf{W}_{ij}$."
   ]
  },
  {
   "cell_type": "markdown",
   "id": "5a5b623f",
   "metadata": {},
   "source": [
    "Tomamos dos características que demostramos en la tarea anterior. Si $Y\\sim\\mathcal{N}(0,1)$, entonces:\n",
    "\n",
    "-   $Y^{2}\\sim\\chi^{2}(1)$, y\n",
    "-   $\\sum_{i = 1}^{n}Y_{i}^{2}\\sim\\chi^{2}(n)$."
   ]
  },
  {
   "cell_type": "markdown",
   "id": "270014f0",
   "metadata": {},
   "source": [
    "Por lo mismo, podemos ver que si $\\begin{bmatrix} Y_{1} \\\\ Y_{2} \\end{bmatrix} \\sim \\mathcal{N}_{2}(0,1)$, entonces:\n",
    "\n",
    "$$\n",
    "  \\begin{bmatrix} Y_{1} \\\\ Y_{2} \\end{bmatrix} ^{2} = \\begin{bmatrix} Y_{1} & Y_{2} \\end{bmatrix}\\begin{bmatrix} Y_{1} \\\\ Y_{2} \\end{bmatrix} = Y_{1}^{2} + Y_{2}^{2} = \\sum_{i = 1}^{2} Y_{i}^{2} \\sim \\chi^{2}(2).\n",
    "$$"
   ]
  },
  {
   "cell_type": "markdown",
   "id": "bf62e034",
   "metadata": {},
   "source": [
    "La consecuencia de esta propiedad es que:\n",
    "\n",
    "$$\n",
    "  \\left[\\sigma^{-1}\\textbf{W}_{ij}^{-\\frac{1}{2}}\n",
    "  \\begin{bmatrix}\n",
    "    \\hat{\\beta}_{i} - \\beta_{i}\\\\\n",
    "    \\hat{\\beta}_{j} - \\beta_{j}\n",
    "  \\end{bmatrix}\\right]^{2} \\sim \\chi^{2}(2).\n",
    "$$"
   ]
  },
  {
   "cell_type": "markdown",
   "id": "8fdbfcd3",
   "metadata": {},
   "source": [
    "Desarrollamos esta propiedad hasta alcanzar la expresión deseada.\n",
    "\n",
    "\n",
    "\\begin{align*}\n",
    "  \\left[\\sigma^{-1}\\textbf{W}_{ij}^{-\\frac{1}{2}}\n",
    "  \\begin{bmatrix}\n",
    "    \\hat{\\beta}_{i} - \\beta_{i}\\\\\n",
    "    \\hat{\\beta}_{j} - \\beta_{j}\n",
    "  \\end{bmatrix}\\right]^{2} &=\n",
    "  \\left[\\sigma^{-1}\\textbf{W}_{ij}^{-\\frac{1}{2}}\n",
    "  \\begin{bmatrix}\n",
    "    \\hat{\\beta}_{i} - \\beta_{i}\\\\\n",
    "    \\hat{\\beta}_{j} - \\beta_{j}\n",
    "  \\end{bmatrix}\\right]^{T} \\left[\\sigma^{-1}\\textbf{W}_{ij}^{-\\frac{1}{2}}\n",
    "  \\begin{bmatrix}\n",
    "    \\hat{\\beta}_{i} - \\beta_{i}\\\\\n",
    "    \\hat{\\beta}_{j} - \\beta_{j}\n",
    "  \\end{bmatrix}\\right] \\\\\n",
    "  &= \\sigma^{-2}\n",
    "  \\begin{bmatrix}\n",
    "    \\hat{\\beta}_{i} - \\beta_{i}\\\\\n",
    "    \\hat{\\beta}_{j} - \\beta_{j}\n",
    "  \\end{bmatrix}^{T} \\left[\\textbf{W}_{ij}^{-\\frac{1}{2}}\\right]^{T} \\left[\\textbf{W}_{ij}^{-\\frac{1}{2}}\n",
    "  \\begin{bmatrix}\n",
    "    \\hat{\\beta}_{i} - \\beta_{i}\\\\\n",
    "    \\hat{\\beta}_{j} - \\beta_{j}\n",
    "  \\end{bmatrix}\\right] \\\\\n",
    "  &= \\sigma^{-2}\n",
    "  \\begin{bmatrix}\n",
    "    \\hat{\\beta}_{i} - \\beta_{i}\\\\\n",
    "    \\hat{\\beta}_{j} - \\beta_{j}\n",
    "  \\end{bmatrix}^{T} \\textbf{W}_{ij}^{-1}\n",
    "  \\begin{bmatrix}\n",
    "    \\hat{\\beta}_{i} - \\beta_{i}\\\\\n",
    "    \\hat{\\beta}_{j} - \\beta_{j}\n",
    "  \\end{bmatrix} \\sim \\chi^{2}(2).\n",
    "\\end{align*}"
   ]
  },
  {
   "cell_type": "markdown",
   "id": "9545a0b7",
   "metadata": {},
   "source": [
    "#### 3. Como la varianza del error ($\\sigma^{2}$) no se conoce, determine la distribución de:\n",
    "\n",
    "$$\n",
    "  \\left(\\frac{1}{2\\cdot MSE}\\right)\n",
    "  \\begin{bmatrix}\n",
    "    \\hat{\\beta}_{i} - \\beta_{i}\\\\\n",
    "    \\hat{\\beta}_{j} - \\beta_{j}\n",
    "  \\end{bmatrix}^{T}\n",
    "  \\textbf{W}_{ij}^{-1}\n",
    "  \\begin{bmatrix}\n",
    "    \\hat{\\beta}_{i} - \\beta_{i}\\\\\n",
    "    \\hat{\\beta}_{j} - \\beta_{j}\n",
    "  \\end{bmatrix}\n",
    "$$"
   ]
  },
  {
   "cell_type": "markdown",
   "id": "4c6be663",
   "metadata": {},
   "source": [
    "Por el teorema de Cochran, $\\frac{SSE}{\\sigma^{2}}\\sim\\chi^{2}(n-2)$.\n",
    "\n",
    "Sean $S_{1} \\sim \\chi^{2}(d_{1})$ y $S_{2} \\sim \\chi^{2}(d_{2})$, entonces $\\frac{S_{1}/d_{1}}{S_{2}/d_{2}} \\sim F(d_{1}, d_{2})$."
   ]
  },
  {
   "cell_type": "markdown",
   "id": "cd2408b7",
   "metadata": {},
   "source": [
    "Construimos una distribución $F$ de la misma manera:\n",
    "\n",
    "$$\n",
    "  S_{1} := \\sigma^{-2}\n",
    "  \\begin{bmatrix}\n",
    "    \\hat{\\beta}_{i} - \\beta_{i}\\\\\n",
    "    \\hat{\\beta}_{j} - \\beta_{j}\n",
    "  \\end{bmatrix}^{T} \\textbf{W}_{ij}^{-1}\n",
    "  \\begin{bmatrix}\n",
    "    \\hat{\\beta}_{i} - \\beta_{i}\\\\\n",
    "    \\hat{\\beta}_{j} - \\beta_{j}\n",
    "  \\end{bmatrix}.\\\\\n",
    "  S_{1}\\sim \\chi^{2}(2) \\implies d_{1} = 2.\n",
    "$$"
   ]
  },
  {
   "cell_type": "markdown",
   "id": "accac2d3",
   "metadata": {},
   "source": [
    "$$\n",
    "  S_{2} := \\frac{SSE}{\\sigma^{2}}. \\\\\n",
    "  S_{2} \\sim \\chi^{2}(n-2) \\Rightarrow d_{2} = n-2.\n",
    "$$"
   ]
  },
  {
   "cell_type": "markdown",
   "id": "7cc4e002",
   "metadata": {},
   "source": [
    "$$\n",
    "  \\frac{\\sigma^{-2}\n",
    "  \\begin{bmatrix}\n",
    "    \\hat{\\beta}_{i} - \\beta_{i}\\\\\n",
    "    \\hat{\\beta}_{j} - \\beta_{j}\n",
    "  \\end{bmatrix}^{T} \\textbf{W}_{ij}^{-1}\n",
    "  \\begin{bmatrix}\n",
    "    \\hat{\\beta}_{i} - \\beta_{i}\\\\\n",
    "    \\hat{\\beta}_{j} - \\beta_{j}\n",
    "  \\end{bmatrix} / 2}{\\frac{SSE}{\\sigma^{2}} / (n-2)} \\sim F(2, n-2).\n",
    "$$"
   ]
  },
  {
   "cell_type": "markdown",
   "id": "66f96919",
   "metadata": {},
   "source": [
    "$$\n",
    "  \\frac{\\sigma^{-2}\n",
    "  \\begin{bmatrix}\n",
    "    \\hat{\\beta}_{i} - \\beta_{i}\\\\\n",
    "    \\hat{\\beta}_{j} - \\beta_{j}\n",
    "  \\end{bmatrix}^{T} \\textbf{W}_{ij}^{-1}\n",
    "  \\begin{bmatrix}\n",
    "    \\hat{\\beta}_{i} - \\beta_{i}\\\\\n",
    "    \\hat{\\beta}_{j} - \\beta_{j}\n",
    "  \\end{bmatrix} / 2}{\\frac{SSE}{\\sigma^{2}} / (n-2)} = \n",
    "  \\frac{\\begin{bmatrix}\n",
    "    \\hat{\\beta}_{i} - \\beta_{i}\\\\\n",
    "    \\hat{\\beta}_{j} - \\beta_{j}\n",
    "  \\end{bmatrix}^{T}\n",
    "  \\textbf{W}_{ij}^{-1}\n",
    "  \\begin{bmatrix}\n",
    "    \\hat{\\beta}_{i} - \\beta_{i}\\\\\n",
    "    \\hat{\\beta}_{j} - \\beta_{j}\n",
    "  \\end{bmatrix}}{2\\cdot MSE}.\n",
    "$$"
   ]
  },
  {
   "cell_type": "markdown",
   "id": "919b16fc",
   "metadata": {},
   "source": [
    "#### 4. Use la expresión del numeral anterior para definir una región (en este caso una elipse) que forma una región bidimensional con una confianza de $1-\\alpha$."
   ]
  },
  {
   "cell_type": "markdown",
   "id": "b11d0c98",
   "metadata": {},
   "source": [
    "Suponemos un intervalo de confianza conjunto sobre el estadístico F de cola superior.\n",
    "\n",
    "La expresión del literal anterior define la forma cuadrática:\n",
    "\\begin{align*}\n",
    "  f\\left(\\beta_{i},\\beta_{j}\\right) &= \\frac{\\begin{bmatrix}\n",
    "      \\hat{\\beta}_{i} - \\beta_{i}\\\\\n",
    "      \\hat{\\beta}_{j} - \\beta_{j}\n",
    "    \\end{bmatrix}^{T}\n",
    "    \\textbf{W}_{ij}^{-1}\n",
    "    \\begin{bmatrix}\n",
    "      \\hat{\\beta}_{i} - \\beta_{i}\\\\\n",
    "      \\hat{\\beta}_{j} - \\beta_{j}\n",
    "    \\end{bmatrix}}{2\\cdot MSE} \\\\ \n",
    "    &= \\frac{h_{jj}\\left( \\hat{\\beta}_{i} -\\beta_{i}\\right)^{2} - 2h_{ij}\\left( \\hat{\\beta}_{i} -\\beta_{i}\\right)\\left( \\hat{\\beta}_{j} -\\beta_{j}\\right) + h_{ii}\\left( \\hat{\\beta}_{j} -\\beta_{j}\\right)^{2}}{2 \\cdot (h_{ii}h_{jj}-h_{ij}^{2}) \\cdot MSE} \\\\\n",
    "\\end{align*}"
   ]
  },
  {
   "cell_type": "markdown",
   "id": "00e2a19c",
   "metadata": {},
   "source": [
    "Si se acota de la siguiente manera, esta forma cuadrática describe una región que satisface el intervalo de confianza en forma de elipse:\n",
    "\n",
    "$$\n",
    "\\frac{h_{jj}\\left( \\hat{\\beta}_{i} -\\beta_{i}\\right)^{2} - 2h_{ij}\\left( \\hat{\\beta}_{i} -\\beta_{i}\\right)\\left( \\hat{\\beta}_{j} -\\beta_{j}\\right) + h_{ii}\\left( \\hat{\\beta}_{j} -\\beta_{j}\\right)^{2}}{2 \\cdot (h_{ii}h_{jj}-h_{ij}^{2}) \\cdot MSE} \\leq F_{1-\\alpha}(2,n-2).\n",
    "$$"
   ]
  },
  {
   "cell_type": "markdown",
   "id": "389fc272",
   "metadata": {},
   "source": [
    "Expandimos la forma cuadrática hasta llegar a la forma general: $ax^{2} + by^{2} + cxy + dx + ey + f \\leq 0$. Esto nos va a permitir graficar la elipse de manera más sencilla ya que conoceerémos la longitud de sus ejes y cuanto espacio debería ocupar en el gráfico.\n",
    "\n",
    "$$\n",
    "  h_{jj}\\left( \\hat{\\beta}_{i}^{2} - 2\\hat{\\beta}_{i}\\beta_{i} + \\beta_{i}^{2}\\right) - 2h_{ij}\\left( \\hat{\\beta}_{i}\\hat{\\beta}_{j} + \\beta_{i}\\beta_{j} - \\hat{\\beta}_{i}\\beta_{j} - \\hat{\\beta}_{j}\\beta_{i} \\right) + h_{ii}\\left( \\hat{\\beta}_{j}^{2} - 2\\hat{\\beta}_{j}\\beta_{j} + \\beta_{j}^{2}\\right) \\leq 2 \\cdot (h_{ii}h_{jj}-h_{ij}^{2}) \\cdot MSE \\cdot F_{1-\\alpha}(2,n-2)\\\\\n",
    "  h_{jj}\\beta_{i}^{2} + h_{ii}\\beta_{j}^{2} - 2h_{ij}\\beta_{i}\\beta_{j} + \\left(2h_{ij}\\hat{\\beta}_{j} - 2h_{jj}\\hat{\\beta}_{i}\\right)\\beta_{i} + \\left(2h_{ij}\\hat{\\beta}_{i} - 2h_{ii}\\hat{\\beta}_{j}\\right)\\beta_{j} - 2h_{ij}\\hat{\\beta}_{i}\\hat{\\beta}_{j} + h_{jj}\\hat{\\beta}_{i}^{2} + h_{ii}\\hat{\\beta}_{j}^{2} - 2 \\cdot (h_{ii}h_{jj}-h_{ij}^{2}) \\cdot MSE \\cdot F_{1-\\alpha}(2,n-2) \\leq 0.\n",
    "$$"
   ]
  },
  {
   "cell_type": "markdown",
   "id": "13e78f48",
   "metadata": {},
   "source": [
    "En esta región, $F_{1 - \\alpha}(2,n-2)$ es el percentil para un porcentaje $\\alpha$ de cola izquierda de una distribución $F(2,n-2)$."
   ]
  },
  {
   "cell_type": "markdown",
   "id": "d7d5f6f3",
   "metadata": {},
   "source": [
    "#### 5 & 6. Investigue la función contour de R, y úsela para graficar la región (elipse) de confianza dados los valores $\\hat{\\beta}_{i}$, $\\hat{\\beta}_{j}$, $\\textbf{W}_{ij}$ y el $MSE$. Puede usar cualquier otra función que considere pertinente para graficar. Cree una función donde los inputs son los datos X, Y, el nivel de significancia ($\\alpha$) y el par de parámetros betas (por ejemplo $\\beta_{1}$ y $\\beta_{3}$). Como resultado de la función, se debe producir un gráfico con la elipse de confianza para los dos parámetros seleccionados."
   ]
  },
  {
   "cell_type": "code",
   "execution_count": 3,
   "id": "f45e394f",
   "metadata": {},
   "outputs": [],
   "source": [
    "# Los parámetros alpha y n son desconocidos y deberían ser registrados por el usuario.\n",
    "# Sus valores por defecto son para poder correr la función con instancias de prueba.\n",
    "ellipse_contour <- function(beta_hat_i, beta_hat_j, W_ij, MSE, alpha = 0.05, n = 1000){\n",
    "  # Producimos los parámetros de la forma general de la elipse (a * x ^ 2 + b * y ^ 2 + c * x * y + d * x + e * y + f < 0).\n",
    "  a <- W_ij[2, 2]\n",
    "  b <- W_ij[1, 1]\n",
    "  c <- -2*W_ij[1,2]\n",
    "  d <- 2*W_ij[1,2]*beta_hat_j - 2*W_ij[2,2]*beta_hat_i\n",
    "  e <- 2*W_ij[1,2]*beta_hat_i - 2*W_ij[1,1]*beta_hat_j\n",
    "  f <- -2*W_ij[1,2]*beta_hat_i*beta_hat_j + W_ij[2,2]*beta_hat_i^2 + W_ij[1,1]*beta_hat_j^2 - 2*(W_ij[1,1]*W_ij[2,2] - W_ij[1,2]^2) * MSE * qf(1-alpha, 2, n-2)\n",
    "\n",
    "  # Definimos una función que grafica elipses a partir de sus parámetros.\n",
    "  plot.ellipse <- function (a, b, c, d, e, f, n) {\n",
    "    ## solve for centre\n",
    "    A <- matrix(c(a, c / 2, c / 2, b), 2L)\n",
    "    B <- c(-d / 2, -e / 2)\n",
    "    mu <- solve(A, B)\n",
    "    ## generate points on circle\n",
    "    r <- sqrt(a * mu[1] ^ 2 + b * mu[2] ^ 2 + c * mu[1] * mu[2] - f)\n",
    "    theta <- seq(0, 2 * pi, length = n)\n",
    "    v <- rbind(r * cos(theta), r * sin(theta))\n",
    "    ## transform for points on ellipse\n",
    "    z <- backsolve(chol(A), v) + mu\n",
    "    ## plot points\n",
    "    plot(t(z), type = \"l\")\n",
    "  }\n",
    "\n",
    "  # Graficamos la elipse.\n",
    "  plot.ellipse(a, b, c, d, e, f, n)\n",
    "}"
   ]
  },
  {
   "cell_type": "markdown",
   "id": "00eeb74a",
   "metadata": {},
   "source": [
    "Hacemos un ejemplo sencillo con los datos de marketing del paquete `datarium`. Para estos datos vamos a computar la matriz de covarianzas de los beta seleccionados y el MSE del modelo. Haremos este procedimiento según los lineamientos del literal 6."
   ]
  },
  {
   "cell_type": "code",
   "execution_count": 4,
   "id": "6d970ed9",
   "metadata": {},
   "outputs": [
    {
     "data": {
      "text/html": [
       "<table class=\"dataframe\">\n",
       "<caption>A data.frame: 6 × 4</caption>\n",
       "<thead>\n",
       "\t<tr><th></th><th scope=col>youtube</th><th scope=col>facebook</th><th scope=col>newspaper</th><th scope=col>sales</th></tr>\n",
       "\t<tr><th></th><th scope=col>&lt;dbl&gt;</th><th scope=col>&lt;dbl&gt;</th><th scope=col>&lt;dbl&gt;</th><th scope=col>&lt;dbl&gt;</th></tr>\n",
       "</thead>\n",
       "<tbody>\n",
       "\t<tr><th scope=row>1</th><td>276.12</td><td>45.36</td><td>83.04</td><td>26.52</td></tr>\n",
       "\t<tr><th scope=row>2</th><td> 53.40</td><td>47.16</td><td>54.12</td><td>12.48</td></tr>\n",
       "\t<tr><th scope=row>3</th><td> 20.64</td><td>55.08</td><td>83.16</td><td>11.16</td></tr>\n",
       "\t<tr><th scope=row>4</th><td>181.80</td><td>49.56</td><td>70.20</td><td>22.20</td></tr>\n",
       "\t<tr><th scope=row>5</th><td>216.96</td><td>12.96</td><td>70.08</td><td>15.48</td></tr>\n",
       "\t<tr><th scope=row>6</th><td> 10.44</td><td>58.68</td><td>90.00</td><td> 8.64</td></tr>\n",
       "</tbody>\n",
       "</table>\n"
      ],
      "text/latex": [
       "A data.frame: 6 × 4\n",
       "\\begin{tabular}{r|llll}\n",
       "  & youtube & facebook & newspaper & sales\\\\\n",
       "  & <dbl> & <dbl> & <dbl> & <dbl>\\\\\n",
       "\\hline\n",
       "\t1 & 276.12 & 45.36 & 83.04 & 26.52\\\\\n",
       "\t2 &  53.40 & 47.16 & 54.12 & 12.48\\\\\n",
       "\t3 &  20.64 & 55.08 & 83.16 & 11.16\\\\\n",
       "\t4 & 181.80 & 49.56 & 70.20 & 22.20\\\\\n",
       "\t5 & 216.96 & 12.96 & 70.08 & 15.48\\\\\n",
       "\t6 &  10.44 & 58.68 & 90.00 &  8.64\\\\\n",
       "\\end{tabular}\n"
      ],
      "text/markdown": [
       "\n",
       "A data.frame: 6 × 4\n",
       "\n",
       "| <!--/--> | youtube &lt;dbl&gt; | facebook &lt;dbl&gt; | newspaper &lt;dbl&gt; | sales &lt;dbl&gt; |\n",
       "|---|---|---|---|---|\n",
       "| 1 | 276.12 | 45.36 | 83.04 | 26.52 |\n",
       "| 2 |  53.40 | 47.16 | 54.12 | 12.48 |\n",
       "| 3 |  20.64 | 55.08 | 83.16 | 11.16 |\n",
       "| 4 | 181.80 | 49.56 | 70.20 | 22.20 |\n",
       "| 5 | 216.96 | 12.96 | 70.08 | 15.48 |\n",
       "| 6 |  10.44 | 58.68 | 90.00 |  8.64 |\n",
       "\n"
      ],
      "text/plain": [
       "  youtube facebook newspaper sales\n",
       "1 276.12  45.36    83.04     26.52\n",
       "2  53.40  47.16    54.12     12.48\n",
       "3  20.64  55.08    83.16     11.16\n",
       "4 181.80  49.56    70.20     22.20\n",
       "5 216.96  12.96    70.08     15.48\n",
       "6  10.44  58.68    90.00      8.64"
      ]
     },
     "metadata": {},
     "output_type": "display_data"
    }
   ],
   "source": [
    "data(\"marketing\", package = \"datarium\")\n",
    "head(marketing)\n",
    "X <- marketing[, c(\"youtube\", \"facebook\", \"newspaper\")]\n",
    "y <- marketing[\"sales\"]"
   ]
  },
  {
   "cell_type": "markdown",
   "id": "98484b93",
   "metadata": {},
   "source": [
    "Crearemos una función que reciba estos datos, calcule los valores necesarios y llame a la función `ellipse_contour` que creamos antes."
   ]
  },
  {
   "cell_type": "code",
   "execution_count": 5,
   "id": "aca1e831",
   "metadata": {},
   "outputs": [
    {
     "data": {
      "image/png": "[encoded data removed]",
      "text/plain": [
       "plot without title"
      ]
     },
     "metadata": {
      "image/png": {
       "height": 420,
       "width": 420
      }
     },
     "output_type": "display_data"
    }
   ],
   "source": [
    "# Los parámetros beta_index_1 y beta_index_2 son enteros\n",
    "# de 0 a k, con k cantidad de variables.\n",
    "ellipse_from_data <- function(X, y, alpha = 0.05, beta_index_1, beta_index_2){\n",
    "  X <- as.matrix(cbind(intercept = 1, X))\n",
    "  X <- X[,c(beta_index_1, beta_index_2)]\n",
    "  y <- as.matrix(y)\n",
    "  n <- length(y)\n",
    "  cov.mat <- solve(t(X) %*% X)\n",
    "  coeff <- cov.mat %*% t(X) %*% y\n",
    "  MSE <- sum((X %*% coeff - y) ^ 2) / (n - 2)\n",
    "  ellipse_contour(coeff[1], coeff[2], cov.mat, MSE, alpha, n)\n",
    "}\n",
    "\n",
    "ellipse_from_data(X, y, 0.05, 1, 2)"
   ]
  },
  {
   "cell_type": "markdown",
   "id": "5140f00d",
   "metadata": {},
   "source": [
    "## Parte B. Problemas Teóricos y Conceptuales."
   ]
  },
  {
   "cell_type": "markdown",
   "id": "9399ee46",
   "metadata": {},
   "source": [
    "### Problema 3. Formas de variables dummies."
   ]
  },
  {
   "cell_type": "markdown",
   "id": "d1e43360",
   "metadata": {},
   "source": [
    "Lo primero que se debe hacer es plantear el modelo utilizando los datos de `Carseats`.\n",
    "$$x_1 = \\ {Income} $$\n",
    "$$x_2 = \\ {Advertising} $$\n",
    "$$z = \\ {ShelveLoc} $$\n",
    "\n",
    "Dado que la variable $z$ es una variable catergótica, el modelo tiene multicolinealidad y por ende no se puese estimar por lo que se debe utilizar una clase base. Para efectos de este punto se pide que se utilice la parametrización con restricción de suma cero. \n",
    "Para lo anterior se utiliza como blase base \"bad\" y la codificación quedaría de la siguiente manera: \n",
    "\n",
    "\\begin{equation}\n",
    "z_m = \n",
    "\\left\\{\n",
    "    \\begin{array}{lr}\n",
    "        1, \\ \\textit{caso de posición medium} \\\\\n",
    "        \\frac{-n_m}{n_b} ,\\ \\textit{caso de posición bad} \\\\\n",
    "        0,{dlc}\n",
    "    \\end{array}\n",
    "    \\right\\} \n",
    "\\end{equation}\n",
    "\n",
    "\\begin{equation}\n",
    "z_g = \n",
    "\\left\\{\n",
    "    \\begin{array}{lr}\n",
    "        1, \\ \\textit{caso de posición good} \\\\\n",
    "        \\frac{-n_g}{n_b} ,\\ \\textit{caso de posición bad} \\\\\n",
    "        0,{dlc}\n",
    "    \\end{array}\n",
    "    \\right\\} \n",
    "\\end{equation}\n",
    "\n",
    "Teniendo en cuenta las restricciones se considera el siguiente modelo con todas las dummies y todas las interacciones:\n",
    "\n",
    "$$\n",
    "y=\\beta_0 + \\beta_1 x_1 +\\beta_2 x_2 + \\tau_1 z_m + \\tau_2 z_g +\\gamma_1 x_1 z_m +\\gamma_2 x_1 z_g +\\gamma_3 x_2 z_m ++\\gamma_4 x_2 z_g + \\epsilon\n",
    "$$\n"
   ]
  },
  {
   "cell_type": "code",
   "execution_count": 6,
   "id": "c9ee0d1c",
   "metadata": {},
   "outputs": [
    {
     "data": {
      "text/plain": [
       "\n",
       "Call:\n",
       "lm(formula = y ~ x1 + x2 + zm + zg + x1xzm + x1xzg + x2xzm + \n",
       "    x2xzg)\n",
       "\n",
       "Residuals:\n",
       "    Min      1Q  Median      3Q     Max \n",
       "-6.1411 -1.6175  0.0447  1.5514  6.3020 \n",
       "\n",
       "Coefficients:\n",
       "             Estimate Std. Error t value Pr(>|t|)    \n",
       "(Intercept)  5.717157   0.308247  18.547  < 2e-16 ***\n",
       "x1           0.016629   0.003967   4.192 3.42e-05 ***\n",
       "x2           0.095648   0.016672   5.737 1.93e-08 ***\n",
       "zm          -0.436735   0.281770  -1.550    0.122    \n",
       "zg           3.289884   0.595522   5.524 6.05e-08 ***\n",
       "x1xzm        0.003513   0.003618   0.971    0.332    \n",
       "x1xzg       -0.010079   0.007563  -1.333    0.183    \n",
       "x2xzm        0.006748   0.015179   0.445    0.657    \n",
       "x2xzg        0.007940   0.031565   0.252    0.802    \n",
       "---\n",
       "Signif. codes:  0 ‘***’ 0.001 ‘**’ 0.01 ‘*’ 0.05 ‘.’ 0.1 ‘ ’ 1\n",
       "\n",
       "Residual standard error: 2.203 on 391 degrees of freedom\n",
       "Multiple R-squared:  0.4035,\tAdjusted R-squared:  0.3913 \n",
       "F-statistic: 33.06 on 8 and 391 DF,  p-value: < 2.2e-16\n"
      ]
     },
     "metadata": {},
     "output_type": "display_data"
    }
   ],
   "source": [
    "#PUNTO 3\n",
    "library(psych)\n",
    "library(ISLR)\n",
    "\n",
    "data <- Carseats\n",
    "\n",
    "#Frecuencia\n",
    "nm <- table(data$ShelveLoc)[3]\n",
    "ng <- table(data$ShelveLoc)[2]\n",
    "nb <- table(data$ShelveLoc)[1]\n",
    "\n",
    "#Variables dummies\n",
    "zm <- ifelse(data$ShelveLoc == \"Medium\", 1,ifelse(data$ShelveLoc == \"Bad\",-(nm/nb),0))\n",
    "zg <- ifelse(data$ShelveLoc == \"Good\", 1,ifelse(data$ShelveLoc == \"Bad\",-(ng/nb),0))\n",
    "\n",
    "#Modelo\n",
    "y <- data$Sales\n",
    "x1 <- data$Income\n",
    "x2 <- data$Advertising\n",
    "x1xzm <- x1 * zm\n",
    "x1xzg <- x1 * zg\n",
    "x2xzm <- x2 * zm\n",
    "x2xzg <- x2 * zg\n",
    "\n",
    "x<-cbind(x1, x2, zm, zg, x1xzm, x1xzg, x2xzm, x2xzg)\n",
    "regresion<-lm(y~x1+x2+zm+zg+x1xzm+x1xzg+x2xzm+x2xzg)\n",
    "summary(regresion)  "
   ]
  },
  {
   "cell_type": "markdown",
   "id": "bf1bdeb0",
   "metadata": {},
   "source": [
    "#### 1. ¿Es cierto que la posición en el estante no infuye sobre las ventas?"
   ]
  },
  {
   "cell_type": "markdown",
   "id": "80042440",
   "metadata": {},
   "source": [
    "Para poder saber sí la posición del estante no influye en las ventas se plantea la siguiente prueba de hipótesis\n",
    "$$\n",
    "H_0:\\tau_1 = \\tau_2 = \\gamma_1 = \\gamma_2 = \\gamma_3 = \\gamma_4 = 0 \n",
    "$$\n",
    "\n",
    "$$\n",
    "H_1: \\tau_1 \\neq 0 \\ \\  or \\ \\ \\tau_2 \\neq 0 \\ \\ or \\ \\ \\gamma_1 \\neq 0 \\ \\ or \\ \\ \\gamma_2 \\neq 0 \\ \\ or \\ \\ \\gamma_3 \\neq 0 \\ \\ or \\ \\ \\gamma_4 \\neq 0 \\ \\ \n",
    "$$"
   ]
  },
  {
   "cell_type": "code",
   "execution_count": 7,
   "id": "2c62ef4e",
   "metadata": {},
   "outputs": [
    {
     "data": {
      "text/html": [
       "<dl>\n",
       "\t<dt>$F</dt>\n",
       "\t\t<dd>34.1201927262883</dd>\n",
       "\t<dt>$pvalue</dt>\n",
       "\t\t<dd>0</dd>\n",
       "</dl>\n"
      ],
      "text/latex": [
       "\\begin{description}\n",
       "\\item[\\$F] 34.1201927262883\n",
       "\\item[\\$pvalue] 0\n",
       "\\end{description}\n"
      ],
      "text/markdown": [
       "$F\n",
       ":   34.1201927262883\n",
       "$pvalue\n",
       ":   0\n",
       "\n",
       "\n"
      ],
      "text/plain": [
       "$F\n",
       "[1] 34.12019\n",
       "\n",
       "$pvalue\n",
       "[1] 0\n"
      ]
     },
     "metadata": {},
     "output_type": "display_data"
    }
   ],
   "source": [
    "gtest <- function(x,y,A,c){\n",
    "  n <- length(y)\n",
    "  k <- dim(x)[2]\n",
    "  p <- k + 1\n",
    "  q <- dim(A)[1]\n",
    "  xx <- cbind(rep(1,n), x)\n",
    "  beta <- solve(t(xx) %*% xx) %*% t(xx) %*% y\n",
    "  yhat <- xx %*% beta  \n",
    "  mse <- sum((y - yhat)^2)/(n - p)\n",
    "  betaH <- beta + solve(t(xx) %*% xx) %*% t(A) %*% solve(A %*% solve(t(xx) %*% xx) %*% t(A)) %*% (c- A %*% beta)\n",
    "  yhatH <- xx %*% betaH\n",
    "  F <- (sum((y- yhatH)^2)-sum((y- yhat)^2))/q /mse\n",
    "  pval <- 1-pf(F, q, n- p)\n",
    "  return(list(F = F, pvalue = pval))\n",
    "}\n",
    "\n",
    "A <- matrix(c(0,0,0,1,0,0,0,0,0,\n",
    "             0,0,0,0,1,0,0,0,0,\n",
    "             0,0,0,0,0,1,0,0,0,\n",
    "             0,0,0,0,0,0,1,0,0,\n",
    "             0,0,0,0,0,0,0,1,0,\n",
    "             0,0,0,0,0,0,0,0,1),ncol=9,byrow = T)     \n",
    "     \n",
    "c <-c(0,0,0,0,0,0)\n",
    "\n",
    "gtest(x,y,A,c)"
   ]
  },
  {
   "cell_type": "markdown",
   "id": "c7f884e2",
   "metadata": {},
   "source": [
    "Con un nivel de confianza del 95% se puede concluir que se rechaza $H_0$, es decir que al menos una posición en el estante sí influye en las ventas. Pues el ${p value}<5 \\% $ "
   ]
  },
  {
   "cell_type": "markdown",
   "id": "24dd8084",
   "metadata": {},
   "source": [
    "#### 2. ¿Es cierto que los modelos en todas las clases son paralelos (los efectos no cambian)?"
   ]
  },
  {
   "cell_type": "markdown",
   "id": "c994b80d",
   "metadata": {},
   "source": [
    "Para poder saber si los modelos en todas las clases son paralelos, es decir que sus efectos no cambian se plantea la siguiente prueba de hipótesis \n",
    "\n",
    "\n",
    "$$\n",
    "H_0:\\gamma_1 = \\gamma_2 = \\gamma_3 = \\gamma_4 = 0 \n",
    "$$\n",
    "\n",
    "$$\n",
    "H_1:\\gamma_1 \\neq 0 \\ \\ or \\ \\ \\gamma_2 \\neq 0 \\ \\ or \\ \\ \\gamma_3 \\neq 0 \\ \\ or \\ \\ \\gamma_4 \\neq 0 \\ \\ \n",
    "$$"
   ]
  },
  {
   "cell_type": "code",
   "execution_count": 8,
   "id": "8f5ad32e",
   "metadata": {},
   "outputs": [
    {
     "data": {
      "text/html": [
       "<dl>\n",
       "\t<dt>$F</dt>\n",
       "\t\t<dd>0.60200591116345</dd>\n",
       "\t<dt>$pvalue</dt>\n",
       "\t\t<dd>0.661404585232439</dd>\n",
       "</dl>\n"
      ],
      "text/latex": [
       "\\begin{description}\n",
       "\\item[\\$F] 0.60200591116345\n",
       "\\item[\\$pvalue] 0.661404585232439\n",
       "\\end{description}\n"
      ],
      "text/markdown": [
       "$F\n",
       ":   0.60200591116345\n",
       "$pvalue\n",
       ":   0.661404585232439\n",
       "\n",
       "\n"
      ],
      "text/plain": [
       "$F\n",
       "[1] 0.6020059\n",
       "\n",
       "$pvalue\n",
       "[1] 0.6614046\n"
      ]
     },
     "metadata": {},
     "output_type": "display_data"
    }
   ],
   "source": [
    "A <- matrix(c(0,0,0,0,0,1,0,0,0,\n",
    "             0,0,0,0,0,0,1,0,0,\n",
    "             0,0,0,0,0,0,0,1,0,\n",
    "             0,0,0,0,0,0,0,0,1),\n",
    "           ncol=9,byrow = T)\n",
    "\n",
    "\n",
    "c <- c(0,0,0,0)\n",
    "\n",
    "gtest(x,y,A,c)"
   ]
  },
  {
   "cell_type": "markdown",
   "id": "cddebf6b",
   "metadata": {},
   "source": [
    "Con un nivel de confianza del 95% se puede concluir que se no hay suficiente evidencia estadística para rechazar $H_0$, es decir que el modelo en todas sus clases es pararelo, es decir que en se puede afirmar que sus efectos no cambian, pues el ${p value}>5 \\% $ "
   ]
  },
  {
   "cell_type": "markdown",
   "id": "5f088b9f",
   "metadata": {},
   "source": [
    "#### 3. ¿Son los modelos para las ventas posición media en el estante, y para la posición buena iguales?"
   ]
  },
  {
   "cell_type": "markdown",
   "id": "c30c2de2",
   "metadata": {},
   "source": [
    "Para poder saber si los modelos para las ventas en la posicipon media del estante y la posición buena del estante son iguales, se plantea la siguiente prueba de hipótesis \n",
    "\n",
    "\\begin{equation}\n",
    "H_0 = \n",
    "\\left\\{\n",
    "    \\begin{array}{lr}\n",
    "        \\tau_1 = \\tau_2\\\\\n",
    "        \\gamma_1 = \\gamma_2\\\\\n",
    "        \\gamma_3 =  \\gamma_4\n",
    "    \\end{array}\n",
    "    \\right\\} \n",
    "\\end{equation}\n",
    "\n",
    "$$\n",
    "H_1:\\textit{Al menos una es diferente}\n",
    "$$"
   ]
  },
  {
   "cell_type": "code",
   "execution_count": 9,
   "id": "4ccb1503",
   "metadata": {},
   "outputs": [
    {
     "data": {
      "text/html": [
       "<dl>\n",
       "\t<dt>$F</dt>\n",
       "\t\t<dd>33.7912840694451</dd>\n",
       "\t<dt>$pvalue</dt>\n",
       "\t\t<dd>0</dd>\n",
       "</dl>\n"
      ],
      "text/latex": [
       "\\begin{description}\n",
       "\\item[\\$F] 33.7912840694451\n",
       "\\item[\\$pvalue] 0\n",
       "\\end{description}\n"
      ],
      "text/markdown": [
       "$F\n",
       ":   33.7912840694451\n",
       "$pvalue\n",
       ":   0\n",
       "\n",
       "\n"
      ],
      "text/plain": [
       "$F\n",
       "[1] 33.79128\n",
       "\n",
       "$pvalue\n",
       "[1] 0\n"
      ]
     },
     "metadata": {},
     "output_type": "display_data"
    }
   ],
   "source": [
    "A <- matrix(c(0,0,0,-1,1,0,0,0,0,\n",
    "             0,0,0,0,0,-1,1,0,0,\n",
    "             0,0,0,0,0,0,0,-1,1),ncol=9,byrow = T)\n",
    "c <- c(0,0,0)\n",
    "\n",
    "gtest(x,y,A,c)\n",
    "\n"
   ]
  },
  {
   "cell_type": "markdown",
   "id": "e8435d2e",
   "metadata": {},
   "source": [
    "Con un nivel de confianza del 95% se puede concluir que se rechaza $H_0$, es decir que los modelos no son iguales. La posición media en el estante puede ser igual a la posición buena en el estante por lo menos para algún caso. Pues el ${p value}<5 \\% $ "
   ]
  },
  {
   "cell_type": "markdown",
   "id": "6571ae27",
   "metadata": {},
   "source": [
    "#### 4. ¿Es cierto que el efecto de la publicidad es igual en la posición mala que en la media?"
   ]
  },
  {
   "cell_type": "markdown",
   "id": "2eda1a21",
   "metadata": {},
   "source": [
    "Para poder saber si el efecto de la publicidad es igual en la posición mala que en la media, se utiliza el coeficiente $\\gamma_3$ que corresponde a la interacción entre la publicidad y la posición media y en la prueba de hipótesis queremos ver si este coeficiente es igual a 0 (no se ve la interacción con la posición mala pues esta es nuestra clase base). La prueba de hipotesis sería:\n",
    "\n",
    "$$\n",
    "H_0: \\gamma_3 =  0\n",
    "$$\n",
    "\n",
    "$$\n",
    "H_1:\\gamma_3 \\neq 0\n",
    "$$"
   ]
  },
  {
   "cell_type": "code",
   "execution_count": 10,
   "id": "8a6f645a",
   "metadata": {},
   "outputs": [
    {
     "data": {
      "text/html": [
       "<dl>\n",
       "\t<dt>$F</dt>\n",
       "\t\t<dd>0.197609658538114</dd>\n",
       "\t<dt>$pvalue</dt>\n",
       "\t\t<dd>0.656903169094905</dd>\n",
       "</dl>\n"
      ],
      "text/latex": [
       "\\begin{description}\n",
       "\\item[\\$F] 0.197609658538114\n",
       "\\item[\\$pvalue] 0.656903169094905\n",
       "\\end{description}\n"
      ],
      "text/markdown": [
       "$F\n",
       ":   0.197609658538114\n",
       "$pvalue\n",
       ":   0.656903169094905\n",
       "\n",
       "\n"
      ],
      "text/plain": [
       "$F\n",
       "[1] 0.1976097\n",
       "\n",
       "$pvalue\n",
       "[1] 0.6569032\n"
      ]
     },
     "metadata": {},
     "output_type": "display_data"
    }
   ],
   "source": [
    "A <- matrix(c(0,0,0,0,0,0,0,1,0),ncol=9,byrow = T)\n",
    "c <-c(0)\n",
    "\n",
    "gtest(x,y,A,c)\n"
   ]
  },
  {
   "cell_type": "code",
   "execution_count": 11,
   "id": "d0670e56",
   "metadata": {},
   "outputs": [
    {
     "data": {
      "text/html": [
       "<dl>\n",
       "\t<dt>$t</dt>\n",
       "\t\t<dd><table class=\"dataframe\">\n",
       "<caption>A matrix: 1 × 1 of type dbl</caption>\n",
       "<tbody>\n",
       "\t<tr><td>0.4445331</td></tr>\n",
       "</tbody>\n",
       "</table>\n",
       "</dd>\n",
       "\t<dt>$pvalue</dt>\n",
       "\t\t<dd>0.656903169094905</dd>\n",
       "</dl>\n"
      ],
      "text/latex": [
       "\\begin{description}\n",
       "\\item[\\$t] A matrix: 1 × 1 of type dbl\n",
       "\\begin{tabular}{l}\n",
       "\t 0.4445331\\\\\n",
       "\\end{tabular}\n",
       "\n",
       "\\item[\\$pvalue] 0.656903169094905\n",
       "\\end{description}\n"
      ],
      "text/markdown": [
       "$t\n",
       ":   \n",
       "A matrix: 1 × 1 of type dbl\n",
       "\n",
       "| 0.4445331 |\n",
       "\n",
       "\n",
       "$pvalue\n",
       ":   0.656903169094905\n",
       "\n",
       "\n"
      ],
      "text/plain": [
       "$t\n",
       "          [,1]\n",
       "[1,] 0.4445331\n",
       "\n",
       "$pvalue\n",
       "[1] 0.6569032\n"
      ]
     },
     "metadata": {},
     "output_type": "display_data"
    }
   ],
   "source": [
    "#Otra forma para comparar\n",
    "ltest <- function(y,x,lin,const,dir=b){\n",
    "  n <- dim(x)[1]\n",
    "  k <- dim(x)[2]\n",
    "  p <- k + 1\n",
    "  xx <- cbind(rep(1, n), x)\n",
    "  beta <- solve(t(xx) %*% xx) %*% t(xx) %*% y\n",
    "  A <- matrix(lin, ncol = p)\n",
    "  c <- const\n",
    "  t <- sign(A %*% lin - c) * sqrt(gtest(x,y,A,c)$F)  \n",
    "  if(dir == \"+\"){pval = 1 - pt(t,n-p)}\n",
    "  if(dir == \"-\"){pval = pt(t,n-p)}\n",
    "  if(dir == \"b\"){pval = min(2 * (1 - pt(t,n - p)),2 *(pt(t, n - p)))}\n",
    "  return(list(t = t, pvalue = pval))\n",
    "}\n",
    "\n",
    "lin <- c(0,0,0,0,0,0,0,1,0)\n",
    "ltest(y,x,lin,0,\"b\")\n",
    "\n"
   ]
  },
  {
   "cell_type": "markdown",
   "id": "ab787770",
   "metadata": {},
   "source": [
    "Con un nivel de confianza del 95% se puede concluir que se no hay suficiente evidencia estadística para rechazar $H_0$, es decir que el efecto de la publicidad para la posición mala es igual que para la posición media, pues el ${p value}>5 \\% $, e incluso es exactamente el mismo valor haciendolo con una prueba $F$ o con una prueba parcial $t$."
   ]
  },
  {
   "cell_type": "markdown",
   "id": "5d54f966",
   "metadata": {},
   "source": [
    "## Parte C. Problemas Aplicados con Datos Reales."
   ]
  },
  {
   "cell_type": "markdown",
   "id": "895ab991",
   "metadata": {},
   "source": [
    "### Problema 4. Modelos No-Lineales."
   ]
  },
  {
   "cell_type": "markdown",
   "id": "cf57900a",
   "metadata": {},
   "source": [
    "Para este problema se utilizan los datos de `productivity.txt`.\n",
    "$$y= \\ {Productividad \\ de \\ un \\ trabajador} $$\n",
    "$$x_1 = \\ {Temperatura  \\ ambiental} $$\n",
    "$$x_2 = \\ {Tiempo \\ que \\ lleva \\ un \\ trabajador \\ haciendo \\ una \\ tarea \\ repetitiva} $$\n"
   ]
  },
  {
   "cell_type": "markdown",
   "id": "d6f49d20",
   "metadata": {},
   "source": [
    "#### 1. Estime un modelo de regresión lineal y concluya sobre la influencia de los dos factores en mención."
   ]
  },
  {
   "cell_type": "markdown",
   "id": "bfd207fa",
   "metadata": {},
   "source": [
    "Lo primero que se debe hacer es realizar el modelo de regresión lineal: \n",
    "$$\n",
    "y=\\beta_0 + \\beta_1 x_1 +\\beta_2 x_2+ \\epsilon\n",
    "$$\n"
   ]
  },
  {
   "cell_type": "code",
   "execution_count": 12,
   "id": "27e9ebd1",
   "metadata": {},
   "outputs": [
    {
     "data": {
      "text/html": [
       "<table class=\"dataframe\">\n",
       "<caption>A data.frame: 6 × 3</caption>\n",
       "<thead>\n",
       "\t<tr><th></th><th scope=col>productivity</th><th scope=col>temp</th><th scope=col>time</th></tr>\n",
       "\t<tr><th></th><th scope=col>&lt;dbl&gt;</th><th scope=col>&lt;dbl&gt;</th><th scope=col>&lt;dbl&gt;</th></tr>\n",
       "</thead>\n",
       "<tbody>\n",
       "\t<tr><th scope=row>1</th><td>-64.484955</td><td> 0.4624386</td><td>7.091994</td></tr>\n",
       "\t<tr><th scope=row>2</th><td> 13.085415</td><td> 3.4582853</td><td>2.489547</td></tr>\n",
       "\t<tr><th scope=row>3</th><td> -5.037034</td><td>-0.8721229</td><td>3.073026</td></tr>\n",
       "\t<tr><th scope=row>4</th><td>-12.330433</td><td>-1.4433754</td><td>4.514572</td></tr>\n",
       "\t<tr><th scope=row>5</th><td>-47.669672</td><td>-0.3049131</td><td>6.325797</td></tr>\n",
       "\t<tr><th scope=row>6</th><td>-20.448369</td><td> 1.9950954</td><td>4.634171</td></tr>\n",
       "</tbody>\n",
       "</table>\n"
      ],
      "text/latex": [
       "A data.frame: 6 × 3\n",
       "\\begin{tabular}{r|lll}\n",
       "  & productivity & temp & time\\\\\n",
       "  & <dbl> & <dbl> & <dbl>\\\\\n",
       "\\hline\n",
       "\t1 & -64.484955 &  0.4624386 & 7.091994\\\\\n",
       "\t2 &  13.085415 &  3.4582853 & 2.489547\\\\\n",
       "\t3 &  -5.037034 & -0.8721229 & 3.073026\\\\\n",
       "\t4 & -12.330433 & -1.4433754 & 4.514572\\\\\n",
       "\t5 & -47.669672 & -0.3049131 & 6.325797\\\\\n",
       "\t6 & -20.448369 &  1.9950954 & 4.634171\\\\\n",
       "\\end{tabular}\n"
      ],
      "text/markdown": [
       "\n",
       "A data.frame: 6 × 3\n",
       "\n",
       "| <!--/--> | productivity &lt;dbl&gt; | temp &lt;dbl&gt; | time &lt;dbl&gt; |\n",
       "|---|---|---|---|\n",
       "| 1 | -64.484955 |  0.4624386 | 7.091994 |\n",
       "| 2 |  13.085415 |  3.4582853 | 2.489547 |\n",
       "| 3 |  -5.037034 | -0.8721229 | 3.073026 |\n",
       "| 4 | -12.330433 | -1.4433754 | 4.514572 |\n",
       "| 5 | -47.669672 | -0.3049131 | 6.325797 |\n",
       "| 6 | -20.448369 |  1.9950954 | 4.634171 |\n",
       "\n"
      ],
      "text/plain": [
       "  productivity temp       time    \n",
       "1 -64.484955    0.4624386 7.091994\n",
       "2  13.085415    3.4582853 2.489547\n",
       "3  -5.037034   -0.8721229 3.073026\n",
       "4 -12.330433   -1.4433754 4.514572\n",
       "5 -47.669672   -0.3049131 6.325797\n",
       "6 -20.448369    1.9950954 4.634171"
      ]
     },
     "metadata": {},
     "output_type": "display_data"
    },
    {
     "data": {
      "text/plain": [
       "\n",
       "Call:\n",
       "lm(formula = y ~ x1 + x2)\n",
       "\n",
       "Residuals:\n",
       "    Min      1Q  Median      3Q     Max \n",
       "-22.266  -6.739  -1.815   5.572  36.549 \n",
       "\n",
       "Coefficients:\n",
       "            Estimate Std. Error t value Pr(>|t|)    \n",
       "(Intercept)  54.9257     2.1207   25.90  < 2e-16 ***\n",
       "x1           -2.3381     0.3418   -6.84 5.84e-11 ***\n",
       "x2          -15.7437     0.4010  -39.26  < 2e-16 ***\n",
       "---\n",
       "Signif. codes:  0 ‘***’ 0.001 ‘**’ 0.01 ‘*’ 0.05 ‘.’ 0.1 ‘ ’ 1\n",
       "\n",
       "Residual standard error: 11.24 on 255 degrees of freedom\n",
       "Multiple R-squared:  0.8936,\tAdjusted R-squared:  0.8928 \n",
       "F-statistic:  1071 on 2 and 255 DF,  p-value: < 2.2e-16\n"
      ]
     },
     "metadata": {},
     "output_type": "display_data"
    }
   ],
   "source": [
    "data <- read.table(\"Archivos/productivity.txt\", head = TRUE)\n",
    "head(data)\n",
    "\n",
    "##Variables del modelo\n",
    "y <- data$productivity \n",
    "x1 <- data$temp \n",
    "x2 <- data$time\n",
    "\n",
    "n <- length(y)\n",
    "x <- cbind(rep(1,n), x1, x2)\n",
    "xtx <- t(x) %*% x\n",
    "H <- solve(xtx)\n",
    "\n",
    "beta <- H %*% t(x) %*% y\n",
    "\n",
    "modeloProductividad1 <- lm(y~x1+x2)\n",
    "summary(modeloProductividad1)\n"
   ]
  },
  {
   "cell_type": "markdown",
   "id": "f49ac122",
   "metadata": {},
   "source": [
    "Como ya tenemos el modelo y con el resumen de este podemos concluir que con un nivel de confianza del 95%. \n",
    "* El intercepto $\\beta_0$ es significativo para el modelo y su valor estimado es de 54.9257\n",
    "* La temperatura ambiental $x_1$ sí es significativa y por ende influye en la productividad. El valor estimado es de -2.3381\n",
    "* El tiempo que lleva un trabajador haciendo una tarea repetitiva $x_2$ es significativa y por ende influye en la productividad del trabajador. Su valor estimado es de -15.7437\n",
    "\n",
    "Dado lo anterior se podría decir que a medida que la temperatura ambiental aumenta en una unidad, la productividad disminuye en 2.34 unidades. Por otro lado, a medida que el tiempo que lleva un trabajador haciendo una tarea repetitiva aumenta en una unidad, la productividad del trabajador disminuirá en 15.74 unidades."
   ]
  },
  {
   "cell_type": "markdown",
   "id": "9374bbb0",
   "metadata": {},
   "source": [
    "#### 2. Se cree que el modelo es no-lineal, por lo cual es mejor usar un modelo polinomial de orden 2. ¿Cree que el modelo resultante debe ser aditivo?"
   ]
  },
  {
   "cell_type": "markdown",
   "id": "25a2c5c0",
   "metadata": {},
   "source": [
    "Antes de pensar en sí el modelo debería o no ser aditivo debemos contruir un nuevo modelo que en este caso será un modelo polinomial de orden 2. Es decir:\n",
    "$$\n",
    "y=\\alpha_0 + \\alpha_1 z_1 +\\alpha_2 z_2+  \\alpha_3 (z_1)^2 +\\alpha_4 (z_2)^2 +  \\alpha_5 z_1 z_2 +\\epsilon\n",
    "$$\n",
    "\n",
    "En donde $z_1 = (x_1 - \\bar{x_1})$ y $z_2 = (x_2 - \\bar{x_2})$"
   ]
  },
  {
   "cell_type": "code",
   "execution_count": 13,
   "id": "55bdadfd",
   "metadata": {},
   "outputs": [
    {
     "data": {
      "text/plain": [
       "\n",
       "Call:\n",
       "lm(formula = y ~ z1 + z2 + z1s + z2s + z1z2)\n",
       "\n",
       "Residuals:\n",
       "    Min      1Q  Median      3Q     Max \n",
       "-3.2451 -0.8419  0.0096  0.8786  2.8396 \n",
       "\n",
       "Coefficients:\n",
       "             Estimate Std. Error t value Pr(>|t|)    \n",
       "(Intercept) -32.79736    0.12109 -270.85   <2e-16 ***\n",
       "z1           -0.67367    0.03980  -16.93   <2e-16 ***\n",
       "z2          -14.76251    0.04804 -307.29   <2e-16 ***\n",
       "z1s           1.89113    0.01523  124.18   <2e-16 ***\n",
       "z2s          -1.44641    0.02332  -62.03   <2e-16 ***\n",
       "z1z2         -0.99262    0.02570  -38.62   <2e-16 ***\n",
       "---\n",
       "Signif. codes:  0 ‘***’ 0.001 ‘**’ 0.01 ‘*’ 0.05 ‘.’ 0.1 ‘ ’ 1\n",
       "\n",
       "Residual standard error: 1.237 on 252 degrees of freedom\n",
       "Multiple R-squared:  0.9987,\tAdjusted R-squared:  0.9987 \n",
       "F-statistic: 3.948e+04 on 5 and 252 DF,  p-value: < 2.2e-16\n"
      ]
     },
     "metadata": {},
     "output_type": "display_data"
    }
   ],
   "source": [
    "#Modelo no-liena\n",
    "z1 <- x1 - mean(x1)\n",
    "z2 <- x2 - mean(x2)\n",
    "z1s <- z1^2\n",
    "z2s <- z2^2\n",
    "z1z2 <- z1*z2\n",
    "\n",
    "xb <- cbind(z1,z2,z1s,z2s,z1z2)\n",
    "\n",
    "modeloProductividad2 <- lm(y~z1+z2+z1s+z2s+z1z2) \n",
    "summary(modeloProductividad2)"
   ]
  },
  {
   "cell_type": "markdown",
   "id": "393bf422",
   "metadata": {},
   "source": [
    "Ya teniendo el modelo polinomial del segundo orden, se puede proceeder ahora si a contestar la pregunta de si el modelo resultante debería o no ser aditivo. Esto en otras palabras quiere decir que debemos evaluar si la interacción es significativa, para lo cual se plantea la siguiente prueba de hipótesis:\n",
    "$$\n",
    "H_0: \\alpha_5 =  0\n",
    "$$\n",
    "\n",
    "$$\n",
    "H_1:\\alpha_5 \\neq 0\n",
    "$$"
   ]
  },
  {
   "cell_type": "code",
   "execution_count": 14,
   "id": "85411551",
   "metadata": {},
   "outputs": [
    {
     "data": {
      "text/html": [
       "<dl>\n",
       "\t<dt>$t</dt>\n",
       "\t\t<dd><table class=\"dataframe\">\n",
       "<caption>A matrix: 1 × 1 of type dbl</caption>\n",
       "<tbody>\n",
       "\t<tr><td>38.62002</td></tr>\n",
       "</tbody>\n",
       "</table>\n",
       "</dd>\n",
       "\t<dt>$pvalue</dt>\n",
       "\t\t<dd>0</dd>\n",
       "</dl>\n"
      ],
      "text/latex": [
       "\\begin{description}\n",
       "\\item[\\$t] A matrix: 1 × 1 of type dbl\n",
       "\\begin{tabular}{l}\n",
       "\t 38.62002\\\\\n",
       "\\end{tabular}\n",
       "\n",
       "\\item[\\$pvalue] 0\n",
       "\\end{description}\n"
      ],
      "text/markdown": [
       "$t\n",
       ":   \n",
       "A matrix: 1 × 1 of type dbl\n",
       "\n",
       "| 38.62002 |\n",
       "\n",
       "\n",
       "$pvalue\n",
       ":   0\n",
       "\n",
       "\n"
      ],
      "text/plain": [
       "$t\n",
       "         [,1]\n",
       "[1,] 38.62002\n",
       "\n",
       "$pvalue\n",
       "[1] 0\n"
      ]
     },
     "metadata": {},
     "output_type": "display_data"
    }
   ],
   "source": [
    "ltest <- function(y,x,lin,const,dir=b){\n",
    "  n <- dim(x)[1]\n",
    "  k <- dim(x)[2]\n",
    "  p <- k + 1\n",
    "  xx <- cbind(rep(1, n), x)\n",
    "  beta <- solve(t(xx) %*% xx) %*% t(xx) %*% y\n",
    "  A <- matrix(lin, ncol = p)\n",
    "  c <- const\n",
    "  t <- sign(A %*% lin - c) * sqrt(gtest(x,y,A,c)$F)  \n",
    "  if(dir == \"+\"){pval = 1 - pt(t,n-p)}\n",
    "  if(dir == \"-\"){pval = pt(t,n-p)}\n",
    "  if(dir == \"b\"){pval = min(2 * (1 - pt(t,n - p)),2 *(pt(t, n - p)))}\n",
    "  return(list(t = t, pvalue = pval))\n",
    "}\n",
    "\n",
    "q <- c(0,0,0,0,0,1)\n",
    "ltest(y, xb, q, 0, \"b\")"
   ]
  },
  {
   "cell_type": "markdown",
   "id": "86027ab0",
   "metadata": {},
   "source": [
    "Con un nivel de confianza del 95% se puede concluir que se rechaza $H_0$, pues el ${p value}<5 \\% $. Esto quiere decir que la interacción entre el tiempo que lleva un trabajador haciendo una tarea repetitiva y la temperatura ambiental es significativa e importante, por lo tanto el modelo no puede ser aditivo."
   ]
  },
  {
   "cell_type": "markdown",
   "id": "a063fcec",
   "metadata": {},
   "source": [
    "#### 3. Si se sabe que la temperatura ambiental es de 2, estime el efecto que tiene el tiempo que se lleva haciendo la tarea (cuando este es 2.5) sobre la productividad"
   ]
  },
  {
   "cell_type": "markdown",
   "id": "8b90e7a5",
   "metadata": {},
   "source": [
    "Teniendo en cuenta que el modelo que tenemos es no-lineal, para poder estimar el efecto que tiene el tiempo que lleva un trabajador haciendo una tarea repetitiva sobre la productividad dados unos valores, lo primero que se debe hacer es derivar el modelo con respecto al tiempo que lleva un trabajador haciendo una tarea: \n",
    "\n",
    "$$\n",
    "\\frac{dy}{dz_2}=\\alpha_2 + 2\\alpha_4 z_2 + \\alpha_5 z_1\n",
    "$$\n",
    "\n",
    "Luego remplazamos los valores en la ecuación sabiendo por el modelo que: \n",
    "$$\n",
    "\\alpha_2 = -14.76251\n",
    "$$\n",
    "$$\n",
    "\\alpha_4 = -1.44641\n",
    "$$\n",
    "$$\n",
    "\\alpha_5 = -0.99262\n",
    "$$\n",
    "\n",
    "Por otro lado..."
   ]
  },
  {
   "cell_type": "code",
   "execution_count": 15,
   "id": "932ef7b7",
   "metadata": {},
   "outputs": [
    {
     "data": {
      "text/html": [
       "1.0158901129465"
      ],
      "text/latex": [
       "1.0158901129465"
      ],
      "text/markdown": [
       "1.0158901129465"
      ],
      "text/plain": [
       "[1] 1.01589"
      ]
     },
     "metadata": {},
     "output_type": "display_data"
    },
    {
     "data": {
      "text/html": [
       "-2.76669329304501"
      ],
      "text/latex": [
       "-2.76669329304501"
      ],
      "text/markdown": [
       "-2.76669329304501"
      ],
      "text/plain": [
       "[1] -2.766693"
      ]
     },
     "metadata": {},
     "output_type": "display_data"
    }
   ],
   "source": [
    "z12 <- 2 - mean(x1)\n",
    "z22 <- 2.5 - mean(x2)\n",
    "z12\n",
    "z22"
   ]
  },
  {
   "cell_type": "markdown",
   "id": "4b0c9729",
   "metadata": {},
   "source": [
    "Teniendo en cuenta que $x_1 = 2$ y que $x_2 = 2.5$ y recordando que $z_1 = (x_1 - \\bar{x_1})$ y $z_2 = (x_2 - \\bar{x_2})$:\n",
    "\n",
    "$$\n",
    "z_2 = -2.7667\n",
    "$$\n",
    "\n",
    "$$\n",
    "z_1 = 1.0159\n",
    "$$\n",
    "\n",
    "La ecuación se puede plantear numéricamente de la siguiente manera: \n",
    "$$\n",
    "\\frac{dy}{dz_2}=[-14.76251] +[2 \\cdot(-1.44641) \\cdot(-2.7667)] + [(-0.99262) \\cdot1.0159]\n",
    "$$\n",
    "$$\n",
    "\\frac{dy}{dz_2}=-4.014\n",
    "$$\n",
    "\n",
    "Dado que el tiempo es 2.5 y que la temperatura ambiental es 2, se puede decir que el efecto que tiene el tiempo que un trabajador lleva haciendo una actividad repetitiva sobre la productividad es de -4.014."
   ]
  },
  {
   "cell_type": "markdown",
   "id": "34bdc5a8",
   "metadata": {},
   "source": [
    "#### 4. Si en un día particular la temperatura ambiental es de 2.5 y y un trabajador llava 3 días haciendo la misma labor en el mismo sitio, construya un intervalo de predicción para la productividad del trabajador."
   ]
  },
  {
   "cell_type": "markdown",
   "id": "69f45aac",
   "metadata": {},
   "source": [
    "Esta información se puede escribir de la siguiente manera: \n",
    "$$\n",
    "x_1 = 2.5\n",
    "$$\n",
    "$$\n",
    "x_2 = 3\n",
    "$$\n",
    "\n",
    "Ahora bien para calcular el IP para la productividad del trabajador se utiliza la siguiente fórmula: \n",
    "\n",
    "$$\n",
    "IP={\\hat{\\mu}}_p\\pm t_{\\left(1-\\frac{\\alpha}{2}\\right),\\ \\ \\ n-p}\\cdot\\sqrt{{\\hat{\\sigma}}_2\\cdot(1+x_p^T\\cdot\\left(X^T\\cdot X\\right)^{-1}\\cdot x_p}\n",
    "$$"
   ]
  },
  {
   "cell_type": "code",
   "execution_count": 16,
   "id": "419d4363",
   "metadata": {},
   "outputs": [
    {
     "data": {
      "text/html": [
       "<style>\n",
       ".list-inline {list-style: none; margin:0; padding: 0}\n",
       ".list-inline>li {display: inline-block}\n",
       ".list-inline>li:not(:last-child)::after {content: \"\\00b7\"; padding: 0 .5ex}\n",
       "</style>\n",
       "<ol class=list-inline><li>-2.49650992433309</li><li>2.43326811689515</li></ol>\n"
      ],
      "text/latex": [
       "\\begin{enumerate*}\n",
       "\\item -2.49650992433309\n",
       "\\item 2.43326811689515\n",
       "\\end{enumerate*}\n"
      ],
      "text/markdown": [
       "1. -2.49650992433309\n",
       "2. 2.43326811689515\n",
       "\n",
       "\n"
      ],
      "text/plain": [
       "[1] -2.496510  2.433268"
      ]
     },
     "metadata": {},
     "output_type": "display_data"
    }
   ],
   "source": [
    "## Primero se calculan los betas\n",
    "x4 <- cbind(rep(1, n), xb)\n",
    "xtx4 <- t(x4) %*% x4\n",
    "H4 <- solve(xtx4)\n",
    "betas4 <- H4 %*% t(x4) %*% y\n",
    "p <- 6\n",
    "\n",
    "#Luego se calcula el MSE\n",
    "MSE <- (sum((y - x4 %*% betas4 )^2)) / (n - p)\n",
    "\n",
    "#Se obtienen los valores de z1 y z2 según x1 y x2 dados \n",
    "z13 <- 2.5 - mean(x1)\n",
    "z23 <- 3 - mean(x2)\n",
    "\n",
    "#Calculo del IP\n",
    "modeloProductividad4<- c(1, z13, z23, z13^2, z23^2, z13*z23)\n",
    "miu <- t(modeloProductividad4) %*% betas4\n",
    "int_inf <- miu - qt(0.975, n - p) * sqrt(MSE * (1 + t(modeloProductividad4) %*% H4 %*% modeloProductividad4))\n",
    "int_sup <- miu + qt(0.975, n - p) * sqrt(MSE * (1 + t(modeloProductividad4) %*% H4 %*% modeloProductividad4))\n",
    "IP <- c(int_inf, int_sup)\n",
    "IP"
   ]
  },
  {
   "cell_type": "markdown",
   "id": "81f32d40",
   "metadata": {},
   "source": [
    "El intervalo de predicción resultante es: \n",
    "$$\n",
    "IP: [ -2.4965 ; 2.4332]\n",
    "$$\n",
    "\n",
    "Lo anterior quiere decir que con un nivel de confianza del $95 \\%$, si un trabajador lleva 3 días haciendo la misma tarea repetitiva y la temperatura del ambiente es de 2.5, la productividad del trabajador estará entre -2.45 y 2.43.\n"
   ]
  },
  {
   "cell_type": "markdown",
   "id": "52e32563",
   "metadata": {},
   "source": [
    "### Problema 5. Efectos de la personalidad en la producción intelectual bajo estrés."
   ]
  },
  {
   "cell_type": "markdown",
   "id": "2d0f9dd3",
   "metadata": {},
   "source": [
    "Recopilando la información se sabe que hay una prueba que evalua el desempeño de las personas con base en unos parámetros. En total el cuestionario tiene 44 preguntas de las cuales unas suman y otras restan para el puntaje final. El método utilizado es el método OCEAN, en donde: \n",
    "$$\n",
    "O: apertura\\ a \\ la \\ experiencia \\\\\n",
    "C: responsabilidad \\\\\n",
    "E: extraversión \\\\\n",
    "A: agradable \\\\\n",
    "N: neuroticismo \n",
    "$$"
   ]
  },
  {
   "cell_type": "markdown",
   "id": "81f17629",
   "metadata": {},
   "source": [
    "#### 1. Dado que la base de datos posee algunos datos faltantes (NA), impute estos datos con los promedios de la respectiva variable."
   ]
  },
  {
   "cell_type": "markdown",
   "id": "5addd2f7",
   "metadata": {},
   "source": [
    "No se podrá resolver el problema 5 si hay datos faltantes (NA) por lo que lo primero que se debe hacer es remplazar estos NA por el promedio de cada una de las columnas "
   ]
  },
  {
   "cell_type": "code",
   "execution_count": 17,
   "id": "dab29f87",
   "metadata": {},
   "outputs": [
    {
     "data": {
      "text/html": [
       "<table class=\"dataframe\">\n",
       "<caption>A matrix: 258 × 46 of type dbl</caption>\n",
       "<thead>\n",
       "\t<tr><th></th><th scope=col>E1</th><th scope=col>N2</th><th scope=col>RA3</th><th scope=col>C4</th><th scope=col>N5</th><th scope=col>RE6</th><th scope=col>O7</th><th scope=col>A8</th><th scope=col>A9</th><th scope=col>RC10</th><th scope=col>⋯</th><th scope=col>A37</th><th scope=col>C38</th><th scope=col>RO39</th><th scope=col>E40</th><th scope=col>C41</th><th scope=col>RC42</th><th scope=col>O43</th><th scope=col>O44</th><th scope=col>Satisfaction</th><th scope=col>Score</th></tr>\n",
       "</thead>\n",
       "<tbody>\n",
       "\t<tr><th scope=row>234</th><td>6</td><td>1</td><td>6</td><td>7</td><td>1</td><td>3</td><td>1</td><td>5</td><td> 7</td><td>7</td><td>⋯</td><td>6</td><td>7</td><td>1</td><td>7</td><td>7</td><td>3</td><td>7</td><td>3</td><td>86</td><td>1065.59651</td></tr>\n",
       "\t<tr><th scope=row>91</th><td>5</td><td>2</td><td>7</td><td>6</td><td>1</td><td>4</td><td>6</td><td>5</td><td> 6</td><td>7</td><td>⋯</td><td>5</td><td>5</td><td>4</td><td>5</td><td>5</td><td>4</td><td>5</td><td>3</td><td>96</td><td>1053.98029</td></tr>\n",
       "\t<tr><th scope=row>155</th><td>1</td><td>1</td><td>7</td><td>6</td><td>1</td><td>1</td><td>5</td><td>6</td><td> 6</td><td>3</td><td>⋯</td><td>7</td><td>7</td><td>6</td><td>7</td><td>6</td><td>6</td><td>6</td><td>4</td><td> 3</td><td>  40.81595</td></tr>\n",
       "\t<tr><th scope=row>6</th><td>7</td><td>6</td><td>4</td><td>6</td><td>6</td><td>7</td><td>7</td><td>7</td><td> 7</td><td>2</td><td>⋯</td><td>7</td><td>7</td><td>7</td><td>7</td><td>6</td><td>1</td><td>7</td><td>7</td><td>77</td><td> 748.29304</td></tr>\n",
       "\t<tr><th scope=row>18</th><td>1</td><td>3</td><td>7</td><td>7</td><td>2</td><td>1</td><td>5</td><td>7</td><td> 7</td><td>6</td><td>⋯</td><td>7</td><td>6</td><td>5</td><td>6</td><td>6</td><td>7</td><td>7</td><td>6</td><td> 4</td><td>  53.74023</td></tr>\n",
       "\t<tr><th scope=row>281</th><td>6</td><td>6</td><td>4</td><td>6</td><td>4</td><td>6</td><td>4</td><td>5</td><td> 6</td><td>5</td><td>⋯</td><td>4</td><td>4</td><td>3</td><td>4</td><td>4</td><td>6</td><td>5</td><td>5</td><td>86</td><td> 859.76039</td></tr>\n",
       "\t<tr><th scope=row>64</th><td>4</td><td>3</td><td>6</td><td>3</td><td>1</td><td>3</td><td>4</td><td>5</td><td> 6</td><td>5</td><td>⋯</td><td>1</td><td>4</td><td>5</td><td>4</td><td>5</td><td>5</td><td>4</td><td>4</td><td>56</td><td> 561.09089</td></tr>\n",
       "\t<tr><th scope=row>277</th><td>7</td><td>3</td><td>2</td><td>6</td><td>2</td><td>6</td><td>4</td><td>7</td><td>11</td><td>6</td><td>⋯</td><td>6</td><td>5</td><td>4</td><td>6</td><td>5</td><td>4</td><td>4</td><td>4</td><td>29</td><td> 314.62988</td></tr>\n",
       "\t<tr><th scope=row>63</th><td>1</td><td>1</td><td>7</td><td>7</td><td>1</td><td>1</td><td>7</td><td>7</td><td> 7</td><td>6</td><td>⋯</td><td>7</td><td>7</td><td>4</td><td>4</td><td>7</td><td>6</td><td>7</td><td>3</td><td>93</td><td>1138.87630</td></tr>\n",
       "\t<tr><th scope=row>122</th><td>4</td><td>2</td><td>5</td><td>6</td><td>2</td><td>2</td><td>6</td><td>6</td><td> 7</td><td>5</td><td>⋯</td><td>6</td><td>7</td><td>6</td><td>4</td><td>6</td><td>5</td><td>6</td><td>7</td><td>53</td><td> 619.80023</td></tr>\n",
       "\t<tr><th scope=row>181</th><td>5</td><td>1</td><td>6</td><td>6</td><td>1</td><td>7</td><td>6</td><td>4</td><td> 5</td><td>5</td><td>⋯</td><td>6</td><td>6</td><td>6</td><td>5</td><td>7</td><td>5</td><td>6</td><td>4</td><td>63</td><td> 746.00584</td></tr>\n",
       "\t<tr><th scope=row>3</th><td>4</td><td>6</td><td>5</td><td>2</td><td>4</td><td>4</td><td>7</td><td>7</td><td> 7</td><td>3</td><td>⋯</td><td>5</td><td>7</td><td>2</td><td>7</td><td>7</td><td>3</td><td>4</td><td>3</td><td>82</td><td> 716.26923</td></tr>\n",
       "\t<tr><th scope=row>227</th><td>5</td><td>6</td><td>7</td><td>6</td><td>2</td><td>1</td><td>6</td><td>6</td><td> 6</td><td>3</td><td>⋯</td><td>6</td><td>6</td><td>1</td><td>1</td><td>7</td><td>6</td><td>3</td><td>1</td><td>53</td><td> 562.60328</td></tr>\n",
       "\t<tr><th scope=row>97</th><td>4</td><td>4</td><td>5</td><td>7</td><td>1</td><td>1</td><td>6</td><td>6</td><td> 7</td><td>7</td><td>⋯</td><td>6</td><td>1</td><td>7</td><td>5</td><td>5</td><td>7</td><td>6</td><td>5</td><td>68</td><td> 724.46314</td></tr>\n",
       "\t<tr><th scope=row>58</th><td>7</td><td>7</td><td>6</td><td>7</td><td>1</td><td>4</td><td>7</td><td>7</td><td> 7</td><td>6</td><td>⋯</td><td>6</td><td>6</td><td>3</td><td>7</td><td>6</td><td>7</td><td>6</td><td>7</td><td>89</td><td>1126.10337</td></tr>\n",
       "\t<tr><th scope=row>172</th><td>4</td><td>1</td><td>6</td><td>6</td><td>1</td><td>2</td><td>7</td><td>7</td><td> 7</td><td>7</td><td>⋯</td><td>7</td><td>7</td><td>7</td><td>6</td><td>6</td><td>7</td><td>6</td><td>6</td><td>35</td><td> 450.79731</td></tr>\n",
       "\t<tr><th scope=row>135</th><td>3</td><td>5</td><td>5</td><td>6</td><td>1</td><td>2</td><td>7</td><td>6</td><td> 5</td><td>3</td><td>⋯</td><td>7</td><td>6</td><td>6</td><td>7</td><td>2</td><td>7</td><td>7</td><td>4</td><td>38</td><td> 406.52615</td></tr>\n",
       "\t<tr><th scope=row>95</th><td>6</td><td>2</td><td>5</td><td>6</td><td>4</td><td>4</td><td>7</td><td>6</td><td> 7</td><td>4</td><td>⋯</td><td>6</td><td>6</td><td>7</td><td>6</td><td>6</td><td>2</td><td>6</td><td>5</td><td>60</td><td> 610.32995</td></tr>\n",
       "\t<tr><th scope=row>68</th><td>3</td><td>1</td><td>6</td><td>6</td><td>4</td><td>2</td><td>6</td><td>4</td><td> 7</td><td>2</td><td>⋯</td><td>6</td><td>5</td><td>6</td><td>7</td><td>7</td><td>5</td><td>1</td><td>5</td><td>73</td><td> 822.74827</td></tr>\n",
       "\t<tr><th scope=row>246</th><td>7</td><td>1</td><td>7</td><td>7</td><td>2</td><td>7</td><td>4</td><td>7</td><td> 7</td><td>7</td><td>⋯</td><td>7</td><td>7</td><td>4</td><td>3</td><td>7</td><td>7</td><td>4</td><td>1</td><td>76</td><td> 997.50874</td></tr>\n",
       "\t<tr><th scope=row>239</th><td>5</td><td>2</td><td>4</td><td>7</td><td>2</td><td>5</td><td>6</td><td>6</td><td> 7</td><td>2</td><td>⋯</td><td>4</td><td>5</td><td>3</td><td>5</td><td>5</td><td>4</td><td>5</td><td>5</td><td>13</td><td> 155.20305</td></tr>\n",
       "\t<tr><th scope=row>169</th><td>4</td><td>1</td><td>6</td><td>6</td><td>2</td><td>3</td><td>4</td><td>4</td><td> 5</td><td>6</td><td>⋯</td><td>4</td><td>5</td><td>6</td><td>3</td><td>4</td><td>6</td><td>6</td><td>3</td><td>56</td><td> 618.82614</td></tr>\n",
       "\t<tr><th scope=row>82</th><td>7</td><td>2</td><td>7</td><td>5</td><td>1</td><td>5</td><td>7</td><td>6</td><td> 7</td><td>6</td><td>⋯</td><td>7</td><td>7</td><td>5</td><td>7</td><td>6</td><td>5</td><td>5</td><td>2</td><td>12</td><td> 153.23407</td></tr>\n",
       "\t<tr><th scope=row>110</th><td>6</td><td>2</td><td>4</td><td>7</td><td>1</td><td>1</td><td>6</td><td>7</td><td> 6</td><td>7</td><td>⋯</td><td>7</td><td>7</td><td>7</td><td>7</td><td>6</td><td>5</td><td>7</td><td>5</td><td>45</td><td> 528.09979</td></tr>\n",
       "\t<tr><th scope=row>70</th><td>3</td><td>1</td><td>7</td><td>6</td><td>1</td><td>5</td><td>5</td><td>5</td><td> 6</td><td>6</td><td>⋯</td><td>6</td><td>6</td><td>5</td><td>5</td><td>6</td><td>5</td><td>6</td><td>5</td><td>63</td><td> 729.14766</td></tr>\n",
       "\t<tr><th scope=row>191</th><td>7</td><td>6</td><td>7</td><td>7</td><td>6</td><td>7</td><td>7</td><td>7</td><td> 7</td><td>2</td><td>⋯</td><td>7</td><td>7</td><td>7</td><td>7</td><td>6</td><td>1</td><td>7</td><td>6</td><td>18</td><td> 183.68500</td></tr>\n",
       "\t<tr><th scope=row>4</th><td>4</td><td>3</td><td>7</td><td>6</td><td>5</td><td>4</td><td>7</td><td>6</td><td> 6</td><td>5</td><td>⋯</td><td>7</td><td>5</td><td>7</td><td>6</td><td>4</td><td>6</td><td>6</td><td>7</td><td>89</td><td> 925.61451</td></tr>\n",
       "\t<tr><th scope=row>273</th><td>3</td><td>2</td><td>4</td><td>6</td><td>2</td><td>5</td><td>5</td><td>6</td><td> 6</td><td>5</td><td>⋯</td><td>6</td><td>6</td><td>4</td><td>3</td><td>6</td><td>5</td><td>5</td><td>3</td><td>62</td><td> 687.50651</td></tr>\n",
       "\t<tr><th scope=row>156</th><td>3</td><td>3</td><td>6</td><td>5</td><td>1</td><td>1</td><td>6</td><td>3</td><td> 2</td><td>5</td><td>⋯</td><td>6</td><td>7</td><td>5</td><td>2</td><td>5</td><td>4</td><td>6</td><td>2</td><td>64</td><td> 718.29593</td></tr>\n",
       "\t<tr><th scope=row>266</th><td>6</td><td>3</td><td>6</td><td>6</td><td>2</td><td>4</td><td>3</td><td>7</td><td> 6</td><td>6</td><td>⋯</td><td>6</td><td>5</td><td>2</td><td>3</td><td>6</td><td>4</td><td>3</td><td>5</td><td>10</td><td> 114.51315</td></tr>\n",
       "\t<tr><th scope=row>⋮</th><td>⋮</td><td>⋮</td><td>⋮</td><td>⋮</td><td>⋮</td><td>⋮</td><td>⋮</td><td>⋮</td><td>⋮</td><td>⋮</td><td>⋱</td><td>⋮</td><td>⋮</td><td>⋮</td><td>⋮</td><td>⋮</td><td>⋮</td><td>⋮</td><td>⋮</td><td>⋮</td><td>⋮</td></tr>\n",
       "\t<tr><th scope=row>92</th><td>4</td><td>3</td><td>6</td><td>7</td><td>1.000000</td><td>1.000000</td><td>6</td><td>7.0000</td><td> 7</td><td>6</td><td>⋯</td><td>7</td><td>7</td><td>1</td><td>7.000000</td><td>7</td><td>3</td><td>7</td><td>5</td><td>51</td><td> 624.28062</td></tr>\n",
       "\t<tr><th scope=row>262</th><td>4</td><td>2</td><td>6</td><td>6</td><td>2.000000</td><td>5.000000</td><td>5</td><td>5.0000</td><td> 5</td><td>6</td><td>⋯</td><td>5</td><td>6</td><td>5</td><td>5.000000</td><td>6</td><td>6</td><td>5</td><td>4</td><td>30</td><td> 359.33948</td></tr>\n",
       "\t<tr><th scope=row>23</th><td>5</td><td>1</td><td>6</td><td>6</td><td>1.000000</td><td>7.000000</td><td>6</td><td>3.0000</td><td> 5</td><td>5</td><td>⋯</td><td>6</td><td>6</td><td>6</td><td>5.000000</td><td>7</td><td>5</td><td>6</td><td>4</td><td>53</td><td> 641.73302</td></tr>\n",
       "\t<tr><th scope=row>243</th><td>3</td><td>1</td><td>6</td><td>7</td><td>1.000000</td><td>6.000000</td><td>3</td><td>5.0000</td><td> 7</td><td>7</td><td>⋯</td><td>6</td><td>6</td><td>2</td><td>6.000000</td><td>6</td><td>7</td><td>4</td><td>1</td><td>38</td><td> 487.43818</td></tr>\n",
       "\t<tr><th scope=row>35</th><td>2</td><td>2</td><td>6</td><td>4</td><td>4.000000</td><td>2.000000</td><td>5</td><td>6.0000</td><td> 7</td><td>4</td><td>⋯</td><td>7</td><td>4</td><td>6</td><td>3.000000</td><td>5</td><td>5</td><td>6</td><td>7</td><td>44</td><td> 438.75394</td></tr>\n",
       "\t<tr><th scope=row>113</th><td>2</td><td>4</td><td>4</td><td>5</td><td>3.000000</td><td>2.000000</td><td>6</td><td>4.0000</td><td> 5</td><td>7</td><td>⋯</td><td>4</td><td>7</td><td>7</td><td>4.000000</td><td>6</td><td>7</td><td>6</td><td>1</td><td>49</td><td> 616.76997</td></tr>\n",
       "\t<tr><th scope=row>41</th><td>2</td><td>5</td><td>7</td><td>5</td><td>3.000000</td><td>1.000000</td><td>6</td><td>6.0000</td><td> 4</td><td>4</td><td>⋯</td><td>6</td><td>4</td><td>7</td><td>5.000000</td><td>5</td><td>2</td><td>6</td><td>2</td><td>76</td><td> 671.03419</td></tr>\n",
       "\t<tr><th scope=row>124</th><td>3</td><td>3</td><td>4</td><td>6</td><td>1.000000</td><td>2.000000</td><td>4</td><td>6.0000</td><td> 6</td><td>6</td><td>⋯</td><td>6</td><td>6</td><td>5</td><td>4.000000</td><td>5</td><td>4</td><td>5</td><td>5</td><td>74</td><td> 826.84332</td></tr>\n",
       "\t<tr><th scope=row>184</th><td>7</td><td>2</td><td>7</td><td>6</td><td>2.000000</td><td>2.000000</td><td>4</td><td>7.0000</td><td> 7</td><td>7</td><td>⋯</td><td>6</td><td>6</td><td>7</td><td>4.000000</td><td>5</td><td>5</td><td>6</td><td>4</td><td>24</td><td> 279.89798</td></tr>\n",
       "\t<tr><th scope=row>229</th><td>3</td><td>2</td><td>6</td><td>6</td><td>2.167315</td><td>3.196078</td><td>2</td><td>4.0000</td><td> 6</td><td>6</td><td>⋯</td><td>3</td><td>6</td><td>5</td><td>5.000000</td><td>6</td><td>3</td><td>6</td><td>3</td><td>40</td><td> 373.82868</td></tr>\n",
       "\t<tr><th scope=row>108</th><td>6</td><td>4</td><td>3</td><td>5</td><td>5.000000</td><td>6.000000</td><td>4</td><td>6.0000</td><td> 5</td><td>2</td><td>⋯</td><td>4</td><td>6</td><td>6</td><td>6.000000</td><td>6</td><td>2</td><td>6</td><td>3</td><td> 5</td><td>  61.66354</td></tr>\n",
       "\t<tr><th scope=row>80</th><td>2</td><td>2</td><td>7</td><td>5</td><td>4.000000</td><td>1.000000</td><td>5</td><td>7.0000</td><td> 4</td><td>4</td><td>⋯</td><td>6</td><td>6</td><td>3</td><td>5.000000</td><td>6</td><td>4</td><td>2</td><td>5</td><td>59</td><td> 671.70870</td></tr>\n",
       "\t<tr><th scope=row>189</th><td>5</td><td>2</td><td>7</td><td>7</td><td>2.000000</td><td>3.000000</td><td>6</td><td>5.0000</td><td> 6</td><td>7</td><td>⋯</td><td>6</td><td>7</td><td>6</td><td>6.000000</td><td>5</td><td>7</td><td>7</td><td>4</td><td>73</td><td> 895.78481</td></tr>\n",
       "\t<tr><th scope=row>42</th><td>6</td><td>2</td><td>6</td><td>7</td><td>1.000000</td><td>4.000000</td><td>5</td><td>4.0000</td><td> 5</td><td>5</td><td>⋯</td><td>6</td><td>6</td><td>6</td><td>6.000000</td><td>7</td><td>4</td><td>7</td><td>3</td><td>34</td><td> 404.10299</td></tr>\n",
       "\t<tr><th scope=row>86</th><td>5</td><td>7</td><td>7</td><td>6</td><td>6.000000</td><td>1.000000</td><td>4</td><td>7.0000</td><td> 7</td><td>4</td><td>⋯</td><td>7</td><td>7</td><td>3</td><td>7.000000</td><td>4</td><td>3</td><td>7</td><td>4</td><td>94</td><td> 939.50426</td></tr>\n",
       "\t<tr><th scope=row>284</th><td>4</td><td>2</td><td>6</td><td>7</td><td>6.000000</td><td>3.000000</td><td>5</td><td>6.0000</td><td> 4</td><td>2</td><td>⋯</td><td>7</td><td>7</td><td>7</td><td>7.000000</td><td>7</td><td>2</td><td>1</td><td>7</td><td>20</td><td> 202.40902</td></tr>\n",
       "\t<tr><th scope=row>20</th><td>2</td><td>3</td><td>4</td><td>6</td><td>1.000000</td><td>7.000000</td><td>4</td><td>4.0000</td><td> 5</td><td>4</td><td>⋯</td><td>5</td><td>4</td><td>7</td><td>2.000000</td><td>5</td><td>6</td><td>5</td><td>3</td><td>50</td><td> 532.23648</td></tr>\n",
       "\t<tr><th scope=row>90</th><td>6</td><td>2</td><td>5</td><td>6</td><td>1.000000</td><td>5.000000</td><td>6</td><td>6.0000</td><td> 6</td><td>3</td><td>⋯</td><td>1</td><td>6</td><td>4</td><td>6.000000</td><td>5</td><td>7</td><td>6</td><td>3</td><td>89</td><td> 980.29913</td></tr>\n",
       "\t<tr><th scope=row>282</th><td>6</td><td>1</td><td>7</td><td>7</td><td>1.000000</td><td>7.000000</td><td>1</td><td>7.0000</td><td>11</td><td>7</td><td>⋯</td><td>7</td><td>7</td><td>2</td><td>7.000000</td><td>7</td><td>7</td><td>4</td><td>4</td><td>30</td><td> 394.34491</td></tr>\n",
       "\t<tr><th scope=row>84</th><td>6</td><td>3</td><td>7</td><td>7</td><td>2.000000</td><td>1.000000</td><td>6</td><td>6.0000</td><td> 7</td><td>6</td><td>⋯</td><td>7</td><td>7</td><td>7</td><td>4.000000</td><td>7</td><td>6</td><td>5</td><td>4</td><td>92</td><td>1176.35530</td></tr>\n",
       "\t<tr><th scope=row>177</th><td>7</td><td>4</td><td>6</td><td>7</td><td>2.000000</td><td>2.000000</td><td>7</td><td>7.0000</td><td> 6</td><td>5</td><td>⋯</td><td>7</td><td>6</td><td>7</td><td>5.000000</td><td>4</td><td>1</td><td>7</td><td>6</td><td>10</td><td> 105.86330</td></tr>\n",
       "\t<tr><th scope=row>102</th><td>5</td><td>2</td><td>6</td><td>6</td><td>1.000000</td><td>1.000000</td><td>4</td><td>5.0000</td><td> 6</td><td>4</td><td>⋯</td><td>5</td><td>6</td><td>6</td><td>4.886719</td><td>6</td><td>5</td><td>7</td><td>4</td><td>76</td><td> 862.92790</td></tr>\n",
       "\t<tr><th scope=row>245</th><td>7</td><td>6</td><td>4</td><td>6</td><td>6.000000</td><td>4.000000</td><td>5</td><td>5.0000</td><td> 7</td><td>3</td><td>⋯</td><td>6</td><td>5</td><td>2</td><td>6.000000</td><td>5</td><td>6</td><td>5</td><td>5</td><td>62</td><td> 590.91576</td></tr>\n",
       "\t<tr><th scope=row>272</th><td>5</td><td>7</td><td>6</td><td>7</td><td>5.000000</td><td>4.000000</td><td>1</td><td>7.0000</td><td> 6</td><td>4</td><td>⋯</td><td>7</td><td>4</td><td>1</td><td>4.000000</td><td>1</td><td>4</td><td>1</td><td>1</td><td>59</td><td> 471.88175</td></tr>\n",
       "\t<tr><th scope=row>71</th><td>1</td><td>3</td><td>7</td><td>7</td><td>3.000000</td><td>1.000000</td><td>5</td><td>6.0000</td><td> 7</td><td>6</td><td>⋯</td><td>7</td><td>6</td><td>2</td><td>2.000000</td><td>5</td><td>4</td><td>5</td><td>6</td><td>71</td><td> 800.78358</td></tr>\n",
       "\t<tr><th scope=row>198</th><td>6</td><td>1</td><td>2</td><td>7</td><td>2.000000</td><td>7.000000</td><td>7</td><td>7.0000</td><td> 7</td><td>6</td><td>⋯</td><td>6</td><td>6</td><td>6</td><td>7.000000</td><td>6</td><td>7</td><td>6</td><td>1</td><td>21</td><td> 277.36992</td></tr>\n",
       "\t<tr><th scope=row>251</th><td>6</td><td>1</td><td>4</td><td>6</td><td>1.000000</td><td>5.000000</td><td>4</td><td>6.0000</td><td> 6</td><td>7</td><td>⋯</td><td>6</td><td>4</td><td>5</td><td>5.000000</td><td>4</td><td>6</td><td>4</td><td>1</td><td>81</td><td> 894.61819</td></tr>\n",
       "\t<tr><th scope=row>144</th><td>1</td><td>4</td><td>7</td><td>5</td><td>1.000000</td><td>1.000000</td><td>5</td><td>5.7393</td><td> 7</td><td>4</td><td>⋯</td><td>7</td><td>7</td><td>7</td><td>4.000000</td><td>5</td><td>5</td><td>7</td><td>4</td><td>31</td><td> 348.73612</td></tr>\n",
       "\t<tr><th scope=row>185</th><td>7</td><td>2</td><td>7</td><td>5</td><td>2.000000</td><td>5.000000</td><td>7</td><td>6.0000</td><td> 7</td><td>6</td><td>⋯</td><td>7</td><td>7</td><td>5</td><td>7.000000</td><td>6</td><td>5</td><td>5</td><td>2</td><td> 5</td><td>  71.53318</td></tr>\n",
       "\t<tr><th scope=row>240</th><td>6</td><td>2</td><td>7</td><td>6</td><td>1.000000</td><td>3.196078</td><td>4</td><td>6.0000</td><td> 7</td><td>7</td><td>⋯</td><td>5</td><td>5</td><td>5</td><td>6.000000</td><td>5</td><td>4</td><td>5</td><td>3</td><td>73</td><td> 797.05008</td></tr>\n",
       "</tbody>\n",
       "</table>\n"
      ],
      "text/latex": [
       "A matrix: 258 × 46 of type dbl\n",
       "\\begin{tabular}{r|lllllllllllllllllllll}\n",
       "  & E1 & N2 & RA3 & C4 & N5 & RE6 & O7 & A8 & A9 & RC10 & ⋯ & A37 & C38 & RO39 & E40 & C41 & RC42 & O43 & O44 & Satisfaction & Score\\\\\n",
       "\\hline\n",
       "\t234 & 6 & 1 & 6 & 7 & 1 & 3 & 1 & 5 &  7 & 7 & ⋯ & 6 & 7 & 1 & 7 & 7 & 3 & 7 & 3 & 86 & 1065.59651\\\\\n",
       "\t91 & 5 & 2 & 7 & 6 & 1 & 4 & 6 & 5 &  6 & 7 & ⋯ & 5 & 5 & 4 & 5 & 5 & 4 & 5 & 3 & 96 & 1053.98029\\\\\n",
       "\t155 & 1 & 1 & 7 & 6 & 1 & 1 & 5 & 6 &  6 & 3 & ⋯ & 7 & 7 & 6 & 7 & 6 & 6 & 6 & 4 &  3 &   40.81595\\\\\n",
       "\t6 & 7 & 6 & 4 & 6 & 6 & 7 & 7 & 7 &  7 & 2 & ⋯ & 7 & 7 & 7 & 7 & 6 & 1 & 7 & 7 & 77 &  748.29304\\\\\n",
       "\t18 & 1 & 3 & 7 & 7 & 2 & 1 & 5 & 7 &  7 & 6 & ⋯ & 7 & 6 & 5 & 6 & 6 & 7 & 7 & 6 &  4 &   53.74023\\\\\n",
       "\t281 & 6 & 6 & 4 & 6 & 4 & 6 & 4 & 5 &  6 & 5 & ⋯ & 4 & 4 & 3 & 4 & 4 & 6 & 5 & 5 & 86 &  859.76039\\\\\n",
       "\t64 & 4 & 3 & 6 & 3 & 1 & 3 & 4 & 5 &  6 & 5 & ⋯ & 1 & 4 & 5 & 4 & 5 & 5 & 4 & 4 & 56 &  561.09089\\\\\n",
       "\t277 & 7 & 3 & 2 & 6 & 2 & 6 & 4 & 7 & 11 & 6 & ⋯ & 6 & 5 & 4 & 6 & 5 & 4 & 4 & 4 & 29 &  314.62988\\\\\n",
       "\t63 & 1 & 1 & 7 & 7 & 1 & 1 & 7 & 7 &  7 & 6 & ⋯ & 7 & 7 & 4 & 4 & 7 & 6 & 7 & 3 & 93 & 1138.87630\\\\\n",
       "\t122 & 4 & 2 & 5 & 6 & 2 & 2 & 6 & 6 &  7 & 5 & ⋯ & 6 & 7 & 6 & 4 & 6 & 5 & 6 & 7 & 53 &  619.80023\\\\\n",
       "\t181 & 5 & 1 & 6 & 6 & 1 & 7 & 6 & 4 &  5 & 5 & ⋯ & 6 & 6 & 6 & 5 & 7 & 5 & 6 & 4 & 63 &  746.00584\\\\\n",
       "\t3 & 4 & 6 & 5 & 2 & 4 & 4 & 7 & 7 &  7 & 3 & ⋯ & 5 & 7 & 2 & 7 & 7 & 3 & 4 & 3 & 82 &  716.26923\\\\\n",
       "\t227 & 5 & 6 & 7 & 6 & 2 & 1 & 6 & 6 &  6 & 3 & ⋯ & 6 & 6 & 1 & 1 & 7 & 6 & 3 & 1 & 53 &  562.60328\\\\\n",
       "\t97 & 4 & 4 & 5 & 7 & 1 & 1 & 6 & 6 &  7 & 7 & ⋯ & 6 & 1 & 7 & 5 & 5 & 7 & 6 & 5 & 68 &  724.46314\\\\\n",
       "\t58 & 7 & 7 & 6 & 7 & 1 & 4 & 7 & 7 &  7 & 6 & ⋯ & 6 & 6 & 3 & 7 & 6 & 7 & 6 & 7 & 89 & 1126.10337\\\\\n",
       "\t172 & 4 & 1 & 6 & 6 & 1 & 2 & 7 & 7 &  7 & 7 & ⋯ & 7 & 7 & 7 & 6 & 6 & 7 & 6 & 6 & 35 &  450.79731\\\\\n",
       "\t135 & 3 & 5 & 5 & 6 & 1 & 2 & 7 & 6 &  5 & 3 & ⋯ & 7 & 6 & 6 & 7 & 2 & 7 & 7 & 4 & 38 &  406.52615\\\\\n",
       "\t95 & 6 & 2 & 5 & 6 & 4 & 4 & 7 & 6 &  7 & 4 & ⋯ & 6 & 6 & 7 & 6 & 6 & 2 & 6 & 5 & 60 &  610.32995\\\\\n",
       "\t68 & 3 & 1 & 6 & 6 & 4 & 2 & 6 & 4 &  7 & 2 & ⋯ & 6 & 5 & 6 & 7 & 7 & 5 & 1 & 5 & 73 &  822.74827\\\\\n",
       "\t246 & 7 & 1 & 7 & 7 & 2 & 7 & 4 & 7 &  7 & 7 & ⋯ & 7 & 7 & 4 & 3 & 7 & 7 & 4 & 1 & 76 &  997.50874\\\\\n",
       "\t239 & 5 & 2 & 4 & 7 & 2 & 5 & 6 & 6 &  7 & 2 & ⋯ & 4 & 5 & 3 & 5 & 5 & 4 & 5 & 5 & 13 &  155.20305\\\\\n",
       "\t169 & 4 & 1 & 6 & 6 & 2 & 3 & 4 & 4 &  5 & 6 & ⋯ & 4 & 5 & 6 & 3 & 4 & 6 & 6 & 3 & 56 &  618.82614\\\\\n",
       "\t82 & 7 & 2 & 7 & 5 & 1 & 5 & 7 & 6 &  7 & 6 & ⋯ & 7 & 7 & 5 & 7 & 6 & 5 & 5 & 2 & 12 &  153.23407\\\\\n",
       "\t110 & 6 & 2 & 4 & 7 & 1 & 1 & 6 & 7 &  6 & 7 & ⋯ & 7 & 7 & 7 & 7 & 6 & 5 & 7 & 5 & 45 &  528.09979\\\\\n",
       "\t70 & 3 & 1 & 7 & 6 & 1 & 5 & 5 & 5 &  6 & 6 & ⋯ & 6 & 6 & 5 & 5 & 6 & 5 & 6 & 5 & 63 &  729.14766\\\\\n",
       "\t191 & 7 & 6 & 7 & 7 & 6 & 7 & 7 & 7 &  7 & 2 & ⋯ & 7 & 7 & 7 & 7 & 6 & 1 & 7 & 6 & 18 &  183.68500\\\\\n",
       "\t4 & 4 & 3 & 7 & 6 & 5 & 4 & 7 & 6 &  6 & 5 & ⋯ & 7 & 5 & 7 & 6 & 4 & 6 & 6 & 7 & 89 &  925.61451\\\\\n",
       "\t273 & 3 & 2 & 4 & 6 & 2 & 5 & 5 & 6 &  6 & 5 & ⋯ & 6 & 6 & 4 & 3 & 6 & 5 & 5 & 3 & 62 &  687.50651\\\\\n",
       "\t156 & 3 & 3 & 6 & 5 & 1 & 1 & 6 & 3 &  2 & 5 & ⋯ & 6 & 7 & 5 & 2 & 5 & 4 & 6 & 2 & 64 &  718.29593\\\\\n",
       "\t266 & 6 & 3 & 6 & 6 & 2 & 4 & 3 & 7 &  6 & 6 & ⋯ & 6 & 5 & 2 & 3 & 6 & 4 & 3 & 5 & 10 &  114.51315\\\\\n",
       "\t⋮ & ⋮ & ⋮ & ⋮ & ⋮ & ⋮ & ⋮ & ⋮ & ⋮ & ⋮ & ⋮ & ⋱ & ⋮ & ⋮ & ⋮ & ⋮ & ⋮ & ⋮ & ⋮ & ⋮ & ⋮ & ⋮\\\\\n",
       "\t92 & 4 & 3 & 6 & 7 & 1.000000 & 1.000000 & 6 & 7.0000 &  7 & 6 & ⋯ & 7 & 7 & 1 & 7.000000 & 7 & 3 & 7 & 5 & 51 &  624.28062\\\\\n",
       "\t262 & 4 & 2 & 6 & 6 & 2.000000 & 5.000000 & 5 & 5.0000 &  5 & 6 & ⋯ & 5 & 6 & 5 & 5.000000 & 6 & 6 & 5 & 4 & 30 &  359.33948\\\\\n",
       "\t23 & 5 & 1 & 6 & 6 & 1.000000 & 7.000000 & 6 & 3.0000 &  5 & 5 & ⋯ & 6 & 6 & 6 & 5.000000 & 7 & 5 & 6 & 4 & 53 &  641.73302\\\\\n",
       "\t243 & 3 & 1 & 6 & 7 & 1.000000 & 6.000000 & 3 & 5.0000 &  7 & 7 & ⋯ & 6 & 6 & 2 & 6.000000 & 6 & 7 & 4 & 1 & 38 &  487.43818\\\\\n",
       "\t35 & 2 & 2 & 6 & 4 & 4.000000 & 2.000000 & 5 & 6.0000 &  7 & 4 & ⋯ & 7 & 4 & 6 & 3.000000 & 5 & 5 & 6 & 7 & 44 &  438.75394\\\\\n",
       "\t113 & 2 & 4 & 4 & 5 & 3.000000 & 2.000000 & 6 & 4.0000 &  5 & 7 & ⋯ & 4 & 7 & 7 & 4.000000 & 6 & 7 & 6 & 1 & 49 &  616.76997\\\\\n",
       "\t41 & 2 & 5 & 7 & 5 & 3.000000 & 1.000000 & 6 & 6.0000 &  4 & 4 & ⋯ & 6 & 4 & 7 & 5.000000 & 5 & 2 & 6 & 2 & 76 &  671.03419\\\\\n",
       "\t124 & 3 & 3 & 4 & 6 & 1.000000 & 2.000000 & 4 & 6.0000 &  6 & 6 & ⋯ & 6 & 6 & 5 & 4.000000 & 5 & 4 & 5 & 5 & 74 &  826.84332\\\\\n",
       "\t184 & 7 & 2 & 7 & 6 & 2.000000 & 2.000000 & 4 & 7.0000 &  7 & 7 & ⋯ & 6 & 6 & 7 & 4.000000 & 5 & 5 & 6 & 4 & 24 &  279.89798\\\\\n",
       "\t229 & 3 & 2 & 6 & 6 & 2.167315 & 3.196078 & 2 & 4.0000 &  6 & 6 & ⋯ & 3 & 6 & 5 & 5.000000 & 6 & 3 & 6 & 3 & 40 &  373.82868\\\\\n",
       "\t108 & 6 & 4 & 3 & 5 & 5.000000 & 6.000000 & 4 & 6.0000 &  5 & 2 & ⋯ & 4 & 6 & 6 & 6.000000 & 6 & 2 & 6 & 3 &  5 &   61.66354\\\\\n",
       "\t80 & 2 & 2 & 7 & 5 & 4.000000 & 1.000000 & 5 & 7.0000 &  4 & 4 & ⋯ & 6 & 6 & 3 & 5.000000 & 6 & 4 & 2 & 5 & 59 &  671.70870\\\\\n",
       "\t189 & 5 & 2 & 7 & 7 & 2.000000 & 3.000000 & 6 & 5.0000 &  6 & 7 & ⋯ & 6 & 7 & 6 & 6.000000 & 5 & 7 & 7 & 4 & 73 &  895.78481\\\\\n",
       "\t42 & 6 & 2 & 6 & 7 & 1.000000 & 4.000000 & 5 & 4.0000 &  5 & 5 & ⋯ & 6 & 6 & 6 & 6.000000 & 7 & 4 & 7 & 3 & 34 &  404.10299\\\\\n",
       "\t86 & 5 & 7 & 7 & 6 & 6.000000 & 1.000000 & 4 & 7.0000 &  7 & 4 & ⋯ & 7 & 7 & 3 & 7.000000 & 4 & 3 & 7 & 4 & 94 &  939.50426\\\\\n",
       "\t284 & 4 & 2 & 6 & 7 & 6.000000 & 3.000000 & 5 & 6.0000 &  4 & 2 & ⋯ & 7 & 7 & 7 & 7.000000 & 7 & 2 & 1 & 7 & 20 &  202.40902\\\\\n",
       "\t20 & 2 & 3 & 4 & 6 & 1.000000 & 7.000000 & 4 & 4.0000 &  5 & 4 & ⋯ & 5 & 4 & 7 & 2.000000 & 5 & 6 & 5 & 3 & 50 &  532.23648\\\\\n",
       "\t90 & 6 & 2 & 5 & 6 & 1.000000 & 5.000000 & 6 & 6.0000 &  6 & 3 & ⋯ & 1 & 6 & 4 & 6.000000 & 5 & 7 & 6 & 3 & 89 &  980.29913\\\\\n",
       "\t282 & 6 & 1 & 7 & 7 & 1.000000 & 7.000000 & 1 & 7.0000 & 11 & 7 & ⋯ & 7 & 7 & 2 & 7.000000 & 7 & 7 & 4 & 4 & 30 &  394.34491\\\\\n",
       "\t84 & 6 & 3 & 7 & 7 & 2.000000 & 1.000000 & 6 & 6.0000 &  7 & 6 & ⋯ & 7 & 7 & 7 & 4.000000 & 7 & 6 & 5 & 4 & 92 & 1176.35530\\\\\n",
       "\t177 & 7 & 4 & 6 & 7 & 2.000000 & 2.000000 & 7 & 7.0000 &  6 & 5 & ⋯ & 7 & 6 & 7 & 5.000000 & 4 & 1 & 7 & 6 & 10 &  105.86330\\\\\n",
       "\t102 & 5 & 2 & 6 & 6 & 1.000000 & 1.000000 & 4 & 5.0000 &  6 & 4 & ⋯ & 5 & 6 & 6 & 4.886719 & 6 & 5 & 7 & 4 & 76 &  862.92790\\\\\n",
       "\t245 & 7 & 6 & 4 & 6 & 6.000000 & 4.000000 & 5 & 5.0000 &  7 & 3 & ⋯ & 6 & 5 & 2 & 6.000000 & 5 & 6 & 5 & 5 & 62 &  590.91576\\\\\n",
       "\t272 & 5 & 7 & 6 & 7 & 5.000000 & 4.000000 & 1 & 7.0000 &  6 & 4 & ⋯ & 7 & 4 & 1 & 4.000000 & 1 & 4 & 1 & 1 & 59 &  471.88175\\\\\n",
       "\t71 & 1 & 3 & 7 & 7 & 3.000000 & 1.000000 & 5 & 6.0000 &  7 & 6 & ⋯ & 7 & 6 & 2 & 2.000000 & 5 & 4 & 5 & 6 & 71 &  800.78358\\\\\n",
       "\t198 & 6 & 1 & 2 & 7 & 2.000000 & 7.000000 & 7 & 7.0000 &  7 & 6 & ⋯ & 6 & 6 & 6 & 7.000000 & 6 & 7 & 6 & 1 & 21 &  277.36992\\\\\n",
       "\t251 & 6 & 1 & 4 & 6 & 1.000000 & 5.000000 & 4 & 6.0000 &  6 & 7 & ⋯ & 6 & 4 & 5 & 5.000000 & 4 & 6 & 4 & 1 & 81 &  894.61819\\\\\n",
       "\t144 & 1 & 4 & 7 & 5 & 1.000000 & 1.000000 & 5 & 5.7393 &  7 & 4 & ⋯ & 7 & 7 & 7 & 4.000000 & 5 & 5 & 7 & 4 & 31 &  348.73612\\\\\n",
       "\t185 & 7 & 2 & 7 & 5 & 2.000000 & 5.000000 & 7 & 6.0000 &  7 & 6 & ⋯ & 7 & 7 & 5 & 7.000000 & 6 & 5 & 5 & 2 &  5 &   71.53318\\\\\n",
       "\t240 & 6 & 2 & 7 & 6 & 1.000000 & 3.196078 & 4 & 6.0000 &  7 & 7 & ⋯ & 5 & 5 & 5 & 6.000000 & 5 & 4 & 5 & 3 & 73 &  797.05008\\\\\n",
       "\\end{tabular}\n"
      ],
      "text/markdown": [
       "\n",
       "A matrix: 258 × 46 of type dbl\n",
       "\n",
       "| <!--/--> | E1 | N2 | RA3 | C4 | N5 | RE6 | O7 | A8 | A9 | RC10 | ⋯ | A37 | C38 | RO39 | E40 | C41 | RC42 | O43 | O44 | Satisfaction | Score |\n",
       "|---|---|---|---|---|---|---|---|---|---|---|---|---|---|---|---|---|---|---|---|---|---|\n",
       "| 234 | 6 | 1 | 6 | 7 | 1 | 3 | 1 | 5 |  7 | 7 | ⋯ | 6 | 7 | 1 | 7 | 7 | 3 | 7 | 3 | 86 | 1065.59651 |\n",
       "| 91 | 5 | 2 | 7 | 6 | 1 | 4 | 6 | 5 |  6 | 7 | ⋯ | 5 | 5 | 4 | 5 | 5 | 4 | 5 | 3 | 96 | 1053.98029 |\n",
       "| 155 | 1 | 1 | 7 | 6 | 1 | 1 | 5 | 6 |  6 | 3 | ⋯ | 7 | 7 | 6 | 7 | 6 | 6 | 6 | 4 |  3 |   40.81595 |\n",
       "| 6 | 7 | 6 | 4 | 6 | 6 | 7 | 7 | 7 |  7 | 2 | ⋯ | 7 | 7 | 7 | 7 | 6 | 1 | 7 | 7 | 77 |  748.29304 |\n",
       "| 18 | 1 | 3 | 7 | 7 | 2 | 1 | 5 | 7 |  7 | 6 | ⋯ | 7 | 6 | 5 | 6 | 6 | 7 | 7 | 6 |  4 |   53.74023 |\n",
       "| 281 | 6 | 6 | 4 | 6 | 4 | 6 | 4 | 5 |  6 | 5 | ⋯ | 4 | 4 | 3 | 4 | 4 | 6 | 5 | 5 | 86 |  859.76039 |\n",
       "| 64 | 4 | 3 | 6 | 3 | 1 | 3 | 4 | 5 |  6 | 5 | ⋯ | 1 | 4 | 5 | 4 | 5 | 5 | 4 | 4 | 56 |  561.09089 |\n",
       "| 277 | 7 | 3 | 2 | 6 | 2 | 6 | 4 | 7 | 11 | 6 | ⋯ | 6 | 5 | 4 | 6 | 5 | 4 | 4 | 4 | 29 |  314.62988 |\n",
       "| 63 | 1 | 1 | 7 | 7 | 1 | 1 | 7 | 7 |  7 | 6 | ⋯ | 7 | 7 | 4 | 4 | 7 | 6 | 7 | 3 | 93 | 1138.87630 |\n",
       "| 122 | 4 | 2 | 5 | 6 | 2 | 2 | 6 | 6 |  7 | 5 | ⋯ | 6 | 7 | 6 | 4 | 6 | 5 | 6 | 7 | 53 |  619.80023 |\n",
       "| 181 | 5 | 1 | 6 | 6 | 1 | 7 | 6 | 4 |  5 | 5 | ⋯ | 6 | 6 | 6 | 5 | 7 | 5 | 6 | 4 | 63 |  746.00584 |\n",
       "| 3 | 4 | 6 | 5 | 2 | 4 | 4 | 7 | 7 |  7 | 3 | ⋯ | 5 | 7 | 2 | 7 | 7 | 3 | 4 | 3 | 82 |  716.26923 |\n",
       "| 227 | 5 | 6 | 7 | 6 | 2 | 1 | 6 | 6 |  6 | 3 | ⋯ | 6 | 6 | 1 | 1 | 7 | 6 | 3 | 1 | 53 |  562.60328 |\n",
       "| 97 | 4 | 4 | 5 | 7 | 1 | 1 | 6 | 6 |  7 | 7 | ⋯ | 6 | 1 | 7 | 5 | 5 | 7 | 6 | 5 | 68 |  724.46314 |\n",
       "| 58 | 7 | 7 | 6 | 7 | 1 | 4 | 7 | 7 |  7 | 6 | ⋯ | 6 | 6 | 3 | 7 | 6 | 7 | 6 | 7 | 89 | 1126.10337 |\n",
       "| 172 | 4 | 1 | 6 | 6 | 1 | 2 | 7 | 7 |  7 | 7 | ⋯ | 7 | 7 | 7 | 6 | 6 | 7 | 6 | 6 | 35 |  450.79731 |\n",
       "| 135 | 3 | 5 | 5 | 6 | 1 | 2 | 7 | 6 |  5 | 3 | ⋯ | 7 | 6 | 6 | 7 | 2 | 7 | 7 | 4 | 38 |  406.52615 |\n",
       "| 95 | 6 | 2 | 5 | 6 | 4 | 4 | 7 | 6 |  7 | 4 | ⋯ | 6 | 6 | 7 | 6 | 6 | 2 | 6 | 5 | 60 |  610.32995 |\n",
       "| 68 | 3 | 1 | 6 | 6 | 4 | 2 | 6 | 4 |  7 | 2 | ⋯ | 6 | 5 | 6 | 7 | 7 | 5 | 1 | 5 | 73 |  822.74827 |\n",
       "| 246 | 7 | 1 | 7 | 7 | 2 | 7 | 4 | 7 |  7 | 7 | ⋯ | 7 | 7 | 4 | 3 | 7 | 7 | 4 | 1 | 76 |  997.50874 |\n",
       "| 239 | 5 | 2 | 4 | 7 | 2 | 5 | 6 | 6 |  7 | 2 | ⋯ | 4 | 5 | 3 | 5 | 5 | 4 | 5 | 5 | 13 |  155.20305 |\n",
       "| 169 | 4 | 1 | 6 | 6 | 2 | 3 | 4 | 4 |  5 | 6 | ⋯ | 4 | 5 | 6 | 3 | 4 | 6 | 6 | 3 | 56 |  618.82614 |\n",
       "| 82 | 7 | 2 | 7 | 5 | 1 | 5 | 7 | 6 |  7 | 6 | ⋯ | 7 | 7 | 5 | 7 | 6 | 5 | 5 | 2 | 12 |  153.23407 |\n",
       "| 110 | 6 | 2 | 4 | 7 | 1 | 1 | 6 | 7 |  6 | 7 | ⋯ | 7 | 7 | 7 | 7 | 6 | 5 | 7 | 5 | 45 |  528.09979 |\n",
       "| 70 | 3 | 1 | 7 | 6 | 1 | 5 | 5 | 5 |  6 | 6 | ⋯ | 6 | 6 | 5 | 5 | 6 | 5 | 6 | 5 | 63 |  729.14766 |\n",
       "| 191 | 7 | 6 | 7 | 7 | 6 | 7 | 7 | 7 |  7 | 2 | ⋯ | 7 | 7 | 7 | 7 | 6 | 1 | 7 | 6 | 18 |  183.68500 |\n",
       "| 4 | 4 | 3 | 7 | 6 | 5 | 4 | 7 | 6 |  6 | 5 | ⋯ | 7 | 5 | 7 | 6 | 4 | 6 | 6 | 7 | 89 |  925.61451 |\n",
       "| 273 | 3 | 2 | 4 | 6 | 2 | 5 | 5 | 6 |  6 | 5 | ⋯ | 6 | 6 | 4 | 3 | 6 | 5 | 5 | 3 | 62 |  687.50651 |\n",
       "| 156 | 3 | 3 | 6 | 5 | 1 | 1 | 6 | 3 |  2 | 5 | ⋯ | 6 | 7 | 5 | 2 | 5 | 4 | 6 | 2 | 64 |  718.29593 |\n",
       "| 266 | 6 | 3 | 6 | 6 | 2 | 4 | 3 | 7 |  6 | 6 | ⋯ | 6 | 5 | 2 | 3 | 6 | 4 | 3 | 5 | 10 |  114.51315 |\n",
       "| ⋮ | ⋮ | ⋮ | ⋮ | ⋮ | ⋮ | ⋮ | ⋮ | ⋮ | ⋮ | ⋮ | ⋱ | ⋮ | ⋮ | ⋮ | ⋮ | ⋮ | ⋮ | ⋮ | ⋮ | ⋮ | ⋮ |\n",
       "| 92 | 4 | 3 | 6 | 7 | 1.000000 | 1.000000 | 6 | 7.0000 |  7 | 6 | ⋯ | 7 | 7 | 1 | 7.000000 | 7 | 3 | 7 | 5 | 51 |  624.28062 |\n",
       "| 262 | 4 | 2 | 6 | 6 | 2.000000 | 5.000000 | 5 | 5.0000 |  5 | 6 | ⋯ | 5 | 6 | 5 | 5.000000 | 6 | 6 | 5 | 4 | 30 |  359.33948 |\n",
       "| 23 | 5 | 1 | 6 | 6 | 1.000000 | 7.000000 | 6 | 3.0000 |  5 | 5 | ⋯ | 6 | 6 | 6 | 5.000000 | 7 | 5 | 6 | 4 | 53 |  641.73302 |\n",
       "| 243 | 3 | 1 | 6 | 7 | 1.000000 | 6.000000 | 3 | 5.0000 |  7 | 7 | ⋯ | 6 | 6 | 2 | 6.000000 | 6 | 7 | 4 | 1 | 38 |  487.43818 |\n",
       "| 35 | 2 | 2 | 6 | 4 | 4.000000 | 2.000000 | 5 | 6.0000 |  7 | 4 | ⋯ | 7 | 4 | 6 | 3.000000 | 5 | 5 | 6 | 7 | 44 |  438.75394 |\n",
       "| 113 | 2 | 4 | 4 | 5 | 3.000000 | 2.000000 | 6 | 4.0000 |  5 | 7 | ⋯ | 4 | 7 | 7 | 4.000000 | 6 | 7 | 6 | 1 | 49 |  616.76997 |\n",
       "| 41 | 2 | 5 | 7 | 5 | 3.000000 | 1.000000 | 6 | 6.0000 |  4 | 4 | ⋯ | 6 | 4 | 7 | 5.000000 | 5 | 2 | 6 | 2 | 76 |  671.03419 |\n",
       "| 124 | 3 | 3 | 4 | 6 | 1.000000 | 2.000000 | 4 | 6.0000 |  6 | 6 | ⋯ | 6 | 6 | 5 | 4.000000 | 5 | 4 | 5 | 5 | 74 |  826.84332 |\n",
       "| 184 | 7 | 2 | 7 | 6 | 2.000000 | 2.000000 | 4 | 7.0000 |  7 | 7 | ⋯ | 6 | 6 | 7 | 4.000000 | 5 | 5 | 6 | 4 | 24 |  279.89798 |\n",
       "| 229 | 3 | 2 | 6 | 6 | 2.167315 | 3.196078 | 2 | 4.0000 |  6 | 6 | ⋯ | 3 | 6 | 5 | 5.000000 | 6 | 3 | 6 | 3 | 40 |  373.82868 |\n",
       "| 108 | 6 | 4 | 3 | 5 | 5.000000 | 6.000000 | 4 | 6.0000 |  5 | 2 | ⋯ | 4 | 6 | 6 | 6.000000 | 6 | 2 | 6 | 3 |  5 |   61.66354 |\n",
       "| 80 | 2 | 2 | 7 | 5 | 4.000000 | 1.000000 | 5 | 7.0000 |  4 | 4 | ⋯ | 6 | 6 | 3 | 5.000000 | 6 | 4 | 2 | 5 | 59 |  671.70870 |\n",
       "| 189 | 5 | 2 | 7 | 7 | 2.000000 | 3.000000 | 6 | 5.0000 |  6 | 7 | ⋯ | 6 | 7 | 6 | 6.000000 | 5 | 7 | 7 | 4 | 73 |  895.78481 |\n",
       "| 42 | 6 | 2 | 6 | 7 | 1.000000 | 4.000000 | 5 | 4.0000 |  5 | 5 | ⋯ | 6 | 6 | 6 | 6.000000 | 7 | 4 | 7 | 3 | 34 |  404.10299 |\n",
       "| 86 | 5 | 7 | 7 | 6 | 6.000000 | 1.000000 | 4 | 7.0000 |  7 | 4 | ⋯ | 7 | 7 | 3 | 7.000000 | 4 | 3 | 7 | 4 | 94 |  939.50426 |\n",
       "| 284 | 4 | 2 | 6 | 7 | 6.000000 | 3.000000 | 5 | 6.0000 |  4 | 2 | ⋯ | 7 | 7 | 7 | 7.000000 | 7 | 2 | 1 | 7 | 20 |  202.40902 |\n",
       "| 20 | 2 | 3 | 4 | 6 | 1.000000 | 7.000000 | 4 | 4.0000 |  5 | 4 | ⋯ | 5 | 4 | 7 | 2.000000 | 5 | 6 | 5 | 3 | 50 |  532.23648 |\n",
       "| 90 | 6 | 2 | 5 | 6 | 1.000000 | 5.000000 | 6 | 6.0000 |  6 | 3 | ⋯ | 1 | 6 | 4 | 6.000000 | 5 | 7 | 6 | 3 | 89 |  980.29913 |\n",
       "| 282 | 6 | 1 | 7 | 7 | 1.000000 | 7.000000 | 1 | 7.0000 | 11 | 7 | ⋯ | 7 | 7 | 2 | 7.000000 | 7 | 7 | 4 | 4 | 30 |  394.34491 |\n",
       "| 84 | 6 | 3 | 7 | 7 | 2.000000 | 1.000000 | 6 | 6.0000 |  7 | 6 | ⋯ | 7 | 7 | 7 | 4.000000 | 7 | 6 | 5 | 4 | 92 | 1176.35530 |\n",
       "| 177 | 7 | 4 | 6 | 7 | 2.000000 | 2.000000 | 7 | 7.0000 |  6 | 5 | ⋯ | 7 | 6 | 7 | 5.000000 | 4 | 1 | 7 | 6 | 10 |  105.86330 |\n",
       "| 102 | 5 | 2 | 6 | 6 | 1.000000 | 1.000000 | 4 | 5.0000 |  6 | 4 | ⋯ | 5 | 6 | 6 | 4.886719 | 6 | 5 | 7 | 4 | 76 |  862.92790 |\n",
       "| 245 | 7 | 6 | 4 | 6 | 6.000000 | 4.000000 | 5 | 5.0000 |  7 | 3 | ⋯ | 6 | 5 | 2 | 6.000000 | 5 | 6 | 5 | 5 | 62 |  590.91576 |\n",
       "| 272 | 5 | 7 | 6 | 7 | 5.000000 | 4.000000 | 1 | 7.0000 |  6 | 4 | ⋯ | 7 | 4 | 1 | 4.000000 | 1 | 4 | 1 | 1 | 59 |  471.88175 |\n",
       "| 71 | 1 | 3 | 7 | 7 | 3.000000 | 1.000000 | 5 | 6.0000 |  7 | 6 | ⋯ | 7 | 6 | 2 | 2.000000 | 5 | 4 | 5 | 6 | 71 |  800.78358 |\n",
       "| 198 | 6 | 1 | 2 | 7 | 2.000000 | 7.000000 | 7 | 7.0000 |  7 | 6 | ⋯ | 6 | 6 | 6 | 7.000000 | 6 | 7 | 6 | 1 | 21 |  277.36992 |\n",
       "| 251 | 6 | 1 | 4 | 6 | 1.000000 | 5.000000 | 4 | 6.0000 |  6 | 7 | ⋯ | 6 | 4 | 5 | 5.000000 | 4 | 6 | 4 | 1 | 81 |  894.61819 |\n",
       "| 144 | 1 | 4 | 7 | 5 | 1.000000 | 1.000000 | 5 | 5.7393 |  7 | 4 | ⋯ | 7 | 7 | 7 | 4.000000 | 5 | 5 | 7 | 4 | 31 |  348.73612 |\n",
       "| 185 | 7 | 2 | 7 | 5 | 2.000000 | 5.000000 | 7 | 6.0000 |  7 | 6 | ⋯ | 7 | 7 | 5 | 7.000000 | 6 | 5 | 5 | 2 |  5 |   71.53318 |\n",
       "| 240 | 6 | 2 | 7 | 6 | 1.000000 | 3.196078 | 4 | 6.0000 |  7 | 7 | ⋯ | 5 | 5 | 5 | 6.000000 | 5 | 4 | 5 | 3 | 73 |  797.05008 |\n",
       "\n"
      ],
      "text/plain": [
       "    E1 N2 RA3 C4 N5       RE6      O7 A8     A9 RC10 ⋯ A37 C38 RO39 E40     \n",
       "234 6  1  6   7  1        3        1  5       7 7    ⋯ 6   7   1    7       \n",
       "91  5  2  7   6  1        4        6  5       6 7    ⋯ 5   5   4    5       \n",
       "155 1  1  7   6  1        1        5  6       6 3    ⋯ 7   7   6    7       \n",
       "6   7  6  4   6  6        7        7  7       7 2    ⋯ 7   7   7    7       \n",
       "18  1  3  7   7  2        1        5  7       7 6    ⋯ 7   6   5    6       \n",
       "281 6  6  4   6  4        6        4  5       6 5    ⋯ 4   4   3    4       \n",
       "64  4  3  6   3  1        3        4  5       6 5    ⋯ 1   4   5    4       \n",
       "277 7  3  2   6  2        6        4  7      11 6    ⋯ 6   5   4    6       \n",
       "63  1  1  7   7  1        1        7  7       7 6    ⋯ 7   7   4    4       \n",
       "122 4  2  5   6  2        2        6  6       7 5    ⋯ 6   7   6    4       \n",
       "181 5  1  6   6  1        7        6  4       5 5    ⋯ 6   6   6    5       \n",
       "3   4  6  5   2  4        4        7  7       7 3    ⋯ 5   7   2    7       \n",
       "227 5  6  7   6  2        1        6  6       6 3    ⋯ 6   6   1    1       \n",
       "97  4  4  5   7  1        1        6  6       7 7    ⋯ 6   1   7    5       \n",
       "58  7  7  6   7  1        4        7  7       7 6    ⋯ 6   6   3    7       \n",
       "172 4  1  6   6  1        2        7  7       7 7    ⋯ 7   7   7    6       \n",
       "135 3  5  5   6  1        2        7  6       5 3    ⋯ 7   6   6    7       \n",
       "95  6  2  5   6  4        4        7  6       7 4    ⋯ 6   6   7    6       \n",
       "68  3  1  6   6  4        2        6  4       7 2    ⋯ 6   5   6    7       \n",
       "246 7  1  7   7  2        7        4  7       7 7    ⋯ 7   7   4    3       \n",
       "239 5  2  4   7  2        5        6  6       7 2    ⋯ 4   5   3    5       \n",
       "169 4  1  6   6  2        3        4  4       5 6    ⋯ 4   5   6    3       \n",
       "82  7  2  7   5  1        5        7  6       7 6    ⋯ 7   7   5    7       \n",
       "110 6  2  4   7  1        1        6  7       6 7    ⋯ 7   7   7    7       \n",
       "70  3  1  7   6  1        5        5  5       6 6    ⋯ 6   6   5    5       \n",
       "191 7  6  7   7  6        7        7  7       7 2    ⋯ 7   7   7    7       \n",
       "4   4  3  7   6  5        4        7  6       6 5    ⋯ 7   5   7    6       \n",
       "273 3  2  4   6  2        5        5  6       6 5    ⋯ 6   6   4    3       \n",
       "156 3  3  6   5  1        1        6  3       2 5    ⋯ 6   7   5    2       \n",
       "266 6  3  6   6  2        4        3  7       6 6    ⋯ 6   5   2    3       \n",
       "⋮   ⋮  ⋮  ⋮   ⋮  ⋮        ⋮        ⋮  ⋮      ⋮  ⋮    ⋱ ⋮   ⋮   ⋮    ⋮       \n",
       "92  4  3  6   7  1.000000 1.000000 6  7.0000  7 6    ⋯ 7   7   1    7.000000\n",
       "262 4  2  6   6  2.000000 5.000000 5  5.0000  5 6    ⋯ 5   6   5    5.000000\n",
       "23  5  1  6   6  1.000000 7.000000 6  3.0000  5 5    ⋯ 6   6   6    5.000000\n",
       "243 3  1  6   7  1.000000 6.000000 3  5.0000  7 7    ⋯ 6   6   2    6.000000\n",
       "35  2  2  6   4  4.000000 2.000000 5  6.0000  7 4    ⋯ 7   4   6    3.000000\n",
       "113 2  4  4   5  3.000000 2.000000 6  4.0000  5 7    ⋯ 4   7   7    4.000000\n",
       "41  2  5  7   5  3.000000 1.000000 6  6.0000  4 4    ⋯ 6   4   7    5.000000\n",
       "124 3  3  4   6  1.000000 2.000000 4  6.0000  6 6    ⋯ 6   6   5    4.000000\n",
       "184 7  2  7   6  2.000000 2.000000 4  7.0000  7 7    ⋯ 6   6   7    4.000000\n",
       "229 3  2  6   6  2.167315 3.196078 2  4.0000  6 6    ⋯ 3   6   5    5.000000\n",
       "108 6  4  3   5  5.000000 6.000000 4  6.0000  5 2    ⋯ 4   6   6    6.000000\n",
       "80  2  2  7   5  4.000000 1.000000 5  7.0000  4 4    ⋯ 6   6   3    5.000000\n",
       "189 5  2  7   7  2.000000 3.000000 6  5.0000  6 7    ⋯ 6   7   6    6.000000\n",
       "42  6  2  6   7  1.000000 4.000000 5  4.0000  5 5    ⋯ 6   6   6    6.000000\n",
       "86  5  7  7   6  6.000000 1.000000 4  7.0000  7 4    ⋯ 7   7   3    7.000000\n",
       "284 4  2  6   7  6.000000 3.000000 5  6.0000  4 2    ⋯ 7   7   7    7.000000\n",
       "20  2  3  4   6  1.000000 7.000000 4  4.0000  5 4    ⋯ 5   4   7    2.000000\n",
       "90  6  2  5   6  1.000000 5.000000 6  6.0000  6 3    ⋯ 1   6   4    6.000000\n",
       "282 6  1  7   7  1.000000 7.000000 1  7.0000 11 7    ⋯ 7   7   2    7.000000\n",
       "84  6  3  7   7  2.000000 1.000000 6  6.0000  7 6    ⋯ 7   7   7    4.000000\n",
       "177 7  4  6   7  2.000000 2.000000 7  7.0000  6 5    ⋯ 7   6   7    5.000000\n",
       "102 5  2  6   6  1.000000 1.000000 4  5.0000  6 4    ⋯ 5   6   6    4.886719\n",
       "245 7  6  4   6  6.000000 4.000000 5  5.0000  7 3    ⋯ 6   5   2    6.000000\n",
       "272 5  7  6   7  5.000000 4.000000 1  7.0000  6 4    ⋯ 7   4   1    4.000000\n",
       "71  1  3  7   7  3.000000 1.000000 5  6.0000  7 6    ⋯ 7   6   2    2.000000\n",
       "198 6  1  2   7  2.000000 7.000000 7  7.0000  7 6    ⋯ 6   6   6    7.000000\n",
       "251 6  1  4   6  1.000000 5.000000 4  6.0000  6 7    ⋯ 6   4   5    5.000000\n",
       "144 1  4  7   5  1.000000 1.000000 5  5.7393  7 4    ⋯ 7   7   7    4.000000\n",
       "185 7  2  7   5  2.000000 5.000000 7  6.0000  7 6    ⋯ 7   7   5    7.000000\n",
       "240 6  2  7   6  1.000000 3.196078 4  6.0000  7 7    ⋯ 5   5   5    6.000000\n",
       "    C41 RC42 O43 O44 Satisfaction Score     \n",
       "234 7   3    7   3   86           1065.59651\n",
       "91  5   4    5   3   96           1053.98029\n",
       "155 6   6    6   4    3             40.81595\n",
       "6   6   1    7   7   77            748.29304\n",
       "18  6   7    7   6    4             53.74023\n",
       "281 4   6    5   5   86            859.76039\n",
       "64  5   5    4   4   56            561.09089\n",
       "277 5   4    4   4   29            314.62988\n",
       "63  7   6    7   3   93           1138.87630\n",
       "122 6   5    6   7   53            619.80023\n",
       "181 7   5    6   4   63            746.00584\n",
       "3   7   3    4   3   82            716.26923\n",
       "227 7   6    3   1   53            562.60328\n",
       "97  5   7    6   5   68            724.46314\n",
       "58  6   7    6   7   89           1126.10337\n",
       "172 6   7    6   6   35            450.79731\n",
       "135 2   7    7   4   38            406.52615\n",
       "95  6   2    6   5   60            610.32995\n",
       "68  7   5    1   5   73            822.74827\n",
       "246 7   7    4   1   76            997.50874\n",
       "239 5   4    5   5   13            155.20305\n",
       "169 4   6    6   3   56            618.82614\n",
       "82  6   5    5   2   12            153.23407\n",
       "110 6   5    7   5   45            528.09979\n",
       "70  6   5    6   5   63            729.14766\n",
       "191 6   1    7   6   18            183.68500\n",
       "4   4   6    6   7   89            925.61451\n",
       "273 6   5    5   3   62            687.50651\n",
       "156 5   4    6   2   64            718.29593\n",
       "266 6   4    3   5   10            114.51315\n",
       "⋮   ⋮   ⋮    ⋮   ⋮   ⋮            ⋮         \n",
       "92  7   3    7   5   51            624.28062\n",
       "262 6   6    5   4   30            359.33948\n",
       "23  7   5    6   4   53            641.73302\n",
       "243 6   7    4   1   38            487.43818\n",
       "35  5   5    6   7   44            438.75394\n",
       "113 6   7    6   1   49            616.76997\n",
       "41  5   2    6   2   76            671.03419\n",
       "124 5   4    5   5   74            826.84332\n",
       "184 5   5    6   4   24            279.89798\n",
       "229 6   3    6   3   40            373.82868\n",
       "108 6   2    6   3    5             61.66354\n",
       "80  6   4    2   5   59            671.70870\n",
       "189 5   7    7   4   73            895.78481\n",
       "42  7   4    7   3   34            404.10299\n",
       "86  4   3    7   4   94            939.50426\n",
       "284 7   2    1   7   20            202.40902\n",
       "20  5   6    5   3   50            532.23648\n",
       "90  5   7    6   3   89            980.29913\n",
       "282 7   7    4   4   30            394.34491\n",
       "84  7   6    5   4   92           1176.35530\n",
       "177 4   1    7   6   10            105.86330\n",
       "102 6   5    7   4   76            862.92790\n",
       "245 5   6    5   5   62            590.91576\n",
       "272 1   4    1   1   59            471.88175\n",
       "71  5   4    5   6   71            800.78358\n",
       "198 6   7    6   1   21            277.36992\n",
       "251 4   6    4   1   81            894.61819\n",
       "144 5   5    7   4   31            348.73612\n",
       "185 6   5    5   2    5             71.53318\n",
       "240 5   4    5   3   73            797.05008"
      ]
     },
     "metadata": {},
     "output_type": "display_data"
    }
   ],
   "source": [
    "data=read.table(\"Archivos/personality_scores.txt\",head=T)\n",
    "m=as.matrix(data)\n",
    "\n",
    "col <- ncol(m)\n",
    "fil <- nrow(m)\n",
    "\n",
    "for(i in 1:fil){\n",
    "  for(j in 1:col) {\n",
    "    if(is.na(m[i,j])){\n",
    "      m[i,j] = mean(as.matrix(m[,j]),na.rm = T)\n",
    "    }\n",
    "  }\n",
    "}\n",
    "m"
   ]
  },
  {
   "cell_type": "markdown",
   "id": "9f07b495",
   "metadata": {},
   "source": [
    "#### 2. Compile el cuestionario para encontrar los cinco factores de personalidad de cada individuo."
   ]
  },
  {
   "cell_type": "markdown",
   "id": "bbc65d7a",
   "metadata": {},
   "source": [
    "Ya con los datos sin (NA) ahora se procede con el segundo paso que corresponde a copilar los datos del cuestionario en los 5 factores de personalidad (OCEAN). Para poder realizar esto se debe tener en cuenta el nombre de cada una de las columnas, pues es ahí donde se específica el factor al que pertenecen. Otro aspecto que se debe tener en cuenta es que cuando en el nombre de la columna aparece una R eso quiere decir que es negativo y por ende el valor resta al total del puntaje. \n",
    "\n",
    "Este proceso se realiza a continuación y arroja el resultado de los puntajes para cada uno de los factores:"
   ]
  },
  {
   "cell_type": "code",
   "execution_count": 18,
   "id": "82735e4a",
   "metadata": {},
   "outputs": [
    {
     "data": {
      "text/html": [
       "<table class=\"dataframe\">\n",
       "<caption>A matrix: 258 × 7 of type dbl</caption>\n",
       "<thead>\n",
       "\t<tr><th></th><th scope=col>O</th><th scope=col>C</th><th scope=col>E</th><th scope=col>A</th><th scope=col>N</th><th scope=col></th><th scope=col></th></tr>\n",
       "</thead>\n",
       "<tbody>\n",
       "\t<tr><th scope=row>234</th><td>118</td><td>-7.101961</td><td>14</td><td>10</td><td> 6.492188</td><td>86</td><td>1065.59651</td></tr>\n",
       "\t<tr><th scope=row>91</th><td>134</td><td> 3.000000</td><td> 1</td><td> 8</td><td>10.000000</td><td>96</td><td>1053.98029</td></tr>\n",
       "\t<tr><th scope=row>155</th><td> 45</td><td> 5.000000</td><td> 5</td><td>12</td><td> 2.000000</td><td> 3</td><td>  40.81595</td></tr>\n",
       "\t<tr><th scope=row>6</th><td>124</td><td> 3.000000</td><td> 6</td><td>-2</td><td>14.000000</td><td>77</td><td> 748.29304</td></tr>\n",
       "\t<tr><th scope=row>18</th><td> 44</td><td> 7.000000</td><td> 1</td><td> 5</td><td> 2.000000</td><td> 4</td><td>  53.74023</td></tr>\n",
       "\t<tr><th scope=row>281</th><td>120</td><td>-1.000000</td><td>10</td><td> 3</td><td> 8.000000</td><td>86</td><td> 859.76039</td></tr>\n",
       "\t<tr><th scope=row>64</th><td> 88</td><td> 7.000000</td><td> 4</td><td>15</td><td> 7.000000</td><td>56</td><td> 561.09089</td></tr>\n",
       "\t<tr><th scope=row>277</th><td> 63</td><td> 2.000000</td><td> 8</td><td>11</td><td> 6.000000</td><td>29</td><td> 314.62988</td></tr>\n",
       "\t<tr><th scope=row>63</th><td>134</td><td> 4.000000</td><td> 3</td><td> 9</td><td> 8.000000</td><td>93</td><td>1138.87630</td></tr>\n",
       "\t<tr><th scope=row>122</th><td> 99</td><td> 5.000000</td><td> 9</td><td> 8</td><td> 4.000000</td><td>53</td><td> 619.80023</td></tr>\n",
       "\t<tr><th scope=row>181</th><td> 99</td><td> 0.000000</td><td> 7</td><td> 7</td><td>11.000000</td><td>63</td><td> 746.00584</td></tr>\n",
       "\t<tr><th scope=row>3</th><td>117</td><td>-2.000000</td><td>12</td><td> 4</td><td> 9.000000</td><td>82</td><td> 716.26923</td></tr>\n",
       "\t<tr><th scope=row>227</th><td> 87</td><td>-5.000000</td><td>11</td><td> 7</td><td> 5.000000</td><td>53</td><td> 562.60328</td></tr>\n",
       "\t<tr><th scope=row>97</th><td>108</td><td> 9.000000</td><td>10</td><td>-2</td><td> 0.000000</td><td>68</td><td> 724.46314</td></tr>\n",
       "\t<tr><th scope=row>58</th><td>133</td><td> 2.000000</td><td> 9</td><td> 6</td><td>11.000000</td><td>89</td><td>1126.10337</td></tr>\n",
       "\t<tr><th scope=row>172</th><td> 83</td><td>10.000000</td><td> 2</td><td> 8</td><td> 1.000000</td><td>35</td><td> 450.79731</td></tr>\n",
       "\t<tr><th scope=row>135</th><td> 80</td><td> 3.000000</td><td> 7</td><td> 0</td><td> 8.000000</td><td>38</td><td> 406.52615</td></tr>\n",
       "\t<tr><th scope=row>95</th><td> 97</td><td> 2.000000</td><td> 7</td><td> 5</td><td>-1.000000</td><td>60</td><td> 610.32995</td></tr>\n",
       "\t<tr><th scope=row>68</th><td>104</td><td>18.000000</td><td> 4</td><td> 3</td><td> 2.000000</td><td>73</td><td> 822.74827</td></tr>\n",
       "\t<tr><th scope=row>246</th><td>115</td><td>-1.000000</td><td> 9</td><td>15</td><td> 8.000000</td><td>76</td><td> 997.50874</td></tr>\n",
       "\t<tr><th scope=row>239</th><td> 50</td><td> 2.000000</td><td> 6</td><td> 4</td><td> 0.000000</td><td>13</td><td> 155.20305</td></tr>\n",
       "\t<tr><th scope=row>169</th><td> 89</td><td> 4.000000</td><td> 1</td><td>10</td><td> 4.000000</td><td>56</td><td> 618.82614</td></tr>\n",
       "\t<tr><th scope=row>82</th><td> 51</td><td> 6.000000</td><td> 2</td><td>11</td><td>12.000000</td><td>12</td><td> 153.23407</td></tr>\n",
       "\t<tr><th scope=row>110</th><td> 88</td><td> 4.000000</td><td> 6</td><td> 3</td><td> 3.000000</td><td>45</td><td> 528.09979</td></tr>\n",
       "\t<tr><th scope=row>70</th><td> 98</td><td> 6.000000</td><td> 0</td><td> 9</td><td> 8.000000</td><td>63</td><td> 729.14766</td></tr>\n",
       "\t<tr><th scope=row>191</th><td> 64</td><td> 5.000000</td><td> 6</td><td>-3</td><td>17.000000</td><td>18</td><td> 183.68500</td></tr>\n",
       "\t<tr><th scope=row>4</th><td>132</td><td> 9.000000</td><td> 1</td><td>-1</td><td> 4.000000</td><td>89</td><td> 925.61451</td></tr>\n",
       "\t<tr><th scope=row>273</th><td> 97</td><td> 6.000000</td><td> 6</td><td> 8</td><td> 5.000000</td><td>62</td><td> 687.50651</td></tr>\n",
       "\t<tr><th scope=row>156</th><td> 99</td><td>-2.000000</td><td> 3</td><td>11</td><td> 5.000000</td><td>64</td><td> 718.29593</td></tr>\n",
       "\t<tr><th scope=row>266</th><td> 48</td><td> 3.000000</td><td> 8</td><td> 9</td><td> 9.000000</td><td>10</td><td> 114.51315</td></tr>\n",
       "\t<tr><th scope=row>⋮</th><td>⋮</td><td>⋮</td><td>⋮</td><td>⋮</td><td>⋮</td><td>⋮</td><td>⋮</td></tr>\n",
       "\t<tr><th scope=row>92</th><td> 93.0000</td><td>-3.0000000</td><td> 5</td><td> 7</td><td> 4.00000</td><td>51</td><td> 624.28062</td></tr>\n",
       "\t<tr><th scope=row>262</th><td> 60.0000</td><td> 9.0000000</td><td> 7</td><td> 9</td><td> 7.00000</td><td>30</td><td> 359.33948</td></tr>\n",
       "\t<tr><th scope=row>23</th><td> 86.0000</td><td> 0.0000000</td><td> 6</td><td> 9</td><td>13.00000</td><td>53</td><td> 641.73302</td></tr>\n",
       "\t<tr><th scope=row>243</th><td> 70.0000</td><td>11.0000000</td><td> 4</td><td>13</td><td> 7.00000</td><td>38</td><td> 487.43818</td></tr>\n",
       "\t<tr><th scope=row>35</th><td> 81.0000</td><td>11.0000000</td><td> 1</td><td> 6</td><td> 0.00000</td><td>44</td><td> 438.75394</td></tr>\n",
       "\t<tr><th scope=row>113</th><td> 79.0000</td><td>11.0000000</td><td> 8</td><td>18</td><td>10.00000</td><td>49</td><td> 616.76997</td></tr>\n",
       "\t<tr><th scope=row>41</th><td>104.0000</td><td> 2.0000000</td><td>12</td><td> 6</td><td> 6.00000</td><td>76</td><td> 671.03419</td></tr>\n",
       "\t<tr><th scope=row>124</th><td>116.0000</td><td> 4.0000000</td><td> 7</td><td> 8</td><td> 6.00000</td><td>74</td><td> 826.84332</td></tr>\n",
       "\t<tr><th scope=row>184</th><td> 63.0000</td><td> 8.0000000</td><td> 9</td><td>10</td><td> 9.00000</td><td>24</td><td> 279.89798</td></tr>\n",
       "\t<tr><th scope=row>229</th><td> 62.0000</td><td>-0.8326848</td><td>10</td><td>12</td><td>10.19608</td><td>40</td><td> 373.82868</td></tr>\n",
       "\t<tr><th scope=row>108</th><td> 41.0000</td><td> 0.0000000</td><td>13</td><td> 2</td><td> 9.00000</td><td> 5</td><td>  61.66354</td></tr>\n",
       "\t<tr><th scope=row>80</th><td> 93.0000</td><td>-2.0000000</td><td> 3</td><td> 6</td><td> 6.00000</td><td>59</td><td> 671.70870</td></tr>\n",
       "\t<tr><th scope=row>189</th><td>112.0000</td><td> 2.0000000</td><td> 8</td><td> 5</td><td>10.00000</td><td>73</td><td> 895.78481</td></tr>\n",
       "\t<tr><th scope=row>42</th><td> 63.0000</td><td> 0.0000000</td><td> 9</td><td> 2</td><td> 5.00000</td><td>34</td><td> 404.10299</td></tr>\n",
       "\t<tr><th scope=row>86</th><td>126.0000</td><td> 4.0000000</td><td> 7</td><td> 2</td><td> 3.00000</td><td>94</td><td> 939.50426</td></tr>\n",
       "\t<tr><th scope=row>284</th><td> 62.0000</td><td>10.0000000</td><td>10</td><td>-9</td><td> 6.00000</td><td>20</td><td> 202.40902</td></tr>\n",
       "\t<tr><th scope=row>20</th><td> 86.0000</td><td> 7.0000000</td><td> 5</td><td> 4</td><td> 5.00000</td><td>50</td><td> 532.23648</td></tr>\n",
       "\t<tr><th scope=row>90</th><td>129.0000</td><td> 1.0000000</td><td> 6</td><td> 8</td><td> 4.00000</td><td>89</td><td> 980.29913</td></tr>\n",
       "\t<tr><th scope=row>282</th><td> 67.0000</td><td> 1.0000000</td><td> 8</td><td>14</td><td> 7.00000</td><td>30</td><td> 394.34491</td></tr>\n",
       "\t<tr><th scope=row>84</th><td>132.0000</td><td> 2.0000000</td><td> 8</td><td>10</td><td> 9.00000</td><td>92</td><td>1176.35530</td></tr>\n",
       "\t<tr><th scope=row>177</th><td> 48.0000</td><td> 1.0000000</td><td>10</td><td> 0</td><td> 8.00000</td><td>10</td><td> 105.86330</td></tr>\n",
       "\t<tr><th scope=row>102</th><td>109.1133</td><td>-5.0000000</td><td> 7</td><td>11</td><td> 3.00000</td><td>76</td><td> 862.92790</td></tr>\n",
       "\t<tr><th scope=row>245</th><td> 95.0000</td><td> 4.0000000</td><td>10</td><td>-2</td><td> 6.00000</td><td>62</td><td> 590.91576</td></tr>\n",
       "\t<tr><th scope=row>272</th><td> 86.0000</td><td> 5.0000000</td><td> 9</td><td>-3</td><td>15.00000</td><td>59</td><td> 471.88175</td></tr>\n",
       "\t<tr><th scope=row>71</th><td>109.0000</td><td> 3.0000000</td><td> 4</td><td> 7</td><td> 9.00000</td><td>71</td><td> 800.78358</td></tr>\n",
       "\t<tr><th scope=row>198</th><td> 58.0000</td><td>11.0000000</td><td> 3</td><td>10</td><td> 1.00000</td><td>21</td><td> 277.36992</td></tr>\n",
       "\t<tr><th scope=row>251</th><td>112.0000</td><td> 4.0000000</td><td> 3</td><td> 6</td><td> 6.00000</td><td>81</td><td> 894.61819</td></tr>\n",
       "\t<tr><th scope=row>144</th><td> 67.7393</td><td> 4.0000000</td><td> 6</td><td>11</td><td> 5.00000</td><td>31</td><td> 348.73612</td></tr>\n",
       "\t<tr><th scope=row>185</th><td> 44.0000</td><td> 7.0000000</td><td> 2</td><td>11</td><td>12.00000</td><td> 5</td><td>  71.53318</td></tr>\n",
       "\t<tr><th scope=row>240</th><td>106.0000</td><td> 6.0000000</td><td> 5</td><td>11</td><td>10.19608</td><td>73</td><td> 797.05008</td></tr>\n",
       "</tbody>\n",
       "</table>\n"
      ],
      "text/latex": [
       "A matrix: 258 × 7 of type dbl\n",
       "\\begin{tabular}{r|lllllll}\n",
       "  & O & C & E & A & N &  & \\\\\n",
       "\\hline\n",
       "\t234 & 118 & -7.101961 & 14 & 10 &  6.492188 & 86 & 1065.59651\\\\\n",
       "\t91 & 134 &  3.000000 &  1 &  8 & 10.000000 & 96 & 1053.98029\\\\\n",
       "\t155 &  45 &  5.000000 &  5 & 12 &  2.000000 &  3 &   40.81595\\\\\n",
       "\t6 & 124 &  3.000000 &  6 & -2 & 14.000000 & 77 &  748.29304\\\\\n",
       "\t18 &  44 &  7.000000 &  1 &  5 &  2.000000 &  4 &   53.74023\\\\\n",
       "\t281 & 120 & -1.000000 & 10 &  3 &  8.000000 & 86 &  859.76039\\\\\n",
       "\t64 &  88 &  7.000000 &  4 & 15 &  7.000000 & 56 &  561.09089\\\\\n",
       "\t277 &  63 &  2.000000 &  8 & 11 &  6.000000 & 29 &  314.62988\\\\\n",
       "\t63 & 134 &  4.000000 &  3 &  9 &  8.000000 & 93 & 1138.87630\\\\\n",
       "\t122 &  99 &  5.000000 &  9 &  8 &  4.000000 & 53 &  619.80023\\\\\n",
       "\t181 &  99 &  0.000000 &  7 &  7 & 11.000000 & 63 &  746.00584\\\\\n",
       "\t3 & 117 & -2.000000 & 12 &  4 &  9.000000 & 82 &  716.26923\\\\\n",
       "\t227 &  87 & -5.000000 & 11 &  7 &  5.000000 & 53 &  562.60328\\\\\n",
       "\t97 & 108 &  9.000000 & 10 & -2 &  0.000000 & 68 &  724.46314\\\\\n",
       "\t58 & 133 &  2.000000 &  9 &  6 & 11.000000 & 89 & 1126.10337\\\\\n",
       "\t172 &  83 & 10.000000 &  2 &  8 &  1.000000 & 35 &  450.79731\\\\\n",
       "\t135 &  80 &  3.000000 &  7 &  0 &  8.000000 & 38 &  406.52615\\\\\n",
       "\t95 &  97 &  2.000000 &  7 &  5 & -1.000000 & 60 &  610.32995\\\\\n",
       "\t68 & 104 & 18.000000 &  4 &  3 &  2.000000 & 73 &  822.74827\\\\\n",
       "\t246 & 115 & -1.000000 &  9 & 15 &  8.000000 & 76 &  997.50874\\\\\n",
       "\t239 &  50 &  2.000000 &  6 &  4 &  0.000000 & 13 &  155.20305\\\\\n",
       "\t169 &  89 &  4.000000 &  1 & 10 &  4.000000 & 56 &  618.82614\\\\\n",
       "\t82 &  51 &  6.000000 &  2 & 11 & 12.000000 & 12 &  153.23407\\\\\n",
       "\t110 &  88 &  4.000000 &  6 &  3 &  3.000000 & 45 &  528.09979\\\\\n",
       "\t70 &  98 &  6.000000 &  0 &  9 &  8.000000 & 63 &  729.14766\\\\\n",
       "\t191 &  64 &  5.000000 &  6 & -3 & 17.000000 & 18 &  183.68500\\\\\n",
       "\t4 & 132 &  9.000000 &  1 & -1 &  4.000000 & 89 &  925.61451\\\\\n",
       "\t273 &  97 &  6.000000 &  6 &  8 &  5.000000 & 62 &  687.50651\\\\\n",
       "\t156 &  99 & -2.000000 &  3 & 11 &  5.000000 & 64 &  718.29593\\\\\n",
       "\t266 &  48 &  3.000000 &  8 &  9 &  9.000000 & 10 &  114.51315\\\\\n",
       "\t⋮ & ⋮ & ⋮ & ⋮ & ⋮ & ⋮ & ⋮ & ⋮\\\\\n",
       "\t92 &  93.0000 & -3.0000000 &  5 &  7 &  4.00000 & 51 &  624.28062\\\\\n",
       "\t262 &  60.0000 &  9.0000000 &  7 &  9 &  7.00000 & 30 &  359.33948\\\\\n",
       "\t23 &  86.0000 &  0.0000000 &  6 &  9 & 13.00000 & 53 &  641.73302\\\\\n",
       "\t243 &  70.0000 & 11.0000000 &  4 & 13 &  7.00000 & 38 &  487.43818\\\\\n",
       "\t35 &  81.0000 & 11.0000000 &  1 &  6 &  0.00000 & 44 &  438.75394\\\\\n",
       "\t113 &  79.0000 & 11.0000000 &  8 & 18 & 10.00000 & 49 &  616.76997\\\\\n",
       "\t41 & 104.0000 &  2.0000000 & 12 &  6 &  6.00000 & 76 &  671.03419\\\\\n",
       "\t124 & 116.0000 &  4.0000000 &  7 &  8 &  6.00000 & 74 &  826.84332\\\\\n",
       "\t184 &  63.0000 &  8.0000000 &  9 & 10 &  9.00000 & 24 &  279.89798\\\\\n",
       "\t229 &  62.0000 & -0.8326848 & 10 & 12 & 10.19608 & 40 &  373.82868\\\\\n",
       "\t108 &  41.0000 &  0.0000000 & 13 &  2 &  9.00000 &  5 &   61.66354\\\\\n",
       "\t80 &  93.0000 & -2.0000000 &  3 &  6 &  6.00000 & 59 &  671.70870\\\\\n",
       "\t189 & 112.0000 &  2.0000000 &  8 &  5 & 10.00000 & 73 &  895.78481\\\\\n",
       "\t42 &  63.0000 &  0.0000000 &  9 &  2 &  5.00000 & 34 &  404.10299\\\\\n",
       "\t86 & 126.0000 &  4.0000000 &  7 &  2 &  3.00000 & 94 &  939.50426\\\\\n",
       "\t284 &  62.0000 & 10.0000000 & 10 & -9 &  6.00000 & 20 &  202.40902\\\\\n",
       "\t20 &  86.0000 &  7.0000000 &  5 &  4 &  5.00000 & 50 &  532.23648\\\\\n",
       "\t90 & 129.0000 &  1.0000000 &  6 &  8 &  4.00000 & 89 &  980.29913\\\\\n",
       "\t282 &  67.0000 &  1.0000000 &  8 & 14 &  7.00000 & 30 &  394.34491\\\\\n",
       "\t84 & 132.0000 &  2.0000000 &  8 & 10 &  9.00000 & 92 & 1176.35530\\\\\n",
       "\t177 &  48.0000 &  1.0000000 & 10 &  0 &  8.00000 & 10 &  105.86330\\\\\n",
       "\t102 & 109.1133 & -5.0000000 &  7 & 11 &  3.00000 & 76 &  862.92790\\\\\n",
       "\t245 &  95.0000 &  4.0000000 & 10 & -2 &  6.00000 & 62 &  590.91576\\\\\n",
       "\t272 &  86.0000 &  5.0000000 &  9 & -3 & 15.00000 & 59 &  471.88175\\\\\n",
       "\t71 & 109.0000 &  3.0000000 &  4 &  7 &  9.00000 & 71 &  800.78358\\\\\n",
       "\t198 &  58.0000 & 11.0000000 &  3 & 10 &  1.00000 & 21 &  277.36992\\\\\n",
       "\t251 & 112.0000 &  4.0000000 &  3 &  6 &  6.00000 & 81 &  894.61819\\\\\n",
       "\t144 &  67.7393 &  4.0000000 &  6 & 11 &  5.00000 & 31 &  348.73612\\\\\n",
       "\t185 &  44.0000 &  7.0000000 &  2 & 11 & 12.00000 &  5 &   71.53318\\\\\n",
       "\t240 & 106.0000 &  6.0000000 &  5 & 11 & 10.19608 & 73 &  797.05008\\\\\n",
       "\\end{tabular}\n"
      ],
      "text/markdown": [
       "\n",
       "A matrix: 258 × 7 of type dbl\n",
       "\n",
       "| <!--/--> | O | C | E | A | N | <!----> | <!----> |\n",
       "|---|---|---|---|---|---|---|---|\n",
       "| 234 | 118 | -7.101961 | 14 | 10 |  6.492188 | 86 | 1065.59651 |\n",
       "| 91 | 134 |  3.000000 |  1 |  8 | 10.000000 | 96 | 1053.98029 |\n",
       "| 155 |  45 |  5.000000 |  5 | 12 |  2.000000 |  3 |   40.81595 |\n",
       "| 6 | 124 |  3.000000 |  6 | -2 | 14.000000 | 77 |  748.29304 |\n",
       "| 18 |  44 |  7.000000 |  1 |  5 |  2.000000 |  4 |   53.74023 |\n",
       "| 281 | 120 | -1.000000 | 10 |  3 |  8.000000 | 86 |  859.76039 |\n",
       "| 64 |  88 |  7.000000 |  4 | 15 |  7.000000 | 56 |  561.09089 |\n",
       "| 277 |  63 |  2.000000 |  8 | 11 |  6.000000 | 29 |  314.62988 |\n",
       "| 63 | 134 |  4.000000 |  3 |  9 |  8.000000 | 93 | 1138.87630 |\n",
       "| 122 |  99 |  5.000000 |  9 |  8 |  4.000000 | 53 |  619.80023 |\n",
       "| 181 |  99 |  0.000000 |  7 |  7 | 11.000000 | 63 |  746.00584 |\n",
       "| 3 | 117 | -2.000000 | 12 |  4 |  9.000000 | 82 |  716.26923 |\n",
       "| 227 |  87 | -5.000000 | 11 |  7 |  5.000000 | 53 |  562.60328 |\n",
       "| 97 | 108 |  9.000000 | 10 | -2 |  0.000000 | 68 |  724.46314 |\n",
       "| 58 | 133 |  2.000000 |  9 |  6 | 11.000000 | 89 | 1126.10337 |\n",
       "| 172 |  83 | 10.000000 |  2 |  8 |  1.000000 | 35 |  450.79731 |\n",
       "| 135 |  80 |  3.000000 |  7 |  0 |  8.000000 | 38 |  406.52615 |\n",
       "| 95 |  97 |  2.000000 |  7 |  5 | -1.000000 | 60 |  610.32995 |\n",
       "| 68 | 104 | 18.000000 |  4 |  3 |  2.000000 | 73 |  822.74827 |\n",
       "| 246 | 115 | -1.000000 |  9 | 15 |  8.000000 | 76 |  997.50874 |\n",
       "| 239 |  50 |  2.000000 |  6 |  4 |  0.000000 | 13 |  155.20305 |\n",
       "| 169 |  89 |  4.000000 |  1 | 10 |  4.000000 | 56 |  618.82614 |\n",
       "| 82 |  51 |  6.000000 |  2 | 11 | 12.000000 | 12 |  153.23407 |\n",
       "| 110 |  88 |  4.000000 |  6 |  3 |  3.000000 | 45 |  528.09979 |\n",
       "| 70 |  98 |  6.000000 |  0 |  9 |  8.000000 | 63 |  729.14766 |\n",
       "| 191 |  64 |  5.000000 |  6 | -3 | 17.000000 | 18 |  183.68500 |\n",
       "| 4 | 132 |  9.000000 |  1 | -1 |  4.000000 | 89 |  925.61451 |\n",
       "| 273 |  97 |  6.000000 |  6 |  8 |  5.000000 | 62 |  687.50651 |\n",
       "| 156 |  99 | -2.000000 |  3 | 11 |  5.000000 | 64 |  718.29593 |\n",
       "| 266 |  48 |  3.000000 |  8 |  9 |  9.000000 | 10 |  114.51315 |\n",
       "| ⋮ | ⋮ | ⋮ | ⋮ | ⋮ | ⋮ | ⋮ | ⋮ |\n",
       "| 92 |  93.0000 | -3.0000000 |  5 |  7 |  4.00000 | 51 |  624.28062 |\n",
       "| 262 |  60.0000 |  9.0000000 |  7 |  9 |  7.00000 | 30 |  359.33948 |\n",
       "| 23 |  86.0000 |  0.0000000 |  6 |  9 | 13.00000 | 53 |  641.73302 |\n",
       "| 243 |  70.0000 | 11.0000000 |  4 | 13 |  7.00000 | 38 |  487.43818 |\n",
       "| 35 |  81.0000 | 11.0000000 |  1 |  6 |  0.00000 | 44 |  438.75394 |\n",
       "| 113 |  79.0000 | 11.0000000 |  8 | 18 | 10.00000 | 49 |  616.76997 |\n",
       "| 41 | 104.0000 |  2.0000000 | 12 |  6 |  6.00000 | 76 |  671.03419 |\n",
       "| 124 | 116.0000 |  4.0000000 |  7 |  8 |  6.00000 | 74 |  826.84332 |\n",
       "| 184 |  63.0000 |  8.0000000 |  9 | 10 |  9.00000 | 24 |  279.89798 |\n",
       "| 229 |  62.0000 | -0.8326848 | 10 | 12 | 10.19608 | 40 |  373.82868 |\n",
       "| 108 |  41.0000 |  0.0000000 | 13 |  2 |  9.00000 |  5 |   61.66354 |\n",
       "| 80 |  93.0000 | -2.0000000 |  3 |  6 |  6.00000 | 59 |  671.70870 |\n",
       "| 189 | 112.0000 |  2.0000000 |  8 |  5 | 10.00000 | 73 |  895.78481 |\n",
       "| 42 |  63.0000 |  0.0000000 |  9 |  2 |  5.00000 | 34 |  404.10299 |\n",
       "| 86 | 126.0000 |  4.0000000 |  7 |  2 |  3.00000 | 94 |  939.50426 |\n",
       "| 284 |  62.0000 | 10.0000000 | 10 | -9 |  6.00000 | 20 |  202.40902 |\n",
       "| 20 |  86.0000 |  7.0000000 |  5 |  4 |  5.00000 | 50 |  532.23648 |\n",
       "| 90 | 129.0000 |  1.0000000 |  6 |  8 |  4.00000 | 89 |  980.29913 |\n",
       "| 282 |  67.0000 |  1.0000000 |  8 | 14 |  7.00000 | 30 |  394.34491 |\n",
       "| 84 | 132.0000 |  2.0000000 |  8 | 10 |  9.00000 | 92 | 1176.35530 |\n",
       "| 177 |  48.0000 |  1.0000000 | 10 |  0 |  8.00000 | 10 |  105.86330 |\n",
       "| 102 | 109.1133 | -5.0000000 |  7 | 11 |  3.00000 | 76 |  862.92790 |\n",
       "| 245 |  95.0000 |  4.0000000 | 10 | -2 |  6.00000 | 62 |  590.91576 |\n",
       "| 272 |  86.0000 |  5.0000000 |  9 | -3 | 15.00000 | 59 |  471.88175 |\n",
       "| 71 | 109.0000 |  3.0000000 |  4 |  7 |  9.00000 | 71 |  800.78358 |\n",
       "| 198 |  58.0000 | 11.0000000 |  3 | 10 |  1.00000 | 21 |  277.36992 |\n",
       "| 251 | 112.0000 |  4.0000000 |  3 |  6 |  6.00000 | 81 |  894.61819 |\n",
       "| 144 |  67.7393 |  4.0000000 |  6 | 11 |  5.00000 | 31 |  348.73612 |\n",
       "| 185 |  44.0000 |  7.0000000 |  2 | 11 | 12.00000 |  5 |   71.53318 |\n",
       "| 240 | 106.0000 |  6.0000000 |  5 | 11 | 10.19608 | 73 |  797.05008 |\n",
       "\n"
      ],
      "text/plain": [
       "    O        C          E  A  N                      \n",
       "234 118      -7.101961  14 10  6.492188 86 1065.59651\n",
       "91  134       3.000000   1  8 10.000000 96 1053.98029\n",
       "155  45       5.000000   5 12  2.000000  3   40.81595\n",
       "6   124       3.000000   6 -2 14.000000 77  748.29304\n",
       "18   44       7.000000   1  5  2.000000  4   53.74023\n",
       "281 120      -1.000000  10  3  8.000000 86  859.76039\n",
       "64   88       7.000000   4 15  7.000000 56  561.09089\n",
       "277  63       2.000000   8 11  6.000000 29  314.62988\n",
       "63  134       4.000000   3  9  8.000000 93 1138.87630\n",
       "122  99       5.000000   9  8  4.000000 53  619.80023\n",
       "181  99       0.000000   7  7 11.000000 63  746.00584\n",
       "3   117      -2.000000  12  4  9.000000 82  716.26923\n",
       "227  87      -5.000000  11  7  5.000000 53  562.60328\n",
       "97  108       9.000000  10 -2  0.000000 68  724.46314\n",
       "58  133       2.000000   9  6 11.000000 89 1126.10337\n",
       "172  83      10.000000   2  8  1.000000 35  450.79731\n",
       "135  80       3.000000   7  0  8.000000 38  406.52615\n",
       "95   97       2.000000   7  5 -1.000000 60  610.32995\n",
       "68  104      18.000000   4  3  2.000000 73  822.74827\n",
       "246 115      -1.000000   9 15  8.000000 76  997.50874\n",
       "239  50       2.000000   6  4  0.000000 13  155.20305\n",
       "169  89       4.000000   1 10  4.000000 56  618.82614\n",
       "82   51       6.000000   2 11 12.000000 12  153.23407\n",
       "110  88       4.000000   6  3  3.000000 45  528.09979\n",
       "70   98       6.000000   0  9  8.000000 63  729.14766\n",
       "191  64       5.000000   6 -3 17.000000 18  183.68500\n",
       "4   132       9.000000   1 -1  4.000000 89  925.61451\n",
       "273  97       6.000000   6  8  5.000000 62  687.50651\n",
       "156  99      -2.000000   3 11  5.000000 64  718.29593\n",
       "266  48       3.000000   8  9  9.000000 10  114.51315\n",
       "⋮   ⋮        ⋮          ⋮  ⋮  ⋮         ⋮  ⋮         \n",
       "92   93.0000 -3.0000000  5  7  4.00000  51  624.28062\n",
       "262  60.0000  9.0000000  7  9  7.00000  30  359.33948\n",
       "23   86.0000  0.0000000  6  9 13.00000  53  641.73302\n",
       "243  70.0000 11.0000000  4 13  7.00000  38  487.43818\n",
       "35   81.0000 11.0000000  1  6  0.00000  44  438.75394\n",
       "113  79.0000 11.0000000  8 18 10.00000  49  616.76997\n",
       "41  104.0000  2.0000000 12  6  6.00000  76  671.03419\n",
       "124 116.0000  4.0000000  7  8  6.00000  74  826.84332\n",
       "184  63.0000  8.0000000  9 10  9.00000  24  279.89798\n",
       "229  62.0000 -0.8326848 10 12 10.19608  40  373.82868\n",
       "108  41.0000  0.0000000 13  2  9.00000   5   61.66354\n",
       "80   93.0000 -2.0000000  3  6  6.00000  59  671.70870\n",
       "189 112.0000  2.0000000  8  5 10.00000  73  895.78481\n",
       "42   63.0000  0.0000000  9  2  5.00000  34  404.10299\n",
       "86  126.0000  4.0000000  7  2  3.00000  94  939.50426\n",
       "284  62.0000 10.0000000 10 -9  6.00000  20  202.40902\n",
       "20   86.0000  7.0000000  5  4  5.00000  50  532.23648\n",
       "90  129.0000  1.0000000  6  8  4.00000  89  980.29913\n",
       "282  67.0000  1.0000000  8 14  7.00000  30  394.34491\n",
       "84  132.0000  2.0000000  8 10  9.00000  92 1176.35530\n",
       "177  48.0000  1.0000000 10  0  8.00000  10  105.86330\n",
       "102 109.1133 -5.0000000  7 11  3.00000  76  862.92790\n",
       "245  95.0000  4.0000000 10 -2  6.00000  62  590.91576\n",
       "272  86.0000  5.0000000  9 -3 15.00000  59  471.88175\n",
       "71  109.0000  3.0000000  4  7  9.00000  71  800.78358\n",
       "198  58.0000 11.0000000  3 10  1.00000  21  277.36992\n",
       "251 112.0000  4.0000000  3  6  6.00000  81  894.61819\n",
       "144  67.7393  4.0000000  6 11  5.00000  31  348.73612\n",
       "185  44.0000  7.0000000  2 11 12.00000   5   71.53318\n",
       "240 106.0000  6.0000000  5 11 10.19608  73  797.05008"
      ]
     },
     "metadata": {},
     "output_type": "display_data"
    }
   ],
   "source": [
    "O <- m[,1+7] + m[,1+12] + m[,1+19] + m[,1+20]+ m[,1+28] + m[,1+29] + m[,1+32] - m[,1+39] + m[,1+43] + m[,1+44]\n",
    "C <- m[,1+4] - m[,1+10] + m[,1+14] - m[,1+22] - m[,1+26] + m[,1+33] + m[,1+38] + m[,1+41] - m[,1+42]\n",
    "E <- m[,1+1] - m[,1+6] + m[,1+13] + m[,1+16] - m[,1+24] + m[,1+30] - m[,1+35] + m[,1+40]\n",
    "A <- -m[,1+3] + m[,1+8] + m[,1+9] - m[,1+15] + m[,1+21] + m[,1+25] - m[,1+31] -m[,1+36] + m[,1+37]\n",
    "N <- m[,1+2] + m[,1+5] - m[,1+11] + m[,1+17] + m[,1+18] + m[,1+23] - m[,1+27] -m[,1+34]\n",
    "\n",
    "S <- data$Satisfaction\n",
    "Puntaje <- data$Score\n",
    "\n",
    "matriz <- cbind(O,C,E,A,N, data$Satisfaction, data$Score)\n",
    "matriz"
   ]
  },
  {
   "cell_type": "markdown",
   "id": "421a00bb",
   "metadata": {},
   "source": [
    "Una vez ya tenemos la matriz OCEAN con todos datos de la personalidad, adicionalmente la penultima columna tiene los datos de Satisfacción del trabajo y en la ultima columan se encuentran los datos del puntaje."
   ]
  },
  {
   "cell_type": "markdown",
   "id": "5e946e1a",
   "metadata": {},
   "source": [
    "Ahora antes de continuar se debe plantear el modelo de regresión no-lineal cuadrático con las interacciones incluidas. El modelo sería  el siguiente:\n",
    "\n",
    "$$\n",
    "Y=\\beta_0+\\beta_1ZO+\\beta_2ZC+\\beta_3ZE+\\beta_4ZA+\\beta_5ZN+\\beta_6ZS+\\beta_7ZO^2+\\beta_8ZC^2+\\beta_9ZE^2+\\beta_{10}ZA^2+\\beta_{11}ZN^2+\\beta_{12}ZS^2+\\beta_{13}ZOC+\\beta_{14}ZOE+\\beta_{15}ZOA+\\beta_{16}ZON+\\beta_{17}ZOS+\\beta_{18}ZCE+\\beta_{19}ZCA+\\beta_{20}ZCN+\\beta_{21}ZCS+\\beta_{22}ZEA+\\beta_{23}ZEN+\\beta_{24}ZES+\\beta_{25}ZAN+\\beta_{26}ZAS+\\beta_{27}ZNS+\\varepsilon\n",
    "$$\n",
    "\n",
    "Tal como se vio en el problema anterior las variables Z fueron calculadas cómo: \n",
    "\n",
    "$$\n",
    "Z_i=X_i-\\bar{X_i} \\ \\ \\forall i\\in O,C,E,A,N,S \\\\\n",
    "Z_i^2=Z_i\\cdot Z_i \\ \\ \\forall i\\in O,C,E,A,N,S \\\\\n",
    "Z_{ij}=Z_i\\cdot Z_j\\ \\ \\ \\ \\forall i,j\\in\\left\\{O,C,E,A,N,S\\right\\}\\ y\\ i\\neq j\n",
    "$$\n"
   ]
  },
  {
   "cell_type": "code",
   "execution_count": 19,
   "id": "56b7826e",
   "metadata": {},
   "outputs": [
    {
     "data": {
      "text/plain": [
       "\n",
       "Call:\n",
       "lm(formula = Puntaje ~ ZO + ZC + ZE + ZA + ZN + ZS + ZO2 + ZC2 + \n",
       "    ZE2 + ZA2 + ZN2 + ZS2 + ZOC + ZOE + ZOA + ZON + ZOS + ZCE + \n",
       "    ZCA + ZCN + ZCS + ZEA + ZEN + ZES + ZAN + ZAS + ZNS)\n",
       "\n",
       "Residuals:\n",
       "     Min       1Q   Median       3Q      Max \n",
       "-187.610  -20.231   -0.116   24.284  168.769 \n",
       "\n",
       "Coefficients:\n",
       "             Estimate Std. Error t value Pr(>|t|)    \n",
       "(Intercept) 579.23246    6.80978  85.059  < 2e-16 ***\n",
       "ZO            5.54257    0.67007   8.272 1.07e-14 ***\n",
       "ZC            1.66284    0.83651   1.988 0.048015 *  \n",
       "ZE           -0.09632    1.01980  -0.094 0.924837    \n",
       "ZA            7.02051    0.77733   9.032  < 2e-16 ***\n",
       "ZN           -2.05634    0.93994  -2.188 0.029697 *  \n",
       "ZS            5.44829    0.68963   7.900 1.14e-13 ***\n",
       "ZO2          -0.22769    0.09902  -2.299 0.022377 *  \n",
       "ZC2           0.02549    0.13322   0.191 0.848409    \n",
       "ZE2           0.12468    0.20162   0.618 0.536915    \n",
       "ZA2          -0.17206    0.11047  -1.558 0.120714    \n",
       "ZN2           0.22423    0.16773   1.337 0.182601    \n",
       "ZS2          -0.34742    0.10728  -3.238 0.001379 ** \n",
       "ZOC          -0.17565    0.16147  -1.088 0.277838    \n",
       "ZOE          -0.25555    0.19762  -1.293 0.197257    \n",
       "ZOA          -0.36059    0.13605  -2.650 0.008597 ** \n",
       "ZON          -0.10453    0.17422  -0.600 0.549111    \n",
       "ZOS           0.57874    0.20452   2.830 0.005071 ** \n",
       "ZCE           0.28530    0.27602   1.034 0.302393    \n",
       "ZCA          -0.09847    0.15744  -0.625 0.532303    \n",
       "ZCN          -0.27656    0.24897  -1.111 0.267805    \n",
       "ZCS           0.21268    0.16754   1.269 0.205576    \n",
       "ZEA          -0.32894    0.23608  -1.393 0.164864    \n",
       "ZEN           0.14794    0.28247   0.524 0.600979    \n",
       "ZES           0.29355    0.20375   1.441 0.151006    \n",
       "ZAN          -0.09701    0.19289  -0.503 0.615480    \n",
       "ZAS           0.50702    0.13976   3.628 0.000352 ***\n",
       "ZNS           0.07895    0.17605   0.448 0.654255    \n",
       "---\n",
       "Signif. codes:  0 ‘***’ 0.001 ‘**’ 0.01 ‘*’ 0.05 ‘.’ 0.1 ‘ ’ 1\n",
       "\n",
       "Residual standard error: 50.37 on 230 degrees of freedom\n",
       "Multiple R-squared:  0.9784,\tAdjusted R-squared:  0.9759 \n",
       "F-statistic: 386.4 on 27 and 230 DF,  p-value: < 2.2e-16\n"
      ]
     },
     "metadata": {},
     "output_type": "display_data"
    }
   ],
   "source": [
    "ZO <- O-mean(O)\n",
    "ZC <- C-mean(C)\n",
    "ZE <- E-mean(E)\n",
    "ZA <- A-mean(A)\n",
    "ZN <- N-mean(N)\n",
    "ZS <- S-mean(S)\n",
    "\n",
    "ZO2 <- ZO^2\n",
    "ZC2 <- ZC^2\n",
    "ZE2 <- ZE^2\n",
    "ZA2 <- ZA^2\n",
    "ZN2 <- ZN^2\n",
    "ZS2 <- ZS^2\n",
    "\n",
    "ZOC <- ZO*ZC\n",
    "ZOE <- ZO*ZE\n",
    "ZOA <- ZO*ZA\n",
    "ZON <- ZO*ZN\n",
    "ZOS <- ZO*ZS\n",
    "ZCE <- ZC*ZE\n",
    "ZCA <- ZC*ZA\n",
    "ZCN <- ZC*ZN\n",
    "ZCS <- ZC*ZS\n",
    "ZEA <- ZE*ZA\n",
    "ZEN <- ZE*ZN\n",
    "ZES <- ZE*ZS\n",
    "ZAN <- ZA*ZN\n",
    "ZAS <- ZA*ZS\n",
    "ZNS <- ZN*ZS\n",
    "\n",
    "fit <- lm(Puntaje~ZO+ZC+ZE+ZA+ZN+ZS+ZO2+ZC2+ZE2+ZA2+ZN2+ZS2+ZOC+ZOE+ZOA+ZON+ZOS+ZCE+ZCA+ZCN+ZCS+ZEA+ZEN+ZES+ZAN+ZAS+ZNS)\n",
    "summary(fit)\n",
    "matriz2 <- cbind(ZO,ZC,ZE,ZA,ZN,ZS,ZO2,ZC2,ZE2,ZA2,ZN2,ZS2,ZOC,ZOE,ZOA,ZON,ZOS,ZCE,ZCA,ZCN,ZCS,ZEA,ZEN,ZES,ZAN,ZAS,ZNS)"
   ]
  },
  {
   "cell_type": "markdown",
   "id": "cbaa64c2",
   "metadata": {},
   "source": [
    "#### 2. Es cierto que el efecto de C sobre el desempeño depende (interactúa) con la satisfacción?"
   ]
  },
  {
   "cell_type": "markdown",
   "id": "2e784835",
   "metadata": {},
   "source": [
    "Como bien se mostró el modelo es un modelo polinomial cuadrático y el componente de $\\beta_{21}ZCS$ es justamente el que me puede dar información sobre el efecto $\\beta$ que tiene C con la satisfacción (S). \n",
    "Teniendo en cuenta lo anterior se plantea la siguiente prueba de hipótesis: \n",
    "\n",
    "$$\n",
    "H_0: \\beta_{21} = 0\n",
    "$$\n",
    "\n",
    "$$\n",
    "H_1: \\beta_{21} \\neq 0\n",
    "$$"
   ]
  },
  {
   "cell_type": "code",
   "execution_count": 20,
   "id": "1a37edc7",
   "metadata": {},
   "outputs": [
    {
     "data": {
      "text/html": [
       "<dl>\n",
       "\t<dt>$t</dt>\n",
       "\t\t<dd><table class=\"dataframe\">\n",
       "<caption>A matrix: 1 × 1 of type dbl</caption>\n",
       "<tbody>\n",
       "\t<tr><td>1.269416</td></tr>\n",
       "</tbody>\n",
       "</table>\n",
       "</dd>\n",
       "\t<dt>$pvalue</dt>\n",
       "\t\t<dd>0.205575867122222</dd>\n",
       "</dl>\n"
      ],
      "text/latex": [
       "\\begin{description}\n",
       "\\item[\\$t] A matrix: 1 × 1 of type dbl\n",
       "\\begin{tabular}{l}\n",
       "\t 1.269416\\\\\n",
       "\\end{tabular}\n",
       "\n",
       "\\item[\\$pvalue] 0.205575867122222\n",
       "\\end{description}\n"
      ],
      "text/markdown": [
       "$t\n",
       ":   \n",
       "A matrix: 1 × 1 of type dbl\n",
       "\n",
       "| 1.269416 |\n",
       "\n",
       "\n",
       "$pvalue\n",
       ":   0.205575867122222\n",
       "\n",
       "\n"
      ],
      "text/plain": [
       "$t\n",
       "         [,1]\n",
       "[1,] 1.269416\n",
       "\n",
       "$pvalue\n",
       "[1] 0.2055759\n"
      ]
     },
     "metadata": {},
     "output_type": "display_data"
    }
   ],
   "source": [
    "gtest <- function(x,y,A,c){\n",
    "  n <- length(y)\n",
    "  k <- dim(x)[2]\n",
    "  p <- k + 1\n",
    "  q <- dim(A)[1]\n",
    "  xx <- cbind(rep(1,n), x)\n",
    "  beta <- solve(t(xx) %*% xx) %*% t(xx) %*% y\n",
    "  yhat <- xx %*% beta  \n",
    "  mse <- sum((y - yhat)^2)/(n - p)\n",
    "  betaH <- beta + solve(t(xx) %*% xx) %*% t(A) %*% solve(A %*% solve(t(xx) %*% xx) %*% t(A)) %*% (c- A %*% beta)\n",
    "  yhatH <- xx %*% betaH\n",
    "  F <- (sum((y- yhatH)^2)-sum((y- yhat)^2))/q /mse\n",
    "  pval <- 1-pf(F, q, n- p)\n",
    "  return(list(F = F, pvalue = pval))\n",
    "}\n",
    "\n",
    "ltest <- function(y,x,lin,const,dir=b){\n",
    "  n <- dim(x)[1]\n",
    "  k <- dim(x)[2]\n",
    "  p <- k + 1\n",
    "  xx <- cbind(rep(1, n), x)\n",
    "  beta <- solve(t(xx) %*% xx) %*% t(xx) %*% y\n",
    "  A <- matrix(lin, ncol = p)\n",
    "  c <- const\n",
    "  t <- sign(A %*% lin - c) * sqrt(gtest(x,y,A,c)$F)  \n",
    "  if(dir == \"+\"){pval = 1 - pt(t,n-p)}\n",
    "  if(dir == \"-\"){pval = pt(t,n-p)}\n",
    "  if(dir == \"b\"){pval = min(2 * (1 - pt(t,n - p)),2 *(pt(t, n - p)))}\n",
    "  return(list(t = t, pvalue = pval))\n",
    "}\n",
    "\n",
    "c52 <- c(0,0,0,0,0,0,0,0,0,0,0,0,0,0,0,0,0,0,0,0,0,1,0,0,0,0,0,0)\n",
    "ltest(Puntaje, matriz2, c52, 0, \"b\")"
   ]
  },
  {
   "cell_type": "markdown",
   "id": "00f2289d",
   "metadata": {},
   "source": [
    "Con un nivel de confianza del 95% se puede concluir que no hay suficiente evidencia estadística para rechazar $H_0$, es decir que el efecto de C sobre el desempeño no depende o no interactua con la satisfacción, pues el ${p value}>5 \\% $."
   ]
  },
  {
   "cell_type": "markdown",
   "id": "d5588162",
   "metadata": {},
   "source": [
    "#### 3. ¿Es cierto que A y O no deben infuir sobre el desempeño?"
   ]
  },
  {
   "cell_type": "markdown",
   "id": "4c1c6039",
   "metadata": {},
   "source": [
    "Dado que se quiere saber sí A y B influyen o no sobre el desempeño, se debe hacer la siguiente prueba de hipótesis:\n",
    "\n",
    "\\begin{equation}\n",
    "H_0 = \n",
    "\\left\\{\n",
    "    \\begin{array}{lr}\n",
    "        \\beta_1 = 0 \\\\\n",
    "        \\beta_4 = 0 \\\\\n",
    "        \\beta_7 = 0 \\\\\n",
    "        \\beta_{10} = 0 \\\\\n",
    "        \\beta_{15} = 0\n",
    "    \\end{array}\n",
    "    \\right\\} \n",
    "\\end{equation}\n",
    "\n",
    "$$\n",
    "H_1:\\textit{Al menos una es diferente}\n",
    "$$\n"
   ]
  },
  {
   "cell_type": "code",
   "execution_count": 21,
   "id": "728d1480",
   "metadata": {},
   "outputs": [
    {
     "data": {
      "text/html": [
       "<dl>\n",
       "\t<dt>$F</dt>\n",
       "\t\t<dd>28.2452066882976</dd>\n",
       "\t<dt>$pvalue</dt>\n",
       "\t\t<dd>0</dd>\n",
       "</dl>\n"
      ],
      "text/latex": [
       "\\begin{description}\n",
       "\\item[\\$F] 28.2452066882976\n",
       "\\item[\\$pvalue] 0\n",
       "\\end{description}\n"
      ],
      "text/markdown": [
       "$F\n",
       ":   28.2452066882976\n",
       "$pvalue\n",
       ":   0\n",
       "\n",
       "\n"
      ],
      "text/plain": [
       "$F\n",
       "[1] 28.24521\n",
       "\n",
       "$pvalue\n",
       "[1] 0\n"
      ]
     },
     "metadata": {},
     "output_type": "display_data"
    }
   ],
   "source": [
    "r1 <- c(0,1,0,0,0,0,0,0,0,0,0,0,0,0,0,0,0,0,0,0,0,0,0,0,0,0,0,0)\n",
    "r2 <- c(0,0,0,0,1,0,0,0,0,0,0,0,0,0,0,0,0,0,0,0,0,0,0,0,0,0,0,0) \n",
    "r3 <- c(0,0,0,0,0,0,0,1,0,0,0,0,0,0,0,0,0,0,0,0,0,0,0,0,0,0,0,0) \n",
    "r4 <- c(0,0,0,0,0,0,0,0,0,0,1,0,0,0,0,0,0,0,0,0,0,0,0,0,0,0,0,0) \n",
    "r5 <- c(0,0,0,0,0,0,0,0,0,0,0,0,0,0,0,1,0,0,0,0,0,0,0,0,0,0,0,0) \n",
    "\n",
    "m53 <- rbind(r1,r2,r3,r4,r5)\n",
    "c53 <- c(0,0,0,0,0)\n",
    "\n",
    "gtest(matriz2,Puntaje,m53,c53) "
   ]
  },
  {
   "cell_type": "markdown",
   "id": "ce39d078",
   "metadata": {},
   "source": [
    "Con un nivel de confianza del 95% se puede concluir que se rechaza $H_0$, pues el ${p value}<5 \\% $. Esto quiere decir A, O, o al menos una de sus interacciones o términos cuadráticos influyen sobre el desempeño. "
   ]
  },
  {
   "cell_type": "markdown",
   "id": "7af19ddd",
   "metadata": {},
   "source": [
    "#### 4. ¿Se cree que para niveles bajos y altos de C el desempeño es alto, pero para niveles promedio de C, el desempeño es menor. "
   ]
  },
  {
   "cell_type": "markdown",
   "id": "2d10bc72",
   "metadata": {},
   "source": [
    "Lo que se quiere analizar en este punto es si el efecto de C sobre el desempeño es cuadrático. Teniendo esto en cuenta y sabíendo que las interacciones tambien pueden llegar a afectar el comportamiento de C se plantea un nuevo modelo (modelo reducido), que tuviera solo en cuenta la parte lineal y cuadrática \n",
    "\n",
    "$$\n",
    "Y=\\beta_0+\\beta_1ZO+\\beta_2ZC+\\beta_3ZE+\\beta_4ZA+\\beta_5ZN+\\beta_6ZS+\\beta_7ZO^2+\\beta_8ZC^2+\\beta_9ZE^2+\\beta_{10}ZA^2+\\beta_{11}ZN^2+\\beta_{12}ZS^2+\\varepsilon\n",
    "$$\n",
    "\n",
    "Con este nuevo modelo se plantea la siguiente prueba de hipótesis: \n",
    "\n",
    "\\begin{equation}\n",
    "H_0 = \n",
    "\\left\\{\n",
    "    \\begin{array}{lr}\n",
    "        \\beta_2 = 0 \\\\\n",
    "        \\beta_8 = 0\n",
    "    \\end{array}\n",
    "    \\right\\} \n",
    "\\end{equation}\n",
    "\n",
    "$$\n",
    "H_1:\\textit{Al menos una es diferente}\n",
    "$$\n"
   ]
  },
  {
   "cell_type": "code",
   "execution_count": 22,
   "id": "d55343ff",
   "metadata": {},
   "outputs": [
    {
     "data": {
      "text/html": [
       "<dl>\n",
       "\t<dt>$F</dt>\n",
       "\t\t<dd>2.7103032179903</dd>\n",
       "\t<dt>$pvalue</dt>\n",
       "\t\t<dd>0.0685113658500565</dd>\n",
       "</dl>\n"
      ],
      "text/latex": [
       "\\begin{description}\n",
       "\\item[\\$F] 2.7103032179903\n",
       "\\item[\\$pvalue] 0.0685113658500565\n",
       "\\end{description}\n"
      ],
      "text/markdown": [
       "$F\n",
       ":   2.7103032179903\n",
       "$pvalue\n",
       ":   0.0685113658500565\n",
       "\n",
       "\n"
      ],
      "text/plain": [
       "$F\n",
       "[1] 2.710303\n",
       "\n",
       "$pvalue\n",
       "[1] 0.06851137\n"
      ]
     },
     "metadata": {},
     "output_type": "display_data"
    }
   ],
   "source": [
    "matriz52 <- cbind(ZO,ZC,ZE,ZA,ZN,ZS,ZO2,ZC2,ZE2,ZA2,ZN2,ZS2)\n",
    "\n",
    "r6 <- c(0,0,1,0,0,0,0,0,0,0,0,0,0)\n",
    "r7 <- c(0,0,0,0,0,0,0,0,1,0,0,0,0)\n",
    "\n",
    "m54 <- rbind(r6,r7)\n",
    "c54 <- c(0,0)\n",
    "gtest(matriz52,Puntaje,m54,c54) "
   ]
  },
  {
   "cell_type": "markdown",
   "id": "32558d8d",
   "metadata": {},
   "source": [
    "Con un nivel de confianza del 95% se puede concluir que no hay suficiente evidencia estadística para rechazar $H_0$, es decir que C puede no tener un comportamiento cuadrático , pues el ${p value}>5 \\% $."
   ]
  },
  {
   "cell_type": "markdown",
   "id": "f9c020cb",
   "metadata": {},
   "source": [
    "#### 5. En un modelo que considera apropiado, ¿el efecto de E es lineal?\n"
   ]
  },
  {
   "cell_type": "markdown",
   "id": "f77e5153",
   "metadata": {},
   "source": [
    "Para esta pregunta vamos a volver a utilizar el modelo completo que teníamos inicialmente. Y se va a realizar la siguiente prueba de hipótesis para corroborar sí el efecto de E es o no lineal (es decir se le va a hacer una prueba a la variable cuadrática)\n",
    "\n",
    "$$\n",
    "H_0: \\beta_{9} = 0\n",
    "$$\n",
    "\n",
    "$$\n",
    "H_1: \\beta_{9} \\neq 0\n",
    "$$"
   ]
  },
  {
   "cell_type": "code",
   "execution_count": 23,
   "id": "e5974230",
   "metadata": {},
   "outputs": [
    {
     "data": {
      "text/html": [
       "<dl>\n",
       "\t<dt>$F</dt>\n",
       "\t\t<dd>0.382433874758203</dd>\n",
       "\t<dt>$pvalue</dt>\n",
       "\t\t<dd>0.536915466525999</dd>\n",
       "</dl>\n"
      ],
      "text/latex": [
       "\\begin{description}\n",
       "\\item[\\$F] 0.382433874758203\n",
       "\\item[\\$pvalue] 0.536915466525999\n",
       "\\end{description}\n"
      ],
      "text/markdown": [
       "$F\n",
       ":   0.382433874758203\n",
       "$pvalue\n",
       ":   0.536915466525999\n",
       "\n",
       "\n"
      ],
      "text/plain": [
       "$F\n",
       "[1] 0.3824339\n",
       "\n",
       "$pvalue\n",
       "[1] 0.5369155\n"
      ]
     },
     "metadata": {},
     "output_type": "display_data"
    },
    {
     "data": {
      "text/html": [
       "<dl>\n",
       "\t<dt>$t</dt>\n",
       "\t\t<dd><table class=\"dataframe\">\n",
       "<caption>A matrix: 1 × 1 of type dbl</caption>\n",
       "<tbody>\n",
       "\t<tr><td>0.6184124</td></tr>\n",
       "</tbody>\n",
       "</table>\n",
       "</dd>\n",
       "\t<dt>$pvalue</dt>\n",
       "\t\t<dd>0.536915466525999</dd>\n",
       "</dl>\n"
      ],
      "text/latex": [
       "\\begin{description}\n",
       "\\item[\\$t] A matrix: 1 × 1 of type dbl\n",
       "\\begin{tabular}{l}\n",
       "\t 0.6184124\\\\\n",
       "\\end{tabular}\n",
       "\n",
       "\\item[\\$pvalue] 0.536915466525999\n",
       "\\end{description}\n"
      ],
      "text/markdown": [
       "$t\n",
       ":   \n",
       "A matrix: 1 × 1 of type dbl\n",
       "\n",
       "| 0.6184124 |\n",
       "\n",
       "\n",
       "$pvalue\n",
       ":   0.536915466525999\n",
       "\n",
       "\n"
      ],
      "text/plain": [
       "$t\n",
       "          [,1]\n",
       "[1,] 0.6184124\n",
       "\n",
       "$pvalue\n",
       "[1] 0.5369155\n"
      ]
     },
     "metadata": {},
     "output_type": "display_data"
    }
   ],
   "source": [
    "r8 <- c(0,0,0,0,0,0,0,0,0,1,0,0,0,0,0,0,0,0,0,0,0,0,0,0,0,0,0,0) \n",
    "\n",
    "#Prueba F\n",
    "m55 <- rbind(r8)\n",
    "c55 <- c(0)\n",
    "gtest(matriz2,Puntaje,m55,c55) \n",
    "\n",
    "#Prueba t\n",
    "ltest(Puntaje, matriz2, r8, 0, \"b\")"
   ]
  },
  {
   "cell_type": "markdown",
   "id": "754acc02",
   "metadata": {},
   "source": [
    "Con un nivel de confianza del 95% se puede concluir que no hay suficiente evidencia estadística para rechazar $H_0$, es decir que el efecto de E tiene un comportamiento lineal, pues el ${p value}>5 \\% $."
   ]
  },
  {
   "cell_type": "markdown",
   "id": "b480190a",
   "metadata": {},
   "source": [
    "#### 6. Con un modelo apropiado, resuma en palabras cuál es el efecto que tiene la personalidad sobre la producción intelectual bajo estrés. "
   ]
  },
  {
   "cell_type": "markdown",
   "id": "e024b0dd",
   "metadata": {},
   "source": [
    "Para poder analizar el efecto que tiene la personalidad sobre la producción intelectual bajo estrés, se debe utilizar el modelo completo (con la parte lineal, cuadrática y con las interacciones) que se definió el comienzo y ver las significancias individuales de las variables del modelo. "
   ]
  },
  {
   "cell_type": "code",
   "execution_count": 24,
   "id": "b7d9e030",
   "metadata": {},
   "outputs": [
    {
     "data": {
      "text/plain": [
       "\n",
       "Call:\n",
       "lm(formula = Puntaje ~ ZO + ZC + ZE + ZA + ZN + ZS + ZO2 + ZC2 + \n",
       "    ZE2 + ZA2 + ZN2 + ZS2 + ZOC + ZOE + ZOA + ZON + ZOS + ZCE + \n",
       "    ZCA + ZCN + ZCS + ZEA + ZEN + ZES + ZAN + ZAS + ZNS)\n",
       "\n",
       "Residuals:\n",
       "     Min       1Q   Median       3Q      Max \n",
       "-187.610  -20.231   -0.116   24.284  168.769 \n",
       "\n",
       "Coefficients:\n",
       "             Estimate Std. Error t value Pr(>|t|)    \n",
       "(Intercept) 579.23246    6.80978  85.059  < 2e-16 ***\n",
       "ZO            5.54257    0.67007   8.272 1.07e-14 ***\n",
       "ZC            1.66284    0.83651   1.988 0.048015 *  \n",
       "ZE           -0.09632    1.01980  -0.094 0.924837    \n",
       "ZA            7.02051    0.77733   9.032  < 2e-16 ***\n",
       "ZN           -2.05634    0.93994  -2.188 0.029697 *  \n",
       "ZS            5.44829    0.68963   7.900 1.14e-13 ***\n",
       "ZO2          -0.22769    0.09902  -2.299 0.022377 *  \n",
       "ZC2           0.02549    0.13322   0.191 0.848409    \n",
       "ZE2           0.12468    0.20162   0.618 0.536915    \n",
       "ZA2          -0.17206    0.11047  -1.558 0.120714    \n",
       "ZN2           0.22423    0.16773   1.337 0.182601    \n",
       "ZS2          -0.34742    0.10728  -3.238 0.001379 ** \n",
       "ZOC          -0.17565    0.16147  -1.088 0.277838    \n",
       "ZOE          -0.25555    0.19762  -1.293 0.197257    \n",
       "ZOA          -0.36059    0.13605  -2.650 0.008597 ** \n",
       "ZON          -0.10453    0.17422  -0.600 0.549111    \n",
       "ZOS           0.57874    0.20452   2.830 0.005071 ** \n",
       "ZCE           0.28530    0.27602   1.034 0.302393    \n",
       "ZCA          -0.09847    0.15744  -0.625 0.532303    \n",
       "ZCN          -0.27656    0.24897  -1.111 0.267805    \n",
       "ZCS           0.21268    0.16754   1.269 0.205576    \n",
       "ZEA          -0.32894    0.23608  -1.393 0.164864    \n",
       "ZEN           0.14794    0.28247   0.524 0.600979    \n",
       "ZES           0.29355    0.20375   1.441 0.151006    \n",
       "ZAN          -0.09701    0.19289  -0.503 0.615480    \n",
       "ZAS           0.50702    0.13976   3.628 0.000352 ***\n",
       "ZNS           0.07895    0.17605   0.448 0.654255    \n",
       "---\n",
       "Signif. codes:  0 ‘***’ 0.001 ‘**’ 0.01 ‘*’ 0.05 ‘.’ 0.1 ‘ ’ 1\n",
       "\n",
       "Residual standard error: 50.37 on 230 degrees of freedom\n",
       "Multiple R-squared:  0.9784,\tAdjusted R-squared:  0.9759 \n",
       "F-statistic: 386.4 on 27 and 230 DF,  p-value: < 2.2e-16\n"
      ]
     },
     "metadata": {},
     "output_type": "display_data"
    },
    {
     "data": {
      "image/png": "[encoded data removed]",
      "text/plain": [
       "plot without title"
      ]
     },
     "metadata": {
      "image/png": {
       "height": 420,
       "width": 420
      }
     },
     "output_type": "display_data"
    }
   ],
   "source": [
    "pairs(matriz)\n",
    "fit1 <- lm(Puntaje~ZO+ZC+ZE+ZA+ZN+ZS+ZO2+ZC2+ZE2+ZA2+ZN2+ZS2+ZOC+ZOE+ZOA+ZON+ZOS+ZCE+ZCA+ZCN+ZCS+ZEA+ZEN+ZES+ZAN+ZAS+ZNS)\n",
    "summary(fit1)"
   ]
  },
  {
   "cell_type": "markdown",
   "id": "15ae59e6",
   "metadata": {},
   "source": [
    "De lo anterior se pueden concluir muchas cosas. La primera es que al ver la gráfica podemos darnos cuena que hay una alta correlación positiva entre el efecto O y la satisfacción y el Puntaje. Y tambien entre la Satisfacción y el Puntaje, lo que quiere decir que hay multicolinealidad en el modelo. Por ejemplo la variable de satisfacción nos da la misma información que el puntaje, muy probablemente entre máyor fue su puntaje mayor fue su satisfacción. \n",
    "\n",
    "Por otro lado con el modelo podemos ver que la mayoría de las variables (lineales) son individualmente significativas, a excepción del efecto E. Mientras que la mayoría de las variables (cuadráticas) no son significativas individualmente, a excepción del efecto O y de la satisfacción. Por último, de las 15 interacciones solo 3 son individualmente significativas (O con A, O con N y A con satisfacción)\n",
    "\n",
    "Como vemos que las interacciones no son muy significativas para el modelo se decide elimanrlas y crear un nuevo modelo solo con las varaibles lineales y cuadráticas (sin interacción)"
   ]
  },
  {
   "cell_type": "code",
   "execution_count": 25,
   "id": "80332909",
   "metadata": {},
   "outputs": [
    {
     "data": {
      "text/plain": [
       "\n",
       "Call:\n",
       "lm(formula = Puntaje ~ ZO + ZC + ZE + ZA + ZN + ZS + ZO2 + ZC2 + \n",
       "    ZE2 + ZA2 + ZN2 + ZS2)\n",
       "\n",
       "Residuals:\n",
       "     Min       1Q   Median       3Q      Max \n",
       "-202.549  -26.508    1.991   32.294  155.916 \n",
       "\n",
       "Coefficients:\n",
       "             Estimate Std. Error t value Pr(>|t|)    \n",
       "(Intercept) 570.74614    6.69800  85.211  < 2e-16 ***\n",
       "ZO            5.68915    0.67612   8.414 3.31e-15 ***\n",
       "ZC            1.91316    0.82217   2.327 0.020783 *  \n",
       "ZE            0.09435    1.01121   0.093 0.925739    \n",
       "ZA            6.45305    0.76049   8.485 2.07e-15 ***\n",
       "ZN           -2.16360    0.94161  -2.298 0.022418 *  \n",
       "ZS            5.26842    0.70447   7.479 1.34e-12 ***\n",
       "ZO2           0.04348    0.01114   3.905 0.000122 ***\n",
       "ZC2           0.01766    0.10364   0.170 0.864819    \n",
       "ZE2           0.15578    0.17781   0.876 0.381821    \n",
       "ZA2          -0.09723    0.10528  -0.924 0.356617    \n",
       "ZN2           0.24240    0.14831   1.634 0.103453    \n",
       "ZS2          -0.03771    0.01305  -2.890 0.004203 ** \n",
       "---\n",
       "Signif. codes:  0 ‘***’ 0.001 ‘**’ 0.01 ‘*’ 0.05 ‘.’ 0.1 ‘ ’ 1\n",
       "\n",
       "Residual standard error: 54.03 on 245 degrees of freedom\n",
       "Multiple R-squared:  0.9736,\tAdjusted R-squared:  0.9723 \n",
       "F-statistic:   752 on 12 and 245 DF,  p-value: < 2.2e-16\n"
      ]
     },
     "metadata": {},
     "output_type": "display_data"
    }
   ],
   "source": [
    "fit2 <- lm(Puntaje~ZO+ZC+ZE+ZA+ZN+ZS+ZO2+ZC2+ZE2+ZA2+ZN2+ZS2)\n",
    "summary(fit2)"
   ]
  },
  {
   "cell_type": "markdown",
   "id": "3933989a",
   "metadata": {},
   "source": [
    "Observando los resultados de este nuevo modelo, se puede ver que no es muy diferente los resultados individuales que con respecto al modelo pasado. Lo anterior quiere decir que en su mayiría las variables lineales son las que en efecto son significativas mayoritariamente. Las variables cuadráticas en terminos generales no son significativas (a excepción del efecto O al cuadrado y de la satisfacción al cuadrado) \n",
    "Al ver esto se puede llegar a pensar que incluso los efectos cuadráticos no tienen una gran influencia o no son lo suficientemente relevantes y por ende podemos omitirlos y quedarnos solo con un modelo lineal simple."
   ]
  },
  {
   "cell_type": "code",
   "execution_count": 26,
   "id": "804884d2",
   "metadata": {},
   "outputs": [
    {
     "data": {
      "text/plain": [
       "\n",
       "Call:\n",
       "lm(formula = Puntaje ~ O + C + E + A + N + S)\n",
       "\n",
       "Residuals:\n",
       "     Min       1Q   Median       3Q      Max \n",
       "-200.968  -28.723   -0.819   31.675  143.330 \n",
       "\n",
       "Coefficients:\n",
       "             Estimate Std. Error t value Pr(>|t|)    \n",
       "(Intercept) -233.6182    30.8643  -7.569 7.15e-13 ***\n",
       "O              5.4164     0.6818   7.945 6.56e-14 ***\n",
       "C              1.5843     0.8383   1.890   0.0599 .  \n",
       "E             -0.4210     1.0276  -0.410   0.6824    \n",
       "A              6.7466     0.7546   8.941  < 2e-16 ***\n",
       "N             -1.7099     0.9358  -1.827   0.0688 .  \n",
       "S              5.5526     0.7072   7.851 1.20e-13 ***\n",
       "---\n",
       "Signif. codes:  0 ‘***’ 0.001 ‘**’ 0.01 ‘*’ 0.05 ‘.’ 0.1 ‘ ’ 1\n",
       "\n",
       "Residual standard error: 56.01 on 251 degrees of freedom\n",
       "Multiple R-squared:  0.9709,\tAdjusted R-squared:  0.9702 \n",
       "F-statistic:  1396 on 6 and 251 DF,  p-value: < 2.2e-16\n"
      ]
     },
     "metadata": {},
     "output_type": "display_data"
    }
   ],
   "source": [
    "fit3 <- lm(Puntaje~O+C+E+A+N+S)\n",
    "summary(fit3)"
   ]
  },
  {
   "cell_type": "markdown",
   "id": "f454c586",
   "metadata": {},
   "source": [
    "Finalmente, bajo un nivel de confianza del 95% se puede concluir que con un modelo lineal la mayoría de las variables son significativas.  Con un nivel de significancia del 10% la única variable que no es significativa es la del efecto E. \n",
    "Teniendo en cuenta todo el análisis anterior se podría llegar a pensar que el efecto de la personalidad sobre la producción intelectual bajo estres, es en su mayoría un efecto lineal, por lo que sus efectos cuadráticos no son lo suficientemente significativos y se pueden omitir, al igual que las interacciones."
   ]
  },
  {
   "cell_type": "markdown",
   "id": "200f595f",
   "metadata": {},
   "source": [
    "### Problema 6. Interacciones y Multicolinealidad."
   ]
  },
  {
   "cell_type": "markdown",
   "id": "4b65b4ed",
   "metadata": {},
   "source": [
    "En la base de datos `mtcars`, se usan las variables continuas: `disp` (desplazamiento), `hp` (potencia), y `wt` (peso del carro). Además, se usan las siguientes variables categóricas: `vs` (dispocición de los cilindrios) y `am` (tipo de transmisión). Use:"
   ]
  },
  {
   "cell_type": "code",
   "execution_count": 27,
   "id": "6802138c",
   "metadata": {},
   "outputs": [
    {
     "data": {
      "text/html": [
       "<table class=\"dataframe\">\n",
       "<caption>A data.frame: 6 × 6</caption>\n",
       "<thead>\n",
       "\t<tr><th></th><th scope=col>mpg</th><th scope=col>disp</th><th scope=col>hp</th><th scope=col>wt</th><th scope=col>vs</th><th scope=col>am</th></tr>\n",
       "\t<tr><th></th><th scope=col>&lt;dbl&gt;</th><th scope=col>&lt;dbl&gt;</th><th scope=col>&lt;dbl&gt;</th><th scope=col>&lt;dbl&gt;</th><th scope=col>&lt;dbl&gt;</th><th scope=col>&lt;dbl&gt;</th></tr>\n",
       "</thead>\n",
       "<tbody>\n",
       "\t<tr><th scope=row>Mazda RX4</th><td>21.0</td><td>160</td><td>110</td><td>2.620</td><td>0</td><td>1</td></tr>\n",
       "\t<tr><th scope=row>Mazda RX4 Wag</th><td>21.0</td><td>160</td><td>110</td><td>2.875</td><td>0</td><td>1</td></tr>\n",
       "\t<tr><th scope=row>Datsun 710</th><td>22.8</td><td>108</td><td> 93</td><td>2.320</td><td>1</td><td>1</td></tr>\n",
       "\t<tr><th scope=row>Hornet 4 Drive</th><td>21.4</td><td>258</td><td>110</td><td>3.215</td><td>1</td><td>0</td></tr>\n",
       "\t<tr><th scope=row>Hornet Sportabout</th><td>18.7</td><td>360</td><td>175</td><td>3.440</td><td>0</td><td>0</td></tr>\n",
       "\t<tr><th scope=row>Valiant</th><td>18.1</td><td>225</td><td>105</td><td>3.460</td><td>1</td><td>0</td></tr>\n",
       "</tbody>\n",
       "</table>\n"
      ],
      "text/latex": [
       "A data.frame: 6 × 6\n",
       "\\begin{tabular}{r|llllll}\n",
       "  & mpg & disp & hp & wt & vs & am\\\\\n",
       "  & <dbl> & <dbl> & <dbl> & <dbl> & <dbl> & <dbl>\\\\\n",
       "\\hline\n",
       "\tMazda RX4 & 21.0 & 160 & 110 & 2.620 & 0 & 1\\\\\n",
       "\tMazda RX4 Wag & 21.0 & 160 & 110 & 2.875 & 0 & 1\\\\\n",
       "\tDatsun 710 & 22.8 & 108 &  93 & 2.320 & 1 & 1\\\\\n",
       "\tHornet 4 Drive & 21.4 & 258 & 110 & 3.215 & 1 & 0\\\\\n",
       "\tHornet Sportabout & 18.7 & 360 & 175 & 3.440 & 0 & 0\\\\\n",
       "\tValiant & 18.1 & 225 & 105 & 3.460 & 1 & 0\\\\\n",
       "\\end{tabular}\n"
      ],
      "text/markdown": [
       "\n",
       "A data.frame: 6 × 6\n",
       "\n",
       "| <!--/--> | mpg &lt;dbl&gt; | disp &lt;dbl&gt; | hp &lt;dbl&gt; | wt &lt;dbl&gt; | vs &lt;dbl&gt; | am &lt;dbl&gt; |\n",
       "|---|---|---|---|---|---|---|\n",
       "| Mazda RX4 | 21.0 | 160 | 110 | 2.620 | 0 | 1 |\n",
       "| Mazda RX4 Wag | 21.0 | 160 | 110 | 2.875 | 0 | 1 |\n",
       "| Datsun 710 | 22.8 | 108 |  93 | 2.320 | 1 | 1 |\n",
       "| Hornet 4 Drive | 21.4 | 258 | 110 | 3.215 | 1 | 0 |\n",
       "| Hornet Sportabout | 18.7 | 360 | 175 | 3.440 | 0 | 0 |\n",
       "| Valiant | 18.1 | 225 | 105 | 3.460 | 1 | 0 |\n",
       "\n"
      ],
      "text/plain": [
       "                  mpg  disp hp  wt    vs am\n",
       "Mazda RX4         21.0 160  110 2.620 0  1 \n",
       "Mazda RX4 Wag     21.0 160  110 2.875 0  1 \n",
       "Datsun 710        22.8 108   93 2.320 1  1 \n",
       "Hornet 4 Drive    21.4 258  110 3.215 1  0 \n",
       "Hornet Sportabout 18.7 360  175 3.440 0  0 \n",
       "Valiant           18.1 225  105 3.460 1  0 "
      ]
     },
     "metadata": {},
     "output_type": "display_data"
    }
   ],
   "source": [
    "library(ISLR)\n",
    "data <- mtcars\n",
    "data <- data[c(\"mpg\", \"disp\", \"hp\", \"wt\", \"vs\", \"am\")]\n",
    "head(data)\n"
   ]
  },
  {
   "cell_type": "markdown",
   "id": "563b47cd-0517-42ec-97d6-65de8b9cb7e7",
   "metadata": {},
   "source": [
    "Considere un modelo que contenga las tres variables continuas y las variables categóricas (con todas las interacciones entre continuas y dummies):"
   ]
  },
  {
   "cell_type": "markdown",
   "id": "2634d44f-6d6b-49b0-8c36-4aeb4cbc0dd1",
   "metadata": {},
   "source": [
    "\\begin{align*}\n",
    "    mpg &= \\quad \\beta_{0} \\\\\n",
    "        &\\quad + \\beta_{\\text{disp}} \\cdot \\text{disp} + \\beta_{\\text{hp}} \\cdot \\text{hp} + \\beta_{\\text{wt}} \\cdot \\text{wt} \\\\\n",
    "        &\\quad + \\gamma_{\\text{vs}} + \\gamma_{\\text{am}} \\\\\n",
    "        &\\quad + \\eta_{\\text{disp} \\cdot \\text{vs}} \\cdot \\text{disp} \\cdot \\text{vs} + \\eta_{\\text{disp} \\cdot \\text{am}} \\cdot \\text{disp}\\cdot \\text{am} + \\eta_{\\text{hp} \\cdot \\text{vs}} \\cdot \\text{hp} \\cdot \\text{vs} + \\eta_{\\text{hp} \\cdot \\text{am}} \\cdot \\text{hp}\\cdot \\text{am} + \\eta_{\\text{wt} \\cdot \\text{vs}} \\cdot \\text{wt} \\cdot \\text{vs} + \\eta_{\\text{wt} \\cdot \\text{am}} \\cdot \\text{wt}\\cdot \\text{am}\n",
    "\\end{align*}"
   ]
  },
  {
   "cell_type": "code",
   "execution_count": 28,
   "id": "cc6c9df7-688d-4e7a-bda2-1408c100c757",
   "metadata": {},
   "outputs": [
    {
     "data": {
      "text/html": [
       "<table class=\"dataframe\">\n",
       "<caption>A data.frame: 6 × 12</caption>\n",
       "<thead>\n",
       "\t<tr><th></th><th scope=col>mpg</th><th scope=col>disp</th><th scope=col>hp</th><th scope=col>wt</th><th scope=col>vs</th><th scope=col>am</th><th scope=col>disp:vs1</th><th scope=col>disp:am1</th><th scope=col>hp:vs1</th><th scope=col>hp:am1</th><th scope=col>wt:vs1</th><th scope=col>wt:am1</th></tr>\n",
       "\t<tr><th></th><th scope=col>&lt;dbl&gt;</th><th scope=col>&lt;dbl&gt;</th><th scope=col>&lt;dbl&gt;</th><th scope=col>&lt;dbl&gt;</th><th scope=col>&lt;dbl&gt;</th><th scope=col>&lt;dbl&gt;</th><th scope=col>&lt;dbl&gt;</th><th scope=col>&lt;dbl&gt;</th><th scope=col>&lt;dbl&gt;</th><th scope=col>&lt;dbl&gt;</th><th scope=col>&lt;dbl&gt;</th><th scope=col>&lt;dbl&gt;</th></tr>\n",
       "</thead>\n",
       "<tbody>\n",
       "\t<tr><th scope=row>Mazda RX4</th><td>21.0</td><td>160</td><td>110</td><td>2.620</td><td>0</td><td>1</td><td>  0</td><td>160</td><td>  0</td><td>110</td><td>0.000</td><td>2.620</td></tr>\n",
       "\t<tr><th scope=row>Mazda RX4 Wag</th><td>21.0</td><td>160</td><td>110</td><td>2.875</td><td>0</td><td>1</td><td>  0</td><td>160</td><td>  0</td><td>110</td><td>0.000</td><td>2.875</td></tr>\n",
       "\t<tr><th scope=row>Datsun 710</th><td>22.8</td><td>108</td><td> 93</td><td>2.320</td><td>1</td><td>1</td><td>108</td><td>108</td><td> 93</td><td> 93</td><td>2.320</td><td>2.320</td></tr>\n",
       "\t<tr><th scope=row>Hornet 4 Drive</th><td>21.4</td><td>258</td><td>110</td><td>3.215</td><td>1</td><td>0</td><td>258</td><td>  0</td><td>110</td><td>  0</td><td>3.215</td><td>0.000</td></tr>\n",
       "\t<tr><th scope=row>Hornet Sportabout</th><td>18.7</td><td>360</td><td>175</td><td>3.440</td><td>0</td><td>0</td><td>  0</td><td>  0</td><td>  0</td><td>  0</td><td>0.000</td><td>0.000</td></tr>\n",
       "\t<tr><th scope=row>Valiant</th><td>18.1</td><td>225</td><td>105</td><td>3.460</td><td>1</td><td>0</td><td>225</td><td>  0</td><td>105</td><td>  0</td><td>3.460</td><td>0.000</td></tr>\n",
       "</tbody>\n",
       "</table>\n"
      ],
      "text/latex": [
       "A data.frame: 6 × 12\n",
       "\\begin{tabular}{r|llllllllllll}\n",
       "  & mpg & disp & hp & wt & vs & am & disp:vs1 & disp:am1 & hp:vs1 & hp:am1 & wt:vs1 & wt:am1\\\\\n",
       "  & <dbl> & <dbl> & <dbl> & <dbl> & <dbl> & <dbl> & <dbl> & <dbl> & <dbl> & <dbl> & <dbl> & <dbl>\\\\\n",
       "\\hline\n",
       "\tMazda RX4 & 21.0 & 160 & 110 & 2.620 & 0 & 1 &   0 & 160 &   0 & 110 & 0.000 & 2.620\\\\\n",
       "\tMazda RX4 Wag & 21.0 & 160 & 110 & 2.875 & 0 & 1 &   0 & 160 &   0 & 110 & 0.000 & 2.875\\\\\n",
       "\tDatsun 710 & 22.8 & 108 &  93 & 2.320 & 1 & 1 & 108 & 108 &  93 &  93 & 2.320 & 2.320\\\\\n",
       "\tHornet 4 Drive & 21.4 & 258 & 110 & 3.215 & 1 & 0 & 258 &   0 & 110 &   0 & 3.215 & 0.000\\\\\n",
       "\tHornet Sportabout & 18.7 & 360 & 175 & 3.440 & 0 & 0 &   0 &   0 &   0 &   0 & 0.000 & 0.000\\\\\n",
       "\tValiant & 18.1 & 225 & 105 & 3.460 & 1 & 0 & 225 &   0 & 105 &   0 & 3.460 & 0.000\\\\\n",
       "\\end{tabular}\n"
      ],
      "text/markdown": [
       "\n",
       "A data.frame: 6 × 12\n",
       "\n",
       "| <!--/--> | mpg &lt;dbl&gt; | disp &lt;dbl&gt; | hp &lt;dbl&gt; | wt &lt;dbl&gt; | vs &lt;dbl&gt; | am &lt;dbl&gt; | disp:vs1 &lt;dbl&gt; | disp:am1 &lt;dbl&gt; | hp:vs1 &lt;dbl&gt; | hp:am1 &lt;dbl&gt; | wt:vs1 &lt;dbl&gt; | wt:am1 &lt;dbl&gt; |\n",
       "|---|---|---|---|---|---|---|---|---|---|---|---|---|\n",
       "| Mazda RX4 | 21.0 | 160 | 110 | 2.620 | 0 | 1 |   0 | 160 |   0 | 110 | 0.000 | 2.620 |\n",
       "| Mazda RX4 Wag | 21.0 | 160 | 110 | 2.875 | 0 | 1 |   0 | 160 |   0 | 110 | 0.000 | 2.875 |\n",
       "| Datsun 710 | 22.8 | 108 |  93 | 2.320 | 1 | 1 | 108 | 108 |  93 |  93 | 2.320 | 2.320 |\n",
       "| Hornet 4 Drive | 21.4 | 258 | 110 | 3.215 | 1 | 0 | 258 |   0 | 110 |   0 | 3.215 | 0.000 |\n",
       "| Hornet Sportabout | 18.7 | 360 | 175 | 3.440 | 0 | 0 |   0 |   0 |   0 |   0 | 0.000 | 0.000 |\n",
       "| Valiant | 18.1 | 225 | 105 | 3.460 | 1 | 0 | 225 |   0 | 105 |   0 | 3.460 | 0.000 |\n",
       "\n"
      ],
      "text/plain": [
       "                  mpg  disp hp  wt    vs am disp:vs1 disp:am1 hp:vs1 hp:am1\n",
       "Mazda RX4         21.0 160  110 2.620 0  1    0      160        0    110   \n",
       "Mazda RX4 Wag     21.0 160  110 2.875 0  1    0      160        0    110   \n",
       "Datsun 710        22.8 108   93 2.320 1  1  108      108       93     93   \n",
       "Hornet 4 Drive    21.4 258  110 3.215 1  0  258        0      110      0   \n",
       "Hornet Sportabout 18.7 360  175 3.440 0  0    0        0        0      0   \n",
       "Valiant           18.1 225  105 3.460 1  0  225        0      105      0   \n",
       "                  wt:vs1 wt:am1\n",
       "Mazda RX4         0.000  2.620 \n",
       "Mazda RX4 Wag     0.000  2.875 \n",
       "Datsun 710        2.320  2.320 \n",
       "Hornet 4 Drive    3.215  0.000 \n",
       "Hornet Sportabout 0.000  0.000 \n",
       "Valiant           3.460  0.000 "
      ]
     },
     "metadata": {},
     "output_type": "display_data"
    }
   ],
   "source": [
    "data_inter <- data\n",
    "data_inter[\"disp:vs1\"] <- data[\"disp\"] * data[\"vs\"]\n",
    "data_inter[\"disp:am1\"] <- data[\"disp\"] * data[\"am\"]\n",
    "data_inter[\"hp:vs1\"]   <- data[\"hp\"] * data[\"vs\"]\n",
    "data_inter[\"hp:am1\"]   <- data[\"hp\"] * data[\"am\"]\n",
    "data_inter[\"wt:vs1\"]   <- data[\"wt\"] * data[\"vs\"]\n",
    "data_inter[\"wt:am1\"]   <- data[\"wt\"] * data[\"am\"]\n",
    "head(data_inter)\n"
   ]
  },
  {
   "cell_type": "code",
   "execution_count": 57,
   "id": "94b0ce62-5ac8-477d-b16a-ee16f6fd6c7d",
   "metadata": {},
   "outputs": [
    {
     "data": {
      "text/html": [
       "2.62"
      ],
      "text/latex": [
       "2.62"
      ],
      "text/markdown": [
       "2.62"
      ],
      "text/plain": [
       "[1] 2.62"
      ]
     },
     "metadata": {},
     "output_type": "display_data"
    }
   ],
   "source": [
    "data[\"wt\"][1,]"
   ]
  },
  {
   "cell_type": "code",
   "execution_count": 45,
   "id": "8ed10348-a5cd-4e3f-bcbd-bdc32d60fbfe",
   "metadata": {},
   "outputs": [
    {
     "data": {
      "text/html": [
       "<table class=\"dataframe\">\n",
       "<caption>A matrix: 6 × 12 of type dbl</caption>\n",
       "<thead>\n",
       "\t<tr><th></th><th scope=col>1</th><th scope=col>disp</th><th scope=col>hp</th><th scope=col>wt</th><th scope=col>vs</th><th scope=col>am</th><th scope=col>disp:vs1</th><th scope=col>disp:am1</th><th scope=col>hp:vs1</th><th scope=col>hp:am1</th><th scope=col>wt:vs1</th><th scope=col>wt:am1</th></tr>\n",
       "</thead>\n",
       "<tbody>\n",
       "\t<tr><th scope=row>Mazda RX4</th><td>1</td><td>160</td><td>110</td><td>2.620</td><td>0</td><td>1</td><td>  0</td><td>160</td><td>  0</td><td>110</td><td>0.000</td><td>2.620</td></tr>\n",
       "\t<tr><th scope=row>Mazda RX4 Wag</th><td>1</td><td>160</td><td>110</td><td>2.875</td><td>0</td><td>1</td><td>  0</td><td>160</td><td>  0</td><td>110</td><td>0.000</td><td>2.875</td></tr>\n",
       "\t<tr><th scope=row>Datsun 710</th><td>1</td><td>108</td><td> 93</td><td>2.320</td><td>1</td><td>1</td><td>108</td><td>108</td><td> 93</td><td> 93</td><td>2.320</td><td>2.320</td></tr>\n",
       "\t<tr><th scope=row>Hornet 4 Drive</th><td>1</td><td>258</td><td>110</td><td>3.215</td><td>1</td><td>0</td><td>258</td><td>  0</td><td>110</td><td>  0</td><td>3.215</td><td>0.000</td></tr>\n",
       "\t<tr><th scope=row>Hornet Sportabout</th><td>1</td><td>360</td><td>175</td><td>3.440</td><td>0</td><td>0</td><td>  0</td><td>  0</td><td>  0</td><td>  0</td><td>0.000</td><td>0.000</td></tr>\n",
       "\t<tr><th scope=row>Valiant</th><td>1</td><td>225</td><td>105</td><td>3.460</td><td>1</td><td>0</td><td>225</td><td>  0</td><td>105</td><td>  0</td><td>3.460</td><td>0.000</td></tr>\n",
       "</tbody>\n",
       "</table>\n"
      ],
      "text/latex": [
       "A matrix: 6 × 12 of type dbl\n",
       "\\begin{tabular}{r|llllllllllll}\n",
       "  & 1 & disp & hp & wt & vs & am & disp:vs1 & disp:am1 & hp:vs1 & hp:am1 & wt:vs1 & wt:am1\\\\\n",
       "\\hline\n",
       "\tMazda RX4 & 1 & 160 & 110 & 2.620 & 0 & 1 &   0 & 160 &   0 & 110 & 0.000 & 2.620\\\\\n",
       "\tMazda RX4 Wag & 1 & 160 & 110 & 2.875 & 0 & 1 &   0 & 160 &   0 & 110 & 0.000 & 2.875\\\\\n",
       "\tDatsun 710 & 1 & 108 &  93 & 2.320 & 1 & 1 & 108 & 108 &  93 &  93 & 2.320 & 2.320\\\\\n",
       "\tHornet 4 Drive & 1 & 258 & 110 & 3.215 & 1 & 0 & 258 &   0 & 110 &   0 & 3.215 & 0.000\\\\\n",
       "\tHornet Sportabout & 1 & 360 & 175 & 3.440 & 0 & 0 &   0 &   0 &   0 &   0 & 0.000 & 0.000\\\\\n",
       "\tValiant & 1 & 225 & 105 & 3.460 & 1 & 0 & 225 &   0 & 105 &   0 & 3.460 & 0.000\\\\\n",
       "\\end{tabular}\n"
      ],
      "text/markdown": [
       "\n",
       "A matrix: 6 × 12 of type dbl\n",
       "\n",
       "| <!--/--> | 1 | disp | hp | wt | vs | am | disp:vs1 | disp:am1 | hp:vs1 | hp:am1 | wt:vs1 | wt:am1 |\n",
       "|---|---|---|---|---|---|---|---|---|---|---|---|---|\n",
       "| Mazda RX4 | 1 | 160 | 110 | 2.620 | 0 | 1 |   0 | 160 |   0 | 110 | 0.000 | 2.620 |\n",
       "| Mazda RX4 Wag | 1 | 160 | 110 | 2.875 | 0 | 1 |   0 | 160 |   0 | 110 | 0.000 | 2.875 |\n",
       "| Datsun 710 | 1 | 108 |  93 | 2.320 | 1 | 1 | 108 | 108 |  93 |  93 | 2.320 | 2.320 |\n",
       "| Hornet 4 Drive | 1 | 258 | 110 | 3.215 | 1 | 0 | 258 |   0 | 110 |   0 | 3.215 | 0.000 |\n",
       "| Hornet Sportabout | 1 | 360 | 175 | 3.440 | 0 | 0 |   0 |   0 |   0 |   0 | 0.000 | 0.000 |\n",
       "| Valiant | 1 | 225 | 105 | 3.460 | 1 | 0 | 225 |   0 | 105 |   0 | 3.460 | 0.000 |\n",
       "\n"
      ],
      "text/plain": [
       "                  1 disp hp  wt    vs am disp:vs1 disp:am1 hp:vs1 hp:am1 wt:vs1\n",
       "Mazda RX4         1 160  110 2.620 0  1    0      160        0    110    0.000 \n",
       "Mazda RX4 Wag     1 160  110 2.875 0  1    0      160        0    110    0.000 \n",
       "Datsun 710        1 108   93 2.320 1  1  108      108       93     93    2.320 \n",
       "Hornet 4 Drive    1 258  110 3.215 1  0  258        0      110      0    3.215 \n",
       "Hornet Sportabout 1 360  175 3.440 0  0    0        0        0      0    0.000 \n",
       "Valiant           1 225  105 3.460 1  0  225        0      105      0    3.460 \n",
       "                  wt:am1\n",
       "Mazda RX4         2.620 \n",
       "Mazda RX4 Wag     2.875 \n",
       "Datsun 710        2.320 \n",
       "Hornet 4 Drive    0.000 \n",
       "Hornet Sportabout 0.000 \n",
       "Valiant           0.000 "
      ]
     },
     "metadata": {},
     "output_type": "display_data"
    },
    {
     "data": {
      "text/html": [
       "<table class=\"dataframe\">\n",
       "<caption>A matrix: 6 × 1 of type dbl</caption>\n",
       "<thead>\n",
       "\t<tr><th></th><th scope=col>mpg</th></tr>\n",
       "</thead>\n",
       "<tbody>\n",
       "\t<tr><th scope=row>Mazda RX4</th><td>21.0</td></tr>\n",
       "\t<tr><th scope=row>Mazda RX4 Wag</th><td>21.0</td></tr>\n",
       "\t<tr><th scope=row>Datsun 710</th><td>22.8</td></tr>\n",
       "\t<tr><th scope=row>Hornet 4 Drive</th><td>21.4</td></tr>\n",
       "\t<tr><th scope=row>Hornet Sportabout</th><td>18.7</td></tr>\n",
       "\t<tr><th scope=row>Valiant</th><td>18.1</td></tr>\n",
       "</tbody>\n",
       "</table>\n"
      ],
      "text/latex": [
       "A matrix: 6 × 1 of type dbl\n",
       "\\begin{tabular}{r|l}\n",
       "  & mpg\\\\\n",
       "\\hline\n",
       "\tMazda RX4 & 21.0\\\\\n",
       "\tMazda RX4 Wag & 21.0\\\\\n",
       "\tDatsun 710 & 22.8\\\\\n",
       "\tHornet 4 Drive & 21.4\\\\\n",
       "\tHornet Sportabout & 18.7\\\\\n",
       "\tValiant & 18.1\\\\\n",
       "\\end{tabular}\n"
      ],
      "text/markdown": [
       "\n",
       "A matrix: 6 × 1 of type dbl\n",
       "\n",
       "| <!--/--> | mpg |\n",
       "|---|---|\n",
       "| Mazda RX4 | 21.0 |\n",
       "| Mazda RX4 Wag | 21.0 |\n",
       "| Datsun 710 | 22.8 |\n",
       "| Hornet 4 Drive | 21.4 |\n",
       "| Hornet Sportabout | 18.7 |\n",
       "| Valiant | 18.1 |\n",
       "\n"
      ],
      "text/plain": [
       "                  mpg \n",
       "Mazda RX4         21.0\n",
       "Mazda RX4 Wag     21.0\n",
       "Datsun 710        22.8\n",
       "Hornet 4 Drive    21.4\n",
       "Hornet Sportabout 18.7\n",
       "Valiant           18.1"
      ]
     },
     "metadata": {},
     "output_type": "display_data"
    }
   ],
   "source": [
    "X <- as.matrix(cbind(1, data_inter[, -1]))\n",
    "head(X)\n",
    "\n",
    "y <- as.matrix(data_inter[\"mpg\"])\n",
    "head(y)"
   ]
  },
  {
   "cell_type": "code",
   "execution_count": 46,
   "id": "bae7dd50-994b-4f59-95bd-61c414de7dde",
   "metadata": {},
   "outputs": [
    {
     "data": {
      "text/plain": [
       "\n",
       "Call:\n",
       "lm(formula = mpg ~ ., data = data_inter)\n",
       "\n",
       "Residuals:\n",
       "    Min      1Q  Median      3Q     Max \n",
       "-2.9216 -1.4889 -0.2435  1.2442  3.7930 \n",
       "\n",
       "Coefficients:\n",
       "             Estimate Std. Error t value Pr(>|t|)    \n",
       "(Intercept) 28.414403   3.692353   7.695 2.11e-07 ***\n",
       "disp         0.003009   0.014012   0.215   0.8321    \n",
       "hp          -0.026448   0.021663  -1.221   0.2363    \n",
       "wt          -2.254464   1.378400  -1.636   0.1176    \n",
       "vs           5.179986   5.976364   0.867   0.3964    \n",
       "am          12.707423   7.176812   1.771   0.0919 .  \n",
       "`disp:vs1`  -0.007544   0.024742  -0.305   0.7636    \n",
       "`disp:am1`  -0.019471   0.024738  -0.787   0.4405    \n",
       "`hp:vs1`    -0.064872   0.035753  -1.814   0.0846 .  \n",
       "`hp:am1`     0.034913   0.030616   1.140   0.2676    \n",
       "`wt:vs1`     1.371658   2.878683   0.476   0.6389    \n",
       "`wt:am1`    -4.609291   2.963323  -1.555   0.1355    \n",
       "---\n",
       "Signif. codes:  0 ‘***’ 0.001 ‘**’ 0.01 ‘*’ 0.05 ‘.’ 0.1 ‘ ’ 1\n",
       "\n",
       "Residual standard error: 2.271 on 20 degrees of freedom\n",
       "Multiple R-squared:  0.9084,\tAdjusted R-squared:  0.8581 \n",
       "F-statistic: 18.04 on 11 and 20 DF,  p-value: 4.942e-08\n"
      ]
     },
     "metadata": {},
     "output_type": "display_data"
    }
   ],
   "source": [
    "modelo_1 <- lm(mpg ~ ., data = data_inter)\n",
    "summary(modelo_1)\n"
   ]
  },
  {
   "cell_type": "markdown",
   "id": "ee331144-5afe-4f9b-b06c-4db38ab91055",
   "metadata": {},
   "source": [
    "#### 1. ¿Influye el tipo de caja en los modelos?"
   ]
  },
  {
   "cell_type": "markdown",
   "id": "9b235906-2e94-48cc-827f-ecde744a9a25",
   "metadata": {},
   "source": [
    "Debemos probar las siguientes hipótesis:\n",
    "\n",
    "\\begin{align*}\n",
    "    H_{0}: &\\quad \\gamma_{am} = 0 \\\\\n",
    "           &\\land \\eta_{\\text{disp} \\cdot \\text{am}} = 0 \\\\\n",
    "           &\\land \\eta_{\\text{hp} \\cdot \\text{am}} = 0 \\\\\n",
    "           &\\land \\eta_{\\text{wt} \\cdot \\text{am}} = 0 \\\\\n",
    "    H_{a}: &\\quad \\neg H_{0}\n",
    "\\end{align*}"
   ]
  },
  {
   "cell_type": "markdown",
   "id": "ce7f6572-0315-43dc-89e2-fb1b60dfbedd",
   "metadata": {},
   "source": [
    "Usamos una de las funciones implementada en el problema 1 de esta tarea."
   ]
  },
  {
   "cell_type": "code",
   "execution_count": 47,
   "id": "b04f5420-29a8-4d6d-b1db-ced58b74d267",
   "metadata": {},
   "outputs": [],
   "source": [
    "p_val <- function(X, y, n, p, q, A, c) {\n",
    "\n",
    "    xtx <- t(X) %*% X\n",
    "    H <- solve(xtx)\n",
    "\n",
    "    beta_hat <- H %*% t(X) %*% y\n",
    "\n",
    "    y_hat <- X %*% beta_hat\n",
    "\n",
    "    s2 <- sum((y - y_hat) ^ 2) / (n - p)\n",
    "\n",
    "    beta_r <- beta_hat +\n",
    "              (H %*% t(A)\n",
    "               %*% solve(A %*% H %*% t(A))\n",
    "               %*% (c - (A %*% beta_hat)))\n",
    "\n",
    "    ep <- (sum((y_hat - (X %*% beta_r)) ^ 2) / q) / s2\n",
    "\n",
    "    pvalue <- 1 - pf(ep, q, (n - p))\n",
    "\n",
    "    return(c(ep, pvalue))\n",
    "\n",
    "}"
   ]
  },
  {
   "cell_type": "code",
   "execution_count": 49,
   "id": "b6f47c6f-fe1d-4475-80b1-1542d500b243",
   "metadata": {},
   "outputs": [
    {
     "data": {
      "text/html": [
       "<style>\n",
       ".list-inline {list-style: none; margin:0; padding: 0}\n",
       ".list-inline>li {display: inline-block}\n",
       ".list-inline>li:not(:last-child)::after {content: \"\\00b7\"; padding: 0 .5ex}\n",
       "</style>\n",
       "<ol class=list-inline><li>1.09134037855012</li><li>0.387640009886772</li></ol>\n"
      ],
      "text/latex": [
       "\\begin{enumerate*}\n",
       "\\item 1.09134037855012\n",
       "\\item 0.387640009886772\n",
       "\\end{enumerate*}\n"
      ],
      "text/markdown": [
       "1. 1.09134037855012\n",
       "2. 0.387640009886772\n",
       "\n",
       "\n"
      ],
      "text/plain": [
       "[1] 1.09134 0.38764"
      ]
     },
     "metadata": {},
     "output_type": "display_data"
    }
   ],
   "source": [
    "A <- matrix(c(0, 0, 0, 0, 0, 1, 0, 0, 0, 0, 0, 0,\n",
    "              0, 0, 0, 0, 0, 0, 0, 1, 0, 0, 0, 0,\n",
    "              0, 0, 0, 0, 0, 0, 0, 0, 0, 1, 0, 0,\n",
    "              0, 0, 0, 0, 0, 0, 0, 0, 0, 0, 0, 1), nrow = 4, byrow = TRUE)\n",
    "\n",
    "n <- nrow(X)\n",
    "p <- ncol(X)\n",
    "q <- nrow(A)\n",
    "\n",
    "c <- matrix(0, nrow = q)\n",
    "\n",
    "p_val(X, y, n, p, q, A, c)"
   ]
  },
  {
   "cell_type": "markdown",
   "id": "e06f1da9-cb00-469e-a3c4-1e60b1f08358",
   "metadata": {},
   "source": [
    "Con un $\\alpha = 0.05$, no rechazamos la hipótesis nula y afirmamos que el tipo de caja no influye en el modelo."
   ]
  },
  {
   "cell_type": "markdown",
   "id": "4ab83716-ce53-4fd0-b416-9b8603664b78",
   "metadata": {},
   "source": [
    "#### 2. ¿Vale la pena considerar las interacciones en los modelos, o son todos paralelos?"
   ]
  },
  {
   "cell_type": "markdown",
   "id": "540f0126-c967-4d38-b491-684a01efda3d",
   "metadata": {},
   "source": [
    "Debemos probar las siguientes hipótesis:\n",
    "\n",
    "\\begin{align*}\n",
    "    H_{0}: &\\quad \\eta_{\\text{disp} \\cdot \\text{am}} = 0 \\\\\n",
    "           &\\land \\eta_{\\text{hp} \\cdot \\text{am}} = 0 \\\\\n",
    "           &\\land \\eta_{\\text{wt} \\cdot \\text{am}} = 0 \\\\\n",
    "           &\\land \\eta_{\\text{disp} \\cdot \\text{vs}} = 0 \\\\\n",
    "           &\\land \\eta_{\\text{hp} \\cdot \\text{vs}} = 0 \\\\\n",
    "           &\\land \\eta_{\\text{wt} \\cdot \\text{vs}} = 0 \\\\\n",
    "    H_{a}: &\\quad \\neg H_{0}\n",
    "\\end{align*}"
   ]
  },
  {
   "cell_type": "code",
   "execution_count": 51,
   "id": "c4254a18-eed1-40ad-9484-f0ad2b962049",
   "metadata": {},
   "outputs": [
    {
     "data": {
      "text/html": [
       "<style>\n",
       ".list-inline {list-style: none; margin:0; padding: 0}\n",
       ".list-inline>li {display: inline-block}\n",
       ".list-inline>li:not(:last-child)::after {content: \"\\00b7\"; padding: 0 .5ex}\n",
       "</style>\n",
       "<ol class=list-inline><li>1.97868120899228</li><li>0.116971149541343</li></ol>\n"
      ],
      "text/latex": [
       "\\begin{enumerate*}\n",
       "\\item 1.97868120899228\n",
       "\\item 0.116971149541343\n",
       "\\end{enumerate*}\n"
      ],
      "text/markdown": [
       "1. 1.97868120899228\n",
       "2. 0.116971149541343\n",
       "\n",
       "\n"
      ],
      "text/plain": [
       "[1] 1.9786812 0.1169711"
      ]
     },
     "metadata": {},
     "output_type": "display_data"
    }
   ],
   "source": [
    "A <- matrix(c(0, 0, 0, 0, 0, 0, 1, 0, 0, 0, 0, 0,\n",
    "              0, 0, 0, 0, 0, 0, 0, 1, 0, 0, 0, 0,\n",
    "              0, 0, 0, 0, 0, 0, 0, 0, 1, 0, 0, 0,\n",
    "              0, 0, 0, 0, 0, 0, 0, 0, 0, 1, 0, 0,\n",
    "              0, 0, 0, 0, 0, 0, 0, 0, 0, 0, 1, 0,\n",
    "              0, 0, 0, 0, 0, 0, 0, 0, 0, 0, 0, 1), nrow = 6, byrow = TRUE)\n",
    "\n",
    "n <- nrow(X)\n",
    "p <- ncol(X)\n",
    "q <- nrow(A)\n",
    "\n",
    "c <- matrix(0, nrow = q)\n",
    "\n",
    "p_val(X, y, n, p, q, A, c)"
   ]
  },
  {
   "cell_type": "markdown",
   "id": "02772f16-2300-4edf-9501-99047924a87b",
   "metadata": {},
   "source": [
    "Con un $\\alpha = 0.05$, no rechazamos la hipótesis nula y afirmamos que los coeficientes de las interacciones son iguales a 0."
   ]
  },
  {
   "cell_type": "markdown",
   "id": "4d607a68-20d4-423f-8bf4-f0f2652fb63b",
   "metadata": {},
   "source": [
    "#### 3. ¿Es igual el efecto de la variable `wt` en el consumo de combustible para la caja manual con motor en línea que para caja automática con motor en `v`?"
   ]
  },
  {
   "cell_type": "markdown",
   "id": "92f4b650-ea92-4074-a5fe-1dd934821eb2",
   "metadata": {},
   "source": [
    "Debemos probar las siguientes hipótesis:\n",
    "\n",
    "\\begin{align*}\n",
    "    H_{0}: & \\eta_{\\text{wt} \\cdot \\text{am}} + \\eta_{\\text{wt} \\cdot \\text{vs}} = 0 \\\\\n",
    "    H_{a}: & \\neg H_{0}\n",
    "\\end{align*}"
   ]
  },
  {
   "cell_type": "code",
   "execution_count": 54,
   "id": "7333c001-9fbe-427b-90a7-a4c62a0013f8",
   "metadata": {},
   "outputs": [
    {
     "data": {
      "text/html": [
       "<style>\n",
       ".list-inline {list-style: none; margin:0; padding: 0}\n",
       ".list-inline>li {display: inline-block}\n",
       ".list-inline>li:not(:last-child)::after {content: \"\\00b7\"; padding: 0 .5ex}\n",
       "</style>\n",
       "<ol class=list-inline><li>1.3075856698361</li><li>0.266335390051103</li></ol>\n"
      ],
      "text/latex": [
       "\\begin{enumerate*}\n",
       "\\item 1.3075856698361\n",
       "\\item 0.266335390051103\n",
       "\\end{enumerate*}\n"
      ],
      "text/markdown": [
       "1. 1.3075856698361\n",
       "2. 0.266335390051103\n",
       "\n",
       "\n"
      ],
      "text/plain": [
       "[1] 1.3075857 0.2663354"
      ]
     },
     "metadata": {},
     "output_type": "display_data"
    }
   ],
   "source": [
    "A <- matrix(c(0, 0, 0, 0, 0, 0, 0, 0, 0, 0, 1, 1), nrow = 1, byrow = TRUE)\n",
    "\n",
    "n <- nrow(X)\n",
    "p <- ncol(X)\n",
    "q <- nrow(A)\n",
    "\n",
    "c <- matrix(0, nrow = q)\n",
    "\n",
    "p_val(X, y, n, p, q, A, c)"
   ]
  },
  {
   "cell_type": "markdown",
   "id": "43230dc7-eee7-4d6a-82af-8a4a81c00d29",
   "metadata": {},
   "source": [
    "Con un $\\alpha = 0.05$, no rechazamos la hipótesis nula y afirmamos que el efecto de la variable `wt` es igual en ambos casos."
   ]
  },
  {
   "cell_type": "markdown",
   "id": "acefdf66-8b51-4b83-b628-33e775d98227",
   "metadata": {},
   "source": [
    "#### 4. ¿Es igual el modelo para la caja manual con motor en línea que para caja automática con motor en v?"
   ]
  },
  {
   "cell_type": "markdown",
   "id": "ad85bef1-f1d5-4a6e-a0ce-3bd525da74de",
   "metadata": {},
   "source": [
    "Debemos probar las siguientes hipótesis:\n",
    "\n",
    "\\begin{align*}\n",
    "    H_{0}: & \\gamma_{am} + \\gamma_{vs} + \\eta_{\\text{disp} \\cdot \\text{am}} + \\eta_{\\text{disp} \\cdot \\text{vs}} + \\eta_{\\text{hp} \\cdot \\text{am}} + \\eta_{\\text{hp} \\cdot \\text{vs}} + \\eta_{\\text{wt} \\cdot \\text{am}} + \\eta_{\\text{wt} \\cdot \\text{vs}} = 0 \\\\\n",
    "    H_{a}: & \\neg H_{0}\n",
    "\\end{align*}"
   ]
  },
  {
   "cell_type": "code",
   "execution_count": 55,
   "id": "c77bd69d-ed68-47c2-b73c-142d740b2ea5",
   "metadata": {},
   "outputs": [
    {
     "data": {
      "text/html": [
       "<style>\n",
       ".list-inline {list-style: none; margin:0; padding: 0}\n",
       ".list-inline>li {display: inline-block}\n",
       ".list-inline>li:not(:last-child)::after {content: \"\\00b7\"; padding: 0 .5ex}\n",
       "</style>\n",
       "<ol class=list-inline><li>12.4531106751059</li><li>0.00210911379189416</li></ol>\n"
      ],
      "text/latex": [
       "\\begin{enumerate*}\n",
       "\\item 12.4531106751059\n",
       "\\item 0.00210911379189416\n",
       "\\end{enumerate*}\n"
      ],
      "text/markdown": [
       "1. 12.4531106751059\n",
       "2. 0.00210911379189416\n",
       "\n",
       "\n"
      ],
      "text/plain": [
       "[1] 12.453110675  0.002109114"
      ]
     },
     "metadata": {},
     "output_type": "display_data"
    }
   ],
   "source": [
    "A <- matrix(c(0, 0, 0, 0, 1, 1, 1, 1, 1, 1, 1, 1), nrow = 1, byrow = TRUE)\n",
    "\n",
    "n <- nrow(X)\n",
    "p <- ncol(X)\n",
    "q <- nrow(A)\n",
    "\n",
    "c <- matrix(0, nrow = q)\n",
    "\n",
    "p_val(X, y, n, p, q, A, c)"
   ]
  },
  {
   "cell_type": "markdown",
   "id": "7c5352d3-8153-4516-bf4e-1ad9b2179463",
   "metadata": {},
   "source": [
    "Con un $\\alpha = 0.05$, no rechazamos la hipótesis nula y afirmamos que el efecto de la variable `wt` es igual en ambos casos."
   ]
  },
  {
   "cell_type": "markdown",
   "id": "5810f107-48ab-4862-8733-e9f0035b1df4",
   "metadata": {},
   "source": [
    "#### 5. Un vendedor ofrece dos modelos. El carro 1 tiene `disp=20`, `hp=150`, `wt=1.5`, caja manual y motor en v. El carro 2 tiene `disp=17`, `hp=100`, `wt=2.6`, caja automática y motor en línea. El vendedor afirma que los consumos medios de combustible son respectivamente $18$ y $21$. ¿Es cierta la afirmación del vendedor?"
   ]
  },
  {
   "cell_type": "markdown",
   "id": "4e61ddc2-56df-4dba-9909-2ad786effd7a",
   "metadata": {},
   "source": [
    "Debemos probar las siguientes hipótesis:\n",
    "\n",
    "\\begin{align*}\n",
    "    H_{0}: & \\quad \\beta_{0} + 20 \\cdot \\beta_{\\text{disp}} + 150 \\cdot \\beta_{\\text{hp}} + 1.5 \\cdot \\beta_{\\text{wt}} + \\gamma_{\\text{am}} + 20 \\cdot \\eta_{\\text{disp} \\cdot \\text{am}} + 150 \\cdot \\eta_{\\text{hp} \\cdot \\text{am}} + 1.5 \\cdot \\eta_{\\text{wt} \\cdot \\text{am}} = 18 \\\\\n",
    "           & \\land \\beta_{0} + 17 \\cdot \\beta_{\\text{disp}} + 100 \\cdot \\beta_{\\text{hp}} + 2.6 \\cdot \\beta_{\\text{wt}} + \\gamma_{\\text{vs}} + 17 \\cdot \\eta_{\\text{disp} \\cdot \\text{vs}} + 100 \\cdot \\eta_{\\text{hp} \\cdot \\text{vs}} + 2.6 \\cdot \\eta_{\\text{wt} \\cdot \\text{vs}} = 21 \\\\\n",
    "    H_{a}: & \\neg H_{0}\n",
    "\\end{align*}"
   ]
  },
  {
   "cell_type": "code",
   "execution_count": 60,
   "id": "1db29cd6-4825-4973-a00e-01cdc28cbf95",
   "metadata": {},
   "outputs": [
    {
     "data": {
      "text/html": [
       "<style>\n",
       ".list-inline {list-style: none; margin:0; padding: 0}\n",
       ".list-inline>li {display: inline-block}\n",
       ".list-inline>li:not(:last-child)::after {content: \"\\00b7\"; padding: 0 .5ex}\n",
       "</style>\n",
       "<ol class=list-inline><li>4.41006281291665</li><li>0.0259024748732718</li></ol>\n"
      ],
      "text/latex": [
       "\\begin{enumerate*}\n",
       "\\item 4.41006281291665\n",
       "\\item 0.0259024748732718\n",
       "\\end{enumerate*}\n"
      ],
      "text/markdown": [
       "1. 4.41006281291665\n",
       "2. 0.0259024748732718\n",
       "\n",
       "\n"
      ],
      "text/plain": [
       "[1] 4.41006281 0.02590247"
      ]
     },
     "metadata": {},
     "output_type": "display_data"
    }
   ],
   "source": [
    "A <- matrix(c(1, 20, 150, 1.5, 0, 1, 0, 20, 0, 150, 0, 1.5,\n",
    "              1, 17, 100, 2.6, 1, 0, 17, 0, 100, 0, 2.6, 0), nrow = 2, byrow = TRUE)\n",
    "\n",
    "n <- nrow(X)\n",
    "p <- ncol(X)\n",
    "q <- nrow(A)\n",
    "\n",
    "c <- matrix(c(18, 21), nrow = q)\n",
    "\n",
    "p_val(X, y, n, p, q, A, c)"
   ]
  },
  {
   "cell_type": "markdown",
   "id": "341fcc15-fcb0-4dbe-998c-20a999c4710a",
   "metadata": {},
   "source": [
    "Con un $\\alpha = 0.05$, no rechazamos la hipótesis nula y concluimos que la afirmación del vendedor es acertada."
   ]
  },
  {
   "cell_type": "markdown",
   "id": "9da524ee-2492-4da5-9d92-ff6d11cfc09c",
   "metadata": {},
   "source": [
    "#### 6. Al parecer las pruebas tienden a no dar significativas en los puntos anteriores. Pruebe que el modelo tiene problemas de multicolinealidad, y explique qué relación tiene esto con las interacciones que se inluyen en el modelo."
   ]
  },
  {
   "cell_type": "code",
   "execution_count": 63,
   "id": "ef3fe27b-972a-4ee1-97b2-c80494ad862c",
   "metadata": {},
   "outputs": [
    {
     "data": {
      "text/html": [
       "<style>\n",
       ".dl-inline {width: auto; margin:0; padding: 0}\n",
       ".dl-inline>dt, .dl-inline>dd {float: none; width: auto; display: inline-block}\n",
       ".dl-inline>dt::after {content: \":\\0020\"; padding-right: .5ex}\n",
       ".dl-inline>dt:not(:first-of-type) {padding-left: .5ex}\n",
       "</style><dl class=dl-inline><dt>disp</dt><dd>18.1344235127069</dd><dt>hp</dt><dd>13.2651507461862</dd><dt>wt</dt><dd>10.9380467127547</dd><dt>vs</dt><dd>54.5592330584419</dd><dt>am</dt><dd>77.1176426047637</dd><dt>`disp:vs1`</dt><dd>21.4030689898055</dd><dt>`disp:am1`</dt><dd>29.7095782025053</dd><dt>`hp:vs1`</dt><dd>18.2202561196921</dd><dt>`hp:am1`</dt><dd>37.9996520379156</dd><dt>`wt:vs1`</dt><dd>96.9990299143932</dd><dt>`wt:am1`</dt><dd>84.2071993903116</dd></dl>\n"
      ],
      "text/latex": [
       "\\begin{description*}\n",
       "\\item[disp] 18.1344235127069\n",
       "\\item[hp] 13.2651507461862\n",
       "\\item[wt] 10.9380467127547\n",
       "\\item[vs] 54.5592330584419\n",
       "\\item[am] 77.1176426047637\n",
       "\\item[`disp:vs1`] 21.4030689898055\n",
       "\\item[`disp:am1`] 29.7095782025053\n",
       "\\item[`hp:vs1`] 18.2202561196921\n",
       "\\item[`hp:am1`] 37.9996520379156\n",
       "\\item[`wt:vs1`] 96.9990299143932\n",
       "\\item[`wt:am1`] 84.2071993903116\n",
       "\\end{description*}\n"
      ],
      "text/markdown": [
       "disp\n",
       ":   18.1344235127069hp\n",
       ":   13.2651507461862wt\n",
       ":   10.9380467127547vs\n",
       ":   54.5592330584419am\n",
       ":   77.1176426047637`disp:vs1`\n",
       ":   21.4030689898055`disp:am1`\n",
       ":   29.7095782025053`hp:vs1`\n",
       ":   18.2202561196921`hp:am1`\n",
       ":   37.9996520379156`wt:vs1`\n",
       ":   96.9990299143932`wt:am1`\n",
       ":   84.2071993903116\n",
       "\n"
      ],
      "text/plain": [
       "      disp         hp         wt         vs         am `disp:vs1` `disp:am1` \n",
       "  18.13442   13.26515   10.93805   54.55923   77.11764   21.40307   29.70958 \n",
       "  `hp:vs1`   `hp:am1`   `wt:vs1`   `wt:am1` \n",
       "  18.22026   37.99965   96.99903   84.20720 "
      ]
     },
     "metadata": {},
     "output_type": "display_data"
    }
   ],
   "source": [
    "library(car)\n",
    "vif(modelo_1)\n"
   ]
  },
  {
   "cell_type": "markdown",
   "id": "8364c74e-1ed4-47f3-a41c-734e0d2196ef",
   "metadata": {},
   "source": [
    "Aunque parece que todos los beta tienen un factor de inflación de la varianza bastante grande, particularmente las interacciones son preocupantes.\n",
    "\n",
    "En poca medida, puede deberse un poco la multicolinealidad a las medidas de desplazamiento, peso y caballos de fuerza, ya que es de esperarse que estén inversamente relacionadas. Un alto número de caballos de fuerza del motor puede significar que no está optimizado para desplazarse, sino para efectuar un gran torque, lo cual implicaría un motor más pesado y con menor capacidad de desplazamiento."
   ]
  },
  {
   "cell_type": "markdown",
   "id": "ffcab443-9e26-4ea8-9f35-c577c275cb81",
   "metadata": {},
   "source": [
    "Principalmente la multicolinealidad presente en el modelo podría explicarse por las variables de interacción, donde estas son directamente el resultado de variables que ya existen en el modelo sin interacciones. Es evidente que las variables de interacción dependen linealmente de las variables sencillas y por lo tanto están correlacionadas e introducen multicolinealidad. Más aún, las variables binarias tienen un efecto mucho más drástico en las variables de interacción, ya que un valor de 0 en una variable binaria perfectamente determina un 0 en sus respectivas interacciones."
   ]
  },
  {
   "cell_type": "markdown",
   "id": "8bcfe1fc-0d86-4b4d-b2b6-4ffc1f830f71",
   "metadata": {},
   "source": [
    "#### 7. Corra el modelo sin intereacciones y determine si siguen existiendo problemas de multicolinealidad."
   ]
  },
  {
   "cell_type": "code",
   "execution_count": 66,
   "id": "b6318456-38ba-48e3-9701-c003720815c1",
   "metadata": {},
   "outputs": [
    {
     "data": {
      "text/plain": [
       "\n",
       "Call:\n",
       "lm(formula = mpg ~ ., data = data)\n",
       "\n",
       "Residuals:\n",
       "    Min      1Q  Median      3Q     Max \n",
       "-3.7847 -1.8458 -0.3776  1.4665  5.1560 \n",
       "\n",
       "Coefficients:\n",
       "             Estimate Std. Error t value Pr(>|t|)    \n",
       "(Intercept) 31.040531   3.409758   9.103 1.44e-09 ***\n",
       "disp         0.009473   0.011040   0.858  0.39873    \n",
       "hp          -0.035040   0.012412  -2.823  0.00900 ** \n",
       "wt          -3.149865   1.128801  -2.790  0.00973 ** \n",
       "vs           2.288891   1.456995   1.571  0.12828    \n",
       "am           2.798663   1.455738   1.923  0.06556 .  \n",
       "---\n",
       "Signif. codes:  0 ‘***’ 0.001 ‘**’ 0.01 ‘*’ 0.05 ‘.’ 0.1 ‘ ’ 1\n",
       "\n",
       "Residual standard error: 2.514 on 26 degrees of freedom\n",
       "Multiple R-squared:  0.8541,\tAdjusted R-squared:  0.826 \n",
       "F-statistic: 30.44 on 5 and 26 DF,  p-value: 4.421e-10\n"
      ]
     },
     "metadata": {},
     "output_type": "display_data"
    }
   ],
   "source": [
    "modelo_2 <- lm(mpg ~ ., data = data)\n",
    "summary(modelo_2)\n"
   ]
  },
  {
   "cell_type": "code",
   "execution_count": 67,
   "id": "c58a1b3b-c836-49c2-a630-68a06dab0465",
   "metadata": {},
   "outputs": [
    {
     "data": {
      "text/html": [
       "<style>\n",
       ".dl-inline {width: auto; margin:0; padding: 0}\n",
       ".dl-inline>dt, .dl-inline>dd {float: none; width: auto; display: inline-block}\n",
       ".dl-inline>dt::after {content: \":\\0020\"; padding-right: .5ex}\n",
       ".dl-inline>dt:not(:first-of-type) {padding-left: .5ex}\n",
       "</style><dl class=dl-inline><dt>disp</dt><dd>9.18404826472019</dd><dt>hp</dt><dd>3.55244834725777</dd><dt>wt</dt><dd>5.98393870936674</dd><dt>vs</dt><dd>2.64528953930848</dd><dt>am</dt><dd>2.58833181994399</dd></dl>\n"
      ],
      "text/latex": [
       "\\begin{description*}\n",
       "\\item[disp] 9.18404826472019\n",
       "\\item[hp] 3.55244834725777\n",
       "\\item[wt] 5.98393870936674\n",
       "\\item[vs] 2.64528953930848\n",
       "\\item[am] 2.58833181994399\n",
       "\\end{description*}\n"
      ],
      "text/markdown": [
       "disp\n",
       ":   9.18404826472019hp\n",
       ":   3.55244834725777wt\n",
       ":   5.98393870936674vs\n",
       ":   2.64528953930848am\n",
       ":   2.58833181994399\n",
       "\n"
      ],
      "text/plain": [
       "    disp       hp       wt       vs       am \n",
       "9.184048 3.552448 5.983939 2.645290 2.588332 "
      ]
     },
     "metadata": {},
     "output_type": "display_data"
    }
   ],
   "source": [
    "vif(modelo_2)"
   ]
  },
  {
   "cell_type": "markdown",
   "id": "8057f374-413c-4da5-b8f2-211887a8ab94",
   "metadata": {},
   "source": [
    "En este nuevo modelo podemos estar satisfechos con los vif de las variables. Ninguna es mayor a 10 y en su mayoría, son menores a 10. Un potencial candidato a no incluir en el modelo es la variable `disp`, aunque no es una medida que deba efectuarse con urgencia."
   ]
  }
 ],
 "metadata": {
  "kernelspec": {
   "display_name": "R",
   "language": "R",
   "name": "ir"
  },
  "language_info": {
   "codemirror_mode": "r",
   "file_extension": ".r",
   "mimetype": "text/x-r-source",
   "name": "R",
   "pygments_lexer": "r",
   "version": "4.2.1"
  }
 },
 "nbformat": 4,
 "nbformat_minor": 5
}
