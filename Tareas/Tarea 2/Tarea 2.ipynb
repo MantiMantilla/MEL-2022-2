{
 "cells": [
  {
   "cell_type": "markdown",
   "id": "c2f0b8e4",
   "metadata": {},
   "source": [
    "# Tarea 2 - MEL\n",
    "\n",
    "Alejandro Mantilla - 201711304\n",
    "\n",
    "Ximena Palacio - 201730995"
   ]
  },
  {
   "cell_type": "markdown",
   "id": "d9ec8b5f",
   "metadata": {},
   "source": [
    "## Índice\n",
    "\n",
    "- [Parte A](#Parte-A.-Problemas-Computacionales.)\n",
    "\n",
    "    - [Problema 1](#Problema-1.-Escriba-su-propia-función-para-hacer-pruebas-sobre-los-betas.)\n",
    "    - [Problema 2](#Problema-2.-Visualizando-las-regiones-de-confianza.)\n",
    "\n",
    "- [Parte B](#Parte-B.-Problemas-Teóricos-y-Conceptuales.)\n",
    "\n",
    "    - [Problema 3](#Problema-3.-Formas-de-variables-dummies.)\n",
    "    \n",
    "- [Parte C](#Parte-C.-Problemas-Aplicados-con-Datos-Reales.)\n",
    "\n",
    "    - [Problema 4](#Problema-4.-Modelos-No-Lineales.)\n",
    "    - [Problema 5](#Problema-5.-Efectos-de-la-personalidad-en-la-producción-intelectual-bajo-estrés.)\n",
    "    - [Problema 6](#Problema-6.-Interacciones-y-Multicolinealidad.)"
   ]
  },
  {
   "cell_type": "markdown",
   "id": "0b8d3940",
   "metadata": {},
   "source": [
    "## Parte A. Problemas Computacionales."
   ]
  },
  {
   "cell_type": "markdown",
   "id": "eddb49f9",
   "metadata": {},
   "source": [
    "### Problema 1. Escriba su propia función para hacer pruebas sobre los betas."
   ]
  },
  {
   "cell_type": "markdown",
   "id": "6a846176",
   "metadata": {},
   "source": [
    "Como ya lo vimos en clase, las pruebas $F$ para restricciones en los parámetros $\\beta$ de la recta incluyen\n",
    "la mayor parte de las pruebas que se pueden hacer sobre los modelos de regresión (significancia global,\n",
    "significancia de cada variable, combinaciones lineales, etc).\n",
    "\n",
    "Como habrá visto, la función `lm` de R no tiene la opción de inferir sobre restricciones generales, sino\n",
    "que hace la prueba de significancia global y las individuales.\n",
    "\n",
    "Lea el capítulo 10 del documento de introducción a R (`intro-R.pdf`) sobre cómo crear sus propias\n",
    "funciones, y con esto:"
   ]
  },
  {
   "cell_type": "markdown",
   "id": "c055b235",
   "metadata": {},
   "source": [
    "#### 1. Cree su propia función para estimar un modelo de regresión lineal en donde los inputs son: matriz $X$, vector $Y$, el vector $c$, la matriz $A$ (si se quiere hacer una prueba general con restricciones) y el vector de subíndices que se quieren incluir en la hipótesis nula de una prueba de significancia parcial. Puede usar como base las funciones vistas en clase, si lo prefiere."
   ]
  },
  {
   "cell_type": "markdown",
   "id": "b7f1d877",
   "metadata": {},
   "source": [
    "#### 2. La función debe tener una entrada binario en el que el usuario decide si quiere hacer una prueba con restricciones generales o una significancia parcial."
   ]
  },
  {
   "cell_type": "markdown",
   "id": "209d252e",
   "metadata": {},
   "source": [
    "#### 3. La función debe dar como salida: la prueba de significancia global, las significancias individuales de cada uno de los betas (con pruebas de hipótesis o intervalos de confianza) y el resultado de la prueba asociada a $A$ o a los índices de los betas en la prueba parcial, incluyendo el _$p$-value_."
   ]
  },
  {
   "cell_type": "markdown",
   "id": "6bebc63d",
   "metadata": {},
   "source": [
    "#### 4. Póngale el nombre de su preferencia a la función, añádale los demás atributos que quiera y úsela a su conveniencia."
   ]
  },
  {
   "cell_type": "markdown",
   "id": "126c23be",
   "metadata": {},
   "source": [
    "Definimos la función, y la probamos a partir deun ejemplo sencillo con los datos de marketing del paquete `datarium`."
   ]
  },
  {
   "cell_type": "code",
   "execution_count": 1,
   "id": "44fddbb2",
   "metadata": {},
   "outputs": [],
   "source": [
    "hipotesis_tests <- function(X, y, partial_tests = FALSE, indices = NULL, A = NULL, c = NULL) {\n",
    "\n",
    "    if (partial_tests) {\n",
    "        n <- nrow(X)\n",
    "        p <- ncol(X)\n",
    "        \n",
    "        indices <- which(colnames(X) %in% c(\"facebook\", \"youtube\"))\n",
    "        \n",
    "        q <- length(unique(indices))\n",
    "\n",
    "        A <- diag(1, p)[indices, ]\n",
    "        c <- matrix(rep(0, q), ncol = 1)\n",
    "        \n",
    "    } else {\n",
    "        n <- nrow(X)\n",
    "        p <- ncol(X)\n",
    "        q <- nrow(A)\n",
    "    }\n",
    "    \n",
    "    xtx <- t(X) %*% X\n",
    "    H <- solve(xtx)\n",
    "\n",
    "    beta_hat <- H %*% t(X) %*% y\n",
    "\n",
    "    y_hat <- X %*% beta_hat\n",
    "\n",
    "    s2 <- sum((y - y_hat) ^ 2) / (n - p)\n",
    "\n",
    "    beta_r <- beta_hat +\n",
    "              (H %*% t(A) %*% solve(A %*% H %*% t(A)) %*% (c -\n",
    "                                                           (A %*% beta_hat)))\n",
    "\n",
    "    ep <- (sum((y_hat - (X %*% beta_r)) ^ 2) / q) / s2\n",
    "\n",
    "    pvalue <- 1 - pf(ep, q, (n - p))\n",
    "\n",
    "    return(c(ep, pvalue))\n",
    "}"
   ]
  },
  {
   "cell_type": "code",
   "execution_count": 2,
   "id": "6213c9e4-b833-4138-9c1c-513ebe854d7a",
   "metadata": {},
   "outputs": [
    {
     "data": {
      "text/html": [
       "<style>\n",
       ".list-inline {list-style: none; margin:0; padding: 0}\n",
       ".list-inline>li {display: inline-block}\n",
       ".list-inline>li:not(:last-child)::after {content: \"\\00b7\"; padding: 0 .5ex}\n",
       "</style>\n",
       "<ol class=list-inline><li>805.714107187276</li><li>0</li></ol>\n"
      ],
      "text/latex": [
       "\\begin{enumerate*}\n",
       "\\item 805.714107187276\n",
       "\\item 0\n",
       "\\end{enumerate*}\n"
      ],
      "text/markdown": [
       "1. 805.714107187276\n",
       "2. 0\n",
       "\n",
       "\n"
      ],
      "text/plain": [
       "[1] 805.7141   0.0000"
      ]
     },
     "metadata": {},
     "output_type": "display_data"
    },
    {
     "data": {
      "text/html": [
       "<style>\n",
       ".list-inline {list-style: none; margin:0; padding: 0}\n",
       ".list-inline>li {display: inline-block}\n",
       ".list-inline>li:not(:last-child)::after {content: \"\\00b7\"; padding: 0 .5ex}\n",
       "</style>\n",
       "<ol class=list-inline><li>264.724159608646</li><li>0</li></ol>\n"
      ],
      "text/latex": [
       "\\begin{enumerate*}\n",
       "\\item 264.724159608646\n",
       "\\item 0\n",
       "\\end{enumerate*}\n"
      ],
      "text/markdown": [
       "1. 264.724159608646\n",
       "2. 0\n",
       "\n",
       "\n"
      ],
      "text/plain": [
       "[1] 264.7242   0.0000"
      ]
     },
     "metadata": {},
     "output_type": "display_data"
    }
   ],
   "source": [
    "data(\"marketing\", package = \"datarium\")\n",
    "\n",
    "X <- marketing[, c(\"youtube\", \"facebook\", \"newspaper\")]\n",
    "X <- as.matrix(cbind(1, X))\n",
    "y <- as.matrix(marketing[\"sales\"])\n",
    "\n",
    "# Partial (facebook = youtube = 0):\n",
    "hipotesis_tests(X = X, y = y, partial_tests = TRUE, indices = c(\"facebook\", \"youtube\"))\n",
    "\n",
    "# Compund (facebook = youtube):\n",
    "A = matrix(c(0, 1, -1, 0), nrow = 1)\n",
    "c = matrix(0)\n",
    "hipotesis_tests(X, y, partial_tests = FALSE, A = A, c = c)\n"
   ]
  },
  {
   "cell_type": "markdown",
   "id": "8ed858de",
   "metadata": {},
   "source": [
    "### Problema 2. Visualizando las regiones de confianza."
   ]
  },
  {
   "cell_type": "markdown",
   "id": "1888b340",
   "metadata": {},
   "source": [
    "Hasta ahora sabemos hacer intervalos de confianza asociados a cada uno de los parámetros $\\beta_{j}$ para $j = 0, 1, \\cdots , k$. Sin embargo, estos están relacionados a pruebas individuales, con conjuntas. Para solucionar esto, vamos a hacer regiones conjuntas de confianza para pares de parámetros. Para esto, tenga en cuenta que cada par de estimadores $\\hat{\\beta}_{i}$ y $\\hat{\\beta}_{i}$ para $i, j \\in \\{0, . . . , k\\}$ se distribuyen como un vector normal bivariado (revisar las propiedades de la distribución normal multivariada), Esto es:\n",
    "\n",
    "$$\n",
    "  \\left( \\hat{\\beta}_{i}, \\hat{\\beta}_{i}\\right)^{T} \\sim \\mathcal{N}_{2}\\left(\\left( \\beta_{i}, \\beta_{i}\\right)^{T}, \\sigma^{2}\\textbf{W}_{ij}\\right).\n",
    "$$"
   ]
  },
  {
   "cell_type": "markdown",
   "id": "ed5447c5",
   "metadata": {},
   "source": [
    "Donde la matriz $\\textbf{W}_{ij}$ corresponde a los elementos correspondientes a las varianza y covarianza, esto es:\n",
    "\n",
    "$$\n",
    "  \\textbf{W}_{ij} =\n",
    "  \\begin{bmatrix}\n",
    "    h_{ii} & h_{ij}\\\\\n",
    "    h_{ij} & h_{jj}\n",
    "  \\end{bmatrix}.\n",
    "$$"
   ]
  },
  {
   "cell_type": "markdown",
   "id": "48788d08",
   "metadata": {},
   "source": [
    "Para construir el la región de confianza siga los siguientes pasos:"
   ]
  },
  {
   "cell_type": "markdown",
   "id": "784a9db4",
   "metadata": {},
   "source": [
    "#### 1. Determine la distribución de:\n",
    "\n",
    "$$\n",
    "  \\sigma^{-1}\\textbf{W}_{ij}^{-\\frac{1}{2}}\n",
    "  \\begin{bmatrix}\n",
    "    \\hat{\\beta}_{i} - \\beta_{i}\\\\\n",
    "    \\hat{\\beta}_{j} - \\beta_{j}\n",
    "  \\end{bmatrix}\n",
    "$$"
   ]
  },
  {
   "cell_type": "markdown",
   "id": "46ec10d4",
   "metadata": {},
   "source": [
    "Llegamos a la expresión deseada, estandarizando los estimadores. Estandarizar las distribuciones marginales también estandariza la distribución conjunta.\n",
    "\n",
    "\\begin{align*}\n",
    "  \\begin{bmatrix}\n",
    "    \\hat{\\beta}_{i}\\\\\n",
    "    \\hat{\\beta}_{j}\n",
    "  \\end{bmatrix} &\\sim \\mathcal{N}_{2}\\left(\n",
    "  \\begin{bmatrix}\n",
    "    \\beta_{i}\\\\\n",
    "    \\beta_{j}\n",
    "  \\end{bmatrix}, \\sigma^{2}\\textbf{W}_{ij}\\right) \\\\\n",
    "  \\begin{bmatrix}\n",
    "    \\hat{\\beta}_{i} - \\beta_{i} \\\\\n",
    "    \\hat{\\beta}_{j} - \\beta_{j}\n",
    "  \\end{bmatrix} &\\sim \\mathcal{N}_{2}\\left(\n",
    "  \\begin{bmatrix}\n",
    "    0\\\\\n",
    "    0\n",
    "  \\end{bmatrix}, \\sigma^{2}\\textbf{W}_{ij}\\right)\n",
    "\\end{align*}"
   ]
  },
  {
   "cell_type": "markdown",
   "id": "9ae315a2",
   "metadata": {},
   "source": [
    "$$\n",
    "  \\left[ \\sigma^{2}\\textbf{W}_{ij} \\right]^{-\\frac{1}{2}}\n",
    "  \\begin{bmatrix}\n",
    "    \\hat{\\beta}_{i} - \\beta_{i}\\\\\n",
    "    \\hat{\\beta}_{j} - \\beta_{j}\n",
    "  \\end{bmatrix}\n",
    "  = \\sigma^{-1}\\textbf{W}_{ij}^{-\\frac{1}{2}}\n",
    "  \\begin{bmatrix}\n",
    "    \\hat{\\beta}_{i} - \\beta_{i}\\\\\n",
    "    \\hat{\\beta}_{j} - \\beta_{j}\n",
    "  \\end{bmatrix}\n",
    "  \\sim \\mathcal{N}_{2}\\left(\n",
    "  \\begin{bmatrix}\n",
    "    0\\\\\n",
    "    0\n",
    "  \\end{bmatrix},\n",
    "  \\begin{bmatrix}\n",
    "    1 & 0\\\\\n",
    "    0 & 1\n",
    "  \\end{bmatrix}\\right).\n",
    "$$\n",
    "\n",
    "La expresión se distribuye normal estándar bivariada."
   ]
  },
  {
   "cell_type": "markdown",
   "id": "9241398a",
   "metadata": {},
   "source": [
    "#### 2. Determine la distribución de:\n",
    "\n",
    "$$\n",
    "  \\sigma^{-2}\n",
    "  \\begin{bmatrix}\n",
    "    \\hat{\\beta}_{i} - \\beta_{i}\\\\\n",
    "    \\hat{\\beta}_{j} - \\beta_{j}\n",
    "  \\end{bmatrix}^{T}\n",
    "  \\textbf{W}_{ij}^{-1}\n",
    "  \\begin{bmatrix}\n",
    "    \\hat{\\beta}_{i} - \\beta_{i}\\\\\n",
    "    \\hat{\\beta}_{j} - \\beta_{j}\n",
    "  \\end{bmatrix}\n",
    "$$"
   ]
  },
  {
   "cell_type": "markdown",
   "id": "b5823cf1",
   "metadata": {},
   "source": [
    "Usaremos la propiedad de simetría de la matriz $\\textbf{W}_{ij}$: $\\left[\\textbf{W}_{ij}\\right]^{T} = \\textbf{W}_{ij}$."
   ]
  },
  {
   "cell_type": "markdown",
   "id": "5a5b623f",
   "metadata": {},
   "source": [
    "Tomamos dos características que demostramos en la tarea anterior. Si $Y\\sim\\mathcal{N}(0,1)$, entonces:\n",
    "\n",
    "-   $Y^{2}\\sim\\chi^{2}(1)$, y\n",
    "-   $\\sum_{i = 1}^{n}Y_{i}^{2}\\sim\\chi^{2}(n)$."
   ]
  },
  {
   "cell_type": "markdown",
   "id": "270014f0",
   "metadata": {},
   "source": [
    "Por lo mismo, podemos ver que si $\\begin{bmatrix} Y_{1} \\\\ Y_{2} \\end{bmatrix} \\sim \\mathcal{N}_{2}(0,1)$, entonces:\n",
    "\n",
    "$$\n",
    "  \\begin{bmatrix} Y_{1} \\\\ Y_{2} \\end{bmatrix} ^{2} = \\begin{bmatrix} Y_{1} & Y_{2} \\end{bmatrix}\\begin{bmatrix} Y_{1} \\\\ Y_{2} \\end{bmatrix} = Y_{1}^{2} + Y_{2}^{2} = \\sum_{i = 1}^{2} Y_{i}^{2} \\sim \\chi^{2}(2).\n",
    "$$"
   ]
  },
  {
   "cell_type": "markdown",
   "id": "bf62e034",
   "metadata": {},
   "source": [
    "La consecuencia de esta propiedad es que:\n",
    "\n",
    "$$\n",
    "  \\left[\\sigma^{-1}\\textbf{W}_{ij}^{-\\frac{1}{2}}\n",
    "  \\begin{bmatrix}\n",
    "    \\hat{\\beta}_{i} - \\beta_{i}\\\\\n",
    "    \\hat{\\beta}_{j} - \\beta_{j}\n",
    "  \\end{bmatrix}\\right]^{2} \\sim \\chi^{2}(2).\n",
    "$$"
   ]
  },
  {
   "cell_type": "markdown",
   "id": "8fdbfcd3",
   "metadata": {},
   "source": [
    "Desarrollamos esta propiedad hasta alcanzar la expresión deseada.\n",
    "\n",
    "\n",
    "\\begin{align*}\n",
    "  \\left[\\sigma^{-1}\\textbf{W}_{ij}^{-\\frac{1}{2}}\n",
    "  \\begin{bmatrix}\n",
    "    \\hat{\\beta}_{i} - \\beta_{i}\\\\\n",
    "    \\hat{\\beta}_{j} - \\beta_{j}\n",
    "  \\end{bmatrix}\\right]^{2} &=\n",
    "  \\left[\\sigma^{-1}\\textbf{W}_{ij}^{-\\frac{1}{2}}\n",
    "  \\begin{bmatrix}\n",
    "    \\hat{\\beta}_{i} - \\beta_{i}\\\\\n",
    "    \\hat{\\beta}_{j} - \\beta_{j}\n",
    "  \\end{bmatrix}\\right]^{T} \\left[\\sigma^{-1}\\textbf{W}_{ij}^{-\\frac{1}{2}}\n",
    "  \\begin{bmatrix}\n",
    "    \\hat{\\beta}_{i} - \\beta_{i}\\\\\n",
    "    \\hat{\\beta}_{j} - \\beta_{j}\n",
    "  \\end{bmatrix}\\right] \\\\\n",
    "  &= \\sigma^{-2}\n",
    "  \\begin{bmatrix}\n",
    "    \\hat{\\beta}_{i} - \\beta_{i}\\\\\n",
    "    \\hat{\\beta}_{j} - \\beta_{j}\n",
    "  \\end{bmatrix}^{T} \\left[\\textbf{W}_{ij}^{-\\frac{1}{2}}\\right]^{T} \\left[\\textbf{W}_{ij}^{-\\frac{1}{2}}\n",
    "  \\begin{bmatrix}\n",
    "    \\hat{\\beta}_{i} - \\beta_{i}\\\\\n",
    "    \\hat{\\beta}_{j} - \\beta_{j}\n",
    "  \\end{bmatrix}\\right] \\\\\n",
    "  &= \\sigma^{-2}\n",
    "  \\begin{bmatrix}\n",
    "    \\hat{\\beta}_{i} - \\beta_{i}\\\\\n",
    "    \\hat{\\beta}_{j} - \\beta_{j}\n",
    "  \\end{bmatrix}^{T} \\textbf{W}_{ij}^{-1}\n",
    "  \\begin{bmatrix}\n",
    "    \\hat{\\beta}_{i} - \\beta_{i}\\\\\n",
    "    \\hat{\\beta}_{j} - \\beta_{j}\n",
    "  \\end{bmatrix} \\sim \\chi^{2}(2).\n",
    "\\end{align*}"
   ]
  },
  {
   "cell_type": "markdown",
   "id": "9545a0b7",
   "metadata": {},
   "source": [
    "#### 3. Como la varianza del error ($\\sigma^{2}$) no se conoce, determine la distribución de:\n",
    "\n",
    "$$\n",
    "  \\left(\\frac{1}{2\\cdot MSE}\\right)\n",
    "  \\begin{bmatrix}\n",
    "    \\hat{\\beta}_{i} - \\beta_{i}\\\\\n",
    "    \\hat{\\beta}_{j} - \\beta_{j}\n",
    "  \\end{bmatrix}^{T}\n",
    "  \\textbf{W}_{ij}^{-1}\n",
    "  \\begin{bmatrix}\n",
    "    \\hat{\\beta}_{i} - \\beta_{i}\\\\\n",
    "    \\hat{\\beta}_{j} - \\beta_{j}\n",
    "  \\end{bmatrix}\n",
    "$$"
   ]
  },
  {
   "cell_type": "markdown",
   "id": "4c6be663",
   "metadata": {},
   "source": [
    "Por el teorema de Cochran, $\\frac{SSE}{\\sigma^{2}}\\sim\\chi^{2}(n-2)$.\n",
    "\n",
    "Sean $S_{1} \\sim \\chi^{2}(d_{1})$ y $S_{2} \\sim \\chi^{2}(d_{2})$, entonces $\\frac{S_{1}/d_{1}}{S_{2}/d_{2}} \\sim F(d_{1}, d_{2})$."
   ]
  },
  {
   "cell_type": "markdown",
   "id": "cd2408b7",
   "metadata": {},
   "source": [
    "Construimos una distribución $F$ de la misma manera:\n",
    "\n",
    "$$\n",
    "  S_{1} := \\sigma^{-2}\n",
    "  \\begin{bmatrix}\n",
    "    \\hat{\\beta}_{i} - \\beta_{i}\\\\\n",
    "    \\hat{\\beta}_{j} - \\beta_{j}\n",
    "  \\end{bmatrix}^{T} \\textbf{W}_{ij}^{-1}\n",
    "  \\begin{bmatrix}\n",
    "    \\hat{\\beta}_{i} - \\beta_{i}\\\\\n",
    "    \\hat{\\beta}_{j} - \\beta_{j}\n",
    "  \\end{bmatrix}.\\\\\n",
    "  S_{1}\\sim \\chi^{2}(2) \\implies d_{1} = 2.\n",
    "$$"
   ]
  },
  {
   "cell_type": "markdown",
   "id": "accac2d3",
   "metadata": {},
   "source": [
    "$$\n",
    "  S_{2} := \\frac{SSE}{\\sigma^{2}}. \\\\\n",
    "  S_{2} \\sim \\chi^{2}(n-2) \\Rightarrow d_{2} = n-2.\n",
    "$$"
   ]
  },
  {
   "cell_type": "markdown",
   "id": "7cc4e002",
   "metadata": {},
   "source": [
    "$$\n",
    "  \\frac{\\sigma^{-2}\n",
    "  \\begin{bmatrix}\n",
    "    \\hat{\\beta}_{i} - \\beta_{i}\\\\\n",
    "    \\hat{\\beta}_{j} - \\beta_{j}\n",
    "  \\end{bmatrix}^{T} \\textbf{W}_{ij}^{-1}\n",
    "  \\begin{bmatrix}\n",
    "    \\hat{\\beta}_{i} - \\beta_{i}\\\\\n",
    "    \\hat{\\beta}_{j} - \\beta_{j}\n",
    "  \\end{bmatrix} / 2}{\\frac{SSE}{\\sigma^{2}} / (n-2)} \\sim F(2, n-2).\n",
    "$$"
   ]
  },
  {
   "cell_type": "markdown",
   "id": "66f96919",
   "metadata": {},
   "source": [
    "$$\n",
    "  \\frac{\\sigma^{-2}\n",
    "  \\begin{bmatrix}\n",
    "    \\hat{\\beta}_{i} - \\beta_{i}\\\\\n",
    "    \\hat{\\beta}_{j} - \\beta_{j}\n",
    "  \\end{bmatrix}^{T} \\textbf{W}_{ij}^{-1}\n",
    "  \\begin{bmatrix}\n",
    "    \\hat{\\beta}_{i} - \\beta_{i}\\\\\n",
    "    \\hat{\\beta}_{j} - \\beta_{j}\n",
    "  \\end{bmatrix} / 2}{\\frac{SSE}{\\sigma^{2}} / (n-2)} = \n",
    "  \\frac{\\begin{bmatrix}\n",
    "    \\hat{\\beta}_{i} - \\beta_{i}\\\\\n",
    "    \\hat{\\beta}_{j} - \\beta_{j}\n",
    "  \\end{bmatrix}^{T}\n",
    "  \\textbf{W}_{ij}^{-1}\n",
    "  \\begin{bmatrix}\n",
    "    \\hat{\\beta}_{i} - \\beta_{i}\\\\\n",
    "    \\hat{\\beta}_{j} - \\beta_{j}\n",
    "  \\end{bmatrix}}{2\\cdot MSE}.\n",
    "$$"
   ]
  },
  {
   "cell_type": "markdown",
   "id": "919b16fc",
   "metadata": {},
   "source": [
    "#### 4. Use la expresión del numeral anterior para definir una región (en este caso una elipse) que forma una región bidimensional con una confianza de $1-\\alpha$."
   ]
  },
  {
   "cell_type": "markdown",
   "id": "b11d0c98",
   "metadata": {},
   "source": [
    "Suponemos un intervalo de confianza conjunto sobre el estadístico F de cola superior.\n",
    "\n",
    "La expresión del literal anterior define la forma cuadrática:\n",
    "\\begin{align*}\n",
    "  f\\left(\\beta_{i},\\beta_{j}\\right) &= \\frac{\\begin{bmatrix}\n",
    "      \\hat{\\beta}_{i} - \\beta_{i}\\\\\n",
    "      \\hat{\\beta}_{j} - \\beta_{j}\n",
    "    \\end{bmatrix}^{T}\n",
    "    \\textbf{W}_{ij}^{-1}\n",
    "    \\begin{bmatrix}\n",
    "      \\hat{\\beta}_{i} - \\beta_{i}\\\\\n",
    "      \\hat{\\beta}_{j} - \\beta_{j}\n",
    "    \\end{bmatrix}}{2\\cdot MSE} \\\\ \n",
    "    &= \\frac{h_{jj}\\left( \\hat{\\beta}_{i} -\\beta_{i}\\right)^{2} - 2h_{ij}\\left( \\hat{\\beta}_{i} -\\beta_{i}\\right)\\left( \\hat{\\beta}_{j} -\\beta_{j}\\right) + h_{ii}\\left( \\hat{\\beta}_{j} -\\beta_{j}\\right)^{2}}{2 \\cdot (h_{ii}h_{jj}-h_{ij}^{2}) \\cdot MSE} \\\\\n",
    "\\end{align*}"
   ]
  },
  {
   "cell_type": "markdown",
   "id": "00e2a19c",
   "metadata": {},
   "source": [
    "Si se acota de la siguiente manera, esta forma cuadrática describe una región que satisface el intervalo de confianza en forma de elipse:\n",
    "\n",
    "$$\n",
    "\\frac{h_{jj}\\left( \\hat{\\beta}_{i} -\\beta_{i}\\right)^{2} - 2h_{ij}\\left( \\hat{\\beta}_{i} -\\beta_{i}\\right)\\left( \\hat{\\beta}_{j} -\\beta_{j}\\right) + h_{ii}\\left( \\hat{\\beta}_{j} -\\beta_{j}\\right)^{2}}{2 \\cdot (h_{ii}h_{jj}-h_{ij}^{2}) \\cdot MSE} \\leq F_{1-\\alpha}(2,n-2).\n",
    "$$"
   ]
  },
  {
   "cell_type": "markdown",
   "id": "389fc272",
   "metadata": {},
   "source": [
    "Expandimos la forma cuadrática hasta llegar a la forma general: $ax^{2} + by^{2} + cxy + dx + ey + f \\leq 0$. Esto nos va a permitir graficar la elipse de manera más sencilla ya que conoceerémos la longitud de sus ejes y cuanto espacio debería ocupar en el gráfico.\n",
    "\n",
    "$$\n",
    "  h_{jj}\\left( \\hat{\\beta}_{i}^{2} - 2\\hat{\\beta}_{i}\\beta_{i} + \\beta_{i}^{2}\\right) - 2h_{ij}\\left( \\hat{\\beta}_{i}\\hat{\\beta}_{j} + \\beta_{i}\\beta_{j} - \\hat{\\beta}_{i}\\beta_{j} - \\hat{\\beta}_{j}\\beta_{i} \\right) + h_{ii}\\left( \\hat{\\beta}_{j}^{2} - 2\\hat{\\beta}_{j}\\beta_{j} + \\beta_{j}^{2}\\right) \\leq 2 \\cdot (h_{ii}h_{jj}-h_{ij}^{2}) \\cdot MSE \\cdot F_{1-\\alpha}(2,n-2)\\\\\n",
    "  h_{jj}\\beta_{i}^{2} + h_{ii}\\beta_{j}^{2} - 2h_{ij}\\beta_{i}\\beta_{j} + \\left(2h_{ij}\\hat{\\beta}_{j} - 2h_{jj}\\hat{\\beta}_{i}\\right)\\beta_{i} + \\left(2h_{ij}\\hat{\\beta}_{i} - 2h_{ii}\\hat{\\beta}_{j}\\right)\\beta_{j} - 2h_{ij}\\hat{\\beta}_{i}\\hat{\\beta}_{j} + h_{jj}\\hat{\\beta}_{i}^{2} + h_{ii}\\hat{\\beta}_{j}^{2} - 2 \\cdot (h_{ii}h_{jj}-h_{ij}^{2}) \\cdot MSE \\cdot F_{1-\\alpha}(2,n-2) \\leq 0.\n",
    "$$"
   ]
  },
  {
   "cell_type": "markdown",
   "id": "13e78f48",
   "metadata": {},
   "source": [
    "En esta región, $F_{1 - \\alpha}(2,n-2)$ es el percentil para un porcentaje $\\alpha$ de cola izquierda de una distribución $F(2,n-2)$."
   ]
  },
  {
   "cell_type": "markdown",
   "id": "d7d5f6f3",
   "metadata": {},
   "source": [
    "#### 5 & 6. Investigue la función contour de R, y úsela para graficar la región (elipse) de confianza dados los valores $\\hat{\\beta}_{i}$, $\\hat{\\beta}_{j}$, $\\textbf{W}_{ij}$ y el $MSE$. Puede usar cualquier otra función que considere pertinente para graficar. Cree una función donde los inputs son los datos X, Y, el nivel de significancia ($\\alpha$) y el par de parámetros betas (por ejemplo $\\beta_{1}$ y $\\beta_{3}$). Como resultado de la función, se debe producir un gráfico con la elipse de confianza para los dos parámetros seleccionados."
   ]
  },
  {
   "cell_type": "code",
   "execution_count": 3,
   "id": "f45e394f",
   "metadata": {},
   "outputs": [],
   "source": [
    "# Los parámetros alpha y n son desconocidos y deberían ser registrados por el usuario.\n",
    "# Sus valores por defecto son para poder correr la función con instancias de prueba.\n",
    "ellipse_contour <- function(beta_hat_i, beta_hat_j, W_ij, MSE, alpha = 0.05, n = 1000){\n",
    "  # Producimos los parámetros de la forma general de la elipse (a * x ^ 2 + b * y ^ 2 + c * x * y + d * x + e * y + f < 0).\n",
    "  a <- W_ij[2, 2]\n",
    "  b <- W_ij[1, 1]\n",
    "  c <- -2*W_ij[1,2]\n",
    "  d <- 2*W_ij[1,2]*beta_hat_j - 2*W_ij[2,2]*beta_hat_i\n",
    "  e <- 2*W_ij[1,2]*beta_hat_i - 2*W_ij[1,1]*beta_hat_j\n",
    "  f <- -2*W_ij[1,2]*beta_hat_i*beta_hat_j + W_ij[2,2]*beta_hat_i^2 + W_ij[1,1]*beta_hat_j^2 - 2*(W_ij[1,1]*W_ij[2,2] - W_ij[1,2]^2) * MSE * qf(1-alpha, 2, n-2)\n",
    "\n",
    "  # Definimos una función que grafica elipses a partir de sus parámetros.\n",
    "  plot.ellipse <- function (a, b, c, d, e, f, n) {\n",
    "    ## solve for centre\n",
    "    A <- matrix(c(a, c / 2, c / 2, b), 2L)\n",
    "    B <- c(-d / 2, -e / 2)\n",
    "    mu <- solve(A, B)\n",
    "    ## generate points on circle\n",
    "    r <- sqrt(a * mu[1] ^ 2 + b * mu[2] ^ 2 + c * mu[1] * mu[2] - f)\n",
    "    theta <- seq(0, 2 * pi, length = n)\n",
    "    v <- rbind(r * cos(theta), r * sin(theta))\n",
    "    ## transform for points on ellipse\n",
    "    z <- backsolve(chol(A), v) + mu\n",
    "    ## plot points\n",
    "    plot(t(z), type = \"l\")\n",
    "  }\n",
    "\n",
    "  # Graficamos la elipse.\n",
    "  plot.ellipse(a, b, c, d, e, f, n)\n",
    "}"
   ]
  },
  {
   "cell_type": "markdown",
   "id": "00eeb74a",
   "metadata": {},
   "source": [
    "Hacemos un ejemplo sencillo con los datos de marketing del paquete `datarium`. Para estos datos vamos a computar la matriz de covarianzas de los beta seleccionados y el MSE del modelo. Haremos este procedimiento según los lineamientos del literal 6."
   ]
  },
  {
   "cell_type": "code",
   "execution_count": 4,
   "id": "6d970ed9",
   "metadata": {},
   "outputs": [
    {
     "data": {
      "text/html": [
       "<table class=\"dataframe\">\n",
       "<caption>A data.frame: 6 × 4</caption>\n",
       "<thead>\n",
       "\t<tr><th></th><th scope=col>youtube</th><th scope=col>facebook</th><th scope=col>newspaper</th><th scope=col>sales</th></tr>\n",
       "\t<tr><th></th><th scope=col>&lt;dbl&gt;</th><th scope=col>&lt;dbl&gt;</th><th scope=col>&lt;dbl&gt;</th><th scope=col>&lt;dbl&gt;</th></tr>\n",
       "</thead>\n",
       "<tbody>\n",
       "\t<tr><th scope=row>1</th><td>276.12</td><td>45.36</td><td>83.04</td><td>26.52</td></tr>\n",
       "\t<tr><th scope=row>2</th><td> 53.40</td><td>47.16</td><td>54.12</td><td>12.48</td></tr>\n",
       "\t<tr><th scope=row>3</th><td> 20.64</td><td>55.08</td><td>83.16</td><td>11.16</td></tr>\n",
       "\t<tr><th scope=row>4</th><td>181.80</td><td>49.56</td><td>70.20</td><td>22.20</td></tr>\n",
       "\t<tr><th scope=row>5</th><td>216.96</td><td>12.96</td><td>70.08</td><td>15.48</td></tr>\n",
       "\t<tr><th scope=row>6</th><td> 10.44</td><td>58.68</td><td>90.00</td><td> 8.64</td></tr>\n",
       "</tbody>\n",
       "</table>\n"
      ],
      "text/latex": [
       "A data.frame: 6 × 4\n",
       "\\begin{tabular}{r|llll}\n",
       "  & youtube & facebook & newspaper & sales\\\\\n",
       "  & <dbl> & <dbl> & <dbl> & <dbl>\\\\\n",
       "\\hline\n",
       "\t1 & 276.12 & 45.36 & 83.04 & 26.52\\\\\n",
       "\t2 &  53.40 & 47.16 & 54.12 & 12.48\\\\\n",
       "\t3 &  20.64 & 55.08 & 83.16 & 11.16\\\\\n",
       "\t4 & 181.80 & 49.56 & 70.20 & 22.20\\\\\n",
       "\t5 & 216.96 & 12.96 & 70.08 & 15.48\\\\\n",
       "\t6 &  10.44 & 58.68 & 90.00 &  8.64\\\\\n",
       "\\end{tabular}\n"
      ],
      "text/markdown": [
       "\n",
       "A data.frame: 6 × 4\n",
       "\n",
       "| <!--/--> | youtube &lt;dbl&gt; | facebook &lt;dbl&gt; | newspaper &lt;dbl&gt; | sales &lt;dbl&gt; |\n",
       "|---|---|---|---|---|\n",
       "| 1 | 276.12 | 45.36 | 83.04 | 26.52 |\n",
       "| 2 |  53.40 | 47.16 | 54.12 | 12.48 |\n",
       "| 3 |  20.64 | 55.08 | 83.16 | 11.16 |\n",
       "| 4 | 181.80 | 49.56 | 70.20 | 22.20 |\n",
       "| 5 | 216.96 | 12.96 | 70.08 | 15.48 |\n",
       "| 6 |  10.44 | 58.68 | 90.00 |  8.64 |\n",
       "\n"
      ],
      "text/plain": [
       "  youtube facebook newspaper sales\n",
       "1 276.12  45.36    83.04     26.52\n",
       "2  53.40  47.16    54.12     12.48\n",
       "3  20.64  55.08    83.16     11.16\n",
       "4 181.80  49.56    70.20     22.20\n",
       "5 216.96  12.96    70.08     15.48\n",
       "6  10.44  58.68    90.00      8.64"
      ]
     },
     "metadata": {},
     "output_type": "display_data"
    }
   ],
   "source": [
    "data(\"marketing\", package = \"datarium\")\n",
    "head(marketing)\n",
    "X <- marketing[, c(\"youtube\", \"facebook\", \"newspaper\")]\n",
    "y <- marketing[\"sales\"]"
   ]
  },
  {
   "cell_type": "markdown",
   "id": "98484b93",
   "metadata": {},
   "source": [
    "Crearemos una función que reciba estos datos, calcule los valores necesarios y llame a la función `ellipse_contour` que creamos antes."
   ]
  },
  {
   "cell_type": "code",
   "execution_count": 5,
   "id": "aca1e831",
   "metadata": {},
   "outputs": [
    {
     "data": {
      "image/png": "[encoded data removed]",
      "text/plain": [
       "plot without title"
      ]
     },
     "metadata": {
      "image/png": {
       "height": 420,
       "width": 420
      }
     },
     "output_type": "display_data"
    }
   ],
   "source": [
    "# Los parámetros beta_index_1 y beta_index_2 son enteros\n",
    "# de 0 a k, con k cantidad de variables.\n",
    "ellipse_from_data <- function(X, y, alpha = 0.05, beta_index_1, beta_index_2){\n",
    "  X <- as.matrix(cbind(intercept = 1, X))\n",
    "  X <- X[,c(beta_index_1, beta_index_2)]\n",
    "  y <- as.matrix(y)\n",
    "  n <- length(y)\n",
    "  cov.mat <- solve(t(X) %*% X)\n",
    "  coeff <- cov.mat %*% t(X) %*% y\n",
    "  MSE <- sum((X %*% coeff - y) ^ 2) / (n - 2)\n",
    "  ellipse_contour(coeff[1], coeff[2], cov.mat, MSE, alpha, n)\n",
    "}\n",
    "\n",
    "ellipse_from_data(X, y, 0.05, 1, 2)"
   ]
  },
  {
   "cell_type": "markdown",
   "id": "5140f00d",
   "metadata": {},
   "source": [
    "## Parte B. Problemas Teóricos y Conceptuales."
   ]
  },
  {
   "cell_type": "markdown",
   "id": "9399ee46",
   "metadata": {},
   "source": [
    "### Problema 3. Formas de variables dummies."
   ]
  },
  {
   "cell_type": "markdown",
   "id": "d1e43360",
   "metadata": {},
   "source": [
    "Lo primero que se debe hacer es plantear el modelo utilizando los datos de `Carseats`.\n",
    "$$x_1 = \\ {Income} $$\n",
    "$$x_2 = \\ {Advertising} $$\n",
    "$$z = \\ {ShelveLoc} $$\n",
    "\n",
    "Dado que la variable $z$ es una variable catergótica, el modelo tiene multicolinealidad y por ende no se puese estimar por lo que se debe utilizar una clase base. Para efectos de este punto se pide que se utilice la parametrización con restricción de suma cero. \n",
    "Para lo anterior se utiliza como blase base \"bad\" y la codificación quedaría de la siguiente manera: \n",
    "\n",
    "$$\n",
    "z_m={1 \\ \\textit{caso de posición 'medium'} \\\\\n",
    "      \\frac{-n_m}{n_b} \\ \\textit{caso de posición'bad'} \\\\\n",
    "      0 \\ {dlc}}\n",
    "$$\n",
    "\n",
    "$$\n",
    "z_g={1 \\ \\textit{caso de posición 'good'} \\\\\n",
    "      \\frac{-n_g}{n_b} \\ \\textit{caso de posición'bad'} \\\\\n",
    "      0 \\ {dlc}}\n",
    "$$\n",
    "\n",
    "Teniendo en cuenta las restricciones se considera el siguiente modelo con todas las dummies y todas las interacciones:\n",
    "\n",
    "$$\n",
    "y=\\beta_0 + \\beta_1 x_1 +\\beta_2 x_2 + \\tau_1 z_m + \\tau_2 z_g +\\gamma_1 x_1 z_m +\\gamma_2 x_1 z_g +\\gamma_3 x_2 z_m ++\\gamma_4 x_2 z_g + \\epsilon\n",
    "$$\n"
   ]
  },
  {
   "cell_type": "code",
   "execution_count": 6,
   "id": "ae642e6a",
   "metadata": {},
   "outputs": [
    {
     "data": {
      "text/plain": [
       "\n",
       "Call:\n",
       "lm(formula = y ~ x1 + x2 + zm + zg + x1xzm + x1xzg + x2xzm + \n",
       "    x2xzg)\n",
       "\n",
       "Residuals:\n",
       "    Min      1Q  Median      3Q     Max \n",
       "-6.1411 -1.6175  0.0447  1.5514  6.3020 \n",
       "\n",
       "Coefficients:\n",
       "             Estimate Std. Error t value Pr(>|t|)    \n",
       "(Intercept)  5.717157   0.308247  18.547  < 2e-16 ***\n",
       "x1           0.016629   0.003967   4.192 3.42e-05 ***\n",
       "x2           0.095648   0.016672   5.737 1.93e-08 ***\n",
       "zm          -0.436735   0.281770  -1.550    0.122    \n",
       "zg           3.289884   0.595522   5.524 6.05e-08 ***\n",
       "x1xzm        0.003513   0.003618   0.971    0.332    \n",
       "x1xzg       -0.010079   0.007563  -1.333    0.183    \n",
       "x2xzm        0.006748   0.015179   0.445    0.657    \n",
       "x2xzg        0.007940   0.031565   0.252    0.802    \n",
       "---\n",
       "Signif. codes:  0 '***' 0.001 '**' 0.01 '*' 0.05 '.' 0.1 ' ' 1\n",
       "\n",
       "Residual standard error: 2.203 on 391 degrees of freedom\n",
       "Multiple R-squared:  0.4035,\tAdjusted R-squared:  0.3913 \n",
       "F-statistic: 33.06 on 8 and 391 DF,  p-value: < 2.2e-16\n"
      ]
     },
     "metadata": {},
     "output_type": "display_data"
    }
   ],
   "source": [
    "#PUNTO 3\n",
    "library(psych)\n",
    "library(ISLR)\n",
    "\n",
    "data <- Carseats\n",
    "?Carseats\n",
    "\n",
    "#Frecuencia\n",
    "nm <- table(data$ShelveLoc)[3]\n",
    "ng <- table(data$ShelveLoc)[2]\n",
    "nb <- table(data$ShelveLoc)[1]\n",
    "\n",
    "#Variables dummies\n",
    "zm <- ifelse(data$ShelveLoc == \"Medium\", 1,ifelse(data$ShelveLoc == \"Bad\",-(nm/nb),0))\n",
    "zg <- ifelse(data$ShelveLoc == \"Good\", 1,ifelse(data$ShelveLoc == \"Bad\",-(ng/nb),0))\n",
    "\n",
    "#Modelo\n",
    "y <- data$Sales\n",
    "x1 <- data$Income\n",
    "x2 <- data$Advertising\n",
    "x1xzm <- x1 * zm\n",
    "x1xzg <- x1 * zg\n",
    "x2xzm <- x2 * zm\n",
    "x2xzg <- x2 * zg\n",
    "\n",
    "x<-cbind(x1, x2, zm, zg, x1xzm, x1xzg, x2xzm, x2xzg)\n",
    "regresion<-lm(y~x1+x2+zm+zg+x1xzm+x1xzg+x2xzm+x2xzg)\n",
    "summary(regresion)  "
   ]
  },
  {
   "cell_type": "markdown",
   "id": "c540d468",
   "metadata": {},
   "source": [
    "#### 1. ¿Es cierto que la posición en el estante no infuye sobre las ventas?"
   ]
  },
  {
   "cell_type": "markdown",
   "id": "848e0137",
   "metadata": {},
   "source": [
    "Para poder saber sí la posición del estante no influye en las ventas se plantea la siguiente prueba de hipótesis\n",
    "$$\n",
    "H_0:\\tau_1 = \\tau_2 = \\gamma_1 = \\gamma_2 = \\gamma_3 = \\gamma_4 = 0 \n",
    "$$\n",
    "\n",
    "$$\n",
    "H_1: \\tau_1 \\neq 0 \\ \\  or \\ \\ \\tau_2 \\neq 0 \\ \\ or \\ \\ \\gamma_1 \\neq 0 \\ \\ or \\ \\ \\gamma_2 \\neq 0 \\ \\ or \\ \\ \\gamma_3 \\neq 0 \\ \\ or \\ \\ \\gamma_4 \\neq 0 \\ \\ \n",
    "$$"
   ]
  },
  {
   "cell_type": "code",
   "execution_count": 8,
   "id": "451558e8",
   "metadata": {},
   "outputs": [
    {
     "data": {
      "text/html": [
       "<dl>\n",
       "\t<dt>$F</dt>\n",
       "\t\t<dd>34.1201927262884</dd>\n",
       "\t<dt>$pvalue</dt>\n",
       "\t\t<dd>0</dd>\n",
       "</dl>\n"
      ],
      "text/latex": [
       "\\begin{description}\n",
       "\\item[\\$F] 34.1201927262884\n",
       "\\item[\\$pvalue] 0\n",
       "\\end{description}\n"
      ],
      "text/markdown": [
       "$F\n",
       ":   34.1201927262884\n",
       "$pvalue\n",
       ":   0\n",
       "\n",
       "\n"
      ],
      "text/plain": [
       "$F\n",
       "[1] 34.12019\n",
       "\n",
       "$pvalue\n",
       "[1] 0\n"
      ]
     },
     "metadata": {},
     "output_type": "display_data"
    }
   ],
   "source": [
    "gtest <- function(x,y,A,c){\n",
    "  n <- length(y)\n",
    "  k <- dim(x)[2]\n",
    "  p <- k + 1\n",
    "  q <- dim(A)[1]\n",
    "  xx <- cbind(rep(1,n), x)\n",
    "  beta <- solve(t(xx) %*% xx) %*% t(xx) %*% y\n",
    "  yhat <- xx %*% beta  \n",
    "  mse <- sum((y - yhat)^2)/(n - p)\n",
    "  betaH <- beta + solve(t(xx) %*% xx) %*% t(A) %*% solve(A %*% solve(t(xx) %*% xx) %*% t(A)) %*% (c- A %*% beta)\n",
    "  yhatH <- xx %*% betaH\n",
    "  F <- (sum((y- yhatH)^2)-sum((y- yhat)^2))/q /mse\n",
    "  pval <- 1-pf(F, q, n- p)\n",
    "  return(list(F = F, pvalue = pval))\n",
    "}\n",
    "\n",
    "A <- matrix(c(0,0,0,1,0,0,0,0,0,\n",
    "             0,0,0,0,1,0,0,0,0,\n",
    "             0,0,0,0,0,1,0,0,0,\n",
    "             0,0,0,0,0,0,1,0,0,\n",
    "             0,0,0,0,0,0,0,1,0,\n",
    "             0,0,0,0,0,0,0,0,1),ncol=9,byrow = T)     \n",
    "     \n",
    "c <-c(0,0,0,0,0,0)\n",
    "\n",
    "gtest(x,y,A,c)"
   ]
  },
  {
   "cell_type": "markdown",
   "id": "5f3118b6",
   "metadata": {},
   "source": [
    "Con un nivel de confianza del 95% se puede concluir que se rechaza $H_0$, es decir que al menos una posición en el estante sí influye en las ventas. Pues el ${p value}<5 \\% $ "
   ]
  },
  {
   "cell_type": "markdown",
   "id": "ea1dad75",
   "metadata": {},
   "source": [
    "#### 2. ¿Es cierto que los modelos en todas las clases son paralelos (los efectos no cambian)?"
   ]
  },
  {
   "cell_type": "markdown",
   "id": "5a3da1d9",
   "metadata": {},
   "source": [
    "Para poder saber si los modelos en todas las clases son paralelos, es decir que sus efectos no cambian se plantea la siguiente prueba de hipótesis \n",
    "\n",
    "\n",
    "$$\n",
    "H_0:\\gamma_1 = \\gamma_2 = \\gamma_3 = \\gamma_4 = 0 \n",
    "$$\n",
    "\n",
    "$$\n",
    "H_1:\\gamma_1 \\neq 0 \\ \\ or \\ \\ \\gamma_2 \\neq 0 \\ \\ or \\ \\ \\gamma_3 \\neq 0 \\ \\ or \\ \\ \\gamma_4 \\neq 0 \\ \\ \n",
    "$$"
   ]
  },
  {
   "cell_type": "code",
   "execution_count": 11,
   "id": "cc21ba55",
   "metadata": {},
   "outputs": [
    {
     "data": {
      "text/html": [
       "<dl>\n",
       "\t<dt>$F</dt>\n",
       "\t\t<dd>0.602005911163461</dd>\n",
       "\t<dt>$pvalue</dt>\n",
       "\t\t<dd>0.66140458523243</dd>\n",
       "</dl>\n"
      ],
      "text/latex": [
       "\\begin{description}\n",
       "\\item[\\$F] 0.602005911163461\n",
       "\\item[\\$pvalue] 0.66140458523243\n",
       "\\end{description}\n"
      ],
      "text/markdown": [
       "$F\n",
       ":   0.602005911163461\n",
       "$pvalue\n",
       ":   0.66140458523243\n",
       "\n",
       "\n"
      ],
      "text/plain": [
       "$F\n",
       "[1] 0.6020059\n",
       "\n",
       "$pvalue\n",
       "[1] 0.6614046\n"
      ]
     },
     "metadata": {},
     "output_type": "display_data"
    }
   ],
   "source": [
    "A <- matrix(c(0,0,0,0,0,1,0,0,0,\n",
    "             0,0,0,0,0,0,1,0,0,\n",
    "             0,0,0,0,0,0,0,1,0,\n",
    "             0,0,0,0,0,0,0,0,1),\n",
    "           ncol=9,byrow = T)\n",
    "\n",
    "\n",
    "c <- c(0,0,0,0)\n",
    "\n",
    "gtest(x,y,A,c)"
   ]
  },
  {
   "cell_type": "markdown",
   "id": "afa05dcf",
   "metadata": {},
   "source": [
    "Con un nivel de confianza del 95% se puede concluir que se no hay suficiente evidencia estadística para rechazar $H_0$, es decir que el modelo en todas sus clases es pararelo, es decir que en se puede afirmar que sus efectos no cambian, pues el ${p value}>5 \\% $ "
   ]
  },
  {
   "cell_type": "markdown",
   "id": "1fdd9d92",
   "metadata": {},
   "source": [
    "#### 3. ¿Son los modelos para las ventas posición media en el estante, y para la posición buena iguales?"
   ]
  },
  {
   "cell_type": "markdown",
   "id": "3fb0410d",
   "metadata": {},
   "source": [
    "Para poder saber si los modelos para las ventas en la posicipon media del estante y la posición buena del estante son iguales, se plantea la siguiente prueba de hipótesis \n",
    "\n",
    "$$\n",
    "    \\ H_0 =\n",
    "        \\begin{bmatrix}\n",
    "            \\tau_1 = \\tau_2\\\\\n",
    "            \\gamma_1 =  \\gamma_2\\\\\n",
    "            \\gamma_3 =  \\gamma_4\\\\\n",
    "        \\end{bmatrix}\n",
    "$$\n",
    "\n",
    "$$\n",
    "H_1:\\textit{Al menos una es diferente}\n",
    "$$"
   ]
  },
  {
   "cell_type": "code",
   "execution_count": 10,
   "id": "cb645062",
   "metadata": {},
   "outputs": [
    {
     "data": {
      "text/html": [
       "<dl>\n",
       "\t<dt>$F</dt>\n",
       "\t\t<dd>33.7912840694451</dd>\n",
       "\t<dt>$pvalue</dt>\n",
       "\t\t<dd>0</dd>\n",
       "</dl>\n"
      ],
      "text/latex": [
       "\\begin{description}\n",
       "\\item[\\$F] 33.7912840694451\n",
       "\\item[\\$pvalue] 0\n",
       "\\end{description}\n"
      ],
      "text/markdown": [
       "$F\n",
       ":   33.7912840694451\n",
       "$pvalue\n",
       ":   0\n",
       "\n",
       "\n"
      ],
      "text/plain": [
       "$F\n",
       "[1] 33.79128\n",
       "\n",
       "$pvalue\n",
       "[1] 0\n"
      ]
     },
     "metadata": {},
     "output_type": "display_data"
    }
   ],
   "source": [
    "A <- matrix(c(0,0,0,-1,1,0,0,0,0,\n",
    "             0,0,0,0,0,-1,1,0,0,\n",
    "             0,0,0,0,0,0,0,-1,1),ncol=9,byrow = T)\n",
    "c <- c(0,0,0)\n",
    "\n",
    "gtest(x,y,A,c)\n",
    "\n"
   ]
  },
  {
   "cell_type": "markdown",
   "id": "ac0622d3",
   "metadata": {},
   "source": [
    "Con un nivel de confianza del 95% se puede concluir que se rechaza $H_0$, es decir que los modelos no son iguales. La posición media en el estante puede ser igual a la posición buena en el estante por lo menos para algún caso. Pues el ${p value}<5 \\% $ "
   ]
  },
  {
   "cell_type": "markdown",
   "id": "d268535b",
   "metadata": {},
   "source": [
    "#### 4. ¿Es cierto que el efecto de la publicidad es igual en la posición mala que en la media?"
   ]
  },
  {
   "cell_type": "markdown",
   "id": "9b787249",
   "metadata": {},
   "source": [
    "Para poder saber si el efecto de la publicidad es igual en la posición mala que en la media, se utiliza el coeficiente $\\gamma_3$ que corresponde a la interacción entre la publicidad y la posición media y en la prueba de hipótesis queremos ver si este coeficiente es igual a 0 (no se ve la interacción con la posición mala pues esta es nuestra clase base). La prueba de hipotesis sería:\n",
    "\n",
    "$$\n",
    "H_0: \\gamma_3 =  0\n",
    "$$\n",
    "\n",
    "$$\n",
    "H_1:\\gamma_3 \\neq 0\n",
    "$$"
   ]
  },
  {
   "cell_type": "code",
   "execution_count": 12,
   "id": "15b82726",
   "metadata": {},
   "outputs": [
    {
     "data": {
      "text/html": [
       "<dl>\n",
       "\t<dt>$F</dt>\n",
       "\t\t<dd>0.197609658538208</dd>\n",
       "\t<dt>$pvalue</dt>\n",
       "\t\t<dd>0.656903169094829</dd>\n",
       "</dl>\n"
      ],
      "text/latex": [
       "\\begin{description}\n",
       "\\item[\\$F] 0.197609658538208\n",
       "\\item[\\$pvalue] 0.656903169094829\n",
       "\\end{description}\n"
      ],
      "text/markdown": [
       "$F\n",
       ":   0.197609658538208\n",
       "$pvalue\n",
       ":   0.656903169094829\n",
       "\n",
       "\n"
      ],
      "text/plain": [
       "$F\n",
       "[1] 0.1976097\n",
       "\n",
       "$pvalue\n",
       "[1] 0.6569032\n"
      ]
     },
     "metadata": {},
     "output_type": "display_data"
    }
   ],
   "source": [
    "A <- matrix(c(0,0,0,0,0,0,0,1,0),ncol=9,byrow = T)\n",
    "c <-c(0)\n",
    "\n",
    "gtest(x,y,A,c)\n"
   ]
  },
  {
   "cell_type": "code",
   "execution_count": 13,
   "id": "439fe9c1",
   "metadata": {},
   "outputs": [
    {
     "data": {
      "text/html": [
       "<dl>\n",
       "\t<dt>$t</dt>\n",
       "\t\t<dd><table class=\"dataframe\">\n",
       "<caption>A matrix: 1 × 1 of type dbl</caption>\n",
       "<tbody>\n",
       "\t<tr><td>0.4445331</td></tr>\n",
       "</tbody>\n",
       "</table>\n",
       "</dd>\n",
       "\t<dt>$pvalue</dt>\n",
       "\t\t<dd>0.656903169094829</dd>\n",
       "</dl>\n"
      ],
      "text/latex": [
       "\\begin{description}\n",
       "\\item[\\$t] A matrix: 1 × 1 of type dbl\n",
       "\\begin{tabular}{l}\n",
       "\t 0.4445331\\\\\n",
       "\\end{tabular}\n",
       "\n",
       "\\item[\\$pvalue] 0.656903169094829\n",
       "\\end{description}\n"
      ],
      "text/markdown": [
       "$t\n",
       ":   \n",
       "A matrix: 1 × 1 of type dbl\n",
       "\n",
       "| 0.4445331 |\n",
       "\n",
       "\n",
       "$pvalue\n",
       ":   0.656903169094829\n",
       "\n",
       "\n"
      ],
      "text/plain": [
       "$t\n",
       "          [,1]\n",
       "[1,] 0.4445331\n",
       "\n",
       "$pvalue\n",
       "[1] 0.6569032\n"
      ]
     },
     "metadata": {},
     "output_type": "display_data"
    }
   ],
   "source": [
    "#Otra forma para comparar\n",
    "ltest=function(y,x,lin,const,dir=b){\n",
    "  n=dim(x)[1]\n",
    "  k=dim(x)[2]\n",
    "  p=k+1\n",
    "  xx=cbind(rep(1,n),x)\n",
    "  beta=solve(t(xx)%*%xx)%*%t(xx)%*%y\n",
    "  A=matrix(lin,ncol=p)\n",
    "  c=const\n",
    "  t=sign(A%*%lin-c)*sqrt(gtest(x,y,A,c)$F)  \n",
    "  if(dir==\"+\"){pval=1-pt(t,n-p)}\n",
    "  if(dir==\"-\"){pval=pt(t,n-p)}\n",
    "  if(dir==\"b\"){pval=min(2*(1-pt(t,n-p)),2*(pt(t,n-p)))}\n",
    "  return(list(t=t,pvalue=pval))\n",
    "}\n",
    "\n",
    "lin <- c(0,0,0,0,0,0,0,1,0)\n",
    "ltest(y,x,lin,0,\"b\")\n",
    "\n"
   ]
  },
  {
   "cell_type": "markdown",
   "id": "60022f30",
   "metadata": {},
   "source": [
    "Con un nivel de confianza del 95% se puede concluir que se no hay suficiente evidencia estadística para rechazar $H_0$, es decir que el efecto de la publicidad para la posición mala es igual que para la posición media, pues el ${p value}>5 \\% $, e incluso es exactamente el mismo valor haciendolo con una prueba $F$ o con una prueba parcial $t$."
   ]
  },
  {
   "cell_type": "markdown",
   "id": "5d54f966",
   "metadata": {},
   "source": [
    "## Parte C. Problemas Aplicados con Datos Reales."
   ]
  },
  {
   "cell_type": "markdown",
   "id": "895ab991",
   "metadata": {},
   "source": [
    "### Problema 4. Modelos No-Lineales."
   ]
  },
  {
   "cell_type": "markdown",
   "id": "d6f49d20",
   "metadata": {},
   "source": []
  },
  {
   "cell_type": "code",
   "execution_count": null,
   "id": "8b9f6c40",
   "metadata": {},
   "outputs": [],
   "source": []
  },
  {
   "cell_type": "markdown",
   "id": "52e32563",
   "metadata": {},
   "source": [
    "### Problema 5. Efectos de la personalidad en la producción intelectual bajo estrés."
   ]
  },
  {
   "cell_type": "markdown",
   "id": "2d0f9dd3",
   "metadata": {},
   "source": []
  },
  {
   "cell_type": "code",
   "execution_count": null,
   "id": "a49302e2",
   "metadata": {},
   "outputs": [],
   "source": []
  },
  {
   "cell_type": "markdown",
   "id": "200f595f",
   "metadata": {},
   "source": [
    "### Problema 6. Interacciones y Multicolinealidad."
   ]
  },
  {
   "cell_type": "markdown",
   "id": "4b65b4ed",
   "metadata": {},
   "source": []
  },
  {
   "cell_type": "code",
   "execution_count": null,
   "id": "6802138c",
   "metadata": {},
   "outputs": [],
   "source": []
  }
 ],
 "metadata": {
  "kernelspec": {
   "display_name": "R",
   "language": "R",
   "name": "ir"
  },
  "language_info": {
   "codemirror_mode": "r",
   "file_extension": ".r",
   "mimetype": "text/x-r-source",
   "name": "R",
   "pygments_lexer": "r",
   "version": "4.1.3"
  }
 },
 "nbformat": 4,
 "nbformat_minor": 5
}
