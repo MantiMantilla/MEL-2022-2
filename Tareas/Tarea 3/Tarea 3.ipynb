{
 "cells": [
  {
   "cell_type": "markdown",
   "id": "c2f0b8e4",
   "metadata": {},
   "source": [
    "# Tarea 3 - MEL\n",
    "\n",
    "Alejandro Mantilla - 201711304\n",
    "\n",
    "Ximena Palacio - 201730995"
   ]
  },
  {
   "cell_type": "markdown",
   "id": "d9ec8b5f",
   "metadata": {},
   "source": [
    "## Índice\n",
    "\n",
    "- [Parte A](#Parte-A.-Problemas-computacionales.)\n",
    "\n",
    "    - [Problema 1](#Problema-1.-Bootstrap-para-pruebas-con-restricciones-lineales.)\n",
    "    - [Problema 2](#Problem-2.-Método-de-estimación-robusta.)\n",
    "\n",
    "- [Parte B](#Parte-B.-Problemas-teóricos,-conceptuales-y-experimentales.)\n",
    "\n",
    "    - [Problema BONO](#Problema-BONO.-Uso-de-leverage-para-medidas-de-desempeño.)\n",
    "    - [Problema 3](#Problema-3.-Problemas-de-especificación-y-selección-de-modelos.)\n",
    "    \n",
    "- [Parte C](#Parte-C.-Problemas-aplicados-con-datos-reales.)\n",
    "\n",
    "    - [Problema 4](#Problema-4.-Ventas-de-secadoras-eléctricas-en-Bogotá.)\n",
    "    - [Problema 5](#Problema-5.-Efectos-de-medidas-preventivas-en-la-severidad-del-coronavirus.)"
   ]
  },
  {
   "cell_type": "markdown",
   "id": "0b8d3940",
   "metadata": {},
   "source": [
    "## Parte A. Problemas computacionales."
   ]
  },
  {
   "cell_type": "markdown",
   "id": "eddb49f9",
   "metadata": {},
   "source": [
    "### Problema 1. Bootstrap para pruebas con restricciones lineales."
   ]
  },
  {
   "cell_type": "markdown",
   "id": "d8203196",
   "metadata": {},
   "source": [
    "#### 1. Construya el código que haga el procedimietno que se describe para constrastar $H_0$ de manera gráfica."
   ]
  },
  {
   "cell_type": "markdown",
   "id": "260a6653",
   "metadata": {
    "tags": []
   },
   "source": [
    "El método de bootstrap no sólamente sirve para construir intervalos de confianza, sino para contrastar\n",
    "pruebas de hipótesis. En este problema, realizaremos una prueba de hipótesis gráfica por medio de\n",
    "_bootstrap_. En este caso, se hace una prueba de hipótesis con restricciones lineales del tipo $H_{0}: A\\beta = c$, donde $q = 2$.\n",
    "\n",
    "Tenga en cuenta que la hipótesis nula se puede escribir como:\n",
    "\n",
    "$$\n",
    "H_{0}: \\begin{cases} \n",
    "          \\textbf{a}_{1}^{T}\\beta = c_1 \\\\\n",
    "          \\textbf{a}_{2}^{T}\\beta = c_2\n",
    "       \\end{cases}\n",
    "$$\n",
    "\n",
    "Con las repeticiones del _bootstrap_, calcule en cada iteración los valores de $\\textbf{a}_{1}^{T}$ y $\\textbf{a}_{2}^{T}$. Luego con estos $B$ puntos, se puede construir la elipse de confianza empírica que cubre el 95% de los datos. Después, en el mismo gráfco puede dibujar el punto $(c_{1}, c_{2})$, y si este cae dentro de la elipse, no se rechaza la hipótesis nula."
   ]
  },
  {
   "cell_type": "markdown",
   "id": "3878d1e1",
   "metadata": {},
   "source": [
    "1. Construya el código que haga el procedimiento que se describe para constrastar $H_{0}$ de manera gráfica. Puede usar como guía el siguiente código:\n",
    "\n",
    "```r\n",
    "library(ellipse)\n",
    "x1 <- rnorm(500, 20, 3)\n",
    "x2 <- .5*x1+rnorm(500, 1, 3)\n",
    "plot(x1, x2)\n",
    "x <- cbind(x1, x2)\n",
    "el <- ellipse(x, centre = colMeans(x), level = 0.95)\n",
    "plot(x1, x2)\n",
    "points(el, type = \"l\")\n",
    "points(25, 5, col = 2, lwd = 2)\n",
    "\n",
    "```"
   ]
  },
  {
   "cell_type": "code",
   "execution_count": 1,
   "id": "265df445",
   "metadata": {
    "tags": []
   },
   "outputs": [
    {
     "name": "stderr",
     "output_type": "stream",
     "text": [
      "\n",
      "Attaching package: 'ellipse'\n",
      "\n",
      "\n",
      "The following object is masked from 'package:graphics':\n",
      "\n",
      "    pairs\n",
      "\n",
      "\n"
     ]
    }
   ],
   "source": [
    "library(lmridge) # Librería lmridge para regresión Ridge.\n",
    "library(ellipse) # Librería ellipse para graficar ellipses de confianza.\n",
    "\n",
    "# La siguiente función recibe un data.frame \"X\" con vector \"y\" para hacer\n",
    "# \"n_bootstraps\" en cantidad de iteraciones de bootstrapping, cada una con\n",
    "# \"n_train\" en cantidad de observaciones. Calculamos un modelo de regresión\n",
    "# para cada iteración del bootstrap. La función grafica para cada iteración\n",
    "# del bootstrap los pares a_1^T beta y a_2^T beta, donde \"a_1^T\" y \"a_2^T\"\n",
    "# entran por parámetro.\n",
    "\n",
    "graph_h0 <- function(x, y, a_1, a_2, c1, c2,\n",
    "                      n_train, n_bootstraps = 1000,\n",
    "                      is_ridge = FALSE, ...) {\n",
    "\n",
    "    if (!is_ridge) {\n",
    "        get_coefficients <- function(data, ...) {\n",
    "            lm(y ~ ., data = data)$coefficients\n",
    "        }\n",
    "    } else {\n",
    "        get_coefficients <- function(data, ...) {\n",
    "            coef(lmridge::lmridge(y ~ ., data = data, ...))\n",
    "        }\n",
    "    }\n",
    "\n",
    "    lhs_samples <- data.frame(q_1 = double(), q_2 = double())\n",
    "    for (i in 1:n_bootstraps) {\n",
    "        sampled_rows <- sample(nrow(x), n_train, replace = TRUE)\n",
    "        new_x <- x[sampled_rows, ]\n",
    "        new_x[, \"y\"] <- y[sampled_rows, ]\n",
    "\n",
    "        coefficients <- as.matrix(get_coefficients(new_x, ...), ncol = 1)\n",
    "\n",
    "        q_1 <- a_1 %*% coefficients\n",
    "        q_2 <- a_2 %*% coefficients\n",
    "\n",
    "        lhs_samples[nrow(lhs_samples) + 1, ] <- c(q_1, q_2)\n",
    "    }\n",
    "\n",
    "    d <- acos(cor(lhs_samples[\"q_1\"], lhs_samples[\"q_2\"]))\n",
    "    el_points <- data.frame(x = double(), y = double())\n",
    "    num_points <- 1000\n",
    "\n",
    "    centre <- colMeans(lhs_samples)\n",
    "\n",
    "    for (i in 0:num_points) {\n",
    "        theta <- i * 360 / num_points\n",
    "        el_points[nrow(el_points) + 1, ] <- c(var(lhs_samples[[\"q_1\"]])\n",
    "                                              * cos(theta + d / 2),\n",
    "                                              var(lhs_samples[[\"q_2\"]])\n",
    "                                              * cos(theta - d / 2)) + centre\n",
    "    }\n",
    "\n",
    "    plot(lhs_samples)\n",
    "    points(el_points, col = \"red\", type = \"l\")\n",
    "    points(c1, c2, col = \"blue\", lwd = 2)\n",
    "\n",
    "    return(lhs_samples)\n",
    "}"
   ]
  },
  {
   "cell_type": "markdown",
   "id": "3569d21b",
   "metadata": {},
   "source": [
    "2. En la base de datos `masa-corporal` que vimos en la clase 13, se determinó que había un problema de multicolinealidad entre las variables. Por esto, puede ser adecuado usar regresión con penalización tipo _Ridge_. Usando _Ridge_, y la prueba que acaba de diseñar, determine si es cierta la afirmación que el coeficiente de grasa corporal (`cmi`) esperado para dos personas es $22$ y $12$ respectivamente, si se sabe que para que la persona 1 tiene $\\text{clic}=24$, $\\text{leg}=56$ y $\\text{arm}=26$ y que la persona 2, $\\text{clic}=20$, $\\text{leg}=43$ y $\\text{arm}=24$."
   ]
  },
  {
   "cell_type": "markdown",
   "id": "c7c37e7d-b082-4a55-89d1-6fd3250b6bf2",
   "metadata": {},
   "source": [
    "Para hacer regrsión tipo Ridge, debemos hallar un $\\lambda$ (hiperparámetro de regularización) que mitigue el efecto de la multicolinealidad. Haremos la búsqueda con el conjunto de datos completo y lo pasaremos por parámetro al método de prueba de hipótesis gráfico."
   ]
  },
  {
   "cell_type": "code",
   "execution_count": 2,
   "id": "c388df2d-37e8-4572-b4f3-b0c9897916f7",
   "metadata": {},
   "outputs": [
    {
     "name": "stderr",
     "output_type": "stream",
     "text": [
      "\u001b[1mRows: \u001b[22m\u001b[34m20\u001b[39m \u001b[1mColumns: \u001b[22m\u001b[34m4\u001b[39m\n",
      "\u001b[36m--\u001b[39m \u001b[1mColumn specification\u001b[22m \u001b[36m------------------------------------------------------------------------------------------------\u001b[39m\n",
      "\u001b[1mDelimiter:\u001b[22m \"\\t\"\n",
      "\u001b[32mdbl\u001b[39m (4): clic, leg, arm, cmi\n",
      "\n",
      "\u001b[36mi\u001b[39m Use `spec()` to retrieve the full column specification for this data.\n",
      "\u001b[36mi\u001b[39m Specify the column types or set `show_col_types = FALSE` to quiet this message.\n"
     ]
    },
    {
     "data": {
      "text/html": [
       "<table class=\"dataframe\">\n",
       "<caption>A tibble: 6 × 4</caption>\n",
       "<thead>\n",
       "\t<tr><th scope=col>clic</th><th scope=col>leg</th><th scope=col>arm</th><th scope=col>cmi</th></tr>\n",
       "\t<tr><th scope=col>&lt;dbl&gt;</th><th scope=col>&lt;dbl&gt;</th><th scope=col>&lt;dbl&gt;</th><th scope=col>&lt;dbl&gt;</th></tr>\n",
       "</thead>\n",
       "<tbody>\n",
       "\t<tr><td>19.5</td><td>43.1</td><td>29.1</td><td>11.9</td></tr>\n",
       "\t<tr><td>24.7</td><td>49.8</td><td>28.2</td><td>22.8</td></tr>\n",
       "\t<tr><td>30.7</td><td>51.9</td><td>37.0</td><td>18.7</td></tr>\n",
       "\t<tr><td>29.8</td><td>54.3</td><td>31.1</td><td>20.1</td></tr>\n",
       "\t<tr><td>19.1</td><td>42.2</td><td>30.9</td><td>12.9</td></tr>\n",
       "\t<tr><td>25.6</td><td>53.9</td><td>23.7</td><td>21.7</td></tr>\n",
       "</tbody>\n",
       "</table>\n"
      ],
      "text/latex": [
       "A tibble: 6 × 4\n",
       "\\begin{tabular}{llll}\n",
       " clic & leg & arm & cmi\\\\\n",
       " <dbl> & <dbl> & <dbl> & <dbl>\\\\\n",
       "\\hline\n",
       "\t 19.5 & 43.1 & 29.1 & 11.9\\\\\n",
       "\t 24.7 & 49.8 & 28.2 & 22.8\\\\\n",
       "\t 30.7 & 51.9 & 37.0 & 18.7\\\\\n",
       "\t 29.8 & 54.3 & 31.1 & 20.1\\\\\n",
       "\t 19.1 & 42.2 & 30.9 & 12.9\\\\\n",
       "\t 25.6 & 53.9 & 23.7 & 21.7\\\\\n",
       "\\end{tabular}\n"
      ],
      "text/markdown": [
       "\n",
       "A tibble: 6 × 4\n",
       "\n",
       "| clic &lt;dbl&gt; | leg &lt;dbl&gt; | arm &lt;dbl&gt; | cmi &lt;dbl&gt; |\n",
       "|---|---|---|---|\n",
       "| 19.5 | 43.1 | 29.1 | 11.9 |\n",
       "| 24.7 | 49.8 | 28.2 | 22.8 |\n",
       "| 30.7 | 51.9 | 37.0 | 18.7 |\n",
       "| 29.8 | 54.3 | 31.1 | 20.1 |\n",
       "| 19.1 | 42.2 | 30.9 | 12.9 |\n",
       "| 25.6 | 53.9 | 23.7 | 21.7 |\n",
       "\n"
      ],
      "text/plain": [
       "  clic leg  arm  cmi \n",
       "1 19.5 43.1 29.1 11.9\n",
       "2 24.7 49.8 28.2 22.8\n",
       "3 30.7 51.9 37.0 18.7\n",
       "4 29.8 54.3 31.1 20.1\n",
       "5 19.1 42.2 30.9 12.9\n",
       "6 25.6 53.9 23.7 21.7"
      ]
     },
     "metadata": {},
     "output_type": "display_data"
    }
   ],
   "source": [
    "library(readr)\n",
    "masa_corporal <- read_delim(\"Archivos/masa_corporal.txt\",\n",
    "                            \"\\t\", escape_double = FALSE, trim_ws = TRUE)\n",
    "head(masa_corporal)"
   ]
  },
  {
   "cell_type": "code",
   "execution_count": 3,
   "id": "6da3a99b-c0ef-41fd-9195-5267e91b3636",
   "metadata": {},
   "outputs": [
    {
     "name": "stdout",
     "output_type": "stream",
     "text": [
      "             clic       leg       arm\n",
      "k=0     708.84291 564.34339 104.60601\n",
      "k=0.001 125.73087 100.27403  19.28097\n",
      "k=0.002  50.55919  40.44831   8.27970\n",
      "k=0.003  27.17501  21.83760   4.85618\n",
      "k=0.004  16.98157  13.72472   3.36279\n",
      "k=0.005  11.64342   9.47592   2.57985\n",
      "k=0.006   8.50332   6.97644   2.11854\n",
      "k=0.007   6.50133   5.38272   1.82377\n",
      "k=0.008   5.14717   4.30457   1.62380\n",
      "k=0.009   4.18869   3.54134   1.48173\n",
      "k=0.01    3.48550   2.98127   1.37703\n",
      "k=0.011   2.95436   2.55813   1.29750\n",
      "k=0.012   2.54337   2.23062   1.23556\n",
      "k=0.013   2.21885   1.97191   1.18628\n",
      "k=0.014   1.95811   1.76398   1.14633\n",
      "k=0.015   1.74548   1.59433   1.11343\n",
      "k=0.016   1.56979   1.45408   1.08595\n",
      "k=0.017   1.42294   1.33679   1.06268\n",
      "k=0.018   1.29896   1.23769   1.04277\n",
      "k=0.019   1.19331   1.15319   1.02555\n",
      "k=0.02    1.10255   1.08054   1.01051\n"
     ]
    },
    {
     "data": {
      "image/png": "[encoded data removed]",
      "text/plain": [
       "Plot with title \"Ridge Trace Plot\""
      ]
     },
     "metadata": {
      "image/png": {
       "height": 420,
       "width": 420
      }
     },
     "output_type": "display_data"
    },
    {
     "data": {
      "image/png": "[encoded data removed]",
      "text/plain": [
       "Plot with title \"VIF Trace\""
      ]
     },
     "metadata": {
      "image/png": {
       "height": 420,
       "width": 420
      }
     },
     "output_type": "display_data"
    }
   ],
   "source": [
    "modelo <- lmridge(cmi ~ .,\n",
    "                  data = masa_corporal,\n",
    "                  K = seq(0, 0.02, 0.001),\n",
    "                  scaling = \"sc\")\n",
    "print(vif(modelo))\n",
    "plot(modelo)\n",
    "plot(modelo, type = \"vif\")"
   ]
  },
  {
   "cell_type": "markdown",
   "id": "81006d3f-ca9b-4abd-8738-0791548af36c",
   "metadata": {},
   "source": [
    "Nos quedamos con un parámetro $\\lambda = 0.006$ ya que es el menor en la búsqueda que logra un VIF para cada predictor menor a 10."
   ]
  },
  {
   "cell_type": "code",
   "execution_count": 4,
   "id": "a210600d-7e17-49e2-bc72-36724fa456fa",
   "metadata": {},
   "outputs": [
    {
     "data": {
      "image/png": "[encoded data removed]",
      "text/plain": [
       "plot without title"
      ]
     },
     "metadata": {
      "image/png": {
       "height": 420,
       "width": 420
      }
     },
     "output_type": "display_data"
    }
   ],
   "source": [
    "set.seed(2) # Por consistencia, fijamos la semiila del RNG.\n",
    "\n",
    "x <- masa_corporal[, c(\"clic\", \"leg\", \"arm\")]\n",
    "y <- masa_corporal[, \"cmi\"]\n",
    "\n",
    "a_1 <- c(1, 24, 56, 26)\n",
    "a_2 <- c(1, 20, 43, 24)\n",
    "c1 <- 22\n",
    "c2 <- 12\n",
    "n_train <- nrow(x)\n",
    "n_bootstraps <- 1000\n",
    "is_ridge <- TRUE\n",
    "\n",
    "k <- 0.006\n",
    "scaling <- \"sc\"\n",
    "\n",
    "result <- graph_h0(x = x, y = y, a_1 = a_1, a_2 = a_2, c1 = c1, c2 = c2,\n",
    "                   n_train = n_train, n_bootstraps = n_bootstraps,\n",
    "                   is_ridge = is_ridge, K = k, scaling = scaling)"
   ]
  },
  {
   "cell_type": "markdown",
   "id": "fc917cec-b141-4350-b111-1be917c50e40",
   "metadata": {},
   "source": [
    "El resultado es evidente. El punto $(c_{1}, c_{2})$ cae fuera de la elipse y por lo tanto rechazamos que las expresiones lineales de los $\\beta$ sean iguales a estos valores."
   ]
  },
  {
   "cell_type": "markdown",
   "id": "924c3499",
   "metadata": {},
   "source": [
    "### Problem 2. Método de estimación robusta."
   ]
  },
  {
   "cell_type": "markdown",
   "id": "8e7aba37",
   "metadata": {},
   "source": [
    "La estimación robusta resulta ser bastante útil para evitar que algunos puntos observados creen sesgo en la recta estimada. Además de la regresión con minimización de las desviaciones en valor absoluto, otra solución al problema, es cambiar la distribución de los erroes para que no sea normal, sino que permita la existencia de datos atípicos (sobre todo en $Y$), esto es _fat tailed distribution_. En ese caso, supondremos que los errores del modelo son proporcionales a una variable aleatoria con distribución $t$ de Student. Es decir, se define el modelo"
   ]
  },
  {
   "cell_type": "markdown",
   "id": "a22ec2d0",
   "metadata": {},
   "source": [
    "$$\n",
    "Y_{i} = X_{i}^{T}\\beta + \\varepsilon_{i}.\n",
    "$$"
   ]
  },
  {
   "cell_type": "markdown",
   "id": "1ad0d5c8",
   "metadata": {},
   "source": [
    "Donde $\\frac{\\varepsilon_{i}}{\\sigma} \\sim t(\\nu)$, donde $\\nu$ son los grados de libertad correspondientes, y $\\sigma$ es un parámetro que permita adapatar la dispersión de los datos. En este modelo, se deben estimar los parámetros de la recta, así como el parámetro de dispersión $\\sigma$. Sin embargo, no es posible usar mínimos cuadrados dado que la distribución no es normal y se tendrían valores influyentes. Para estimar, se debe hacer por el método de máxima verosimilitud. Para simplificar el problema, suponga que $p = 2$, es decir, se deben estimar el intercepto, la pendiente y $\\sigma$. Esto es,"
   ]
  },
  {
   "cell_type": "markdown",
   "id": "28ad91a5",
   "metadata": {},
   "source": [
    "$$\n",
    "  \\left(\\frac{Y_{i}-\\beta_{0}-\\beta_{1}X_{i}}{\\sigma}\\right)\\sim t(\\nu)\n",
    "$$"
   ]
  },
  {
   "cell_type": "markdown",
   "id": "3005ab54",
   "metadata": {},
   "source": [
    "para cada $i = 1,2,\\cdots,n$, y son independientes entre sí."
   ]
  },
  {
   "cell_type": "markdown",
   "id": "4b2487d1",
   "metadata": {},
   "source": [
    "#### 1. Construya una función en R que tenga como inputs el vector $Y$, la matrix $X$, los parámetros $\\beta_{0}$ y $\\beta_{1}$ y el parámetro de dispersión $\\sigma$. El output de la función debe ser la verosimilitud calculada. Pueden usar las funciones relacionadas con la distribución $t$ en R. Tenga en cuenta que esta es la función de verosimilitud $L(\\beta_{0}, \\beta_{1}, \\sigma | Y, X)$ en términos de los tres parámetros, la cual se debe optimizar."
   ]
  },
  {
   "cell_type": "markdown",
   "id": "c5b833ac",
   "metadata": {},
   "source": [
    "Primero, preparamos los datos con los que va a trabajar el modelo:"
   ]
  },
  {
   "cell_type": "code",
   "execution_count": 5,
   "id": "9ba10dff",
   "metadata": {},
   "outputs": [],
   "source": [
    "library(readr)\n",
    "data <- read_table(\"Archivos/datospunto2.txt\",\n",
    "                   col_names = FALSE, skip = 1,\n",
    "                   show_col_types = FALSE)\n",
    "data <- data[, -1]\n",
    "colnames(data) <- c(\"y\", \"X\")\n",
    "x <- as.matrix(data[\"X\"])\n",
    "y <- as.matrix(data[\"y\"])\n"
   ]
  },
  {
   "cell_type": "markdown",
   "id": "c29de70e",
   "metadata": {},
   "source": [
    "Creamos la función que calcula la log-similitud. Como tenemos varias ovservaciones, se calcula como la suma del logaritmo natural de la _pdf_ (t de student), evaluada para cada observación. Suponemos $\\nu = 8$."
   ]
  },
  {
   "cell_type": "code",
   "execution_count": 6,
   "id": "d1bc9c5c",
   "metadata": {},
   "outputs": [],
   "source": [
    "neg_log_like <- function(beta_0, beta_1, sigma, y, x, nu = 8) {\n",
    "  -sum(log(dt((y - beta_0 - beta_1 * x) / sigma, nu)))\n",
    "}\n"
   ]
  },
  {
   "cell_type": "markdown",
   "id": "87d6a1da",
   "metadata": {},
   "source": [
    "#### 2. Como es difícil encontrar la solución del máximo de $L(\\beta_{0}, \\beta_{1}, \\sigma|Y, X)$ analíticamente, se deben usar métodos numéricos. Por ejemplo, para optimizar la función puede usar un método general construido en R como la función `optim`. Usando la función `optim`, maximice la verosimilitud $L(\\beta_{0}, \\beta_{1}, \\sigma|Y, X)$ mediante un algoritmo iterativo en el cual se maximiza para cada parámetro a la vez:"
   ]
  },
  {
   "cell_type": "markdown",
   "id": "f40d6633",
   "metadata": {},
   "source": [
    "1. Empiece con valores iniciales para $\\beta_{0}^{(0)}$, $\\beta_{1}^{(0)}$ y $\\sigma^{(0)}$.\n",
    "\n",
    "2. Repita hasta convergencia para la iteración $i \\in \\{1, 2, \\cdots\\}$:\n",
    "    1. Maximice la función de verosimilitud con respecto a $\\beta_{0}$ con valores fijos $\\beta_{1}^{(i - 1)}$ y $\\sigma^{(i-1)}$. Guarde el máximo como $\\beta_{0}^{(i)}$.\n",
    "    \n",
    "    2. Maximice la función de verosimilitud con respecto a $\\beta_{1}$ con valores fijos $\\beta_{0}^{(i)}$ y $\\sigma^{(i-1)}$. Guarde el máximo como $\\beta_{1}^{(i)}$.\n",
    "    \n",
    "    3. Maximice la función de verosimilitud con respecto a $\\sigma$ con valores fijos $\\beta_{1}^{(i)}$ y $\\beta_{1}^{(i)}$. Guarde el máximo como $\\sigma^{(i)}$."
   ]
  },
  {
   "cell_type": "code",
   "execution_count": 7,
   "id": "24fc5a78",
   "metadata": {},
   "outputs": [
    {
     "data": {
      "text/html": [
       "<dl>\n",
       "\t<dt>$beta_0</dt>\n",
       "\t\t<dd>2.23597032228362</dd>\n",
       "\t<dt>$beta_1</dt>\n",
       "\t\t<dd>3.03438624061077</dd>\n",
       "\t<dt>$sigma</dt>\n",
       "\t\t<dd>1333.45227276191</dd>\n",
       "\t<dt>$obj_val</dt>\n",
       "\t\t<dd>57.0078287666398</dd>\n",
       "</dl>\n"
      ],
      "text/latex": [
       "\\begin{description}\n",
       "\\item[\\$beta\\_0] 2.23597032228362\n",
       "\\item[\\$beta\\_1] 3.03438624061077\n",
       "\\item[\\$sigma] 1333.45227276191\n",
       "\\item[\\$obj\\_val] 57.0078287666398\n",
       "\\end{description}\n"
      ],
      "text/markdown": [
       "$beta_0\n",
       ":   2.23597032228362\n",
       "$beta_1\n",
       ":   3.03438624061077\n",
       "$sigma\n",
       ":   1333.45227276191\n",
       "$obj_val\n",
       ":   57.0078287666398\n",
       "\n",
       "\n"
      ],
      "text/plain": [
       "$beta_0\n",
       "[1] 2.23597\n",
       "\n",
       "$beta_1\n",
       "[1] 3.034386\n",
       "\n",
       "$sigma\n",
       "[1] 1333.452\n",
       "\n",
       "$obj_val\n",
       "[1] 57.00783\n"
      ]
     },
     "metadata": {},
     "output_type": "display_data"
    }
   ],
   "source": [
    "# Los parámetros al llamar la función por primera vez son el resultado del\n",
    "# estimador por OLS.\n",
    "opt_quest <- function(beta_0, beta_1, sigma,\n",
    "                      y, x, nu = 8, min_obj_change = 0.00001) {\n",
    "    init_obj <- neg_log_like(beta_0, beta_1, sigma, y, x, nu)\n",
    "\n",
    "    # print(list(beta_0 = beta_0,\n",
    "    #            beta_1 = beta_1,\n",
    "    #            sigma = sigma,\n",
    "    #            obj_val = init_obj))\n",
    "\n",
    "    repeat {\n",
    "        sol <- optim(beta_0, fn = neg_log_like, beta_1 = beta_1, sigma = sigma,\n",
    "                     y = y, x = x, nu = nu,\n",
    "                     method = \"Brent\", lower = beta_0 - 5, upper = beta_0 + 5)\n",
    "        beta_0 <- sol$par\n",
    "\n",
    "        sol <- optim(beta_1, fn = neg_log_like, beta_0 = beta_0, sigma = sigma,\n",
    "                     y = y, x = x, nu = nu,\n",
    "                     method = \"Brent\", lower = beta_1 - 5, upper = beta_1 + 5)\n",
    "        beta_1 <- sol$par\n",
    "\n",
    "        sol <- optim(sigma, fn = neg_log_like, beta_0 = beta_0, beta_1 = beta_1,\n",
    "                     y = y, x = x, nu = nu,\n",
    "                     method = \"Brent\", lower = sigma - 5, upper = sigma + 5)\n",
    "        sigma <- sol$par\n",
    "\n",
    "        new_obj <- sol$value\n",
    "        if (init_obj - new_obj < min_obj_change) {\n",
    "          break\n",
    "        } else {\n",
    "          init_obj <- new_obj\n",
    "        }\n",
    "    }\n",
    "\n",
    "    return(list(beta_0 = beta_0,\n",
    "              beta_1 = beta_1,\n",
    "              sigma = sigma,\n",
    "              obj_val = new_obj))\n",
    "}\n",
    "\n",
    "# Estimamos los parámetros iniciales por OLS para iniciar el optimizador.\n",
    "model <- lm(y ~ X, data = data)\n",
    "\n",
    "result <- opt_quest(model$coefficients[[\"(Intercept)\"]],\n",
    "                    model$coefficients[[\"X\"]],\n",
    "                    sqrt(deviance(model) / df.residual(model)), y, x, 8)\n",
    "result\n"
   ]
  },
  {
   "cell_type": "markdown",
   "id": "7ecae94f",
   "metadata": {},
   "source": [
    "#### 3. Construya una mecanismo de inferencia por medio de bootstrap para construir intervalos de confianza para los tres parámetros de interés. Use los datos anexos `datospunto3.txt` y reporte los intervalos de confianza para $\\beta_{0}^{(0)}$, $\\beta_{1}^{(0)}$ y $\\sigma^{(0)}$ con 95% y con 99% de confianza. Puede usar 8 grados de libertad."
   ]
  },
  {
   "cell_type": "markdown",
   "id": "3bb8bb97",
   "metadata": {},
   "source": [
    "Bootstrap nos permite hacer un muestreo de los parámetros estimados por verosimilitud. El desarrollo debe tomar muestras de los datos originales con reemplazo y entrenar el modelo de regresión robusto para cada muestra aleatoria. El intervalo se calcula a partir de percentiles."
   ]
  },
  {
   "cell_type": "code",
   "execution_count": 8,
   "id": "18ceb324",
   "metadata": {},
   "outputs": [
    {
     "data": {
      "text/html": [
       "<dl>\n",
       "\t<dt>$beta_0_intervals</dt>\n",
       "\t\t<dd><dl>\n",
       "\t<dt>$conf.95</dt>\n",
       "\t\t<dd><style>\n",
       ".dl-inline {width: auto; margin:0; padding: 0}\n",
       ".dl-inline>dt, .dl-inline>dd {float: none; width: auto; display: inline-block}\n",
       ".dl-inline>dt::after {content: \":\\0020\"; padding-right: .5ex}\n",
       ".dl-inline>dt:not(:first-of-type) {padding-left: .5ex}\n",
       "</style><dl class=dl-inline><dt>2.5%</dt><dd>0.200070680569427</dd><dt>97.5%</dt><dd>4.3776377177949</dd></dl>\n",
       "</dd>\n",
       "\t<dt>$conf.99</dt>\n",
       "\t\t<dd><style>\n",
       ".dl-inline {width: auto; margin:0; padding: 0}\n",
       ".dl-inline>dt, .dl-inline>dd {float: none; width: auto; display: inline-block}\n",
       ".dl-inline>dt::after {content: \":\\0020\"; padding-right: .5ex}\n",
       ".dl-inline>dt:not(:first-of-type) {padding-left: .5ex}\n",
       "</style><dl class=dl-inline><dt>0.5%</dt><dd>-0.382209982785846</dd><dt>99.5%</dt><dd>4.65654188297939</dd></dl>\n",
       "</dd>\n",
       "</dl>\n",
       "</dd>\n",
       "\t<dt>$beta_1_intervals</dt>\n",
       "\t\t<dd><dl>\n",
       "\t<dt>$conf.95</dt>\n",
       "\t\t<dd><style>\n",
       ".dl-inline {width: auto; margin:0; padding: 0}\n",
       ".dl-inline>dt, .dl-inline>dd {float: none; width: auto; display: inline-block}\n",
       ".dl-inline>dt::after {content: \":\\0020\"; padding-right: .5ex}\n",
       ".dl-inline>dt:not(:first-of-type) {padding-left: .5ex}\n",
       "</style><dl class=dl-inline><dt>2.5%</dt><dd>2.81292851567047</dd><dt>97.5%</dt><dd>3.29929401972015</dd></dl>\n",
       "</dd>\n",
       "\t<dt>$conf.99</dt>\n",
       "\t\t<dd><style>\n",
       ".dl-inline {width: auto; margin:0; padding: 0}\n",
       ".dl-inline>dt, .dl-inline>dd {float: none; width: auto; display: inline-block}\n",
       ".dl-inline>dt::after {content: \":\\0020\"; padding-right: .5ex}\n",
       ".dl-inline>dt:not(:first-of-type) {padding-left: .5ex}\n",
       "</style><dl class=dl-inline><dt>0.5%</dt><dd>2.79469497006325</dd><dt>99.5%</dt><dd>3.41067264071357</dd></dl>\n",
       "</dd>\n",
       "</dl>\n",
       "</dd>\n",
       "\t<dt>$sigma_intervals</dt>\n",
       "\t\t<dd><dl>\n",
       "\t<dt>$conf.95</dt>\n",
       "\t\t<dd><style>\n",
       ".dl-inline {width: auto; margin:0; padding: 0}\n",
       ".dl-inline>dt, .dl-inline>dd {float: none; width: auto; display: inline-block}\n",
       ".dl-inline>dt::after {content: \":\\0020\"; padding-right: .5ex}\n",
       ".dl-inline>dt:not(:first-of-type) {padding-left: .5ex}\n",
       "</style><dl class=dl-inline><dt>2.5%</dt><dd>1012.97598322257</dd><dt>97.5%</dt><dd>1565.79833095685</dd></dl>\n",
       "</dd>\n",
       "\t<dt>$conf.99</dt>\n",
       "\t\t<dd><style>\n",
       ".dl-inline {width: auto; margin:0; padding: 0}\n",
       ".dl-inline>dt, .dl-inline>dd {float: none; width: auto; display: inline-block}\n",
       ".dl-inline>dt::after {content: \":\\0020\"; padding-right: .5ex}\n",
       ".dl-inline>dt:not(:first-of-type) {padding-left: .5ex}\n",
       "</style><dl class=dl-inline><dt>0.5%</dt><dd>927.374432586445</dd><dt>99.5%</dt><dd>1651.88388793955</dd></dl>\n",
       "</dd>\n",
       "</dl>\n",
       "</dd>\n",
       "</dl>\n"
      ],
      "text/latex": [
       "\\begin{description}\n",
       "\\item[\\$beta\\_0\\_intervals] \\begin{description}\n",
       "\\item[\\$conf.95] \\begin{description*}\n",
       "\\item[2.5\\textbackslash{}\\%] 0.200070680569427\n",
       "\\item[97.5\\textbackslash{}\\%] 4.3776377177949\n",
       "\\end{description*}\n",
       "\n",
       "\\item[\\$conf.99] \\begin{description*}\n",
       "\\item[0.5\\textbackslash{}\\%] -0.382209982785846\n",
       "\\item[99.5\\textbackslash{}\\%] 4.65654188297939\n",
       "\\end{description*}\n",
       "\n",
       "\\end{description}\n",
       "\n",
       "\\item[\\$beta\\_1\\_intervals] \\begin{description}\n",
       "\\item[\\$conf.95] \\begin{description*}\n",
       "\\item[2.5\\textbackslash{}\\%] 2.81292851567047\n",
       "\\item[97.5\\textbackslash{}\\%] 3.29929401972015\n",
       "\\end{description*}\n",
       "\n",
       "\\item[\\$conf.99] \\begin{description*}\n",
       "\\item[0.5\\textbackslash{}\\%] 2.79469497006325\n",
       "\\item[99.5\\textbackslash{}\\%] 3.41067264071357\n",
       "\\end{description*}\n",
       "\n",
       "\\end{description}\n",
       "\n",
       "\\item[\\$sigma\\_intervals] \\begin{description}\n",
       "\\item[\\$conf.95] \\begin{description*}\n",
       "\\item[2.5\\textbackslash{}\\%] 1012.97598322257\n",
       "\\item[97.5\\textbackslash{}\\%] 1565.79833095685\n",
       "\\end{description*}\n",
       "\n",
       "\\item[\\$conf.99] \\begin{description*}\n",
       "\\item[0.5\\textbackslash{}\\%] 927.374432586445\n",
       "\\item[99.5\\textbackslash{}\\%] 1651.88388793955\n",
       "\\end{description*}\n",
       "\n",
       "\\end{description}\n",
       "\n",
       "\\end{description}\n"
      ],
      "text/markdown": [
       "$beta_0_intervals\n",
       ":   $conf.95\n",
       ":   2.5%\n",
       ":   0.20007068056942797.5%\n",
       ":   4.3776377177949\n",
       "\n",
       "\n",
       "$conf.99\n",
       ":   0.5%\n",
       ":   -0.38220998278584699.5%\n",
       ":   4.65654188297939\n",
       "\n",
       "\n",
       "\n",
       "\n",
       "\n",
       "$beta_1_intervals\n",
       ":   $conf.95\n",
       ":   2.5%\n",
       ":   2.8129285156704797.5%\n",
       ":   3.29929401972015\n",
       "\n",
       "\n",
       "$conf.99\n",
       ":   0.5%\n",
       ":   2.7946949700632599.5%\n",
       ":   3.41067264071357\n",
       "\n",
       "\n",
       "\n",
       "\n",
       "\n",
       "$sigma_intervals\n",
       ":   $conf.95\n",
       ":   2.5%\n",
       ":   1012.9759832225797.5%\n",
       ":   1565.79833095685\n",
       "\n",
       "\n",
       "$conf.99\n",
       ":   0.5%\n",
       ":   927.37443258644599.5%\n",
       ":   1651.88388793955\n",
       "\n",
       "\n",
       "\n",
       "\n",
       "\n",
       "\n",
       "\n"
      ],
      "text/plain": [
       "$beta_0_intervals\n",
       "$beta_0_intervals$conf.95\n",
       "     2.5%     97.5% \n",
       "0.2000707 4.3776377 \n",
       "\n",
       "$beta_0_intervals$conf.99\n",
       "     0.5%     99.5% \n",
       "-0.382210  4.656542 \n",
       "\n",
       "\n",
       "$beta_1_intervals\n",
       "$beta_1_intervals$conf.95\n",
       "    2.5%    97.5% \n",
       "2.812929 3.299294 \n",
       "\n",
       "$beta_1_intervals$conf.99\n",
       "    0.5%    99.5% \n",
       "2.794695 3.410673 \n",
       "\n",
       "\n",
       "$sigma_intervals\n",
       "$sigma_intervals$conf.95\n",
       "    2.5%    97.5% \n",
       "1012.976 1565.798 \n",
       "\n",
       "$sigma_intervals$conf.99\n",
       "     0.5%     99.5% \n",
       " 927.3744 1651.8839 \n",
       "\n"
      ]
     },
     "metadata": {},
     "output_type": "display_data"
    }
   ],
   "source": [
    "bootstrap_robust_regression <- function(n_obs = nrow(y),\n",
    "                                        n_bootstraps = 500) {\n",
    "  beta_0_sampled <- rep(0, n_bootstraps)\n",
    "  beta_1_sampled <- rep(0, n_bootstraps)\n",
    "  sigma_sampled <- rep(0, n_bootstraps)\n",
    "\n",
    "  for (i in 1:n_bootstraps) {\n",
    "    indices <- sample(n_obs, n_obs, replace = TRUE)\n",
    "    x_sample <- x[indices, ]\n",
    "    y_sample <- y[indices, ]\n",
    "    datos <- data.frame(x = x_sample, y = y_sample)\n",
    "\n",
    "\n",
    "    model <- lm(y ~ x, data = datos)\n",
    "\n",
    "    result <- opt_quest(model$coefficients[[\"(Intercept)\"]],\n",
    "                        model$coefficients[[\"x\"]],\n",
    "                        sqrt(deviance(model) / df.residual(model)),\n",
    "                        y_sample, x_sample, 8)\n",
    "    beta_0_sampled[i] <- result$beta_0\n",
    "    beta_1_sampled[i] <- result$beta_1\n",
    "    sigma_sampled[i] <- result$sigma\n",
    "  }\n",
    "\n",
    "  return(list(beta_0_intervals = list(conf.95 = quantile(beta_0_sampled,\n",
    "                                                         c(0.025, 0.975)),\n",
    "                                      conf.99 = quantile(beta_0_sampled,\n",
    "                                                         c(0.005, 0.995))),\n",
    "              beta_1_intervals = list(conf.95 = quantile(beta_1_sampled,\n",
    "                                                         c(0.025, 0.975)),\n",
    "                                      conf.99 = quantile(beta_1_sampled,\n",
    "                                                         c(0.005, 0.995))),\n",
    "              sigma_intervals  = list(conf.95 = quantile(sigma_sampled,\n",
    "                                                         c(0.025, 0.975)),\n",
    "                                      conf.99 = quantile(sigma_sampled,\n",
    "                                                         c(0.005, 0.995)))))\n",
    "}\n",
    "\n",
    "bootstrap_robust_regression()\n"
   ]
  },
  {
   "cell_type": "markdown",
   "id": "0fbc02d5-3ea2-4ff3-bf07-85a7e4164576",
   "metadata": {},
   "source": [
    "Según reportan los intervalos de _bootstrap_, con $\\alpha = 0.01$, $\\beta_0$ incluye $0$ y por lo tanto puede no ser significativo. El intervalo de $\\beta_2$ no tiene peculiaridades, más allá de que incluye el beta estimado por _OLS_.\n",
    "\n",
    "El nuevo $\\sigma$ es mayor al originalmente estimado por dos ordenes de magnitud, lo cual es indicativo de que las colas de la distribución de los residuos son mucho más probables de lo anticipado."
   ]
  },
  {
   "cell_type": "markdown",
   "id": "ba514b35",
   "metadata": {},
   "source": [
    "## Parte B. Problemas teóricos, conceptuales y experimentales."
   ]
  },
  {
   "cell_type": "markdown",
   "id": "34275cd1",
   "metadata": {},
   "source": [
    "### Problema BONO. Uso de _leverage_ para medidas de desempeño."
   ]
  },
  {
   "cell_type": "markdown",
   "id": "8d13a9e5-0fc0-449a-afaa-44a3e3c88117",
   "metadata": {
    "tags": []
   },
   "source": [
    "Si $H$ es la matriz de proyección en $\\Omega$ definida por el estimador de mínimos cuadrados, entonces los elementos de la diagonal $\\ell_{ii}$ son los valores de _leverage_ que se miden para cada observación. Como se ha visto, estos valores tienen muchos usos, como por ejemplo, determinar la varianza de los residuales o determinar datos atípicos en $\\textbf{X}$. Uno de los usos más útiles, es que permiten calcular la distancia de un punto $Y_{i}$ a la recta estimada sin ese punto, sin necesidad de correr el modelo con los $n-1$ datos restantes. Es decir:\n",
    "\n",
    "$$\n",
    "    \\left( Y_{i} - \\hat{Y}_{i,(i)} \\right) = \\frac{Y_{i}-\\hat{Y}_{i}}{1-\\ell_{i,i} },\n",
    "$$\n",
    "\n",
    "donde $\\hat{Y}_{i,(i)}$ es la estimación del valor esperado de $Y_{i}$ estimada con el modelo que usa todos los datos, menos la observación $i$.\n",
    "\n",
    "Esto quiere decir, que si se define la métrica LOOCV:\n",
    "\n",
    "$$\n",
    "    LOO = \\frac{1}{n}\\sum_{i=1}^{n}\\left( \\frac{Y_{i}-\\hat{Y}_{i}}{1-\\ell_{i,i} } \\right)^{2}\n",
    "$$\n",
    "\n",
    "entonces, se puede medir el desempeño del modelo, algo parecido a como lo hace el $R^{2}_{\\text{adj}}$, el $C_{p}$ de Mallows o el $\\text{AIC}$."
   ]
  },
  {
   "cell_type": "markdown",
   "id": "5503825c-c12e-4716-af95-7f12e59048b6",
   "metadata": {},
   "source": [
    "1. Demuestre que\n",
    "\n",
    "$$\n",
    "    \\ell_{i,i} = \\frac{d\\hat{Y}_{i}}{dY_{i}}.\n",
    "$$"
   ]
  },
  {
   "cell_type": "markdown",
   "id": "f0a44167-b441-4a42-bfa2-e3e31bdae88f",
   "metadata": {},
   "source": [
    "+ Respuesta\n",
    "\n",
    "$$\n",
    "    \\begin{align*}\n",
    "        \\hat{Y} &= HY \\\\\n",
    "        \\hat{Y}_{i} &= H_{i}Y \\text{ (Acá, }H_{i}\\text{ es la fila }i\\text{ de la matriz }H)\\\\\n",
    "        \\hat{Y}_{i} &= H_{i, 1}Y_{1} + H_{i, 2}Y_{2} + \\cdots + H_{i, i}Y_{i} + \\cdots +H_{i, n}Y_{n}\\\\\n",
    "        \\frac{d\\hat{Y}_{i}}{dY_{i}} &= \\frac{dH_{i, 1}Y_{1}}{dY_{i}} + \\frac{dH_{i, 2}Y_{2}}{dY_{i}} + \\cdots + \\frac{dH_{i, i}Y_{i}}{dY_{i}} + \\cdots + \\frac{dH_{i, n}Y_{n}}{dY_{i}}\\\\\n",
    "        \\frac{d\\hat{Y}_{i}}{dY_{i}} &= \\frac{dH_{i, i}Y_{i}}{dY_{i}} = H_{ii} = \\ell_{i,i}\\\\\n",
    "    \\end{align*}\n",
    "$$"
   ]
  },
  {
   "cell_type": "markdown",
   "id": "4583ca65-eca0-4a14-b0da-fd0cc09255cb",
   "metadata": {},
   "source": [
    "2. Con la información del numeral anterior, demuestre que:\n",
    "\n",
    "$$\n",
    "    \\frac{dY_{i}}{de_{i}} = \\frac{1}{1-\\ell_{i,i}}\n",
    "$$"
   ]
  },
  {
   "cell_type": "markdown",
   "id": "60356e17-f45b-479c-b486-6531c4f0471e",
   "metadata": {},
   "source": [
    "+ Respuesta\n",
    "\n",
    "$$\n",
    "    \\begin{align*}\n",
    "        e &= Y - HY \\\\\n",
    "        e &= (I - H)Y \\\\\n",
    "        e_{i} &= (I - H)_{i}Y \\text{ (Acá, }(I-H)_{i}\\text{ es la fila }i\\text{ de la matriz }I-H)\\\\\n",
    "        e_{i} &= (0 - H_{i, 1})Y_{1} + (0-H_{i, 2})Y_{2} + \\cdots + (1-H_{i, i})Y_{i} + \\cdots + (0-H_{i, n})Y_{n}\\\\\n",
    "        e_{i} &= - H_{i, 1}Y_{1} - H_{i, 2}Y_{2} - \\cdots + (1-H_{i, i})Y_{i} - \\cdots - H_{i, n}Y_{n}\\\\\n",
    "        -(1 - H_{i, i})Y_{i} &= - H_{i, 1}Y_{1} - H_{i, 2}Y_{2} - \\cdots - H_{i, n}Y_{n} - e_{i}\\\\\n",
    "        Y_{i} &= - \\frac{H_{i, 1}Y_{1}}{(H_{i, i} - 1)} - \\frac{H_{i, 2}Y_{2}}{(H_{i, i} - 1)} - \\cdots - \\frac{H_{i, n}Y_{n}}{(H_{i, i} - 1)} - \\frac{e_{i}}{(H_{i, i} - 1)}\\\\\n",
    "        \\frac{dY_{i}}{de_{i}} &= - \\frac{d\\frac{e_{i}}{(H_{i, i} - 1)}}{de_{i}}\\\\\n",
    "        \\frac{dY_{i}}{de_{i}} &= \\frac{1}{1 - H_{i, i}} = \\frac{1}{1 - \\ell_{i, i}}\\\\\n",
    "    \\end{align*}\n",
    "$$"
   ]
  },
  {
   "cell_type": "markdown",
   "id": "44631732-3469-48bf-880d-2bb2548d5168",
   "metadata": {},
   "source": [
    "3. Con la información de los dos numerales anteriores, demuestre (explique) por qué:\n",
    "\n",
    "$$\n",
    "    d_{i} = \\frac{e_{i}}{1 - \\ell_{i,i}}.\n",
    "$$"
   ]
  },
  {
   "cell_type": "markdown",
   "id": "080aa06e-0247-4a99-b440-f91989956e2f",
   "metadata": {},
   "source": [
    "+ Respuesta\n",
    "\n",
    "Sea $d_{i} = Y_{i} - \\hat{Y}_{i, (i)}$, entonces:\n",
    "\n",
    "$$\n",
    "    \\begin{align*}\n",
    "         d_{i} &= Y_{i} - X_{i}\\left[ \\hat{\\beta}_{(i)} \\right]\\\\\n",
    "         d_{i} &= Y_{i} - X_{i}\\left[\\left( X_{(i)}^{T}X_{(i)} \\right)^{-1} X_{(i)}^{T}Y_{(i)}\\right]\n",
    "    \\end{align*}\n",
    "$$"
   ]
  },
  {
   "cell_type": "markdown",
   "id": "9ec7862c-91d0-441d-b968-6705566f9f73",
   "metadata": {},
   "source": [
    "Hacemos uso de la ecuación de Sherman-Morrison-Woodbury.\n",
    "\n",
    "$$\n",
    "    \\begin{align*}\n",
    "         d_{i} &= Y_{i} - X_{i}\\left[\\left[ \\left(X^{T}X\\right)^{-1} - \\frac{\\left(X^{T}X\\right)^{-1}X_{i}^{T}X_{i} \\left(X^{T}X\\right)^{-1}}{1 + X_{i}^{T}\\left(X^{T}X\\right)^{-1}X_{i}} \\right] X_{(i)}^{T}Y_{(i)}\\right]\\\\\n",
    "         d_{i} &= Y_{i} - X_{i}\\left[\\left[ \\left(X^{T}X\\right)^{-1} + \\frac{\\left(X^{T}X\\right)^{-1}X_{i}^{T}X_{i} \\left(X^{T}X\\right)^{-1}}{1 - \\ell_{i,i}} \\right] X_{(i)}^{T}Y_{(i)}\\right]\\\\\n",
    "         d_{i} &= Y_{i} - X_{i}\\left[\\left[ \\left(X^{T}X\\right)^{-1} + \\frac{\\left(X^{T}X\\right)^{-1}X_{i}^{T}X_{i} \\left(X^{T}X\\right)^{-1}}{1 - \\ell_{i,i}} \\right] \\left(X^{T}Y - X_{i}^{T}Y_{i} \\right)\\right]\\\\\n",
    "    \\end{align*}\n",
    "$$"
   ]
  },
  {
   "cell_type": "markdown",
   "id": "4ec0b351-91db-44fb-8514-338c68574480",
   "metadata": {},
   "source": [
    "Simplificamos:\n",
    "\n",
    "$$\n",
    "    \\begin{align*}\n",
    "        d_{i} &= Y_{i} - X_{i}\\left[ \\left(X^{T}X\\right)^{-1}X^{T}Y - \\left(X^{T}X\\right)^{-1}X_{i}^{T}Y_{i} \\\\\n",
    "        + \\frac{\\left(X^{T}X\\right)^{-1}X_{i}^{T}X_{i} \\left(X^{T}X\\right)^{-1}X^{T}Y}{1 - \\ell_{i,i}} - \\frac{\\left(X^{T}X\\right)^{-1}X_{i}^{T}X_{i} \\left(X^{T}X\\right)^{-1}X_{i}^{T}Y_{i}}{1 - \\ell_{i,i}} \\right]\\\\\n",
    "        d_{i} &= Y_{i} - X_{i}\\left[ \\hat{\\beta} - \\left(X^{T}X\\right)^{-1}X_{i}^{T}Y_{i} + \\frac{\\left(X^{T}X\\right)^{-1}X_{i}^{T}X_{i} \\hat{\\beta}}{1 - \\ell_{i,i}} - \\frac{\\left(X^{T}X\\right)^{-1}X_{i}^{T}\\ell_{i,i}Y_{i}}{1 - \\ell_{i,i}} \\right]\\\\\n",
    "    \\end{align*}\n",
    "$$"
   ]
  },
  {
   "cell_type": "markdown",
   "id": "a3804ec3-aaff-46fd-b473-00f336613ae3",
   "metadata": {},
   "source": [
    "Factorizamos el $\\left(X^{T}X\\right)^{-1}X_{i}^{T}Y_{i}$ y el $\\left(X^{T}X\\right)^{-1}X_{i}^{T}$:\n",
    "\n",
    "$$\n",
    "    \\begin{align*}\n",
    "        d_{i} &= Y_{i} - X_{i}\\left[ \\hat{\\beta} - \\left(X^{T}X\\right)^{-1}X_{i}^{T}Y_{i}(1 + \\frac{\\ell_{i,i}}{1-\\ell_{i,i}}) + \\frac{\\left(X^{T}X\\right)^{-1}X_{i}^{T}X_{i} \\hat{\\beta}}{1 - \\ell_{i,i}} \\right]\\\\\n",
    "        d_{i} &= Y_{i} - X_{i}\\left[ \\hat{\\beta} - \\frac{\\left(X^{T}X\\right)^{-1}X_{i}^{T}Y_{i}}{1-\\ell_{i,i}} + \\frac{\\left(X^{T}X\\right)^{-1}X_{i}^{T}X_{i} \\hat{\\beta}}{1 - \\ell_{i,i}} \\right]\\\\\n",
    "        d_{i} &= Y_{i} - X_{i}\\left[ \\hat{\\beta} - \\frac{\\left(X^{T}X\\right)^{-1}X_{i}^{T}(Y_{i}-X_{i} \\hat{\\beta})}{1-\\ell_{i,i}} \\right]\\\\\n",
    "        d_{i} &= Y_{i} - X_{i}\\left[ \\hat{\\beta} - \\frac{\\left(X^{T}X\\right)^{-1}X_{i}^{T}e_{i}}{1-\\ell_{i,i}} \\right]\\\\\n",
    "        d_{i} &= Y_{i} + \\left[ \\frac{X_{i}\\left(X^{T}X\\right)^{-1}X_{i}^{T}e_{i}}{1-\\ell_{i,i}} - \\hat{Y}_{i}\\right]\\\\\n",
    "        d_{i} &= e_{i} + \\frac{X_{i}\\left(X^{T}X\\right)^{-1}X_{i}^{T}e_{i}}{1-\\ell_{i,i}}\\\\\n",
    "        d_{i} &= e_{i} + \\frac{\\ell_{i,i}e_{i}}{1-\\ell_{i,i}}\\\\\n",
    "        d_{i} &= \\frac{(1-\\ell_{i,i})e_{i} + \\ell_{i,i}e_{i}}{1-\\ell_{i,i}}\\\\\n",
    "        d_{i} &= \\frac{(1-\\ell_{i,i} + \\ell_{i,i})e_{i}}{1-\\ell_{i,i}} = \\frac{e_{i}}{1-\\ell_{i,i}}\\\\\n",
    "    \\end{align*}\n",
    "$$"
   ]
  },
  {
   "cell_type": "markdown",
   "id": "7398fdd3-f652-4f50-b30e-338aba50d02a",
   "metadata": {},
   "source": [
    "4. Con los datos de `masa-corporal` que vimos en las clases de multicolinealidad, seleccione el modelo más apropiado para explicar el índice de grasa corporal. Compare el resultado con el obtenido si usa: $R^{2}_{adj}$, $C_{p}$ y $\\text{AIC}$."
   ]
  },
  {
   "cell_type": "markdown",
   "id": "f1e6e6c5-e532-458f-8cf1-450ba0d548e9",
   "metadata": {},
   "source": [
    "Definimos una función que, dado un modelo, calcule la métrica $LOO$."
   ]
  },
  {
   "cell_type": "code",
   "execution_count": 9,
   "id": "c6cf8472",
   "metadata": {},
   "outputs": [
    {
     "data": {
      "text/html": [
       "<table class=\"dataframe\">\n",
       "<caption>A tibble: 6 × 4</caption>\n",
       "<thead>\n",
       "\t<tr><th scope=col>clic</th><th scope=col>leg</th><th scope=col>arm</th><th scope=col>cmi</th></tr>\n",
       "\t<tr><th scope=col>&lt;dbl&gt;</th><th scope=col>&lt;dbl&gt;</th><th scope=col>&lt;dbl&gt;</th><th scope=col>&lt;dbl&gt;</th></tr>\n",
       "</thead>\n",
       "<tbody>\n",
       "\t<tr><td>19.5</td><td>43.1</td><td>29.1</td><td>11.9</td></tr>\n",
       "\t<tr><td>24.7</td><td>49.8</td><td>28.2</td><td>22.8</td></tr>\n",
       "\t<tr><td>30.7</td><td>51.9</td><td>37.0</td><td>18.7</td></tr>\n",
       "\t<tr><td>29.8</td><td>54.3</td><td>31.1</td><td>20.1</td></tr>\n",
       "\t<tr><td>19.1</td><td>42.2</td><td>30.9</td><td>12.9</td></tr>\n",
       "\t<tr><td>25.6</td><td>53.9</td><td>23.7</td><td>21.7</td></tr>\n",
       "</tbody>\n",
       "</table>\n"
      ],
      "text/latex": [
       "A tibble: 6 × 4\n",
       "\\begin{tabular}{llll}\n",
       " clic & leg & arm & cmi\\\\\n",
       " <dbl> & <dbl> & <dbl> & <dbl>\\\\\n",
       "\\hline\n",
       "\t 19.5 & 43.1 & 29.1 & 11.9\\\\\n",
       "\t 24.7 & 49.8 & 28.2 & 22.8\\\\\n",
       "\t 30.7 & 51.9 & 37.0 & 18.7\\\\\n",
       "\t 29.8 & 54.3 & 31.1 & 20.1\\\\\n",
       "\t 19.1 & 42.2 & 30.9 & 12.9\\\\\n",
       "\t 25.6 & 53.9 & 23.7 & 21.7\\\\\n",
       "\\end{tabular}\n"
      ],
      "text/markdown": [
       "\n",
       "A tibble: 6 × 4\n",
       "\n",
       "| clic &lt;dbl&gt; | leg &lt;dbl&gt; | arm &lt;dbl&gt; | cmi &lt;dbl&gt; |\n",
       "|---|---|---|---|\n",
       "| 19.5 | 43.1 | 29.1 | 11.9 |\n",
       "| 24.7 | 49.8 | 28.2 | 22.8 |\n",
       "| 30.7 | 51.9 | 37.0 | 18.7 |\n",
       "| 29.8 | 54.3 | 31.1 | 20.1 |\n",
       "| 19.1 | 42.2 | 30.9 | 12.9 |\n",
       "| 25.6 | 53.9 | 23.7 | 21.7 |\n",
       "\n"
      ],
      "text/plain": [
       "  clic leg  arm  cmi \n",
       "1 19.5 43.1 29.1 11.9\n",
       "2 24.7 49.8 28.2 22.8\n",
       "3 30.7 51.9 37.0 18.7\n",
       "4 29.8 54.3 31.1 20.1\n",
       "5 19.1 42.2 30.9 12.9\n",
       "6 25.6 53.9 23.7 21.7"
      ]
     },
     "metadata": {},
     "output_type": "display_data"
    }
   ],
   "source": [
    "library(readr)\n",
    "masa_corporal <- read_delim(\"Archivos/masa_corporal.txt\",\n",
    "                            \"\\t\", escape_double = FALSE, trim_ws = TRUE,\n",
    "                            show_col_types = FALSE)\n",
    "head(masa_corporal)"
   ]
  },
  {
   "cell_type": "code",
   "execution_count": 9,
   "id": "3ea3a1c0-2e06-4953-9e47-486d15fdba45",
   "metadata": {},
   "outputs": [
    {
     "data": {
      "image/png": "[encoded data removed]",
      "text/plain": [
       "plot without title"
      ]
     },
     "metadata": {
      "image/png": {
       "height": 420,
       "width": 420
      }
     },
     "output_type": "display_data"
    }
   ],
   "source": [
    "pairs(masa_corporal)"
   ]
  },
  {
   "cell_type": "code",
   "execution_count": 10,
   "id": "0a940367-be7e-48dc-8ddc-e07bc8645265",
   "metadata": {},
   "outputs": [
    {
     "name": "stderr",
     "output_type": "stream",
     "text": [
      "\n",
      "Attaching package: 'olsrr'\n",
      "\n",
      "\n",
      "The following object is masked from 'package:datasets':\n",
      "\n",
      "    rivers\n",
      "\n",
      "\n"
     ]
    },
    {
     "data": {
      "text/html": [
       "0.764113279149065"
      ],
      "text/latex": [
       "0.764113279149065"
      ],
      "text/markdown": [
       "0.764113279149065"
      ],
      "text/plain": [
       "[1] 0.7641133"
      ]
     },
     "metadata": {},
     "output_type": "display_data"
    },
    {
     "data": {
      "text/html": [
       "4"
      ],
      "text/latex": [
       "4"
      ],
      "text/markdown": [
       "4"
      ],
      "text/plain": [
       "[1] 4"
      ]
     },
     "metadata": {},
     "output_type": "display_data"
    },
    {
     "data": {
      "text/html": [
       "98.6247054435876"
      ],
      "text/latex": [
       "98.6247054435876"
      ],
      "text/markdown": [
       "98.6247054435876"
      ],
      "text/plain": [
       "[1] 98.62471"
      ]
     },
     "metadata": {},
     "output_type": "display_data"
    }
   ],
   "source": [
    "library(olsrr)\n",
    "\n",
    "# Mejor modelo con 4 coeficientes.\n",
    "modelo_comp <- lm(cmi ~ ., data = masa_corporal)\n",
    "\n",
    "r2_adj_4_var <- summary(modelo_comp)$adj.r.squared\n",
    "cp_4_var <- ols_mallows_cp(modelo_comp, modelo_comp)\n",
    "AIC_4_var <- AIC(modelo_comp)\n",
    "\n",
    "r2_adj_4_var\n",
    "cp_4_var\n",
    "AIC_4_var\n"
   ]
  },
  {
   "cell_type": "code",
   "execution_count": 11,
   "id": "dde0200a-f005-4cee-ae48-885198996b7b",
   "metadata": {},
   "outputs": [
    {
     "data": {
      "text/html": [
       "<style>\n",
       ".list-inline {list-style: none; margin:0; padding: 0}\n",
       ".list-inline>li {display: inline-block}\n",
       ".list-inline>li:not(:last-child)::after {content: \"\\00b7\"; padding: 0 .5ex}\n",
       "</style>\n",
       "<ol class=list-inline><li>0.985468005380718</li><li>0.749325490580256</li><li>0.761002182905341</li><li>0.751940286517337</li></ol>\n"
      ],
      "text/latex": [
       "\\begin{enumerate*}\n",
       "\\item 0.985468005380718\n",
       "\\item 0.749325490580256\n",
       "\\item 0.761002182905341\n",
       "\\item 0.751940286517337\n",
       "\\end{enumerate*}\n"
      ],
      "text/markdown": [
       "1. 0.985468005380718\n",
       "2. 0.749325490580256\n",
       "3. 0.761002182905341\n",
       "4. 0.751940286517337\n",
       "\n",
       "\n"
      ],
      "text/plain": [
       "[1] 0.9854680 0.7493255 0.7610022 0.7519403"
      ]
     },
     "metadata": {},
     "output_type": "display_data"
    },
    {
     "data": {
      "text/html": [
       "1"
      ],
      "text/latex": [
       "1"
      ],
      "text/markdown": [
       "1"
      ],
      "text/plain": [
       "[1] 1"
      ]
     },
     "metadata": {},
     "output_type": "display_data"
    },
    {
     "data": {
      "text/html": [
       "<style>\n",
       ".list-inline {list-style: none; margin:0; padding: 0}\n",
       ".list-inline>li {display: inline-block}\n",
       ".list-inline>li:not(:last-child)::after {content: \"\\00b7\"; padding: 0 .5ex}\n",
       "</style>\n",
       "<ol class=list-inline><li>5.37686810459241</li><li>4.06573360621098</li><li>3.22421201139471</li><li>3.87728920895948</li></ol>\n"
      ],
      "text/latex": [
       "\\begin{enumerate*}\n",
       "\\item 5.37686810459241\n",
       "\\item 4.06573360621098\n",
       "\\item 3.22421201139471\n",
       "\\item 3.87728920895948\n",
       "\\end{enumerate*}\n"
      ],
      "text/markdown": [
       "1. 5.37686810459241\n",
       "2. 4.06573360621098\n",
       "3. 3.22421201139471\n",
       "4. 3.87728920895948\n",
       "\n",
       "\n"
      ],
      "text/plain": [
       "[1] 5.376868 4.065734 3.224212 3.877289"
      ]
     },
     "metadata": {},
     "output_type": "display_data"
    },
    {
     "data": {
      "text/html": [
       "3"
      ],
      "text/latex": [
       "3"
      ],
      "text/markdown": [
       "3"
      ],
      "text/plain": [
       "[1] 3"
      ]
     },
     "metadata": {},
     "output_type": "display_data"
    },
    {
     "data": {
      "text/html": [
       "<style>\n",
       ".list-inline {list-style: none; margin:0; padding: 0}\n",
       ".list-inline>li {display: inline-block}\n",
       ".list-inline>li:not(:last-child)::after {content: \"\\00b7\"; padding: 0 .5ex}\n",
       "</style>\n",
       "<ol class=list-inline><li>98.2757290484402</li><li>99.0532704594149</li><li>98.0992523798867</li><li>98.8435539590761</li></ol>\n"
      ],
      "text/latex": [
       "\\begin{enumerate*}\n",
       "\\item 98.2757290484402\n",
       "\\item 99.0532704594149\n",
       "\\item 98.0992523798867\n",
       "\\item 98.8435539590761\n",
       "\\end{enumerate*}\n"
      ],
      "text/markdown": [
       "1. 98.2757290484402\n",
       "2. 99.0532704594149\n",
       "3. 98.0992523798867\n",
       "4. 98.8435539590761\n",
       "\n",
       "\n"
      ],
      "text/plain": [
       "[1] 98.27573 99.05327 98.09925 98.84355"
      ]
     },
     "metadata": {},
     "output_type": "display_data"
    },
    {
     "data": {
      "text/html": [
       "2"
      ],
      "text/latex": [
       "2"
      ],
      "text/markdown": [
       "2"
      ],
      "text/plain": [
       "[1] 2"
      ]
     },
     "metadata": {},
     "output_type": "display_data"
    }
   ],
   "source": [
    "# Mejor modelo con 3 coeficientes.\n",
    "\n",
    "modelo_1 <- lm(cmi ~ . - 1, data = masa_corporal)\n",
    "\n",
    "r2_adj_3_var <- summary(modelo_1)$adj.r.squared\n",
    "cp_3_var <- ols_mallows_cp(modelo_1, modelo_comp)\n",
    "AIC_3_var <- AIC(modelo_1)\n",
    "\n",
    "modelo_2 <- lm(cmi ~ . - clic, data = masa_corporal)\n",
    "\n",
    "r2_adj_3_var <- c(r2_adj_3_var, summary(modelo_2)$adj.r.squared)\n",
    "cp_3_var <- c(cp_3_var, ols_mallows_cp(modelo_2, modelo_comp))\n",
    "AIC_3_var <- c(AIC_3_var, AIC(modelo_2))\n",
    "\n",
    "modelo_3 <- lm(cmi ~ . - leg, data = masa_corporal)\n",
    "\n",
    "r2_adj_3_var <- c(r2_adj_3_var, summary(modelo_3)$adj.r.squared)\n",
    "cp_3_var <- c(cp_3_var, ols_mallows_cp(modelo_3, modelo_comp))\n",
    "AIC_3_var <- c(AIC_3_var, AIC(modelo_3))\n",
    "\n",
    "\n",
    "modelo_4 <- lm(cmi ~ . - arm, data = masa_corporal)\n",
    "\n",
    "r2_adj_3_var <- c(r2_adj_3_var, summary(modelo_4)$adj.r.squared)\n",
    "cp_3_var <- c(cp_3_var, ols_mallows_cp(modelo_4, modelo_comp))\n",
    "AIC_3_var <- c(AIC_3_var, AIC(modelo_4))\n",
    "\n",
    "r2_adj_3_var\n",
    "which(r2_adj_3_var == max(r2_adj_3_var))\n",
    "\n",
    "cp_3_var\n",
    "which((cp_3_var - 3) == min(cp_3_var - 3))\n",
    "\n",
    "AIC_3_var\n",
    "which(AIC_3_var == max(AIC_3_var))\n",
    "\n"
   ]
  },
  {
   "cell_type": "code",
   "execution_count": 12,
   "id": "ce00b38c-8622-4b18-b2e6-e9304d90cf54",
   "metadata": {},
   "outputs": [
    {
     "data": {
      "text/html": [
       "<style>\n",
       ".list-inline {list-style: none; margin:0; padding: 0}\n",
       ".list-inline>li {display: inline-block}\n",
       ".list-inline>li:not(:last-child)::after {content: \"\\00b7\"; padding: 0 .5ex}\n",
       "</style>\n",
       "<ol class=list-inline><li>0.974145667396437</li><li>0.982391345487221</li><li>0.972821221950596</li><li>-0.0341380146808248</li><li>0.75832148656799</li><li>0.695046427531301</li></ol>\n"
      ],
      "text/latex": [
       "\\begin{enumerate*}\n",
       "\\item 0.974145667396437\n",
       "\\item 0.982391345487221\n",
       "\\item 0.972821221950596\n",
       "\\item -0.0341380146808248\n",
       "\\item 0.75832148656799\n",
       "\\item 0.695046427531301\n",
       "\\end{enumerate*}\n"
      ],
      "text/markdown": [
       "1. 0.974145667396437\n",
       "2. 0.982391345487221\n",
       "3. 0.972821221950596\n",
       "4. -0.0341380146808248\n",
       "5. 0.75832148656799\n",
       "6. 0.695046427531301\n",
       "\n",
       "\n"
      ],
      "text/plain": [
       "[1]  0.97414567  0.98239135  0.97282122 -0.03413801  0.75832149  0.69504643"
      ]
     },
     "metadata": {},
     "output_type": "display_data"
    },
    {
     "data": {
      "text/html": [
       "2"
      ],
      "text/latex": [
       "2"
      ],
      "text/markdown": [
       "2"
      ],
      "text/plain": [
       "[1] 2"
      ]
     },
     "metadata": {},
     "output_type": "display_data"
    },
    {
     "data": {
      "text/html": [
       "<style>\n",
       ".list-inline {list-style: none; margin:0; padding: 0}\n",
       ".list-inline>li {display: inline-block}\n",
       ".list-inline>li:not(:last-child)::after {content: \"\\00b7\"; padding: 0 .5ex}\n",
       "</style>\n",
       "<ol class=list-inline><li>18.7343100451685</li><li>7.53299098543047</li><li>20.3229307706328</li><li>62.9128111879513</li><li>2.44195903051796</li><li>7.27034046102734</li></ol>\n"
      ],
      "text/latex": [
       "\\begin{enumerate*}\n",
       "\\item 18.7343100451685\n",
       "\\item 7.53299098543047\n",
       "\\item 20.3229307706328\n",
       "\\item 62.9128111879513\n",
       "\\item 2.44195903051796\n",
       "\\item 7.27034046102734\n",
       "\\end{enumerate*}\n"
      ],
      "text/markdown": [
       "1. 18.7343100451685\n",
       "2. 7.53299098543047\n",
       "3. 20.3229307706328\n",
       "4. 62.9128111879513\n",
       "5. 2.44195903051796\n",
       "6. 7.27034046102734\n",
       "\n",
       "\n"
      ],
      "text/plain": [
       "[1] 18.734310  7.532991 20.322931 62.912811  2.441959  7.270340"
      ]
     },
     "metadata": {},
     "output_type": "display_data"
    },
    {
     "data": {
      "text/html": [
       "5"
      ],
      "text/latex": [
       "5"
      ],
      "text/markdown": [
       "5"
      ],
      "text/plain": [
       "[1] 5"
      ]
     },
     "metadata": {},
     "output_type": "display_data"
    },
    {
     "data": {
      "text/html": [
       "<style>\n",
       ".list-inline {list-style: none; margin:0; padding: 0}\n",
       ".list-inline>li {display: inline-block}\n",
       ".list-inline>li:not(:last-child)::after {content: \"\\00b7\"; padding: 0 .5ex}\n",
       "</style>\n",
       "<ol class=list-inline><li>108.941406292677</li><li>100.340997166071</li><li>109.021915868824</li><li>126.539802741626</li><li>97.4655000104536</li><li>102.116523160922</li></ol>\n"
      ],
      "text/latex": [
       "\\begin{enumerate*}\n",
       "\\item 108.941406292677\n",
       "\\item 100.340997166071\n",
       "\\item 109.021915868824\n",
       "\\item 126.539802741626\n",
       "\\item 97.4655000104536\n",
       "\\item 102.116523160922\n",
       "\\end{enumerate*}\n"
      ],
      "text/markdown": [
       "1. 108.941406292677\n",
       "2. 100.340997166071\n",
       "3. 109.021915868824\n",
       "4. 126.539802741626\n",
       "5. 97.4655000104536\n",
       "6. 102.116523160922\n",
       "\n",
       "\n"
      ],
      "text/plain": [
       "[1] 108.9414 100.3410 109.0219 126.5398  97.4655 102.1165"
      ]
     },
     "metadata": {},
     "output_type": "display_data"
    },
    {
     "data": {
      "text/html": [
       "4"
      ],
      "text/latex": [
       "4"
      ],
      "text/markdown": [
       "4"
      ],
      "text/plain": [
       "[1] 4"
      ]
     },
     "metadata": {},
     "output_type": "display_data"
    }
   ],
   "source": [
    "# Mejor modelo con 2 coeficientes.\n",
    "\n",
    "modelo_1 <- lm(cmi ~ . - 1 - clic, data = masa_corporal)\n",
    "\n",
    "r2_adj_2_var <- summary(modelo_1)$adj.r.squared\n",
    "cp_2_var <- ols_mallows_cp(modelo_1, modelo_comp)\n",
    "AIC_2_var <- AIC(modelo_1)\n",
    "\n",
    "modelo_2 <- lm(cmi ~ . - 1 - leg - arm, data = masa_corporal)\n",
    "\n",
    "r2_adj_2_var <- c(r2_adj_2_var, summary(modelo_2)$adj.r.squared)\n",
    "cp_2_var <- c(cp_2_var, ols_mallows_cp(modelo_2, modelo_comp))\n",
    "AIC_2_var <- c(AIC_2_var, AIC(modelo_2))\n",
    "\n",
    "modelo_3 <- lm(cmi ~ . - 1 - arm - clic, data = masa_corporal)\n",
    "\n",
    "r2_adj_2_var <- c(r2_adj_2_var, summary(modelo_3)$adj.r.squared)\n",
    "cp_2_var <- c(cp_2_var, ols_mallows_cp(modelo_3, modelo_comp))\n",
    "AIC_2_var <- c(AIC_2_var, AIC(modelo_3))\n",
    "\n",
    "\n",
    "modelo_4 <- lm(cmi ~ . - clic - leg, data = masa_corporal)\n",
    "\n",
    "r2_adj_2_var <- c(r2_adj_2_var, summary(modelo_4)$adj.r.squared)\n",
    "cp_2_var <- c(cp_2_var, ols_mallows_cp(modelo_4, modelo_comp))\n",
    "AIC_2_var <- c(AIC_2_var, AIC(modelo_4))\n",
    "\n",
    "modelo_5 <- lm(cmi ~ . - clic - arm, data = masa_corporal)\n",
    "\n",
    "r2_adj_2_var <- c(r2_adj_2_var, summary(modelo_5)$adj.r.squared)\n",
    "cp_2_var <- c(cp_2_var, ols_mallows_cp(modelo_5, modelo_comp))\n",
    "AIC_2_var <- c(AIC_2_var, AIC(modelo_5))\n",
    "\n",
    "modelo_6 <- lm(cmi ~ . - leg - arm, data = masa_corporal)\n",
    "\n",
    "r2_adj_2_var <- c(r2_adj_2_var, summary(modelo_6)$adj.r.squared)\n",
    "cp_2_var <- c(cp_2_var, ols_mallows_cp(modelo_6, modelo_comp))\n",
    "AIC_2_var <- c(AIC_2_var, AIC(modelo_6))\n",
    "\n",
    "r2_adj_2_var\n",
    "which(r2_adj_2_var == max(r2_adj_2_var))\n",
    "\n",
    "cp_2_var\n",
    "which((cp_2_var - 2) == min(cp_2_var - 2))\n",
    "\n",
    "AIC_2_var\n",
    "which(AIC_2_var == max(AIC_2_var))"
   ]
  },
  {
   "cell_type": "code",
   "execution_count": 13,
   "id": "6ec4b6b3-f8e5-4381-9d71-52c90ee054cb",
   "metadata": {},
   "outputs": [
    {
     "data": {
      "text/html": [
       "<style>\n",
       ".list-inline {list-style: none; margin:0; padding: 0}\n",
       ".list-inline>li {display: inline-block}\n",
       ".list-inline>li:not(:last-child)::after {content: \"\\00b7\"; padding: 0 .5ex}\n",
       "</style>\n",
       "<ol class=list-inline><li>0</li><li>0.982391345487221</li><li>0.972821221950596</li><li>0.93240086336604</li></ol>\n"
      ],
      "text/latex": [
       "\\begin{enumerate*}\n",
       "\\item 0\n",
       "\\item 0.982391345487221\n",
       "\\item 0.972821221950596\n",
       "\\item 0.93240086336604\n",
       "\\end{enumerate*}\n"
      ],
      "text/markdown": [
       "1. 0\n",
       "2. 0.982391345487221\n",
       "3. 0.972821221950596\n",
       "4. 0.93240086336604\n",
       "\n",
       "\n"
      ],
      "text/plain": [
       "[1] 0.0000000 0.9823913 0.9728212 0.9324009"
      ]
     },
     "metadata": {},
     "output_type": "display_data"
    },
    {
     "data": {
      "text/html": [
       "2"
      ],
      "text/latex": [
       "2"
      ],
      "text/markdown": [
       "2"
      ],
      "text/plain": [
       "[1] 2"
      ]
     },
     "metadata": {},
     "output_type": "display_data"
    },
    {
     "data": {
      "text/html": [
       "<style>\n",
       ".list-inline {list-style: none; margin:0; padding: 0}\n",
       ".list-inline>li {display: inline-block}\n",
       ".list-inline>li:not(:last-child)::after {content: \"\\00b7\"; padding: 0 .5ex}\n",
       "</style>\n",
       "<ol class=list-inline><li>62.5471369115633</li><li>7.53299098543047</li><li>20.3229307706328</li><li>74.3425001538538</li></ol>\n"
      ],
      "text/latex": [
       "\\begin{enumerate*}\n",
       "\\item 62.5471369115633\n",
       "\\item 7.53299098543047\n",
       "\\item 20.3229307706328\n",
       "\\item 74.3425001538538\n",
       "\\end{enumerate*}\n"
      ],
      "text/markdown": [
       "1. 62.5471369115633\n",
       "2. 7.53299098543047\n",
       "3. 20.3229307706328\n",
       "4. 74.3425001538538\n",
       "\n",
       "\n"
      ],
      "text/plain": [
       "[1] 62.547137  7.532991 20.322931 74.342500"
      ]
     },
     "metadata": {},
     "output_type": "display_data"
    },
    {
     "data": {
      "text/html": [
       "2"
      ],
      "text/latex": [
       "2"
      ],
      "text/markdown": [
       "2"
      ],
      "text/plain": [
       "[1] 2"
      ]
     },
     "metadata": {},
     "output_type": "display_data"
    },
    {
     "data": {
      "text/html": [
       "<style>\n",
       ".list-inline {list-style: none; margin:0; padding: 0}\n",
       ".list-inline>li {display: inline-block}\n",
       ".list-inline>li:not(:last-child)::after {content: \"\\00b7\"; padding: 0 .5ex}\n",
       "</style>\n",
       "<ol class=list-inline><li>124.949782293841</li><li>100.340997166071</li><li>109.021915868824</li><li>127.245091094412</li></ol>\n"
      ],
      "text/latex": [
       "\\begin{enumerate*}\n",
       "\\item 124.949782293841\n",
       "\\item 100.340997166071\n",
       "\\item 109.021915868824\n",
       "\\item 127.245091094412\n",
       "\\end{enumerate*}\n"
      ],
      "text/markdown": [
       "1. 124.949782293841\n",
       "2. 100.340997166071\n",
       "3. 109.021915868824\n",
       "4. 127.245091094412\n",
       "\n",
       "\n"
      ],
      "text/plain": [
       "[1] 124.9498 100.3410 109.0219 127.2451"
      ]
     },
     "metadata": {},
     "output_type": "display_data"
    },
    {
     "data": {
      "text/html": [
       "4"
      ],
      "text/latex": [
       "4"
      ],
      "text/markdown": [
       "4"
      ],
      "text/plain": [
       "[1] 4"
      ]
     },
     "metadata": {},
     "output_type": "display_data"
    }
   ],
   "source": [
    "# Mejor modelo con 1 coeficiente.\n",
    "\n",
    "modelo_1 <- lm(cmi ~ 1, data = masa_corporal)\n",
    "\n",
    "r2_adj_1_var <- summary(modelo_1)$adj.r.squared\n",
    "cp_1_var <- ols_mallows_cp(modelo_1, modelo_comp)\n",
    "AIC_1_var <- AIC(modelo_1)\n",
    "\n",
    "modelo_2 <- lm(cmi ~ clic - 1, data = masa_corporal)\n",
    "\n",
    "r2_adj_1_var <- c(r2_adj_1_var, summary(modelo_2)$adj.r.squared)\n",
    "cp_1_var <- c(cp_1_var, ols_mallows_cp(modelo_2, modelo_comp))\n",
    "AIC_1_var <- c(AIC_1_var, AIC(modelo_2))\n",
    "\n",
    "modelo_3 <- lm(cmi ~ leg - 1, data = masa_corporal)\n",
    "\n",
    "r2_adj_1_var <- c(r2_adj_1_var, summary(modelo_3)$adj.r.squared)\n",
    "cp_1_var <- c(cp_1_var, ols_mallows_cp(modelo_3, modelo_comp))\n",
    "AIC_1_var <- c(AIC_1_var, AIC(modelo_3))\n",
    "\n",
    "\n",
    "modelo_4 <- lm(cmi ~ arm - 1, data = masa_corporal)\n",
    "\n",
    "r2_adj_1_var <- c(r2_adj_1_var, summary(modelo_4)$adj.r.squared)\n",
    "cp_1_var <- c(cp_1_var, ols_mallows_cp(modelo_4, modelo_comp))\n",
    "AIC_1_var <- c(AIC_1_var, AIC(modelo_4))\n",
    "\n",
    "r2_adj_1_var\n",
    "which(r2_adj_1_var == max(r2_adj_1_var))\n",
    "\n",
    "cp_1_var\n",
    "which((cp_1_var - 1) == min(cp_1_var - 1))\n",
    "\n",
    "AIC_1_var\n",
    "which(AIC_1_var == max(AIC_1_var))\n"
   ]
  },
  {
   "cell_type": "code",
   "execution_count": 14,
   "id": "e873a19f-7f55-4b4f-9c74-8738a348ecb8",
   "metadata": {},
   "outputs": [
    {
     "data": {
      "text/html": [
       "<style>\n",
       ".list-inline {list-style: none; margin:0; padding: 0}\n",
       ".list-inline>li {display: inline-block}\n",
       ".list-inline>li:not(:last-child)::after {content: \"\\00b7\"; padding: 0 .5ex}\n",
       "</style>\n",
       "<ol class=list-inline><li>0.985468005380718</li><li>2</li></ol>\n"
      ],
      "text/latex": [
       "\\begin{enumerate*}\n",
       "\\item 0.985468005380718\n",
       "\\item 2\n",
       "\\end{enumerate*}\n"
      ],
      "text/markdown": [
       "1. 0.985468005380718\n",
       "2. 2\n",
       "\n",
       "\n"
      ],
      "text/plain": [
       "[1] 0.985468 2.000000"
      ]
     },
     "metadata": {},
     "output_type": "display_data"
    },
    {
     "data": {
      "text/html": [
       "<style>\n",
       ".list-inline {list-style: none; margin:0; padding: 0}\n",
       ".list-inline>li {display: inline-block}\n",
       ".list-inline>li:not(:last-child)::after {content: \"\\00b7\"; padding: 0 .5ex}\n",
       "</style>\n",
       "<ol class=list-inline><li>3.22421201139471</li><li>3</li></ol>\n"
      ],
      "text/latex": [
       "\\begin{enumerate*}\n",
       "\\item 3.22421201139471\n",
       "\\item 3\n",
       "\\end{enumerate*}\n"
      ],
      "text/markdown": [
       "1. 3.22421201139471\n",
       "2. 3\n",
       "\n",
       "\n"
      ],
      "text/plain": [
       "[1] 3.224212 3.000000"
      ]
     },
     "metadata": {},
     "output_type": "display_data"
    },
    {
     "data": {
      "text/html": [
       "<style>\n",
       ".list-inline {list-style: none; margin:0; padding: 0}\n",
       ".list-inline>li {display: inline-block}\n",
       ".list-inline>li:not(:last-child)::after {content: \"\\00b7\"; padding: 0 .5ex}\n",
       "</style>\n",
       "<ol class=list-inline><li>127.245091094412</li><li>15</li></ol>\n"
      ],
      "text/latex": [
       "\\begin{enumerate*}\n",
       "\\item 127.245091094412\n",
       "\\item 15\n",
       "\\end{enumerate*}\n"
      ],
      "text/markdown": [
       "1. 127.245091094412\n",
       "2. 15\n",
       "\n",
       "\n"
      ],
      "text/plain": [
       "[1] 127.2451  15.0000"
      ]
     },
     "metadata": {},
     "output_type": "display_data"
    }
   ],
   "source": [
    "# Mejor modelo de todos.\n",
    "\n",
    "r2_adj <- c(r2_adj_4_var,\n",
    "            r2_adj_3_var,\n",
    "            r2_adj_2_var,\n",
    "            r2_adj_1_var)\n",
    "\n",
    "r2_adj_val <- max(r2_adj)\n",
    "r2_adj_index <- which(r2_adj == r2_adj_val)\n",
    "c(r2_adj_val, r2_adj_index)\n",
    "\n",
    "cp <- c(cp_3_var,\n",
    "        cp_2_var,\n",
    "        cp_1_var)\n",
    "\n",
    "cp_index <- which(cp - c(3, 3, 3, 3,\n",
    "                         2, 2, 2, 2, 2, 2,\n",
    "                         1, 1, 1, 1)\n",
    "                  == min(cp - c(3, 3, 3, 3,\n",
    "                                2, 2, 2, 2, 2, 2,\n",
    "                                1, 1, 1, 1)))\n",
    "cp_val <- cp[cp_index]\n",
    "c(cp_val, cp_index)\n",
    "\n",
    "\n",
    "AIC <- c(AIC_4_var,\n",
    "         AIC_3_var,\n",
    "         AIC_2_var,\n",
    "         AIC_1_var)\n",
    "\n",
    "AIC_val <- max(AIC)\n",
    "AIC_index <- which(AIC == AIC_val)\n",
    "c(AIC_val, AIC_index)\n",
    "\n"
   ]
  },
  {
   "cell_type": "markdown",
   "id": "0487b0e6-d543-4099-9477-d48ef5c3c563",
   "metadata": {},
   "source": [
    "Al comparar todas las posibles combinaciones de variables con y sin intercepto, hallamos lo siguiente:\n",
    "\n",
    "* Por $R^{2}_{\\text{adj}}$, se recomienda el modelo sin variables, con intercepto. Es decir, el estimador preferido es la media de la variable de respuesta.\n",
    "\n",
    "* Por $C_p$, se recomiende el modelo completo, sin medida de pierna.\n",
    "\n",
    "* Por AIC, se recomiendo el modelo únicamente en función del brazo y sin intercepto."
   ]
  },
  {
   "cell_type": "markdown",
   "id": "eb1150ea",
   "metadata": {},
   "source": [
    "### Problema 3. Problemas de especificación y selección de modelos."
   ]
  },
  {
   "cell_type": "markdown",
   "id": "5ad2f7cc",
   "metadata": {},
   "source": [
    "Lo primero que se hace es plantear el modelo, de entrada no se incluyen las varibales \"county\" y \"State\", pues se decide incluir la variable \"Geographic region\" que está discretizada en 4 categorías y si incluimos más de una de estas variables estaríamos teniendo información redundante."
   ]
  },
  {
   "cell_type": "code",
   "execution_count": 67,
   "id": "ccb39072",
   "metadata": {},
   "outputs": [
    {
     "data": {
      "text/html": [
       "<table class=\"dataframe\">\n",
       "<caption>A data.frame: 6 × 17</caption>\n",
       "<thead>\n",
       "\t<tr><th></th><th scope=col>No.</th><th scope=col>Estado</th><th scope=col>Sigla</th><th scope=col>Area</th><th scope=col>Poblacion</th><th scope=col>Per18a34</th><th scope=col>PerMayor65</th><th scope=col>MedicosActivos</th><th scope=col>Camas</th><th scope=col>CrimenesTotales</th><th scope=col>PerBachilleres</th><th scope=col>PerProfesionales</th><th scope=col>PerPoblDebajoNivelPobreza</th><th scope=col>PerDesempleados</th><th scope=col>IndicePerCapita</th><th scope=col>Ingresos</th><th scope=col>RegionGeo</th></tr>\n",
       "\t<tr><th></th><th scope=col>&lt;int&gt;</th><th scope=col>&lt;chr&gt;</th><th scope=col>&lt;chr&gt;</th><th scope=col>&lt;int&gt;</th><th scope=col>&lt;int&gt;</th><th scope=col>&lt;dbl&gt;</th><th scope=col>&lt;dbl&gt;</th><th scope=col>&lt;int&gt;</th><th scope=col>&lt;int&gt;</th><th scope=col>&lt;int&gt;</th><th scope=col>&lt;dbl&gt;</th><th scope=col>&lt;dbl&gt;</th><th scope=col>&lt;dbl&gt;</th><th scope=col>&lt;dbl&gt;</th><th scope=col>&lt;int&gt;</th><th scope=col>&lt;int&gt;</th><th scope=col>&lt;int&gt;</th></tr>\n",
       "</thead>\n",
       "<tbody>\n",
       "\t<tr><th scope=row>1</th><td>1</td><td>Los_Angeles</td><td>CA</td><td>4060</td><td>8863164</td><td>32.1</td><td> 9.7</td><td>23677</td><td>27700</td><td>688936</td><td>70.0</td><td>22.3</td><td>11.6</td><td>8.0</td><td>20786</td><td>184230</td><td>4</td></tr>\n",
       "\t<tr><th scope=row>2</th><td>2</td><td>Cook       </td><td>IL</td><td> 946</td><td>5105067</td><td>29.2</td><td>12.4</td><td>15153</td><td>21550</td><td>436936</td><td>73.4</td><td>22.8</td><td>11.1</td><td>7.2</td><td>21729</td><td>110928</td><td>2</td></tr>\n",
       "\t<tr><th scope=row>3</th><td>3</td><td>Harris     </td><td>TX</td><td>1729</td><td>2818199</td><td>31.3</td><td> 7.1</td><td> 7553</td><td>12449</td><td>253526</td><td>74.9</td><td>25.4</td><td>12.5</td><td>5.7</td><td>19517</td><td> 55003</td><td>3</td></tr>\n",
       "\t<tr><th scope=row>4</th><td>4</td><td>San_Diego  </td><td>CA</td><td>4205</td><td>2498016</td><td>33.5</td><td>10.9</td><td> 5905</td><td> 6179</td><td>173821</td><td>81.9</td><td>25.3</td><td> 8.1</td><td>6.1</td><td>19588</td><td> 48931</td><td>4</td></tr>\n",
       "\t<tr><th scope=row>5</th><td>5</td><td>Orange     </td><td>CA</td><td> 790</td><td>2410556</td><td>32.6</td><td> 9.2</td><td> 6062</td><td> 6369</td><td>144524</td><td>81.2</td><td>27.8</td><td> 5.2</td><td>4.8</td><td>24400</td><td> 58818</td><td>4</td></tr>\n",
       "\t<tr><th scope=row>6</th><td>6</td><td>Kings      </td><td>NY</td><td>  71</td><td>2300664</td><td>28.3</td><td>12.4</td><td> 4861</td><td> 8942</td><td>680966</td><td>63.7</td><td>16.6</td><td>19.5</td><td>9.5</td><td>16803</td><td> 38658</td><td>1</td></tr>\n",
       "</tbody>\n",
       "</table>\n"
      ],
      "text/latex": [
       "A data.frame: 6 × 17\n",
       "\\begin{tabular}{r|lllllllllllllllll}\n",
       "  & No. & Estado & Sigla & Area & Poblacion & Per18a34 & PerMayor65 & MedicosActivos & Camas & CrimenesTotales & PerBachilleres & PerProfesionales & PerPoblDebajoNivelPobreza & PerDesempleados & IndicePerCapita & Ingresos & RegionGeo\\\\\n",
       "  & <int> & <chr> & <chr> & <int> & <int> & <dbl> & <dbl> & <int> & <int> & <int> & <dbl> & <dbl> & <dbl> & <dbl> & <int> & <int> & <int>\\\\\n",
       "\\hline\n",
       "\t1 & 1 & Los\\_Angeles & CA & 4060 & 8863164 & 32.1 &  9.7 & 23677 & 27700 & 688936 & 70.0 & 22.3 & 11.6 & 8.0 & 20786 & 184230 & 4\\\\\n",
       "\t2 & 2 & Cook        & IL &  946 & 5105067 & 29.2 & 12.4 & 15153 & 21550 & 436936 & 73.4 & 22.8 & 11.1 & 7.2 & 21729 & 110928 & 2\\\\\n",
       "\t3 & 3 & Harris      & TX & 1729 & 2818199 & 31.3 &  7.1 &  7553 & 12449 & 253526 & 74.9 & 25.4 & 12.5 & 5.7 & 19517 &  55003 & 3\\\\\n",
       "\t4 & 4 & San\\_Diego   & CA & 4205 & 2498016 & 33.5 & 10.9 &  5905 &  6179 & 173821 & 81.9 & 25.3 &  8.1 & 6.1 & 19588 &  48931 & 4\\\\\n",
       "\t5 & 5 & Orange      & CA &  790 & 2410556 & 32.6 &  9.2 &  6062 &  6369 & 144524 & 81.2 & 27.8 &  5.2 & 4.8 & 24400 &  58818 & 4\\\\\n",
       "\t6 & 6 & Kings       & NY &   71 & 2300664 & 28.3 & 12.4 &  4861 &  8942 & 680966 & 63.7 & 16.6 & 19.5 & 9.5 & 16803 &  38658 & 1\\\\\n",
       "\\end{tabular}\n"
      ],
      "text/markdown": [
       "\n",
       "A data.frame: 6 × 17\n",
       "\n",
       "| <!--/--> | No. &lt;int&gt; | Estado &lt;chr&gt; | Sigla &lt;chr&gt; | Area &lt;int&gt; | Poblacion &lt;int&gt; | Per18a34 &lt;dbl&gt; | PerMayor65 &lt;dbl&gt; | MedicosActivos &lt;int&gt; | Camas &lt;int&gt; | CrimenesTotales &lt;int&gt; | PerBachilleres &lt;dbl&gt; | PerProfesionales &lt;dbl&gt; | PerPoblDebajoNivelPobreza &lt;dbl&gt; | PerDesempleados &lt;dbl&gt; | IndicePerCapita &lt;int&gt; | Ingresos &lt;int&gt; | RegionGeo &lt;int&gt; |\n",
       "|---|---|---|---|---|---|---|---|---|---|---|---|---|---|---|---|---|---|\n",
       "| 1 | 1 | Los_Angeles | CA | 4060 | 8863164 | 32.1 |  9.7 | 23677 | 27700 | 688936 | 70.0 | 22.3 | 11.6 | 8.0 | 20786 | 184230 | 4 |\n",
       "| 2 | 2 | Cook        | IL |  946 | 5105067 | 29.2 | 12.4 | 15153 | 21550 | 436936 | 73.4 | 22.8 | 11.1 | 7.2 | 21729 | 110928 | 2 |\n",
       "| 3 | 3 | Harris      | TX | 1729 | 2818199 | 31.3 |  7.1 |  7553 | 12449 | 253526 | 74.9 | 25.4 | 12.5 | 5.7 | 19517 |  55003 | 3 |\n",
       "| 4 | 4 | San_Diego   | CA | 4205 | 2498016 | 33.5 | 10.9 |  5905 |  6179 | 173821 | 81.9 | 25.3 |  8.1 | 6.1 | 19588 |  48931 | 4 |\n",
       "| 5 | 5 | Orange      | CA |  790 | 2410556 | 32.6 |  9.2 |  6062 |  6369 | 144524 | 81.2 | 27.8 |  5.2 | 4.8 | 24400 |  58818 | 4 |\n",
       "| 6 | 6 | Kings       | NY |   71 | 2300664 | 28.3 | 12.4 |  4861 |  8942 | 680966 | 63.7 | 16.6 | 19.5 | 9.5 | 16803 |  38658 | 1 |\n",
       "\n"
      ],
      "text/plain": [
       "  No. Estado      Sigla Area Poblacion Per18a34 PerMayor65 MedicosActivos Camas\n",
       "1 1   Los_Angeles CA    4060 8863164   32.1      9.7       23677          27700\n",
       "2 2   Cook        IL     946 5105067   29.2     12.4       15153          21550\n",
       "3 3   Harris      TX    1729 2818199   31.3      7.1        7553          12449\n",
       "4 4   San_Diego   CA    4205 2498016   33.5     10.9        5905           6179\n",
       "5 5   Orange      CA     790 2410556   32.6      9.2        6062           6369\n",
       "6 6   Kings       NY      71 2300664   28.3     12.4        4861           8942\n",
       "  CrimenesTotales PerBachilleres PerProfesionales PerPoblDebajoNivelPobreza\n",
       "1 688936          70.0           22.3             11.6                     \n",
       "2 436936          73.4           22.8             11.1                     \n",
       "3 253526          74.9           25.4             12.5                     \n",
       "4 173821          81.9           25.3              8.1                     \n",
       "5 144524          81.2           27.8              5.2                     \n",
       "6 680966          63.7           16.6             19.5                     \n",
       "  PerDesempleados IndicePerCapita Ingresos RegionGeo\n",
       "1 8.0             20786           184230   4        \n",
       "2 7.2             21729           110928   2        \n",
       "3 5.7             19517            55003   3        \n",
       "4 6.1             19588            48931   4        \n",
       "5 4.8             24400            58818   4        \n",
       "6 9.5             16803            38658   1        "
      ]
     },
     "metadata": {},
     "output_type": "display_data"
    },
    {
     "data": {
      "text/plain": [
       "\n",
       "Call:\n",
       "lm(formula = y ~ x1 + x2 + x3 + x4 + x5 + x6 + x7 + x8 + x9 + \n",
       "    x10 + x11 + x12 + x_NE + x_NC + x_S)\n",
       "\n",
       "Residuals:\n",
       "   Min     1Q Median     3Q    Max \n",
       "-75514  -5991    237   5167 406705 \n",
       "\n",
       "Coefficients:\n",
       "              Estimate Std. Error t value Pr(>|t|)    \n",
       "(Intercept) -4.464e+04  3.721e+04  -1.200 0.230918    \n",
       "x1          -3.156e+00  9.069e-01  -3.480 0.000554 ***\n",
       "x2           2.336e-01  2.037e-02  11.464  < 2e-16 ***\n",
       "x3           2.239e+02  4.262e+02   0.525 0.599691    \n",
       "x4           1.032e+01  3.867e+02   0.027 0.978717    \n",
       "x5          -5.381e+00  3.199e+00  -1.682 0.093266 .  \n",
       "x6           3.603e+00  2.318e+00   1.554 0.120878    \n",
       "x7          -2.459e+02  3.532e+02  -0.696 0.486664    \n",
       "x8           1.146e+02  3.875e+02   0.296 0.767539    \n",
       "x9           1.162e+03  4.907e+02   2.368 0.018353 *  \n",
       "x10         -2.154e+02  6.845e+02  -0.315 0.753115    \n",
       "x11          2.323e+00  7.024e-01   3.307 0.001025 ** \n",
       "x12         -7.042e+00  9.494e-01  -7.417 6.57e-13 ***\n",
       "x_NE        -4.403e+03  4.420e+03  -0.996 0.319821    \n",
       "x_NC        -4.571e+03  4.208e+03  -1.086 0.277957    \n",
       "x_S         -2.347e+03  4.140e+03  -0.567 0.570979    \n",
       "---\n",
       "Signif. codes:  0 '***' 0.001 '**' 0.01 '*' 0.05 '.' 0.1 ' ' 1\n",
       "\n",
       "Residual standard error: 23410 on 424 degrees of freedom\n",
       "Multiple R-squared:  0.8439,\tAdjusted R-squared:  0.8384 \n",
       "F-statistic: 152.8 on 15 and 424 DF,  p-value: < 2.2e-16\n"
      ]
     },
     "metadata": {},
     "output_type": "display_data"
    }
   ],
   "source": [
    "library(readr)\n",
    "library(MASS)\n",
    "library(car)\n",
    "library(leaps)\n",
    "library(lmtest)\n",
    "\n",
    "crimenes <- read.table(\"Archivos/punto3.txt\", head = TRUE)\n",
    "head(crimenes)\n",
    "y <- crimenes$CrimenesTotales\n",
    "x1 <- crimenes$Area\n",
    "x2 <- crimenes$Poblacion\n",
    "x3 <- crimenes$Per18a34\n",
    "x4 <- crimenes$PerMayor65\n",
    "x5 <- crimenes$MedicosActivos\n",
    "x6 <- crimenes$Camas\n",
    "x7 <- crimenes$PerBachilleres\n",
    "x8 <- crimenes$PerProfesionales\n",
    "x9 <- crimenes$PerPoblDebajoNivelPobreza\n",
    "x10 <- crimenes$PerDesempleados\n",
    "x11 <- crimenes$IndicePerCapita\n",
    "x12 <- crimenes$Ingresos\n",
    "\n",
    "x_NE <- ifelse(crimenes$RegionGeo == 1,1,0)\n",
    "x_NC <- ifelse(crimenes$RegionGeo == 2,1,0)\n",
    "x_S <- ifelse(crimenes$RegionGeo == 3,1,0)\n",
    "x_w <- ifelse(crimenes$RegionGeo == 4,1,0)\n",
    "\n",
    "crimenes2 <- cbind(crimenes[,4:16],x_NE,x_NC,x_S)\n",
    "colnames(crimenes2)<- c(\"x1\", \"x2\", \"x3\", \"x4\",\"x5\", \"x6\", \"y\", \"x7\", \"x8\", \"x9\", \n",
    "                        \"x10\",\"x11\", \"x12\", \"x_NE\", \"x_NC\", \"x_S\")\n",
    "\n",
    "modelopunto3 <- lm(y~x1+x2+x3+x4+x5+x6+x7+x8+x9+x10+x11+x12+x_NE+x_NC+x_S)\n",
    "summary(modelopunto3)\n"
   ]
  },
  {
   "cell_type": "markdown",
   "id": "6a2b5243",
   "metadata": {},
   "source": [
    "Ahora se van a correr todos los modelos para determinar cuál es el mejor en términos de $R^2_{ajustado}$. Previamente se hizo para todas las variables con todas las interacciones pero se llegó a la conclusión de que la unica variable categórica que debía estar en el modelo era x_NE, es decir si la región geográfica = 1. Teniendo en cuenta esto, se busca todos los modelos posibles por el método exaustivo para cada variable del modelo y la interacción de x_NE con todas las variables continuas. "
   ]
  },
  {
   "cell_type": "code",
   "execution_count": 68,
   "id": "381af993",
   "metadata": {},
   "outputs": [
    {
     "data": {
      "text/plain": [
       "Subset selection object\n",
       "Call: regsubsets.formula(y ~ (x1 + x2 + x3 + x4 + x5 + x6 + x7 + x8 + \n",
       "    x9 + x10 + x11 + x12) * x_NE + (x_NC + x_S), data = crimenes, \n",
       "    nbest = 1, nvmax = NULL, method = \"exhaustive\", really.big = TRUE)\n",
       "27 Variables  (and intercept)\n",
       "         Forced in Forced out\n",
       "x1           FALSE      FALSE\n",
       "x2           FALSE      FALSE\n",
       "x3           FALSE      FALSE\n",
       "x4           FALSE      FALSE\n",
       "x5           FALSE      FALSE\n",
       "x6           FALSE      FALSE\n",
       "x7           FALSE      FALSE\n",
       "x8           FALSE      FALSE\n",
       "x9           FALSE      FALSE\n",
       "x10          FALSE      FALSE\n",
       "x11          FALSE      FALSE\n",
       "x12          FALSE      FALSE\n",
       "x_NE         FALSE      FALSE\n",
       "x_NC         FALSE      FALSE\n",
       "x_S          FALSE      FALSE\n",
       "x1:x_NE      FALSE      FALSE\n",
       "x2:x_NE      FALSE      FALSE\n",
       "x3:x_NE      FALSE      FALSE\n",
       "x4:x_NE      FALSE      FALSE\n",
       "x5:x_NE      FALSE      FALSE\n",
       "x6:x_NE      FALSE      FALSE\n",
       "x7:x_NE      FALSE      FALSE\n",
       "x8:x_NE      FALSE      FALSE\n",
       "x9:x_NE      FALSE      FALSE\n",
       "x10:x_NE     FALSE      FALSE\n",
       "x11:x_NE     FALSE      FALSE\n",
       "x12:x_NE     FALSE      FALSE\n",
       "1 subsets of each size up to 27\n",
       "Selection Algorithm: exhaustive\n",
       "          x1  x2  x3  x4  x5  x6  x7  x8  x9  x10 x11 x12 x_NE x_NC x_S x1:x_NE\n",
       "1  ( 1 )  \" \" \"*\" \" \" \" \" \" \" \" \" \" \" \" \" \" \" \" \" \" \" \" \" \" \"  \" \"  \" \" \" \"    \n",
       "2  ( 1 )  \" \" \"*\" \" \" \" \" \" \" \" \" \" \" \" \" \" \" \" \" \" \" \"*\" \" \"  \" \"  \" \" \" \"    \n",
       "3  ( 1 )  \" \" \"*\" \" \" \" \" \" \" \" \" \" \" \" \" \" \" \" \" \" \" \" \" \" \"  \" \"  \" \" \" \"    \n",
       "4  ( 1 )  \" \" \"*\" \" \" \" \" \" \" \" \" \" \" \" \" \" \" \" \" \" \" \" \" \" \"  \" \"  \" \" \" \"    \n",
       "5  ( 1 )  \" \" \"*\" \" \" \" \" \" \" \" \" \" \" \" \" \" \" \" \" \" \" \" \" \" \"  \" \"  \" \" \" \"    \n",
       "6  ( 1 )  \" \" \"*\" \" \" \" \" \" \" \" \" \" \" \" \" \" \" \" \" \" \" \"*\" \" \"  \" \"  \" \" \" \"    \n",
       "7  ( 1 )  \" \" \"*\" \" \" \" \" \" \" \" \" \" \" \" \" \" \" \" \" \" \" \" \" \"*\"  \" \"  \" \" \" \"    \n",
       "8  ( 1 )  \" \" \"*\" \" \" \" \" \" \" \"*\" \" \" \" \" \" \" \" \" \" \" \" \" \"*\"  \" \"  \" \" \" \"    \n",
       "9  ( 1 )  \" \" \"*\" \" \" \" \" \" \" \"*\" \" \" \" \" \" \" \" \" \" \" \"*\" \"*\"  \" \"  \" \" \" \"    \n",
       "10  ( 1 ) \" \" \"*\" \" \" \" \" \" \" \"*\" \" \" \" \" \" \" \" \" \" \" \"*\" \"*\"  \" \"  \" \" \" \"    \n",
       "11  ( 1 ) \" \" \"*\" \" \" \" \" \" \" \"*\" \" \" \" \" \" \" \" \" \" \" \"*\" \"*\"  \" \"  \" \" \"*\"    \n",
       "12  ( 1 ) \" \" \"*\" \" \" \" \" \" \" \"*\" \" \" \" \" \" \" \" \" \" \" \"*\" \"*\"  \" \"  \" \" \"*\"    \n",
       "13  ( 1 ) \" \" \"*\" \" \" \" \" \" \" \"*\" \" \" \" \" \" \" \" \" \" \" \"*\" \"*\"  \" \"  \"*\" \"*\"    \n",
       "14  ( 1 ) \"*\" \"*\" \" \" \" \" \" \" \"*\" \" \" \" \" \" \" \" \" \" \" \"*\" \"*\"  \"*\"  \" \" \"*\"    \n",
       "15  ( 1 ) \"*\" \"*\" \" \" \" \" \" \" \"*\" \" \" \" \" \" \" \" \" \" \" \"*\" \"*\"  \"*\"  \" \" \"*\"    \n",
       "16  ( 1 ) \"*\" \"*\" \" \" \" \" \" \" \"*\" \" \" \" \" \" \" \" \" \"*\" \"*\" \"*\"  \"*\"  \" \" \"*\"    \n",
       "17  ( 1 ) \"*\" \"*\" \"*\" \" \" \" \" \"*\" \" \" \" \" \" \" \" \" \"*\" \"*\" \"*\"  \"*\"  \" \" \"*\"    \n",
       "18  ( 1 ) \"*\" \"*\" \"*\" \" \" \" \" \"*\" \" \" \" \" \" \" \"*\" \"*\" \"*\" \"*\"  \"*\"  \" \" \"*\"    \n",
       "19  ( 1 ) \"*\" \"*\" \" \" \" \" \" \" \"*\" \" \" \" \" \" \" \" \" \"*\" \"*\" \"*\"  \"*\"  \" \" \"*\"    \n",
       "20  ( 1 ) \"*\" \"*\" \" \" \" \" \" \" \"*\" \" \" \"*\" \" \" \"*\" \" \" \"*\" \"*\"  \"*\"  \" \" \"*\"    \n",
       "21  ( 1 ) \"*\" \"*\" \"*\" \" \" \" \" \"*\" \" \" \" \" \" \" \"*\" \"*\" \"*\" \"*\"  \"*\"  \" \" \"*\"    \n",
       "22  ( 1 ) \"*\" \"*\" \"*\" \" \" \" \" \"*\" \" \" \" \" \" \" \"*\" \"*\" \"*\" \"*\"  \"*\"  \"*\" \"*\"    \n",
       "23  ( 1 ) \"*\" \"*\" \"*\" \" \" \"*\" \"*\" \" \" \" \" \" \" \"*\" \"*\" \"*\" \"*\"  \"*\"  \"*\" \"*\"    \n",
       "24  ( 1 ) \"*\" \"*\" \"*\" \" \" \"*\" \"*\" \" \" \"*\" \" \" \"*\" \"*\" \"*\" \"*\"  \"*\"  \"*\" \"*\"    \n",
       "25  ( 1 ) \"*\" \"*\" \"*\" \"*\" \"*\" \"*\" \" \" \"*\" \" \" \"*\" \"*\" \"*\" \"*\"  \"*\"  \"*\" \"*\"    \n",
       "26  ( 1 ) \"*\" \"*\" \"*\" \"*\" \"*\" \"*\" \"*\" \"*\" \" \" \"*\" \"*\" \"*\" \"*\"  \"*\"  \"*\" \"*\"    \n",
       "27  ( 1 ) \"*\" \"*\" \"*\" \"*\" \"*\" \"*\" \"*\" \"*\" \"*\" \"*\" \"*\" \"*\" \"*\"  \"*\"  \"*\" \"*\"    \n",
       "          x2:x_NE x3:x_NE x4:x_NE x5:x_NE x6:x_NE x7:x_NE x8:x_NE x9:x_NE\n",
       "1  ( 1 )  \" \"     \" \"     \" \"     \" \"     \" \"     \" \"     \" \"     \" \"    \n",
       "2  ( 1 )  \" \"     \" \"     \" \"     \" \"     \" \"     \" \"     \" \"     \" \"    \n",
       "3  ( 1 )  \"*\"     \" \"     \" \"     \" \"     \" \"     \" \"     \" \"     \" \"    \n",
       "4  ( 1 )  \"*\"     \" \"     \"*\"     \" \"     \" \"     \" \"     \" \"     \" \"    \n",
       "5  ( 1 )  \"*\"     \" \"     \"*\"     \"*\"     \" \"     \" \"     \" \"     \"*\"    \n",
       "6  ( 1 )  \"*\"     \" \"     \"*\"     \"*\"     \" \"     \" \"     \" \"     \"*\"    \n",
       "7  ( 1 )  \"*\"     \" \"     \" \"     \" \"     \"*\"     \" \"     \" \"     \"*\"    \n",
       "8  ( 1 )  \"*\"     \" \"     \" \"     \" \"     \"*\"     \" \"     \" \"     \"*\"    \n",
       "9  ( 1 )  \"*\"     \" \"     \" \"     \" \"     \"*\"     \" \"     \" \"     \"*\"    \n",
       "10  ( 1 ) \"*\"     \" \"     \"*\"     \" \"     \"*\"     \" \"     \" \"     \"*\"    \n",
       "11  ( 1 ) \"*\"     \" \"     \"*\"     \" \"     \"*\"     \" \"     \" \"     \"*\"    \n",
       "12  ( 1 ) \"*\"     \" \"     \"*\"     \" \"     \"*\"     \" \"     \" \"     \"*\"    \n",
       "13  ( 1 ) \"*\"     \" \"     \"*\"     \" \"     \"*\"     \" \"     \" \"     \"*\"    \n",
       "14  ( 1 ) \"*\"     \" \"     \"*\"     \" \"     \"*\"     \" \"     \" \"     \"*\"    \n",
       "15  ( 1 ) \"*\"     \" \"     \"*\"     \"*\"     \"*\"     \" \"     \" \"     \"*\"    \n",
       "16  ( 1 ) \"*\"     \" \"     \"*\"     \"*\"     \"*\"     \" \"     \" \"     \"*\"    \n",
       "17  ( 1 ) \"*\"     \" \"     \"*\"     \"*\"     \"*\"     \" \"     \" \"     \"*\"    \n",
       "18  ( 1 ) \"*\"     \" \"     \"*\"     \"*\"     \"*\"     \" \"     \" \"     \"*\"    \n",
       "19  ( 1 ) \"*\"     \"*\"     \"*\"     \"*\"     \"*\"     \"*\"     \"*\"     \"*\"    \n",
       "20  ( 1 ) \"*\"     \"*\"     \"*\"     \"*\"     \"*\"     \"*\"     \"*\"     \"*\"    \n",
       "21  ( 1 ) \"*\"     \"*\"     \"*\"     \"*\"     \"*\"     \"*\"     \"*\"     \"*\"    \n",
       "22  ( 1 ) \"*\"     \"*\"     \"*\"     \"*\"     \"*\"     \"*\"     \"*\"     \"*\"    \n",
       "23  ( 1 ) \"*\"     \"*\"     \"*\"     \"*\"     \"*\"     \"*\"     \"*\"     \"*\"    \n",
       "24  ( 1 ) \"*\"     \"*\"     \"*\"     \"*\"     \"*\"     \"*\"     \"*\"     \"*\"    \n",
       "25  ( 1 ) \"*\"     \"*\"     \"*\"     \"*\"     \"*\"     \"*\"     \"*\"     \"*\"    \n",
       "26  ( 1 ) \"*\"     \"*\"     \"*\"     \"*\"     \"*\"     \"*\"     \"*\"     \"*\"    \n",
       "27  ( 1 ) \"*\"     \"*\"     \"*\"     \"*\"     \"*\"     \"*\"     \"*\"     \"*\"    \n",
       "          x10:x_NE x11:x_NE x12:x_NE\n",
       "1  ( 1 )  \" \"      \" \"      \" \"     \n",
       "2  ( 1 )  \" \"      \" \"      \" \"     \n",
       "3  ( 1 )  \" \"      \" \"      \"*\"     \n",
       "4  ( 1 )  \" \"      \" \"      \"*\"     \n",
       "5  ( 1 )  \" \"      \" \"      \" \"     \n",
       "6  ( 1 )  \" \"      \" \"      \" \"     \n",
       "7  ( 1 )  \" \"      \"*\"      \"*\"     \n",
       "8  ( 1 )  \" \"      \"*\"      \"*\"     \n",
       "9  ( 1 )  \" \"      \"*\"      \"*\"     \n",
       "10  ( 1 ) \" \"      \"*\"      \"*\"     \n",
       "11  ( 1 ) \" \"      \"*\"      \"*\"     \n",
       "12  ( 1 ) \"*\"      \"*\"      \"*\"     \n",
       "13  ( 1 ) \"*\"      \"*\"      \"*\"     \n",
       "14  ( 1 ) \"*\"      \"*\"      \"*\"     \n",
       "15  ( 1 ) \"*\"      \"*\"      \"*\"     \n",
       "16  ( 1 ) \"*\"      \"*\"      \"*\"     \n",
       "17  ( 1 ) \"*\"      \"*\"      \"*\"     \n",
       "18  ( 1 ) \"*\"      \"*\"      \"*\"     \n",
       "19  ( 1 ) \"*\"      \"*\"      \"*\"     \n",
       "20  ( 1 ) \"*\"      \"*\"      \"*\"     \n",
       "21  ( 1 ) \"*\"      \"*\"      \"*\"     \n",
       "22  ( 1 ) \"*\"      \"*\"      \"*\"     \n",
       "23  ( 1 ) \"*\"      \"*\"      \"*\"     \n",
       "24  ( 1 ) \"*\"      \"*\"      \"*\"     \n",
       "25  ( 1 ) \"*\"      \"*\"      \"*\"     \n",
       "26  ( 1 ) \"*\"      \"*\"      \"*\"     \n",
       "27  ( 1 ) \"*\"      \"*\"      \"*\"     "
      ]
     },
     "metadata": {},
     "output_type": "display_data"
    },
    {
     "data": {
      "text/html": [
       "16"
      ],
      "text/latex": [
       "16"
      ],
      "text/markdown": [
       "16"
      ],
      "text/plain": [
       "[1] 16"
      ]
     },
     "metadata": {},
     "output_type": "display_data"
    },
    {
     "data": {
      "image/png": "[encoded data removed]",
      "text/plain": [
       "plot without title"
      ]
     },
     "metadata": {
      "image/png": {
       "height": 420,
       "width": 420
      }
     },
     "output_type": "display_data"
    }
   ],
   "source": [
    "modelos <-\n",
    "    regsubsets(y~(x1+x2+x3+x4+x5+x6+x7+x8+x9+x10+x11+x12)*x_NE+(x_NC+x_S),\n",
    "               data = crimenes,\n",
    "               nbest = 1,      \n",
    "               nvmax = NULL,    \n",
    "               method = \"exhaustive\",\n",
    "               really.big=TRUE)\n",
    "summary(modelos)\n",
    "plot(summary(modelos)$adjr2)\n",
    "which.max(summary(modelos)$adjr2)"
   ]
  },
  {
   "cell_type": "markdown",
   "id": "4c53ae38",
   "metadata": {},
   "source": [
    "Como se puede observar el mejor modelo es un modelo con 16 variables. Las cuales son: x1, x2, x6, x11, x12, x_NE, x_NC y las interacciones de NE con x1, x2, x4, x5, x6, x9, x10, x11 y x12. Ahora bien, dado que necesitamos la variable desempleo (x10) para hacer inferencias esa variable se deja. A continuación se muestra el nuevo modelo:"
   ]
  },
  {
   "cell_type": "code",
   "execution_count": 69,
   "id": "39621089",
   "metadata": {
    "scrolled": true
   },
   "outputs": [
    {
     "data": {
      "text/plain": [
       "\n",
       "Call:\n",
       "lm(formula = y ~ x1 + x2 + x6 + x10 + x11 + x12 + x_NE + x_NC + \n",
       "    x1_NE + x2_NE + x4_NE + x5_NE + x6_NE + x9_NE + x10_NE + \n",
       "    x11_NE + x12_NE)\n",
       "\n",
       "Residuals:\n",
       "   Min     1Q Median     3Q    Max \n",
       "-87177  -4123     58   4283 195265 \n",
       "\n",
       "Coefficients:\n",
       "              Estimate Std. Error t value Pr(>|t|)    \n",
       "(Intercept) -1.425e+04  8.350e+03  -1.706 0.088685 .  \n",
       "x1          -1.083e+00  6.506e-01  -1.665 0.096648 .  \n",
       "x2           1.277e-01  1.833e-02   6.967 1.25e-11 ***\n",
       "x6           5.947e+00  1.168e+00   5.090 5.39e-07 ***\n",
       "x10          3.246e+02  4.342e+02   0.748 0.455177    \n",
       "x11          5.130e-01  3.919e-01   1.309 0.191281    \n",
       "x12         -3.181e+00  8.158e-01  -3.899 0.000112 ***\n",
       "x_NE        -1.118e+05  2.666e+04  -4.193 3.36e-05 ***\n",
       "x_NC        -5.984e+03  2.153e+03  -2.780 0.005680 ** \n",
       "x1_NE       -1.420e+01  4.521e+00  -3.141 0.001802 ** \n",
       "x2_NE        3.549e-01  3.708e-02   9.572  < 2e-16 ***\n",
       "x4_NE       -2.288e+03  7.034e+02  -3.253 0.001235 ** \n",
       "x5_NE       -7.511e+00  5.060e+00  -1.484 0.138467    \n",
       "x6_NE       -3.082e+01  4.717e+00  -6.534 1.85e-10 ***\n",
       "x9_NE        9.744e+03  1.011e+03   9.640  < 2e-16 ***\n",
       "x10_NE      -3.804e+03  1.395e+03  -2.727 0.006655 ** \n",
       "x11_NE       4.802e+00  9.580e-01   5.013 7.91e-07 ***\n",
       "x12_NE      -8.628e+00  1.635e+00  -5.276 2.11e-07 ***\n",
       "---\n",
       "Signif. codes:  0 '***' 0.001 '**' 0.01 '*' 0.05 '.' 0.1 ' ' 1\n",
       "\n",
       "Residual standard error: 17900 on 422 degrees of freedom\n",
       "Multiple R-squared:  0.9092,\tAdjusted R-squared:  0.9056 \n",
       "F-statistic: 248.6 on 17 and 422 DF,  p-value: < 2.2e-16\n"
      ]
     },
     "metadata": {},
     "output_type": "display_data"
    }
   ],
   "source": [
    "x1_NE <- x1 * x_NE\n",
    "x2_NE <- x2 * x_NE\n",
    "x4_NE <- x4 * x_NE\n",
    "x5_NE <- x5 * x_NE\n",
    "x6_NE <- x6 * x_NE\n",
    "x9_NE <- x9 * x_NE\n",
    "x10_NE <- x10 * x_NE\n",
    "x11_NE <- x11 * x_NE\n",
    "x12_NE <- x12 * x_NE\n",
    "mejorModelo <- lm(y~x1+x2+x6+x10+x11+x12+x_NE+x_NC+x1_NE+x2_NE+x4_NE+x5_NE+x6_NE\n",
    "                  +x9_NE+x10_NE+x11_NE+x12_NE)\n",
    "summary(mejorModelo)"
   ]
  },
  {
   "cell_type": "markdown",
   "id": "2399ff87",
   "metadata": {},
   "source": [
    "Como podemos ver nuestro modelo es globalmente significativo y cuenta con un $R^2_{ajustado}$=0.905 sin embargo podemos ver que hay variables que no son significativas individualmente por lo cual procedemos a sacarlas del modelo. El modelo resultante se presenta a continuación: "
   ]
  },
  {
   "cell_type": "code",
   "execution_count": 18,
   "id": "a580b8b0",
   "metadata": {},
   "outputs": [
    {
     "data": {
      "text/plain": [
       "\n",
       "Call:\n",
       "lm(formula = y ~ x6 + x10 + x12 + x_NE + x_NC + x1_NE + x2_NE + \n",
       "    x4_NE + x6_NE + x9_NE + x10_NE + x11_NE + x12_NE)\n",
       "\n",
       "Residuals:\n",
       "   Min     1Q Median     3Q    Max \n",
       "-89614  -4633    217   5382 196155 \n",
       "\n",
       "Coefficients:\n",
       "              Estimate Std. Error t value Pr(>|t|)    \n",
       "(Intercept) -6.082e+03  3.088e+03  -1.970 0.049521 *  \n",
       "x6           1.024e+01  1.079e+00   9.490  < 2e-16 ***\n",
       "x10          8.995e+02  4.249e+02   2.117 0.034837 *  \n",
       "x12          2.144e+00  1.881e-01  11.400  < 2e-16 ***\n",
       "x_NE        -1.253e+05  2.694e+04  -4.652 4.39e-06 ***\n",
       "x_NC        -7.623e+03  2.249e+03  -3.390 0.000763 ***\n",
       "x1_NE       -1.521e+01  4.779e+00  -3.183 0.001566 ** \n",
       "x2_NE        5.090e-01  2.871e-02  17.728  < 2e-16 ***\n",
       "x4_NE       -2.173e+03  7.468e+02  -2.909 0.003814 ** \n",
       "x6_NE       -4.025e+01  3.362e+00 -11.972  < 2e-16 ***\n",
       "x9_NE        9.833e+03  1.078e+03   9.122  < 2e-16 ***\n",
       "x10_NE      -4.372e+03  1.479e+03  -2.957 0.003282 ** \n",
       "x11_NE       5.525e+00  9.216e-01   5.995 4.33e-09 ***\n",
       "x12_NE      -1.534e+01  1.155e+00 -13.280  < 2e-16 ***\n",
       "---\n",
       "Signif. codes:  0 '***' 0.001 '**' 0.01 '*' 0.05 '.' 0.1 ' ' 1\n",
       "\n",
       "Residual standard error: 19120 on 426 degrees of freedom\n",
       "Multiple R-squared:  0.8954,\tAdjusted R-squared:  0.8922 \n",
       "F-statistic: 280.5 on 13 and 426 DF,  p-value: < 2.2e-16\n"
      ]
     },
     "metadata": {},
     "output_type": "display_data"
    }
   ],
   "source": [
    "mejorModelo2 <- lm(y~x6+x10+x12+x_NE+x_NC+x1_NE+x2_NE+x4_NE+\n",
    "                   x6_NE+x9_NE+x10_NE+x11_NE+x12_NE)\n",
    "summary(mejorModelo2)"
   ]
  },
  {
   "cell_type": "markdown",
   "id": "f6b660ad",
   "metadata": {},
   "source": [
    "El nuevo modelo cuanta con todas las variables significativas incluído el $\\beta_0$ y ademas cuenta con un $R^2_{ajustado}=0.892$ que como vemos es muy cercano al del primer modelo. "
   ]
  },
  {
   "cell_type": "markdown",
   "id": "e1665bf7",
   "metadata": {},
   "source": [
    "Ya con nuesto modelo con las variables escogidas debemos verificar los supuestos del modelo. Primero se comienza verificando si existen o no datos influyentes y luego a partir del resultado se evaluar normalidad, autocorrelación, multicolinealidad y heteroscedasticidad. "
   ]
  },
  {
   "cell_type": "markdown",
   "id": "8d1fa21c",
   "metadata": {},
   "source": [
    "###### Outliers e Influyentes\n",
    "Como primer paso se procede a revisar los datos outliers de manera gráfica mediante los residuos de la siguiente manera: "
   ]
  },
  {
   "cell_type": "code",
   "execution_count": 19,
   "id": "d1aa12b9",
   "metadata": {
    "scrolled": true
   },
   "outputs": [
    {
     "data": {
      "image/png": "[encoded data removed]",
      "text/plain": [
       "plot without title"
      ]
     },
     "metadata": {
      "image/png": {
       "height": 420,
       "width": 420
      }
     },
     "output_type": "display_data"
    }
   ],
   "source": [
    "#Datos influyentes \n",
    "residuos <- mejorModelo2$residuals\n",
    "plot(residuos)\n",
    "abline(0,0, col=2)"
   ]
  },
  {
   "cell_type": "markdown",
   "id": "0cb03cd3",
   "metadata": {},
   "source": [
    "En la anterior gráfica es posible observar que hay algunos datos (en especial un punto) que se encuentran alejados del cero, o de la linea roja, dado esto, se procede a realizar la comprobación estadística que empieza al estudentizar los residuos de la siguiente manera:"
   ]
  },
  {
   "cell_type": "code",
   "execution_count": 20,
   "id": "effbb96e",
   "metadata": {},
   "outputs": [
    {
     "data": {
      "image/png": "[encoded data removed]",
      "text/plain": [
       "plot without title"
      ]
     },
     "metadata": {
      "image/png": {
       "height": 420,
       "width": 420
      }
     },
     "output_type": "display_data"
    }
   ],
   "source": [
    "crimenes3 <- crimenes2[,-(1:5)] \n",
    "crimenes3 <- crimenes3[,-(3:5)]\n",
    "crimenes3 <- crimenes3[,-4]\n",
    "crimenes3 <- crimenes3[,-7]\n",
    "crimenes3 <- cbind(crimenes3[],x1_NE,x2_NE,x4_NE,x6_NE,x9_NE,x10_NE,x11_NE,x12_NE)\n",
    "\n",
    "#estudentizar \n",
    "x <- as.matrix(cbind(rep(1,), crimenes3))\n",
    "H <- x %*% solve(t(x) %*% x) %*% t(x)\n",
    "leve <- diag(H)\n",
    "\n",
    "estudentizado <- residuos/sqrt(1-leve)\n",
    "plot(estudentizado)                \n",
    "abline(0,0,col=2)"
   ]
  },
  {
   "cell_type": "markdown",
   "id": "34410ddd",
   "metadata": {},
   "source": [
    "Luego, con los datos estudentizados se procede a realizar el análisis de datos outliers e influyentes con el siguiente procedimiento, en donde se comprobará si hay datos outliers o no."
   ]
  },
  {
   "cell_type": "code",
   "execution_count": 21,
   "id": "7a2acfd9",
   "metadata": {
    "scrolled": true
   },
   "outputs": [
    {
     "data": {
      "text/html": [
       "36.6914042515675"
      ],
      "text/latex": [
       "36.6914042515675"
      ],
      "text/markdown": [
       "36.6914042515675"
      ],
      "text/plain": [
       "[1] 36.6914"
      ]
     },
     "metadata": {},
     "output_type": "display_data"
    },
    {
     "data": {
      "text/html": [
       "0.950702638379521"
      ],
      "text/latex": [
       "0.950702638379521"
      ],
      "text/markdown": [
       "0.950702638379521"
      ],
      "text/plain": [
       "[1] 0.9507026"
      ]
     },
     "metadata": {},
     "output_type": "display_data"
    },
    {
     "data": {
      "text/html": [
       "<strong>6:</strong> 6"
      ],
      "text/latex": [
       "\\textbf{6:} 6"
      ],
      "text/markdown": [
       "**6:** 6"
      ],
      "text/plain": [
       "6 \n",
       "6 "
      ]
     },
     "metadata": {},
     "output_type": "display_data"
    }
   ],
   "source": [
    "#Datos influyentes\n",
    "p <- dim(crimenes3)[2]-1\n",
    "n<-440\n",
    "cd <- cooks.distance(mejorModelo2)\n",
    "max(cd)\n",
    "qf(0.5,p,n-p)\n",
    "which(cd == max(cd))"
   ]
  },
  {
   "cell_type": "code",
   "execution_count": 22,
   "id": "db068a3d",
   "metadata": {},
   "outputs": [
    {
     "data": {
      "text/plain": [
       "\n",
       "Call:\n",
       "lm(formula = y ~ x6 + x10 + x12 + x_NE + x_NC + x1_NE + x2_NE + \n",
       "    x4_NE + x6_NE + x9_NE + x10_NE + x11_NE + x12_NE)\n",
       "\n",
       "Residuals:\n",
       "   Min     1Q Median     3Q    Max \n",
       "-65221  -3910     78   3367  78419 \n",
       "\n",
       "Coefficients:\n",
       "              Estimate Std. Error t value Pr(>|t|)    \n",
       "(Intercept) -6.082e+03  1.740e+03  -3.495 0.000523 ***\n",
       "x6           1.024e+01  6.081e-01  16.841  < 2e-16 ***\n",
       "x10          8.995e+02  2.395e+02   3.757 0.000196 ***\n",
       "x12          2.144e+00  1.060e-01  20.230  < 2e-16 ***\n",
       "x_NE        -1.279e+04  1.563e+04  -0.818 0.413588    \n",
       "x_NC        -7.623e+03  1.267e+03  -6.016 3.86e-09 ***\n",
       "x1_NE       -4.523e+00  2.716e+00  -1.665 0.096627 .  \n",
       "x2_NE        5.551e-02  2.205e-02   2.518 0.012182 *  \n",
       "x4_NE       -8.620e+02  4.231e+02  -2.037 0.042228 *  \n",
       "x6_NE       -6.839e+00  2.193e+00  -3.119 0.001940 ** \n",
       "x9_NE        1.779e+03  6.631e+02   2.683 0.007589 ** \n",
       "x10_NE      -7.696e+02  8.416e+02  -0.914 0.361051    \n",
       "x11_NE       1.044e+00  5.400e-01   1.934 0.053765 .  \n",
       "x12_NE      -3.260e+00  7.634e-01  -4.271 2.41e-05 ***\n",
       "---\n",
       "Signif. codes:  0 '***' 0.001 '**' 0.01 '*' 0.05 '.' 0.1 ' ' 1\n",
       "\n",
       "Residual standard error: 10770 on 425 degrees of freedom\n",
       "Multiple R-squared:  0.9535,\tAdjusted R-squared:  0.9521 \n",
       "F-statistic:   670 on 13 and 425 DF,  p-value: < 2.2e-16\n"
      ]
     },
     "metadata": {},
     "output_type": "display_data"
    }
   ],
   "source": [
    "crimenes3 <- crimenes3[-6,]\n",
    "\n",
    "x6 <- crimenes3$x6\n",
    "x10 <- crimenes3$x10\n",
    "x12 <- crimenes3$x12\n",
    "x_NE <- crimenes3$x_NE\n",
    "x_NC <- crimenes3$x_NC\n",
    "x1_NE <- crimenes3$x1_NE\n",
    "x2_NE <- crimenes3$x2_NE\n",
    "x4_NE <- crimenes3$x4_NE\n",
    "x6_NE <- crimenes3$x6_NE\n",
    "x9_NE <- crimenes3$x9_NE\n",
    "x10_NE <- crimenes3$x10_NE\n",
    "x11_NE <- crimenes3$x11_NE\n",
    "x12_NE <- crimenes3$x12_NE\n",
    "\n",
    "y <-crimenes3$y\n",
    "mejorModelo3 <- lm(y~x6+x10+x12+x_NE+x_NC+x1_NE+x2_NE+x4_NE+x6_NE+x9_NE+x10_NE+x11_NE+x12_NE)\n",
    "summary(mejorModelo3)"
   ]
  },
  {
   "cell_type": "code",
   "execution_count": 23,
   "id": "d3e03310",
   "metadata": {},
   "outputs": [
    {
     "data": {
      "text/html": [
       "0.209823397514478"
      ],
      "text/latex": [
       "0.209823397514478"
      ],
      "text/markdown": [
       "0.209823397514478"
      ],
      "text/plain": [
       "[1] 0.2098234"
      ]
     },
     "metadata": {},
     "output_type": "display_data"
    },
    {
     "data": {
      "text/html": [
       "0.950706141161425"
      ],
      "text/latex": [
       "0.950706141161425"
      ],
      "text/markdown": [
       "0.950706141161425"
      ],
      "text/plain": [
       "[1] 0.9507061"
      ]
     },
     "metadata": {},
     "output_type": "display_data"
    }
   ],
   "source": [
    "p <- dim(crimenes3)[2]-1\n",
    "n<-440-1\n",
    "cd <- cooks.distance(mejorModelo3)\n",
    "max(cd)\n",
    "qf(0.5,p,n-p)"
   ]
  },
  {
   "cell_type": "markdown",
   "id": "9768ca97",
   "metadata": {},
   "source": [
    "La prueba de la distancia de Cook arrojó un valor de 0.2098 que al compararlo con la distribución F(p,n-p)= 0.9507 se puede concluir con una significancia del 5% que no hay datos influyentes en el modelo, pues el valor máximo de Di es pequeño comparado con la mediana de la distribución F mencionada."
   ]
  },
  {
   "cell_type": "markdown",
   "id": "e2809b87",
   "metadata": {},
   "source": [
    "Como ya el modelo no tiene datos influyentes podemos ver que hay algunas variables que no son significativas individualmente por lo que procedemos a eliminarlas. Dejando como modelo resultante el que se muestra a continuación:"
   ]
  },
  {
   "cell_type": "code",
   "execution_count": 24,
   "id": "c4ebd6da",
   "metadata": {},
   "outputs": [
    {
     "data": {
      "text/plain": [
       "\n",
       "Call:\n",
       "lm(formula = y ~ x6 + x10 + x12 + x_NC + x1_NE + x2_NE + x4_NE + \n",
       "    x6_NE + x9_NE + x11_NE + x12_NE)\n",
       "\n",
       "Residuals:\n",
       "   Min     1Q Median     3Q    Max \n",
       "-65327  -4016     88   3347  78506 \n",
       "\n",
       "Coefficients:\n",
       "              Estimate Std. Error t value Pr(>|t|)    \n",
       "(Intercept) -5.781e+03  1.681e+03  -3.440 0.000639 ***\n",
       "x6           1.026e+01  6.079e-01  16.871  < 2e-16 ***\n",
       "x10          8.462e+02  2.294e+02   3.689 0.000254 ***\n",
       "x12          2.143e+00  1.060e-01  20.222  < 2e-16 ***\n",
       "x_NC        -7.598e+03  1.267e+03  -5.999 4.24e-09 ***\n",
       "x1_NE       -5.545e+00  2.517e+00  -2.203 0.028103 *  \n",
       "x2_NE        3.971e-02  1.830e-02   2.170 0.030568 *  \n",
       "x4_NE       -1.113e+03  3.755e+02  -2.965 0.003195 ** \n",
       "x6_NE       -5.501e+00  1.972e+00  -2.790 0.005504 ** \n",
       "x9_NE        1.165e+03  4.960e+02   2.350 0.019251 *  \n",
       "x11_NE       5.323e-01  2.156e-01   2.469 0.013957 *  \n",
       "x12_NE      -2.726e+00  6.081e-01  -4.484 9.44e-06 ***\n",
       "---\n",
       "Signif. codes:  0 '***' 0.001 '**' 0.01 '*' 0.05 '.' 0.1 ' ' 1\n",
       "\n",
       "Residual standard error: 10770 on 427 degrees of freedom\n",
       "Multiple R-squared:  0.9533,\tAdjusted R-squared:  0.9521 \n",
       "F-statistic: 791.7 on 11 and 427 DF,  p-value: < 2.2e-16\n"
      ]
     },
     "metadata": {},
     "output_type": "display_data"
    }
   ],
   "source": [
    "mejorModelo4 <- lm(y~x6+x10+x12+x_NC+x1_NE+x2_NE+x4_NE+x6_NE+x9_NE+x11_NE+x12_NE)\n",
    "summary(mejorModelo4)"
   ]
  },
  {
   "cell_type": "markdown",
   "id": "4fbd459f",
   "metadata": {},
   "source": [
    "Como se puede observar este modelo4 es globalmente significativo, y todas sus variables son individualmente significativas ademas tiene un $R^2_{ajustado}=0.9521 $"
   ]
  },
  {
   "cell_type": "markdown",
   "id": "f28ce569",
   "metadata": {},
   "source": [
    "###### Multicolinealidad\n",
    "Para ver si hay o no problemas de multicolinealidad lo primero que se decide hacer es graficar el comportamiento de las variables"
   ]
  },
  {
   "cell_type": "code",
   "execution_count": 25,
   "id": "65b44355",
   "metadata": {
    "scrolled": true
   },
   "outputs": [
    {
     "data": {
      "text/html": [
       "<style>\n",
       ".dl-inline {width: auto; margin:0; padding: 0}\n",
       ".dl-inline>dt, .dl-inline>dd {float: none; width: auto; display: inline-block}\n",
       ".dl-inline>dt::after {content: \":\\0020\"; padding-right: .5ex}\n",
       ".dl-inline>dt:not(:first-of-type) {padding-left: .5ex}\n",
       "</style><dl class=dl-inline><dt>x6</dt><dd>7.14598202252775</dd><dt>x10</dt><dd>1.08389449425539</dd><dt>x12</dt><dd>6.95618927071624</dd><dt>x_NC</dt><dd>1.12534205254896</dd><dt>x1_NE</dt><dd>2.98940838765557</dd><dt>x2_NE</dt><dd>61.6811616439474</dd><dt>x4_NE</dt><dd>18.6948588391157</dd><dt>x6_NE</dt><dd>14.5190575080453</dd><dt>x9_NE</dt><dd>8.89115271469994</dd><dt>x11_NE</dt><dd>14.229470680228</dd><dt>x12_NE</dt><dd>39.5280872855909</dd></dl>\n"
      ],
      "text/latex": [
       "\\begin{description*}\n",
       "\\item[x6] 7.14598202252775\n",
       "\\item[x10] 1.08389449425539\n",
       "\\item[x12] 6.95618927071624\n",
       "\\item[x\\textbackslash{}\\_NC] 1.12534205254896\n",
       "\\item[x1\\textbackslash{}\\_NE] 2.98940838765557\n",
       "\\item[x2\\textbackslash{}\\_NE] 61.6811616439474\n",
       "\\item[x4\\textbackslash{}\\_NE] 18.6948588391157\n",
       "\\item[x6\\textbackslash{}\\_NE] 14.5190575080453\n",
       "\\item[x9\\textbackslash{}\\_NE] 8.89115271469994\n",
       "\\item[x11\\textbackslash{}\\_NE] 14.229470680228\n",
       "\\item[x12\\textbackslash{}\\_NE] 39.5280872855909\n",
       "\\end{description*}\n"
      ],
      "text/markdown": [
       "x6\n",
       ":   7.14598202252775x10\n",
       ":   1.08389449425539x12\n",
       ":   6.95618927071624x_NC\n",
       ":   1.12534205254896x1_NE\n",
       ":   2.98940838765557x2_NE\n",
       ":   61.6811616439474x4_NE\n",
       ":   18.6948588391157x6_NE\n",
       ":   14.5190575080453x9_NE\n",
       ":   8.89115271469994x11_NE\n",
       ":   14.229470680228x12_NE\n",
       ":   39.5280872855909\n",
       "\n"
      ],
      "text/plain": [
       "       x6       x10       x12      x_NC     x1_NE     x2_NE     x4_NE     x6_NE \n",
       " 7.145982  1.083894  6.956189  1.125342  2.989408 61.681162 18.694859 14.519058 \n",
       "    x9_NE    x11_NE    x12_NE \n",
       " 8.891153 14.229471 39.528087 "
      ]
     },
     "metadata": {},
     "output_type": "display_data"
    },
    {
     "data": {
      "image/png": "[encoded data removed]",
      "text/plain": [
       "plot without title"
      ]
     },
     "metadata": {
      "image/png": {
       "height": 420,
       "width": 420
      }
     },
     "output_type": "display_data"
    }
   ],
   "source": [
    "#Multicolinealidad\n",
    "pairs(crimenes3)\n",
    "vif(mejorModelo4)"
   ]
  },
  {
   "cell_type": "markdown",
   "id": "51bfd077",
   "metadata": {},
   "source": [
    "Como se puede observar hay problemas de multicolinealidad y hay variables con VIF's muy altos por tal razón se decide eliminar algunas de ellas "
   ]
  },
  {
   "cell_type": "code",
   "execution_count": 26,
   "id": "89b82cbb",
   "metadata": {
    "scrolled": true
   },
   "outputs": [
    {
     "data": {
      "text/plain": [
       "\n",
       "Call:\n",
       "lm(formula = y ~ x6 + x10 + x12 + x_NC + x1_NE + x6_NE + x9_NE + \n",
       "    x11_NE)\n",
       "\n",
       "Residuals:\n",
       "   Min     1Q Median     3Q    Max \n",
       "-67485  -4221    412   4030  76555 \n",
       "\n",
       "Coefficients:\n",
       "              Estimate Std. Error t value Pr(>|t|)    \n",
       "(Intercept) -4936.7973  1733.1259  -2.848 0.004603 ** \n",
       "x6             11.1765     0.5998  18.633  < 2e-16 ***\n",
       "x10           739.7248   236.4888   3.128 0.001880 ** \n",
       "x12             1.9658     0.1033  19.022  < 2e-16 ***\n",
       "x_NC        -7919.4151  1311.0154  -6.041 3.33e-09 ***\n",
       "x1_NE          -6.1188     2.5105  -2.437 0.015204 *  \n",
       "x6_NE          -9.3504     0.8263 -11.316  < 2e-16 ***\n",
       "x9_NE        1495.2618   346.3547   4.317 1.96e-05 ***\n",
       "x11_NE         -0.4123     0.1133  -3.638 0.000308 ***\n",
       "---\n",
       "Signif. codes:  0 '***' 0.001 '**' 0.01 '*' 0.05 '.' 0.1 ' ' 1\n",
       "\n",
       "Residual standard error: 11170 on 430 degrees of freedom\n",
       "Multiple R-squared:  0.9494,\tAdjusted R-squared:  0.9485 \n",
       "F-statistic:  1009 on 8 and 430 DF,  p-value: < 2.2e-16\n"
      ]
     },
     "metadata": {},
     "output_type": "display_data"
    },
    {
     "data": {
      "text/html": [
       "<style>\n",
       ".dl-inline {width: auto; margin:0; padding: 0}\n",
       ".dl-inline>dt, .dl-inline>dd {float: none; width: auto; display: inline-block}\n",
       ".dl-inline>dt::after {content: \":\\0020\"; padding-right: .5ex}\n",
       ".dl-inline>dt:not(:first-of-type) {padding-left: .5ex}\n",
       "</style><dl class=dl-inline><dt>x6</dt><dd>6.47065419528325</dd><dt>x10</dt><dd>1.07165865685806</dd><dt>x12</dt><dd>6.15623328514681</dd><dt>x_NC</dt><dd>1.12161716937939</dd><dt>x1_NE</dt><dd>2.76681310976704</dd><dt>x6_NE</dt><dd>2.37226176911471</dd><dt>x9_NE</dt><dd>4.03275907969585</dd><dt>x11_NE</dt><dd>3.65619805736844</dd></dl>\n"
      ],
      "text/latex": [
       "\\begin{description*}\n",
       "\\item[x6] 6.47065419528325\n",
       "\\item[x10] 1.07165865685806\n",
       "\\item[x12] 6.15623328514681\n",
       "\\item[x\\textbackslash{}\\_NC] 1.12161716937939\n",
       "\\item[x1\\textbackslash{}\\_NE] 2.76681310976704\n",
       "\\item[x6\\textbackslash{}\\_NE] 2.37226176911471\n",
       "\\item[x9\\textbackslash{}\\_NE] 4.03275907969585\n",
       "\\item[x11\\textbackslash{}\\_NE] 3.65619805736844\n",
       "\\end{description*}\n"
      ],
      "text/markdown": [
       "x6\n",
       ":   6.47065419528325x10\n",
       ":   1.07165865685806x12\n",
       ":   6.15623328514681x_NC\n",
       ":   1.12161716937939x1_NE\n",
       ":   2.76681310976704x6_NE\n",
       ":   2.37226176911471x9_NE\n",
       ":   4.03275907969585x11_NE\n",
       ":   3.65619805736844\n",
       "\n"
      ],
      "text/plain": [
       "      x6      x10      x12     x_NC    x1_NE    x6_NE    x9_NE   x11_NE \n",
       "6.470654 1.071659 6.156233 1.121617 2.766813 2.372262 4.032759 3.656198 "
      ]
     },
     "metadata": {},
     "output_type": "display_data"
    }
   ],
   "source": [
    "mejorModelo5 <- lm(y~x6+x10+x12+x_NC+x1_NE+x6_NE+x9_NE+x11_NE)\n",
    "summary(mejorModelo5)\n",
    "vif(mejorModelo5)"
   ]
  },
  {
   "cell_type": "markdown",
   "id": "8782b9ab",
   "metadata": {},
   "source": [
    "Este nuevo modelo podemos ver que es globalmente significativos, que cada uno de sus variables es individualmente significativa y que no presenta problemas de multicolinealidad dado que todos los VIF's son < 10."
   ]
  },
  {
   "cell_type": "markdown",
   "id": "5d43745b",
   "metadata": {},
   "source": [
    "###### Normalidad\n",
    "Para el caso del supuesto de normalidad lo primero que se hace es obtener los residuos y a partir de esto, se gráfica el ajuste a través de una Q-Q Plot como lo vemos a continuación:"
   ]
  },
  {
   "cell_type": "code",
   "execution_count": 27,
   "id": "6af5830a",
   "metadata": {},
   "outputs": [
    {
     "data": {
      "image/png": "[encoded data removed]",
      "text/plain": [
       "Plot with title \"Normal Q-Q Plot\""
      ]
     },
     "metadata": {
      "image/png": {
       "height": 420,
       "width": 420
      }
     },
     "output_type": "display_data"
    }
   ],
   "source": [
    "#Normalidad\n",
    "residuosM <- mejorModelo5$residuals\n",
    "qqnorm(residuosM)\n",
    "abline(0,1,col=2)"
   ]
  },
  {
   "cell_type": "markdown",
   "id": "fb1a0c41",
   "metadata": {},
   "source": [
    "En la anterior gráfica se puede ver que el comportamiento de los datos puede acercarse a una normal debido a que están muy cerca de la recta con pendiente 1 que pasa por el origen. (A excepción de 1 dato que parecería ser influyente)\n",
    "\n",
    "Sin embargo, como es una observación gráfica, procedemos a comprobar lo anteriro de manera estadística por medio de la prueba Shapiro en donde se plantea la siguiente prueba de hipótesis:\n",
    "\n",
    "$$\n",
    "H_0: e_{i} \\sim \\ Normal\n",
    "$$\n",
    "\n",
    "$$\n",
    "H_1:\\lnot\\ H_0\n",
    "$$"
   ]
  },
  {
   "cell_type": "code",
   "execution_count": 28,
   "id": "dbeeef98",
   "metadata": {},
   "outputs": [
    {
     "data": {
      "text/plain": [
       "\n",
       "\tShapiro-Wilk normality test\n",
       "\n",
       "data:  residuosM\n",
       "W = 0.82621, p-value < 2.2e-16\n"
      ]
     },
     "metadata": {},
     "output_type": "display_data"
    }
   ],
   "source": [
    "#Normalidad - Shapiro \n",
    "shapiro.test(residuosM)"
   ]
  },
  {
   "cell_type": "markdown",
   "id": "a1ea592b",
   "metadata": {},
   "source": [
    "Con un nivel de confianza del 95% no se rechaza la hipotesis nula, es decir que se puede concluir que los residuos del modelo se distribuyen normales dado que al realizar la prueba de Shapiro el p-value = 2.2e-16 lo cual es practicamente 0 por lo que es menor a 5%"
   ]
  },
  {
   "cell_type": "markdown",
   "id": "b21ecf24",
   "metadata": {},
   "source": [
    "###### Especificiadad\n",
    "Se desea comprobar si el modelo está bien específicado o no. Para lo cual se realiza una prueba de Ramsey RESET test\n",
    "En donde: \n",
    "$$\n",
    "H_0= \\text{No hay error de especificación}\n",
    "$$\n",
    "$$\n",
    "H_1=\\text{Sí hay error de especificación}\n",
    "$$"
   ]
  },
  {
   "cell_type": "code",
   "execution_count": 29,
   "id": "fc920d2e",
   "metadata": {},
   "outputs": [
    {
     "data": {
      "text/plain": [
       "\n",
       "\tRESET test\n",
       "\n",
       "data:  mejorModelo5\n",
       "RESET = 3.3312, df1 = 1, df2 = 429, p-value = 0.06867\n"
      ]
     },
     "metadata": {},
     "output_type": "display_data"
    }
   ],
   "source": [
    "library(lmtest)\n",
    "reset(mejorModelo5,power=3)"
   ]
  },
  {
   "cell_type": "markdown",
   "id": "9408c625",
   "metadata": {},
   "source": [
    "En la prueba podemos ver que el p-value es mayor 5%, lo que nos dice que no hay suficiente evidencia estadística, bajo una confiabilidad del 95% para rechazar la hipotesis nula. Es decir que el modelo no tiene problemas de específicación. "
   ]
  },
  {
   "cell_type": "markdown",
   "id": "b40f9c3f",
   "metadata": {},
   "source": [
    "#### 1.Revise si hay datos influyentes en el modelo. Puede explicar porqué son influyentes y si corresponden a errores de medición?"
   ]
  },
  {
   "cell_type": "markdown",
   "id": "a775103a",
   "metadata": {},
   "source": [
    "Tal como pudimos observar en el modelo si hay datos influyentes, en particular el dato no.6 que en este caso es un dato outlier que modifica drásticamente la recta de la regresión estimada por lo que se considera influyente. La prueba de la distancia de Cook nos mostró que estadísticamente ese era dato influyente. La forma de correguir ese dato fue eliminarlo y la misma prueba de la distancia de cook nos corroboró que habíamos eliminado el problema y ya no se tenían datos influyentes. Es posible que ese dato sea influyente por algún error de médición que se tuvo pero no necesariamente, la cantidad de crímenes totales era muy alto mientras que el resto de los valores eran promedios con respecto a las demás variables. \n",
    "Los datos influyentes se pueden presentar en efecto por errores de medición pero en este caso puntual, se debía más a los datos de una región en específico que generaban sesgo en los datos pues la cantidad de crimenes es muy alta cuando el resto de las variables está dentro de los rangos. \n",
    "Sin embargo al comprobar los demas supuestos y decidir eliminar algunas variables ya no se presentaron problemas de datos influyentes."
   ]
  },
  {
   "cell_type": "markdown",
   "id": "38913a6e",
   "metadata": {},
   "source": [
    "#### 2. Se quiere estimar el efecto que tiene el desempleo sobre el número total de crímenes serios, dado que se cree que existe una relación de causalidad. En un modelo que considere bien especificado, encuentre el efecto que tiene el desempleo sobre Y . Justifique su respuesta, y explique por qué considera que su modelo está bien especificado. En particular, revise que no tenga variables omitidas importantes.\n"
   ]
  },
  {
   "cell_type": "markdown",
   "id": "da3424f9",
   "metadata": {},
   "source": [
    "Lo primero que se debe mencionar es que el modelo se encuentre bien específicado pues se escogieron las variables comparandolo con otros modelos, se comprobaron supuestos para mejorar y lo más importante al hacer la prueba de específicicación dió como resultado que no hay suficiente evidencia estadística, bajo una confiabilidad del 95% para rechazar la hipotesis nula. Es decir que el modelo no tiene problemas de específicación."
   ]
  },
  {
   "cell_type": "markdown",
   "id": "870e080a",
   "metadata": {},
   "source": [
    "Recordemos entonces nuestro modelo resultante: \n",
    "\n",
    "$$\n",
    "y=\\beta_0+\\beta_1x6+\\beta_2x{10}+\\beta_3x{12}+\\beta_4x{NC}+\\beta_5x{6_{NE}}+\\beta_6x{9_{NE}}+\\beta_7x{11_{NE}}+\\epsilon\n",
    "$$\n",
    "\n",
    "Se quiere comprobar la siguiente prueba de hipótesis \n",
    "\n",
    "$$\n",
    "H_0: \\beta_2 = 0\n",
    "$$\n",
    "\n",
    "$$\n",
    "H_1: \\beta_2 \\neq 0\n",
    "$$"
   ]
  },
  {
   "cell_type": "code",
   "execution_count": 30,
   "id": "223cbe14",
   "metadata": {
    "scrolled": true
   },
   "outputs": [
    {
     "data": {
      "text/html": [
       "<dl>\n",
       "\t<dt>$F</dt>\n",
       "\t\t<dd>9.78406008468578</dd>\n",
       "\t<dt>$pvalue</dt>\n",
       "\t\t<dd>0.00187997180939659</dd>\n",
       "</dl>\n"
      ],
      "text/latex": [
       "\\begin{description}\n",
       "\\item[\\$F] 9.78406008468578\n",
       "\\item[\\$pvalue] 0.00187997180939659\n",
       "\\end{description}\n"
      ],
      "text/markdown": [
       "$F\n",
       ":   9.78406008468578\n",
       "$pvalue\n",
       ":   0.00187997180939659\n",
       "\n",
       "\n"
      ],
      "text/plain": [
       "$F\n",
       "[1] 9.78406\n",
       "\n",
       "$pvalue\n",
       "[1] 0.001879972\n"
      ]
     },
     "metadata": {},
     "output_type": "display_data"
    }
   ],
   "source": [
    "x<-cbind(x6, x10, x12, x_NC, x1_NE, x6_NE, x9_NE, x11_NE)\n",
    "\n",
    "gtest <- function(x,y,A,c){\n",
    "  n <- length(y)\n",
    "  k <- dim(x)[2]\n",
    "  p <- k + 1\n",
    "  q <- dim(A)[1]\n",
    "  xx <- cbind(rep(1,n), x)\n",
    "  beta <- solve(t(xx) %*% xx) %*% t(xx) %*% y\n",
    "  yhat <- xx %*% beta  \n",
    "  mse <- sum((y - yhat)^2)/(n - p)\n",
    "  betaH <- beta + solve(t(xx) %*% xx) %*% t(A) %*% \n",
    "           solve(A %*% solve(t(xx) %*% xx) %*% t(A)) %*% (c- A %*% beta)\n",
    "  yhatH <- xx %*% betaH\n",
    "  F <- (sum((y- yhatH)^2)-sum((y- yhat)^2))/q /mse\n",
    "  pval <- 1-pf(F, q, n- p)\n",
    "  return(list(F = F, pvalue = pval))\n",
    "}\n",
    "\n",
    "A <- matrix(c(0,0,1,0,0,0,0,0,0),ncol=9,byrow = T)\n",
    "c <-c(0)\n",
    "\n",
    "gtest(x,y,A,c)"
   ]
  },
  {
   "cell_type": "markdown",
   "id": "03112f2a",
   "metadata": {},
   "source": [
    "Con un nivel de confianza del 95% se puede concluir que se rechaza $H_0$, es decir que el efecto del desempleo sí influye en el número total de crimenes serios. Pues el ${p value}<5 \\% $ . Lo anterior en términos de causalidad quiere decir que si se aumenta el desempleo, entonces se aumenta la cantidad de crimenes serios totales cometidos. "
   ]
  },
  {
   "cell_type": "markdown",
   "id": "5c1c71ac",
   "metadata": {},
   "source": [
    "No hay una prueba estadística que me indique si existen o no variables omitidas. Sin embargo se podría pensar en algunas variables que puede que no se estén teniendo en cuenta como la situación política o la cantidad de bandas criminales. "
   ]
  },
  {
   "cell_type": "markdown",
   "id": "bdfd49d9",
   "metadata": {},
   "source": [
    "## Parte C. Problemas aplicados con datos reales."
   ]
  },
  {
   "cell_type": "markdown",
   "id": "196304cb",
   "metadata": {},
   "source": [
    "### Problema 4. Ventas de secadoras eléctricas en Bogotá."
   ]
  },
  {
   "cell_type": "markdown",
   "id": "13c53b98",
   "metadata": {},
   "source": [
    "#### 1. Revise todos los supuesto del modelo que sean pertinentes. Realice las pruebas que considere necesarias."
   ]
  },
  {
   "cell_type": "markdown",
   "id": "5f6982bf",
   "metadata": {},
   "source": [
    "Los supuestos del modelo que se deberían revizar corresponde a  verificar normalidad, autocorrelación, multicolinealidad,  heteroscedasticidad y, tambien se debe verificar si existen o no datos outliers e influyentes. Dado lo anterior se realizan algunas pruebas correspondiente para evaluar cada uno de los supuestos presentados. \n",
    "\n",
    "Antes de comenzar se cargan los datos y se general em modelo de regresión lineal correspondiente y se debe comprobar la significancia del modelo"
   ]
  },
  {
   "cell_type": "code",
   "execution_count": 31,
   "id": "39ba6802",
   "metadata": {
    "scrolled": true
   },
   "outputs": [
    {
     "data": {
      "text/html": [
       "<table class=\"dataframe\">\n",
       "<caption>A data.frame: 6 × 5</caption>\n",
       "<thead>\n",
       "\t<tr><th></th><th scope=col>ventas</th><th scope=col>precio</th><th scope=col>consumo</th><th scope=col>publicidad</th><th scope=col>competencia</th></tr>\n",
       "\t<tr><th></th><th scope=col>&lt;dbl&gt;</th><th scope=col>&lt;dbl&gt;</th><th scope=col>&lt;dbl&gt;</th><th scope=col>&lt;dbl&gt;</th><th scope=col>&lt;dbl&gt;</th></tr>\n",
       "</thead>\n",
       "<tbody>\n",
       "\t<tr><th scope=row>1</th><td>-51.86530</td><td>12.730041</td><td>5.120954</td><td> 7.883980</td><td>3.358127</td></tr>\n",
       "\t<tr><th scope=row>2</th><td>-24.59515</td><td>12.923566</td><td>9.128683</td><td> 9.978578</td><td>8.737131</td></tr>\n",
       "\t<tr><th scope=row>3</th><td>-30.71430</td><td> 7.123548</td><td>8.091998</td><td> 9.577806</td><td>2.688939</td></tr>\n",
       "\t<tr><th scope=row>4</th><td>-39.84182</td><td>10.145909</td><td>7.104766</td><td>10.780311</td><td>5.617165</td></tr>\n",
       "\t<tr><th scope=row>5</th><td>-60.28946</td><td>11.641656</td><td>6.877741</td><td> 9.192014</td><td>1.909947</td></tr>\n",
       "\t<tr><th scope=row>6</th><td>-64.63831</td><td>12.139542</td><td>7.248237</td><td> 7.045200</td><td>2.517575</td></tr>\n",
       "</tbody>\n",
       "</table>\n"
      ],
      "text/latex": [
       "A data.frame: 6 × 5\n",
       "\\begin{tabular}{r|lllll}\n",
       "  & ventas & precio & consumo & publicidad & competencia\\\\\n",
       "  & <dbl> & <dbl> & <dbl> & <dbl> & <dbl>\\\\\n",
       "\\hline\n",
       "\t1 & -51.86530 & 12.730041 & 5.120954 &  7.883980 & 3.358127\\\\\n",
       "\t2 & -24.59515 & 12.923566 & 9.128683 &  9.978578 & 8.737131\\\\\n",
       "\t3 & -30.71430 &  7.123548 & 8.091998 &  9.577806 & 2.688939\\\\\n",
       "\t4 & -39.84182 & 10.145909 & 7.104766 & 10.780311 & 5.617165\\\\\n",
       "\t5 & -60.28946 & 11.641656 & 6.877741 &  9.192014 & 1.909947\\\\\n",
       "\t6 & -64.63831 & 12.139542 & 7.248237 &  7.045200 & 2.517575\\\\\n",
       "\\end{tabular}\n"
      ],
      "text/markdown": [
       "\n",
       "A data.frame: 6 × 5\n",
       "\n",
       "| <!--/--> | ventas &lt;dbl&gt; | precio &lt;dbl&gt; | consumo &lt;dbl&gt; | publicidad &lt;dbl&gt; | competencia &lt;dbl&gt; |\n",
       "|---|---|---|---|---|---|\n",
       "| 1 | -51.86530 | 12.730041 | 5.120954 |  7.883980 | 3.358127 |\n",
       "| 2 | -24.59515 | 12.923566 | 9.128683 |  9.978578 | 8.737131 |\n",
       "| 3 | -30.71430 |  7.123548 | 8.091998 |  9.577806 | 2.688939 |\n",
       "| 4 | -39.84182 | 10.145909 | 7.104766 | 10.780311 | 5.617165 |\n",
       "| 5 | -60.28946 | 11.641656 | 6.877741 |  9.192014 | 1.909947 |\n",
       "| 6 | -64.63831 | 12.139542 | 7.248237 |  7.045200 | 2.517575 |\n",
       "\n"
      ],
      "text/plain": [
       "  ventas    precio    consumo  publicidad competencia\n",
       "1 -51.86530 12.730041 5.120954  7.883980  3.358127   \n",
       "2 -24.59515 12.923566 9.128683  9.978578  8.737131   \n",
       "3 -30.71430  7.123548 8.091998  9.577806  2.688939   \n",
       "4 -39.84182 10.145909 7.104766 10.780311  5.617165   \n",
       "5 -60.28946 11.641656 6.877741  9.192014  1.909947   \n",
       "6 -64.63831 12.139542 7.248237  7.045200  2.517575   "
      ]
     },
     "metadata": {},
     "output_type": "display_data"
    },
    {
     "data": {
      "text/plain": [
       "\n",
       "Call:\n",
       "lm(formula = y ~ x1 + x2 + x3 + x4)\n",
       "\n",
       "Residuals:\n",
       "    Min      1Q  Median      3Q     Max \n",
       "-53.310  -7.222  -1.668   9.079  38.884 \n",
       "\n",
       "Coefficients:\n",
       "            Estimate Std. Error t value Pr(>|t|)    \n",
       "(Intercept)  19.1644    12.9062   1.485  0.14289    \n",
       "x1           -3.7720     0.8316  -4.536 2.87e-05 ***\n",
       "x2           -9.0379     0.9525  -9.488 1.77e-13 ***\n",
       "x3            3.0562     1.0849   2.817  0.00658 ** \n",
       "x4            2.9156     0.9476   3.077  0.00317 ** \n",
       "---\n",
       "Signif. codes:  0 '***' 0.001 '**' 0.01 '*' 0.05 '.' 0.1 ' ' 1\n",
       "\n",
       "Residual standard error: 15.73 on 59 degrees of freedom\n",
       "Multiple R-squared:  0.6911,\tAdjusted R-squared:  0.6702 \n",
       "F-statistic:    33 on 4 and 59 DF,  p-value: 1.901e-14\n"
      ]
     },
     "metadata": {},
     "output_type": "display_data"
    }
   ],
   "source": [
    "Secadoras <- read.table(\"Archivos/secadoras.txt\", head = TRUE)\n",
    "head(Secadoras)\n",
    "data = Secadoras\n",
    "\n",
    "y = Secadoras$ventas\n",
    "x1 = Secadoras$precio\n",
    "x2 = Secadoras$consumo\n",
    "x3 = Secadoras$publicidad\n",
    "x4 = Secadoras$competencia\n",
    "\n",
    "##Modelo\n",
    "Reg = lm(y ~ x1 + x2 + x3 + x4)\n",
    "summary(Reg)"
   ]
  },
  {
   "cell_type": "markdown",
   "id": "3a1bb04d",
   "metadata": {},
   "source": [
    "Según lo observado, con un nivel de significancia del 5%, se concluye que el modelo es globalmente significativo y que todas sus variables son individualmente significativas. Sin embargo, el intercepto no es significativo.\n"
   ]
  },
  {
   "cell_type": "markdown",
   "id": "daafb22c",
   "metadata": {},
   "source": []
  },
  {
   "cell_type": "markdown",
   "id": "d93d5c9d",
   "metadata": {},
   "source": [
    "###### Outliers e Influyentes\n",
    "Como primer paso se procede a revisar los datos outliers de manera gráfica mediante los residuos de la siguiente manera: "
   ]
  },
  {
   "cell_type": "code",
   "execution_count": 32,
   "id": "3ba58272",
   "metadata": {},
   "outputs": [
    {
     "data": {
      "image/png": "[encoded data removed]",
      "text/plain": [
       "plot without title"
      ]
     },
     "metadata": {
      "image/png": {
       "height": 420,
       "width": 420
      }
     },
     "output_type": "display_data"
    }
   ],
   "source": [
    "#Residuales\n",
    "plot(residuos)\n",
    "abline(0,0, col=2)"
   ]
  },
  {
   "cell_type": "markdown",
   "id": "18eeee45",
   "metadata": {},
   "source": [
    "En la anterior gráfica es posible observar que hay algunos datos (puntos) que se encuentran alejados del ceo, o de la linea roja, dado esto, se procede a realizar la comprobación estadística que empieza al estudentizar los residuos de la siguiente manera:"
   ]
  },
  {
   "cell_type": "code",
   "execution_count": 33,
   "id": "41218e55",
   "metadata": {
    "scrolled": true
   },
   "outputs": [
    {
     "data": {
      "image/png": "[encoded data removed]",
      "text/plain": [
       "plot without title"
      ]
     },
     "metadata": {
      "image/png": {
       "height": 420,
       "width": 420
      }
     },
     "output_type": "display_data"
    }
   ],
   "source": [
    "#estudentizar \n",
    "Res <- Reg$residuals\n",
    "x <- as.matrix(cbind(rep(1,dim(data)[1]),data[,2:5]))\n",
    "H <- x%*%solve(t(x)%*%x)%*%t(x)\n",
    "leve <- diag(H)\n",
    "\n",
    "estudentizado <- Res/sqrt(1-leve)\n",
    "plot(estudentizado)                \n",
    "abline(0,0,col=2) "
   ]
  },
  {
   "cell_type": "markdown",
   "id": "c056e9de",
   "metadata": {},
   "source": [
    "Al ver las gráficas se puede pensar en que sí hay indicios de datos outliers pero se debe comprobar si en efecto hay datos outliers o no."
   ]
  },
  {
   "cell_type": "code",
   "execution_count": 34,
   "id": "da9d5dd7",
   "metadata": {},
   "outputs": [
    {
     "data": {
      "text/html": [
       "0.214146318325839"
      ],
      "text/latex": [
       "0.214146318325839"
      ],
      "text/markdown": [
       "0.214146318325839"
      ],
      "text/plain": [
       "[1] 0.2141463"
      ]
     },
     "metadata": {},
     "output_type": "display_data"
    },
    {
     "data": {
      "text/html": [
       "0.125"
      ],
      "text/latex": [
       "0.125"
      ],
      "text/markdown": [
       "0.125"
      ],
      "text/plain": [
       "[1] 0.125"
      ]
     },
     "metadata": {},
     "output_type": "display_data"
    }
   ],
   "source": [
    "#estudentizar \n",
    "p <- dim(Secadoras)[2]-1\n",
    "n <- length(x1)\n",
    "ValorComparar <- (2*p)/n\n",
    "max(leve)\n",
    "ValorComparar "
   ]
  },
  {
   "cell_type": "code",
   "execution_count": 35,
   "id": "4c46f208",
   "metadata": {},
   "outputs": [
    {
     "data": {
      "text/html": [
       "2.77418989199622"
      ],
      "text/latex": [
       "2.77418989199622"
      ],
      "text/markdown": [
       "2.77418989199622"
      ],
      "text/plain": [
       "[1] 2.77419"
      ]
     },
     "metadata": {},
     "output_type": "display_data"
    },
    {
     "data": {
      "text/html": [
       "1.67109303210389"
      ],
      "text/latex": [
       "1.67109303210389"
      ],
      "text/markdown": [
       "1.67109303210389"
      ],
      "text/plain": [
       "[1] 1.671093"
      ]
     },
     "metadata": {},
     "output_type": "display_data"
    }
   ],
   "source": [
    "# Datos outliers\n",
    "t <- Res*sqrt((n-p-1)/(sum((y-predict(Reg))^2)*(1-leve)-Res^2))\n",
    "max(t)\n",
    "qt(0.95,n-p-1)"
   ]
  },
  {
   "cell_type": "markdown",
   "id": "7a6fce82",
   "metadata": {},
   "source": [
    "Se evalúa la existencia de datos influyentes con un valor de 2.7741 contra una $t_{59}$=1.671 y se puede concluir con un nivel de confianza del 95% que existen datos outliers dado que EP < t."
   ]
  },
  {
   "cell_type": "code",
   "execution_count": 36,
   "id": "143060cc",
   "metadata": {},
   "outputs": [
    {
     "data": {
      "text/html": [
       "0.193887012814629"
      ],
      "text/latex": [
       "0.193887012814629"
      ],
      "text/markdown": [
       "0.193887012814629"
      ],
      "text/plain": [
       "[1] 0.193887"
      ]
     },
     "metadata": {},
     "output_type": "display_data"
    },
    {
     "data": {
      "text/html": [
       "0.848732128958395"
      ],
      "text/latex": [
       "0.848732128958395"
      ],
      "text/markdown": [
       "0.848732128958395"
      ],
      "text/plain": [
       "[1] 0.8487321"
      ]
     },
     "metadata": {},
     "output_type": "display_data"
    }
   ],
   "source": [
    "# Datos influyentes - Distancia de Cook\n",
    "cd <- cooks.distance(Reg)\n",
    "max(cd)\n",
    "qf(0.5,p,n-p)"
   ]
  },
  {
   "cell_type": "markdown",
   "id": "ad58f4ae",
   "metadata": {},
   "source": [
    "La prueba utilizada para saber si hay o no datos atipicos fue la distancia de Cook. La cual arrojó un valor de 0.1939 que al compararlo con la distribución F(p,n-p)=0,8487 se puede concluir con una significancia del 5% que no hay datos influyentes en el modelo, pues el valor de Di no es lo suficiente mente grande comparado con la mediana de\n",
    "la distribución F mencionada. "
   ]
  },
  {
   "cell_type": "markdown",
   "id": "e9623aac",
   "metadata": {},
   "source": [
    "###### Normalidad\n",
    "Para el caso del supuesto de normalidad lo primero que se hace es obtener los residuos y a partir de esto, se gráfica el ajuste a través de una Q-Q Plot como lo vemos a continuación:"
   ]
  },
  {
   "cell_type": "code",
   "execution_count": 37,
   "id": "cdda0a15",
   "metadata": {},
   "outputs": [
    {
     "data": {
      "image/png": "[encoded data removed]",
      "text/plain": [
       "Plot with title \"Normal Q-Q Plot\""
      ]
     },
     "metadata": {
      "image/png": {
       "height": 420,
       "width": 420
      }
     },
     "output_type": "display_data"
    }
   ],
   "source": [
    "#Normalidad\n",
    "residuos <- Reg$residuals\n",
    "qqnorm(residuos)\n",
    "abline(0,1,col=2)"
   ]
  },
  {
   "cell_type": "markdown",
   "id": "99226cdc",
   "metadata": {},
   "source": [
    "En la anterior gráfica se puede ver que el comportamiento de los datos no es normal debido a que están muy lejanos de la recta con pendiente 1 que pasa por el origen. \n",
    "\n",
    "Sin embargo, como es una observación gráfica, procedemos a comprobar lo anteriro de manera estadística por medio de la la prueba Shapiro en donde se plantea la siguiente prueba de hipótesis:\n",
    "\n",
    "$$\n",
    "H_0: e_{i} \\sim \\ Normal\n",
    "$$\n",
    "\n",
    "$$\n",
    "H_1:\\lnot\\ H_0\n",
    "$$\n"
   ]
  },
  {
   "cell_type": "code",
   "execution_count": 38,
   "id": "27b5f98e",
   "metadata": {},
   "outputs": [
    {
     "data": {
      "text/plain": [
       "\n",
       "\tShapiro-Wilk normality test\n",
       "\n",
       "data:  residuos\n",
       "W = 0.96241, p-value = 0.04867\n"
      ]
     },
     "metadata": {},
     "output_type": "display_data"
    }
   ],
   "source": [
    "#Normalidad - Shapiro \n",
    "shapiro.test(residuos)"
   ]
  },
  {
   "cell_type": "markdown",
   "id": "e98021eb",
   "metadata": {},
   "source": [
    "Con un nivel de confianza del 95% se rechaza la hipotesis nula, es decir que se puede concluir que los residuos del modelo no se distribuyen normales dado que al realizar la prueba de Shapiro el p-value = 0.04867 lo cual es menor a 5%"
   ]
  },
  {
   "cell_type": "markdown",
   "id": "d37c98ad",
   "metadata": {},
   "source": [
    "###### Autocorrelación\n",
    "Para evaluar si hay o no autocorrelación entre los datos del modelo se decir realizar dos pruebas, la primera es la prueba de Durbin-Watson y la segunda la de Breusch-Godfrey.\n",
    "\n",
    "* Prueba Durbin-Watson:\n",
    "$$\n",
    "H_0:\\rho=0\n",
    "$$\n",
    "\n",
    "$$\n",
    "H_1: \\rho>0\n",
    "$$\n"
   ]
  },
  {
   "cell_type": "code",
   "execution_count": 39,
   "id": "66252d31",
   "metadata": {},
   "outputs": [
    {
     "data": {
      "text/plain": [
       "\n",
       "\tDurbin-Watson test\n",
       "\n",
       "data:  Reg\n",
       "DW = 2.1838, p-value = 0.7863\n",
       "alternative hypothesis: true autocorrelation is greater than 0\n"
      ]
     },
     "metadata": {},
     "output_type": "display_data"
    }
   ],
   "source": [
    "#Autocorrelacion\n",
    "dwtest(Reg)"
   ]
  },
  {
   "cell_type": "markdown",
   "id": "5af5a518",
   "metadata": {},
   "source": [
    "Como se puede ver, el resultado de la prueba de Durbin.Watson arrojó un p-value = 0.7863, por lo que no se rechaza la hipotesis nula dado que el p-value > 5%, es decir que con una confianza del 95% que no hay problemas de autocorrelación. \n",
    "\n"
   ]
  },
  {
   "cell_type": "markdown",
   "id": "8b6b86b5",
   "metadata": {},
   "source": [
    "* Prueba Breusch-Godfrey:\n",
    "$$\n",
    "H_0: \\rho_i=0  \\ \\ \\forall \\ i\\in N\n",
    "$$\n",
    "\n",
    "$$\n",
    "H_1:\\lnot\\ H_0\n",
    "$$"
   ]
  },
  {
   "cell_type": "code",
   "execution_count": 40,
   "id": "c23a42c8",
   "metadata": {},
   "outputs": [
    {
     "data": {
      "text/plain": [
       "\n",
       "\tBreusch-Godfrey test for serial correlation of order up to 1\n",
       "\n",
       "data:  Reg\n",
       "LM test = 0.62711, df = 1, p-value = 0.4284\n"
      ]
     },
     "metadata": {},
     "output_type": "display_data"
    }
   ],
   "source": [
    "#Autocorrelacion\n",
    "bgtest(Reg)"
   ]
  },
  {
   "cell_type": "markdown",
   "id": "1d8ecedc",
   "metadata": {},
   "source": [
    "Como se puede ver, el resultado de la prueba de Breusch-Godfrey arrojó un p-value = 0.4284, por lo que no se rechaza la hipotesis nula dado que el p-value > 5%, es decir que con una confianza del 95% que no hay problemas de autocorrelación. \n",
    "\n",
    "\n",
    "Es claro, por las dos pruebas realizadas que se puede concluir que los datos cumplen con el supuesto de la no autocorrelación. "
   ]
  },
  {
   "cell_type": "markdown",
   "id": "61dc219e",
   "metadata": {},
   "source": [
    "###### Multicolinealidad\n",
    "Para ver si hay o no problemas de multicolinealidad lo primero que se decide hacer es graficar el comportamiento de las variables"
   ]
  },
  {
   "cell_type": "code",
   "execution_count": 41,
   "id": "d1e98109",
   "metadata": {},
   "outputs": [
    {
     "data": {
      "image/png": "[encoded data removed]",
      "text/plain": [
       "plot without title"
      ]
     },
     "metadata": {
      "image/png": {
       "height": 420,
       "width": 420
      }
     },
     "output_type": "display_data"
    }
   ],
   "source": [
    "#Multicolinealidad\n",
    "pairs(Secadoras[,2:5])"
   ]
  },
  {
   "cell_type": "markdown",
   "id": "1726ddcb",
   "metadata": {},
   "source": [
    "Gráficamente no es claro que haya una tendencia entre los datos, pues se ve que las nubes de puntos no tienen una tendencia aparente, es decir que se puede pensar que no hay problemas de multicolinealidad. Sin embargo, para estar seguros se decide obtener los VIF del modelo. Si se llega a obtener algun VIF con un valor muy grande (aprox. mayor a 10) se considera que hay problemas de multicolinealidad. "
   ]
  },
  {
   "cell_type": "code",
   "execution_count": 42,
   "id": "517c6258",
   "metadata": {},
   "outputs": [
    {
     "data": {
      "text/html": [
       "<style>\n",
       ".dl-inline {width: auto; margin:0; padding: 0}\n",
       ".dl-inline>dt, .dl-inline>dd {float: none; width: auto; display: inline-block}\n",
       ".dl-inline>dt::after {content: \":\\0020\"; padding-right: .5ex}\n",
       ".dl-inline>dt:not(:first-of-type) {padding-left: .5ex}\n",
       "</style><dl class=dl-inline><dt>x1</dt><dd>1.11603887660712</dd><dt>x2</dt><dd>1.06518881324987</dd><dt>x3</dt><dd>1.10549294593593</dd><dt>x4</dt><dd>1.16318715676877</dd></dl>\n"
      ],
      "text/latex": [
       "\\begin{description*}\n",
       "\\item[x1] 1.11603887660712\n",
       "\\item[x2] 1.06518881324987\n",
       "\\item[x3] 1.10549294593593\n",
       "\\item[x4] 1.16318715676877\n",
       "\\end{description*}\n"
      ],
      "text/markdown": [
       "x1\n",
       ":   1.11603887660712x2\n",
       ":   1.06518881324987x3\n",
       ":   1.10549294593593x4\n",
       ":   1.16318715676877\n",
       "\n"
      ],
      "text/plain": [
       "      x1       x2       x3       x4 \n",
       "1.116039 1.065189 1.105493 1.163187 "
      ]
     },
     "metadata": {},
     "output_type": "display_data"
    }
   ],
   "source": [
    "vif(Reg)"
   ]
  },
  {
   "cell_type": "markdown",
   "id": "7bef77b6",
   "metadata": {},
   "source": [
    "Como se puede ver en cada uno de los VIF, ninguno es mayor a 10, en realidad son valores muy bajos pues no sobre pasan el 1.2, por tal motivo se puede concluir que el modelo no tiene problemas de multicolinealidad. "
   ]
  },
  {
   "cell_type": "markdown",
   "id": "8ab2035e",
   "metadata": {},
   "source": [
    "###### Heterocedasticidad\n",
    "Se procede ahora a evaluar el supuesto de homocedasticidad, para esto se realiza la prueba de Breusch-Pagan que consiste en evaluar el siguiente modelo:\n",
    "$$\n",
    "e_{i^2}=\\alpha_0+\\alpha_1X_{1i}+\\alpha_2X_{2i}+\\alpha_3X_{3i}+\\alpha_4X_{4i}+w_i\n",
    "$$\n",
    "\n",
    "y se plantea la siguiente prueba de hipotesis: \n",
    "$$\n",
    "H_0: \\alpha_1 = \\alpha_2 =\\alpha_3 =\\alpha_4= 0\n",
    "$$\n",
    "\n",
    "$$\n",
    "H_1:\\exists i \\in \\{1,2,3,4\\} | \\alpha_i \\neq 0\n",
    "$$"
   ]
  },
  {
   "cell_type": "code",
   "execution_count": 43,
   "id": "498f1536",
   "metadata": {},
   "outputs": [
    {
     "data": {
      "text/plain": [
       "\n",
       "\tstudentized Breusch-Pagan test\n",
       "\n",
       "data:  Reg\n",
       "BP = 10.251, df = 4, p-value = 0.03641\n"
      ]
     },
     "metadata": {},
     "output_type": "display_data"
    }
   ],
   "source": [
    "#Heteroscedasticidad\n",
    "bptest(Reg)"
   ]
  },
  {
   "cell_type": "markdown",
   "id": "fd1eb8a4",
   "metadata": {},
   "source": [
    "Al realizar la prueba se puede concluir que con un nivel de confianza del 95% hay suficiente evidencia estadística para rechazar $H_0$, es decir que efectivamente hay problemas de heteroscedasticidad, dado que el p-value es 0.03641 lo cual es menor a 5% que es el nivel de significancia. "
   ]
  },
  {
   "cell_type": "markdown",
   "id": "8b503c94",
   "metadata": {},
   "source": [
    "Dado que se encontró problemas de heteroscedasticidad, se realizó la evaluación de las variables en las cuales se encuentran problemas de heteroscedasticidad dentro del modelo:"
   ]
  },
  {
   "cell_type": "code",
   "execution_count": 44,
   "id": "cc223613",
   "metadata": {},
   "outputs": [
    {
     "data": {
      "text/html": [
       "<style>\n",
       ".list-inline {list-style: none; margin:0; padding: 0}\n",
       ".list-inline>li {display: inline-block}\n",
       ".list-inline>li:not(:last-child)::after {content: \"\\00b7\"; padding: 0 .5ex}\n",
       "</style>\n",
       "<ol class=list-inline><li>0.0664786325300228</li><li>0.906034166224694</li><li>0.0249270999553429</li><li>0.654305765582234</li></ol>\n"
      ],
      "text/latex": [
       "\\begin{enumerate*}\n",
       "\\item 0.0664786325300228\n",
       "\\item 0.906034166224694\n",
       "\\item 0.0249270999553429\n",
       "\\item 0.654305765582234\n",
       "\\end{enumerate*}\n"
      ],
      "text/markdown": [
       "1. 0.0664786325300228\n",
       "2. 0.906034166224694\n",
       "3. 0.0249270999553429\n",
       "4. 0.654305765582234\n",
       "\n",
       "\n"
      ],
      "text/plain": [
       "[1] 0.06647863 0.90603417 0.02492710 0.65430577"
      ]
     },
     "metadata": {},
     "output_type": "display_data"
    }
   ],
   "source": [
    "residuos2 <- residuos^2\n",
    "n <- length(y)\n",
    "\n",
    "model1 <- lm(residuos2~y) \n",
    "pvalor1 <- 1-pchisq(n*summary(model1)$r.squared,1)\n",
    "\n",
    "model2 <- lm(residuos2~x1) \n",
    "pvalor2 <- 1-pchisq(n*summary(model2)$r.squared,1)\n",
    "\n",
    "model3 <- lm(residuos2~x2) \n",
    "pvalor3 <- 1-pchisq(n*summary(model3)$r.squared,1)\n",
    "\n",
    "model4 <- lm(residuos2~x3) \n",
    "pvalor4 <- 1-pchisq(n*summary(model4)$r.squared,1)\n",
    "\n",
    "pvalores <- c(pvalor1,pvalor2,pvalor3,pvalor4)\n",
    "pvalores"
   ]
  },
  {
   "cell_type": "markdown",
   "id": "5d61c913",
   "metadata": {},
   "source": [
    "Al observar los p-values de cada una de las variables se puede concluir que las variables de Consumo y Competencia son las que están generando los problemas de heteroscedasticidad esto dado que los p-value de estas dos variables son menores a nuestro nivel de significancia del 5%. "
   ]
  },
  {
   "cell_type": "markdown",
   "id": "3f460bb8",
   "metadata": {},
   "source": [
    "###### Independencia\n",
    "Para corroborar si los datos son independiente se realiza la prueba de Durbin-Watson"
   ]
  },
  {
   "cell_type": "code",
   "execution_count": 45,
   "id": "93ea0ace",
   "metadata": {},
   "outputs": [
    {
     "data": {
      "text/plain": [
       "\n",
       "\tDurbin-Watson test\n",
       "\n",
       "data:  Reg\n",
       "DW = 2.1838, p-value = 0.7863\n",
       "alternative hypothesis: true autocorrelation is greater than 0\n"
      ]
     },
     "metadata": {},
     "output_type": "display_data"
    },
    {
     "data": {
      "image/png": "[encoded data removed]",
      "text/plain": [
       "plot without title"
      ]
     },
     "metadata": {
      "image/png": {
       "height": 420,
       "width": 420
      }
     },
     "output_type": "display_data"
    },
    {
     "data": {
      "image/png": "[encoded data removed]",
      "text/plain": [
       "plot without title"
      ]
     },
     "metadata": {
      "image/png": {
       "height": 420,
       "width": 420
      }
     },
     "output_type": "display_data"
    }
   ],
   "source": [
    "dwtest(Reg)\n",
    "plot(residuos,type=\"b\",lwd=2)\n",
    "abline(0,0, col=2, lwd=2)\n",
    "plot(residuos[1:(n-1)],residuos[2:n],lwd=2)\n",
    "abline(0,0, col=2, lwd=2)"
   ]
  },
  {
   "cell_type": "markdown",
   "id": "d2d050f1",
   "metadata": {},
   "source": [
    "Tanto con las gráficas como con la prueba se puede concluir bajo un nivel de significancia del 5% que no se rechaza la hipótesis nula por lo que el coeficiente de autocorrelación es cero y por lo tanto no se viola el supuesto de independencia. "
   ]
  },
  {
   "cell_type": "markdown",
   "id": "553c98af",
   "metadata": {},
   "source": [
    "#### 2. Encuentre una manera de solucionar el problema de las varianzas."
   ]
  },
  {
   "cell_type": "markdown",
   "id": "7b552573",
   "metadata": {},
   "source": [
    "Lo primero es recordar la prueba de heterocedasticidad, es decir la pruena de Breusch-Pagan que consiste en evaluar el siguiente modelo:\n",
    "$$\n",
    "e_{i^2}=\\alpha_0+\\alpha_1X_{1i}+\\alpha_2X_{2i}+\\alpha_3X_{3i}+\\alpha_4X_{4i}+w_i\n",
    "$$\n",
    "\n",
    "y se plantea la siguiente prueba de hipotesis: \n",
    "$$\n",
    "H_0: \\alpha_1 = \\alpha_2 =\\alpha_3 =\\alpha_4= 0\n",
    "$$\n",
    "\n",
    "$$\n",
    "H_1:\\exists i \\in \\{1,2,3,4\\} | \\alpha_i \\neq 0\n",
    "$$"
   ]
  },
  {
   "cell_type": "code",
   "execution_count": 46,
   "id": "4011dab8",
   "metadata": {},
   "outputs": [
    {
     "data": {
      "text/plain": [
       "\n",
       "\tstudentized Breusch-Pagan test\n",
       "\n",
       "data:  Reg\n",
       "BP = 10.251, df = 4, p-value = 0.03641\n"
      ]
     },
     "metadata": {},
     "output_type": "display_data"
    }
   ],
   "source": [
    "#Heteroscedasticidad\n",
    "bptest(Reg)"
   ]
  },
  {
   "cell_type": "markdown",
   "id": "deececf0",
   "metadata": {},
   "source": [
    "Al realizar la prueba se puede concluir que con un nivel de confianza del 95% hay suficiente evidencia estadística para rechazar $H_0$, es decir que efectivamente hay problemas de heteroscedasticidad, dado que el p-value es 0.03641 lo cual es menor a 5% que es el nivel de significancia. "
   ]
  },
  {
   "cell_type": "markdown",
   "id": "fa4d75d4",
   "metadata": {},
   "source": [
    "Dado que se encontró problemas de heteroscedasticidad, se realizó la evaluación de las variables en las cuales se encuentran problemas de heteroscedasticidad dentro del modelo:"
   ]
  },
  {
   "cell_type": "code",
   "execution_count": 47,
   "id": "2d7c0f76",
   "metadata": {
    "scrolled": true
   },
   "outputs": [
    {
     "data": {
      "text/html": [
       "<style>\n",
       ".list-inline {list-style: none; margin:0; padding: 0}\n",
       ".list-inline>li {display: inline-block}\n",
       ".list-inline>li:not(:last-child)::after {content: \"\\00b7\"; padding: 0 .5ex}\n",
       "</style>\n",
       "<ol class=list-inline><li>0.0664786325300228</li><li>0.906034166224694</li><li>0.0249270999553429</li><li>0.654305765582234</li></ol>\n"
      ],
      "text/latex": [
       "\\begin{enumerate*}\n",
       "\\item 0.0664786325300228\n",
       "\\item 0.906034166224694\n",
       "\\item 0.0249270999553429\n",
       "\\item 0.654305765582234\n",
       "\\end{enumerate*}\n"
      ],
      "text/markdown": [
       "1. 0.0664786325300228\n",
       "2. 0.906034166224694\n",
       "3. 0.0249270999553429\n",
       "4. 0.654305765582234\n",
       "\n",
       "\n"
      ],
      "text/plain": [
       "[1] 0.06647863 0.90603417 0.02492710 0.65430577"
      ]
     },
     "metadata": {},
     "output_type": "display_data"
    }
   ],
   "source": [
    "residuos2 <- residuos^2\n",
    "n <- length(y)\n",
    "\n",
    "model1 <- lm(residuos2~y) \n",
    "pvalor1 <- 1-pchisq(n*summary(model1)$r.squared,1)\n",
    "\n",
    "model2 <- lm(residuos2~x1) \n",
    "pvalor2 <- 1-pchisq(n*summary(model2)$r.squared,1)\n",
    "\n",
    "model3 <- lm(residuos2~x2) \n",
    "pvalor3 <- 1-pchisq(n*summary(model3)$r.squared,1)\n",
    "\n",
    "model4 <- lm(residuos2~x3) \n",
    "pvalor4 <- 1-pchisq(n*summary(model4)$r.squared,1)\n",
    "\n",
    "pvalores <- c(pvalor1,pvalor2,pvalor3,pvalor4)\n",
    "pvalores"
   ]
  },
  {
   "cell_type": "markdown",
   "id": "af878979",
   "metadata": {},
   "source": [
    "Al observar los p-values de cada una de las variables se puede concluir que las variables de Consumo y Competencia son las que están generando los problemas de heteroscedasticidad esto dado que los p-value de estas dos variables son menores a nuestro nivel de significancia del 5%. "
   ]
  },
  {
   "cell_type": "markdown",
   "id": "f238f0c6",
   "metadata": {},
   "source": [
    "Para solucionar el problema de las varianzas se debe tener en cuenta que las variables donde se demostró que había los problemas eran: consumo y competencia. Por lo que para solucionarlo se procede a utilizar Mínimos Cuadrados Ponderados Factibles (FWLS). \n",
    "\n",
    "Lo primero que se debe hacer es calcular la matriz:\n",
    "$$\n",
    "\\hat{\\Omega}=\\left[\\begin{matrix}{\\hat{\\sigma}}_1^2&\\cdots&0\\\\\\vdots&\\ddots&\\vdots\\\\0&\\cdots&{\\hat{\\sigma}}_n^2\\\\\\end{matrix}\\right]\n",
    "$$\n",
    "Para poder encontrar los betas y las varianzas se emplean las siguientes ecuaciones:\n",
    "$$\n",
    "{\\hat{\\beta}}_{FWLS}=(X^T {\\hat{\\Omega}}^{-1} X)^{-1}(X^T {\\hat{\\Omega}}^{-1} Y)\n",
    "$$\n",
    "\n",
    "$$\n",
    "{\\widehat{Var}}_{FWLS}=(X^T {\\hat{\\Omega}}^{-1} X)^{-1}((X^T \\hat{\\Lambda} X))(X^T {\\hat{\\Omega}}^{-1} Y)^{-1}\n",
    "$$\n",
    "\n",
    "Sabiendo que:\n",
    "$$\n",
    "\\hat{\\Lambda}=\\left[\\begin{matrix}\\frac{\\left(e_{j_1}\\right)^2}{\\left({\\hat{\\sigma}}_1^2\\right)^2}&\\cdots&0\\\\\\vdots&\\ddots&\\vdots\\\\0&\\cdots&\\frac{\\left(e_{j_n}\\right)^2}{\\left({\\hat{\\sigma}}_n^2\\right)^2}\\\\\\end{matrix}\\right]\n",
    "$$"
   ]
  },
  {
   "cell_type": "code",
   "execution_count": 48,
   "id": "23de74ad",
   "metadata": {
    "scrolled": true
   },
   "outputs": [
    {
     "data": {
      "text/plain": [
       "\n",
       "Call:\n",
       "lm(formula = logResiduos2 ~ x2)\n",
       "\n",
       "Residuals:\n",
       "    Min      1Q  Median      3Q     Max \n",
       "-4.5056 -1.0302  0.0569  1.0845  3.4462 \n",
       "\n",
       "Coefficients:\n",
       "            Estimate Std. Error t value Pr(>|t|)   \n",
       "(Intercept)  2.40209    0.70245   3.420  0.00111 **\n",
       "x2           0.24809    0.09814   2.528  0.01404 * \n",
       "---\n",
       "Signif. codes:  0 '***' 0.001 '**' 0.01 '*' 0.05 '.' 0.1 ' ' 1\n",
       "\n",
       "Residual standard error: 1.672 on 62 degrees of freedom\n",
       "Multiple R-squared:  0.09344,\tAdjusted R-squared:  0.07882 \n",
       "F-statistic:  6.39 on 1 and 62 DF,  p-value: 0.01404\n"
      ]
     },
     "metadata": {},
     "output_type": "display_data"
    }
   ],
   "source": [
    "fit <- lm(y~x1 + x2 + x3 + x4)\n",
    "x <- as.matrix(cbind(rep(1,n), data[,2:5]))\n",
    "x22 <- as.matrix(cbind(rep(1,n), data[,3]))\n",
    "logResiduos2 <- log(residuos2)\n",
    "regresionlog <- lm(logResiduos2~x2)\n",
    "summary(regresionlog)"
   ]
  },
  {
   "cell_type": "markdown",
   "id": "7f5bcedf",
   "metadata": {},
   "source": [
    "Con el modelo de los residuales al cuadrado y calculado el logaritmo de esos residuales al cuadrado se procede a calcular $\\hat{\\sigma}^2 = exp(x_2*\\alpha)$"
   ]
  },
  {
   "cell_type": "code",
   "execution_count": 49,
   "id": "b25b6c17",
   "metadata": {},
   "outputs": [],
   "source": [
    "alpha <- regresionlog$coefficients\n",
    "yhat <- exp(x22 %*% alpha)\n",
    "sigma2 <- diag(as.numeric(yhat))\n",
    "Omega <- sigma2\n",
    "xwx <- solve(t(x) %*% solve(Omega) %*% x)\n",
    "\n",
    "betasFWLS <- (xwx) %*% t(x) %*% solve(Omega) %*% y"
   ]
  },
  {
   "cell_type": "markdown",
   "id": "e6953ae8",
   "metadata": {},
   "source": [
    "Con lo anterior ya se tiene todo lo necesario para calcular los ${\\hat{\\beta}}_{FWLS}$"
   ]
  },
  {
   "cell_type": "code",
   "execution_count": 50,
   "id": "57724ce3",
   "metadata": {},
   "outputs": [
    {
     "data": {
      "text/html": [
       "<style>\n",
       ".dl-inline {width: auto; margin:0; padding: 0}\n",
       ".dl-inline>dt, .dl-inline>dd {float: none; width: auto; display: inline-block}\n",
       ".dl-inline>dt::after {content: \":\\0020\"; padding-right: .5ex}\n",
       ".dl-inline>dt:not(:first-of-type) {padding-left: .5ex}\n",
       "</style><dl class=dl-inline><dt>rep(1, n)</dt><dd>61.8765895515794</dd><dt>precio</dt><dd>0.397257678705449</dd><dt>consumo</dt><dd>0.743750184339831</dd><dt>publicidad</dt><dd>0.664658090046234</dd><dt>competencia</dt><dd>0.703219120311748</dd></dl>\n"
      ],
      "text/latex": [
       "\\begin{description*}\n",
       "\\item[rep(1, n)] 61.8765895515794\n",
       "\\item[precio] 0.397257678705449\n",
       "\\item[consumo] 0.743750184339831\n",
       "\\item[publicidad] 0.664658090046234\n",
       "\\item[competencia] 0.703219120311748\n",
       "\\end{description*}\n"
      ],
      "text/markdown": [
       "rep(1, n)\n",
       ":   61.8765895515794precio\n",
       ":   0.397257678705449consumo\n",
       ":   0.743750184339831publicidad\n",
       ":   0.664658090046234competencia\n",
       ":   0.703219120311748\n",
       "\n"
      ],
      "text/plain": [
       "  rep(1, n)      precio     consumo  publicidad competencia \n",
       " 61.8765896   0.3972577   0.7437502   0.6646581   0.7032191 "
      ]
     },
     "metadata": {},
     "output_type": "display_data"
    },
    {
     "data": {
      "text/html": [
       "<table class=\"dataframe\">\n",
       "<caption>A matrix: 5 × 5 of type dbl</caption>\n",
       "<thead>\n",
       "\t<tr><th></th><th scope=col>rep(1, n)</th><th scope=col>precio</th><th scope=col>consumo</th><th scope=col>publicidad</th><th scope=col>competencia</th></tr>\n",
       "</thead>\n",
       "<tbody>\n",
       "\t<tr><th scope=row>rep(1, n)</th><td>61.8765896</td><td>-2.4217174</td><td>-0.4465377</td><td>-4.0217233</td><td> 0.7171486</td></tr>\n",
       "\t<tr><th scope=row>precio</th><td>-2.4217174</td><td> 0.3972577</td><td>-0.2739401</td><td> 0.0149117</td><td>-0.3346344</td></tr>\n",
       "\t<tr><th scope=row>consumo</th><td>-0.4465377</td><td>-0.2739401</td><td> 0.7437502</td><td>-0.1847683</td><td> 0.4873066</td></tr>\n",
       "\t<tr><th scope=row>publicidad</th><td>-4.0217233</td><td> 0.0149117</td><td>-0.1847683</td><td> 0.6646581</td><td>-0.1647921</td></tr>\n",
       "\t<tr><th scope=row>competencia</th><td> 0.7171486</td><td>-0.3346344</td><td> 0.4873066</td><td>-0.1647921</td><td> 0.7032191</td></tr>\n",
       "</tbody>\n",
       "</table>\n"
      ],
      "text/latex": [
       "A matrix: 5 × 5 of type dbl\n",
       "\\begin{tabular}{r|lllll}\n",
       "  & rep(1, n) & precio & consumo & publicidad & competencia\\\\\n",
       "\\hline\n",
       "\trep(1, n) & 61.8765896 & -2.4217174 & -0.4465377 & -4.0217233 &  0.7171486\\\\\n",
       "\tprecio & -2.4217174 &  0.3972577 & -0.2739401 &  0.0149117 & -0.3346344\\\\\n",
       "\tconsumo & -0.4465377 & -0.2739401 &  0.7437502 & -0.1847683 &  0.4873066\\\\\n",
       "\tpublicidad & -4.0217233 &  0.0149117 & -0.1847683 &  0.6646581 & -0.1647921\\\\\n",
       "\tcompetencia &  0.7171486 & -0.3346344 &  0.4873066 & -0.1647921 &  0.7032191\\\\\n",
       "\\end{tabular}\n"
      ],
      "text/markdown": [
       "\n",
       "A matrix: 5 × 5 of type dbl\n",
       "\n",
       "| <!--/--> | rep(1, n) | precio | consumo | publicidad | competencia |\n",
       "|---|---|---|---|---|---|\n",
       "| rep(1, n) | 61.8765896 | -2.4217174 | -0.4465377 | -4.0217233 |  0.7171486 |\n",
       "| precio | -2.4217174 |  0.3972577 | -0.2739401 |  0.0149117 | -0.3346344 |\n",
       "| consumo | -0.4465377 | -0.2739401 |  0.7437502 | -0.1847683 |  0.4873066 |\n",
       "| publicidad | -4.0217233 |  0.0149117 | -0.1847683 |  0.6646581 | -0.1647921 |\n",
       "| competencia |  0.7171486 | -0.3346344 |  0.4873066 | -0.1647921 |  0.7032191 |\n",
       "\n"
      ],
      "text/plain": [
       "            rep(1, n)  precio     consumo    publicidad competencia\n",
       "rep(1, n)   61.8765896 -2.4217174 -0.4465377 -4.0217233  0.7171486 \n",
       "precio      -2.4217174  0.3972577 -0.2739401  0.0149117 -0.3346344 \n",
       "consumo     -0.4465377 -0.2739401  0.7437502 -0.1847683  0.4873066 \n",
       "publicidad  -4.0217233  0.0149117 -0.1847683  0.6646581 -0.1647921 \n",
       "competencia  0.7171486 -0.3346344  0.4873066 -0.1647921  0.7032191 "
      ]
     },
     "metadata": {},
     "output_type": "display_data"
    }
   ],
   "source": [
    "library(lmtest)\n",
    "resinew <- (y - x %*% betasFWLS)^2\n",
    "aux <- lm(resinew ~ x1 + x2 + x3 + x4)\n",
    "v <- matrix(rep(0,64*64),ncol=64)\n",
    "v <- diag(as.numeric(resinew / diag(Omega^2)))\n",
    "xv <- t(x) %*% v %*% x\n",
    "varFWLS <- xwx %*% xv %*% xwx\n",
    "diag(varFWLS)\n",
    "varFWLS"
   ]
  },
  {
   "cell_type": "markdown",
   "id": "986d685e",
   "metadata": {},
   "source": [
    "Con el nuevo modelo se debe comprobar que se logró correguir el problema de la heterocedasticidad, por lo que se porcede a lo siguiente: "
   ]
  },
  {
   "cell_type": "code",
   "execution_count": 51,
   "id": "e723005d",
   "metadata": {},
   "outputs": [
    {
     "data": {
      "text/plain": [
       "\n",
       "Call:\n",
       "lm(formula = y ~ x1 + x2 + x3 + x4, weights = 1/error)\n",
       "\n",
       "Weighted Residuals:\n",
       "    Min      1Q  Median      3Q     Max \n",
       "-5.8604 -0.9888 -0.1396  1.2362  4.0739 \n",
       "\n",
       "Coefficients:\n",
       "            Estimate Std. Error t value Pr(>|t|)    \n",
       "(Intercept)  18.5547    11.0620   1.677 0.098769 .  \n",
       "x1           -4.2095     0.7203  -5.844 2.34e-07 ***\n",
       "x2           -8.1084     0.9022  -8.988 1.20e-12 ***\n",
       "x3            3.0404     0.9873   3.080 0.003145 ** \n",
       "x4            2.9430     0.7925   3.714 0.000455 ***\n",
       "---\n",
       "Signif. codes:  0 '***' 0.001 '**' 0.01 '*' 0.05 '.' 0.1 ' ' 1\n",
       "\n",
       "Residual standard error: 1.819 on 59 degrees of freedom\n",
       "Multiple R-squared:  0.7253,\tAdjusted R-squared:  0.7067 \n",
       "F-statistic: 38.94 on 4 and 59 DF,  p-value: 6.267e-16\n"
      ]
     },
     "metadata": {},
     "output_type": "display_data"
    },
    {
     "data": {
      "text/plain": [
       "\n",
       "\tstudentized Breusch-Pagan test\n",
       "\n",
       "data:  modelobp\n",
       "BP = 4.2568, df = 4, p-value = 0.3724\n"
      ]
     },
     "metadata": {},
     "output_type": "display_data"
    }
   ],
   "source": [
    "logerror <- predict(regresionlog)\n",
    "error <- exp(logerror)\n",
    "\n",
    "modelonew <- lm(y~ x1 + x2 + x3 + x4, weights = 1/error)\n",
    "summary(modelonew)\n",
    "\n",
    "resinew2 <- modelonew$residuals^2\n",
    "modelobp <- lm(resinew2~x1 + x2 + x3 + x4)\n",
    "bptest(modelobp)"
   ]
  },
  {
   "cell_type": "markdown",
   "id": "b0522273",
   "metadata": {},
   "source": [
    "Con este p-value = 0.3724 que es mayor a 5%, se puede concluir que el modelo ya no presenta problemas de heteroscedasticidad con un nivel de confianza del 95% dado que no se rechaza $H_0$."
   ]
  },
  {
   "cell_type": "markdown",
   "id": "44c6763e",
   "metadata": {},
   "source": [
    "#### 3. Un reconocido economista afirma que el efecto del precio es el mismo que el de la competencia pero son signo contrario, y además que el efecto del consumo de energía es cuatro veces que el del gasto en publicidad con signo contrario. Cree Usted que los datos contradicen la afirmación del economista? Use al menos dos formas diferentes adecuadas para probar esta hipótesis"
   ]
  },
  {
   "cell_type": "markdown",
   "id": "cec98124",
   "metadata": {},
   "source": [
    "El primer método para probar si la afirmación del economista es cierta o no, es una prueba de Wald con la siguiente prueba de hipótesis:\n",
    "$$\n",
    "H_0:\\ \\ \\ \\left\\{\\begin{matrix}\\beta_{1\\ \\left(FWLS\\right)}+\\beta_{4\\ \\left(FWLS\\right)}=0\\\\\\beta_{2\\ \\left(FWLS\\right)}+4{\\cdot\\beta}_{3\\ \\left(FWLS\\right)}=0\\\\\\end{matrix}\\right.\n",
    "$$\n",
    "\n",
    "$$\n",
    "H_1:\\ \\ \\ \\lnot\\ H_0\n",
    "$$\n",
    "\n"
   ]
  },
  {
   "cell_type": "code",
   "execution_count": 52,
   "id": "a9f6e0fb",
   "metadata": {},
   "outputs": [
    {
     "data": {
      "text/html": [
       "<table class=\"dataframe\">\n",
       "<caption>A matrix: 1 × 1 of type dbl</caption>\n",
       "<tbody>\n",
       "\t<tr><td>4.611612</td></tr>\n",
       "</tbody>\n",
       "</table>\n"
      ],
      "text/latex": [
       "A matrix: 1 × 1 of type dbl\n",
       "\\begin{tabular}{l}\n",
       "\t 4.611612\\\\\n",
       "\\end{tabular}\n"
      ],
      "text/markdown": [
       "\n",
       "A matrix: 1 × 1 of type dbl\n",
       "\n",
       "| 4.611612 |\n",
       "\n"
      ],
      "text/plain": [
       "     [,1]    \n",
       "[1,] 4.611612"
      ]
     },
     "metadata": {},
     "output_type": "display_data"
    },
    {
     "data": {
      "text/html": [
       "5.99146454710798"
      ],
      "text/latex": [
       "5.99146454710798"
      ],
      "text/markdown": [
       "5.99146454710798"
      ],
      "text/plain": [
       "[1] 5.991465"
      ]
     },
     "metadata": {},
     "output_type": "display_data"
    },
    {
     "data": {
      "text/html": [
       "<table class=\"dataframe\">\n",
       "<caption>A matrix: 1 × 1 of type dbl</caption>\n",
       "<tbody>\n",
       "\t<tr><td>0.09967841</td></tr>\n",
       "</tbody>\n",
       "</table>\n"
      ],
      "text/latex": [
       "A matrix: 1 × 1 of type dbl\n",
       "\\begin{tabular}{l}\n",
       "\t 0.09967841\\\\\n",
       "\\end{tabular}\n"
      ],
      "text/markdown": [
       "\n",
       "A matrix: 1 × 1 of type dbl\n",
       "\n",
       "| 0.09967841 |\n",
       "\n"
      ],
      "text/plain": [
       "     [,1]      \n",
       "[1,] 0.09967841"
      ]
     },
     "metadata": {},
     "output_type": "display_data"
    }
   ],
   "source": [
    "a <- matrix(c(0,1,0,0,1,0,0,1,4,0),ncol=5,byrow = T)\n",
    "EP <- t(a %*% betasFWLS) %*% solve(a %*% varFWLS %*% t(a)) %*% (a %*% betasFWLS)\n",
    "EP\n",
    "wcr <- qchisq(0.95,2) \n",
    "wcr\n",
    "pvalue <- 1-pchisq(EP,2)\n",
    "pvalue"
   ]
  },
  {
   "cell_type": "markdown",
   "id": "d293a000",
   "metadata": {},
   "source": [
    "Como se puede observar el valor del estadístico de prueba es $EP = 4.6116$ y el $w_{cr}=5.9915$ y el $p-value =0,0997$. Cómo el $EP<w_{cr}$ y p-value>5% entonces se puede concluir, bajo un nivel de confianza del 95% que no se rechaza la $H_0$, por lo cual no hay suficiente evidencia estadística para rechazar la afirmación del economista."
   ]
  },
  {
   "cell_type": "markdown",
   "id": "1357b2d7",
   "metadata": {},
   "source": [
    "Otro método que se puede utilizar para probar si la afirmación del economísta es correcta o no es el método de Bootstrap. Mediante este método se realizan remuestreos de las observaciones de la base de datos y se saca FWLS para cada uno de los conjuntos creados de la siguiente manera:"
   ]
  },
  {
   "cell_type": "code",
   "execution_count": 53,
   "id": "59bfab65",
   "metadata": {
    "scrolled": true
   },
   "outputs": [
    {
     "data": {
      "image/png": "[encoded data removed]",
      "text/plain": [
       "plot without title"
      ]
     },
     "metadata": {
      "image/png": {
       "height": 420,
       "width": 420
      }
     },
     "output_type": "display_data"
    }
   ],
   "source": [
    "##Bootstrap\n",
    "nn <- 1000\n",
    "B_Boot <- matrix(rep(0,nn * 5),ncol = 5)\n",
    "\n",
    "\n",
    "for(i in 1:1000){\n",
    "  id <- sample(seq(1:64),64,replace = T)\n",
    "  xs <- x[id,]\n",
    "  ys <- y[id]\n",
    "  beta_R <-solve(t(xs)%*%solve(Omega)%*%xs)%*%(t(xs)%*%solve(Omega)%*%ys)\n",
    "  B_Boot[i,] <-beta_R\n",
    "}\n",
    "  \n",
    "\n",
    "library(ggplot2) \n",
    "R1 <- B_Boot[,2] + B_Boot[,5]\n",
    "R2 <- B_Boot[,3] + 4 * B_Boot[,4]\n",
    "HE <- data.frame(R1,R2)\n",
    "ggplot(HE, aes(R1,R2))+geom_point()+stat_ellipse()+geom_point(aes(0,0), col=\"red\")\n"
   ]
  },
  {
   "cell_type": "markdown",
   "id": "261a5d94",
   "metadata": {},
   "source": [
    "Dado que el punto 𝑐 = (0,0) cae dentro de la elipse de confianza, se puede concluir que los datos no contradicen la afirmación del economista bajo un nivel de confianza del 95%."
   ]
  },
  {
   "cell_type": "markdown",
   "id": "3df8075a",
   "metadata": {},
   "source": [
    "### Problema 5. Efectos de medidas preventivas en la severidad del coronavirus."
   ]
  },
  {
   "cell_type": "markdown",
   "id": "d4666e5c",
   "metadata": {},
   "source": [
    "Una de las preguntas más comunes en política de salud pública en la actualidad, es determinar el efecto de las medidas de restricción de movilidad o de actividades que impliquen reducir el contacto entre personas. Esto es por ejemplo, las cuarentenas, el pico y cédula, la prohibición de clases presenciales, uso de tapabocas, etc. Por conveniencia, estas medidas han sido agrupadas en una sola métrica conocide con el _Stringency Index_. Para entender cómo se calcula, puede revisar los documentos relacionados en: https://covidtracker.bsg.ox.ac.uk/."
   ]
  },
  {
   "cell_type": "markdown",
   "id": "6fdf6263",
   "metadata": {},
   "source": [
    "En un modelo simplificado, se quiere probar el efecto de esta medidas en Colombia (usando el _stringency\n",
    "index_) sobre la tasa de mortalidad usando el modelo:"
   ]
  },
  {
   "cell_type": "markdown",
   "id": "a613168f",
   "metadata": {},
   "source": [
    "$$\n",
    "    \\log(MR_t) = \\beta_0 + \\beta_1 SI_t + \\beta_2 \\log(NC_t) + \\varepsilon_t\n",
    "$$"
   ]
  },
  {
   "cell_type": "markdown",
   "id": "b48d5d77",
   "metadata": {},
   "source": [
    "Donde $MR_t$ corresponde a la tasa de mortalidad (número de muertes por Covid por cada millón de habitantes) en el día $t$, $NC_t$ corresponde al número de casos confirmados (por cada millón de habitantes) durante los últimos 14 días antes de $t$, y $SI_t$ corresponde al promedio del _stringency index_ para los 14 días anteriores a $t$, es decir:"
   ]
  },
  {
   "cell_type": "markdown",
   "id": "9acdc807",
   "metadata": {},
   "source": [
    "$$\n",
    "    SI_t = \\frac{\\sum_{i = 1}^{14}strind_{t-i}}{14},\n",
    "$$\n",
    "\n",
    "$$\n",
    "    NC_t = \\sum_{i = 1}^{14} nc_t.\n",
    "$$"
   ]
  },
  {
   "cell_type": "markdown",
   "id": "371b454e",
   "metadata": {},
   "source": [
    "$strind_t$ es la medida del _stringency index_ en el día $t$ y $nc_t$ es el número de casos confirmados en el día $t$. Para evitar problemas con los logaritmos, cuando las variables $MR_t$ o $NC_t$ tomen el valor de cero, entonces aproxímelos como 1. Si considera que en la base da datos existen variables importantes para tener un modelo mejor específicado, no dude en incluirlas."
   ]
  },
  {
   "cell_type": "markdown",
   "id": "77951987",
   "metadata": {},
   "source": [
    "Note que este modelo es definido sobre series de tiempo. Como periodo de estudio, use datos desde el noviembre 1 del 2020 hasta noviembre 1 de 2021. Para obtener los datos de las variables, puede revisar: https://ourworldindata.org/grapher/covid-stringency-index."
   ]
  },
  {
   "cell_type": "code",
   "execution_count": 54,
   "id": "d1925d02-7414-4c8c-89b4-060efdb0225e",
   "metadata": {},
   "outputs": [
    {
     "data": {
      "text/html": [
       "<table class=\"dataframe\">\n",
       "<caption>A tibble: 6 × 3</caption>\n",
       "<thead>\n",
       "\t<tr><th scope=col>new_deaths_per_million</th><th scope=col>SI_t</th><th scope=col>NC_t</th></tr>\n",
       "\t<tr><th scope=col>&lt;dbl&gt;</th><th scope=col>&lt;dbl&gt;</th><th scope=col>&lt;dbl&gt;</th></tr>\n",
       "</thead>\n",
       "<tbody>\n",
       "\t<tr><td>3.894</td><td>65.74</td><td>2264.138</td></tr>\n",
       "\t<tr><td>3.701</td><td>65.74</td><td>2225.101</td></tr>\n",
       "\t<tr><td>3.046</td><td>65.74</td><td>2158.324</td></tr>\n",
       "\t<tr><td>3.508</td><td>65.74</td><td>2153.986</td></tr>\n",
       "\t<tr><td>3.817</td><td>65.74</td><td>2118.921</td></tr>\n",
       "\t<tr><td>3.239</td><td>65.74</td><td>2072.578</td></tr>\n",
       "</tbody>\n",
       "</table>\n"
      ],
      "text/latex": [
       "A tibble: 6 × 3\n",
       "\\begin{tabular}{lll}\n",
       " new\\_deaths\\_per\\_million & SI\\_t & NC\\_t\\\\\n",
       " <dbl> & <dbl> & <dbl>\\\\\n",
       "\\hline\n",
       "\t 3.894 & 65.74 & 2264.138\\\\\n",
       "\t 3.701 & 65.74 & 2225.101\\\\\n",
       "\t 3.046 & 65.74 & 2158.324\\\\\n",
       "\t 3.508 & 65.74 & 2153.986\\\\\n",
       "\t 3.817 & 65.74 & 2118.921\\\\\n",
       "\t 3.239 & 65.74 & 2072.578\\\\\n",
       "\\end{tabular}\n"
      ],
      "text/markdown": [
       "\n",
       "A tibble: 6 × 3\n",
       "\n",
       "| new_deaths_per_million &lt;dbl&gt; | SI_t &lt;dbl&gt; | NC_t &lt;dbl&gt; |\n",
       "|---|---|---|\n",
       "| 3.894 | 65.74 | 2264.138 |\n",
       "| 3.701 | 65.74 | 2225.101 |\n",
       "| 3.046 | 65.74 | 2158.324 |\n",
       "| 3.508 | 65.74 | 2153.986 |\n",
       "| 3.817 | 65.74 | 2118.921 |\n",
       "| 3.239 | 65.74 | 2072.578 |\n",
       "\n"
      ],
      "text/plain": [
       "  new_deaths_per_million SI_t  NC_t    \n",
       "1 3.894                  65.74 2264.138\n",
       "2 3.701                  65.74 2225.101\n",
       "3 3.046                  65.74 2158.324\n",
       "4 3.508                  65.74 2153.986\n",
       "5 3.817                  65.74 2118.921\n",
       "6 3.239                  65.74 2072.578"
      ]
     },
     "metadata": {},
     "output_type": "display_data"
    }
   ],
   "source": [
    "library(readr)\n",
    "data_ <- read_csv(\"Archivos/owid-covid-data-filtered.csv\",\n",
    "                  show_col_types = FALSE)\n",
    "\n",
    "data <- data_[15:nrow(data_), \"new_deaths_per_million\"]\n",
    "\n",
    "for (i in seq_len(nrow(data_))[-(1:14)]) {\n",
    "    if (data[i - 14, \"new_deaths_per_million\"] == 0) {\n",
    "        data[i - 14, \"new_deaths_per_million\"] <- 1\n",
    "    }\n",
    "\n",
    "    data[i - 14, \"SI_t\"] <- mean(data_[(i - 14):(i - 1), ]$stringency_index)\n",
    "\n",
    "    data[i - 14, \"NC_t\"] <- sum(data_[(i - 14):(i - 1), ]$new_cases_per_million)\n",
    "    if (data[i - 14, \"NC_t\"] <= 1) {\n",
    "        data[i - 14, \"NC_t\"] <- 1\n",
    "    }\n",
    "}\n",
    "\n",
    "head(data)\n"
   ]
  },
  {
   "cell_type": "markdown",
   "id": "c41f3057",
   "metadata": {},
   "source": [
    "#### 1. Estime los parámetros del modelo e interpréte los intervalos de confianza correspondientes. Tenga en cuenta los logaritmos. ¿Encuentra coherencia en los resultados?"
   ]
  },
  {
   "cell_type": "code",
   "execution_count": 55,
   "id": "f655521e-ff2f-4028-a049-329a4f4973ff",
   "metadata": {},
   "outputs": [
    {
     "data": {
      "text/plain": [
       "\n",
       "Call:\n",
       "lm(formula = log(new_deaths_per_million) ~ SI_t + log(NC_t), \n",
       "    data = data)\n",
       "\n",
       "Residuals:\n",
       "     Min       1Q   Median       3Q      Max \n",
       "-1.46907 -0.09008  0.00067  0.08710  0.79702 \n",
       "\n",
       "Coefficients:\n",
       "              Estimate Std. Error t value Pr(>|t|)    \n",
       "(Intercept) -6.4463873  0.0779154 -82.736   <2e-16 ***\n",
       "SI_t         0.0066698  0.0007584   8.794   <2e-16 ***\n",
       "log(NC_t)    0.9557654  0.0108575  88.028   <2e-16 ***\n",
       "---\n",
       "Signif. codes:  0 '***' 0.001 '**' 0.01 '*' 0.05 '.' 0.1 ' ' 1\n",
       "\n",
       "Residual standard error: 0.1733 on 349 degrees of freedom\n",
       "Multiple R-squared:  0.9666,\tAdjusted R-squared:  0.9664 \n",
       "F-statistic:  5046 on 2 and 349 DF,  p-value: < 2.2e-16\n"
      ]
     },
     "metadata": {},
     "output_type": "display_data"
    },
    {
     "data": {
      "text/html": [
       "<table class=\"dataframe\">\n",
       "<caption>A matrix: 3 × 2 of type dbl</caption>\n",
       "<thead>\n",
       "\t<tr><th></th><th scope=col>2.5 %</th><th scope=col>97.5 %</th></tr>\n",
       "</thead>\n",
       "<tbody>\n",
       "\t<tr><th scope=row>(Intercept)</th><td>-6.599630059</td><td>-6.293144540</td></tr>\n",
       "\t<tr><th scope=row>SI_t</th><td> 0.005178166</td><td> 0.008161503</td></tr>\n",
       "\t<tr><th scope=row>log(NC_t)</th><td> 0.934410947</td><td> 0.977119837</td></tr>\n",
       "</tbody>\n",
       "</table>\n"
      ],
      "text/latex": [
       "A matrix: 3 × 2 of type dbl\n",
       "\\begin{tabular}{r|ll}\n",
       "  & 2.5 \\% & 97.5 \\%\\\\\n",
       "\\hline\n",
       "\t(Intercept) & -6.599630059 & -6.293144540\\\\\n",
       "\tSI\\_t &  0.005178166 &  0.008161503\\\\\n",
       "\tlog(NC\\_t) &  0.934410947 &  0.977119837\\\\\n",
       "\\end{tabular}\n"
      ],
      "text/markdown": [
       "\n",
       "A matrix: 3 × 2 of type dbl\n",
       "\n",
       "| <!--/--> | 2.5 % | 97.5 % |\n",
       "|---|---|---|\n",
       "| (Intercept) | -6.599630059 | -6.293144540 |\n",
       "| SI_t |  0.005178166 |  0.008161503 |\n",
       "| log(NC_t) |  0.934410947 |  0.977119837 |\n",
       "\n"
      ],
      "text/plain": [
       "            2.5 %        97.5 %      \n",
       "(Intercept) -6.599630059 -6.293144540\n",
       "SI_t         0.005178166  0.008161503\n",
       "log(NC_t)    0.934410947  0.977119837"
      ]
     },
     "metadata": {},
     "output_type": "display_data"
    }
   ],
   "source": [
    "modelo_init <- lm(log(new_deaths_per_million) ~ SI_t + log(NC_t), data = data)\n",
    "summary(modelo_init)\n",
    "confint(modelo_init)"
   ]
  },
  {
   "cell_type": "markdown",
   "id": "37566a54-ffbb-4c94-8ae1-7b1bf4ca2c98",
   "metadata": {},
   "source": [
    "El modelo parece ser globalmente y marginalmente significativo. También presenta un buen $R^{2}$ y $R^{2}_{\\text{adj}}$, lo que indica que tiene buen poder predictivo y ajuste a los datos.\n",
    "\n",
    "Si tomamos literalemente por su significado los coeficientes, el modelo no tiene mucho sentido. Este sugiere que si en los últimos 14 días no han habido casos y no han habido medidas de mitigación ($SI_t = 0$), se logra una cantidad negativa de muertes por cada millon de habitantes. También sugiere, aunque por un coeficiente muy pequeño, que la tasa de mortalidad crece con el promedio de los últimos 14 días del _stringency index_, lo cual tiene poco sentido ya que se esperaría una disminución en las fatalidades por COVID, dadas restricciones más cautelosas."
   ]
  },
  {
   "cell_type": "code",
   "execution_count": 56,
   "id": "b68312b4-00bc-4cbb-8bd6-03d7334d9cf1",
   "metadata": {},
   "outputs": [
    {
     "data": {
      "text/html": [
       "<strong>log(NC_t):</strong> 0.955554734656094"
      ],
      "text/latex": [
       "\\textbf{log(NC\\textbackslash{}\\_t):} 0.955554734656094"
      ],
      "text/markdown": [
       "**log(NC_t):** 0.955554734656094"
      ],
      "text/plain": [
       "log(NC_t) \n",
       "0.9555547 "
      ]
     },
     "metadata": {},
     "output_type": "display_data"
    }
   ],
   "source": [
    "100 * (1.01 ^ modelo_init$coefficients[3] - 1)"
   ]
  },
  {
   "cell_type": "markdown",
   "id": "f22b5402-63db-462e-82be-6419b3adf818",
   "metadata": {},
   "source": [
    "Teninedo en cuenta que tanto la variable de respuesta como una variable predictora tienen transformaciones logarítmicas, la interpretación de los coeficientes cambia un poco. Un incremente de un punto porcentual en la variable $NC_t$ significa un incremente del $0.95\\%$ en la variable de respuesta."
   ]
  },
  {
   "cell_type": "markdown",
   "id": "3867de12",
   "metadata": {},
   "source": [
    "#### 2. ¿Considera que el modelo tiene problemas de heteroscedasticidad?"
   ]
  },
  {
   "cell_type": "code",
   "execution_count": 57,
   "id": "19d21a98-7188-46e7-9d65-7f9a345b2f3b",
   "metadata": {},
   "outputs": [
    {
     "data": {
      "image/png": "[encoded data removed]",
      "text/plain": [
       "plot without title"
      ]
     },
     "metadata": {
      "image/png": {
       "height": 420,
       "width": 420
      }
     },
     "output_type": "display_data"
    }
   ],
   "source": [
    "resi <- modelo_init$residuals\n",
    "yhat <- fitted(modelo_init)\n",
    "plot(data$SI_t, resi, xlab = \"SI_t\", ylab = \"residuals\")"
   ]
  },
  {
   "cell_type": "code",
   "execution_count": 58,
   "id": "332e9548-950f-4793-8699-3ac9ce12d339",
   "metadata": {},
   "outputs": [
    {
     "data": {
      "image/png": "[encoded data removed]",
      "text/plain": [
       "plot without title"
      ]
     },
     "metadata": {
      "image/png": {
       "height": 420,
       "width": 420
      }
     },
     "output_type": "display_data"
    }
   ],
   "source": [
    "plot(log(data$NC_t), resi, xlab = \"NC_t\", ylab = \"residuals\")"
   ]
  },
  {
   "cell_type": "code",
   "execution_count": 59,
   "id": "b2db9fa6-4e6b-4efa-81f6-6ad47ad71eae",
   "metadata": {},
   "outputs": [
    {
     "data": {
      "image/png": "[encoded data removed]",
      "text/plain": [
       "plot without title"
      ]
     },
     "metadata": {
      "image/png": {
       "height": 420,
       "width": 420
      }
     },
     "output_type": "display_data"
    }
   ],
   "source": [
    "plot(yhat, resi, xlab = \"fitted values\", ylab = \"residuals\")"
   ]
  },
  {
   "cell_type": "code",
   "execution_count": 60,
   "id": "66eeb6cf-3630-40d4-a4da-bc306c2019ca",
   "metadata": {},
   "outputs": [
    {
     "data": {
      "image/png": "[encoded data removed]",
      "text/plain": [
       "Plot with title \"\""
      ]
     },
     "metadata": {
      "image/png": {
       "height": 420,
       "width": 420
      }
     },
     "output_type": "display_data"
    },
    {
     "data": {
      "image/png": "[encoded data removed]",
      "text/plain": [
       "Plot with title \"\""
      ]
     },
     "metadata": {
      "image/png": {
       "height": 420,
       "width": 420
      }
     },
     "output_type": "display_data"
    },
    {
     "data": {
      "image/png": "[encoded data removed]",
      "text/plain": [
       "Plot with title \"\""
      ]
     },
     "metadata": {
      "image/png": {
       "height": 420,
       "width": 420
      }
     },
     "output_type": "display_data"
    },
    {
     "data": {
      "image/png": "[encoded data removed]",
      "text/plain": [
       "Plot with title \"\""
      ]
     },
     "metadata": {
      "image/png": {
       "height": 420,
       "width": 420
      }
     },
     "output_type": "display_data"
    }
   ],
   "source": [
    "plot(modelo_init)"
   ]
  },
  {
   "cell_type": "markdown",
   "id": "8451b129-6b4d-47ca-a119-81b1c92a9f27",
   "metadata": {},
   "source": [
    "Más allá de haber una concentración desproporcionada de observaciones en los extremos de la variable del stringency index promedio, no pareciera haber problemas de heterocedasticidad o de formas funcionales del error en función de otros valores."
   ]
  },
  {
   "cell_type": "markdown",
   "id": "a5042fa8",
   "metadata": {},
   "source": [
    "Aplicamos la prueba de Breusch-Pagan"
   ]
  },
  {
   "cell_type": "code",
   "execution_count": 61,
   "id": "301e1845",
   "metadata": {},
   "outputs": [
    {
     "data": {
      "text/plain": [
       "\n",
       "\tstudentized Breusch-Pagan test\n",
       "\n",
       "data:  modelo_init\n",
       "BP = 4.1678, df = 2, p-value = 0.1244\n"
      ]
     },
     "metadata": {},
     "output_type": "display_data"
    }
   ],
   "source": [
    "lmtest::bptest(modelo_init)"
   ]
  },
  {
   "cell_type": "markdown",
   "id": "8d634ef6",
   "metadata": {},
   "source": [
    "No rechazamos que la varianza de los errores sea constante y por lo tanto parece no haber problemas de heteroscedasticidad."
   ]
  },
  {
   "cell_type": "markdown",
   "id": "dd85af66",
   "metadata": {},
   "source": [
    "#### 3. Dado que el modelo se estima con series de tiempo, es posible que se presenten problemas de autocorrelación. Revise si existe autocorrelación positiva. En caso de que sea así, estime el modelo correcto y realice el intervalo de confianza para cada parámetro (incluyendo el intercepto)."
   ]
  },
  {
   "cell_type": "code",
   "execution_count": 62,
   "id": "a0cc7a06",
   "metadata": {},
   "outputs": [
    {
     "data": {
      "image/png": "[encoded data removed]",
      "text/plain": [
       "plot without title"
      ]
     },
     "metadata": {
      "image/png": {
       "height": 420,
       "width": 420
      }
     },
     "output_type": "display_data"
    },
    {
     "data": {
      "image/png": "[encoded data removed]",
      "text/plain": [
       "plot without title"
      ]
     },
     "metadata": {
      "image/png": {
       "height": 420,
       "width": 420
      }
     },
     "output_type": "display_data"
    }
   ],
   "source": [
    "n <- length(resi)\n",
    "\n",
    "plot(resi, type = \"b\", lwd = 2)\n",
    "abline(0, 0, col = 2, lwd = 2)\n",
    "\n",
    "par(mfrow = c(2, 2))\n",
    "plot(resi[1:(n - 1)], resi[2:n], lwd = 2)\n",
    "abline(0, .8, col = 2, lwd = 2)\n",
    "\n",
    "plot(resi[1:(n - 2)], resi[3:n], lwd = 2)\n",
    "abline(0, .8, col = 2, lwd = 2)\n",
    "\n",
    "plot(resi[1:(n - 3)], resi[4:n], lwd = 2)\n",
    "abline(0, .8, col = 2, lwd = 2)\n",
    "\n",
    "plot(resi[1:(n - 4)], resi[5:n], lwd = 2)\n",
    "abline(0, .8, col = 2, lwd = 2)"
   ]
  },
  {
   "cell_type": "markdown",
   "id": "fa05230a",
   "metadata": {},
   "source": [
    "De la gráfica de los errores en función del tiempo, no identificamos una autocorrelación positiva evidente, aunque el diagrama de dispersión de los errores respecto a sí mismos a distintos lags sí presentan evidencia de un problema ligero de autocorrelación para lags de 1 día, de pronto para lags de 2 días.\n",
    "\n",
    "Aplicamos la prueba de Durbin-Watson. "
   ]
  },
  {
   "cell_type": "code",
   "execution_count": 63,
   "id": "b32e7400",
   "metadata": {},
   "outputs": [
    {
     "data": {
      "text/plain": [
       "\n",
       "\tDurbin-Watson test\n",
       "\n",
       "data:  modelo_init\n",
       "DW = 1.4198, p-value = 1.299e-08\n",
       "alternative hypothesis: true autocorrelation is greater than 0\n"
      ]
     },
     "metadata": {},
     "output_type": "display_data"
    }
   ],
   "source": [
    "lmtest::dwtest(modelo_init)"
   ]
  },
  {
   "cell_type": "markdown",
   "id": "b7601721",
   "metadata": {},
   "source": [
    "Rechazamos que los errores no estén autocorrelacionados y por lo tanto aplicamos la corrección de Cochrane-Orcutt."
   ]
  },
  {
   "cell_type": "code",
   "execution_count": 64,
   "id": "56137185",
   "metadata": {},
   "outputs": [
    {
     "data": {
      "text/plain": [
       "Cochrane-orcutt estimation for first order autocorrelation \n",
       " \n",
       "Call:\n",
       "lm(formula = log(new_deaths_per_million) ~ SI_t + log(NC_t), \n",
       "    data = data)\n",
       "\n",
       " number of interaction: 2\n",
       " rho 0.289697\n",
       "\n",
       "Durbin-Watson statistic \n",
       "(original):    1.41978 , p-value: 1.299e-08\n",
       "(transformed): 2.11004 , p-value: 8.228e-01\n",
       " \n",
       " coefficients: \n",
       "(Intercept)        SI_t   log(NC_t) \n",
       "  -6.448602    0.006676    0.955992 "
      ]
     },
     "metadata": {},
     "output_type": "display_data"
    }
   ],
   "source": [
    "library(modelsummary)\n",
    "options(modelsummary_get = \"parameters\")\n",
    "\n",
    "coch = orcutt::cochrane.orcutt(modelo_init)\n",
    "coch"
   ]
  },
  {
   "cell_type": "markdown",
   "id": "bc8a9ad2",
   "metadata": {},
   "source": [
    "Aplicar la prueba de Durbin-Watson sobre este nuevo modelo corregido no nos permite rechazar que los errores no estén autocorrelacionados, y por lo tanto hemos corregido la autocorrelación."
   ]
  },
  {
   "cell_type": "code",
   "execution_count": 65,
   "id": "156ab7c3",
   "metadata": {},
   "outputs": [
    {
     "data": {
      "text/plain": [
       "\n",
       "\n",
       "|                    |     Model 1      |\n",
       "|:-------------------|:----------------:|\n",
       "|(Intercept)         |      -6.449      |\n",
       "|                    | [-6.655, -6.242] |\n",
       "|SI_t                |      0.007       |\n",
       "|                    |  [0.005, 0.009]  |\n",
       "|log(NC_t)           |      0.956       |\n",
       "|                    |  [0.927, 0.985]  |\n",
       "|Num.Obs.            |       352        |\n",
       "|R2                  |      0.941       |\n",
       "|R2 Adj.             |      0.941       |\n",
       "|rho                 |      0.290       |\n",
       "|number.interaction  |      2.000       |\n",
       "|dw.original         |      1.420       |\n",
       "|p.value.original    |      1e-08       |\n",
       "|dw.transformed      |      2.110       |\n",
       "|p.value.transformed |      0.823       |"
      ]
     },
     "metadata": {},
     "output_type": "display_data"
    }
   ],
   "source": [
    "modelsummary(coch, statistic = \"conf.int\", output = \"markdown\")"
   ]
  },
  {
   "cell_type": "markdown",
   "id": "7596c9e6",
   "metadata": {},
   "source": [
    "Si tomamos literalemente por su significado los coeficientes, el modelo no tiene mucho sentido. Este sugiere que si en los últimos 14 días no han habido casos y no han habido medidas de mitigación ($SI_t = 0$), se logra una cantidad negativa de muertes por cada millon de habitantes. También sugiere, aunque por un coeficiente muy pequeño, que la tasa de mortalidad crece con el promedio de los últimos 14 días del _stringency index_, lo cual tiene poco sentido ya que se esperaría una disminución en las fatalidades por COVID, dadas restricciones más cautelosas.\n",
    "El intervalo del coeficiente $log(NC_t)$ indica una correlación positiva identica a la estudiada anteriormente. Concluimos que la fatalidades de covid crecen porcentualmente de manera proporcional a incrementos porcentuales del promedio movil de número de casos. "
   ]
  }
 ],
 "metadata": {
  "kernelspec": {
   "display_name": "R",
   "language": "R",
   "name": "ir"
  },
  "language_info": {
   "codemirror_mode": "r",
   "file_extension": ".r",
   "mimetype": "text/x-r-source",
   "name": "R",
   "pygments_lexer": "r",
   "version": "4.1.3"
  }
 },
 "nbformat": 4,
 "nbformat_minor": 5
}
