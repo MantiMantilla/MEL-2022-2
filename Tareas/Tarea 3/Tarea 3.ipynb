{
 "cells": [
  {
   "cell_type": "markdown",
   "id": "c2f0b8e4",
   "metadata": {},
   "source": [
    "# Tarea 3 - MEL\n",
    "\n",
    "Alejandro Mantilla - 201711304\n",
    "\n",
    "Ximena Palacio - 201730995"
   ]
  },
  {
   "cell_type": "markdown",
   "id": "d9ec8b5f",
   "metadata": {},
   "source": [
    "## Índice\n",
    "\n",
    "- [Parte A](#Parte-A.-Problemas-computacionales.)\n",
    "\n",
    "    - [Problema 1](#Problema-1.-Bootstrap-para-pruebas-con-restricciones-lineales.)\n",
    "    - [Problema 2](#Problem-2.-Método-de-estimación-robusta.)\n",
    "\n",
    "- [Parte B](#Parte-B.-Problemas-teóricos,-conceptuales-y-experimentales.)\n",
    "\n",
    "    - [Problema BONO](#Problema-BONO.-Uso-de-leverage-para-medidas-de-desempeño.)\n",
    "    - [Problema 3](#Problema-3.-Problemas-de-especificación-y-selección-de-modelos.)\n",
    "    \n",
    "- [Parte C](#Parte-C.-Problemas-aplicados-con-datos-reales.)\n",
    "\n",
    "    - [Problema 4](#Problema-4.-Ventas-de-secadoras-eléctricas-en-Bogotá.)\n",
    "    - [Problema 5](#Problema-5.-Efectos-de-medidas-preventivas-en-la-severidad-del-coronavirus.)"
   ]
  },
  {
   "cell_type": "markdown",
   "id": "0b8d3940",
   "metadata": {},
   "source": [
    "## Parte A. Problemas computacionales."
   ]
  },
  {
   "cell_type": "markdown",
   "id": "eddb49f9",
   "metadata": {},
   "source": [
    "### Problema 1. Bootstrap para pruebas con restricciones lineales."
   ]
  },
  {
   "cell_type": "markdown",
   "id": "d8203196",
   "metadata": {},
   "source": [
    "#### 1. Construya el código que haga el procedimietno que se describe para constrastar $H_0$ de manera gráfica."
   ]
  },
  {
   "cell_type": "markdown",
   "id": "260a6653",
   "metadata": {
    "tags": []
   },
   "source": [
    "El método de bootstrap no sólamente sirve para construir intervalos de confianza, sino para contrastar\n",
    "pruebas de hipótesis. En este problema, realizaremos una prueba de hipótesis gráfica por medio de\n",
    "_bootstrap_. En este caso, se hace una prueba de hipótesis con restricciones lineales del tipo $H_{0}: A\\beta = c$, donde $q = 2$.\n",
    "\n",
    "Tenga en cuenta que la hipótesis nula se puede escribir como:\n",
    "\n",
    "$$\n",
    "H_{0}: \\begin{cases} \n",
    "          \\textbf{a}_{1}^{T}\\beta = c_1 \\\\\n",
    "          \\textbf{a}_{2}^{T}\\beta = c_2\n",
    "       \\end{cases}\n",
    "$$\n",
    "\n",
    "Con las repeticiones del _bootstrap_, calcule en cada iteración los valores de $\\textbf{a}_{1}^{T}$ y $\\textbf{a}_{2}^{T}$. Luego con estos $B$ puntos, se puede construir la elipse de confianza empírica que cubre el 95% de los datos. Después, en el mismo gráfco puede dibujar el punto $(c_{1}, c_{2})$, y si este cae dentro de la elipse, no se rechaza la hipótesis nula."
   ]
  },
  {
   "cell_type": "markdown",
   "id": "3878d1e1",
   "metadata": {},
   "source": [
    "1. Construya el código que haga el procedimiento que se describe para constrastar $H_{0}$ de manera gráfica. Puede usar como guía el siguiente código:\n",
    "\n",
    "```r\n",
    "library(ellipse)\n",
    "x1 <- rnorm(500, 20, 3)\n",
    "x2 <- .5*x1+rnorm(500, 1, 3)\n",
    "plot(x1, x2)\n",
    "x <- cbind(x1, x2)\n",
    "el <- ellipse(x, centre=colMeans(x), level=0.95)\n",
    "plot(x1, x2)\n",
    "points(el, type=\"l\")\n",
    "points(25, 5, col=2, lwd=2)\n",
    "\n",
    "```"
   ]
  },
  {
   "cell_type": "code",
   "execution_count": 1,
   "id": "265df445",
   "metadata": {
    "tags": []
   },
   "outputs": [
    {
     "name": "stderr",
     "output_type": "stream",
     "text": [
      "\n",
      "Attaching package: ‘ellipse’\n",
      "\n",
      "\n",
      "The following object is masked from ‘package:graphics’:\n",
      "\n",
      "    pairs\n",
      "\n",
      "\n"
     ]
    }
   ],
   "source": [
    "library(lmridge) # Librería lmridge para regresión Ridge.\n",
    "library(ellipse) # Librería ellipse para graficar ellipses de confianza.\n",
    "\n",
    "# La siguiente función recibe un data.frame \"X\" con vector \"y\" para hacer \"n_bootstraps\" en cantidad de iteraciones\n",
    "# de bootstrapping, cada una con \"n_train\" en cantidad de observaciones.\n",
    "# Calculamos un modelo de regresión (y = beta_0 + beta_1 X_1 + beta_2 X_2 + varepsilon)\n",
    "# para cada iteración del bootstrap.\n",
    "# La función grafica para cada iteración del bootstrap los pares (a_1^T beta, a_2^T beta),\n",
    "# donde \"a_1^T\" y \"a_2^T\" entran por parámetro.\n",
    "\n",
    "graph_h0 <- function(X, y, a_1, a_2, c1, c2, n_train, n_bootstraps = 1000, is_ridge = FALSE, ...){\n",
    "    \n",
    "    if(!is_ridge){\n",
    "        get_coefficients <- function(data) lm(y~., data = data)$coefficients\n",
    "    } else {\n",
    "        get_coefficients <- function(data, ...) coef(lmridge(y~., data = data, ...))\n",
    "    }\n",
    "    \n",
    "    LHS_samples <- data.frame(q_1 = double(), q_2 = double())\n",
    "    for(i in 1:n_bootstraps){\n",
    "        sampled_rows <- sample(1:nrow(X), n_train, replace = TRUE)\n",
    "        new_X <- X[sampled_rows,]\n",
    "        new_X[, \"y\"] <- y[sampled_rows,]\n",
    "        \n",
    "        coefficients <- get_coefficients(new_X, ...)\n",
    "        coefficients <- coefficients[2:length(coefficients)]\n",
    "        \n",
    "        q_1 <- a_1 %*% coefficients\n",
    "        q_2 <- a_2 %*% coefficients\n",
    "        \n",
    "        LHS_samples[nrow(LHS_samples) + 1,] <- c(q_1, q_2)\n",
    "    }\n",
    "    LHS_samples <- cbind(LHS_samples[[\"q_1\"]], LHS_samples[[\"q_2\"]])\n",
    "    \n",
    "    el <- ellipse::ellipse(LHS_samples, centre=colMeans(LHS_samples), level=0.95)\n",
    "    plot(LHS_samples)#, col=\"white\")\n",
    "    points(el, type = \"l\", col = \"red\")\n",
    "    points(c1, c2, col = 2, lwd = 2)\n",
    "    \n",
    "    return(LHS_samples)\n",
    "}"
   ]
  },
  {
   "cell_type": "markdown",
   "id": "3569d21b",
   "metadata": {},
   "source": [
    "2. En la base de datos `masa-corporal` que vimos en la clase 13, se determinó que había un problema de multicolinealidad entre las variables. Por esto, puede ser adecuado usar regresión con penalización tipo _Ridge_. Usando _Ridge_, y la prueba que acaba de diseñar, determine si es cierta la afirmación que el coeficiente de grasa corporal (`cmi`) esperado para dos personas es $22$ y $12$ respectivamente, si se sabe que para que la persona 1 tiene $\\text{clic}=24$, $\\text{leg}=56$ y $\\text{arm}=26$ y que la persona 2, $\\text{clic}=20$, $\\text{leg}=43$ y $\\text{arm}=24$."
   ]
  },
  {
   "cell_type": "markdown",
   "id": "c7c37e7d-b082-4a55-89d1-6fd3250b6bf2",
   "metadata": {},
   "source": [
    "Para hacer regrsión tipo Ridge, debemos hallar un $\\lambda$ (hiperparámetro de regularización) que mitigue el efecto de la multicolinealidad. Haremos la búsqueda con el conjunto de datos completo y lo pasaremos por parámetro al método de prueba de hipótesis gráfico."
   ]
  },
  {
   "cell_type": "code",
   "execution_count": 2,
   "id": "c388df2d-37e8-4572-b4f3-b0c9897916f7",
   "metadata": {},
   "outputs": [
    {
     "name": "stderr",
     "output_type": "stream",
     "text": [
      "\u001b[1mRows: \u001b[22m\u001b[34m20\u001b[39m \u001b[1mColumns: \u001b[22m\u001b[34m4\u001b[39m\n",
      "\u001b[36m──\u001b[39m \u001b[1mColumn specification\u001b[22m \u001b[36m────────────────────────────────────────────────────────────────────────────────────────────────────────────────────────────────────────────────────────────────────────────────────────────\u001b[39m\n",
      "\u001b[1mDelimiter:\u001b[22m \"\\t\"\n",
      "\u001b[32mdbl\u001b[39m (4): clic, leg, arm, cmi\n",
      "\n",
      "\u001b[36mℹ\u001b[39m Use `spec()` to retrieve the full column specification for this data.\n",
      "\u001b[36mℹ\u001b[39m Specify the column types or set `show_col_types = FALSE` to quiet this message.\n"
     ]
    },
    {
     "data": {
      "text/html": [
       "<table class=\"dataframe\">\n",
       "<caption>A tibble: 6 × 4</caption>\n",
       "<thead>\n",
       "\t<tr><th scope=col>clic</th><th scope=col>leg</th><th scope=col>arm</th><th scope=col>cmi</th></tr>\n",
       "\t<tr><th scope=col>&lt;dbl&gt;</th><th scope=col>&lt;dbl&gt;</th><th scope=col>&lt;dbl&gt;</th><th scope=col>&lt;dbl&gt;</th></tr>\n",
       "</thead>\n",
       "<tbody>\n",
       "\t<tr><td>19.5</td><td>43.1</td><td>29.1</td><td>11.9</td></tr>\n",
       "\t<tr><td>24.7</td><td>49.8</td><td>28.2</td><td>22.8</td></tr>\n",
       "\t<tr><td>30.7</td><td>51.9</td><td>37.0</td><td>18.7</td></tr>\n",
       "\t<tr><td>29.8</td><td>54.3</td><td>31.1</td><td>20.1</td></tr>\n",
       "\t<tr><td>19.1</td><td>42.2</td><td>30.9</td><td>12.9</td></tr>\n",
       "\t<tr><td>25.6</td><td>53.9</td><td>23.7</td><td>21.7</td></tr>\n",
       "</tbody>\n",
       "</table>\n"
      ],
      "text/latex": [
       "A tibble: 6 × 4\n",
       "\\begin{tabular}{llll}\n",
       " clic & leg & arm & cmi\\\\\n",
       " <dbl> & <dbl> & <dbl> & <dbl>\\\\\n",
       "\\hline\n",
       "\t 19.5 & 43.1 & 29.1 & 11.9\\\\\n",
       "\t 24.7 & 49.8 & 28.2 & 22.8\\\\\n",
       "\t 30.7 & 51.9 & 37.0 & 18.7\\\\\n",
       "\t 29.8 & 54.3 & 31.1 & 20.1\\\\\n",
       "\t 19.1 & 42.2 & 30.9 & 12.9\\\\\n",
       "\t 25.6 & 53.9 & 23.7 & 21.7\\\\\n",
       "\\end{tabular}\n"
      ],
      "text/markdown": [
       "\n",
       "A tibble: 6 × 4\n",
       "\n",
       "| clic &lt;dbl&gt; | leg &lt;dbl&gt; | arm &lt;dbl&gt; | cmi &lt;dbl&gt; |\n",
       "|---|---|---|---|\n",
       "| 19.5 | 43.1 | 29.1 | 11.9 |\n",
       "| 24.7 | 49.8 | 28.2 | 22.8 |\n",
       "| 30.7 | 51.9 | 37.0 | 18.7 |\n",
       "| 29.8 | 54.3 | 31.1 | 20.1 |\n",
       "| 19.1 | 42.2 | 30.9 | 12.9 |\n",
       "| 25.6 | 53.9 | 23.7 | 21.7 |\n",
       "\n"
      ],
      "text/plain": [
       "  clic leg  arm  cmi \n",
       "1 19.5 43.1 29.1 11.9\n",
       "2 24.7 49.8 28.2 22.8\n",
       "3 30.7 51.9 37.0 18.7\n",
       "4 29.8 54.3 31.1 20.1\n",
       "5 19.1 42.2 30.9 12.9\n",
       "6 25.6 53.9 23.7 21.7"
      ]
     },
     "metadata": {},
     "output_type": "display_data"
    }
   ],
   "source": [
    "library(readr)\n",
    "masa_corporal <- read_delim(\"Archivos/masa_corporal.txt\",\n",
    "                            \"\\t\", escape_double = FALSE, trim_ws = TRUE)\n",
    "head(masa_corporal)"
   ]
  },
  {
   "cell_type": "code",
   "execution_count": 3,
   "id": "6da3a99b-c0ef-41fd-9195-5267e91b3636",
   "metadata": {},
   "outputs": [
    {
     "name": "stdout",
     "output_type": "stream",
     "text": [
      "             clic       leg       arm\n",
      "k=0     708.84291 564.34339 104.60601\n",
      "k=0.001 125.73087 100.27403  19.28097\n",
      "k=0.002  50.55919  40.44831   8.27970\n",
      "k=0.003  27.17501  21.83760   4.85618\n",
      "k=0.004  16.98157  13.72472   3.36279\n",
      "k=0.005  11.64342   9.47592   2.57985\n",
      "k=0.006   8.50332   6.97644   2.11854\n",
      "k=0.007   6.50133   5.38272   1.82377\n",
      "k=0.008   5.14717   4.30457   1.62380\n",
      "k=0.009   4.18869   3.54134   1.48173\n",
      "k=0.01    3.48550   2.98127   1.37703\n",
      "k=0.011   2.95436   2.55813   1.29750\n",
      "k=0.012   2.54337   2.23062   1.23556\n",
      "k=0.013   2.21885   1.97191   1.18628\n",
      "k=0.014   1.95811   1.76398   1.14633\n",
      "k=0.015   1.74548   1.59433   1.11343\n",
      "k=0.016   1.56979   1.45408   1.08595\n",
      "k=0.017   1.42294   1.33679   1.06268\n",
      "k=0.018   1.29896   1.23769   1.04277\n",
      "k=0.019   1.19331   1.15319   1.02555\n",
      "k=0.02    1.10255   1.08054   1.01051\n"
     ]
    },
    {
     "data": {
      "image/png": "[encoded data removed]",
      "text/plain": [
       "Plot with title “Ridge Trace Plot”"
      ]
     },
     "metadata": {
      "image/png": {
       "height": 420,
       "width": 420
      }
     },
     "output_type": "display_data"
    },
    {
     "data": {
      "image/png": "[encoded data removed]",
      "text/plain": [
       "Plot with title “VIF Trace”"
      ]
     },
     "metadata": {
      "image/png": {
       "height": 420,
       "width": 420
      }
     },
     "output_type": "display_data"
    }
   ],
   "source": [
    "modelo <- lmridge(cmi~., masa_corporal, K = seq(0, 0.02, 0.001), scaling = \"sc\")\n",
    "print(vif(modelo))\n",
    "plot(modelo)\n",
    "plot(modelo, type = \"vif\")"
   ]
  },
  {
   "cell_type": "markdown",
   "id": "81006d3f-ca9b-4abd-8738-0791548af36c",
   "metadata": {},
   "source": [
    "Nos quedamos con un parámetro $\\lambda = 0.006$ ya que es el menor en la búsqueda que logra un VIF para cada predictor menor a 10."
   ]
  },
  {
   "cell_type": "code",
   "execution_count": 7,
   "id": "a210600d-7e17-49e2-bc72-36724fa456fa",
   "metadata": {},
   "outputs": [
    {
     "data": {
      "image/png": "[encoded data removed]",
      "text/plain": [
       "plot without title"
      ]
     },
     "metadata": {
      "image/png": {
       "height": 420,
       "width": 420
      }
     },
     "output_type": "display_data"
    }
   ],
   "source": [
    "X <- masa_corporal[, c(\"clic\", \"leg\", \"arm\")]\n",
    "y <- masa_corporal[, \"cmi\"]\n",
    "\n",
    "a_1 <- c(24, 56, 26)\n",
    "a_2 <- c(20, 43, 24)\n",
    "c1 <- 22\n",
    "c2 <- 12\n",
    "n_train <- nrow(X)\n",
    "n_bootstraps <- 1000\n",
    "is_ridge <- TRUE\n",
    "\n",
    "K <- 0.006\n",
    "scaling <- \"sc\"\n",
    "\n",
    "result <- graph_h0(X = X, y = y, a_1 = a_1, a_2 = a_2, c1 = c1, c2 = c2,\n",
    "                   n_train = n_train, n_bootstraps = n_bootstraps,\n",
    "                   is_ridge = is_ridge, K = K, scaling = scaling)"
   ]
  },
  {
   "cell_type": "markdown",
   "id": "fc917cec-b141-4350-b111-1be917c50e40",
   "metadata": {},
   "source": [
    "El resultado es evidente. El punto $(c_{1}, c_{2})$ cae dentro de la elipse y por lo tanto no rechazamos que las expresiones lineales de los $\\beta$ sean iguales a estos valores."
   ]
  },
  {
   "cell_type": "markdown",
   "id": "924c3499",
   "metadata": {},
   "source": [
    "### Problem 2. Método de estimación robusta."
   ]
  },
  {
   "cell_type": "markdown",
   "id": "8e7aba37",
   "metadata": {},
   "source": [
    "La estimación robusta resulta ser bastante útil para evitar que algunos puntos observados creen sesgo enla recta estimada. Además de la regresión con minimización de las desviaciones en valor absoluto, otra solución al problema, es cambiar la distribución de los erroes para que no sea normal, sino que permita la existencia de datos atípicos (sobre todo en $Y$), esto es _fat tailed distribution_. En ese caso, supondremos que los errores del modelo son proporcionales a una variable aleatoria con distribución $t$ de Student. Es decir, se define el modelo"
   ]
  },
  {
   "cell_type": "markdown",
   "id": "a22ec2d0",
   "metadata": {},
   "source": [
    "$$\n",
    "Y_{i} = X_{i}^{T}\\beta + \\varepsilon_{i}.\n",
    "$$"
   ]
  },
  {
   "cell_type": "markdown",
   "id": "1ad0d5c8",
   "metadata": {},
   "source": [
    "Donde $\\frac{\\varepsilon_{i}}{\\sigma} \\sim t(\\nu)$, donde $\\nu$ son los grados de libertad correspondientes, y $\\sigma$ es un parámetro que permita adapatar la dispersión de los datos. En este modelo, se deben estimar los parámetros de la recta, así como el parámetro de dispersión $\\sigma$. Sin embargo, no es posible usar mínimos cuadrados dado que la distribución no es normal y se tendrían valores influyentes. Para estimar, se debe hacer por el método de máxima verosimilitud. Para simplificar el problema, suponga que $p = 2$, es decir, se deben estimar el intercepto, la pendiente y $\\sigma$. Esto es,"
   ]
  },
  {
   "cell_type": "markdown",
   "id": "28ad91a5",
   "metadata": {},
   "source": [
    "$$\n",
    "  \\left(\\frac{Y_{i}-\\beta_{0}-\\beta_{1}X_{i}}{\\sigma}\\right)\\sim t(\\nu)\n",
    "$$"
   ]
  },
  {
   "cell_type": "markdown",
   "id": "3005ab54",
   "metadata": {},
   "source": [
    "para cada $i = 1,2,\\cdots,n$, y son independientes entre sí."
   ]
  },
  {
   "cell_type": "markdown",
   "id": "4b2487d1",
   "metadata": {},
   "source": [
    "#### 1. Construya una función en R que tenga como inputs el vector $Y$, la matrix $X$, los parámetros $\\beta_{0}$ y $\\beta_{1}$ y el parámetro de dispersión $\\sigma$. El output de la función debe ser la verosimilitud calculada. Pueden usar las funciones relacionadas con la distribución $t$ en R. Tenga en cuenta que esta es la función de verosimilitud $L(\\beta_{0}, \\beta_{1}, \\sigma | Y, X)$ en términos de los tres parámetros, la cual se debe optimizar."
   ]
  },
  {
   "cell_type": "markdown",
   "id": "c5b833ac",
   "metadata": {},
   "source": [
    "Primero, preparamos los datos con los que va a trabajar el modelo:"
   ]
  },
  {
   "cell_type": "code",
   "execution_count": null,
   "id": "9ba10dff",
   "metadata": {},
   "outputs": [],
   "source": [
    "library(readr)\n",
    "data <- read_table(\"Archivos/datospunto2.txt\", col_names = FALSE, skip = 1)\n",
    "data <- data[,-1]\n",
    "colnames(data) = c(\"y\", \"X\")\n",
    "X <- as.matrix(data[\"X\"])\n",
    "y <- as.matrix(data[\"y\"])\n"
   ]
  },
  {
   "cell_type": "markdown",
   "id": "c29de70e",
   "metadata": {},
   "source": [
    "Creamos la función que calcula la verosimilitud. Como tenemos varias ovservaciones, se calcula como el producto de la pdf (t de student) evaluada para cada observación. Suponemos $\\nu = 3$."
   ]
  },
  {
   "cell_type": "code",
   "execution_count": null,
   "id": "d1bc9c5c",
   "metadata": {},
   "outputs": [],
   "source": [
    "neg_L <- function(beta_0, beta_1, sigma, y, X, nu = 8){\n",
    "  -prod(dt((y - beta_0 - beta_1 * X) / sigma, nu))\n",
    "}\n"
   ]
  },
  {
   "cell_type": "markdown",
   "id": "87d6a1da",
   "metadata": {},
   "source": [
    "#### 2. Como es difícil encontrar la solución del máximo de $L(\\beta_{0}, \\beta_{1}, \\sigma|Y, X)$ analíticamente, se deben usar métodos numéricos. Por ejemplo, para optimizar la función puede usar un método general construido en R como la función `optim`. Usando la función optim, maximice la verosimilitud $L(\\beta_{0}, \\beta_{1}, \\sigma|Y, X)$ mediante un algoritmo iterativo en el cual se maximiza para cada parámetro a la vez:"
   ]
  },
  {
   "cell_type": "markdown",
   "id": "f40d6633",
   "metadata": {},
   "source": [
    "1. Empiece con valores iniciales para $\\beta_{0}^{(0)}$, $\\beta_{1}^{(0)}$ y $\\sigma^{(0)}$.\n",
    "\n",
    "2. Repita hasta convergencia para la iteración $i \\in \\{1, 2, \\cdots\\}$:\n",
    "    1. Maximice la función de verosimilitud con respecto a $\\beta_{0}$ con valores fijos $\\beta_{1}^{(i - 1)}$ y $\\sigma^{(i-1)}$. Guarde el máximo como $\\beta_{0}^{(i)}$.\n",
    "    \n",
    "    2. Maximice la función de verosimilitud con respecto a $\\beta_{1}$ con valores fijos $\\beta_{0}^{(i)}$ y $\\sigma^{(i-1)}$. Guarde el máximo como $\\beta_{1}^{(i)}$.\n",
    "    \n",
    "    3. Maximice la función de verosimilitud con respecto a $\\sigma$ con valores fijos $\\beta_{1}^{(i)}$ y $\\beta_{1}^{(i)}$. Guarde el máximo como $\\sigma^{(i)}$."
   ]
  },
  {
   "cell_type": "code",
   "execution_count": null,
   "id": "24fc5a78",
   "metadata": {},
   "outputs": [],
   "source": [
    "# Los parámetros al llamar la función por primera vez son el resultado del estimador por OLS.\n",
    "OptQuest <- function(beta_0, beta_1, sigma, y, X, nu = 8, min_obj_change = 0.00000001){\n",
    "  init_obj <- neg_L(beta_0, beta_1, sigma, y, X, nu)\n",
    "  print(init_obj)\n",
    "  repeat{\n",
    "    sol <- optim(beta_0, fn = neg_L,beta_1 = beta_1, sigma = sigma, y = y, X = X, nu = nu)\n",
    "    beta_0 <- sol$par\n",
    "    \n",
    "    sol <- optim(beta_1, fn = neg_L, beta_0 = beta_0, sigma = sigma, y = y, X = X, nu = nu)\n",
    "    beta_1 <- sol$par\n",
    "    \n",
    "    sol <- optim(sigma, fn = neg_L, beta_0 = beta_0, beta_1 = beta_1, y = y, X = X, nu = nu)\n",
    "    beta_1 <- sol$par\n",
    "\n",
    "    new_obj <- sol$value\n",
    "    if(init_obj - new_obj < min_obj_change){\n",
    "      break\n",
    "    } else {\n",
    "      init_obj <- new_obj\n",
    "    }\n",
    "  }\n",
    "  return(list(beta_0 = beta_0, beta_1 = beta_1, sigma = sigma, obj_val = new_obj))\n",
    "}\n",
    "\n",
    "# Estimamos los parámetros iniciales por OLS para iniciar el optimizador.\n",
    "model <- lm(y ~ X, data = data)\n",
    "\n",
    "OptQuest(model$coefficients[[\"(Intercept)\"]], model$coefficients[[\"X\"]], sqrt(deviance(model)/df.residual(model)), y, X, 8)\n"
   ]
  },
  {
   "cell_type": "markdown",
   "id": "7ecae94f",
   "metadata": {},
   "source": [
    "#### 3. Construya una mecanismo de inferencia por medio de bootstrap para construir intervalos de confianza para los tres parámetros de interés. Use los datos anexos datospunto3.txt y reporte los intervalos de confianza para $\\beta_{0}^{(0)}$, $\\beta_{1}^{(0)}$ y $\\sigma^{(0)}$ con 95% y con 99% de confianza. Puede usar 8 grados de libertad."
   ]
  },
  {
   "cell_type": "markdown",
   "id": "3bb8bb97",
   "metadata": {},
   "source": [
    "Bootstrap nos permite hacer un muestreo de los parámetros estimados por verosimilitud. El desarrollo debe tomar muestras de los datos originales con reemplazo y entrenar el modelo de regresión robusto para cada muestra aleatoria. El intervalo se calcula a partir de percentiles."
   ]
  },
  {
   "cell_type": "code",
   "execution_count": null,
   "id": "18ceb324",
   "metadata": {},
   "outputs": [],
   "source": [
    "bootstrap_robust_regression <- function(n_obs = length(y), n_bootstraps = 1000){\n",
    "  beta_0_sampled <- rep(0, n_bootstraps)\n",
    "  beta_1_sampled <- rep(0, n_bootstraps)\n",
    "  sigma_sampled <- rep(0, n_bootstraps)\n",
    "  \n",
    "  for (i in 1:n_bootstraps) {\n",
    "    indices <- sample(1:length(y), n_obs)\n",
    "    X_sample <- X[indices]\n",
    "    y_sample <- y[indices]\n",
    "    \n",
    "    model <- lm(y ~ X_sample, y = y_sample)\n",
    "    \n",
    "    result <- OptQuest(model$coefficients[[\"(Intercept)\"]], model$coefficients[[\"X_sample\"]], sqrt(deviance(model)/df.residual(model)), y, X, 8)\n",
    "    beta_0_sampled[i] = result$beta_0\n",
    "    beta_1_sampled[i] = result$beta_1\n",
    "    sigma_sampled[i] = result$sigma\n",
    "  }\n",
    "  \n",
    "  return(list(beta_0_intervals = list(conf.95 = quantile(beta_0_sampled,\n",
    "                                                         c(0.025, 0.975)),\n",
    "                                      conf.99 = quantile(beta_0_sampled,\n",
    "                                                         c(0.005, 0.995))),\n",
    "              beta_1_intervals = list(conf.95 = quantile(beta_1_sampled,\n",
    "                                                         c(0.025, 0.975)),\n",
    "                                      conf.99 = quantile(beta_0_sampled,\n",
    "                                                         c(0.005, 0.995))),\n",
    "              sigma_intervals  = list(conf.95 = quantile(sigma_sampled,\n",
    "                                                         c(0.025, 0.975)),\n",
    "                                      conf.99 = quantile(beta_0_sampled,\n",
    "                                                         c(0.005, 0.995)))))\n",
    "}\n",
    "\n",
    "bootstrap_robust_regression()\n"
   ]
  },
  {
   "cell_type": "markdown",
   "id": "ba514b35",
   "metadata": {},
   "source": [
    "## Parte B. Problemas teóricos, conceptuales y experimentales."
   ]
  },
  {
   "cell_type": "markdown",
   "id": "34275cd1",
   "metadata": {},
   "source": [
    "### Problema BONO. Uso de _leverage_ para medidas de desempeño."
   ]
  },
  {
   "cell_type": "markdown",
   "id": "8d13a9e5-0fc0-449a-afaa-44a3e3c88117",
   "metadata": {
    "tags": []
   },
   "source": [
    "Si $H$ es la matriz de proyección en $\\Omega$ definida por el estimador de mínimos cuadrados, entonces los elementos de la diagonal $\\ell_{ii}$ son los valores de _leverage_ que se miden para cada observación. Como se ha visto, estos valores tienen muchos usos, como por ejemplo, determinar la varianza de los residuales o determinar datos atípicos en $\\textbf{X}$. Uno de los usos más útiles, es que permiten calcular la distancia de un punto $Y_{i}$ a la recta estimada sin ese punto, sin necesidad de correr el modelo con los $n-1$ datos restantes. Es decir:\n",
    "\n",
    "$$\n",
    "    \\left( Y_{i} - \\hat{Y}_{i,(i)} \\right) = \\frac{Y_{i}-\\hat{Y}_{i}}{1-\\ell_{i,i} },\n",
    "$$\n",
    "\n",
    "donde $\\hat{Y}_{i,(i)}$ es la estimación del valor esperado de $Y_{i}$ estimada con el modelo que usa todos los datos, menos la observación $i$.\n",
    "\n",
    "Esto quiere decir, que si se define la métrica LOOCV:\n",
    "\n",
    "$$\n",
    "    LOO = \\frac{1}{n}\\sum_{i=1}^{n}\\left( \\frac{Y_{i}-\\hat{Y}_{i}}{1-\\ell_{i,i} } \\right)^{2}\n",
    "$$\n",
    "\n",
    "entonces, se puede medir el desempeño del modelo, algo parecido a como lo hace el $R^{2}_{\\text{adj}}$, el $C_{p}$ de Mallows o el $\\text{AIC}$."
   ]
  },
  {
   "cell_type": "markdown",
   "id": "7ae9c87f",
   "metadata": {},
   "source": [
    "$\\mathcal{\\ell} + \\ell$"
   ]
  },
  {
   "cell_type": "markdown",
   "id": "5503825c-c12e-4716-af95-7f12e59048b6",
   "metadata": {},
   "source": [
    "1. Demuestre que\n",
    "\n",
    "$$\n",
    "    \\ell_{i,i} = \\frac{d\\hat{Y}_{i}}{dY_{i}}.\n",
    "$$"
   ]
  },
  {
   "cell_type": "markdown",
   "id": "f0a44167-b441-4a42-bfa2-e3e31bdae88f",
   "metadata": {},
   "source": [
    "+ Respuesta\n",
    "\n",
    "$$\n",
    "    \\begin{align*}\n",
    "        \\hat{Y} &= HY \\\\\n",
    "        \\hat{Y}_{i} &= H_{i}Y \\text{ (Acá, }H_{i}\\text{ es la fila }i\\text{ de la matriz }H)\\\\\n",
    "        \\hat{Y}_{i} &= H_{i, 1}Y_{1} + H_{i, 2}Y_{2} + \\cdots + H_{i, i}Y_{i} + \\cdots +H_{i, n}Y_{n}\\\\\n",
    "        \\frac{d\\hat{Y}_{i}}{dY_{i}} &= \\frac{dH_{i, 1}Y_{1}}{dY_{i}} + \\frac{dH_{i, 2}Y_{2}}{dY_{i}} + \\cdots + \\frac{dH_{i, i}Y_{i}}{dY_{i}} + \\cdots + \\frac{dH_{i, n}Y_{n}}{dY_{i}}\\\\\n",
    "        \\frac{d\\hat{Y}_{i}}{dY_{i}} &= \\frac{dH_{i, i}Y_{i}}{dY_{i}} = H_{ii} = \\ell_{i,i}\\\\\n",
    "    \\end{align*}\n",
    "$$"
   ]
  },
  {
   "cell_type": "markdown",
   "id": "4583ca65-eca0-4a14-b0da-fd0cc09255cb",
   "metadata": {},
   "source": [
    "2. Con la información del numeral anterior, demuestre que:\n",
    "\n",
    "$$\n",
    "    \\frac{dY_{i}}{de_{i}} = \\frac{1}{1-\\ell_{i,i}}\n",
    "$$"
   ]
  },
  {
   "cell_type": "markdown",
   "id": "60356e17-f45b-479c-b486-6531c4f0471e",
   "metadata": {},
   "source": [
    "+ Respuesta\n",
    "\n",
    "$$\n",
    "    \\begin{align*}\n",
    "        e &= Y - HY \\\\\n",
    "        e &= (I - H)Y \\\\\n",
    "        e_{i} &= (I - H)_{i}Y \\text{ (Acá, }(I-H)_{i}\\text{ es la fila }i\\text{ de la matriz }I-H)\\\\\n",
    "        e_{i} &= (0 - H_{i, 1})Y_{1} + (0-H_{i, 2})Y_{2} + \\cdots + (1-H_{i, i})Y_{i} + \\cdots + (0-H_{i, n})Y_{n}\\\\\n",
    "        e_{i} &= -H_{i, 1}Y_{1} - H_{i, 2}Y_{2} - \\cdots + (1-H_{i, i})Y_{i} - \\cdots - H_{i, n}Y_{n}\\\\\n",
    "        (H_{i, i} - 1)Y_{i} &= H_{i, 1}Y_{1} + H_{i, 2}Y_{2} + \\cdots + H_{i, n}Y_{n} - e_{i}\\\\\n",
    "        Y_{i} &= \\frac{H_{i, 1}Y_{1}}{(H_{i, i} - 1)} + \\frac{H_{i, 2}Y_{2}}{(H_{i, i} - 1)} + \\cdots + \\frac{H_{i, n}Y_{n}}{(H_{i, i} - 1)} - \\frac{e_{i}}{(H_{i, i} - 1)}\\\\\n",
    "        \\frac{dY_{i}}{de_{i}} &= - \\frac{d\\frac{e_{i}}{(H_{i, i} - 1)}}{de_{i}}\\\\\n",
    "        \\frac{dY_{i}}{de_{i}} &= \\frac{1}{1 - H_{i, i}} = \\frac{1}{1 - \\ell_{i, i}}\\\\\n",
    "    \\end{align*}\n",
    "$$"
   ]
  },
  {
   "cell_type": "markdown",
   "id": "44631732-3469-48bf-880d-2bb2548d5168",
   "metadata": {},
   "source": [
    "3. Con la información de los dos numerales anteriores, demuestre (explique) por qué:\n",
    "\n",
    "$$\n",
    "    d_{i} = \\frac{e_{i}}{1 - \\ell_{i,i}}.\n",
    "$$"
   ]
  },
  {
   "cell_type": "markdown",
   "id": "0a5e2736-8156-4352-aad3-c07ee6b4f7d3",
   "metadata": {},
   "source": [
    "+ Respuesta\n",
    "\n",
    "Sea $d_{i} = Y_{i} - \\hat{Y}_{i, (i)}$, entonces:\n",
    "\n",
    "$$\n",
    "    \\begin{align*}\n",
    "         d_{i} &= Y_{i} - X_{i}\\left[ \\hat{\\beta}_{(i)} \\right]\\\\\n",
    "         d_{i} &= Y_{i} - X_{i}\\left[\\left( X_{(i)}^{T}X_{(i)} \\right)^{-1} X_{(i)}^{T}Y_{(i)}\\right]\n",
    "    \\end{align*}\n",
    "$$\n",
    "\n",
    "Hacemos uso de la ecuación de Sherman-Morrison-Woodbury.\n",
    "\n",
    "$$\n",
    "    \\begin{align*}\n",
    "         d_{i} &= Y_{i} - X_{i}\\left[\\left[ \\left(X^{T}X\\right)^{-1} - \\frac{\\left(X^{T}X\\right)^{-1}X_{i}^{T}X_{i} \\left(X^{T}X\\right)^{-1}}{1 + X_{i}^{T}\\left(X^{T}X\\right)^{-1}X_{i}} \\right] X_{(i)}^{T}Y_{(i)}\\right]\\\\\n",
    "         d_{i} &= Y_{i} - X_{i}\\left[\\left[ \\left(X^{T}X\\right)^{-1} + \\frac{\\left(X^{T}X\\right)^{-1}X_{i}^{T}X_{i} \\left(X^{T}X\\right)^{-1}}{1 - \\ell_{i,i}} \\right] X_{(i)}^{T}Y_{(i)}\\right]\\\\\n",
    "         d_{i} &= Y_{i} - X_{i}\\left[\\left[ \\left(X^{T}X\\right)^{-1} + \\frac{\\left(X^{T}X\\right)^{-1}X_{i}^{T}X_{i} \\left(X^{T}X\\right)^{-1}}{1 - \\ell_{i,i}} \\right] \\left(X^{T}Y - X_{i}^{T}Y_{i} \\right)\\right]\\\\\n",
    "    \\end{align*}\n",
    "$$\n",
    "\n",
    "Simplificamos:\n",
    "\n",
    "$$\n",
    "    \\begin{align*}\n",
    "        d_{i} &= Y_{i} - X_{i}\\left[ \\left(X^{T}X\\right)^{-1}X^{T}Y - \\left(X^{T}X\\right)^{-1}X_{i}^{T}Y_{i} + \\frac{\\left(X^{T}X\\right)^{-1}X_{i}^{T}X_{i} \\left(X^{T}X\\right)^{-1}X^{T}Y}{1 - \\ell_{i,i}} - \\frac{\\left(X^{T}X\\right)^{-1}X_{i}^{T}X_{i} \\left(X^{T}X\\right)^{-1}X_{i}^{T}Y_{i}}{1 - \\ell_{i,i}} \\right]\\\\\n",
    "        d_{i} &= Y_{i} - X_{i}\\left[ \\hat{\\beta} - \\left(X^{T}X\\right)^{-1}X_{i}^{T}Y_{i} + \\frac{\\left(X^{T}X\\right)^{-1}X_{i}^{T}X_{i} \\hat{\\beta}}{1 - \\ell_{i,i}} - \\frac{\\left(X^{T}X\\right)^{-1}X_{i}^{T}\\ell_{i,i}Y_{i}}{1 - \\ell_{i,i}} \\right]\\\\\n",
    "    \\end{align*}\n",
    "$$\n",
    "\n",
    "Factorizamos el $\\left(X^{T}X\\right)^{-1}X_{i}^{T}Y_{i}$ y el $\\left(X^{T}X\\right)^{-1}X_{i}^{T}$:\n",
    "\n",
    "$$\n",
    "    \\begin{align*}\n",
    "        d_{i} &= Y_{i} - X_{i}\\left[ \\hat{\\beta} - \\left(X^{T}X\\right)^{-1}X_{i}^{T}Y_{i}(1 + \\frac{\\ell_{i,i}}{1-\\ell_{i,i}}) + \\frac{\\left(X^{T}X\\right)^{-1}X_{i}^{T}X_{i} \\hat{\\beta}}{1 - \\ell_{i,i}} \\right]\\\\\n",
    "        d_{i} &= Y_{i} - X_{i}\\left[ \\hat{\\beta} - \\frac{\\left(X^{T}X\\right)^{-1}X_{i}^{T}Y_{i}}{1-\\ell_{i,i}} + \\frac{\\left(X^{T}X\\right)^{-1}X_{i}^{T}X_{i} \\hat{\\beta}}{1 - \\ell_{i,i}} \\right]\\\\\n",
    "        d_{i} &= Y_{i} - X_{i}\\left[ \\hat{\\beta} - \\frac{\\left(X^{T}X\\right)^{-1}X_{i}^{T}(Y_{i}-X_{i} \\hat{\\beta})}{1-\\ell_{i,i}} \\right]\\\\\n",
    "        d_{i} &= Y_{i} - X_{i}\\left[ \\hat{\\beta} - \\frac{\\left(X^{T}X\\right)^{-1}X_{i}^{T}e_{i}}{1-\\ell_{i,i}} \\right]\\\\\n",
    "        d_{i} &= Y_{i} + \\left[ \\frac{X_{i}\\left(X^{T}X\\right)^{-1}X_{i}^{T}e_{i}}{1-\\ell_{i,i}} - \\hat{Y}_{i}\\right]\\\\\n",
    "        d_{i} &= e_{i} + \\frac{X_{i}\\left(X^{T}X\\right)^{-1}X_{i}^{T}e_{i}}{1-\\ell_{i,i}}\\\\\n",
    "        d_{i} &= e_{i} + \\frac{\\ell_{i,i}e_{i}}{1-\\ell_{i,i}}\\\\\n",
    "        d_{i} &= \\frac{(1-\\ell_{i,i})e_{i} + \\ell_{i,i}e_{i}}{1-\\ell_{i,i}}\\\\\n",
    "        d_{i} &= \\frac{(1-\\ell_{i,i} + \\ell_{i,i})e_{i}}{1-\\ell_{i,i}} = \\frac{e_{i}}{1-\\ell_{i,i}}\\\\\n",
    "    \\end{align*}\n",
    "$$"
   ]
  },
  {
   "cell_type": "markdown",
   "id": "7398fdd3-f652-4f50-b30e-338aba50d02a",
   "metadata": {},
   "source": [
    "4. Con los datos de `masa-corporal` que vimos en las clases de multicolinealidad, seleccione el modelo más apropiado para explicar el índice de grasa corporal. Compare el resultado con el obtenido si usa: $R^{2}_{adj}$, $C_{p}$ y $\\text{AIC}$."
   ]
  },
  {
   "cell_type": "code",
   "execution_count": null,
   "id": "c6cf8472",
   "metadata": {},
   "outputs": [],
   "source": []
  },
  {
   "cell_type": "markdown",
   "id": "eb1150ea",
   "metadata": {},
   "source": [
    "### Problema 3. Problemas de especificación y selección de modelos."
   ]
  },
  {
   "cell_type": "code",
   "execution_count": null,
   "id": "ccb39072",
   "metadata": {},
   "outputs": [],
   "source": []
  },
  {
   "cell_type": "markdown",
   "id": "bdfd49d9",
   "metadata": {},
   "source": [
    "## Parte C. Problemas aplicados con datos reales."
   ]
  },
  {
   "cell_type": "markdown",
   "id": "196304cb",
   "metadata": {},
   "source": [
    "### Problema 4. Ventas de secadoras eléctricas en Bogotá."
   ]
  },
  {
   "cell_type": "markdown",
   "id": "13c53b98",
   "metadata": {},
   "source": [
    "#### 1. Revise todos los supuesto del modelo que sean pertinentes. Realice las pruebas que considere necesarias."
   ]
  },
  {
   "cell_type": "markdown",
   "id": "5f6982bf",
   "metadata": {},
   "source": [
    "Los supuestos del modelo que se deberían revizar corresponde a  verificar normalidad, autocorrelación, multicolinealidad,  heteroscedasticidad y, tambien se debe verificar si existen o no datos outliers e influyentes. Dado lo anterior se realizan algunas pruebas correspondiente para evaluar cada uno de los supuestos presentados. \n",
    "\n",
    "Antes de comenzar se cargan los datos y se general em modelo de regresión lineal correspondiente. \n"
   ]
  },
  {
   "cell_type": "code",
   "execution_count": 4,
   "id": "39ba6802",
   "metadata": {},
   "outputs": [
    {
     "data": {
      "text/html": [
       "<table class=\"dataframe\">\n",
       "<caption>A data.frame: 6 × 5</caption>\n",
       "<thead>\n",
       "\t<tr><th></th><th scope=col>ventas</th><th scope=col>precio</th><th scope=col>consumo</th><th scope=col>publicidad</th><th scope=col>competencia</th></tr>\n",
       "\t<tr><th></th><th scope=col>&lt;dbl&gt;</th><th scope=col>&lt;dbl&gt;</th><th scope=col>&lt;dbl&gt;</th><th scope=col>&lt;dbl&gt;</th><th scope=col>&lt;dbl&gt;</th></tr>\n",
       "</thead>\n",
       "<tbody>\n",
       "\t<tr><th scope=row>1</th><td>-51.86530</td><td>12.730041</td><td>5.120954</td><td> 7.883980</td><td>3.358127</td></tr>\n",
       "\t<tr><th scope=row>2</th><td>-24.59515</td><td>12.923566</td><td>9.128683</td><td> 9.978578</td><td>8.737131</td></tr>\n",
       "\t<tr><th scope=row>3</th><td>-30.71430</td><td> 7.123548</td><td>8.091998</td><td> 9.577806</td><td>2.688939</td></tr>\n",
       "\t<tr><th scope=row>4</th><td>-39.84182</td><td>10.145909</td><td>7.104766</td><td>10.780311</td><td>5.617165</td></tr>\n",
       "\t<tr><th scope=row>5</th><td>-60.28946</td><td>11.641656</td><td>6.877741</td><td> 9.192014</td><td>1.909947</td></tr>\n",
       "\t<tr><th scope=row>6</th><td>-64.63831</td><td>12.139542</td><td>7.248237</td><td> 7.045200</td><td>2.517575</td></tr>\n",
       "</tbody>\n",
       "</table>\n"
      ],
      "text/latex": [
       "A data.frame: 6 × 5\n",
       "\\begin{tabular}{r|lllll}\n",
       "  & ventas & precio & consumo & publicidad & competencia\\\\\n",
       "  & <dbl> & <dbl> & <dbl> & <dbl> & <dbl>\\\\\n",
       "\\hline\n",
       "\t1 & -51.86530 & 12.730041 & 5.120954 &  7.883980 & 3.358127\\\\\n",
       "\t2 & -24.59515 & 12.923566 & 9.128683 &  9.978578 & 8.737131\\\\\n",
       "\t3 & -30.71430 &  7.123548 & 8.091998 &  9.577806 & 2.688939\\\\\n",
       "\t4 & -39.84182 & 10.145909 & 7.104766 & 10.780311 & 5.617165\\\\\n",
       "\t5 & -60.28946 & 11.641656 & 6.877741 &  9.192014 & 1.909947\\\\\n",
       "\t6 & -64.63831 & 12.139542 & 7.248237 &  7.045200 & 2.517575\\\\\n",
       "\\end{tabular}\n"
      ],
      "text/markdown": [
       "\n",
       "A data.frame: 6 × 5\n",
       "\n",
       "| <!--/--> | ventas &lt;dbl&gt; | precio &lt;dbl&gt; | consumo &lt;dbl&gt; | publicidad &lt;dbl&gt; | competencia &lt;dbl&gt; |\n",
       "|---|---|---|---|---|---|\n",
       "| 1 | -51.86530 | 12.730041 | 5.120954 |  7.883980 | 3.358127 |\n",
       "| 2 | -24.59515 | 12.923566 | 9.128683 |  9.978578 | 8.737131 |\n",
       "| 3 | -30.71430 |  7.123548 | 8.091998 |  9.577806 | 2.688939 |\n",
       "| 4 | -39.84182 | 10.145909 | 7.104766 | 10.780311 | 5.617165 |\n",
       "| 5 | -60.28946 | 11.641656 | 6.877741 |  9.192014 | 1.909947 |\n",
       "| 6 | -64.63831 | 12.139542 | 7.248237 |  7.045200 | 2.517575 |\n",
       "\n"
      ],
      "text/plain": [
       "  ventas    precio    consumo  publicidad competencia\n",
       "1 -51.86530 12.730041 5.120954  7.883980  3.358127   \n",
       "2 -24.59515 12.923566 9.128683  9.978578  8.737131   \n",
       "3 -30.71430  7.123548 8.091998  9.577806  2.688939   \n",
       "4 -39.84182 10.145909 7.104766 10.780311  5.617165   \n",
       "5 -60.28946 11.641656 6.877741  9.192014  1.909947   \n",
       "6 -64.63831 12.139542 7.248237  7.045200  2.517575   "
      ]
     },
     "metadata": {},
     "output_type": "display_data"
    },
    {
     "data": {
      "text/plain": [
       "\n",
       "Call:\n",
       "lm(formula = y ~ precio + consumo + publicidad + competencia)\n",
       "\n",
       "Residuals:\n",
       "    Min      1Q  Median      3Q     Max \n",
       "-53.310  -7.222  -1.668   9.079  38.884 \n",
       "\n",
       "Coefficients:\n",
       "            Estimate Std. Error t value Pr(>|t|)    \n",
       "(Intercept)  19.1644    12.9062   1.485  0.14289    \n",
       "precio       -3.7720     0.8316  -4.536 2.87e-05 ***\n",
       "consumo      -9.0379     0.9525  -9.488 1.77e-13 ***\n",
       "publicidad    3.0562     1.0849   2.817  0.00658 ** \n",
       "competencia   2.9156     0.9476   3.077  0.00317 ** \n",
       "---\n",
       "Signif. codes:  0 '***' 0.001 '**' 0.01 '*' 0.05 '.' 0.1 ' ' 1\n",
       "\n",
       "Residual standard error: 15.73 on 59 degrees of freedom\n",
       "Multiple R-squared:  0.6911,\tAdjusted R-squared:  0.6702 \n",
       "F-statistic:    33 on 4 and 59 DF,  p-value: 1.901e-14\n"
      ]
     },
     "metadata": {},
     "output_type": "display_data"
    }
   ],
   "source": [
    "library(readr)\n",
    "library(MASS)\n",
    "library(car)\n",
    "library(leaps)\n",
    "library(lmtest)\n",
    "\n",
    "secadoras <- read.table(\"Archivos/secadoras.txt\", head = TRUE)\n",
    "head(secadoras)\n",
    "\n",
    "y <- secadoras$ventas\n",
    "precio <- secadoras$precio\n",
    "consumo <- secadoras$consumo\n",
    "publicidad <- secadoras$publicidad\n",
    "competencia <- secadoras$competencia\n",
    "\n",
    "modelo <- lm(y~precio+consumo+publicidad+competencia)\n",
    "summary(modelo)\n"
   ]
  },
  {
   "cell_type": "markdown",
   "id": "e9623aac",
   "metadata": {},
   "source": [
    "###### Normalidad\n",
    "Para el caso del supuesto de normalidad lo primero que se hace es obtener los residuos y a partir de esto, se gráfica el ajuste a través de una Q-Q Plot como lo vemos a continuación:"
   ]
  },
  {
   "cell_type": "code",
   "execution_count": 7,
   "id": "cdda0a15",
   "metadata": {},
   "outputs": [
    {
     "data": {
      "image/png": "[encoded data removed]",
      "text/plain": [
       "Plot with title \"Normal Q-Q Plot\""
      ]
     },
     "metadata": {
      "image/png": {
       "height": 420,
       "width": 420
      }
     },
     "output_type": "display_data"
    }
   ],
   "source": [
    "#Normalidad\n",
    "residuos <- modelo$residuals\n",
    "qqnorm(residuos)\n",
    "abline(0,1,col=2)"
   ]
  },
  {
   "cell_type": "markdown",
   "id": "99226cdc",
   "metadata": {},
   "source": [
    "En la anterior gráfica se puede ver que el comportamiento de los datos no es normal debido a que están muy lejanos de la recta con pendiente 1 que pasa por el origen. \n",
    "\n",
    "Sin embargo, como es una observación gráfica, procedemos a comprobar lo anteriro de manera estadística por medio de la la prueba Shapiro en donde se plantea la siguiente prueba de hipótesis:\n",
    "\n",
    "$$\n",
    "H_0: e_{i} \\sim \\ Normal\n",
    "$$\n",
    "\n",
    "$$\n",
    "H_1:\\lnot\\ H_0\n",
    "$$\n"
   ]
  },
  {
   "cell_type": "code",
   "execution_count": 9,
   "id": "27b5f98e",
   "metadata": {},
   "outputs": [
    {
     "data": {
      "text/plain": [
       "\n",
       "\tShapiro-Wilk normality test\n",
       "\n",
       "data:  residuos\n",
       "W = 0.96241, p-value = 0.04867\n"
      ]
     },
     "metadata": {},
     "output_type": "display_data"
    }
   ],
   "source": [
    "#Normalidad - Shapiro \n",
    "shapiro.test(residuos)"
   ]
  },
  {
   "cell_type": "markdown",
   "id": "e98021eb",
   "metadata": {},
   "source": [
    "Con un nivel de confianza del 95% se rechaza la hipotesis nula, es decir que se puede concluir que los residuos del modelo no se distribuyen normales dado que al realizar la prueba de Shapiro el p-value = 0.04867 lo cual es menor a 5%"
   ]
  },
  {
   "cell_type": "markdown",
   "id": "d37c98ad",
   "metadata": {},
   "source": [
    "###### Autocorrelación\n",
    "Para evaluar si hay o no autocorrelación entre los datos del modelo se decir realizar dos pruebas, la primera es la prueba de Durbin-Watson y la segunda la de Breusch-Godfrey.\n",
    "\n",
    "* Prueba Durbin-Watson:\n",
    "$$\n",
    "H_0:\\rho=0\n",
    "$$\n",
    "\n",
    "$$\n",
    "H_1: \\rho>0\n",
    "$$\n"
   ]
  },
  {
   "cell_type": "code",
   "execution_count": 10,
   "id": "66252d31",
   "metadata": {},
   "outputs": [
    {
     "data": {
      "text/plain": [
       "\n",
       "\tDurbin-Watson test\n",
       "\n",
       "data:  modelo\n",
       "DW = 2.1838, p-value = 0.7863\n",
       "alternative hypothesis: true autocorrelation is greater than 0\n"
      ]
     },
     "metadata": {},
     "output_type": "display_data"
    }
   ],
   "source": [
    "#Autocorrelacion\n",
    "dwtest(modelo)"
   ]
  },
  {
   "cell_type": "markdown",
   "id": "5af5a518",
   "metadata": {},
   "source": [
    "Como se puede ver, el resultado de la prueba de Durbin.Watson arrojó un p-value = 0.7863, por lo que no se rechaza la hipotesis nula dado que el p-value > 5%, es decir que con una confianza del 95% que no hay problemas de autocorrelación. \n",
    "\n"
   ]
  },
  {
   "cell_type": "markdown",
   "id": "8b6b86b5",
   "metadata": {},
   "source": [
    "* Prueba Breusch-Godfrey:\n",
    "$$\n",
    "H_0: \\rho_i=0  \\ \\ \\forall \\ i\\in N\n",
    "$$\n",
    "\n",
    "$$\n",
    "H_1:\\lnot\\ H_0\n",
    "$$"
   ]
  },
  {
   "cell_type": "code",
   "execution_count": 11,
   "id": "c23a42c8",
   "metadata": {},
   "outputs": [
    {
     "data": {
      "text/plain": [
       "\n",
       "\tBreusch-Godfrey test for serial correlation of order up to 1\n",
       "\n",
       "data:  modelo\n",
       "LM test = 0.62711, df = 1, p-value = 0.4284\n"
      ]
     },
     "metadata": {},
     "output_type": "display_data"
    }
   ],
   "source": [
    "#Autocorrelacion\n",
    "bgtest(modelo)"
   ]
  },
  {
   "cell_type": "markdown",
   "id": "1d8ecedc",
   "metadata": {},
   "source": [
    "Como se puede ver, el resultado de la prueba de Breusch-Godfrey arrojó un p-value = 0.4284, por lo que no se rechaza la hipotesis nula dado que el p-value > 5%, es decir que con una confianza del 95% que no hay problemas de autocorrelación. \n",
    "\n",
    "\n",
    "Es claro, por las dos pruebas realizadas que se puede concluir que los datos cumplen con el supuesto de la no autocorrelación. "
   ]
  },
  {
   "cell_type": "markdown",
   "id": "61dc219e",
   "metadata": {},
   "source": [
    "###### Multicolinealidad\n",
    "Para ver si hay o no problemas de multicolinealidad lo primero que se decide hacer es graficar el comportamiento de las variables"
   ]
  },
  {
   "cell_type": "code",
   "execution_count": 12,
   "id": "d1e98109",
   "metadata": {},
   "outputs": [
    {
     "data": {
      "image/png": "[encoded data removed]",
      "text/plain": [
       "plot without title"
      ]
     },
     "metadata": {
      "image/png": {
       "height": 420,
       "width": 420
      }
     },
     "output_type": "display_data"
    }
   ],
   "source": [
    "#Multicolinealidad\n",
    "pairs(secadoras[,2:5])"
   ]
  },
  {
   "cell_type": "markdown",
   "id": "1726ddcb",
   "metadata": {},
   "source": [
    "Gráficamente no es claro que haya una tendencia entre los datos, pues se ve que las nubes de puntos no tienen una tendencia aparente, es decir que se puede pensar que no hay problemas de multicolinealidad. Sin embargo, para estar seguros se decide obtener los VIF del modelo. Si se llega a obtener algun VIF con un valor muy grande (aprox. mayor a 10) se considera que hay problemas de multicolinealidad. "
   ]
  },
  {
   "cell_type": "code",
   "execution_count": 13,
   "id": "517c6258",
   "metadata": {},
   "outputs": [
    {
     "data": {
      "text/html": [
       "<style>\n",
       ".dl-inline {width: auto; margin:0; padding: 0}\n",
       ".dl-inline>dt, .dl-inline>dd {float: none; width: auto; display: inline-block}\n",
       ".dl-inline>dt::after {content: \":\\0020\"; padding-right: .5ex}\n",
       ".dl-inline>dt:not(:first-of-type) {padding-left: .5ex}\n",
       "</style><dl class=dl-inline><dt>precio</dt><dd>1.11603887660712</dd><dt>consumo</dt><dd>1.06518881324987</dd><dt>publicidad</dt><dd>1.10549294593593</dd><dt>competencia</dt><dd>1.16318715676877</dd></dl>\n"
      ],
      "text/latex": [
       "\\begin{description*}\n",
       "\\item[precio] 1.11603887660712\n",
       "\\item[consumo] 1.06518881324987\n",
       "\\item[publicidad] 1.10549294593593\n",
       "\\item[competencia] 1.16318715676877\n",
       "\\end{description*}\n"
      ],
      "text/markdown": [
       "precio\n",
       ":   1.11603887660712consumo\n",
       ":   1.06518881324987publicidad\n",
       ":   1.10549294593593competencia\n",
       ":   1.16318715676877\n",
       "\n"
      ],
      "text/plain": [
       "     precio     consumo  publicidad competencia \n",
       "   1.116039    1.065189    1.105493    1.163187 "
      ]
     },
     "metadata": {},
     "output_type": "display_data"
    }
   ],
   "source": [
    "vif(modelo)"
   ]
  },
  {
   "cell_type": "markdown",
   "id": "7bef77b6",
   "metadata": {},
   "source": [
    "Como se puede ver en cada uno de los VIF, ninguno es mayor a 10, en realidad son valores muy bajos pues no sobre pasan el 1.2, por tal motivo se puede concluir que el modelo no tiene problemas de multicolinealidad. "
   ]
  },
  {
   "cell_type": "markdown",
   "id": "8ab2035e",
   "metadata": {},
   "source": [
    "###### Heterocedasticidad\n",
    "Se procede ahora a evaluar el supuesto de homocedasticidad, para esto se realiza la prueba de Breusch-Pagan que consiste en evaluar el siguiente modelo:\n",
    "$$\n",
    "e_{i^2}=\\alpha_0+\\alpha_1X_{1i}+\\alpha_2X_{2i}+\\alpha_3X_{3i}+\\alpha_4X_{4i}+w_i\n",
    "$$\n",
    "\n",
    "y se plantea la siguiente prueba de hipotesis: \n",
    "$$\n",
    "H_0: \\alpha_1 = \\alpha_2 =\\alpha_3 =\\alpha_4= 0\n",
    "$$\n",
    "\n",
    "$$\n",
    "H_1: al menos un \\alpha \\neq 0\n",
    "$$"
   ]
  },
  {
   "cell_type": "code",
   "execution_count": 20,
   "id": "498f1536",
   "metadata": {},
   "outputs": [
    {
     "data": {
      "text/plain": [
       "\n",
       "\tstudentized Breusch-Pagan test\n",
       "\n",
       "data:  modelo\n",
       "BP = 10.251, df = 4, p-value = 0.03641\n"
      ]
     },
     "metadata": {},
     "output_type": "display_data"
    }
   ],
   "source": [
    "#Heteroscedasticidad\n",
    "bptest(modelo)"
   ]
  },
  {
   "cell_type": "markdown",
   "id": "fd1eb8a4",
   "metadata": {},
   "source": [
    "Al realizar la prueba se puede concluir que con un nivel de confianza del 95% hay suficiente evidencia estadística para rechazar $H_0$, es decir que efectivamente hay problemas de heteroscedasticidad, dado que el p-value es 0.03641 lo cual es menor a 5% que es el nivel de significancia. "
   ]
  },
  {
   "cell_type": "markdown",
   "id": "8b503c94",
   "metadata": {},
   "source": [
    "Dado que se encontró problemas de heteroscedasticidad, se realizó la evaluación de las variables en las cuales se encuentran problemas de heteroscedasticidad dentro del modelo:"
   ]
  },
  {
   "cell_type": "code",
   "execution_count": 22,
   "id": "cc223613",
   "metadata": {},
   "outputs": [
    {
     "data": {
      "text/html": [
       "<style>\n",
       ".list-inline {list-style: none; margin:0; padding: 0}\n",
       ".list-inline>li {display: inline-block}\n",
       ".list-inline>li:not(:last-child)::after {content: \"\\00b7\"; padding: 0 .5ex}\n",
       "</style>\n",
       "<ol class=list-inline><li>0.906034166224694</li><li>0.0249270999553429</li><li>0.654305765582234</li><li>0.0227439710579094</li></ol>\n"
      ],
      "text/latex": [
       "\\begin{enumerate*}\n",
       "\\item 0.906034166224694\n",
       "\\item 0.0249270999553429\n",
       "\\item 0.654305765582234\n",
       "\\item 0.0227439710579094\n",
       "\\end{enumerate*}\n"
      ],
      "text/markdown": [
       "1. 0.906034166224694\n",
       "2. 0.0249270999553429\n",
       "3. 0.654305765582234\n",
       "4. 0.0227439710579094\n",
       "\n",
       "\n"
      ],
      "text/plain": [
       "[1] 0.90603417 0.02492710 0.65430577 0.02274397"
      ]
     },
     "metadata": {},
     "output_type": "display_data"
    }
   ],
   "source": [
    "residuos2 <- residuos^2\n",
    "n <- length(y)\n",
    "\n",
    "model1 <- lm(residuos2~precio) \n",
    "pvalor1 <- 1-pchisq(n*summary(model1)$r.squared,1)\n",
    "\n",
    "model2 <- lm(residuos2~consumo) \n",
    "pvalor2 <- 1-pchisq(n*summary(model2)$r.squared,1)\n",
    "\n",
    "model3 <- lm(residuos2~publicidad) \n",
    "pvalor3 <- 1-pchisq(n*summary(model3)$r.squared,1)\n",
    "\n",
    "model4 <- lm(residuos2~competencia) \n",
    "pvalor4 <- 1-pchisq(n*summary(model4)$r.squared,1)\n",
    "\n",
    "pvalores <- c(pvalor1,pvalor2,pvalor3,pvalor4)\n",
    "pvalores"
   ]
  },
  {
   "cell_type": "markdown",
   "id": "5d61c913",
   "metadata": {},
   "source": [
    "Al observar los p-values de cada una de las variables se puede concluir que las variables de Consumo y Competencia son las que están generando los problemas de heteroscedasticidad esto dado que los p-value de estas dos variables son menores a nuestro nivel de significancia del 5%. "
   ]
  },
  {
   "cell_type": "markdown",
   "id": "d93d5c9d",
   "metadata": {},
   "source": [
    "###### Outliers e Influyentes\n",
    "Como primer paso se procede a revisar los datos outliers de manera gráfica mediante los residuos de la siguiente manera: "
   ]
  },
  {
   "cell_type": "code",
   "execution_count": 23,
   "id": "3ba58272",
   "metadata": {},
   "outputs": [
    {
     "data": {
      "image/png": "[encoded data removed]",
      "text/plain": [
       "plot without title"
      ]
     },
     "metadata": {
      "image/png": {
       "height": 420,
       "width": 420
      }
     },
     "output_type": "display_data"
    }
   ],
   "source": [
    "#Datos outliers\n",
    "plot(residuos)\n",
    "abline(0,0, col=2)"
   ]
  },
  {
   "cell_type": "markdown",
   "id": "18eeee45",
   "metadata": {},
   "source": [
    "En la anterior gráfica es posible observar que hay algunos datos (puntos) que se encuentran alejados del ceo, o de la linea roja, dado esto, se procede a realizar la comprobación estadística que empieza al estudentizar los residuos de la siguiente manera:"
   ]
  },
  {
   "cell_type": "code",
   "execution_count": 68,
   "id": "41218e55",
   "metadata": {},
   "outputs": [
    {
     "data": {
      "image/png": "[encoded data removed]",
      "text/plain": [
       "plot without title"
      ]
     },
     "metadata": {
      "image/png": {
       "height": 420,
       "width": 420
      }
     },
     "output_type": "display_data"
    }
   ],
   "source": [
    "#estudentizar \n",
    "x <- as.matrix(cbind(rep(1,64), secadoras[,2:5]))\n",
    "H <- x %*% solve(t(x) %*% x) %*% t(x)\n",
    "leve <- diag(H)\n",
    "\n",
    "estudentizado <- residuos/sqrt(1-leve)\n",
    "plot(estudentizado)                \n",
    "abline(0,0,col=2)   "
   ]
  },
  {
   "cell_type": "markdown",
   "id": "c056e9de",
   "metadata": {},
   "source": [
    "Luego, con los datos estudentizados se procede a realizar el análisis de datos outliers e influyentes con el siguiente procedimiento, en donde se comprobará si hay datos outliers o no."
   ]
  },
  {
   "cell_type": "code",
   "execution_count": 69,
   "id": "4c46f208",
   "metadata": {},
   "outputs": [
    {
     "data": {
      "text/html": [
       "2.77418989199622"
      ],
      "text/latex": [
       "2.77418989199622"
      ],
      "text/markdown": [
       "2.77418989199622"
      ],
      "text/plain": [
       "[1] 2.77419"
      ]
     },
     "metadata": {},
     "output_type": "display_data"
    },
    {
     "data": {
      "text/html": [
       "1.67109303210389"
      ],
      "text/latex": [
       "1.67109303210389"
      ],
      "text/markdown": [
       "1.67109303210389"
      ],
      "text/plain": [
       "[1] 1.671093"
      ]
     },
     "metadata": {},
     "output_type": "display_data"
    }
   ],
   "source": [
    "# Datos outliers\n",
    "p <- dim(secadoras)[2]-1\n",
    "t <- residuos*sqrt((n-p-1)/(sum((y-predict(modelo))^2)*(1-leve)-residuos^2))\n",
    "max(t)\n",
    "qt(0.95,n-p-1)"
   ]
  },
  {
   "cell_type": "markdown",
   "id": "7a6fce82",
   "metadata": {},
   "source": [
    "Se evalúa la existencia de datos influyentes con un valor de 2.7741 contra una $t_{59}$=1.671 y se puede concluir con un nivel de confianza del 95% que existen datos outliers dado que EP < t."
   ]
  },
  {
   "cell_type": "code",
   "execution_count": 70,
   "id": "143060cc",
   "metadata": {},
   "outputs": [
    {
     "data": {
      "text/html": [
       "0.193887012814629"
      ],
      "text/latex": [
       "0.193887012814629"
      ],
      "text/markdown": [
       "0.193887012814629"
      ],
      "text/plain": [
       "[1] 0.193887"
      ]
     },
     "metadata": {},
     "output_type": "display_data"
    },
    {
     "data": {
      "text/html": [
       "0.848732128958395"
      ],
      "text/latex": [
       "0.848732128958395"
      ],
      "text/markdown": [
       "0.848732128958395"
      ],
      "text/plain": [
       "[1] 0.8487321"
      ]
     },
     "metadata": {},
     "output_type": "display_data"
    }
   ],
   "source": [
    "# Datos influyentes\n",
    "cd <- cooks.distance(modelo)\n",
    "max(cd)\n",
    "qf(0.5,p,n-p)"
   ]
  },
  {
   "cell_type": "markdown",
   "id": "ad58f4ae",
   "metadata": {},
   "source": [
    "La prueba utilizada para saber si hay o no datos atipicos fue la distancia de Cook. La cual arrojó un valor de 0.1939 que al compararlo con la distribución F(p,n-p)=0,8487 se puede concluir con una significancia del 5% que no hay datos influyentes en el modelo, pues el valor de Di no es lo suficiente mente grande comparado con la mediana de\n",
    "la distribución F mencionada. "
   ]
  },
  {
   "cell_type": "markdown",
   "id": "553c98af",
   "metadata": {},
   "source": [
    "#### 2. Encuentre una manera de solucionar el problema de las varianzas."
   ]
  },
  {
   "cell_type": "markdown",
   "id": "f238f0c6",
   "metadata": {},
   "source": [
    "Para solucionar el problema de las varianzas se debe recordar los datos obtenidos en la prueba de heteroscedasticidad en donde se demostró que los problemas se encuentran en las varaibles: consumo y competencia. \n",
    "Teniendo lo anterior claro, para solucionar el problema se procede a utilizar Mínimos Cuadrados Ponderados Factibles (FWLS). \n",
    "\n",
    "Lo primero que se debe hacer es calcular la matriz:\n",
    "$$\n",
    "\\hat{\\Omega}=\\left[\\begin{matrix}{\\hat{\\sigma}}_1^2&\\cdots&0\\\\\\vdots&\\ddots&\\vdots\\\\0&\\cdots&{\\hat{\\sigma}}_n^2\\\\\\end{matrix}\\right]\n",
    "$$\n",
    "Para poder encontrar los betas y las varianzas se emplean las siguientes ecuaciones:\n",
    "$$\n",
    "{\\hat{\\beta}}_{FWLS}=(X^T {\\hat{\\Omega}}^{-1} X)^{-1}(X^T {\\hat{\\Omega}}^{-1} Y)\n",
    "$$\n",
    "\n",
    "$$\n",
    "{\\widehat{Var}}_{FWLS}=(X^T {\\hat{\\Omega}}^{-1} X)^{-1}((X^T \\hat{\\Lambda} X))(X^T {\\hat{\\Omega}}^{-1} Y)^{-1}\n",
    "$$\n",
    "\n",
    "Sabiendo que:\n",
    "$$\n",
    "\\hat{\\Lambda}=\\left[\\begin{matrix}\\frac{\\left(e_{j_1}\\right)^2}{\\left({\\hat{\\sigma}}_1^2\\right)^2}&\\cdots&0\\\\\\vdots&\\ddots&\\vdots\\\\0&\\cdots&\\frac{\\left(e_{j_n}\\right)^2}{\\left({\\hat{\\sigma}}_n^2\\right)^2}\\\\\\end{matrix}\\right]\n",
    "$$"
   ]
  },
  {
   "cell_type": "code",
   "execution_count": 72,
   "id": "8a98e529",
   "metadata": {},
   "outputs": [
    {
     "data": {
      "text/plain": [
       "\n",
       "Call:\n",
       "lm(formula = logresiduos2 ~ consumo)\n",
       "\n",
       "Residuals:\n",
       "    Min      1Q  Median      3Q     Max \n",
       "-4.5056 -1.0302  0.0569  1.0845  3.4462 \n",
       "\n",
       "Coefficients:\n",
       "            Estimate Std. Error t value Pr(>|t|)   \n",
       "(Intercept)  2.40209    0.70245   3.420  0.00111 **\n",
       "consumo      0.24809    0.09814   2.528  0.01404 * \n",
       "---\n",
       "Signif. codes:  0 '***' 0.001 '**' 0.01 '*' 0.05 '.' 0.1 ' ' 1\n",
       "\n",
       "Residual standard error: 1.672 on 62 degrees of freedom\n",
       "Multiple R-squared:  0.09344,\tAdjusted R-squared:  0.07882 \n",
       "F-statistic:  6.39 on 1 and 62 DF,  p-value: 0.01404\n"
      ]
     },
     "metadata": {},
     "output_type": "display_data"
    },
    {
     "data": {
      "text/html": [
       "<table class=\"dataframe\">\n",
       "<caption>A matrix: 5 × 5 of type dbl</caption>\n",
       "<thead>\n",
       "\t<tr><th></th><th scope=col>rep(1, 64)</th><th scope=col>precio</th><th scope=col>consumo</th><th scope=col>publicidad</th><th scope=col>competencia</th></tr>\n",
       "</thead>\n",
       "<tbody>\n",
       "\t<tr><th scope=row>rep(1, 64)</th><td>61.8765896</td><td>-2.4217174</td><td>-0.4465377</td><td>-4.0217233</td><td> 0.7171486</td></tr>\n",
       "\t<tr><th scope=row>precio</th><td>-2.4217174</td><td> 0.3972577</td><td>-0.2739401</td><td> 0.0149117</td><td>-0.3346344</td></tr>\n",
       "\t<tr><th scope=row>consumo</th><td>-0.4465377</td><td>-0.2739401</td><td> 0.7437502</td><td>-0.1847683</td><td> 0.4873066</td></tr>\n",
       "\t<tr><th scope=row>publicidad</th><td>-4.0217233</td><td> 0.0149117</td><td>-0.1847683</td><td> 0.6646581</td><td>-0.1647921</td></tr>\n",
       "\t<tr><th scope=row>competencia</th><td> 0.7171486</td><td>-0.3346344</td><td> 0.4873066</td><td>-0.1647921</td><td> 0.7032191</td></tr>\n",
       "</tbody>\n",
       "</table>\n"
      ],
      "text/latex": [
       "A matrix: 5 × 5 of type dbl\n",
       "\\begin{tabular}{r|lllll}\n",
       "  & rep(1, 64) & precio & consumo & publicidad & competencia\\\\\n",
       "\\hline\n",
       "\trep(1, 64) & 61.8765896 & -2.4217174 & -0.4465377 & -4.0217233 &  0.7171486\\\\\n",
       "\tprecio & -2.4217174 &  0.3972577 & -0.2739401 &  0.0149117 & -0.3346344\\\\\n",
       "\tconsumo & -0.4465377 & -0.2739401 &  0.7437502 & -0.1847683 &  0.4873066\\\\\n",
       "\tpublicidad & -4.0217233 &  0.0149117 & -0.1847683 &  0.6646581 & -0.1647921\\\\\n",
       "\tcompetencia &  0.7171486 & -0.3346344 &  0.4873066 & -0.1647921 &  0.7032191\\\\\n",
       "\\end{tabular}\n"
      ],
      "text/markdown": [
       "\n",
       "A matrix: 5 × 5 of type dbl\n",
       "\n",
       "| <!--/--> | rep(1, 64) | precio | consumo | publicidad | competencia |\n",
       "|---|---|---|---|---|---|\n",
       "| rep(1, 64) | 61.8765896 | -2.4217174 | -0.4465377 | -4.0217233 |  0.7171486 |\n",
       "| precio | -2.4217174 |  0.3972577 | -0.2739401 |  0.0149117 | -0.3346344 |\n",
       "| consumo | -0.4465377 | -0.2739401 |  0.7437502 | -0.1847683 |  0.4873066 |\n",
       "| publicidad | -4.0217233 |  0.0149117 | -0.1847683 |  0.6646581 | -0.1647921 |\n",
       "| competencia |  0.7171486 | -0.3346344 |  0.4873066 | -0.1647921 |  0.7032191 |\n",
       "\n"
      ],
      "text/plain": [
       "            rep(1, 64) precio     consumo    publicidad competencia\n",
       "rep(1, 64)  61.8765896 -2.4217174 -0.4465377 -4.0217233  0.7171486 \n",
       "precio      -2.4217174  0.3972577 -0.2739401  0.0149117 -0.3346344 \n",
       "consumo     -0.4465377 -0.2739401  0.7437502 -0.1847683  0.4873066 \n",
       "publicidad  -4.0217233  0.0149117 -0.1847683  0.6646581 -0.1647921 \n",
       "competencia  0.7171486 -0.3346344  0.4873066 -0.1647921  0.7032191 "
      ]
     },
     "metadata": {},
     "output_type": "display_data"
    },
    {
     "data": {
      "text/html": [
       "<style>\n",
       ".dl-inline {width: auto; margin:0; padding: 0}\n",
       ".dl-inline>dt, .dl-inline>dd {float: none; width: auto; display: inline-block}\n",
       ".dl-inline>dt::after {content: \":\\0020\"; padding-right: .5ex}\n",
       ".dl-inline>dt:not(:first-of-type) {padding-left: .5ex}\n",
       "</style><dl class=dl-inline><dt>rep(1, 64)</dt><dd>61.8765895515786</dd><dt>precio</dt><dd>0.397257678705446</dd><dt>consumo</dt><dd>0.743750184339832</dd><dt>publicidad</dt><dd>0.664658090046231</dd><dt>competencia</dt><dd>0.703219120311747</dd></dl>\n"
      ],
      "text/latex": [
       "\\begin{description*}\n",
       "\\item[rep(1, 64)] 61.8765895515786\n",
       "\\item[precio] 0.397257678705446\n",
       "\\item[consumo] 0.743750184339832\n",
       "\\item[publicidad] 0.664658090046231\n",
       "\\item[competencia] 0.703219120311747\n",
       "\\end{description*}\n"
      ],
      "text/markdown": [
       "rep(1, 64)\n",
       ":   61.8765895515786precio\n",
       ":   0.397257678705446consumo\n",
       ":   0.743750184339832publicidad\n",
       ":   0.664658090046231competencia\n",
       ":   0.703219120311747\n",
       "\n"
      ],
      "text/plain": [
       " rep(1, 64)      precio     consumo  publicidad competencia \n",
       " 61.8765896   0.3972577   0.7437502   0.6646581   0.7032191 "
      ]
     },
     "metadata": {},
     "output_type": "display_data"
    },
    {
     "data": {
      "text/plain": [
       "\n",
       "Call:\n",
       "lm(formula = y ~ precio + consumo + publicidad + competencia, \n",
       "    weights = 1/error)\n",
       "\n",
       "Weighted Residuals:\n",
       "    Min      1Q  Median      3Q     Max \n",
       "-5.8604 -0.9888 -0.1396  1.2362  4.0739 \n",
       "\n",
       "Coefficients:\n",
       "            Estimate Std. Error t value Pr(>|t|)    \n",
       "(Intercept)  18.5547    11.0620   1.677 0.098769 .  \n",
       "precio       -4.2095     0.7203  -5.844 2.34e-07 ***\n",
       "consumo      -8.1084     0.9022  -8.988 1.20e-12 ***\n",
       "publicidad    3.0404     0.9873   3.080 0.003145 ** \n",
       "competencia   2.9430     0.7925   3.714 0.000455 ***\n",
       "---\n",
       "Signif. codes:  0 '***' 0.001 '**' 0.01 '*' 0.05 '.' 0.1 ' ' 1\n",
       "\n",
       "Residual standard error: 1.819 on 59 degrees of freedom\n",
       "Multiple R-squared:  0.7253,\tAdjusted R-squared:  0.7067 \n",
       "F-statistic: 38.94 on 4 and 59 DF,  p-value: 6.267e-16\n"
      ]
     },
     "metadata": {},
     "output_type": "display_data"
    }
   ],
   "source": [
    "logresiduos2 <- log(residuos2)\n",
    "regresionlog <- lm(logresiduos2~consumo)\n",
    "summary(regresionlog)\n",
    "\n",
    "mconsumo <- as.matrix(cbind(rep(1,n), consumo))\n",
    "alpha <- regresionlog$coefficients\n",
    "lhat <- exp(mconsumo %*% alpha)\n",
    "\n",
    "sigma2 <- diag(as.numeric(lhat))\n",
    "xwx <- solve(t(x) %*% solve(sigma2) %*% x)\n",
    "betasFWLS <- xwx %*% t(x) %*% solve(sigma2) %*% y\n",
    "\n",
    "v <- matrix(rep(0,64*64),ncol=64)\n",
    "resinew <- (y-x %*% betasFWLS)^2\n",
    "v <- diag(as.numeric(resinew / diag(sigma2^2)))\n",
    "varFWLS <- xwx %*% t(x) %*% v %*% x %*% xwx\n",
    "varFWLS\n",
    "diag(varFWLS)\n",
    "\n",
    "logerror <- predict(regresionlog)\n",
    "error <- exp(logerror)\n",
    "\n",
    "modelonew <- lm(y~precio + consumo + publicidad + competencia, weights = 1/error)\n",
    "summary(modelonew)"
   ]
  },
  {
   "cell_type": "markdown",
   "id": "0134b1aa",
   "metadata": {},
   "source": [
    "En el modelo anterior podemos ver los nuevos betas y tambien se muestra la amtriz de varianzas resultante. Con esto se debe entonces ver si con esta corrección solucionamos o no los problemas de heteroscedasticidad. Para lo cual se realiza una prueba de Breusch-Pagan y se plantea la siguiente prueba de hipotesis: \n",
    "$$\n",
    "H_0: \\alpha_1 = \\alpha_2 = \\alpha_3 = \\alpha_4 = 0\n",
    "$$\n",
    "\n",
    "$$\n",
    "H_1:Al menos un \\alpha \\neq 0\n",
    "$$"
   ]
  },
  {
   "cell_type": "code",
   "execution_count": 74,
   "id": "6ea81e71",
   "metadata": {},
   "outputs": [
    {
     "data": {
      "text/plain": [
       "\n",
       "\tstudentized Breusch-Pagan test\n",
       "\n",
       "data:  modelobp\n",
       "BP = 4.2568, df = 4, p-value = 0.3724\n"
      ]
     },
     "metadata": {},
     "output_type": "display_data"
    }
   ],
   "source": [
    "resinew2 <- modelonew$residuals^2\n",
    "modelobp <- lm(resinew2~precio + consumo + publicidad + competencia)\n",
    "bptest(modelobp)"
   ]
  },
  {
   "cell_type": "markdown",
   "id": "b0522273",
   "metadata": {},
   "source": [
    "Con este p-value = 0.3724 que es mayor a 5%, se puede concluir que el modelo ya no presenta problemas de heteroscedasticidad con un nivel de confianza del 95% dado que no se rechaza $H_0$."
   ]
  },
  {
   "cell_type": "markdown",
   "id": "44c6763e",
   "metadata": {},
   "source": [
    "#### 3. Un reconocido economista afirma que el efecto del precio es el mismo que el de la competencia pero son signo contrario, y además que el efecto del consumo de energía es cuatro veces que el del gasto en publicidad con signo contrario. Cree Usted que los datos contradicen la afirmación del economista? Use al menos dos formas diferentes adecuadas para probar esta hipótesis"
   ]
  },
  {
   "cell_type": "markdown",
   "id": "cec98124",
   "metadata": {},
   "source": [
    "Para probar si la afirmación del economista es cierta o no, se utiliza una  prueba de Wald con la siguiente prueba de hipótesis:\n",
    "$$\n",
    "H_0:\\ \\ \\ \\left\\{\\begin{matrix}\\beta_{1\\ \\left(FWLS\\right)}+\\beta_{4\\ \\left(FWLS\\right)}=0\\\\\\beta_{2\\ \\left(FLWS\\right)}+4{\\cdot\\beta}_{3\\ \\left(FWLS\\right)}=0\\\\\\end{matrix}\\right.\n",
    "$$\n",
    "\n",
    "$$\n",
    "H_1:\\ \\ \\ \\lnot\\ H_0\n",
    "$$\n",
    "\n"
   ]
  },
  {
   "cell_type": "code",
   "execution_count": 77,
   "id": "a9f6e0fb",
   "metadata": {},
   "outputs": [
    {
     "data": {
      "text/html": [
       "<table class=\"dataframe\">\n",
       "<caption>A matrix: 1 × 1 of type dbl</caption>\n",
       "<tbody>\n",
       "\t<tr><td>4.611612</td></tr>\n",
       "</tbody>\n",
       "</table>\n"
      ],
      "text/latex": [
       "A matrix: 1 × 1 of type dbl\n",
       "\\begin{tabular}{l}\n",
       "\t 4.611612\\\\\n",
       "\\end{tabular}\n"
      ],
      "text/markdown": [
       "\n",
       "A matrix: 1 × 1 of type dbl\n",
       "\n",
       "| 4.611612 |\n",
       "\n"
      ],
      "text/plain": [
       "     [,1]    \n",
       "[1,] 4.611612"
      ]
     },
     "metadata": {},
     "output_type": "display_data"
    },
    {
     "data": {
      "text/html": [
       "5.99146454710798"
      ],
      "text/latex": [
       "5.99146454710798"
      ],
      "text/markdown": [
       "5.99146454710798"
      ],
      "text/plain": [
       "[1] 5.991465"
      ]
     },
     "metadata": {},
     "output_type": "display_data"
    }
   ],
   "source": [
    "a <- matrix(c(0,1,0,0,1,0,0,1,4,0),ncol=5,byrow = T)\n",
    "EP <- t(a %*% betasFWLS) %*% solve(a %*% varFWLS %*% t(a)) %*% (a %*% betasFWLS)\n",
    "EP\n",
    "wcr <- qchisq(0.95,2) \n",
    "wcr"
   ]
  },
  {
   "cell_type": "markdown",
   "id": "d293a000",
   "metadata": {},
   "source": [
    "Como se puede observar el valor del estadístico de prueba es $EP = 4.6116$ y el $w_{cr}=5.9915$. Cómo el $EP<w_{cr}$ entonces se puede concluir, bajo un nivel de confianza del 95% que no se rechaza la $H_0$, por lo cual no hay suficiente evidencia estadística para rechazar la afirmación del economista."
   ]
  },
  {
   "cell_type": "markdown",
   "id": "3df8075a",
   "metadata": {},
   "source": [
    "### Problema 5. Efectos de medidas preventivas en la severidad del coronavirus."
   ]
  },
  {
   "cell_type": "markdown",
   "id": "d4666e5c",
   "metadata": {},
   "source": [
    "Una de las preguntas más comunes en política de salud pública en la actualidad, es determinar el efecto de las medidas de restricción de movilidad o de actividades que impliquen reducir el contacto entre personas. Esto es por ejemplo, las cuarentenas, el pico y cédula, la prohibición de clases presenciales, uso de tapabocas, etc. Por conveniencia, estas medidas han sido agrupadas en una sola métrica conocide con el _Stringency Index_. Para entender cómo se calcula, puede revisar los documentos relacionados en: https://covidtracker.bsg.ox.ac.uk/."
   ]
  },
  {
   "cell_type": "markdown",
   "id": "6fdf6263",
   "metadata": {},
   "source": [
    "En un modelo simplificado, se quiere probar el efecto de esta medidas en Colombia (usando el _stringency\n",
    "index_) sobre la tasa de mortalidad usando el modelo:"
   ]
  },
  {
   "cell_type": "markdown",
   "id": "a613168f",
   "metadata": {},
   "source": [
    "$$\n",
    "    \\log(MR_t) = \\beta_0 + \\beta_1 SI_t + \\beta_2 \\log(NC_t) + \\varepsilon_t\n",
    "$$"
   ]
  },
  {
   "cell_type": "markdown",
   "id": "b48d5d77",
   "metadata": {},
   "source": [
    "Donde $MR_t$ corresponde a la tasa de mortalidad (número de muertes por Covid por cada millón de habitantes) en el día $t$, $NC_t$ corresponde al número de casos confirmados (por cada millón de habitantes) durante los últimos 14 días antes de $t$, y $SI_t$ corresponde al promedio del _stringency index_ para los 14 días anteriores a $t$, es decir:"
   ]
  },
  {
   "cell_type": "markdown",
   "id": "9acdc807",
   "metadata": {},
   "source": [
    "$$\n",
    "    SI_t = \\frac{\\sum_{i = 1}^{14}strind_{t-i}}{14},\n",
    "$$\n",
    "\n",
    "$$\n",
    "    NC_t = \\sum_{i = 1}^{14} nc_t.\n",
    "$$"
   ]
  },
  {
   "cell_type": "markdown",
   "id": "371b454e",
   "metadata": {},
   "source": [
    "$strind_t$ es la medida del _stringency index_ en el día $t$ y $nc_t$ es el número de casos confirmados en el día $t$. Para evitar problemas con los logaritmos, cuando las variables $MR_t$ o $NC_t$ tomen el valor de cero, entonces aproxímelos como 1. Si considera que en la base da datos existen variables importantes para tener un modelo mejor específicado, no dude en incluirlas."
   ]
  },
  {
   "cell_type": "markdown",
   "id": "77951987",
   "metadata": {},
   "source": [
    "Note que este modelo es definido sobre series de tiempo. Como periodo de estudio, use datos desde el noviembre 1 del 2020 hasta noviembre 1 de 2021. Para obtener los datos de las variables, puede revisar: https://ourworldindata.org/grapher/covid-stringency-index."
   ]
  },
  {
   "cell_type": "markdown",
   "id": "c41f3057",
   "metadata": {},
   "source": [
    "#### 1. Estime los parámetros del modelo e interpréte los intervalos de confianza correspondientes. Tenga en cuenta los logaritmos. ¿Encuentra coherencia en los resultados?"
   ]
  },
  {
   "cell_type": "markdown",
   "id": "906fe933",
   "metadata": {},
   "source": []
  },
  {
   "cell_type": "code",
   "execution_count": null,
   "id": "29fcb6dd",
   "metadata": {},
   "outputs": [],
   "source": []
  },
  {
   "cell_type": "markdown",
   "id": "3867de12",
   "metadata": {},
   "source": [
    "#### 2. ¿Considera que el modelo tiene problemas de heteroscedasticidad?"
   ]
  },
  {
   "cell_type": "markdown",
   "id": "c4f870a2",
   "metadata": {},
   "source": []
  },
  {
   "cell_type": "code",
   "execution_count": null,
   "id": "a53ecbec",
   "metadata": {},
   "outputs": [],
   "source": []
  },
  {
   "cell_type": "markdown",
   "id": "dd85af66",
   "metadata": {},
   "source": [
    "#### 3. Dado que el modelo se stima con series de tiempo, es posible que se presenten problemas de autocorrelación. Revise si existe autocorrelación positiva. En caso de que sea así, estime el modelo correcto y realice el intervalo de confianza para cada parámetro (incluyendo el intercepto)."
   ]
  },
  {
   "cell_type": "markdown",
   "id": "85e80838",
   "metadata": {},
   "source": []
  },
  {
   "cell_type": "code",
   "execution_count": null,
   "id": "a0cc7a06",
   "metadata": {},
   "outputs": [],
   "source": []
  }
 ],
 "metadata": {
  "kernelspec": {
   "display_name": "R",
   "language": "R",
   "name": "ir"
  },
  "language_info": {
   "codemirror_mode": "r",
   "file_extension": ".r",
   "mimetype": "text/x-r-source",
   "name": "R",
   "pygments_lexer": "r",
   "version": "4.1.3"
  }
 },
 "nbformat": 4,
 "nbformat_minor": 5
}
