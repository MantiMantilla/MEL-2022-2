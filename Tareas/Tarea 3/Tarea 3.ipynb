{
 "cells": [
  {
   "cell_type": "markdown",
   "id": "c2f0b8e4",
   "metadata": {},
   "source": [
    "# Tarea 3 - MEL\n",
    "\n",
    "Alejandro Mantilla - 201711304\n",
    "\n",
    "Ximena Palacio - 201730995"
   ]
  },
  {
   "cell_type": "markdown",
   "id": "d9ec8b5f",
   "metadata": {},
   "source": [
    "## Índice\n",
    "\n",
    "- [Parte A](#Parte-A.-Problemas-computacionales.)\n",
    "\n",
    "    - [Problema 1](#Problema-1.-Bootstrap-para-pruebas-con-restricciones-lineales.)\n",
    "    - [Problema 2](#Problem-2.-Método-de-estimación-robusta.)\n",
    "\n",
    "- [Parte B](#Parte-B.-Problemas-teóricos,-conceptuales-y-experimentales.)\n",
    "\n",
    "    - [Problema BONO](#Problema-BONO.-Uso-de-leverage-para-medidas-de-desempeño.)\n",
    "    - [Problema 3](#Problema-3.-Problemas-de-especificación-y-selección-de-modelos.)\n",
    "    \n",
    "- [Parte C](#Parte-C.-Problemas-aplicados-con-datos-reales.)\n",
    "\n",
    "    - [Problema 4](#Problema-4.-Ventas-de-secadoras-eléctricas-en-Bogotá.)\n",
    "    - [Problema 5](#Problema-5.-Efectos-de-medidas-preventivas-en-la-severidad-del-coronavirus.)"
   ]
  },
  {
   "cell_type": "markdown",
   "id": "0b8d3940",
   "metadata": {},
   "source": [
    "## Parte A. Problemas computacionales."
   ]
  },
  {
   "cell_type": "markdown",
   "id": "eddb49f9",
   "metadata": {},
   "source": [
    "### Problema 1. Bootstrap para pruebas con restricciones lineales."
   ]
  },
  {
   "cell_type": "markdown",
   "id": "d8203196",
   "metadata": {},
   "source": [
    "#### 1. Construya el código que haga el procedimietno que se describe para constrastar $H_0$ de manera gráfica."
   ]
  },
  {
   "cell_type": "markdown",
   "id": "260a6653",
   "metadata": {
    "tags": []
   },
   "source": [
    "El método de bootstrap no sólamente sirve para construir intervalos de confianza, sino para contrastar\n",
    "pruebas de hipótesis. En este problema, realizaremos una prueba de hipótesis gráfica por medio de\n",
    "_bootstrap_. En este caso, se hace una prueba de hipótesis con restricciones lineales del tipo $H_{0}: A\\beta = c$, donde $q = 2$.\n",
    "\n",
    "Tenga en cuenta que la hipótesis nula se puede escribir como:\n",
    "\n",
    "$$\n",
    "H_{0}: \\begin{cases} \n",
    "          \\textbf{a}_{1}^{T}\\beta = c_1 \\\\\n",
    "          \\textbf{a}_{2}^{T}\\beta = c_2\n",
    "       \\end{cases}\n",
    "$$\n",
    "\n",
    "Con las repeticiones del _bootstrap_, calcule en cada iteración los valores de $\\textbf{a}_{1}^{T}$ y $\\textbf{a}_{2}^{T}$. Luego con estos $B$ puntos, se puede construir la elipse de confianza empírica que cubre el 95% de los datos. Después, en el mismo gráfco puede dibujar el punto $(c_{1}, c_{2})$, y si este cae dentro de la elipse, no se rechaza la hipótesis nula."
   ]
  },
  {
   "cell_type": "markdown",
   "id": "3878d1e1",
   "metadata": {},
   "source": [
    "1. Construya el código que haga el procedimiento que se describe para constrastar $H_{0}$ de manera gráfica. Puede usar como guía el siguiente código:\n",
    "\n",
    "```r\n",
    "library(ellipse)\n",
    "x1 <- rnorm(500, 20, 3)\n",
    "x2 <- .5*x1+rnorm(500, 1, 3)\n",
    "plot(x1, x2)\n",
    "x <- cbind(x1, x2)\n",
    "el <- ellipse(x, centre = colMeans(x), level = 0.95)\n",
    "plot(x1, x2)\n",
    "points(el, type = \"l\")\n",
    "points(25, 5, col = 2, lwd = 2)\n",
    "\n",
    "```"
   ]
  },
  {
   "cell_type": "code",
   "execution_count": null,
   "id": "265df445",
   "metadata": {
    "tags": []
   },
   "outputs": [],
   "source": [
    "library(lmridge) # Librería lmridge para regresión Ridge.\n",
    "library(ellipse) # Librería ellipse para graficar ellipses de confianza.\n",
    "\n",
    "# La siguiente función recibe un data.frame \"X\" con vector \"y\" para hacer\n",
    "# \"n_bootstraps\" en cantidad de iteraciones de bootstrapping, cada una con\n",
    "# \"n_train\" en cantidad de observaciones. Calculamos un modelo de regresión\n",
    "# para cada iteración del bootstrap. La función grafica para cada iteración\n",
    "# del bootstrap los pares a_1^T beta y a_2^T beta, donde \"a_1^T\" y \"a_2^T\"\n",
    "# entran por parámetro.\n",
    "\n",
    "graph_h0 <- function(x, y, a_1, a_2, c1, c2,\n",
    "                      n_train, n_bootstraps = 1000,\n",
    "                      is_ridge = FALSE, ...) {\n",
    "\n",
    "    if (!is_ridge) {\n",
    "        get_coefficients <- function(data, ...) {\n",
    "            lm(y ~ ., data = data)$coefficients\n",
    "        }\n",
    "    } else {\n",
    "        get_coefficients <- function(data, ...) {\n",
    "            coef(lmridge::lmridge(y ~ ., data = data, ...))\n",
    "        }\n",
    "    }\n",
    "\n",
    "    lhs_samples <- data.frame(q_1 = double(), q_2 = double())\n",
    "    for (i in 1:n_bootstraps) {\n",
    "        sampled_rows <- sample(nrow(x), n_train, replace = TRUE)\n",
    "        new_x <- x[sampled_rows, ]\n",
    "        new_x[, \"y\"] <- y[sampled_rows, ]\n",
    "\n",
    "        coefficients <- as.matrix(get_coefficients(new_x, ...), ncol = 1)\n",
    "\n",
    "        q_1 <- a_1 %*% coefficients\n",
    "        q_2 <- a_2 %*% coefficients\n",
    "\n",
    "        lhs_samples[nrow(lhs_samples) + 1, ] <- c(q_1, q_2)\n",
    "    }\n",
    "\n",
    "    d <- acos(cor(lhs_samples[\"q_1\"], lhs_samples[\"q_2\"]))\n",
    "    el_points <- data.frame(x = double(), y = double())\n",
    "    num_points <- 1000\n",
    "\n",
    "    centre <- colMeans(lhs_samples)\n",
    "\n",
    "    for (i in 0:num_points) {\n",
    "        theta <- i * 360 / num_points\n",
    "        el_points[nrow(el_points) + 1, ] <- c(var(lhs_samples[[\"q_1\"]])\n",
    "                                              * cos(theta + d / 2),\n",
    "                                              var(lhs_samples[[\"q_2\"]])\n",
    "                                              * cos(theta - d / 2)) + centre\n",
    "    }\n",
    "\n",
    "    plot(lhs_samples)\n",
    "    points(el_points, col = \"red\", type = \"l\")\n",
    "    points(c1, c2, col = \"blue\", lwd = 2)\n",
    "\n",
    "    return(lhs_samples)\n",
    "}"
   ]
  },
  {
   "cell_type": "markdown",
   "id": "3569d21b",
   "metadata": {},
   "source": [
    "2. En la base de datos `masa-corporal` que vimos en la clase 13, se determinó que había un problema de multicolinealidad entre las variables. Por esto, puede ser adecuado usar regresión con penalización tipo _Ridge_. Usando _Ridge_, y la prueba que acaba de diseñar, determine si es cierta la afirmación que el coeficiente de grasa corporal (`cmi`) esperado para dos personas es $22$ y $12$ respectivamente, si se sabe que para que la persona 1 tiene $\\text{clic}=24$, $\\text{leg}=56$ y $\\text{arm}=26$ y que la persona 2, $\\text{clic}=20$, $\\text{leg}=43$ y $\\text{arm}=24$."
   ]
  },
  {
   "cell_type": "markdown",
   "id": "c7c37e7d-b082-4a55-89d1-6fd3250b6bf2",
   "metadata": {},
   "source": [
    "Para hacer regrsión tipo Ridge, debemos hallar un $\\lambda$ (hiperparámetro de regularización) que mitigue el efecto de la multicolinealidad. Haremos la búsqueda con el conjunto de datos completo y lo pasaremos por parámetro al método de prueba de hipótesis gráfico."
   ]
  },
  {
   "cell_type": "code",
   "execution_count": null,
   "id": "c388df2d-37e8-4572-b4f3-b0c9897916f7",
   "metadata": {},
   "outputs": [],
   "source": [
    "library(readr)\n",
    "masa_corporal <- read_delim(\"Archivos/masa_corporal.txt\",\n",
    "                            \"\\t\", escape_double = FALSE, trim_ws = TRUE)\n",
    "head(masa_corporal)"
   ]
  },
  {
   "cell_type": "code",
   "execution_count": null,
   "id": "6da3a99b-c0ef-41fd-9195-5267e91b3636",
   "metadata": {},
   "outputs": [],
   "source": [
    "modelo <- lmridge(cmi ~ .,\n",
    "                  masa_corporal,\n",
    "                  K = seq(0, 0.02, 0.001),\n",
    "                  scaling = \"sc\")\n",
    "print(vif(modelo))\n",
    "plot(modelo)\n",
    "plot(modelo, type = \"vif\")"
   ]
  },
  {
   "cell_type": "markdown",
   "id": "81006d3f-ca9b-4abd-8738-0791548af36c",
   "metadata": {},
   "source": [
    "Nos quedamos con un parámetro $\\lambda = 0.006$ ya que es el menor en la búsqueda que logra un VIF para cada predictor menor a 10."
   ]
  },
  {
   "cell_type": "code",
   "execution_count": null,
   "id": "a210600d-7e17-49e2-bc72-36724fa456fa",
   "metadata": {},
   "outputs": [],
   "source": [
    "set.seed(2) # Por consistencia, fijamos la semiila del RNG.\n",
    "\n",
    "x <- masa_corporal[, c(\"clic\", \"leg\", \"arm\")]\n",
    "y <- masa_corporal[, \"cmi\"]\n",
    "\n",
    "a_1 <- c(1, 24, 56, 26)\n",
    "a_2 <- c(1, 20, 43, 24)\n",
    "c1 <- 22\n",
    "c2 <- 12\n",
    "n_train <- nrow(x)\n",
    "n_bootstraps <- 1000\n",
    "is_ridge <- TRUE\n",
    "\n",
    "k <- 0.006\n",
    "scaling <- \"sc\"\n",
    "\n",
    "result <- graph_h0(x = x, y = y, a_1 = a_1, a_2 = a_2, c1 = c1, c2 = c2,\n",
    "                   n_train = n_train, n_bootstraps = n_bootstraps,\n",
    "                   is_ridge = is_ridge, K = k, scaling = scaling)"
   ]
  },
  {
   "cell_type": "markdown",
   "id": "fc917cec-b141-4350-b111-1be917c50e40",
   "metadata": {},
   "source": [
    "El resultado es evidente. El punto $(c_{1}, c_{2})$ cae fuera de la elipse y por lo tanto rechazamos que las expresiones lineales de los $\\beta$ sean iguales a estos valores."
   ]
  },
  {
   "cell_type": "markdown",
   "id": "924c3499",
   "metadata": {},
   "source": [
    "### Problem 2. Método de estimación robusta."
   ]
  },
  {
   "cell_type": "markdown",
   "id": "8e7aba37",
   "metadata": {},
   "source": [
    "La estimación robusta resulta ser bastante útil para evitar que algunos puntos observados creen sesgo en la recta estimada. Además de la regresión con minimización de las desviaciones en valor absoluto, otra solución al problema, es cambiar la distribución de los erroes para que no sea normal, sino que permita la existencia de datos atípicos (sobre todo en $Y$), esto es _fat tailed distribution_. En ese caso, supondremos que los errores del modelo son proporcionales a una variable aleatoria con distribución $t$ de Student. Es decir, se define el modelo"
   ]
  },
  {
   "cell_type": "markdown",
   "id": "a22ec2d0",
   "metadata": {},
   "source": [
    "$$\n",
    "Y_{i} = X_{i}^{T}\\beta + \\varepsilon_{i}.\n",
    "$$"
   ]
  },
  {
   "cell_type": "markdown",
   "id": "1ad0d5c8",
   "metadata": {},
   "source": [
    "Donde $\\frac{\\varepsilon_{i}}{\\sigma} \\sim t(\\nu)$, donde $\\nu$ son los grados de libertad correspondientes, y $\\sigma$ es un parámetro que permita adapatar la dispersión de los datos. En este modelo, se deben estimar los parámetros de la recta, así como el parámetro de dispersión $\\sigma$. Sin embargo, no es posible usar mínimos cuadrados dado que la distribución no es normal y se tendrían valores influyentes. Para estimar, se debe hacer por el método de máxima verosimilitud. Para simplificar el problema, suponga que $p = 2$, es decir, se deben estimar el intercepto, la pendiente y $\\sigma$. Esto es,"
   ]
  },
  {
   "cell_type": "markdown",
   "id": "28ad91a5",
   "metadata": {},
   "source": [
    "$$\n",
    "  \\left(\\frac{Y_{i}-\\beta_{0}-\\beta_{1}X_{i}}{\\sigma}\\right)\\sim t(\\nu)\n",
    "$$"
   ]
  },
  {
   "cell_type": "markdown",
   "id": "3005ab54",
   "metadata": {},
   "source": [
    "para cada $i = 1,2,\\cdots,n$, y son independientes entre sí."
   ]
  },
  {
   "cell_type": "markdown",
   "id": "4b2487d1",
   "metadata": {},
   "source": [
    "#### 1. Construya una función en R que tenga como inputs el vector $Y$, la matrix $X$, los parámetros $\\beta_{0}$ y $\\beta_{1}$ y el parámetro de dispersión $\\sigma$. El output de la función debe ser la verosimilitud calculada. Pueden usar las funciones relacionadas con la distribución $t$ en R. Tenga en cuenta que esta es la función de verosimilitud $L(\\beta_{0}, \\beta_{1}, \\sigma | Y, X)$ en términos de los tres parámetros, la cual se debe optimizar."
   ]
  },
  {
   "cell_type": "markdown",
   "id": "c5b833ac",
   "metadata": {},
   "source": [
    "Primero, preparamos los datos con los que va a trabajar el modelo:"
   ]
  },
  {
   "cell_type": "code",
   "execution_count": null,
   "id": "9ba10dff",
   "metadata": {},
   "outputs": [],
   "source": [
    "library(readr)\n",
    "data <- read_table(\"Archivos/datospunto2.txt\",\n",
    "                   col_names = FALSE, skip = 1,\n",
    "                   show_col_types = FALSE)\n",
    "data <- data[, -1]\n",
    "colnames(data) <- c(\"y\", \"X\")\n",
    "x <- as.matrix(data[\"X\"])\n",
    "y <- as.matrix(data[\"y\"])\n"
   ]
  },
  {
   "cell_type": "markdown",
   "id": "c29de70e",
   "metadata": {},
   "source": [
    "Creamos la función que calcula la log-similitud. Como tenemos varias ovservaciones, se calcula como la suma del logaritmo natural de la _pdf_ (t de student), evaluada para cada observación. Suponemos $\\nu = 8$."
   ]
  },
  {
   "cell_type": "code",
   "execution_count": null,
   "id": "d1bc9c5c",
   "metadata": {},
   "outputs": [],
   "source": [
    "neg_log_like <- function(beta_0, beta_1, sigma, y, x, nu = 8) {\n",
    "  -sum(log(dt((y - beta_0 - beta_1 * x) / sigma, nu)))\n",
    "}\n"
   ]
  },
  {
   "cell_type": "markdown",
   "id": "87d6a1da",
   "metadata": {},
   "source": [
    "#### 2. Como es difícil encontrar la solución del máximo de $L(\\beta_{0}, \\beta_{1}, \\sigma|Y, X)$ analíticamente, se deben usar métodos numéricos. Por ejemplo, para optimizar la función puede usar un método general construido en R como la función `optim`. Usando la función `optim`, maximice la verosimilitud $L(\\beta_{0}, \\beta_{1}, \\sigma|Y, X)$ mediante un algoritmo iterativo en el cual se maximiza para cada parámetro a la vez:"
   ]
  },
  {
   "cell_type": "markdown",
   "id": "f40d6633",
   "metadata": {},
   "source": [
    "1. Empiece con valores iniciales para $\\beta_{0}^{(0)}$, $\\beta_{1}^{(0)}$ y $\\sigma^{(0)}$.\n",
    "\n",
    "2. Repita hasta convergencia para la iteración $i \\in \\{1, 2, \\cdots\\}$:\n",
    "    1. Maximice la función de verosimilitud con respecto a $\\beta_{0}$ con valores fijos $\\beta_{1}^{(i - 1)}$ y $\\sigma^{(i-1)}$. Guarde el máximo como $\\beta_{0}^{(i)}$.\n",
    "    \n",
    "    2. Maximice la función de verosimilitud con respecto a $\\beta_{1}$ con valores fijos $\\beta_{0}^{(i)}$ y $\\sigma^{(i-1)}$. Guarde el máximo como $\\beta_{1}^{(i)}$.\n",
    "    \n",
    "    3. Maximice la función de verosimilitud con respecto a $\\sigma$ con valores fijos $\\beta_{1}^{(i)}$ y $\\beta_{1}^{(i)}$. Guarde el máximo como $\\sigma^{(i)}$."
   ]
  },
  {
   "cell_type": "code",
   "execution_count": null,
   "id": "24fc5a78",
   "metadata": {},
   "outputs": [],
   "source": [
    "# Los parámetros al llamar la función por primera vez son el resultado del\n",
    "# estimador por OLS.\n",
    "opt_quest <- function(beta_0, beta_1, sigma,\n",
    "                      y, x, nu = 8, min_obj_change = 0.00001) {\n",
    "    init_obj <- neg_log_like(beta_0, beta_1, sigma, y, x, nu)\n",
    "\n",
    "    # print(list(beta_0 = beta_0,\n",
    "    #            beta_1 = beta_1,\n",
    "    #            sigma = sigma,\n",
    "    #            obj_val = init_obj))\n",
    "\n",
    "    repeat {\n",
    "        sol <- optim(beta_0, fn = neg_log_like, beta_1 = beta_1, sigma = sigma,\n",
    "                     y = y, x = x, nu = nu,\n",
    "                     method = \"Brent\", lower = beta_0 - 5, upper = beta_0 + 5)\n",
    "        beta_0 <- sol$par\n",
    "\n",
    "        sol <- optim(beta_1, fn = neg_log_like, beta_0 = beta_0, sigma = sigma,\n",
    "                     y = y, x = x, nu = nu,\n",
    "                     method = \"Brent\", lower = beta_1 - 5, upper = beta_1 + 5)\n",
    "        beta_1 <- sol$par\n",
    "\n",
    "        sol <- optim(sigma, fn = neg_log_like, beta_0 = beta_0, beta_1 = beta_1,\n",
    "                     y = y, x = x, nu = nu,\n",
    "                     method = \"Brent\", lower = sigma - 5, upper = sigma + 5)\n",
    "        sigma <- sol$par\n",
    "\n",
    "        new_obj <- sol$value\n",
    "        if (init_obj - new_obj < min_obj_change) {\n",
    "          break\n",
    "        } else {\n",
    "          init_obj <- new_obj\n",
    "        }\n",
    "    }\n",
    "\n",
    "    return(list(beta_0 = beta_0,\n",
    "              beta_1 = beta_1,\n",
    "              sigma = sigma,\n",
    "              obj_val = new_obj))\n",
    "}\n",
    "\n",
    "# Estimamos los parámetros iniciales por OLS para iniciar el optimizador.\n",
    "model <- lm(y ~ X, data = data)\n",
    "\n",
    "result <- opt_quest(model$coefficients[[\"(Intercept)\"]],\n",
    "                    model$coefficients[[\"X\"]],\n",
    "                    sqrt(deviance(model) / df.residual(model)), y, x, 8)\n",
    "result\n"
   ]
  },
  {
   "cell_type": "markdown",
   "id": "7ecae94f",
   "metadata": {},
   "source": [
    "#### 3. Construya una mecanismo de inferencia por medio de bootstrap para construir intervalos de confianza para los tres parámetros de interés. Use los datos anexos `datospunto3.txt` y reporte los intervalos de confianza para $\\beta_{0}^{(0)}$, $\\beta_{1}^{(0)}$ y $\\sigma^{(0)}$ con 95% y con 99% de confianza. Puede usar 8 grados de libertad."
   ]
  },
  {
   "cell_type": "markdown",
   "id": "3bb8bb97",
   "metadata": {},
   "source": [
    "Bootstrap nos permite hacer un muestreo de los parámetros estimados por verosimilitud. El desarrollo debe tomar muestras de los datos originales con reemplazo y entrenar el modelo de regresión robusto para cada muestra aleatoria. El intervalo se calcula a partir de percentiles."
   ]
  },
  {
   "cell_type": "code",
   "execution_count": null,
   "id": "18ceb324",
   "metadata": {},
   "outputs": [],
   "source": [
    "bootstrap_robust_regression <- function(n_obs = nrow(y),\n",
    "                                        n_bootstraps = 500) {\n",
    "  beta_0_sampled <- rep(0, n_bootstraps)\n",
    "  beta_1_sampled <- rep(0, n_bootstraps)\n",
    "  sigma_sampled <- rep(0, n_bootstraps)\n",
    "\n",
    "  for (i in 1:n_bootstraps) {\n",
    "    indices <- sample(n_obs, n_obs, replace = TRUE)\n",
    "    x_sample <- x[indices, ]\n",
    "    y_sample <- y[indices, ]\n",
    "    datos <- data.frame(x = x_sample, y = y_sample)\n",
    "\n",
    "\n",
    "    model <- lm(y ~ x, data = datos)\n",
    "\n",
    "    result <- opt_quest(model$coefficients[[\"(Intercept)\"]],\n",
    "                        model$coefficients[[\"x\"]],\n",
    "                        sqrt(deviance(model) / df.residual(model)),\n",
    "                        y_sample, x_sample, 8)\n",
    "    beta_0_sampled[i] <- result$beta_0\n",
    "    beta_1_sampled[i] <- result$beta_1\n",
    "    sigma_sampled[i] <- result$sigma\n",
    "  }\n",
    "\n",
    "  return(list(beta_0_intervals = list(conf.95 = quantile(beta_0_sampled,\n",
    "                                                         c(0.025, 0.975)),\n",
    "                                      conf.99 = quantile(beta_0_sampled,\n",
    "                                                         c(0.005, 0.995))),\n",
    "              beta_1_intervals = list(conf.95 = quantile(beta_1_sampled,\n",
    "                                                         c(0.025, 0.975)),\n",
    "                                      conf.99 = quantile(beta_1_sampled,\n",
    "                                                         c(0.005, 0.995))),\n",
    "              sigma_intervals  = list(conf.95 = quantile(sigma_sampled,\n",
    "                                                         c(0.025, 0.975)),\n",
    "                                      conf.99 = quantile(sigma_sampled,\n",
    "                                                         c(0.005, 0.995)))))\n",
    "}\n",
    "\n",
    "bootstrap_robust_regression()\n"
   ]
  },
  {
   "cell_type": "markdown",
   "id": "0fbc02d5-3ea2-4ff3-bf07-85a7e4164576",
   "metadata": {},
   "source": [
    "Según reportan los intervalos de _bootstrap_, con $\\alpha = 0.01$, $\\beta_0$ incluye $0$ y por lo tanto puede no ser significativo. El intervalo de $\\beta_2$ no tiene peculiaridades, más allá de que incluye el beta estimado por _OLS_.\n",
    "\n",
    "El nuevo $\\sigma$ es mayor al originalmente estimado por dos ordenes de magnitud, lo cual es indicativo de que las colas de la distribución de los residuos son mucho más probables de lo anticipado."
   ]
  },
  {
   "cell_type": "markdown",
   "id": "ba514b35",
   "metadata": {},
   "source": [
    "## Parte B. Problemas teóricos, conceptuales y experimentales."
   ]
  },
  {
   "cell_type": "markdown",
   "id": "34275cd1",
   "metadata": {},
   "source": [
    "### Problema BONO. Uso de _leverage_ para medidas de desempeño."
   ]
  },
  {
   "cell_type": "markdown",
   "id": "8d13a9e5-0fc0-449a-afaa-44a3e3c88117",
   "metadata": {
    "tags": []
   },
   "source": [
    "Si $H$ es la matriz de proyección en $\\Omega$ definida por el estimador de mínimos cuadrados, entonces los elementos de la diagonal $\\ell_{ii}$ son los valores de _leverage_ que se miden para cada observación. Como se ha visto, estos valores tienen muchos usos, como por ejemplo, determinar la varianza de los residuales o determinar datos atípicos en $\\textbf{X}$. Uno de los usos más útiles, es que permiten calcular la distancia de un punto $Y_{i}$ a la recta estimada sin ese punto, sin necesidad de correr el modelo con los $n-1$ datos restantes. Es decir:\n",
    "\n",
    "$$\n",
    "    \\left( Y_{i} - \\hat{Y}_{i,(i)} \\right) = \\frac{Y_{i}-\\hat{Y}_{i}}{1-\\ell_{i,i} },\n",
    "$$\n",
    "\n",
    "donde $\\hat{Y}_{i,(i)}$ es la estimación del valor esperado de $Y_{i}$ estimada con el modelo que usa todos los datos, menos la observación $i$.\n",
    "\n",
    "Esto quiere decir, que si se define la métrica LOOCV:\n",
    "\n",
    "$$\n",
    "    LOO = \\frac{1}{n}\\sum_{i=1}^{n}\\left( \\frac{Y_{i}-\\hat{Y}_{i}}{1-\\ell_{i,i} } \\right)^{2}\n",
    "$$\n",
    "\n",
    "entonces, se puede medir el desempeño del modelo, algo parecido a como lo hace el $R^{2}_{\\text{adj}}$, el $C_{p}$ de Mallows o el $\\text{AIC}$."
   ]
  },
  {
   "cell_type": "markdown",
   "id": "5503825c-c12e-4716-af95-7f12e59048b6",
   "metadata": {},
   "source": [
    "1. Demuestre que\n",
    "\n",
    "$$\n",
    "    \\ell_{i,i} = \\frac{d\\hat{Y}_{i}}{dY_{i}}.\n",
    "$$"
   ]
  },
  {
   "cell_type": "markdown",
   "id": "f0a44167-b441-4a42-bfa2-e3e31bdae88f",
   "metadata": {},
   "source": [
    "+ Respuesta\n",
    "\n",
    "$$\n",
    "    \\begin{align*}\n",
    "        \\hat{Y} &= HY \\\\\n",
    "        \\hat{Y}_{i} &= H_{i}Y \\text{ (Acá, }H_{i}\\text{ es la fila }i\\text{ de la matriz }H)\\\\\n",
    "        \\hat{Y}_{i} &= H_{i, 1}Y_{1} + H_{i, 2}Y_{2} + \\cdots + H_{i, i}Y_{i} + \\cdots +H_{i, n}Y_{n}\\\\\n",
    "        \\frac{d\\hat{Y}_{i}}{dY_{i}} &= \\frac{dH_{i, 1}Y_{1}}{dY_{i}} + \\frac{dH_{i, 2}Y_{2}}{dY_{i}} + \\cdots + \\frac{dH_{i, i}Y_{i}}{dY_{i}} + \\cdots + \\frac{dH_{i, n}Y_{n}}{dY_{i}}\\\\\n",
    "        \\frac{d\\hat{Y}_{i}}{dY_{i}} &= \\frac{dH_{i, i}Y_{i}}{dY_{i}} = H_{ii} = \\ell_{i,i}\\\\\n",
    "    \\end{align*}\n",
    "$$"
   ]
  },
  {
   "cell_type": "markdown",
   "id": "4583ca65-eca0-4a14-b0da-fd0cc09255cb",
   "metadata": {},
   "source": [
    "2. Con la información del numeral anterior, demuestre que:\n",
    "\n",
    "$$\n",
    "    \\frac{dY_{i}}{de_{i}} = \\frac{1}{1-\\ell_{i,i}}\n",
    "$$"
   ]
  },
  {
   "cell_type": "markdown",
   "id": "60356e17-f45b-479c-b486-6531c4f0471e",
   "metadata": {},
   "source": [
    "+ Respuesta\n",
    "\n",
    "$$\n",
    "    \\begin{align*}\n",
    "        e &= Y - HY \\\\\n",
    "        e &= (I - H)Y \\\\\n",
    "        e_{i} &= (I - H)_{i}Y \\text{ (Acá, }(I-H)_{i}\\text{ es la fila }i\\text{ de la matriz }I-H)\\\\\n",
    "        e_{i} &= (0 - H_{i, 1})Y_{1} + (0-H_{i, 2})Y_{2} + \\cdots + (1-H_{i, i})Y_{i} + \\cdots + (0-H_{i, n})Y_{n}\\\\\n",
    "        e_{i} &= - H_{i, 1}Y_{1} - H_{i, 2}Y_{2} - \\cdots + (1-H_{i, i})Y_{i} - \\cdots - H_{i, n}Y_{n}\\\\\n",
    "        -(1 - H_{i, i})Y_{i} &= - H_{i, 1}Y_{1} - H_{i, 2}Y_{2} - \\cdots - H_{i, n}Y_{n} - e_{i}\\\\\n",
    "        Y_{i} &= - \\frac{H_{i, 1}Y_{1}}{(H_{i, i} - 1)} - \\frac{H_{i, 2}Y_{2}}{(H_{i, i} - 1)} - \\cdots - \\frac{H_{i, n}Y_{n}}{(H_{i, i} - 1)} - \\frac{e_{i}}{(H_{i, i} - 1)}\\\\\n",
    "        \\frac{dY_{i}}{de_{i}} &= - \\frac{d\\frac{e_{i}}{(H_{i, i} - 1)}}{de_{i}}\\\\\n",
    "        \\frac{dY_{i}}{de_{i}} &= \\frac{1}{1 - H_{i, i}} = \\frac{1}{1 - \\ell_{i, i}}\\\\\n",
    "    \\end{align*}\n",
    "$$"
   ]
  },
  {
   "cell_type": "markdown",
   "id": "44631732-3469-48bf-880d-2bb2548d5168",
   "metadata": {},
   "source": [
    "3. Con la información de los dos numerales anteriores, demuestre (explique) por qué:\n",
    "\n",
    "$$\n",
    "    d_{i} = \\frac{e_{i}}{1 - \\ell_{i,i}}.\n",
    "$$"
   ]
  },
  {
   "cell_type": "markdown",
   "id": "080aa06e-0247-4a99-b440-f91989956e2f",
   "metadata": {},
   "source": [
    "+ Respuesta\n",
    "\n",
    "Sea $d_{i} = Y_{i} - \\hat{Y}_{i, (i)}$, entonces:\n",
    "\n",
    "$$\n",
    "    \\begin{align*}\n",
    "         d_{i} &= Y_{i} - X_{i}\\left[ \\hat{\\beta}_{(i)} \\right]\\\\\n",
    "         d_{i} &= Y_{i} - X_{i}\\left[\\left( X_{(i)}^{T}X_{(i)} \\right)^{-1} X_{(i)}^{T}Y_{(i)}\\right]\n",
    "    \\end{align*}\n",
    "$$"
   ]
  },
  {
   "cell_type": "markdown",
   "id": "9ec7862c-91d0-441d-b968-6705566f9f73",
   "metadata": {},
   "source": [
    "Hacemos uso de la ecuación de Sherman-Morrison-Woodbury.\n",
    "\n",
    "$$\n",
    "    \\begin{align*}\n",
    "         d_{i} &= Y_{i} - X_{i}\\left[\\left[ \\left(X^{T}X\\right)^{-1} - \\frac{\\left(X^{T}X\\right)^{-1}X_{i}^{T}X_{i} \\left(X^{T}X\\right)^{-1}}{1 + X_{i}^{T}\\left(X^{T}X\\right)^{-1}X_{i}} \\right] X_{(i)}^{T}Y_{(i)}\\right]\\\\\n",
    "         d_{i} &= Y_{i} - X_{i}\\left[\\left[ \\left(X^{T}X\\right)^{-1} + \\frac{\\left(X^{T}X\\right)^{-1}X_{i}^{T}X_{i} \\left(X^{T}X\\right)^{-1}}{1 - \\ell_{i,i}} \\right] X_{(i)}^{T}Y_{(i)}\\right]\\\\\n",
    "         d_{i} &= Y_{i} - X_{i}\\left[\\left[ \\left(X^{T}X\\right)^{-1} + \\frac{\\left(X^{T}X\\right)^{-1}X_{i}^{T}X_{i} \\left(X^{T}X\\right)^{-1}}{1 - \\ell_{i,i}} \\right] \\left(X^{T}Y - X_{i}^{T}Y_{i} \\right)\\right]\\\\\n",
    "    \\end{align*}\n",
    "$$"
   ]
  },
  {
   "cell_type": "markdown",
   "id": "4ec0b351-91db-44fb-8514-338c68574480",
   "metadata": {},
   "source": [
    "Simplificamos:\n",
    "\n",
    "$$\n",
    "    \\begin{align*}\n",
    "        d_{i} &= Y_{i} - X_{i}\\left[ \\left(X^{T}X\\right)^{-1}X^{T}Y - \\left(X^{T}X\\right)^{-1}X_{i}^{T}Y_{i} + \\frac{\\left(X^{T}X\\right)^{-1}X_{i}^{T}X_{i} \\left(X^{T}X\\right)^{-1}X^{T}Y}{1 - \\ell_{i,i}} - \\frac{\\left(X^{T}X\\right)^{-1}X_{i}^{T}X_{i} \\left(X^{T}X\\right)^{-1}X_{i}^{T}Y_{i}}{1 - \\ell_{i,i}} \\right]\\\\\n",
    "        d_{i} &= Y_{i} - X_{i}\\left[ \\hat{\\beta} - \\left(X^{T}X\\right)^{-1}X_{i}^{T}Y_{i} + \\frac{\\left(X^{T}X\\right)^{-1}X_{i}^{T}X_{i} \\hat{\\beta}}{1 - \\ell_{i,i}} - \\frac{\\left(X^{T}X\\right)^{-1}X_{i}^{T}\\ell_{i,i}Y_{i}}{1 - \\ell_{i,i}} \\right]\\\\\n",
    "    \\end{align*}\n",
    "$$"
   ]
  },
  {
   "cell_type": "markdown",
   "id": "a3804ec3-aaff-46fd-b473-00f336613ae3",
   "metadata": {},
   "source": [
    "Factorizamos el $\\left(X^{T}X\\right)^{-1}X_{i}^{T}Y_{i}$ y el $\\left(X^{T}X\\right)^{-1}X_{i}^{T}$:\n",
    "\n",
    "$$\n",
    "    \\begin{align*}\n",
    "        d_{i} &= Y_{i} - X_{i}\\left[ \\hat{\\beta} - \\left(X^{T}X\\right)^{-1}X_{i}^{T}Y_{i}(1 + \\frac{\\ell_{i,i}}{1-\\ell_{i,i}}) + \\frac{\\left(X^{T}X\\right)^{-1}X_{i}^{T}X_{i} \\hat{\\beta}}{1 - \\ell_{i,i}} \\right]\\\\\n",
    "        d_{i} &= Y_{i} - X_{i}\\left[ \\hat{\\beta} - \\frac{\\left(X^{T}X\\right)^{-1}X_{i}^{T}Y_{i}}{1-\\ell_{i,i}} + \\frac{\\left(X^{T}X\\right)^{-1}X_{i}^{T}X_{i} \\hat{\\beta}}{1 - \\ell_{i,i}} \\right]\\\\\n",
    "        d_{i} &= Y_{i} - X_{i}\\left[ \\hat{\\beta} - \\frac{\\left(X^{T}X\\right)^{-1}X_{i}^{T}(Y_{i}-X_{i} \\hat{\\beta})}{1-\\ell_{i,i}} \\right]\\\\\n",
    "        d_{i} &= Y_{i} - X_{i}\\left[ \\hat{\\beta} - \\frac{\\left(X^{T}X\\right)^{-1}X_{i}^{T}e_{i}}{1-\\ell_{i,i}} \\right]\\\\\n",
    "        d_{i} &= Y_{i} + \\left[ \\frac{X_{i}\\left(X^{T}X\\right)^{-1}X_{i}^{T}e_{i}}{1-\\ell_{i,i}} - \\hat{Y}_{i}\\right]\\\\\n",
    "        d_{i} &= e_{i} + \\frac{X_{i}\\left(X^{T}X\\right)^{-1}X_{i}^{T}e_{i}}{1-\\ell_{i,i}}\\\\\n",
    "        d_{i} &= e_{i} + \\frac{\\ell_{i,i}e_{i}}{1-\\ell_{i,i}}\\\\\n",
    "        d_{i} &= \\frac{(1-\\ell_{i,i})e_{i} + \\ell_{i,i}e_{i}}{1-\\ell_{i,i}}\\\\\n",
    "        d_{i} &= \\frac{(1-\\ell_{i,i} + \\ell_{i,i})e_{i}}{1-\\ell_{i,i}} = \\frac{e_{i}}{1-\\ell_{i,i}}\\\\\n",
    "    \\end{align*}\n",
    "$$"
   ]
  },
  {
   "cell_type": "markdown",
   "id": "7398fdd3-f652-4f50-b30e-338aba50d02a",
   "metadata": {},
   "source": [
    "4. Con los datos de `masa-corporal` que vimos en las clases de multicolinealidad, seleccione el modelo más apropiado para explicar el índice de grasa corporal. Compare el resultado con el obtenido si usa: $R^{2}_{adj}$, $C_{p}$ y $\\text{AIC}$."
   ]
  },
  {
   "cell_type": "markdown",
   "id": "f1e6e6c5-e532-458f-8cf1-450ba0d548e9",
   "metadata": {},
   "source": [
    "Definimos una función que, dado un modelo, calcule la métrica $LOO$."
   ]
  },
  {
   "cell_type": "code",
   "execution_count": null,
   "id": "c6cf8472",
   "metadata": {},
   "outputs": [],
   "source": [
    "library(readr)\n",
    "masa_corporal <- read_delim(\"Archivos/masa_corporal.txt\",\n",
    "                            \"\\t\", escape_double = FALSE, trim_ws = TRUE,\n",
    "                            show_col_types = FALSE)\n",
    "head(masa_corporal)"
   ]
  },
  {
   "cell_type": "code",
   "execution_count": null,
   "id": "3ea3a1c0-2e06-4953-9e47-486d15fdba45",
   "metadata": {},
   "outputs": [],
   "source": [
    "pairs(masa_corporal)"
   ]
  },
  {
   "cell_type": "code",
   "execution_count": null,
   "id": "0a940367-be7e-48dc-8ddc-e07bc8645265",
   "metadata": {},
   "outputs": [],
   "source": [
    "library(olsrr)\n",
    "\n",
    "# Mejor modelo con 4 coeficientes.\n",
    "modelo_comp <- lm(cmi ~ ., data = masa_corporal)\n",
    "\n",
    "r2_adj_4_var <- summary(modelo_comp)$adj.r.squared\n",
    "cp_4_var <- ols_mallows_cp(modelo_comp, modelo_comp)\n",
    "AIC_4_var <- AIC(modelo_comp)\n",
    "\n",
    "r2_adj_4_var\n",
    "cp_4_var\n",
    "AIC_4_var\n"
   ]
  },
  {
   "cell_type": "code",
   "execution_count": null,
   "id": "dde0200a-f005-4cee-ae48-885198996b7b",
   "metadata": {},
   "outputs": [],
   "source": [
    "# Mejor modelo con 3 coeficientes.\n",
    "\n",
    "modelo_1 <- lm(cmi ~ . - 1, data = masa_corporal)\n",
    "\n",
    "r2_adj_3_var <- summary(modelo_1)$adj.r.squared\n",
    "cp_3_var <- ols_mallows_cp(modelo_1, modelo_comp)\n",
    "AIC_3_var <- AIC(modelo_1)\n",
    "\n",
    "modelo_2 <- lm(cmi ~ . - clic, data = masa_corporal)\n",
    "\n",
    "r2_adj_3_var <- c(r2_adj_3_var, summary(modelo_2)$adj.r.squared)\n",
    "cp_3_var <- c(cp_3_var, ols_mallows_cp(modelo_2, modelo_comp))\n",
    "AIC_3_var <- c(AIC_3_var, AIC(modelo_2))\n",
    "\n",
    "modelo_3 <- lm(cmi ~ . - leg, data = masa_corporal)\n",
    "\n",
    "r2_adj_3_var <- c(r2_adj_3_var, summary(modelo_3)$adj.r.squared)\n",
    "cp_3_var <- c(cp_3_var, ols_mallows_cp(modelo_3, modelo_comp))\n",
    "AIC_3_var <- c(AIC_3_var, AIC(modelo_3))\n",
    "\n",
    "\n",
    "modelo_4 <- lm(cmi ~ . - arm, data = masa_corporal)\n",
    "\n",
    "r2_adj_3_var <- c(r2_adj_3_var, summary(modelo_4)$adj.r.squared)\n",
    "cp_3_var <- c(cp_3_var, ols_mallows_cp(modelo_4, modelo_comp))\n",
    "AIC_3_var <- c(AIC_3_var, AIC(modelo_4))\n",
    "\n",
    "r2_adj_3_var\n",
    "which(r2_adj_3_var == max(r2_adj_3_var))\n",
    "\n",
    "cp_3_var\n",
    "which((cp_3_var - 3) == min(cp_3_var - 3))\n",
    "\n",
    "AIC_3_var\n",
    "which(AIC_3_var == max(AIC_3_var))\n",
    "\n"
   ]
  },
  {
   "cell_type": "code",
   "execution_count": null,
   "id": "ce00b38c-8622-4b18-b2e6-e9304d90cf54",
   "metadata": {},
   "outputs": [],
   "source": [
    "# Mejor modelo con 2 coeficientes.\n",
    "\n",
    "modelo_1 <- lm(cmi ~ . - 1 - clic, data = masa_corporal)\n",
    "\n",
    "r2_adj_2_var <- summary(modelo_1)$adj.r.squared\n",
    "cp_2_var <- ols_mallows_cp(modelo_1, modelo_comp)\n",
    "AIC_2_var <- AIC(modelo_1)\n",
    "\n",
    "modelo_2 <- lm(cmi ~ . - 1 - leg - arm, data = masa_corporal)\n",
    "\n",
    "r2_adj_2_var <- c(r2_adj_2_var, summary(modelo_2)$adj.r.squared)\n",
    "cp_2_var <- c(cp_2_var, ols_mallows_cp(modelo_2, modelo_comp))\n",
    "AIC_2_var <- c(AIC_2_var, AIC(modelo_2))\n",
    "\n",
    "modelo_3 <- lm(cmi ~ . - 1 - arm - clic, data = masa_corporal)\n",
    "\n",
    "r2_adj_2_var <- c(r2_adj_2_var, summary(modelo_3)$adj.r.squared)\n",
    "cp_2_var <- c(cp_2_var, ols_mallows_cp(modelo_3, modelo_comp))\n",
    "AIC_2_var <- c(AIC_2_var, AIC(modelo_3))\n",
    "\n",
    "\n",
    "modelo_4 <- lm(cmi ~ . - clic - leg, data = masa_corporal)\n",
    "\n",
    "r2_adj_2_var <- c(r2_adj_2_var, summary(modelo_4)$adj.r.squared)\n",
    "cp_2_var <- c(cp_2_var, ols_mallows_cp(modelo_4, modelo_comp))\n",
    "AIC_2_var <- c(AIC_2_var, AIC(modelo_4))\n",
    "\n",
    "modelo_5 <- lm(cmi ~ . - clic - arm, data = masa_corporal)\n",
    "\n",
    "r2_adj_2_var <- c(r2_adj_2_var, summary(modelo_5)$adj.r.squared)\n",
    "cp_2_var <- c(cp_2_var, ols_mallows_cp(modelo_5, modelo_comp))\n",
    "AIC_2_var <- c(AIC_2_var, AIC(modelo_5))\n",
    "\n",
    "modelo_6 <- lm(cmi ~ . - leg - arm, data = masa_corporal)\n",
    "\n",
    "r2_adj_2_var <- c(r2_adj_2_var, summary(modelo_6)$adj.r.squared)\n",
    "cp_2_var <- c(cp_2_var, ols_mallows_cp(modelo_6, modelo_comp))\n",
    "AIC_2_var <- c(AIC_2_var, AIC(modelo_6))\n",
    "\n",
    "r2_adj_2_var\n",
    "which(r2_adj_2_var == max(r2_adj_2_var))\n",
    "\n",
    "cp_2_var\n",
    "which((cp_2_var - 2) == min(cp_2_var - 2))\n",
    "\n",
    "AIC_2_var\n",
    "which(AIC_2_var == max(AIC_2_var))"
   ]
  },
  {
   "cell_type": "code",
   "execution_count": null,
   "id": "6ec4b6b3-f8e5-4381-9d71-52c90ee054cb",
   "metadata": {},
   "outputs": [],
   "source": [
    "# Mejor modelo con 1 coeficiente.\n",
    "\n",
    "modelo_1 <- lm(cmi ~ 1, data = masa_corporal)\n",
    "\n",
    "r2_adj_1_var <- summary(modelo_1)$adj.r.squared\n",
    "cp_1_var <- ols_mallows_cp(modelo_1, modelo_comp)\n",
    "AIC_1_var <- AIC(modelo_1)\n",
    "\n",
    "modelo_2 <- lm(cmi ~ clic - 1, data = masa_corporal)\n",
    "\n",
    "r2_adj_1_var <- c(r2_adj_1_var, summary(modelo_2)$adj.r.squared)\n",
    "cp_1_var <- c(cp_1_var, ols_mallows_cp(modelo_2, modelo_comp))\n",
    "AIC_1_var <- c(AIC_1_var, AIC(modelo_2))\n",
    "\n",
    "modelo_3 <- lm(cmi ~ leg - 1, data = masa_corporal)\n",
    "\n",
    "r2_adj_1_var <- c(r2_adj_1_var, summary(modelo_3)$adj.r.squared)\n",
    "cp_1_var <- c(cp_1_var, ols_mallows_cp(modelo_3, modelo_comp))\n",
    "AIC_1_var <- c(AIC_1_var, AIC(modelo_3))\n",
    "\n",
    "\n",
    "modelo_4 <- lm(cmi ~ arm - 1, data = masa_corporal)\n",
    "\n",
    "r2_adj_1_var <- c(r2_adj_1_var, summary(modelo_4)$adj.r.squared)\n",
    "cp_1_var <- c(cp_1_var, ols_mallows_cp(modelo_4, modelo_comp))\n",
    "AIC_1_var <- c(AIC_1_var, AIC(modelo_4))\n",
    "\n",
    "r2_adj_1_var\n",
    "which(r2_adj_1_var == max(r2_adj_1_var))\n",
    "\n",
    "cp_1_var\n",
    "which((cp_1_var - 1) == min(cp_1_var - 1))\n",
    "\n",
    "AIC_1_var\n",
    "which(AIC_1_var == max(AIC_1_var))\n"
   ]
  },
  {
   "cell_type": "code",
   "execution_count": null,
   "id": "e873a19f-7f55-4b4f-9c74-8738a348ecb8",
   "metadata": {},
   "outputs": [],
   "source": [
    "# Mejor modelo de todos.\n",
    "\n",
    "r2_adj <- c(r2_adj_4_var,\n",
    "            r2_adj_3_var,\n",
    "            r2_adj_2_var,\n",
    "            r2_adj_1_var)\n",
    "\n",
    "r2_adj_val <- max(r2_adj)\n",
    "r2_adj_index <- which(r2_adj == r2_adj_val)\n",
    "c(r2_adj_val, r2_adj_index)\n",
    "\n",
    "cp <- c(cp_3_var,\n",
    "        cp_2_var,\n",
    "        cp_1_var)\n",
    "\n",
    "cp_index <- which(cp - c(3, 3, 3, 3,\n",
    "                         2, 2, 2, 2, 2, 2,\n",
    "                         1, 1, 1, 1)\n",
    "                  == min(cp - c(3, 3, 3, 3,\n",
    "                                2, 2, 2, 2, 2, 2,\n",
    "                                1, 1, 1, 1)))\n",
    "cp_val <- cp[cp_index]\n",
    "c(cp_val, cp_index)\n",
    "\n",
    "\n",
    "AIC <- c(AIC_4_var,\n",
    "         AIC_3_var,\n",
    "         AIC_2_var,\n",
    "         AIC_1_var)\n",
    "\n",
    "AIC_val <- max(AIC)\n",
    "AIC_index <- which(AIC == AIC_val)\n",
    "c(AIC_val, AIC_index)\n",
    "\n"
   ]
  },
  {
   "cell_type": "markdown",
   "id": "0487b0e6-d543-4099-9477-d48ef5c3c563",
   "metadata": {},
   "source": [
    "Al comparar todas las posibles combinaciones de variables con y sin intercepto, hallamos lo siguiente:\n",
    "\n",
    "* Por $R^{2}_{\\text{adj}}$, se recomienda el modelo sin variables, con intercepto. Es decir, el estimador preferido es la media de la variable de respuesta.\n",
    "\n",
    "* Por $C_p$, se recomiende el modelo completo, sin medida de pierna.\n",
    "\n",
    "* Por AIC, se recomiendo el modelo únicamente en función del brazo y sin intercepto."
   ]
  },
  {
   "cell_type": "markdown",
   "id": "eb1150ea",
   "metadata": {},
   "source": [
    "### Problema 3. Problemas de especificación y selección de modelos."
   ]
  },
  {
   "cell_type": "markdown",
   "id": "5ad2f7cc",
   "metadata": {},
   "source": [
    "Lo primero que se hace es plantear el modelo, de entrada no se incluyen las varibales \"county\" y \"State\", pues se decide incluir la variable \"Geographic region\" que está discretizada en 4 categorías y si incluimos más de una de estas variables estaríamos teniendo información redundante."
   ]
  },
  {
   "cell_type": "code",
   "execution_count": 10,
   "id": "ccb39072",
   "metadata": {},
   "outputs": [
    {
     "name": "stderr",
     "output_type": "stream",
     "text": [
      "Loading required package: carData\n",
      "\n",
      "Loading required package: zoo\n",
      "\n",
      "\n",
      "Attaching package: 'zoo'\n",
      "\n",
      "\n",
      "The following objects are masked from 'package:base':\n",
      "\n",
      "    as.Date, as.Date.numeric\n",
      "\n",
      "\n"
     ]
    },
    {
     "data": {
      "text/html": [
       "<table class=\"dataframe\">\n",
       "<caption>A data.frame: 6 × 17</caption>\n",
       "<thead>\n",
       "\t<tr><th></th><th scope=col>No.</th><th scope=col>Estado</th><th scope=col>Sigla</th><th scope=col>Area</th><th scope=col>Poblacion</th><th scope=col>Per18a34</th><th scope=col>PerMayor65</th><th scope=col>MedicosActivos</th><th scope=col>Camas</th><th scope=col>CrimenesTotales</th><th scope=col>PerBachilleres</th><th scope=col>PerProfesionales</th><th scope=col>PerPoblDebajoNivelPobreza</th><th scope=col>PerDesempleados</th><th scope=col>IndicePerCapita</th><th scope=col>Ingresos</th><th scope=col>RegionGeo</th></tr>\n",
       "\t<tr><th></th><th scope=col>&lt;int&gt;</th><th scope=col>&lt;chr&gt;</th><th scope=col>&lt;chr&gt;</th><th scope=col>&lt;int&gt;</th><th scope=col>&lt;int&gt;</th><th scope=col>&lt;dbl&gt;</th><th scope=col>&lt;dbl&gt;</th><th scope=col>&lt;int&gt;</th><th scope=col>&lt;int&gt;</th><th scope=col>&lt;int&gt;</th><th scope=col>&lt;dbl&gt;</th><th scope=col>&lt;dbl&gt;</th><th scope=col>&lt;dbl&gt;</th><th scope=col>&lt;dbl&gt;</th><th scope=col>&lt;int&gt;</th><th scope=col>&lt;int&gt;</th><th scope=col>&lt;int&gt;</th></tr>\n",
       "</thead>\n",
       "<tbody>\n",
       "\t<tr><th scope=row>1</th><td>1</td><td>Los_Angeles</td><td>CA</td><td>4060</td><td>8863164</td><td>32.1</td><td> 9.7</td><td>23677</td><td>27700</td><td>688936</td><td>70.0</td><td>22.3</td><td>11.6</td><td>8.0</td><td>20786</td><td>184230</td><td>4</td></tr>\n",
       "\t<tr><th scope=row>2</th><td>2</td><td>Cook       </td><td>IL</td><td> 946</td><td>5105067</td><td>29.2</td><td>12.4</td><td>15153</td><td>21550</td><td>436936</td><td>73.4</td><td>22.8</td><td>11.1</td><td>7.2</td><td>21729</td><td>110928</td><td>2</td></tr>\n",
       "\t<tr><th scope=row>3</th><td>3</td><td>Harris     </td><td>TX</td><td>1729</td><td>2818199</td><td>31.3</td><td> 7.1</td><td> 7553</td><td>12449</td><td>253526</td><td>74.9</td><td>25.4</td><td>12.5</td><td>5.7</td><td>19517</td><td> 55003</td><td>3</td></tr>\n",
       "\t<tr><th scope=row>4</th><td>4</td><td>San_Diego  </td><td>CA</td><td>4205</td><td>2498016</td><td>33.5</td><td>10.9</td><td> 5905</td><td> 6179</td><td>173821</td><td>81.9</td><td>25.3</td><td> 8.1</td><td>6.1</td><td>19588</td><td> 48931</td><td>4</td></tr>\n",
       "\t<tr><th scope=row>5</th><td>5</td><td>Orange     </td><td>CA</td><td> 790</td><td>2410556</td><td>32.6</td><td> 9.2</td><td> 6062</td><td> 6369</td><td>144524</td><td>81.2</td><td>27.8</td><td> 5.2</td><td>4.8</td><td>24400</td><td> 58818</td><td>4</td></tr>\n",
       "\t<tr><th scope=row>6</th><td>6</td><td>Kings      </td><td>NY</td><td>  71</td><td>2300664</td><td>28.3</td><td>12.4</td><td> 4861</td><td> 8942</td><td>680966</td><td>63.7</td><td>16.6</td><td>19.5</td><td>9.5</td><td>16803</td><td> 38658</td><td>1</td></tr>\n",
       "</tbody>\n",
       "</table>\n"
      ],
      "text/latex": [
       "A data.frame: 6 × 17\n",
       "\\begin{tabular}{r|lllllllllllllllll}\n",
       "  & No. & Estado & Sigla & Area & Poblacion & Per18a34 & PerMayor65 & MedicosActivos & Camas & CrimenesTotales & PerBachilleres & PerProfesionales & PerPoblDebajoNivelPobreza & PerDesempleados & IndicePerCapita & Ingresos & RegionGeo\\\\\n",
       "  & <int> & <chr> & <chr> & <int> & <int> & <dbl> & <dbl> & <int> & <int> & <int> & <dbl> & <dbl> & <dbl> & <dbl> & <int> & <int> & <int>\\\\\n",
       "\\hline\n",
       "\t1 & 1 & Los\\_Angeles & CA & 4060 & 8863164 & 32.1 &  9.7 & 23677 & 27700 & 688936 & 70.0 & 22.3 & 11.6 & 8.0 & 20786 & 184230 & 4\\\\\n",
       "\t2 & 2 & Cook        & IL &  946 & 5105067 & 29.2 & 12.4 & 15153 & 21550 & 436936 & 73.4 & 22.8 & 11.1 & 7.2 & 21729 & 110928 & 2\\\\\n",
       "\t3 & 3 & Harris      & TX & 1729 & 2818199 & 31.3 &  7.1 &  7553 & 12449 & 253526 & 74.9 & 25.4 & 12.5 & 5.7 & 19517 &  55003 & 3\\\\\n",
       "\t4 & 4 & San\\_Diego   & CA & 4205 & 2498016 & 33.5 & 10.9 &  5905 &  6179 & 173821 & 81.9 & 25.3 &  8.1 & 6.1 & 19588 &  48931 & 4\\\\\n",
       "\t5 & 5 & Orange      & CA &  790 & 2410556 & 32.6 &  9.2 &  6062 &  6369 & 144524 & 81.2 & 27.8 &  5.2 & 4.8 & 24400 &  58818 & 4\\\\\n",
       "\t6 & 6 & Kings       & NY &   71 & 2300664 & 28.3 & 12.4 &  4861 &  8942 & 680966 & 63.7 & 16.6 & 19.5 & 9.5 & 16803 &  38658 & 1\\\\\n",
       "\\end{tabular}\n"
      ],
      "text/markdown": [
       "\n",
       "A data.frame: 6 × 17\n",
       "\n",
       "| <!--/--> | No. &lt;int&gt; | Estado &lt;chr&gt; | Sigla &lt;chr&gt; | Area &lt;int&gt; | Poblacion &lt;int&gt; | Per18a34 &lt;dbl&gt; | PerMayor65 &lt;dbl&gt; | MedicosActivos &lt;int&gt; | Camas &lt;int&gt; | CrimenesTotales &lt;int&gt; | PerBachilleres &lt;dbl&gt; | PerProfesionales &lt;dbl&gt; | PerPoblDebajoNivelPobreza &lt;dbl&gt; | PerDesempleados &lt;dbl&gt; | IndicePerCapita &lt;int&gt; | Ingresos &lt;int&gt; | RegionGeo &lt;int&gt; |\n",
       "|---|---|---|---|---|---|---|---|---|---|---|---|---|---|---|---|---|---|\n",
       "| 1 | 1 | Los_Angeles | CA | 4060 | 8863164 | 32.1 |  9.7 | 23677 | 27700 | 688936 | 70.0 | 22.3 | 11.6 | 8.0 | 20786 | 184230 | 4 |\n",
       "| 2 | 2 | Cook        | IL |  946 | 5105067 | 29.2 | 12.4 | 15153 | 21550 | 436936 | 73.4 | 22.8 | 11.1 | 7.2 | 21729 | 110928 | 2 |\n",
       "| 3 | 3 | Harris      | TX | 1729 | 2818199 | 31.3 |  7.1 |  7553 | 12449 | 253526 | 74.9 | 25.4 | 12.5 | 5.7 | 19517 |  55003 | 3 |\n",
       "| 4 | 4 | San_Diego   | CA | 4205 | 2498016 | 33.5 | 10.9 |  5905 |  6179 | 173821 | 81.9 | 25.3 |  8.1 | 6.1 | 19588 |  48931 | 4 |\n",
       "| 5 | 5 | Orange      | CA |  790 | 2410556 | 32.6 |  9.2 |  6062 |  6369 | 144524 | 81.2 | 27.8 |  5.2 | 4.8 | 24400 |  58818 | 4 |\n",
       "| 6 | 6 | Kings       | NY |   71 | 2300664 | 28.3 | 12.4 |  4861 |  8942 | 680966 | 63.7 | 16.6 | 19.5 | 9.5 | 16803 |  38658 | 1 |\n",
       "\n"
      ],
      "text/plain": [
       "  No. Estado      Sigla Area Poblacion Per18a34 PerMayor65 MedicosActivos Camas\n",
       "1 1   Los_Angeles CA    4060 8863164   32.1      9.7       23677          27700\n",
       "2 2   Cook        IL     946 5105067   29.2     12.4       15153          21550\n",
       "3 3   Harris      TX    1729 2818199   31.3      7.1        7553          12449\n",
       "4 4   San_Diego   CA    4205 2498016   33.5     10.9        5905           6179\n",
       "5 5   Orange      CA     790 2410556   32.6      9.2        6062           6369\n",
       "6 6   Kings       NY      71 2300664   28.3     12.4        4861           8942\n",
       "  CrimenesTotales PerBachilleres PerProfesionales PerPoblDebajoNivelPobreza\n",
       "1 688936          70.0           22.3             11.6                     \n",
       "2 436936          73.4           22.8             11.1                     \n",
       "3 253526          74.9           25.4             12.5                     \n",
       "4 173821          81.9           25.3              8.1                     \n",
       "5 144524          81.2           27.8              5.2                     \n",
       "6 680966          63.7           16.6             19.5                     \n",
       "  PerDesempleados IndicePerCapita Ingresos RegionGeo\n",
       "1 8.0             20786           184230   4        \n",
       "2 7.2             21729           110928   2        \n",
       "3 5.7             19517            55003   3        \n",
       "4 6.1             19588            48931   4        \n",
       "5 4.8             24400            58818   4        \n",
       "6 9.5             16803            38658   1        "
      ]
     },
     "metadata": {},
     "output_type": "display_data"
    },
    {
     "data": {
      "text/html": [
       "<table class=\"dataframe\">\n",
       "<caption>A data.frame: 440 × 16</caption>\n",
       "<thead>\n",
       "\t<tr><th scope=col>Area</th><th scope=col>Poblacion</th><th scope=col>Per18a34</th><th scope=col>PerMayor65</th><th scope=col>MedicosActivos</th><th scope=col>Camas</th><th scope=col>CrimenesTotales</th><th scope=col>PerBachilleres</th><th scope=col>PerProfesionales</th><th scope=col>PerPoblDebajoNivelPobreza</th><th scope=col>PerDesempleados</th><th scope=col>IndicePerCapita</th><th scope=col>Ingresos</th><th scope=col>x_NE</th><th scope=col>x_NC</th><th scope=col>x_S</th></tr>\n",
       "\t<tr><th scope=col>&lt;int&gt;</th><th scope=col>&lt;int&gt;</th><th scope=col>&lt;dbl&gt;</th><th scope=col>&lt;dbl&gt;</th><th scope=col>&lt;int&gt;</th><th scope=col>&lt;int&gt;</th><th scope=col>&lt;int&gt;</th><th scope=col>&lt;dbl&gt;</th><th scope=col>&lt;dbl&gt;</th><th scope=col>&lt;dbl&gt;</th><th scope=col>&lt;dbl&gt;</th><th scope=col>&lt;int&gt;</th><th scope=col>&lt;int&gt;</th><th scope=col>&lt;dbl&gt;</th><th scope=col>&lt;dbl&gt;</th><th scope=col>&lt;dbl&gt;</th></tr>\n",
       "</thead>\n",
       "<tbody>\n",
       "\t<tr><td> 4060</td><td>8863164</td><td>32.1</td><td> 9.7</td><td>23677</td><td>27700</td><td>688936</td><td>70.0</td><td>22.3</td><td>11.6</td><td> 8.0</td><td>20786</td><td>184230</td><td>0</td><td>0</td><td>0</td></tr>\n",
       "\t<tr><td>  946</td><td>5105067</td><td>29.2</td><td>12.4</td><td>15153</td><td>21550</td><td>436936</td><td>73.4</td><td>22.8</td><td>11.1</td><td> 7.2</td><td>21729</td><td>110928</td><td>0</td><td>1</td><td>0</td></tr>\n",
       "\t<tr><td> 1729</td><td>2818199</td><td>31.3</td><td> 7.1</td><td> 7553</td><td>12449</td><td>253526</td><td>74.9</td><td>25.4</td><td>12.5</td><td> 5.7</td><td>19517</td><td> 55003</td><td>0</td><td>0</td><td>1</td></tr>\n",
       "\t<tr><td> 4205</td><td>2498016</td><td>33.5</td><td>10.9</td><td> 5905</td><td> 6179</td><td>173821</td><td>81.9</td><td>25.3</td><td> 8.1</td><td> 6.1</td><td>19588</td><td> 48931</td><td>0</td><td>0</td><td>0</td></tr>\n",
       "\t<tr><td>  790</td><td>2410556</td><td>32.6</td><td> 9.2</td><td> 6062</td><td> 6369</td><td>144524</td><td>81.2</td><td>27.8</td><td> 5.2</td><td> 4.8</td><td>24400</td><td> 58818</td><td>0</td><td>0</td><td>0</td></tr>\n",
       "\t<tr><td>   71</td><td>2300664</td><td>28.3</td><td>12.4</td><td> 4861</td><td> 8942</td><td>680966</td><td>63.7</td><td>16.6</td><td>19.5</td><td> 9.5</td><td>16803</td><td> 38658</td><td>1</td><td>0</td><td>0</td></tr>\n",
       "\t<tr><td> 9204</td><td>2122101</td><td>29.2</td><td>12.5</td><td> 4320</td><td> 6104</td><td>177593</td><td>81.5</td><td>22.1</td><td> 8.8</td><td> 4.9</td><td>18042</td><td> 38287</td><td>0</td><td>0</td><td>0</td></tr>\n",
       "\t<tr><td>  614</td><td>2111687</td><td>27.4</td><td>12.5</td><td> 3823</td><td> 9490</td><td>193978</td><td>70.0</td><td>13.7</td><td>16.9</td><td>10.0</td><td>17461</td><td> 36872</td><td>0</td><td>1</td><td>0</td></tr>\n",
       "\t<tr><td> 1945</td><td>1937094</td><td>27.1</td><td>13.9</td><td> 6274</td><td> 8840</td><td>244725</td><td>65.0</td><td>18.8</td><td>14.2</td><td> 8.7</td><td>17823</td><td> 34525</td><td>0</td><td>0</td><td>1</td></tr>\n",
       "\t<tr><td>  880</td><td>1852810</td><td>32.6</td><td> 8.2</td><td> 4718</td><td> 6934</td><td>214258</td><td>77.1</td><td>26.3</td><td>10.4</td><td> 6.1</td><td>21001</td><td> 38911</td><td>0</td><td>0</td><td>1</td></tr>\n",
       "\t<tr><td>  135</td><td>1585577</td><td>29.1</td><td>15.2</td><td> 6641</td><td>10494</td><td>109148</td><td>64.3</td><td>15.2</td><td>16.1</td><td> 8.0</td><td>16721</td><td> 26512</td><td>1</td><td>0</td><td>0</td></tr>\n",
       "\t<tr><td> 2126</td><td>1507319</td><td>30.1</td><td>11.1</td><td> 5280</td><td> 4009</td><td>124959</td><td>88.2</td><td>32.8</td><td> 5.0</td><td> 4.6</td><td>23779</td><td> 35843</td><td>0</td><td>0</td><td>0</td></tr>\n",
       "\t<tr><td> 1291</td><td>1497577</td><td>32.6</td><td> 8.7</td><td> 4101</td><td> 3342</td><td> 77009</td><td>82.0</td><td>32.6</td><td> 5.0</td><td> 5.5</td><td>25193</td><td> 37728</td><td>0</td><td>0</td><td>0</td></tr>\n",
       "\t<tr><td>20062</td><td>1418380</td><td>30.1</td><td> 8.8</td><td> 2463</td><td> 3349</td><td> 83110</td><td>75.4</td><td>14.9</td><td>10.3</td><td> 8.0</td><td>16399</td><td> 23260</td><td>0</td><td>0</td><td>0</td></tr>\n",
       "\t<tr><td>  458</td><td>1412140</td><td>26.3</td><td>15.6</td><td> 5620</td><td> 8132</td><td> 73150</td><td>74.0</td><td>20.1</td><td>11.0</td><td> 5.5</td><td>21086</td><td> 29776</td><td>0</td><td>1</td><td>0</td></tr>\n",
       "\t<tr><td>  824</td><td>1398468</td><td>31.7</td><td>12.5</td><td> 5158</td><td> 4152</td><td> 35825</td><td>84.3</td><td>35.4</td><td> 4.2</td><td> 7.3</td><td>25312</td><td> 35398</td><td>1</td><td>0</td><td>0</td></tr>\n",
       "\t<tr><td>  730</td><td>1336449</td><td>26.2</td><td>17.4</td><td> 5281</td><td> 8436</td><td> 50186</td><td>79.0</td><td>22.6</td><td> 8.7</td><td> 5.3</td><td>20681</td><td> 27639</td><td>1</td><td>0</td><td>0</td></tr>\n",
       "\t<tr><td>  911</td><td>1321864</td><td>27.9</td><td>10.8</td><td> 3021</td><td> 3904</td><td> 66723</td><td>82.2</td><td>23.0</td><td> 3.3</td><td> 7.0</td><td>24262</td><td> 32071</td><td>1</td><td>0</td><td>0</td></tr>\n",
       "\t<tr><td>  287</td><td>1287348</td><td>25.7</td><td>14.2</td><td> 6147</td><td> 5200</td><td> 43203</td><td>84.2</td><td>30.0</td><td> 2.5</td><td> 5.1</td><td>31679</td><td> 40782</td><td>1</td><td>0</td><td>0</td></tr>\n",
       "\t<tr><td>  738</td><td>1279182</td><td>30.8</td><td>10.6</td><td> 3169</td><td> 3284</td><td>107338</td><td>81.4</td><td>28.8</td><td> 8.1</td><td> 5.3</td><td>22148</td><td> 28331</td><td>0</td><td>0</td><td>0</td></tr>\n",
       "\t<tr><td> 1209</td><td>1255488</td><td>25.3</td><td>20.7</td><td> 2456</td><td> 5543</td><td>107386</td><td>76.8</td><td>18.8</td><td> 7.1</td><td> 7.4</td><td>22355</td><td> 28066</td><td>0</td><td>0</td><td>1</td></tr>\n",
       "\t<tr><td> 1247</td><td>1185394</td><td>29.5</td><td> 9.9</td><td> 3062</td><td> 4086</td><td>133098</td><td>72.7</td><td>19.7</td><td>16.2</td><td> 6.7</td><td>15508</td><td> 18383</td><td>0</td><td>0</td><td>1</td></tr>\n",
       "\t<tr><td> 7208</td><td>1170413</td><td>27.9</td><td>13.2</td><td> 1385</td><td> 2435</td><td> 95494</td><td>74.1</td><td>14.6</td><td> 8.4</td><td>10.7</td><td>17185</td><td> 20114</td><td>0</td><td>0</td><td>0</td></tr>\n",
       "\t<tr><td>  864</td><td>1170103</td><td>32.2</td><td> 8.3</td><td> 1677</td><td> 3672</td><td>132495</td><td>79.9</td><td>24.0</td><td> 8.2</td><td> 6.6</td><td>18825</td><td> 22027</td><td>0</td><td>0</td><td>1</td></tr>\n",
       "\t<tr><td>  873</td><td>1083592</td><td>27.6</td><td>10.9</td><td> 4020</td><td> 3254</td><td> 50964</td><td>84.6</td><td>30.2</td><td> 4.4</td><td> 7.3</td><td>26884</td><td> 29131</td><td>0</td><td>1</td><td>0</td></tr>\n",
       "\t<tr><td>  966</td><td>1041219</td><td>29.7</td><td>10.6</td><td> 2464</td><td> 2855</td><td> 84305</td><td>82.2</td><td>23.0</td><td> 9.8</td><td> 6.3</td><td>18934</td><td> 19714</td><td>0</td><td>0</td><td>0</td></tr>\n",
       "\t<tr><td>  557</td><td>1032431</td><td>31.6</td><td>11.3</td><td> 3706</td><td> 5395</td><td> 71753</td><td>88.2</td><td>31.6</td><td> 6.4</td><td> 4.3</td><td>23705</td><td> 24474</td><td>0</td><td>1</td><td>0</td></tr>\n",
       "\t<tr><td>  508</td><td> 993529</td><td>26.1</td><td>13.1</td><td> 1194</td><td> 1056</td><td> 42595</td><td>82.3</td><td>29.2</td><td> 4.0</td><td> 5.1</td><td>24219</td><td> 24062</td><td>0</td><td>1</td><td>0</td></tr>\n",
       "\t<tr><td> 1045</td><td> 968532</td><td>27.3</td><td>15.2</td><td> 2748</td><td> 4632</td><td> 55306</td><td>76.4</td><td>20.0</td><td> 9.4</td><td> 6.8</td><td>18305</td><td> 17729</td><td>1</td><td>0</td><td>0</td></tr>\n",
       "\t<tr><td>  540</td><td> 961437</td><td>33.5</td><td> 9.6</td><td> 2675</td><td> 4011</td><td> 82680</td><td>81.0</td><td>26.6</td><td> 9.1</td><td> 4.2</td><td>19040</td><td> 18306</td><td>0</td><td>1</td><td>0</td></tr>\n",
       "\t<tr><td>⋮</td><td>⋮</td><td>⋮</td><td>⋮</td><td>⋮</td><td>⋮</td><td>⋮</td><td>⋮</td><td>⋮</td><td>⋮</td><td>⋮</td><td>⋮</td><td>⋮</td><td>⋮</td><td>⋮</td><td>⋮</td></tr>\n",
       "\t<tr><td>1322</td><td>107728</td><td>27.1</td><td>13.9</td><td>  98</td><td> 291</td><td>9665</td><td>73.7</td><td>11.2</td><td> 6.9</td><td> 6.7</td><td>16451</td><td>1772</td><td>0</td><td>0</td><td>1</td></tr>\n",
       "\t<tr><td>8124</td><td>107714</td><td>18.3</td><td>23.8</td><td> 114</td><td> 159</td><td>3952</td><td>78.9</td><td>17.7</td><td> 9.8</td><td> 5.4</td><td>13681</td><td>1474</td><td>0</td><td>0</td><td>0</td></tr>\n",
       "\t<tr><td> 598</td><td>107066</td><td>26.0</td><td>13.1</td><td> 149</td><td> 519</td><td>6021</td><td>73.9</td><td>11.7</td><td> 7.8</td><td> 5.8</td><td>16655</td><td>1783</td><td>0</td><td>1</td><td>0</td></tr>\n",
       "\t<tr><td>1135</td><td>106913</td><td>23.8</td><td>17.2</td><td> 104</td><td> 504</td><td>2982</td><td>73.1</td><td>10.5</td><td> 8.7</td><td> 9.6</td><td>16119</td><td>1723</td><td>0</td><td>1</td><td>0</td></tr>\n",
       "\t<tr><td>5514</td><td>106895</td><td>27.4</td><td>13.8</td><td> 118</td><td> 197</td><td>5414</td><td>64.9</td><td>12.7</td><td>15.4</td><td>17.8</td><td>11490</td><td>1228</td><td>0</td><td>0</td><td>0</td></tr>\n",
       "\t<tr><td> 900</td><td>106611</td><td>26.8</td><td> 9.0</td><td> 139</td><td> 333</td><td>7546</td><td>76.8</td><td>26.4</td><td>11.5</td><td> 5.4</td><td>19345</td><td>2062</td><td>0</td><td>0</td><td>1</td></tr>\n",
       "\t<tr><td> 788</td><td>106546</td><td>27.1</td><td>12.2</td><td>  69</td><td> 145</td><td>2940</td><td>62.0</td><td> 9.1</td><td> 6.5</td><td> 4.8</td><td>14721</td><td>1568</td><td>0</td><td>0</td><td>1</td></tr>\n",
       "\t<tr><td> 653</td><td>106470</td><td>29.3</td><td>10.0</td><td>1814</td><td>1437</td><td>4310</td><td>88.0</td><td>29.5</td><td> 4.5</td><td> 3.3</td><td>20515</td><td>2184</td><td>0</td><td>1</td><td>0</td></tr>\n",
       "\t<tr><td> 403</td><td>106107</td><td>30.2</td><td>15.1</td><td> 179</td><td> 576</td><td>3435</td><td>76.0</td><td>18.1</td><td>10.7</td><td> 5.0</td><td>15036</td><td>1595</td><td>0</td><td>1</td><td>0</td></tr>\n",
       "\t<tr><td> 601</td><td>105986</td><td>26.3</td><td> 8.5</td><td> 164</td><td> 277</td><td>4560</td><td>81.2</td><td>17.9</td><td> 5.4</td><td> 5.9</td><td>16029</td><td>1699</td><td>0</td><td>0</td><td>1</td></tr>\n",
       "\t<tr><td> 470</td><td>105259</td><td>27.9</td><td>13.4</td><td> 198</td><td> 527</td><td>4020</td><td>71.8</td><td>12.6</td><td> 8.7</td><td> 9.7</td><td>16154</td><td>1700</td><td>1</td><td>0</td><td>0</td></tr>\n",
       "\t<tr><td> 949</td><td>105179</td><td>26.7</td><td>10.7</td><td>  83</td><td> 281</td><td>4318</td><td>57.0</td><td>11.0</td><td>20.7</td><td> 8.9</td><td>10849</td><td>1141</td><td>0</td><td>0</td><td>1</td></tr>\n",
       "\t<tr><td> 274</td><td>104948</td><td>26.4</td><td>13.3</td><td> 166</td><td> 420</td><td>9181</td><td>75.8</td><td>17.7</td><td>13.4</td><td> 8.2</td><td>16775</td><td>1761</td><td>0</td><td>0</td><td>1</td></tr>\n",
       "\t<tr><td> 553</td><td>104666</td><td>29.7</td><td>10.2</td><td> 113</td><td> 263</td><td>4682</td><td>71.2</td><td>12.7</td><td>11.9</td><td> 7.3</td><td>13350</td><td>1397</td><td>0</td><td>0</td><td>1</td></tr>\n",
       "\t<tr><td> 369</td><td>104233</td><td>34.8</td><td>10.7</td><td> 139</td><td> 237</td><td>3651</td><td>79.8</td><td>21.7</td><td> 5.1</td><td> 6.5</td><td>17182</td><td>1791</td><td>1</td><td>0</td><td>0</td></tr>\n",
       "\t<tr><td> 514</td><td>103877</td><td>25.4</td><td>14.6</td><td> 114</td><td> 421</td><td>4433</td><td>77.4</td><td>13.8</td><td> 4.5</td><td> 5.6</td><td>18061</td><td>1876</td><td>0</td><td>1</td><td>0</td></tr>\n",
       "\t<tr><td> 506</td><td>103461</td><td>25.2</td><td>11.3</td><td>  86</td><td> 195</td><td> 625</td><td>78.8</td><td>15.5</td><td> 6.8</td><td> 6.3</td><td>16342</td><td>1691</td><td>0</td><td>1</td><td>0</td></tr>\n",
       "\t<tr><td> 529</td><td>103281</td><td>25.5</td><td>10.2</td><td>  96</td><td> 259</td><td>3285</td><td>70.6</td><td>14.4</td><td> 7.0</td><td> 6.8</td><td>16514</td><td>1706</td><td>0</td><td>0</td><td>1</td></tr>\n",
       "\t<tr><td>1766</td><td>102874</td><td>34.4</td><td> 9.8</td><td> 343</td><td> 643</td><td>3401</td><td>87.1</td><td>26.5</td><td> 7.3</td><td> 2.5</td><td>16275</td><td>1674</td><td>0</td><td>1</td><td>0</td></tr>\n",
       "\t<tr><td> 666</td><td>102637</td><td>31.6</td><td> 9.4</td><td>  88</td><td> 214</td><td>7138</td><td>69.8</td><td>15.0</td><td>16.9</td><td> 9.4</td><td>11803</td><td>1211</td><td>0</td><td>0</td><td>1</td></tr>\n",
       "\t<tr><td> 241</td><td>102583</td><td>30.4</td><td> 4.8</td><td>  39</td><td> 160</td><td>2689</td><td>91.0</td><td>25.4</td><td> 3.5</td><td> 2.6</td><td>16137</td><td>1655</td><td>0</td><td>1</td><td>0</td></tr>\n",
       "\t<tr><td> 513</td><td>102525</td><td>28.5</td><td>12.5</td><td> 123</td><td> 254</td><td>1397</td><td>71.1</td><td>16.8</td><td> 6.0</td><td> 9.2</td><td>18070</td><td>1853</td><td>1</td><td>0</td><td>0</td></tr>\n",
       "\t<tr><td>1390</td><td>101469</td><td>33.7</td><td> 7.7</td><td>  82</td><td> 180</td><td>4449</td><td>65.6</td><td> 9.0</td><td>15.0</td><td>12.8</td><td>13907</td><td>1411</td><td>0</td><td>0</td><td>0</td></tr>\n",
       "\t<tr><td> 555</td><td>101461</td><td>26.3</td><td>11.6</td><td>  84</td><td> 155</td><td>2377</td><td>73.6</td><td>13.9</td><td> 8.4</td><td> 5.9</td><td>16464</td><td>1670</td><td>0</td><td>1</td><td>0</td></tr>\n",
       "\t<tr><td> 461</td><td>101154</td><td>29.9</td><td> 6.5</td><td>  67</td><td> 104</td><td>5279</td><td>81.0</td><td>16.2</td><td> 3.7</td><td> 4.9</td><td>19317</td><td>1954</td><td>0</td><td>0</td><td>1</td></tr>\n",
       "\t<tr><td> 478</td><td>101115</td><td>16.4</td><td>30.7</td><td>  98</td><td> 290</td><td>4414</td><td>70.5</td><td> 9.7</td><td> 7.9</td><td> 8.2</td><td>13919</td><td>1407</td><td>0</td><td>0</td><td>1</td></tr>\n",
       "\t<tr><td> 556</td><td>100900</td><td>20.4</td><td>27.5</td><td> 193</td><td> 277</td><td>5081</td><td>79.7</td><td>20.3</td><td> 5.0</td><td> 9.8</td><td>27125</td><td>2737</td><td>0</td><td>0</td><td>1</td></tr>\n",
       "\t<tr><td> 539</td><td>100498</td><td>35.7</td><td> 7.9</td><td>  87</td><td> 188</td><td>6537</td><td>77.9</td><td>16.5</td><td>10.8</td><td> 8.0</td><td>13169</td><td>1323</td><td>0</td><td>0</td><td>1</td></tr>\n",
       "\t<tr><td>1159</td><td>100374</td><td>26.2</td><td>11.3</td><td> 192</td><td> 182</td><td>7130</td><td>77.0</td><td>17.8</td><td> 5.7</td><td> 3.2</td><td>18504</td><td>1857</td><td>0</td><td>0</td><td>0</td></tr>\n",
       "\t<tr><td> 582</td><td>100043</td><td>26.3</td><td>11.7</td><td> 122</td><td> 464</td><td>4693</td><td>69.4</td><td>15.5</td><td> 9.4</td><td> 7.1</td><td>16458</td><td>1647</td><td>0</td><td>0</td><td>1</td></tr>\n",
       "</tbody>\n",
       "</table>\n"
      ],
      "text/latex": [
       "A data.frame: 440 × 16\n",
       "\\begin{tabular}{llllllllllllllll}\n",
       " Area & Poblacion & Per18a34 & PerMayor65 & MedicosActivos & Camas & CrimenesTotales & PerBachilleres & PerProfesionales & PerPoblDebajoNivelPobreza & PerDesempleados & IndicePerCapita & Ingresos & x\\_NE & x\\_NC & x\\_S\\\\\n",
       " <int> & <int> & <dbl> & <dbl> & <int> & <int> & <int> & <dbl> & <dbl> & <dbl> & <dbl> & <int> & <int> & <dbl> & <dbl> & <dbl>\\\\\n",
       "\\hline\n",
       "\t  4060 & 8863164 & 32.1 &  9.7 & 23677 & 27700 & 688936 & 70.0 & 22.3 & 11.6 &  8.0 & 20786 & 184230 & 0 & 0 & 0\\\\\n",
       "\t   946 & 5105067 & 29.2 & 12.4 & 15153 & 21550 & 436936 & 73.4 & 22.8 & 11.1 &  7.2 & 21729 & 110928 & 0 & 1 & 0\\\\\n",
       "\t  1729 & 2818199 & 31.3 &  7.1 &  7553 & 12449 & 253526 & 74.9 & 25.4 & 12.5 &  5.7 & 19517 &  55003 & 0 & 0 & 1\\\\\n",
       "\t  4205 & 2498016 & 33.5 & 10.9 &  5905 &  6179 & 173821 & 81.9 & 25.3 &  8.1 &  6.1 & 19588 &  48931 & 0 & 0 & 0\\\\\n",
       "\t   790 & 2410556 & 32.6 &  9.2 &  6062 &  6369 & 144524 & 81.2 & 27.8 &  5.2 &  4.8 & 24400 &  58818 & 0 & 0 & 0\\\\\n",
       "\t    71 & 2300664 & 28.3 & 12.4 &  4861 &  8942 & 680966 & 63.7 & 16.6 & 19.5 &  9.5 & 16803 &  38658 & 1 & 0 & 0\\\\\n",
       "\t  9204 & 2122101 & 29.2 & 12.5 &  4320 &  6104 & 177593 & 81.5 & 22.1 &  8.8 &  4.9 & 18042 &  38287 & 0 & 0 & 0\\\\\n",
       "\t   614 & 2111687 & 27.4 & 12.5 &  3823 &  9490 & 193978 & 70.0 & 13.7 & 16.9 & 10.0 & 17461 &  36872 & 0 & 1 & 0\\\\\n",
       "\t  1945 & 1937094 & 27.1 & 13.9 &  6274 &  8840 & 244725 & 65.0 & 18.8 & 14.2 &  8.7 & 17823 &  34525 & 0 & 0 & 1\\\\\n",
       "\t   880 & 1852810 & 32.6 &  8.2 &  4718 &  6934 & 214258 & 77.1 & 26.3 & 10.4 &  6.1 & 21001 &  38911 & 0 & 0 & 1\\\\\n",
       "\t   135 & 1585577 & 29.1 & 15.2 &  6641 & 10494 & 109148 & 64.3 & 15.2 & 16.1 &  8.0 & 16721 &  26512 & 1 & 0 & 0\\\\\n",
       "\t  2126 & 1507319 & 30.1 & 11.1 &  5280 &  4009 & 124959 & 88.2 & 32.8 &  5.0 &  4.6 & 23779 &  35843 & 0 & 0 & 0\\\\\n",
       "\t  1291 & 1497577 & 32.6 &  8.7 &  4101 &  3342 &  77009 & 82.0 & 32.6 &  5.0 &  5.5 & 25193 &  37728 & 0 & 0 & 0\\\\\n",
       "\t 20062 & 1418380 & 30.1 &  8.8 &  2463 &  3349 &  83110 & 75.4 & 14.9 & 10.3 &  8.0 & 16399 &  23260 & 0 & 0 & 0\\\\\n",
       "\t   458 & 1412140 & 26.3 & 15.6 &  5620 &  8132 &  73150 & 74.0 & 20.1 & 11.0 &  5.5 & 21086 &  29776 & 0 & 1 & 0\\\\\n",
       "\t   824 & 1398468 & 31.7 & 12.5 &  5158 &  4152 &  35825 & 84.3 & 35.4 &  4.2 &  7.3 & 25312 &  35398 & 1 & 0 & 0\\\\\n",
       "\t   730 & 1336449 & 26.2 & 17.4 &  5281 &  8436 &  50186 & 79.0 & 22.6 &  8.7 &  5.3 & 20681 &  27639 & 1 & 0 & 0\\\\\n",
       "\t   911 & 1321864 & 27.9 & 10.8 &  3021 &  3904 &  66723 & 82.2 & 23.0 &  3.3 &  7.0 & 24262 &  32071 & 1 & 0 & 0\\\\\n",
       "\t   287 & 1287348 & 25.7 & 14.2 &  6147 &  5200 &  43203 & 84.2 & 30.0 &  2.5 &  5.1 & 31679 &  40782 & 1 & 0 & 0\\\\\n",
       "\t   738 & 1279182 & 30.8 & 10.6 &  3169 &  3284 & 107338 & 81.4 & 28.8 &  8.1 &  5.3 & 22148 &  28331 & 0 & 0 & 0\\\\\n",
       "\t  1209 & 1255488 & 25.3 & 20.7 &  2456 &  5543 & 107386 & 76.8 & 18.8 &  7.1 &  7.4 & 22355 &  28066 & 0 & 0 & 1\\\\\n",
       "\t  1247 & 1185394 & 29.5 &  9.9 &  3062 &  4086 & 133098 & 72.7 & 19.7 & 16.2 &  6.7 & 15508 &  18383 & 0 & 0 & 1\\\\\n",
       "\t  7208 & 1170413 & 27.9 & 13.2 &  1385 &  2435 &  95494 & 74.1 & 14.6 &  8.4 & 10.7 & 17185 &  20114 & 0 & 0 & 0\\\\\n",
       "\t   864 & 1170103 & 32.2 &  8.3 &  1677 &  3672 & 132495 & 79.9 & 24.0 &  8.2 &  6.6 & 18825 &  22027 & 0 & 0 & 1\\\\\n",
       "\t   873 & 1083592 & 27.6 & 10.9 &  4020 &  3254 &  50964 & 84.6 & 30.2 &  4.4 &  7.3 & 26884 &  29131 & 0 & 1 & 0\\\\\n",
       "\t   966 & 1041219 & 29.7 & 10.6 &  2464 &  2855 &  84305 & 82.2 & 23.0 &  9.8 &  6.3 & 18934 &  19714 & 0 & 0 & 0\\\\\n",
       "\t   557 & 1032431 & 31.6 & 11.3 &  3706 &  5395 &  71753 & 88.2 & 31.6 &  6.4 &  4.3 & 23705 &  24474 & 0 & 1 & 0\\\\\n",
       "\t   508 &  993529 & 26.1 & 13.1 &  1194 &  1056 &  42595 & 82.3 & 29.2 &  4.0 &  5.1 & 24219 &  24062 & 0 & 1 & 0\\\\\n",
       "\t  1045 &  968532 & 27.3 & 15.2 &  2748 &  4632 &  55306 & 76.4 & 20.0 &  9.4 &  6.8 & 18305 &  17729 & 1 & 0 & 0\\\\\n",
       "\t   540 &  961437 & 33.5 &  9.6 &  2675 &  4011 &  82680 & 81.0 & 26.6 &  9.1 &  4.2 & 19040 &  18306 & 0 & 1 & 0\\\\\n",
       "\t ⋮ & ⋮ & ⋮ & ⋮ & ⋮ & ⋮ & ⋮ & ⋮ & ⋮ & ⋮ & ⋮ & ⋮ & ⋮ & ⋮ & ⋮ & ⋮\\\\\n",
       "\t 1322 & 107728 & 27.1 & 13.9 &   98 &  291 & 9665 & 73.7 & 11.2 &  6.9 &  6.7 & 16451 & 1772 & 0 & 0 & 1\\\\\n",
       "\t 8124 & 107714 & 18.3 & 23.8 &  114 &  159 & 3952 & 78.9 & 17.7 &  9.8 &  5.4 & 13681 & 1474 & 0 & 0 & 0\\\\\n",
       "\t  598 & 107066 & 26.0 & 13.1 &  149 &  519 & 6021 & 73.9 & 11.7 &  7.8 &  5.8 & 16655 & 1783 & 0 & 1 & 0\\\\\n",
       "\t 1135 & 106913 & 23.8 & 17.2 &  104 &  504 & 2982 & 73.1 & 10.5 &  8.7 &  9.6 & 16119 & 1723 & 0 & 1 & 0\\\\\n",
       "\t 5514 & 106895 & 27.4 & 13.8 &  118 &  197 & 5414 & 64.9 & 12.7 & 15.4 & 17.8 & 11490 & 1228 & 0 & 0 & 0\\\\\n",
       "\t  900 & 106611 & 26.8 &  9.0 &  139 &  333 & 7546 & 76.8 & 26.4 & 11.5 &  5.4 & 19345 & 2062 & 0 & 0 & 1\\\\\n",
       "\t  788 & 106546 & 27.1 & 12.2 &   69 &  145 & 2940 & 62.0 &  9.1 &  6.5 &  4.8 & 14721 & 1568 & 0 & 0 & 1\\\\\n",
       "\t  653 & 106470 & 29.3 & 10.0 & 1814 & 1437 & 4310 & 88.0 & 29.5 &  4.5 &  3.3 & 20515 & 2184 & 0 & 1 & 0\\\\\n",
       "\t  403 & 106107 & 30.2 & 15.1 &  179 &  576 & 3435 & 76.0 & 18.1 & 10.7 &  5.0 & 15036 & 1595 & 0 & 1 & 0\\\\\n",
       "\t  601 & 105986 & 26.3 &  8.5 &  164 &  277 & 4560 & 81.2 & 17.9 &  5.4 &  5.9 & 16029 & 1699 & 0 & 0 & 1\\\\\n",
       "\t  470 & 105259 & 27.9 & 13.4 &  198 &  527 & 4020 & 71.8 & 12.6 &  8.7 &  9.7 & 16154 & 1700 & 1 & 0 & 0\\\\\n",
       "\t  949 & 105179 & 26.7 & 10.7 &   83 &  281 & 4318 & 57.0 & 11.0 & 20.7 &  8.9 & 10849 & 1141 & 0 & 0 & 1\\\\\n",
       "\t  274 & 104948 & 26.4 & 13.3 &  166 &  420 & 9181 & 75.8 & 17.7 & 13.4 &  8.2 & 16775 & 1761 & 0 & 0 & 1\\\\\n",
       "\t  553 & 104666 & 29.7 & 10.2 &  113 &  263 & 4682 & 71.2 & 12.7 & 11.9 &  7.3 & 13350 & 1397 & 0 & 0 & 1\\\\\n",
       "\t  369 & 104233 & 34.8 & 10.7 &  139 &  237 & 3651 & 79.8 & 21.7 &  5.1 &  6.5 & 17182 & 1791 & 1 & 0 & 0\\\\\n",
       "\t  514 & 103877 & 25.4 & 14.6 &  114 &  421 & 4433 & 77.4 & 13.8 &  4.5 &  5.6 & 18061 & 1876 & 0 & 1 & 0\\\\\n",
       "\t  506 & 103461 & 25.2 & 11.3 &   86 &  195 &  625 & 78.8 & 15.5 &  6.8 &  6.3 & 16342 & 1691 & 0 & 1 & 0\\\\\n",
       "\t  529 & 103281 & 25.5 & 10.2 &   96 &  259 & 3285 & 70.6 & 14.4 &  7.0 &  6.8 & 16514 & 1706 & 0 & 0 & 1\\\\\n",
       "\t 1766 & 102874 & 34.4 &  9.8 &  343 &  643 & 3401 & 87.1 & 26.5 &  7.3 &  2.5 & 16275 & 1674 & 0 & 1 & 0\\\\\n",
       "\t  666 & 102637 & 31.6 &  9.4 &   88 &  214 & 7138 & 69.8 & 15.0 & 16.9 &  9.4 & 11803 & 1211 & 0 & 0 & 1\\\\\n",
       "\t  241 & 102583 & 30.4 &  4.8 &   39 &  160 & 2689 & 91.0 & 25.4 &  3.5 &  2.6 & 16137 & 1655 & 0 & 1 & 0\\\\\n",
       "\t  513 & 102525 & 28.5 & 12.5 &  123 &  254 & 1397 & 71.1 & 16.8 &  6.0 &  9.2 & 18070 & 1853 & 1 & 0 & 0\\\\\n",
       "\t 1390 & 101469 & 33.7 &  7.7 &   82 &  180 & 4449 & 65.6 &  9.0 & 15.0 & 12.8 & 13907 & 1411 & 0 & 0 & 0\\\\\n",
       "\t  555 & 101461 & 26.3 & 11.6 &   84 &  155 & 2377 & 73.6 & 13.9 &  8.4 &  5.9 & 16464 & 1670 & 0 & 1 & 0\\\\\n",
       "\t  461 & 101154 & 29.9 &  6.5 &   67 &  104 & 5279 & 81.0 & 16.2 &  3.7 &  4.9 & 19317 & 1954 & 0 & 0 & 1\\\\\n",
       "\t  478 & 101115 & 16.4 & 30.7 &   98 &  290 & 4414 & 70.5 &  9.7 &  7.9 &  8.2 & 13919 & 1407 & 0 & 0 & 1\\\\\n",
       "\t  556 & 100900 & 20.4 & 27.5 &  193 &  277 & 5081 & 79.7 & 20.3 &  5.0 &  9.8 & 27125 & 2737 & 0 & 0 & 1\\\\\n",
       "\t  539 & 100498 & 35.7 &  7.9 &   87 &  188 & 6537 & 77.9 & 16.5 & 10.8 &  8.0 & 13169 & 1323 & 0 & 0 & 1\\\\\n",
       "\t 1159 & 100374 & 26.2 & 11.3 &  192 &  182 & 7130 & 77.0 & 17.8 &  5.7 &  3.2 & 18504 & 1857 & 0 & 0 & 0\\\\\n",
       "\t  582 & 100043 & 26.3 & 11.7 &  122 &  464 & 4693 & 69.4 & 15.5 &  9.4 &  7.1 & 16458 & 1647 & 0 & 0 & 1\\\\\n",
       "\\end{tabular}\n"
      ],
      "text/markdown": [
       "\n",
       "A data.frame: 440 × 16\n",
       "\n",
       "| Area &lt;int&gt; | Poblacion &lt;int&gt; | Per18a34 &lt;dbl&gt; | PerMayor65 &lt;dbl&gt; | MedicosActivos &lt;int&gt; | Camas &lt;int&gt; | CrimenesTotales &lt;int&gt; | PerBachilleres &lt;dbl&gt; | PerProfesionales &lt;dbl&gt; | PerPoblDebajoNivelPobreza &lt;dbl&gt; | PerDesempleados &lt;dbl&gt; | IndicePerCapita &lt;int&gt; | Ingresos &lt;int&gt; | x_NE &lt;dbl&gt; | x_NC &lt;dbl&gt; | x_S &lt;dbl&gt; |\n",
       "|---|---|---|---|---|---|---|---|---|---|---|---|---|---|---|---|\n",
       "|  4060 | 8863164 | 32.1 |  9.7 | 23677 | 27700 | 688936 | 70.0 | 22.3 | 11.6 |  8.0 | 20786 | 184230 | 0 | 0 | 0 |\n",
       "|   946 | 5105067 | 29.2 | 12.4 | 15153 | 21550 | 436936 | 73.4 | 22.8 | 11.1 |  7.2 | 21729 | 110928 | 0 | 1 | 0 |\n",
       "|  1729 | 2818199 | 31.3 |  7.1 |  7553 | 12449 | 253526 | 74.9 | 25.4 | 12.5 |  5.7 | 19517 |  55003 | 0 | 0 | 1 |\n",
       "|  4205 | 2498016 | 33.5 | 10.9 |  5905 |  6179 | 173821 | 81.9 | 25.3 |  8.1 |  6.1 | 19588 |  48931 | 0 | 0 | 0 |\n",
       "|   790 | 2410556 | 32.6 |  9.2 |  6062 |  6369 | 144524 | 81.2 | 27.8 |  5.2 |  4.8 | 24400 |  58818 | 0 | 0 | 0 |\n",
       "|    71 | 2300664 | 28.3 | 12.4 |  4861 |  8942 | 680966 | 63.7 | 16.6 | 19.5 |  9.5 | 16803 |  38658 | 1 | 0 | 0 |\n",
       "|  9204 | 2122101 | 29.2 | 12.5 |  4320 |  6104 | 177593 | 81.5 | 22.1 |  8.8 |  4.9 | 18042 |  38287 | 0 | 0 | 0 |\n",
       "|   614 | 2111687 | 27.4 | 12.5 |  3823 |  9490 | 193978 | 70.0 | 13.7 | 16.9 | 10.0 | 17461 |  36872 | 0 | 1 | 0 |\n",
       "|  1945 | 1937094 | 27.1 | 13.9 |  6274 |  8840 | 244725 | 65.0 | 18.8 | 14.2 |  8.7 | 17823 |  34525 | 0 | 0 | 1 |\n",
       "|   880 | 1852810 | 32.6 |  8.2 |  4718 |  6934 | 214258 | 77.1 | 26.3 | 10.4 |  6.1 | 21001 |  38911 | 0 | 0 | 1 |\n",
       "|   135 | 1585577 | 29.1 | 15.2 |  6641 | 10494 | 109148 | 64.3 | 15.2 | 16.1 |  8.0 | 16721 |  26512 | 1 | 0 | 0 |\n",
       "|  2126 | 1507319 | 30.1 | 11.1 |  5280 |  4009 | 124959 | 88.2 | 32.8 |  5.0 |  4.6 | 23779 |  35843 | 0 | 0 | 0 |\n",
       "|  1291 | 1497577 | 32.6 |  8.7 |  4101 |  3342 |  77009 | 82.0 | 32.6 |  5.0 |  5.5 | 25193 |  37728 | 0 | 0 | 0 |\n",
       "| 20062 | 1418380 | 30.1 |  8.8 |  2463 |  3349 |  83110 | 75.4 | 14.9 | 10.3 |  8.0 | 16399 |  23260 | 0 | 0 | 0 |\n",
       "|   458 | 1412140 | 26.3 | 15.6 |  5620 |  8132 |  73150 | 74.0 | 20.1 | 11.0 |  5.5 | 21086 |  29776 | 0 | 1 | 0 |\n",
       "|   824 | 1398468 | 31.7 | 12.5 |  5158 |  4152 |  35825 | 84.3 | 35.4 |  4.2 |  7.3 | 25312 |  35398 | 1 | 0 | 0 |\n",
       "|   730 | 1336449 | 26.2 | 17.4 |  5281 |  8436 |  50186 | 79.0 | 22.6 |  8.7 |  5.3 | 20681 |  27639 | 1 | 0 | 0 |\n",
       "|   911 | 1321864 | 27.9 | 10.8 |  3021 |  3904 |  66723 | 82.2 | 23.0 |  3.3 |  7.0 | 24262 |  32071 | 1 | 0 | 0 |\n",
       "|   287 | 1287348 | 25.7 | 14.2 |  6147 |  5200 |  43203 | 84.2 | 30.0 |  2.5 |  5.1 | 31679 |  40782 | 1 | 0 | 0 |\n",
       "|   738 | 1279182 | 30.8 | 10.6 |  3169 |  3284 | 107338 | 81.4 | 28.8 |  8.1 |  5.3 | 22148 |  28331 | 0 | 0 | 0 |\n",
       "|  1209 | 1255488 | 25.3 | 20.7 |  2456 |  5543 | 107386 | 76.8 | 18.8 |  7.1 |  7.4 | 22355 |  28066 | 0 | 0 | 1 |\n",
       "|  1247 | 1185394 | 29.5 |  9.9 |  3062 |  4086 | 133098 | 72.7 | 19.7 | 16.2 |  6.7 | 15508 |  18383 | 0 | 0 | 1 |\n",
       "|  7208 | 1170413 | 27.9 | 13.2 |  1385 |  2435 |  95494 | 74.1 | 14.6 |  8.4 | 10.7 | 17185 |  20114 | 0 | 0 | 0 |\n",
       "|   864 | 1170103 | 32.2 |  8.3 |  1677 |  3672 | 132495 | 79.9 | 24.0 |  8.2 |  6.6 | 18825 |  22027 | 0 | 0 | 1 |\n",
       "|   873 | 1083592 | 27.6 | 10.9 |  4020 |  3254 |  50964 | 84.6 | 30.2 |  4.4 |  7.3 | 26884 |  29131 | 0 | 1 | 0 |\n",
       "|   966 | 1041219 | 29.7 | 10.6 |  2464 |  2855 |  84305 | 82.2 | 23.0 |  9.8 |  6.3 | 18934 |  19714 | 0 | 0 | 0 |\n",
       "|   557 | 1032431 | 31.6 | 11.3 |  3706 |  5395 |  71753 | 88.2 | 31.6 |  6.4 |  4.3 | 23705 |  24474 | 0 | 1 | 0 |\n",
       "|   508 |  993529 | 26.1 | 13.1 |  1194 |  1056 |  42595 | 82.3 | 29.2 |  4.0 |  5.1 | 24219 |  24062 | 0 | 1 | 0 |\n",
       "|  1045 |  968532 | 27.3 | 15.2 |  2748 |  4632 |  55306 | 76.4 | 20.0 |  9.4 |  6.8 | 18305 |  17729 | 1 | 0 | 0 |\n",
       "|   540 |  961437 | 33.5 |  9.6 |  2675 |  4011 |  82680 | 81.0 | 26.6 |  9.1 |  4.2 | 19040 |  18306 | 0 | 1 | 0 |\n",
       "| ⋮ | ⋮ | ⋮ | ⋮ | ⋮ | ⋮ | ⋮ | ⋮ | ⋮ | ⋮ | ⋮ | ⋮ | ⋮ | ⋮ | ⋮ | ⋮ |\n",
       "| 1322 | 107728 | 27.1 | 13.9 |   98 |  291 | 9665 | 73.7 | 11.2 |  6.9 |  6.7 | 16451 | 1772 | 0 | 0 | 1 |\n",
       "| 8124 | 107714 | 18.3 | 23.8 |  114 |  159 | 3952 | 78.9 | 17.7 |  9.8 |  5.4 | 13681 | 1474 | 0 | 0 | 0 |\n",
       "|  598 | 107066 | 26.0 | 13.1 |  149 |  519 | 6021 | 73.9 | 11.7 |  7.8 |  5.8 | 16655 | 1783 | 0 | 1 | 0 |\n",
       "| 1135 | 106913 | 23.8 | 17.2 |  104 |  504 | 2982 | 73.1 | 10.5 |  8.7 |  9.6 | 16119 | 1723 | 0 | 1 | 0 |\n",
       "| 5514 | 106895 | 27.4 | 13.8 |  118 |  197 | 5414 | 64.9 | 12.7 | 15.4 | 17.8 | 11490 | 1228 | 0 | 0 | 0 |\n",
       "|  900 | 106611 | 26.8 |  9.0 |  139 |  333 | 7546 | 76.8 | 26.4 | 11.5 |  5.4 | 19345 | 2062 | 0 | 0 | 1 |\n",
       "|  788 | 106546 | 27.1 | 12.2 |   69 |  145 | 2940 | 62.0 |  9.1 |  6.5 |  4.8 | 14721 | 1568 | 0 | 0 | 1 |\n",
       "|  653 | 106470 | 29.3 | 10.0 | 1814 | 1437 | 4310 | 88.0 | 29.5 |  4.5 |  3.3 | 20515 | 2184 | 0 | 1 | 0 |\n",
       "|  403 | 106107 | 30.2 | 15.1 |  179 |  576 | 3435 | 76.0 | 18.1 | 10.7 |  5.0 | 15036 | 1595 | 0 | 1 | 0 |\n",
       "|  601 | 105986 | 26.3 |  8.5 |  164 |  277 | 4560 | 81.2 | 17.9 |  5.4 |  5.9 | 16029 | 1699 | 0 | 0 | 1 |\n",
       "|  470 | 105259 | 27.9 | 13.4 |  198 |  527 | 4020 | 71.8 | 12.6 |  8.7 |  9.7 | 16154 | 1700 | 1 | 0 | 0 |\n",
       "|  949 | 105179 | 26.7 | 10.7 |   83 |  281 | 4318 | 57.0 | 11.0 | 20.7 |  8.9 | 10849 | 1141 | 0 | 0 | 1 |\n",
       "|  274 | 104948 | 26.4 | 13.3 |  166 |  420 | 9181 | 75.8 | 17.7 | 13.4 |  8.2 | 16775 | 1761 | 0 | 0 | 1 |\n",
       "|  553 | 104666 | 29.7 | 10.2 |  113 |  263 | 4682 | 71.2 | 12.7 | 11.9 |  7.3 | 13350 | 1397 | 0 | 0 | 1 |\n",
       "|  369 | 104233 | 34.8 | 10.7 |  139 |  237 | 3651 | 79.8 | 21.7 |  5.1 |  6.5 | 17182 | 1791 | 1 | 0 | 0 |\n",
       "|  514 | 103877 | 25.4 | 14.6 |  114 |  421 | 4433 | 77.4 | 13.8 |  4.5 |  5.6 | 18061 | 1876 | 0 | 1 | 0 |\n",
       "|  506 | 103461 | 25.2 | 11.3 |   86 |  195 |  625 | 78.8 | 15.5 |  6.8 |  6.3 | 16342 | 1691 | 0 | 1 | 0 |\n",
       "|  529 | 103281 | 25.5 | 10.2 |   96 |  259 | 3285 | 70.6 | 14.4 |  7.0 |  6.8 | 16514 | 1706 | 0 | 0 | 1 |\n",
       "| 1766 | 102874 | 34.4 |  9.8 |  343 |  643 | 3401 | 87.1 | 26.5 |  7.3 |  2.5 | 16275 | 1674 | 0 | 1 | 0 |\n",
       "|  666 | 102637 | 31.6 |  9.4 |   88 |  214 | 7138 | 69.8 | 15.0 | 16.9 |  9.4 | 11803 | 1211 | 0 | 0 | 1 |\n",
       "|  241 | 102583 | 30.4 |  4.8 |   39 |  160 | 2689 | 91.0 | 25.4 |  3.5 |  2.6 | 16137 | 1655 | 0 | 1 | 0 |\n",
       "|  513 | 102525 | 28.5 | 12.5 |  123 |  254 | 1397 | 71.1 | 16.8 |  6.0 |  9.2 | 18070 | 1853 | 1 | 0 | 0 |\n",
       "| 1390 | 101469 | 33.7 |  7.7 |   82 |  180 | 4449 | 65.6 |  9.0 | 15.0 | 12.8 | 13907 | 1411 | 0 | 0 | 0 |\n",
       "|  555 | 101461 | 26.3 | 11.6 |   84 |  155 | 2377 | 73.6 | 13.9 |  8.4 |  5.9 | 16464 | 1670 | 0 | 1 | 0 |\n",
       "|  461 | 101154 | 29.9 |  6.5 |   67 |  104 | 5279 | 81.0 | 16.2 |  3.7 |  4.9 | 19317 | 1954 | 0 | 0 | 1 |\n",
       "|  478 | 101115 | 16.4 | 30.7 |   98 |  290 | 4414 | 70.5 |  9.7 |  7.9 |  8.2 | 13919 | 1407 | 0 | 0 | 1 |\n",
       "|  556 | 100900 | 20.4 | 27.5 |  193 |  277 | 5081 | 79.7 | 20.3 |  5.0 |  9.8 | 27125 | 2737 | 0 | 0 | 1 |\n",
       "|  539 | 100498 | 35.7 |  7.9 |   87 |  188 | 6537 | 77.9 | 16.5 | 10.8 |  8.0 | 13169 | 1323 | 0 | 0 | 1 |\n",
       "| 1159 | 100374 | 26.2 | 11.3 |  192 |  182 | 7130 | 77.0 | 17.8 |  5.7 |  3.2 | 18504 | 1857 | 0 | 0 | 0 |\n",
       "|  582 | 100043 | 26.3 | 11.7 |  122 |  464 | 4693 | 69.4 | 15.5 |  9.4 |  7.1 | 16458 | 1647 | 0 | 0 | 1 |\n",
       "\n"
      ],
      "text/plain": [
       "    Area  Poblacion Per18a34 PerMayor65 MedicosActivos Camas CrimenesTotales\n",
       "1    4060 8863164   32.1      9.7       23677          27700 688936         \n",
       "2     946 5105067   29.2     12.4       15153          21550 436936         \n",
       "3    1729 2818199   31.3      7.1        7553          12449 253526         \n",
       "4    4205 2498016   33.5     10.9        5905           6179 173821         \n",
       "5     790 2410556   32.6      9.2        6062           6369 144524         \n",
       "6      71 2300664   28.3     12.4        4861           8942 680966         \n",
       "7    9204 2122101   29.2     12.5        4320           6104 177593         \n",
       "8     614 2111687   27.4     12.5        3823           9490 193978         \n",
       "9    1945 1937094   27.1     13.9        6274           8840 244725         \n",
       "10    880 1852810   32.6      8.2        4718           6934 214258         \n",
       "11    135 1585577   29.1     15.2        6641          10494 109148         \n",
       "12   2126 1507319   30.1     11.1        5280           4009 124959         \n",
       "13   1291 1497577   32.6      8.7        4101           3342  77009         \n",
       "14  20062 1418380   30.1      8.8        2463           3349  83110         \n",
       "15    458 1412140   26.3     15.6        5620           8132  73150         \n",
       "16    824 1398468   31.7     12.5        5158           4152  35825         \n",
       "17    730 1336449   26.2     17.4        5281           8436  50186         \n",
       "18    911 1321864   27.9     10.8        3021           3904  66723         \n",
       "19    287 1287348   25.7     14.2        6147           5200  43203         \n",
       "20    738 1279182   30.8     10.6        3169           3284 107338         \n",
       "21   1209 1255488   25.3     20.7        2456           5543 107386         \n",
       "22   1247 1185394   29.5      9.9        3062           4086 133098         \n",
       "23   7208 1170413   27.9     13.2        1385           2435  95494         \n",
       "24    864 1170103   32.2      8.3        1677           3672 132495         \n",
       "25    873 1083592   27.6     10.9        4020           3254  50964         \n",
       "26    966 1041219   29.7     10.6        2464           2855  84305         \n",
       "27    557 1032431   31.6     11.3        3706           5395  71753         \n",
       "28    508  993529   26.1     13.1        1194           1056  42595         \n",
       "29   1045  968532   27.3     15.2        2748           4632  55306         \n",
       "30    540  961437   33.5      9.6        2675           4011  82680         \n",
       "<U+22EE>   <U+22EE> <U+22EE>  <U+22EE> <U+22EE>   <U+22EE>       <U+22EE> <U+22EE>       \n",
       "411 1322  107728    27.1     13.9         98            291  9665           \n",
       "412 8124  107714    18.3     23.8        114            159  3952           \n",
       "413  598  107066    26.0     13.1        149            519  6021           \n",
       "414 1135  106913    23.8     17.2        104            504  2982           \n",
       "415 5514  106895    27.4     13.8        118            197  5414           \n",
       "416  900  106611    26.8      9.0        139            333  7546           \n",
       "417  788  106546    27.1     12.2         69            145  2940           \n",
       "418  653  106470    29.3     10.0       1814           1437  4310           \n",
       "419  403  106107    30.2     15.1        179            576  3435           \n",
       "420  601  105986    26.3      8.5        164            277  4560           \n",
       "421  470  105259    27.9     13.4        198            527  4020           \n",
       "422  949  105179    26.7     10.7         83            281  4318           \n",
       "423  274  104948    26.4     13.3        166            420  9181           \n",
       "424  553  104666    29.7     10.2        113            263  4682           \n",
       "425  369  104233    34.8     10.7        139            237  3651           \n",
       "426  514  103877    25.4     14.6        114            421  4433           \n",
       "427  506  103461    25.2     11.3         86            195   625           \n",
       "428  529  103281    25.5     10.2         96            259  3285           \n",
       "429 1766  102874    34.4      9.8        343            643  3401           \n",
       "430  666  102637    31.6      9.4         88            214  7138           \n",
       "431  241  102583    30.4      4.8         39            160  2689           \n",
       "432  513  102525    28.5     12.5        123            254  1397           \n",
       "433 1390  101469    33.7      7.7         82            180  4449           \n",
       "434  555  101461    26.3     11.6         84            155  2377           \n",
       "435  461  101154    29.9      6.5         67            104  5279           \n",
       "436  478  101115    16.4     30.7         98            290  4414           \n",
       "437  556  100900    20.4     27.5        193            277  5081           \n",
       "438  539  100498    35.7      7.9         87            188  6537           \n",
       "439 1159  100374    26.2     11.3        192            182  7130           \n",
       "440  582  100043    26.3     11.7        122            464  4693           \n",
       "    PerBachilleres PerProfesionales PerPoblDebajoNivelPobreza PerDesempleados\n",
       "1   70.0           22.3             11.6                       8.0           \n",
       "2   73.4           22.8             11.1                       7.2           \n",
       "3   74.9           25.4             12.5                       5.7           \n",
       "4   81.9           25.3              8.1                       6.1           \n",
       "5   81.2           27.8              5.2                       4.8           \n",
       "6   63.7           16.6             19.5                       9.5           \n",
       "7   81.5           22.1              8.8                       4.9           \n",
       "8   70.0           13.7             16.9                      10.0           \n",
       "9   65.0           18.8             14.2                       8.7           \n",
       "10  77.1           26.3             10.4                       6.1           \n",
       "11  64.3           15.2             16.1                       8.0           \n",
       "12  88.2           32.8              5.0                       4.6           \n",
       "13  82.0           32.6              5.0                       5.5           \n",
       "14  75.4           14.9             10.3                       8.0           \n",
       "15  74.0           20.1             11.0                       5.5           \n",
       "16  84.3           35.4              4.2                       7.3           \n",
       "17  79.0           22.6              8.7                       5.3           \n",
       "18  82.2           23.0              3.3                       7.0           \n",
       "19  84.2           30.0              2.5                       5.1           \n",
       "20  81.4           28.8              8.1                       5.3           \n",
       "21  76.8           18.8              7.1                       7.4           \n",
       "22  72.7           19.7             16.2                       6.7           \n",
       "23  74.1           14.6              8.4                      10.7           \n",
       "24  79.9           24.0              8.2                       6.6           \n",
       "25  84.6           30.2              4.4                       7.3           \n",
       "26  82.2           23.0              9.8                       6.3           \n",
       "27  88.2           31.6              6.4                       4.3           \n",
       "28  82.3           29.2              4.0                       5.1           \n",
       "29  76.4           20.0              9.4                       6.8           \n",
       "30  81.0           26.6              9.1                       4.2           \n",
       "<U+22EE>   <U+22EE>       <U+22EE>         <U+22EE>                  <U+22EE>       \n",
       "411 73.7           11.2              6.9                       6.7           \n",
       "412 78.9           17.7              9.8                       5.4           \n",
       "413 73.9           11.7              7.8                       5.8           \n",
       "414 73.1           10.5              8.7                       9.6           \n",
       "415 64.9           12.7             15.4                      17.8           \n",
       "416 76.8           26.4             11.5                       5.4           \n",
       "417 62.0            9.1              6.5                       4.8           \n",
       "418 88.0           29.5              4.5                       3.3           \n",
       "419 76.0           18.1             10.7                       5.0           \n",
       "420 81.2           17.9              5.4                       5.9           \n",
       "421 71.8           12.6              8.7                       9.7           \n",
       "422 57.0           11.0             20.7                       8.9           \n",
       "423 75.8           17.7             13.4                       8.2           \n",
       "424 71.2           12.7             11.9                       7.3           \n",
       "425 79.8           21.7              5.1                       6.5           \n",
       "426 77.4           13.8              4.5                       5.6           \n",
       "427 78.8           15.5              6.8                       6.3           \n",
       "428 70.6           14.4              7.0                       6.8           \n",
       "429 87.1           26.5              7.3                       2.5           \n",
       "430 69.8           15.0             16.9                       9.4           \n",
       "431 91.0           25.4              3.5                       2.6           \n",
       "432 71.1           16.8              6.0                       9.2           \n",
       "433 65.6            9.0             15.0                      12.8           \n",
       "434 73.6           13.9              8.4                       5.9           \n",
       "435 81.0           16.2              3.7                       4.9           \n",
       "436 70.5            9.7              7.9                       8.2           \n",
       "437 79.7           20.3              5.0                       9.8           \n",
       "438 77.9           16.5             10.8                       8.0           \n",
       "439 77.0           17.8              5.7                       3.2           \n",
       "440 69.4           15.5              9.4                       7.1           \n",
       "    IndicePerCapita Ingresos x_NE x_NC x_S\n",
       "1   20786           184230   0    0    0  \n",
       "2   21729           110928   0    1    0  \n",
       "3   19517            55003   0    0    1  \n",
       "4   19588            48931   0    0    0  \n",
       "5   24400            58818   0    0    0  \n",
       "6   16803            38658   1    0    0  \n",
       "7   18042            38287   0    0    0  \n",
       "8   17461            36872   0    1    0  \n",
       "9   17823            34525   0    0    1  \n",
       "10  21001            38911   0    0    1  \n",
       "11  16721            26512   1    0    0  \n",
       "12  23779            35843   0    0    0  \n",
       "13  25193            37728   0    0    0  \n",
       "14  16399            23260   0    0    0  \n",
       "15  21086            29776   0    1    0  \n",
       "16  25312            35398   1    0    0  \n",
       "17  20681            27639   1    0    0  \n",
       "18  24262            32071   1    0    0  \n",
       "19  31679            40782   1    0    0  \n",
       "20  22148            28331   0    0    0  \n",
       "21  22355            28066   0    0    1  \n",
       "22  15508            18383   0    0    1  \n",
       "23  17185            20114   0    0    0  \n",
       "24  18825            22027   0    0    1  \n",
       "25  26884            29131   0    1    0  \n",
       "26  18934            19714   0    0    0  \n",
       "27  23705            24474   0    1    0  \n",
       "28  24219            24062   0    1    0  \n",
       "29  18305            17729   1    0    0  \n",
       "30  19040            18306   0    1    0  \n",
       "<U+22EE>   <U+22EE>        <U+22EE> <U+22EE> <U+22EE> <U+22EE>\n",
       "411 16451           1772     0    0    1  \n",
       "412 13681           1474     0    0    0  \n",
       "413 16655           1783     0    1    0  \n",
       "414 16119           1723     0    1    0  \n",
       "415 11490           1228     0    0    0  \n",
       "416 19345           2062     0    0    1  \n",
       "417 14721           1568     0    0    1  \n",
       "418 20515           2184     0    1    0  \n",
       "419 15036           1595     0    1    0  \n",
       "420 16029           1699     0    0    1  \n",
       "421 16154           1700     1    0    0  \n",
       "422 10849           1141     0    0    1  \n",
       "423 16775           1761     0    0    1  \n",
       "424 13350           1397     0    0    1  \n",
       "425 17182           1791     1    0    0  \n",
       "426 18061           1876     0    1    0  \n",
       "427 16342           1691     0    1    0  \n",
       "428 16514           1706     0    0    1  \n",
       "429 16275           1674     0    1    0  \n",
       "430 11803           1211     0    0    1  \n",
       "431 16137           1655     0    1    0  \n",
       "432 18070           1853     1    0    0  \n",
       "433 13907           1411     0    0    0  \n",
       "434 16464           1670     0    1    0  \n",
       "435 19317           1954     0    0    1  \n",
       "436 13919           1407     0    0    1  \n",
       "437 27125           2737     0    0    1  \n",
       "438 13169           1323     0    0    1  \n",
       "439 18504           1857     0    0    0  \n",
       "440 16458           1647     0    0    1  "
      ]
     },
     "metadata": {},
     "output_type": "display_data"
    },
    {
     "data": {
      "text/plain": [
       "\n",
       "Call:\n",
       "lm(formula = y ~ x1 + x2 + x3 + x4 + x5 + x6 + x7 + x8 + x9 + \n",
       "    x10 + x11 + x12 + x_NE + x_NC + x_S)\n",
       "\n",
       "Residuals:\n",
       "   Min     1Q Median     3Q    Max \n",
       "-75514  -5991    237   5167 406705 \n",
       "\n",
       "Coefficients:\n",
       "              Estimate Std. Error t value Pr(>|t|)    \n",
       "(Intercept) -4.464e+04  3.721e+04  -1.200 0.230918    \n",
       "x1          -3.156e+00  9.069e-01  -3.480 0.000554 ***\n",
       "x2           2.336e-01  2.037e-02  11.464  < 2e-16 ***\n",
       "x3           2.239e+02  4.262e+02   0.525 0.599691    \n",
       "x4           1.032e+01  3.867e+02   0.027 0.978717    \n",
       "x5          -5.381e+00  3.199e+00  -1.682 0.093266 .  \n",
       "x6           3.603e+00  2.318e+00   1.554 0.120878    \n",
       "x7          -2.459e+02  3.532e+02  -0.696 0.486664    \n",
       "x8           1.146e+02  3.875e+02   0.296 0.767539    \n",
       "x9           1.162e+03  4.907e+02   2.368 0.018353 *  \n",
       "x10         -2.154e+02  6.845e+02  -0.315 0.753115    \n",
       "x11          2.323e+00  7.024e-01   3.307 0.001025 ** \n",
       "x12         -7.042e+00  9.494e-01  -7.417 6.57e-13 ***\n",
       "x_NE        -4.403e+03  4.420e+03  -0.996 0.319821    \n",
       "x_NC        -4.571e+03  4.208e+03  -1.086 0.277957    \n",
       "x_S         -2.347e+03  4.140e+03  -0.567 0.570979    \n",
       "---\n",
       "Signif. codes:  0 '***' 0.001 '**' 0.01 '*' 0.05 '.' 0.1 ' ' 1\n",
       "\n",
       "Residual standard error: 23410 on 424 degrees of freedom\n",
       "Multiple R-squared:  0.8439,\tAdjusted R-squared:  0.8384 \n",
       "F-statistic: 152.8 on 15 and 424 DF,  p-value: < 2.2e-16\n"
      ]
     },
     "metadata": {},
     "output_type": "display_data"
    }
   ],
   "source": [
    "library(readr)\n",
    "library(MASS)\n",
    "library(car)\n",
    "library(leaps)\n",
    "library(lmtest)\n",
    "\n",
    "crimenes <- read.table(\"Archivos/punto3.txt\", head = TRUE)\n",
    "head(crimenes)\n",
    "y <- crimenes$CrimenesTotales\n",
    "x1 <- crimenes$Area\n",
    "x2 <- crimenes$Poblacion\n",
    "x3 <- crimenes$Per18a34\n",
    "x4 <- crimenes$PerMayor65\n",
    "x5 <- crimenes$MedicosActivos\n",
    "x6 <- crimenes$Camas\n",
    "x7 <- crimenes$PerBachilleres\n",
    "x8 <- crimenes$PerProfesionales\n",
    "x9 <- crimenes$PerPoblDebajoNivelPobreza\n",
    "x10 <- crimenes$PerDesempleados\n",
    "x11 <- crimenes$IndicePerCapita\n",
    "x12 <- crimenes$Ingresos\n",
    "\n",
    "x_NE <- ifelse(crimenes$RegionGeo == 1,1,0)\n",
    "x_NC <- ifelse(crimenes$RegionGeo == 2,1,0)\n",
    "x_S <- ifelse(crimenes$RegionGeo == 3,1,0)\n",
    "x_w <- ifelse(crimenes$RegionGeo == 4,1,0)\n",
    "\n",
    "crimenes2 <- cbind(crimenes[,4:16],x_NE,x_NC,x_S)\n",
    "crimenes2\n",
    "\n",
    "modelopunto3 <- lm(y~x1+x2+x3+x4+x5+x6+x7+x8+x9+x10+x11+x12+x_NE+x_NC+x_S)\n",
    "summary(modelopunto3)\n"
   ]
  },
  {
   "cell_type": "markdown",
   "id": "e1665bf7",
   "metadata": {},
   "source": [
    "Lo primero que se procede a hacer es verificar los supuestos del modelo. Es decir verificar normalidad, autocorrelación, multicolinealidad,  heteroscedasticidad y, tambien se debe verificar si existen o no datos outliers e influyentes. Dado lo anterior se realizan algunas pruebas correspondientes para evaluar cada uno de los supuestos presentados. "
   ]
  },
  {
   "cell_type": "markdown",
   "id": "5d43745b",
   "metadata": {},
   "source": [
    "###### Normalidad\n",
    "Para el caso del supuesto de normalidad lo primero que se hace es obtener los residuos y a partir de esto, se gráfica el ajuste a través de una Q-Q Plot como lo vemos a continuación:"
   ]
  },
  {
   "cell_type": "code",
   "execution_count": null,
   "id": "6af5830a",
   "metadata": {},
   "outputs": [],
   "source": [
    "#Normalidad\n",
    "residuosp3 <- modelopunto3$residuals\n",
    "qqnorm(residuosp3)\n",
    "abline(0,1,col=2)"
   ]
  },
  {
   "cell_type": "markdown",
   "id": "fb1a0c41",
   "metadata": {},
   "source": [
    "En la anterior gráfica se puede ver que el comportamiento de los datos puede acercarse a una normal debido a que están muy cerca de la recta con pendiente 1 que pasa por el origen. (A excepción de 1 dato que parecería ser influyente)\n",
    "\n",
    "Sin embargo, como es una observación gráfica, procedemos a comprobar lo anteriro de manera estadística por medio de la prueba Shapiro en donde se plantea la siguiente prueba de hipótesis:\n",
    "\n",
    "$$\n",
    "H_0: e_{i} \\sim \\ Normal\n",
    "$$\n",
    "\n",
    "$$\n",
    "H_1:\\lnot\\ H_0\n",
    "$$"
   ]
  },
  {
   "cell_type": "code",
   "execution_count": 435,
   "id": "dbeeef98",
   "metadata": {},
   "outputs": [],
   "source": [
    "#Normalidad - Shapiro \n",
    "shapiro.test(residuosp3)"
   ]
  },
  {
   "cell_type": "markdown",
   "id": "a1ea592b",
   "metadata": {},
   "source": [
    "Con un nivel de confianza del 95% no se rechaza la hipotesis nula, es decir que se puede concluir que los residuos del modelo se distribuyen normales dado que al realizar la prueba de Shapiro el p-value = 2.2e-16 lo cual es practicamente 0 por lo que es menor a 5%"
   ]
  },
  {
   "cell_type": "markdown",
   "id": "efd7c5d1",
   "metadata": {},
   "source": [
    "###### Autocorrelación\n",
    "Para evaluar si hay o no autocorrelación entre los datos del modelo se decir realizar dos pruebas, la primera es la prueba de Durbin-Watson y la segunda la de Breusch-Godfrey.\n",
    "\n",
    "* Prueba Durbin-Watson:\n",
    "$$\n",
    "H_0:\\rho=0\n",
    "$$\n",
    "\n",
    "$$\n",
    "H_1: \\rho>0\n",
    "$$\n",
    "\n",
    "* Prueba Breusch-Godfrey:\n",
    "$$\n",
    "H_0: \\rho_i=0  \\ \\ \\forall \\ i\\in N\n",
    "$$\n",
    "\n",
    "$$\n",
    "H_1:\\lnot\\ H_0\n",
    "$$"
   ]
  },
  {
   "cell_type": "code",
   "execution_count": null,
   "id": "56826ae6",
   "metadata": {},
   "outputs": [],
   "source": [
    "#Autocorrelacion\n",
    "dwtest(modelopunto3)\n",
    "bgtest(modelopunto3)"
   ]
  },
  {
   "cell_type": "markdown",
   "id": "fc2c237a",
   "metadata": {},
   "source": [
    "Como se puede ver, el resultado de la prueba de Durbin-Watson arrojó un p-value = 0.5492 y la prueba de Breush-Godfrey arrojó un p-value = 0.7744, por lo que no se rechaza la hipotesis nula dado que el p-value > 5%, es decir que con una confianza del 95% que no hay problemas de autocorrelación. \n"
   ]
  },
  {
   "cell_type": "markdown",
   "id": "f28ce569",
   "metadata": {},
   "source": [
    "###### Multicolinealidad\n",
    "Para ver si hay o no problemas de multicolinealidad lo primero que se decide hacer es graficar el comportamiento de las variables"
   ]
  },
  {
   "cell_type": "code",
   "execution_count": null,
   "id": "65b44355",
   "metadata": {},
   "outputs": [],
   "source": [
    "#Multicolinealidad\n",
    "pairs(crimenes2)\n",
    "vif(modelopunto3)"
   ]
  },
  {
   "cell_type": "markdown",
   "id": "e1a8f53d",
   "metadata": {},
   "source": [
    "En la gráfia se puede ver que hay algunas variables que tienen multicolinealidad. Sin embargo como no es del todo claro por la cantidad de variables, se procedió a sacar el VIF de cada una de las variables del modelo, y a quellos VIF que dieran mayores a 10 se consideran con problemas de multicolinealidad, en este caso esas variables serían: \n",
    "x2, x5, x6 y x12, es decir Población, Medicos Activos, Número de Camas de hospital y la variable de Ingresos totales. "
   ]
  },
  {
   "cell_type": "markdown",
   "id": "d97f0a0f",
   "metadata": {},
   "source": [
    "Dado lo anterior se decide eliminar del modelo las variables x2, x5, x6 y x12 dado que son unas de las que tienen VIF más alto. Teniendo en cuenta esto el nuevo modelo sería: "
   ]
  },
  {
   "cell_type": "code",
   "execution_count": 438,
   "id": "89b82cbb",
   "metadata": {
    "scrolled": true
   },
   "outputs": [
    {
     "data": {
      "text/plain": [
       "\n",
       "Call:\n",
       "lm(formula = y ~ x1 + x3 + x4 + x7 + x8 + x9 + x10 + x11 + x_NE + \n",
       "    x_NC + x_S)\n",
       "\n",
       "Residuals:\n",
       "   Min     1Q Median     3Q    Max \n",
       "-89027 -16016  -5419   4976 619615 \n",
       "\n",
       "Coefficients:\n",
       "              Estimate Std. Error t value Pr(>|t|)    \n",
       "(Intercept) -76542.421  83688.964  -0.915 0.360914    \n",
       "x1               4.307      2.009   2.144 0.032577 *  \n",
       "x3            2762.570    964.046   2.866 0.004367 ** \n",
       "x4             295.556    860.010   0.344 0.731266    \n",
       "x7           -1272.783    811.920  -1.568 0.117709    \n",
       "x8           -1041.217    875.209  -1.190 0.234832    \n",
       "x9            3660.795   1014.392   3.609 0.000344 ***\n",
       "x10          -1734.746   1543.796  -1.124 0.261775    \n",
       "x11              6.917      1.315   5.260 2.28e-07 ***\n",
       "x_NE        -17023.665  10013.428  -1.700 0.089842 .  \n",
       "x_NC         -9559.242   9430.281  -1.014 0.311310    \n",
       "x_S         -15098.282   9388.281  -1.608 0.108528    \n",
       "---\n",
       "Signif. codes:  0 '***' 0.001 '**' 0.01 '*' 0.05 '.' 0.1 ' ' 1\n",
       "\n",
       "Residual standard error: 54440 on 428 degrees of freedom\n",
       "Multiple R-squared:  0.1481,\tAdjusted R-squared:  0.1262 \n",
       "F-statistic: 6.766 on 11 and 428 DF,  p-value: 1.635e-10\n"
      ]
     },
     "metadata": {},
     "output_type": "display_data"
    },
    {
     "data": {
      "text/html": [
       "<style>\n",
       ".dl-inline {width: auto; margin:0; padding: 0}\n",
       ".dl-inline>dt, .dl-inline>dd {float: none; width: auto; display: inline-block}\n",
       ".dl-inline>dt::after {content: \":\\0020\"; padding-right: .5ex}\n",
       ".dl-inline>dt:not(:first-of-type) {padding-left: .5ex}\n",
       "</style><dl class=dl-inline><dt>x1</dt><dd>1.43612264352875</dd><dt>x3</dt><dd>2.41834854778881</dd><dt>x4</dt><dd>1.746642850128</dd><dt>x7</dt><dd>4.80588123442015</dd><dt>x8</dt><dd>6.64861347369501</dd><dt>x9</dt><dd>3.30557038514524</dd><dt>x10</dt><dd>1.92979805781654</dd><dt>x11</dt><dd>4.22101544091337</dd><dt>x_NE</dt><dd>2.66923398873379</dd><dt>x_NC</dt><dd>2.44548515466685</dd><dt>x_S</dt><dd>2.95911742677213</dd></dl>\n"
      ],
      "text/latex": [
       "\\begin{description*}\n",
       "\\item[x1] 1.43612264352875\n",
       "\\item[x3] 2.41834854778881\n",
       "\\item[x4] 1.746642850128\n",
       "\\item[x7] 4.80588123442015\n",
       "\\item[x8] 6.64861347369501\n",
       "\\item[x9] 3.30557038514524\n",
       "\\item[x10] 1.92979805781654\n",
       "\\item[x11] 4.22101544091337\n",
       "\\item[x\\textbackslash{}\\_NE] 2.66923398873379\n",
       "\\item[x\\textbackslash{}\\_NC] 2.44548515466685\n",
       "\\item[x\\textbackslash{}\\_S] 2.95911742677213\n",
       "\\end{description*}\n"
      ],
      "text/markdown": [
       "x1\n",
       ":   1.43612264352875x3\n",
       ":   2.41834854778881x4\n",
       ":   1.746642850128x7\n",
       ":   4.80588123442015x8\n",
       ":   6.64861347369501x9\n",
       ":   3.30557038514524x10\n",
       ":   1.92979805781654x11\n",
       ":   4.22101544091337x_NE\n",
       ":   2.66923398873379x_NC\n",
       ":   2.44548515466685x_S\n",
       ":   2.95911742677213\n",
       "\n"
      ],
      "text/plain": [
       "      x1       x3       x4       x7       x8       x9      x10      x11 \n",
       "1.436123 2.418349 1.746643 4.805881 6.648613 3.305570 1.929798 4.221015 \n",
       "    x_NE     x_NC      x_S \n",
       "2.669234 2.445485 2.959117 "
      ]
     },
     "metadata": {},
     "output_type": "display_data"
    }
   ],
   "source": [
    "modelo4 <- lm(y~x1+x3+x4+x7+x8+x9+x10+x11+x_NE+x_NC+x_S)\n",
    "summary(modelo4)\n",
    "vif(modelo4)"
   ]
  },
  {
   "cell_type": "markdown",
   "id": "8d1fa21c",
   "metadata": {},
   "source": [
    "###### Outliers e Influyentes\n",
    "Como primer paso se procede a revisar los datos outliers de manera gráfica mediante los residuos de la siguiente manera: "
   ]
  },
  {
   "cell_type": "code",
   "execution_count": 439,
   "id": "d1aa12b9",
   "metadata": {},
   "outputs": [
    {
     "data": {
      "image/png": "[encoded data removed]",
      "text/plain": [
       "plot without title"
      ]
     },
     "metadata": {
      "image/png": {
       "height": 420,
       "width": 420
      }
     },
     "output_type": "display_data"
    }
   ],
   "source": [
    "#Datos influyentes \n",
    "residuos4 <- modelo4$residuals\n",
    "plot(residuos4)\n",
    "abline(0,0, col=2)"
   ]
  },
  {
   "cell_type": "markdown",
   "id": "0cb03cd3",
   "metadata": {},
   "source": [
    "En la anterior gráfica es posible observar que hay algunos datos (puntos) que se encuentran alejados del ceo, o de la linea roja, dado esto, se procede a realizar la comprobación estadística que empieza al estudentizar los residuos de la siguiente manera:"
   ]
  },
  {
   "cell_type": "code",
   "execution_count": 440,
   "id": "effbb96e",
   "metadata": {},
   "outputs": [
    {
     "data": {
      "image/png": "[encoded data removed]",
      "text/plain": [
       "plot without title"
      ]
     },
     "metadata": {
      "image/png": {
       "height": 420,
       "width": 420
      }
     },
     "output_type": "display_data"
    }
   ],
   "source": [
    "crimenes3 <- crimenes2[,-2] #Poblacion\n",
    "crimenes3 <- crimenes3[,-4] #Medicos \n",
    "crimenes3<- crimenes3[,-4] #Camas\n",
    "crimenes3<- crimenes3[,-10] #Ingresos \n",
    "\n",
    "#estudentizar \n",
    "x <- as.matrix(cbind(rep(1,), crimenes3))\n",
    "H <- x %*% solve(t(x) %*% x) %*% t(x)\n",
    "leve <- diag(H)\n",
    "\n",
    "estudentizado <- residuos4/sqrt(1-leve)\n",
    "plot(estudentizado)                \n",
    "abline(0,0,col=2)"
   ]
  },
  {
   "cell_type": "markdown",
   "id": "34410ddd",
   "metadata": {},
   "source": [
    "Luego, con los datos estudentizados se procede a realizar el análisis de datos outliers e influyentes con el siguiente procedimiento, en donde se comprobará si hay datos outliers o no."
   ]
  },
  {
   "cell_type": "code",
   "execution_count": null,
   "id": "7a2acfd9",
   "metadata": {},
   "outputs": [],
   "source": [
    "#Datos influyentes\n",
    "p <- dim(crimenes3)[2]-1\n",
    "cd <- cooks.distance(modelo4)\n",
    "max(cd)\n",
    "qf(0.5,p,n-p)"
   ]
  },
  {
   "cell_type": "markdown",
   "id": "9768ca97",
   "metadata": {},
   "source": [
    "La prueba de la distancia de Cook arrojó un valor de 0.4031 que al compararlo con la distribución F(p,n-p)= 0.9465 se puede concluir con una significancia del 5% que no hay datos influyentes en el modelo, pues el valor máximo de Di es pequeño comparado con la mediana de la distribución F mencionada. "
   ]
  },
  {
   "cell_type": "markdown",
   "id": "f4d6bbcf",
   "metadata": {},
   "source": [
    "###### Heterocedasticidad\n",
    "Se procede ahora a evaluar el supuesto de homocedasticidad, para esto se realiza la prueba de Breusch-Pagan que consiste en evaluar el siguiente modelo:\n",
    "$$\n",
    "e_{i^2}=\\alpha_0+\\alpha_1X_{1i}+\\alpha_3X_{3i}+\\alpha_4X_{4i}+\\alpha_7X_{7i}+\\alpha_8X_{8i}+\\alpha_9X_{9i}+\\alpha_{10}X_{10i}+\\alpha_{11}X_{11i}+\\alpha_{13}X_{13i}+\\alpha_{14}X_{14i}+\\alpha_{15}X_{15i}+w_i\n",
    "$$\n",
    "\n",
    "y se plantea la siguiente prueba de hipotesis: \n",
    "$$\n",
    "H_0: \\alpha_1 = \\alpha_3 = \\alpha_4 = \\alpha_7 = \\alpha_8 = \\alpha_9 = \\alpha_{10} = \\alpha_{11} = \\alpha_{13} = \\alpha_{14} = \\alpha_{15} = 0\n",
    "$$\n",
    "\n",
    "$$\n",
    "H_1:\\exists i \\in \\{1,3,4,7,8,9,10,11,13,14,15\\} | \\alpha_i \\neq 0\n",
    "$$"
   ]
  },
  {
   "cell_type": "code",
   "execution_count": 442,
   "id": "37af311d",
   "metadata": {},
   "outputs": [
    {
     "data": {
      "text/plain": [
       "\n",
       "\tstudentized Breusch-Pagan test\n",
       "\n",
       "data:  modelo4\n",
       "BP = 22.716, df = 11, p-value = 0.01937\n"
      ]
     },
     "metadata": {},
     "output_type": "display_data"
    }
   ],
   "source": [
    "#Heteroscedasticidad\n",
    "bptest(modelo4)"
   ]
  },
  {
   "cell_type": "markdown",
   "id": "d91c0af9",
   "metadata": {},
   "source": [
    "Al realizar la prueba se puede concluir que con un nivel de confianza del 95% hay suficiente evidencia estadística para rechazar $H_0$, es decir que efectivamente hay problemas de heteroscedasticidad, dado que el p-value es 7.911e-11 lo cual es menor a 5% que es el nivel de significancia. "
   ]
  },
  {
   "cell_type": "code",
   "execution_count": 443,
   "id": "d2936da9",
   "metadata": {
    "scrolled": true
   },
   "outputs": [
    {
     "data": {
      "text/html": [
       "<table class=\"dataframe\">\n",
       "<caption>A matrix: 12 × 1 of type dbl</caption>\n",
       "<tbody>\n",
       "\t<tr><td>0.242621708</td></tr>\n",
       "\t<tr><td>0.461890548</td></tr>\n",
       "\t<tr><td>0.600171884</td></tr>\n",
       "\t<tr><td>0.000000000</td></tr>\n",
       "\t<tr><td>0.011024666</td></tr>\n",
       "\t<tr><td>0.920638895</td></tr>\n",
       "\t<tr><td>0.008992653</td></tr>\n",
       "\t<tr><td>0.139474981</td></tr>\n",
       "\t<tr><td>0.695686822</td></tr>\n",
       "\t<tr><td>0.609664202</td></tr>\n",
       "\t<tr><td>0.571719900</td></tr>\n",
       "\t<tr><td>0.383532265</td></tr>\n",
       "</tbody>\n",
       "</table>\n"
      ],
      "text/latex": [
       "A matrix: 12 × 1 of type dbl\n",
       "\\begin{tabular}{l}\n",
       "\t 0.242621708\\\\\n",
       "\t 0.461890548\\\\\n",
       "\t 0.600171884\\\\\n",
       "\t 0.000000000\\\\\n",
       "\t 0.011024666\\\\\n",
       "\t 0.920638895\\\\\n",
       "\t 0.008992653\\\\\n",
       "\t 0.139474981\\\\\n",
       "\t 0.695686822\\\\\n",
       "\t 0.609664202\\\\\n",
       "\t 0.571719900\\\\\n",
       "\t 0.383532265\\\\\n",
       "\\end{tabular}\n"
      ],
      "text/markdown": [
       "\n",
       "A matrix: 12 × 1 of type dbl\n",
       "\n",
       "| 0.242621708 |\n",
       "| 0.461890548 |\n",
       "| 0.600171884 |\n",
       "| 0.000000000 |\n",
       "| 0.011024666 |\n",
       "| 0.920638895 |\n",
       "| 0.008992653 |\n",
       "| 0.139474981 |\n",
       "| 0.695686822 |\n",
       "| 0.609664202 |\n",
       "| 0.571719900 |\n",
       "| 0.383532265 |\n",
       "\n"
      ],
      "text/plain": [
       "      [,1]       \n",
       " [1,] 0.242621708\n",
       " [2,] 0.461890548\n",
       " [3,] 0.600171884\n",
       " [4,] 0.000000000\n",
       " [5,] 0.011024666\n",
       " [6,] 0.920638895\n",
       " [7,] 0.008992653\n",
       " [8,] 0.139474981\n",
       " [9,] 0.695686822\n",
       "[10,] 0.609664202\n",
       "[11,] 0.571719900\n",
       "[12,] 0.383532265"
      ]
     },
     "metadata": {},
     "output_type": "display_data"
    },
    {
     "data": {
      "image/png": "[encoded data removed]",
      "text/plain": [
       "plot without title"
      ]
     },
     "metadata": {
      "image/png": {
       "height": 420,
       "width": 420
      }
     },
     "output_type": "display_data"
    }
   ],
   "source": [
    "residuos4 <- modelo4$residuals\n",
    "plot(residuos4)\n",
    "residuos42 <- residuos4^2\n",
    "n <- length(y)\n",
    "\n",
    "pvalores <- as.matrix(cbind(rep(1,12)))   \n",
    "for(i in 1:12){\n",
    "    model<- lm(residuos42~crimenes3[,i]) \n",
    "    pvalor <- 1-pchisq(n*summary(model)$r.squared,1)\n",
    "    pvalores[i]=pvalor\n",
    "}\n",
    "pvalores"
   ]
  },
  {
   "cell_type": "markdown",
   "id": "291726b6",
   "metadata": {},
   "source": [
    "Como se puede observar con los p-valores las variables PerBachilleres(0.011024666) y PerPoblDebajoNivelPobreza (0.008992653), dado que con estas el p-value es < 5%. "
   ]
  },
  {
   "cell_type": "markdown",
   "id": "2c2dc07e",
   "metadata": {},
   "source": [
    "Para solucionar el problema de las varianzas se debe recordar los datos obtenidos en la prueba de heteroscedasticidad en donde se demostró que los problemas se encuentran en las varaibles: x2 (Población), x8 (PerProfesionales) y x11 (PerCapita)\n",
    "Teniendo lo anterior claro, para solucionar el problema se procede a utilizar Mínimos Cuadrados Ponderados Factibles (FWLS). \n",
    "\n",
    "Lo primero que se debe hacer es calcular la matriz:\n",
    "$$\n",
    "\\hat{\\Omega}=\\left[\\begin{matrix}{\\hat{\\sigma}}_1^2&\\cdots&0\\\\\\vdots&\\ddots&\\vdots\\\\0&\\cdots&{\\hat{\\sigma}}_n^2\\\\\\end{matrix}\\right]\n",
    "$$\n",
    "Para poder encontrar los betas y las varianzas se emplean las siguientes ecuaciones:\n",
    "$$\n",
    "{\\hat{\\beta}}_{FWLS}=(X^T {\\hat{\\Omega}}^{-1} X)^{-1}(X^T {\\hat{\\Omega}}^{-1} Y)\n",
    "$$\n",
    "\n",
    "$$\n",
    "{\\widehat{Var}}_{FWLS}=(X^T {\\hat{\\Omega}}^{-1} X)^{-1}((X^T \\hat{\\Lambda} X))(X^T {\\hat{\\Omega}}^{-1} Y)^{-1}\n",
    "$$\n",
    "\n",
    "Sabiendo que:\n",
    "$$\n",
    "\\hat{\\Lambda}=\\left[\\begin{matrix}\\frac{\\left(e_{j_1}\\right)^2}{\\left({\\hat{\\sigma}}_1^2\\right)^2}&\\cdots&0\\\\\\vdots&\\ddots&\\vdots\\\\0&\\cdots&\\frac{\\left(e_{j_n}\\right)^2}{\\left({\\hat{\\sigma}}_n^2\\right)^2}\\\\\\end{matrix}\\right]\n",
    "$$"
   ]
  },
  {
   "cell_type": "code",
   "execution_count": 446,
   "id": "329ccc78",
   "metadata": {
    "scrolled": true
   },
   "outputs": [
    {
     "data": {
      "text/plain": [
       "\n",
       "Call:\n",
       "lm(formula = logresiduos4 ~ x9)\n",
       "\n",
       "Residuals:\n",
       "     Min       1Q   Median       3Q      Max \n",
       "-13.2580  -1.2522   0.3768   1.5132   7.6460 \n",
       "\n",
       "Coefficients:\n",
       "            Estimate Std. Error t value Pr(>|t|)    \n",
       "(Intercept) 17.17787    0.25479   67.42  < 2e-16 ***\n",
       "x9           0.15288    0.02578    5.93 6.14e-09 ***\n",
       "---\n",
       "Signif. codes:  0 '***' 0.001 '**' 0.01 '*' 0.05 '.' 0.1 ' ' 1\n",
       "\n",
       "Residual standard error: 2.515 on 438 degrees of freedom\n",
       "Multiple R-squared:  0.07433,\tAdjusted R-squared:  0.07221 \n",
       "F-statistic: 35.17 on 1 and 438 DF,  p-value: 6.138e-09\n"
      ]
     },
     "metadata": {},
     "output_type": "display_data"
    },
    {
     "data": {
      "text/html": [
       "<style>\n",
       ".dl-inline {width: auto; margin:0; padding: 0}\n",
       ".dl-inline>dt, .dl-inline>dd {float: none; width: auto; display: inline-block}\n",
       ".dl-inline>dt::after {content: \":\\0020\"; padding-right: .5ex}\n",
       ".dl-inline>dt:not(:first-of-type) {padding-left: .5ex}\n",
       "</style><dl class=dl-inline><dt>rep(1, )</dt><dd>9.74404565748939e-18</dd><dt>Area</dt><dd>2.15068486396681e-27</dd><dt>Per18a34</dt><dd>1.44776977040799e-21</dd><dt>PerMayor65</dt><dd>5.63719007480399e-22</dd><dt>CrimenesTotales</dt><dd>4.3723073290512e-30</dd><dt>PerBachilleres</dt><dd>8.78724181855717e-22</dd><dt>PerProfesionales</dt><dd>1.01642590124811e-21</dd><dt>PerPoblDebajoNivelPobreza</dt><dd>1.41364753391262e-21</dd><dt>PerDesempleados</dt><dd>2.56799177527271e-21</dd><dt>IndicePerCapita</dt><dd>1.87098580165944e-27</dd><dt>x_NE</dt><dd>1.08488365715353e-19</dd><dt>x_NC</dt><dd>1.22475713571994e-19</dd><dt>x_S</dt><dd>1.05064543595862e-19</dd></dl>\n"
      ],
      "text/latex": [
       "\\begin{description*}\n",
       "\\item[rep(1, )] 9.74404565748939e-18\n",
       "\\item[Area] 2.15068486396681e-27\n",
       "\\item[Per18a34] 1.44776977040799e-21\n",
       "\\item[PerMayor65] 5.63719007480399e-22\n",
       "\\item[CrimenesTotales] 4.3723073290512e-30\n",
       "\\item[PerBachilleres] 8.78724181855717e-22\n",
       "\\item[PerProfesionales] 1.01642590124811e-21\n",
       "\\item[PerPoblDebajoNivelPobreza] 1.41364753391262e-21\n",
       "\\item[PerDesempleados] 2.56799177527271e-21\n",
       "\\item[IndicePerCapita] 1.87098580165944e-27\n",
       "\\item[x\\textbackslash{}\\_NE] 1.08488365715353e-19\n",
       "\\item[x\\textbackslash{}\\_NC] 1.22475713571994e-19\n",
       "\\item[x\\textbackslash{}\\_S] 1.05064543595862e-19\n",
       "\\end{description*}\n"
      ],
      "text/markdown": [
       "rep(1, )\n",
       ":   9.74404565748939e-18Area\n",
       ":   2.15068486396681e-27Per18a34\n",
       ":   1.44776977040799e-21PerMayor65\n",
       ":   5.63719007480399e-22CrimenesTotales\n",
       ":   4.3723073290512e-30PerBachilleres\n",
       ":   8.78724181855717e-22PerProfesionales\n",
       ":   1.01642590124811e-21PerPoblDebajoNivelPobreza\n",
       ":   1.41364753391262e-21PerDesempleados\n",
       ":   2.56799177527271e-21IndicePerCapita\n",
       ":   1.87098580165944e-27x_NE\n",
       ":   1.08488365715353e-19x_NC\n",
       ":   1.22475713571994e-19x_S\n",
       ":   1.05064543595862e-19\n",
       "\n"
      ],
      "text/plain": [
       "                 rep(1, )                      Area                  Per18a34 \n",
       "             9.744046e-18              2.150685e-27              1.447770e-21 \n",
       "               PerMayor65           CrimenesTotales            PerBachilleres \n",
       "             5.637190e-22              4.372307e-30              8.787242e-22 \n",
       "         PerProfesionales PerPoblDebajoNivelPobreza           PerDesempleados \n",
       "             1.016426e-21              1.413648e-21              2.567992e-21 \n",
       "          IndicePerCapita                      x_NE                      x_NC \n",
       "             1.870986e-27              1.084884e-19              1.224757e-19 \n",
       "                      x_S \n",
       "             1.050645e-19 "
      ]
     },
     "metadata": {},
     "output_type": "display_data"
    },
    {
     "data": {
      "text/html": [
       "<table class=\"dataframe\">\n",
       "<caption>A matrix: 13 × 13 of type dbl</caption>\n",
       "<thead>\n",
       "\t<tr><th></th><th scope=col>rep(1, )</th><th scope=col>Area</th><th scope=col>Per18a34</th><th scope=col>PerMayor65</th><th scope=col>CrimenesTotales</th><th scope=col>PerBachilleres</th><th scope=col>PerProfesionales</th><th scope=col>PerPoblDebajoNivelPobreza</th><th scope=col>PerDesempleados</th><th scope=col>IndicePerCapita</th><th scope=col>x_NE</th><th scope=col>x_NC</th><th scope=col>x_S</th></tr>\n",
       "</thead>\n",
       "<tbody>\n",
       "\t<tr><th scope=row>rep(1, )</th><td> 9.744046e-18</td><td>-5.520649e-24</td><td>-6.998050e-20</td><td>-3.130055e-20</td><td> 3.114836e-25</td><td>-8.039981e-20</td><td> 6.919336e-20</td><td>-7.249626e-20</td><td>-3.641257e-20</td><td>-8.124766e-23</td><td>-1.806647e-19</td><td>-8.852676e-21</td><td>-2.008134e-19</td></tr>\n",
       "\t<tr><th scope=row>Area</th><td>-5.520649e-24</td><td> 2.150685e-27</td><td>-8.623687e-26</td><td>-5.657246e-26</td><td>-1.798470e-29</td><td>-1.205315e-25</td><td> 1.598755e-25</td><td> 7.259831e-26</td><td>-2.670350e-26</td><td> 2.232068e-28</td><td> 8.732814e-24</td><td> 9.758437e-24</td><td> 9.345654e-24</td></tr>\n",
       "\t<tr><th scope=row>Per18a34</th><td>-6.998050e-20</td><td>-8.623687e-26</td><td> 1.447770e-21</td><td> 6.299478e-22</td><td>-7.487549e-27</td><td> 2.489618e-22</td><td>-8.504787e-22</td><td> 1.681788e-22</td><td> 5.206167e-23</td><td> 9.896149e-25</td><td>-1.887962e-21</td><td>-2.742749e-21</td><td>-9.689018e-22</td></tr>\n",
       "\t<tr><th scope=row>PerMayor65</th><td>-3.130055e-20</td><td>-5.657246e-26</td><td> 6.299478e-22</td><td> 5.637190e-22</td><td>-7.221071e-28</td><td> 7.866681e-23</td><td>-2.073897e-22</td><td> 1.595758e-22</td><td>-8.233820e-23</td><td> 2.346936e-25</td><td>-1.147878e-21</td><td>-1.309300e-21</td><td>-1.889756e-21</td></tr>\n",
       "\t<tr><th scope=row>CrimenesTotales</th><td> 3.114836e-25</td><td>-1.798470e-29</td><td>-7.487549e-27</td><td>-7.221071e-28</td><td> 4.372307e-30</td><td> 3.286776e-27</td><td> 6.046485e-27</td><td>-1.590822e-26</td><td> 7.500865e-27</td><td>-2.743160e-29</td><td> 6.931692e-26</td><td> 4.560164e-26</td><td> 1.767536e-26</td></tr>\n",
       "\t<tr><th scope=row>PerBachilleres</th><td>-8.039981e-20</td><td>-1.205315e-25</td><td> 2.489618e-22</td><td> 7.866681e-23</td><td> 3.286776e-27</td><td> 8.787242e-22</td><td>-5.568109e-22</td><td> 6.282574e-22</td><td> 2.261474e-22</td><td> 4.101533e-25</td><td> 1.845088e-21</td><td>-4.649385e-22</td><td> 1.524230e-21</td></tr>\n",
       "\t<tr><th scope=row>PerProfesionales</th><td> 6.919336e-20</td><td> 1.598755e-25</td><td>-8.504787e-22</td><td>-2.073897e-22</td><td> 6.046485e-27</td><td>-5.568109e-22</td><td> 1.016426e-21</td><td>-3.957556e-22</td><td> 2.443610e-22</td><td>-1.041150e-24</td><td> 4.667159e-22</td><td> 2.243767e-21</td><td> 9.517354e-23</td></tr>\n",
       "\t<tr><th scope=row>PerPoblDebajoNivelPobreza</th><td>-7.249626e-20</td><td> 7.259831e-26</td><td> 1.681788e-22</td><td> 1.595758e-22</td><td>-1.590822e-26</td><td> 6.282574e-22</td><td>-3.957556e-22</td><td> 1.413648e-21</td><td>-2.686566e-22</td><td> 7.563130e-25</td><td> 3.013850e-21</td><td> 1.392170e-22</td><td> 8.097024e-22</td></tr>\n",
       "\t<tr><th scope=row>PerDesempleados</th><td>-3.641257e-20</td><td>-2.670350e-26</td><td> 5.206167e-23</td><td>-8.233820e-23</td><td> 7.500865e-27</td><td> 2.261474e-22</td><td> 2.443610e-22</td><td>-2.686566e-22</td><td> 2.567992e-21</td><td>-1.708902e-25</td><td>-8.937904e-22</td><td> 2.035577e-21</td><td> 3.003640e-21</td></tr>\n",
       "\t<tr><th scope=row>IndicePerCapita</th><td>-8.124766e-23</td><td> 2.232068e-28</td><td> 9.896149e-25</td><td> 2.346936e-25</td><td>-2.743160e-29</td><td> 4.101533e-25</td><td>-1.041150e-24</td><td> 7.563130e-25</td><td>-1.708902e-25</td><td> 1.870986e-27</td><td>-6.222041e-25</td><td>-6.670611e-25</td><td> 8.679834e-25</td></tr>\n",
       "\t<tr><th scope=row>x_NE</th><td>-1.806647e-19</td><td> 8.732814e-24</td><td>-1.887962e-21</td><td>-1.147878e-21</td><td> 6.931692e-26</td><td> 1.845088e-21</td><td> 4.667159e-22</td><td> 3.013850e-21</td><td>-8.937904e-22</td><td>-6.222041e-25</td><td> 1.084884e-19</td><td> 8.011626e-20</td><td> 8.057024e-20</td></tr>\n",
       "\t<tr><th scope=row>x_NC</th><td>-8.852676e-21</td><td> 9.758437e-24</td><td>-2.742749e-21</td><td>-1.309300e-21</td><td> 4.560164e-26</td><td>-4.649385e-22</td><td> 2.243767e-21</td><td> 1.392170e-22</td><td> 2.035577e-21</td><td>-6.670611e-25</td><td> 8.011626e-20</td><td> 1.224757e-19</td><td> 8.110724e-20</td></tr>\n",
       "\t<tr><th scope=row>x_S</th><td>-2.008134e-19</td><td> 9.345654e-24</td><td>-9.689018e-22</td><td>-1.889756e-21</td><td> 1.767536e-26</td><td> 1.524230e-21</td><td> 9.517354e-23</td><td> 8.097024e-22</td><td> 3.003640e-21</td><td> 8.679834e-25</td><td> 8.057024e-20</td><td> 8.110724e-20</td><td> 1.050645e-19</td></tr>\n",
       "</tbody>\n",
       "</table>\n"
      ],
      "text/latex": [
       "A matrix: 13 × 13 of type dbl\n",
       "\\begin{tabular}{r|lllllllllllll}\n",
       "  & rep(1, ) & Area & Per18a34 & PerMayor65 & CrimenesTotales & PerBachilleres & PerProfesionales & PerPoblDebajoNivelPobreza & PerDesempleados & IndicePerCapita & x\\_NE & x\\_NC & x\\_S\\\\\n",
       "\\hline\n",
       "\trep(1, ) &  9.744046e-18 & -5.520649e-24 & -6.998050e-20 & -3.130055e-20 &  3.114836e-25 & -8.039981e-20 &  6.919336e-20 & -7.249626e-20 & -3.641257e-20 & -8.124766e-23 & -1.806647e-19 & -8.852676e-21 & -2.008134e-19\\\\\n",
       "\tArea & -5.520649e-24 &  2.150685e-27 & -8.623687e-26 & -5.657246e-26 & -1.798470e-29 & -1.205315e-25 &  1.598755e-25 &  7.259831e-26 & -2.670350e-26 &  2.232068e-28 &  8.732814e-24 &  9.758437e-24 &  9.345654e-24\\\\\n",
       "\tPer18a34 & -6.998050e-20 & -8.623687e-26 &  1.447770e-21 &  6.299478e-22 & -7.487549e-27 &  2.489618e-22 & -8.504787e-22 &  1.681788e-22 &  5.206167e-23 &  9.896149e-25 & -1.887962e-21 & -2.742749e-21 & -9.689018e-22\\\\\n",
       "\tPerMayor65 & -3.130055e-20 & -5.657246e-26 &  6.299478e-22 &  5.637190e-22 & -7.221071e-28 &  7.866681e-23 & -2.073897e-22 &  1.595758e-22 & -8.233820e-23 &  2.346936e-25 & -1.147878e-21 & -1.309300e-21 & -1.889756e-21\\\\\n",
       "\tCrimenesTotales &  3.114836e-25 & -1.798470e-29 & -7.487549e-27 & -7.221071e-28 &  4.372307e-30 &  3.286776e-27 &  6.046485e-27 & -1.590822e-26 &  7.500865e-27 & -2.743160e-29 &  6.931692e-26 &  4.560164e-26 &  1.767536e-26\\\\\n",
       "\tPerBachilleres & -8.039981e-20 & -1.205315e-25 &  2.489618e-22 &  7.866681e-23 &  3.286776e-27 &  8.787242e-22 & -5.568109e-22 &  6.282574e-22 &  2.261474e-22 &  4.101533e-25 &  1.845088e-21 & -4.649385e-22 &  1.524230e-21\\\\\n",
       "\tPerProfesionales &  6.919336e-20 &  1.598755e-25 & -8.504787e-22 & -2.073897e-22 &  6.046485e-27 & -5.568109e-22 &  1.016426e-21 & -3.957556e-22 &  2.443610e-22 & -1.041150e-24 &  4.667159e-22 &  2.243767e-21 &  9.517354e-23\\\\\n",
       "\tPerPoblDebajoNivelPobreza & -7.249626e-20 &  7.259831e-26 &  1.681788e-22 &  1.595758e-22 & -1.590822e-26 &  6.282574e-22 & -3.957556e-22 &  1.413648e-21 & -2.686566e-22 &  7.563130e-25 &  3.013850e-21 &  1.392170e-22 &  8.097024e-22\\\\\n",
       "\tPerDesempleados & -3.641257e-20 & -2.670350e-26 &  5.206167e-23 & -8.233820e-23 &  7.500865e-27 &  2.261474e-22 &  2.443610e-22 & -2.686566e-22 &  2.567992e-21 & -1.708902e-25 & -8.937904e-22 &  2.035577e-21 &  3.003640e-21\\\\\n",
       "\tIndicePerCapita & -8.124766e-23 &  2.232068e-28 &  9.896149e-25 &  2.346936e-25 & -2.743160e-29 &  4.101533e-25 & -1.041150e-24 &  7.563130e-25 & -1.708902e-25 &  1.870986e-27 & -6.222041e-25 & -6.670611e-25 &  8.679834e-25\\\\\n",
       "\tx\\_NE & -1.806647e-19 &  8.732814e-24 & -1.887962e-21 & -1.147878e-21 &  6.931692e-26 &  1.845088e-21 &  4.667159e-22 &  3.013850e-21 & -8.937904e-22 & -6.222041e-25 &  1.084884e-19 &  8.011626e-20 &  8.057024e-20\\\\\n",
       "\tx\\_NC & -8.852676e-21 &  9.758437e-24 & -2.742749e-21 & -1.309300e-21 &  4.560164e-26 & -4.649385e-22 &  2.243767e-21 &  1.392170e-22 &  2.035577e-21 & -6.670611e-25 &  8.011626e-20 &  1.224757e-19 &  8.110724e-20\\\\\n",
       "\tx\\_S & -2.008134e-19 &  9.345654e-24 & -9.689018e-22 & -1.889756e-21 &  1.767536e-26 &  1.524230e-21 &  9.517354e-23 &  8.097024e-22 &  3.003640e-21 &  8.679834e-25 &  8.057024e-20 &  8.110724e-20 &  1.050645e-19\\\\\n",
       "\\end{tabular}\n"
      ],
      "text/markdown": [
       "\n",
       "A matrix: 13 × 13 of type dbl\n",
       "\n",
       "| <!--/--> | rep(1, ) | Area | Per18a34 | PerMayor65 | CrimenesTotales | PerBachilleres | PerProfesionales | PerPoblDebajoNivelPobreza | PerDesempleados | IndicePerCapita | x_NE | x_NC | x_S |\n",
       "|---|---|---|---|---|---|---|---|---|---|---|---|---|---|\n",
       "| rep(1, ) |  9.744046e-18 | -5.520649e-24 | -6.998050e-20 | -3.130055e-20 |  3.114836e-25 | -8.039981e-20 |  6.919336e-20 | -7.249626e-20 | -3.641257e-20 | -8.124766e-23 | -1.806647e-19 | -8.852676e-21 | -2.008134e-19 |\n",
       "| Area | -5.520649e-24 |  2.150685e-27 | -8.623687e-26 | -5.657246e-26 | -1.798470e-29 | -1.205315e-25 |  1.598755e-25 |  7.259831e-26 | -2.670350e-26 |  2.232068e-28 |  8.732814e-24 |  9.758437e-24 |  9.345654e-24 |\n",
       "| Per18a34 | -6.998050e-20 | -8.623687e-26 |  1.447770e-21 |  6.299478e-22 | -7.487549e-27 |  2.489618e-22 | -8.504787e-22 |  1.681788e-22 |  5.206167e-23 |  9.896149e-25 | -1.887962e-21 | -2.742749e-21 | -9.689018e-22 |\n",
       "| PerMayor65 | -3.130055e-20 | -5.657246e-26 |  6.299478e-22 |  5.637190e-22 | -7.221071e-28 |  7.866681e-23 | -2.073897e-22 |  1.595758e-22 | -8.233820e-23 |  2.346936e-25 | -1.147878e-21 | -1.309300e-21 | -1.889756e-21 |\n",
       "| CrimenesTotales |  3.114836e-25 | -1.798470e-29 | -7.487549e-27 | -7.221071e-28 |  4.372307e-30 |  3.286776e-27 |  6.046485e-27 | -1.590822e-26 |  7.500865e-27 | -2.743160e-29 |  6.931692e-26 |  4.560164e-26 |  1.767536e-26 |\n",
       "| PerBachilleres | -8.039981e-20 | -1.205315e-25 |  2.489618e-22 |  7.866681e-23 |  3.286776e-27 |  8.787242e-22 | -5.568109e-22 |  6.282574e-22 |  2.261474e-22 |  4.101533e-25 |  1.845088e-21 | -4.649385e-22 |  1.524230e-21 |\n",
       "| PerProfesionales |  6.919336e-20 |  1.598755e-25 | -8.504787e-22 | -2.073897e-22 |  6.046485e-27 | -5.568109e-22 |  1.016426e-21 | -3.957556e-22 |  2.443610e-22 | -1.041150e-24 |  4.667159e-22 |  2.243767e-21 |  9.517354e-23 |\n",
       "| PerPoblDebajoNivelPobreza | -7.249626e-20 |  7.259831e-26 |  1.681788e-22 |  1.595758e-22 | -1.590822e-26 |  6.282574e-22 | -3.957556e-22 |  1.413648e-21 | -2.686566e-22 |  7.563130e-25 |  3.013850e-21 |  1.392170e-22 |  8.097024e-22 |\n",
       "| PerDesempleados | -3.641257e-20 | -2.670350e-26 |  5.206167e-23 | -8.233820e-23 |  7.500865e-27 |  2.261474e-22 |  2.443610e-22 | -2.686566e-22 |  2.567992e-21 | -1.708902e-25 | -8.937904e-22 |  2.035577e-21 |  3.003640e-21 |\n",
       "| IndicePerCapita | -8.124766e-23 |  2.232068e-28 |  9.896149e-25 |  2.346936e-25 | -2.743160e-29 |  4.101533e-25 | -1.041150e-24 |  7.563130e-25 | -1.708902e-25 |  1.870986e-27 | -6.222041e-25 | -6.670611e-25 |  8.679834e-25 |\n",
       "| x_NE | -1.806647e-19 |  8.732814e-24 | -1.887962e-21 | -1.147878e-21 |  6.931692e-26 |  1.845088e-21 |  4.667159e-22 |  3.013850e-21 | -8.937904e-22 | -6.222041e-25 |  1.084884e-19 |  8.011626e-20 |  8.057024e-20 |\n",
       "| x_NC | -8.852676e-21 |  9.758437e-24 | -2.742749e-21 | -1.309300e-21 |  4.560164e-26 | -4.649385e-22 |  2.243767e-21 |  1.392170e-22 |  2.035577e-21 | -6.670611e-25 |  8.011626e-20 |  1.224757e-19 |  8.110724e-20 |\n",
       "| x_S | -2.008134e-19 |  9.345654e-24 | -9.689018e-22 | -1.889756e-21 |  1.767536e-26 |  1.524230e-21 |  9.517354e-23 |  8.097024e-22 |  3.003640e-21 |  8.679834e-25 |  8.057024e-20 |  8.110724e-20 |  1.050645e-19 |\n",
       "\n"
      ],
      "text/plain": [
       "                          rep(1, )      Area          Per18a34     \n",
       "rep(1, )                   9.744046e-18 -5.520649e-24 -6.998050e-20\n",
       "Area                      -5.520649e-24  2.150685e-27 -8.623687e-26\n",
       "Per18a34                  -6.998050e-20 -8.623687e-26  1.447770e-21\n",
       "PerMayor65                -3.130055e-20 -5.657246e-26  6.299478e-22\n",
       "CrimenesTotales            3.114836e-25 -1.798470e-29 -7.487549e-27\n",
       "PerBachilleres            -8.039981e-20 -1.205315e-25  2.489618e-22\n",
       "PerProfesionales           6.919336e-20  1.598755e-25 -8.504787e-22\n",
       "PerPoblDebajoNivelPobreza -7.249626e-20  7.259831e-26  1.681788e-22\n",
       "PerDesempleados           -3.641257e-20 -2.670350e-26  5.206167e-23\n",
       "IndicePerCapita           -8.124766e-23  2.232068e-28  9.896149e-25\n",
       "x_NE                      -1.806647e-19  8.732814e-24 -1.887962e-21\n",
       "x_NC                      -8.852676e-21  9.758437e-24 -2.742749e-21\n",
       "x_S                       -2.008134e-19  9.345654e-24 -9.689018e-22\n",
       "                          PerMayor65    CrimenesTotales PerBachilleres\n",
       "rep(1, )                  -3.130055e-20  3.114836e-25   -8.039981e-20 \n",
       "Area                      -5.657246e-26 -1.798470e-29   -1.205315e-25 \n",
       "Per18a34                   6.299478e-22 -7.487549e-27    2.489618e-22 \n",
       "PerMayor65                 5.637190e-22 -7.221071e-28    7.866681e-23 \n",
       "CrimenesTotales           -7.221071e-28  4.372307e-30    3.286776e-27 \n",
       "PerBachilleres             7.866681e-23  3.286776e-27    8.787242e-22 \n",
       "PerProfesionales          -2.073897e-22  6.046485e-27   -5.568109e-22 \n",
       "PerPoblDebajoNivelPobreza  1.595758e-22 -1.590822e-26    6.282574e-22 \n",
       "PerDesempleados           -8.233820e-23  7.500865e-27    2.261474e-22 \n",
       "IndicePerCapita            2.346936e-25 -2.743160e-29    4.101533e-25 \n",
       "x_NE                      -1.147878e-21  6.931692e-26    1.845088e-21 \n",
       "x_NC                      -1.309300e-21  4.560164e-26   -4.649385e-22 \n",
       "x_S                       -1.889756e-21  1.767536e-26    1.524230e-21 \n",
       "                          PerProfesionales PerPoblDebajoNivelPobreza\n",
       "rep(1, )                   6.919336e-20    -7.249626e-20            \n",
       "Area                       1.598755e-25     7.259831e-26            \n",
       "Per18a34                  -8.504787e-22     1.681788e-22            \n",
       "PerMayor65                -2.073897e-22     1.595758e-22            \n",
       "CrimenesTotales            6.046485e-27    -1.590822e-26            \n",
       "PerBachilleres            -5.568109e-22     6.282574e-22            \n",
       "PerProfesionales           1.016426e-21    -3.957556e-22            \n",
       "PerPoblDebajoNivelPobreza -3.957556e-22     1.413648e-21            \n",
       "PerDesempleados            2.443610e-22    -2.686566e-22            \n",
       "IndicePerCapita           -1.041150e-24     7.563130e-25            \n",
       "x_NE                       4.667159e-22     3.013850e-21            \n",
       "x_NC                       2.243767e-21     1.392170e-22            \n",
       "x_S                        9.517354e-23     8.097024e-22            \n",
       "                          PerDesempleados IndicePerCapita x_NE         \n",
       "rep(1, )                  -3.641257e-20   -8.124766e-23   -1.806647e-19\n",
       "Area                      -2.670350e-26    2.232068e-28    8.732814e-24\n",
       "Per18a34                   5.206167e-23    9.896149e-25   -1.887962e-21\n",
       "PerMayor65                -8.233820e-23    2.346936e-25   -1.147878e-21\n",
       "CrimenesTotales            7.500865e-27   -2.743160e-29    6.931692e-26\n",
       "PerBachilleres             2.261474e-22    4.101533e-25    1.845088e-21\n",
       "PerProfesionales           2.443610e-22   -1.041150e-24    4.667159e-22\n",
       "PerPoblDebajoNivelPobreza -2.686566e-22    7.563130e-25    3.013850e-21\n",
       "PerDesempleados            2.567992e-21   -1.708902e-25   -8.937904e-22\n",
       "IndicePerCapita           -1.708902e-25    1.870986e-27   -6.222041e-25\n",
       "x_NE                      -8.937904e-22   -6.222041e-25    1.084884e-19\n",
       "x_NC                       2.035577e-21   -6.670611e-25    8.011626e-20\n",
       "x_S                        3.003640e-21    8.679834e-25    8.057024e-20\n",
       "                          x_NC          x_S          \n",
       "rep(1, )                  -8.852676e-21 -2.008134e-19\n",
       "Area                       9.758437e-24  9.345654e-24\n",
       "Per18a34                  -2.742749e-21 -9.689018e-22\n",
       "PerMayor65                -1.309300e-21 -1.889756e-21\n",
       "CrimenesTotales            4.560164e-26  1.767536e-26\n",
       "PerBachilleres            -4.649385e-22  1.524230e-21\n",
       "PerProfesionales           2.243767e-21  9.517354e-23\n",
       "PerPoblDebajoNivelPobreza  1.392170e-22  8.097024e-22\n",
       "PerDesempleados            2.035577e-21  3.003640e-21\n",
       "IndicePerCapita           -6.670611e-25  8.679834e-25\n",
       "x_NE                       8.011626e-20  8.057024e-20\n",
       "x_NC                       1.224757e-19  8.110724e-20\n",
       "x_S                        8.110724e-20  1.050645e-19"
      ]
     },
     "metadata": {},
     "output_type": "display_data"
    },
    {
     "data": {
      "text/plain": [
       "\n",
       "Call:\n",
       "lm(formula = y ~ x1 + x3 + x4 + x7 + x8 + x9 + x10 + x11 + +x_NE + \n",
       "    x_NC + x_S, weights = 1/error)\n",
       "\n",
       "Weighted Residuals:\n",
       "   Min     1Q Median     3Q    Max \n",
       "-9.289 -1.546 -0.580  0.665 46.174 \n",
       "\n",
       "Coefficients:\n",
       "              Estimate Std. Error t value Pr(>|t|)    \n",
       "(Intercept) -7.090e+04  6.011e+04  -1.179  0.23889    \n",
       "x1           4.835e+00  1.611e+00   3.001  0.00285 ** \n",
       "x3           2.100e+03  6.960e+02   3.017  0.00270 ** \n",
       "x4           8.028e+01  5.734e+02   0.140  0.88871    \n",
       "x7          -8.050e+02  5.972e+02  -1.348  0.17834    \n",
       "x8          -6.119e+02  6.058e+02  -1.010  0.31304    \n",
       "x9           3.721e+03  8.960e+02   4.153 3.96e-05 ***\n",
       "x10         -2.502e+02  1.216e+03  -0.206  0.83707    \n",
       "x11          4.755e+00  8.579e-01   5.542 5.24e-08 ***\n",
       "x_NE        -1.952e+04  6.847e+03  -2.851  0.00457 ** \n",
       "x_NC        -1.075e+04  6.381e+03  -1.685  0.09280 .  \n",
       "x_S         -1.033e+04  6.614e+03  -1.562  0.11896    \n",
       "---\n",
       "Signif. codes:  0 '***' 0.001 '**' 0.01 '*' 0.05 '.' 0.1 ' ' 1\n",
       "\n",
       "Residual standard error: 3.899 on 428 degrees of freedom\n",
       "Multiple R-squared:  0.1905,\tAdjusted R-squared:  0.1697 \n",
       "F-statistic: 9.157 on 11 and 428 DF,  p-value: 8.904e-15\n"
      ]
     },
     "metadata": {},
     "output_type": "display_data"
    }
   ],
   "source": [
    "logresiduos4 <- log(residuos42)\n",
    "regresionlog3 <- lm(logresiduos4~x9)\n",
    "summary(regresionlog3)\n",
    "x <- as.matrix(cbind(rep(1,), crimenes3))\n",
    "n <- 440\n",
    "\n",
    "mx9<- as.matrix(cbind(rep(1,n), x9))\n",
    "alpha <- regresionlog3$coefficients\n",
    "lhat <- exp(mx9 %*% alpha)\n",
    "sigma2 <- diag(as.numeric(lhat))\n",
    "xwx <- solve(t(x) %*% solve(sigma2) %*% x)\n",
    "betasFWLS <- xwx %*% t(x) %*% solve(sigma2) %*% y\n",
    "\n",
    "v <- matrix(rep(0,440*440),ncol=440)\n",
    "resinew <- (y-x %*% betasFWLS)^2\n",
    "v <- diag(as.numeric(resinew / diag(sigma2^2)))\n",
    "varFWLS3 <- xwx %*% t(x) %*% v %*% x %*% xwx\n",
    "diag(varFWLS3)\n",
    "varFWLS3\n",
    "\n",
    "logerror3 <- predict(regresionlog3)\n",
    "error <- exp(logerror3)\n",
    "\n",
    "modelonew3 <- lm(y~x1+x3+x4+x7+x8+x9+x10+x11++x_NE+x_NC+x_S, weights = 1/error)\n",
    "summary(modelonew3)"
   ]
  },
  {
   "cell_type": "markdown",
   "id": "9f4ef9e9",
   "metadata": {},
   "source": [
    "En el modelo anterior podemos ver los nuevos betas y tambien se muestra la amtriz de varianzas resultante. Con esto se debe entonces ver si con esta corrección solucionamos o no los problemas de heteroscedasticidad. Para lo cual se realiza una prueba de Breusch-Pagan y se plantea la siguiente prueba de hipotesis: \n",
    "$$\n",
    "H_0: \\alpha_1 = \\alpha_3 = \\alpha_4 = \\alpha_7 = \\alpha_8 = \\alpha_9 = \\alpha_{10} = \\alpha_{11} = \\alpha_{13} = \\alpha_{14} = \\alpha_{15} = 0\n",
    "$$\n",
    "\n",
    "$$\n",
    "H_1:\\exists i \\in \\{1,3,4,7,8,9,10,11,13,14,15\\} | \\alpha_i \\neq 0\n",
    "$$"
   ]
  },
  {
   "cell_type": "code",
   "execution_count": 447,
   "id": "80932abb",
   "metadata": {},
   "outputs": [
    {
     "data": {
      "text/plain": [
       "\n",
       "\tstudentized Breusch-Pagan test\n",
       "\n",
       "data:  modelobp3\n",
       "BP = 17.658, df = 11, p-value = 0.08986\n"
      ]
     },
     "metadata": {},
     "output_type": "display_data"
    }
   ],
   "source": [
    "residuosnew <- modelonew3$residuals^2\n",
    "modelobp3 <- lm(residuosnew~x1+x3+x4+x7+x8+x9+x10+x11++x_NE+x_NC+x_S)\n",
    "bptest(modelobp3)"
   ]
  },
  {
   "cell_type": "markdown",
   "id": "d8dccd59",
   "metadata": {},
   "source": [
    "Al volver a realizar la prueba de Heterocedasticidad de Breusch-Pagan con los ajustes realizados nos damos cuenta bajo un nivel de confianza del 5% el modelo ya no tiene problemas de heteroscedasticidad. "
   ]
  },
  {
   "cell_type": "markdown",
   "id": "b21ecf24",
   "metadata": {},
   "source": [
    "###### Especificiadad\n",
    "Se desea comprobar si el modelo está bien específicado o no. Para lo cual se realiza una prueba de Ramsey RESET test\n",
    "En donde: \n",
    "$$\n",
    "H_0= \\text{No hay error de especificación}\n",
    "$$\n",
    "$$\n",
    "H_1=\\text{Sí hay error de especificación}\n",
    "$$"
   ]
  },
  {
   "cell_type": "code",
   "execution_count": 449,
   "id": "fc920d2e",
   "metadata": {},
   "outputs": [
    {
     "data": {
      "text/plain": [
       "\n",
       "\tRESET test\n",
       "\n",
       "data:  modelobp3\n",
       "RESET = 2.1279, df1 = 1, df2 = 427, p-value = 0.1454\n"
      ]
     },
     "metadata": {},
     "output_type": "display_data"
    }
   ],
   "source": [
    "library(lmtest)\n",
    "reset(modelobp3,power=3)"
   ]
  },
  {
   "cell_type": "markdown",
   "id": "9408c625",
   "metadata": {},
   "source": [
    "En la prueba podemos ver que el p-value es mayor 5%, lo que nos dice que no hay suficiente evidencia estadística, bajo una confiabilidad del 95% para rechazar la hipotesis nula. Es decir que el modelo no tiene problemas de específicación. "
   ]
  },
  {
   "cell_type": "markdown",
   "id": "ed611725",
   "metadata": {},
   "source": [
    "Despues de comprobar todos los supuestos y de realizar varias pruebas y correcciones pudimos ver que los datos tenían unos datos influyentes principalmente relacionados con la variable de población pero como se decidío omitir esa variable dada su alto VIF el problema de los datos influyentes ya no lo tenemos en el modelo pues la prueba de la distancia de Cook nos mostró que estadísticamente ya no había datos influyentes. Sin embargo en el modelo inicial sí se presentaban datos influyentes, más específicamente el dato no.6, se considera un dato influyente pues en este caso ese outlier modificaba drásticamente la recta de regresión estimada. \n",
    "Los datos influyentes se pueden presentar en efecto por errores de medición pero en este caso puntual, se debía más a los datos de una región en específico que generaban sesgo en los datos pues la cantidad de crimenes es muy alta cuando el resto de las variables está dentro de los rangos. \n",
    "Sin mebargo al comprobar los demas supuestos y decidir eliminar algunas variables ya no se presentaron problemas de datos influyentes. "
   ]
  },
  {
   "cell_type": "markdown",
   "id": "38913a6e",
   "metadata": {},
   "source": [
    "#### Se quiere estimar el efecto que tiene el desempleo sobre el número total de crímenes serios, dado que se cree que existe una relación de causalidad. En un modelo que considere bien especificado, encuentre el efecto que tiene el desempleo sobre Y . Justifique su respuesta, y explique por qué considera que su modelo está bien especificado. En particular, revise que no tenga variables omitidas importantes.\n"
   ]
  },
  {
   "cell_type": "code",
   "execution_count": 4,
   "id": "223cbe14",
   "metadata": {},
   "outputs": [
    {
     "data": {
      "text/plain": [
       "\n",
       "Call:\n",
       "lm(formula = y ~ x1 + x2 + x3 + x4 + x5 + x6 + x7 + x8 + x9 + \n",
       "    x10 + x11 + x12 + x_NE + x_NC + x_S)\n",
       "\n",
       "Residuals:\n",
       "   Min     1Q Median     3Q    Max \n",
       "-75514  -5991    237   5167 406705 \n",
       "\n",
       "Coefficients:\n",
       "              Estimate Std. Error t value Pr(>|t|)    \n",
       "(Intercept) -4.464e+04  3.721e+04  -1.200 0.230918    \n",
       "x1          -3.156e+00  9.069e-01  -3.480 0.000554 ***\n",
       "x2           2.336e-01  2.037e-02  11.464  < 2e-16 ***\n",
       "x3           2.239e+02  4.262e+02   0.525 0.599691    \n",
       "x4           1.032e+01  3.867e+02   0.027 0.978717    \n",
       "x5          -5.381e+00  3.199e+00  -1.682 0.093266 .  \n",
       "x6           3.603e+00  2.318e+00   1.554 0.120878    \n",
       "x7          -2.459e+02  3.532e+02  -0.696 0.486664    \n",
       "x8           1.146e+02  3.875e+02   0.296 0.767539    \n",
       "x9           1.162e+03  4.907e+02   2.368 0.018353 *  \n",
       "x10         -2.154e+02  6.845e+02  -0.315 0.753115    \n",
       "x11          2.323e+00  7.024e-01   3.307 0.001025 ** \n",
       "x12         -7.042e+00  9.494e-01  -7.417 6.57e-13 ***\n",
       "x_NE        -4.403e+03  4.420e+03  -0.996 0.319821    \n",
       "x_NC        -4.571e+03  4.208e+03  -1.086 0.277957    \n",
       "x_S         -2.347e+03  4.140e+03  -0.567 0.570979    \n",
       "---\n",
       "Signif. codes:  0 '***' 0.001 '**' 0.01 '*' 0.05 '.' 0.1 ' ' 1\n",
       "\n",
       "Residual standard error: 23410 on 424 degrees of freedom\n",
       "Multiple R-squared:  0.8439,\tAdjusted R-squared:  0.8384 \n",
       "F-statistic: 152.8 on 15 and 424 DF,  p-value: < 2.2e-16\n"
      ]
     },
     "metadata": {},
     "output_type": "display_data"
    }
   ],
   "source": [
    "crimenes <- read.table(\"Archivos/punto3.txt\", head = TRUE)\n",
    "\n",
    "y <- crimenes$CrimenesTotales\n",
    "x1 <- crimenes$Area\n",
    "x2 <- crimenes$Poblacion\n",
    "x3 <- crimenes$Per18a34\n",
    "x4 <- crimenes$PerMayor65\n",
    "x5 <- crimenes$MedicosActivos\n",
    "x6 <- crimenes$Camas\n",
    "x7 <- crimenes$PerBachilleres\n",
    "x8 <- crimenes$PerProfesionales\n",
    "x9 <- crimenes$PerPoblDebajoNivelPobreza\n",
    "x10 <- crimenes$PerDesempleados\n",
    "x11 <- crimenes$IndicePerCapita\n",
    "x12 <- crimenes$Ingresos\n",
    "\n",
    "x_NE <- ifelse(crimenes$RegionGeo == 1,1,0)\n",
    "x_NC <- ifelse(crimenes$RegionGeo == 2,1,0)\n",
    "x_S <- ifelse(crimenes$RegionGeo == 3,1,0)\n",
    "x_w <- ifelse(crimenes$RegionGeo == 4,1,0)\n",
    "\n",
    "crimenes2 <- cbind(crimenes[,4:16],x_NE,x_NC,x_S)\n",
    "\n",
    "modelopunto3 <- lm(y~x1+x2+x3+x4+x5+x6+x7+x8+x9+x10+x11+x12+x_NE+x_NC+x_S)\n",
    "summary(modelopunto3)"
   ]
  },
  {
   "cell_type": "code",
   "execution_count": null,
   "id": "5061b563",
   "metadata": {},
   "outputs": [],
   "source": [
    "#Var(βˆ∗2) ≥ β2βT\n"
   ]
  },
  {
   "cell_type": "markdown",
   "id": "bdfd49d9",
   "metadata": {},
   "source": [
    "## Parte C. Problemas aplicados con datos reales."
   ]
  },
  {
   "cell_type": "markdown",
   "id": "196304cb",
   "metadata": {},
   "source": [
    "### Problema 4. Ventas de secadoras eléctricas en Bogotá."
   ]
  },
  {
   "cell_type": "markdown",
   "id": "13c53b98",
   "metadata": {},
   "source": [
    "#### 1. Revise todos los supuesto del modelo que sean pertinentes. Realice las pruebas que considere necesarias."
   ]
  },
  {
   "cell_type": "markdown",
   "id": "5f6982bf",
   "metadata": {},
   "source": [
    "Los supuestos del modelo que se deberían revizar corresponde a  verificar normalidad, autocorrelación, multicolinealidad,  heteroscedasticidad y, tambien se debe verificar si existen o no datos outliers e influyentes. Dado lo anterior se realizan algunas pruebas correspondiente para evaluar cada uno de los supuestos presentados. \n",
    "\n",
    "Antes de comenzar se cargan los datos y se general em modelo de regresión lineal correspondiente y se debe comprobar la significancia del modelo"
   ]
  },
  {
   "cell_type": "code",
   "execution_count": 86,
   "id": "39ba6802",
   "metadata": {
    "scrolled": true
   },
   "outputs": [
    {
     "data": {
      "text/html": [
       "<table class=\"dataframe\">\n",
       "<caption>A data.frame: 6 × 5</caption>\n",
       "<thead>\n",
       "\t<tr><th></th><th scope=col>ventas</th><th scope=col>precio</th><th scope=col>consumo</th><th scope=col>publicidad</th><th scope=col>competencia</th></tr>\n",
       "\t<tr><th></th><th scope=col>&lt;dbl&gt;</th><th scope=col>&lt;dbl&gt;</th><th scope=col>&lt;dbl&gt;</th><th scope=col>&lt;dbl&gt;</th><th scope=col>&lt;dbl&gt;</th></tr>\n",
       "</thead>\n",
       "<tbody>\n",
       "\t<tr><th scope=row>1</th><td>-51.86530</td><td>12.730041</td><td>5.120954</td><td> 7.883980</td><td>3.358127</td></tr>\n",
       "\t<tr><th scope=row>2</th><td>-24.59515</td><td>12.923566</td><td>9.128683</td><td> 9.978578</td><td>8.737131</td></tr>\n",
       "\t<tr><th scope=row>3</th><td>-30.71430</td><td> 7.123548</td><td>8.091998</td><td> 9.577806</td><td>2.688939</td></tr>\n",
       "\t<tr><th scope=row>4</th><td>-39.84182</td><td>10.145909</td><td>7.104766</td><td>10.780311</td><td>5.617165</td></tr>\n",
       "\t<tr><th scope=row>5</th><td>-60.28946</td><td>11.641656</td><td>6.877741</td><td> 9.192014</td><td>1.909947</td></tr>\n",
       "\t<tr><th scope=row>6</th><td>-64.63831</td><td>12.139542</td><td>7.248237</td><td> 7.045200</td><td>2.517575</td></tr>\n",
       "</tbody>\n",
       "</table>\n"
      ],
      "text/latex": [
       "A data.frame: 6 × 5\n",
       "\\begin{tabular}{r|lllll}\n",
       "  & ventas & precio & consumo & publicidad & competencia\\\\\n",
       "  & <dbl> & <dbl> & <dbl> & <dbl> & <dbl>\\\\\n",
       "\\hline\n",
       "\t1 & -51.86530 & 12.730041 & 5.120954 &  7.883980 & 3.358127\\\\\n",
       "\t2 & -24.59515 & 12.923566 & 9.128683 &  9.978578 & 8.737131\\\\\n",
       "\t3 & -30.71430 &  7.123548 & 8.091998 &  9.577806 & 2.688939\\\\\n",
       "\t4 & -39.84182 & 10.145909 & 7.104766 & 10.780311 & 5.617165\\\\\n",
       "\t5 & -60.28946 & 11.641656 & 6.877741 &  9.192014 & 1.909947\\\\\n",
       "\t6 & -64.63831 & 12.139542 & 7.248237 &  7.045200 & 2.517575\\\\\n",
       "\\end{tabular}\n"
      ],
      "text/markdown": [
       "\n",
       "A data.frame: 6 × 5\n",
       "\n",
       "| <!--/--> | ventas &lt;dbl&gt; | precio &lt;dbl&gt; | consumo &lt;dbl&gt; | publicidad &lt;dbl&gt; | competencia &lt;dbl&gt; |\n",
       "|---|---|---|---|---|---|\n",
       "| 1 | -51.86530 | 12.730041 | 5.120954 |  7.883980 | 3.358127 |\n",
       "| 2 | -24.59515 | 12.923566 | 9.128683 |  9.978578 | 8.737131 |\n",
       "| 3 | -30.71430 |  7.123548 | 8.091998 |  9.577806 | 2.688939 |\n",
       "| 4 | -39.84182 | 10.145909 | 7.104766 | 10.780311 | 5.617165 |\n",
       "| 5 | -60.28946 | 11.641656 | 6.877741 |  9.192014 | 1.909947 |\n",
       "| 6 | -64.63831 | 12.139542 | 7.248237 |  7.045200 | 2.517575 |\n",
       "\n"
      ],
      "text/plain": [
       "  ventas    precio    consumo  publicidad competencia\n",
       "1 -51.86530 12.730041 5.120954  7.883980  3.358127   \n",
       "2 -24.59515 12.923566 9.128683  9.978578  8.737131   \n",
       "3 -30.71430  7.123548 8.091998  9.577806  2.688939   \n",
       "4 -39.84182 10.145909 7.104766 10.780311  5.617165   \n",
       "5 -60.28946 11.641656 6.877741  9.192014  1.909947   \n",
       "6 -64.63831 12.139542 7.248237  7.045200  2.517575   "
      ]
     },
     "metadata": {},
     "output_type": "display_data"
    },
    {
     "data": {
      "text/plain": [
       "\n",
       "Call:\n",
       "lm(formula = y ~ x1 + x2 + x3 + x4)\n",
       "\n",
       "Residuals:\n",
       "    Min      1Q  Median      3Q     Max \n",
       "-53.310  -7.222  -1.668   9.079  38.884 \n",
       "\n",
       "Coefficients:\n",
       "            Estimate Std. Error t value Pr(>|t|)    \n",
       "(Intercept)  19.1644    12.9062   1.485  0.14289    \n",
       "x1           -3.7720     0.8316  -4.536 2.87e-05 ***\n",
       "x2           -9.0379     0.9525  -9.488 1.77e-13 ***\n",
       "x3            3.0562     1.0849   2.817  0.00658 ** \n",
       "x4            2.9156     0.9476   3.077  0.00317 ** \n",
       "---\n",
       "Signif. codes:  0 '***' 0.001 '**' 0.01 '*' 0.05 '.' 0.1 ' ' 1\n",
       "\n",
       "Residual standard error: 15.73 on 59 degrees of freedom\n",
       "Multiple R-squared:  0.6911,\tAdjusted R-squared:  0.6702 \n",
       "F-statistic:    33 on 4 and 59 DF,  p-value: 1.901e-14\n"
      ]
     },
     "metadata": {},
     "output_type": "display_data"
    }
   ],
   "source": [
    "Secadoras <- read.table(\"Archivos/secadoras.txt\", head = TRUE)\n",
    "head(Secadoras)\n",
    "data = Secadoras\n",
    "\n",
    "y = Secadoras$ventas\n",
    "x1 = Secadoras$precio\n",
    "x2 = Secadoras$consumo\n",
    "x3 = Secadoras$publicidad\n",
    "x4 = Secadoras$competencia\n",
    "\n",
    "##Modelo\n",
    "Reg = lm(y ~ x1 + x2 + x3 + x4)\n",
    "summary(Reg)"
   ]
  },
  {
   "cell_type": "markdown",
   "id": "3a1bb04d",
   "metadata": {},
   "source": [
    "Según lo observado, con un nivel de significancia del 5%, se concluye que el modelo es globalmente significativo y que todas sus variables son individualmente significativas. Sin embargo, el intercepto no es significativo."
   ]
  },
  {
   "cell_type": "markdown",
   "id": "d93d5c9d",
   "metadata": {},
   "source": [
    "###### Outliers e Influyentes\n",
    "Como primer paso se procede a revisar los datos outliers de manera gráfica mediante los residuos de la siguiente manera: "
   ]
  },
  {
   "cell_type": "code",
   "execution_count": 87,
   "id": "3ba58272",
   "metadata": {},
   "outputs": [
    {
     "data": {
      "image/png": "[encoded data removed]",
      "text/plain": [
       "plot without title"
      ]
     },
     "metadata": {
      "image/png": {
       "height": 420,
       "width": 420
      }
     },
     "output_type": "display_data"
    }
   ],
   "source": [
    "#Residuales\n",
    "plot(residuos)\n",
    "abline(0,0, col=2)"
   ]
  },
  {
   "cell_type": "markdown",
   "id": "18eeee45",
   "metadata": {},
   "source": [
    "En la anterior gráfica es posible observar que hay algunos datos (puntos) que se encuentran alejados del ceo, o de la linea roja, dado esto, se procede a realizar la comprobación estadística que empieza al estudentizar los residuos de la siguiente manera:"
   ]
  },
  {
   "cell_type": "code",
   "execution_count": 88,
   "id": "41218e55",
   "metadata": {
    "scrolled": true
   },
   "outputs": [
    {
     "data": {
      "image/png": "[encoded data removed]",
      "text/plain": [
       "plot without title"
      ]
     },
     "metadata": {
      "image/png": {
       "height": 420,
       "width": 420
      }
     },
     "output_type": "display_data"
    }
   ],
   "source": [
    "#estudentizar \n",
    "es <- Reg$residuals\n",
    "x <- as.matrix(cbind(rep(1,dim(data)[1]),data[,2:5]))\n",
    "H <- x%*%solve(t(x)%*%x)%*%t(x)\n",
    "leve <- diag(H)\n",
    "\n",
    "estudentizado <- Res/sqrt(1-leve)\n",
    "plot(estudentizado)                \n",
    "abline(0,0,col=2) "
   ]
  },
  {
   "cell_type": "markdown",
   "id": "c056e9de",
   "metadata": {},
   "source": [
    "Al ver las gráficas se puede pensar en que sí hay indicios de datos outliers pero se debe comprobar si en efecto hay datos outliers o no."
   ]
  },
  {
   "cell_type": "code",
   "execution_count": 89,
   "id": "da9d5dd7",
   "metadata": {},
   "outputs": [
    {
     "data": {
      "text/html": [
       "0.214146318325839"
      ],
      "text/latex": [
       "0.214146318325839"
      ],
      "text/markdown": [
       "0.214146318325839"
      ],
      "text/plain": [
       "[1] 0.2141463"
      ]
     },
     "metadata": {},
     "output_type": "display_data"
    },
    {
     "data": {
      "text/html": [
       "0.125"
      ],
      "text/latex": [
       "0.125"
      ],
      "text/markdown": [
       "0.125"
      ],
      "text/plain": [
       "[1] 0.125"
      ]
     },
     "metadata": {},
     "output_type": "display_data"
    }
   ],
   "source": [
    "#estudentizar \n",
    "p <- dim(secadoras)[2]-1\n",
    "n <- length(x1)\n",
    "ValorComparar <- (2*p)/n\n",
    "max(leve)\n",
    "ValorComparar "
   ]
  },
  {
   "cell_type": "code",
   "execution_count": 91,
   "id": "4c46f208",
   "metadata": {},
   "outputs": [
    {
     "data": {
      "text/html": [
       "2.77418989199622"
      ],
      "text/latex": [
       "2.77418989199622"
      ],
      "text/markdown": [
       "2.77418989199622"
      ],
      "text/plain": [
       "[1] 2.77419"
      ]
     },
     "metadata": {},
     "output_type": "display_data"
    },
    {
     "data": {
      "text/html": [
       "1.67109303210389"
      ],
      "text/latex": [
       "1.67109303210389"
      ],
      "text/markdown": [
       "1.67109303210389"
      ],
      "text/plain": [
       "[1] 1.671093"
      ]
     },
     "metadata": {},
     "output_type": "display_data"
    }
   ],
   "source": [
    "# Datos outliers\n",
    "t <- Res*sqrt((n-p-1)/(sum((y-predict(Reg))^2)*(1-leve)-Res^2))\n",
    "max(t)\n",
    "qt(0.95,n-p-1)"
   ]
  },
  {
   "cell_type": "markdown",
   "id": "7a6fce82",
   "metadata": {},
   "source": [
    "Se evalúa la existencia de datos influyentes con un valor de 2.7741 contra una $t_{59}$=1.671 y se puede concluir con un nivel de confianza del 95% que existen datos outliers dado que EP < t."
   ]
  },
  {
   "cell_type": "code",
   "execution_count": 92,
   "id": "143060cc",
   "metadata": {},
   "outputs": [
    {
     "data": {
      "text/html": [
       "0.193887012814629"
      ],
      "text/latex": [
       "0.193887012814629"
      ],
      "text/markdown": [
       "0.193887012814629"
      ],
      "text/plain": [
       "[1] 0.193887"
      ]
     },
     "metadata": {},
     "output_type": "display_data"
    },
    {
     "data": {
      "text/html": [
       "0.848732128958395"
      ],
      "text/latex": [
       "0.848732128958395"
      ],
      "text/markdown": [
       "0.848732128958395"
      ],
      "text/plain": [
       "[1] 0.8487321"
      ]
     },
     "metadata": {},
     "output_type": "display_data"
    }
   ],
   "source": [
    "# Datos influyentes - Distancia de Cook\n",
    "cd <- cooks.distance(modelo)\n",
    "max(cd)\n",
    "qf(0.5,p,n-p)"
   ]
  },
  {
   "cell_type": "markdown",
   "id": "ad58f4ae",
   "metadata": {},
   "source": [
    "La prueba utilizada para saber si hay o no datos atipicos fue la distancia de Cook. La cual arrojó un valor de 0.1939 que al compararlo con la distribución F(p,n-p)=0,8487 se puede concluir con una significancia del 5% que no hay datos influyentes en el modelo, pues el valor de Di no es lo suficiente mente grande comparado con la mediana de\n",
    "la distribución F mencionada. "
   ]
  },
  {
   "cell_type": "markdown",
   "id": "e9623aac",
   "metadata": {},
   "source": [
    "###### Normalidad\n",
    "Para el caso del supuesto de normalidad lo primero que se hace es obtener los residuos y a partir de esto, se gráfica el ajuste a través de una Q-Q Plot como lo vemos a continuación:"
   ]
  },
  {
   "cell_type": "code",
   "execution_count": null,
   "id": "cdda0a15",
   "metadata": {},
   "outputs": [],
   "source": [
    "#Normalidad\n",
    "residuos <- modelo$residuals\n",
    "qqnorm(residuos)\n",
    "abline(0,1,col=2)"
   ]
  },
  {
   "cell_type": "markdown",
   "id": "99226cdc",
   "metadata": {},
   "source": [
    "En la anterior gráfica se puede ver que el comportamiento de los datos no es normal debido a que están muy lejanos de la recta con pendiente 1 que pasa por el origen. \n",
    "\n",
    "Sin embargo, como es una observación gráfica, procedemos a comprobar lo anteriro de manera estadística por medio de la la prueba Shapiro en donde se plantea la siguiente prueba de hipótesis:\n",
    "\n",
    "$$\n",
    "H_0: e_{i} \\sim \\ Normal\n",
    "$$\n",
    "\n",
    "$$\n",
    "H_1:\\lnot\\ H_0\n",
    "$$\n"
   ]
  },
  {
   "cell_type": "code",
   "execution_count": null,
   "id": "27b5f98e",
   "metadata": {},
   "outputs": [],
   "source": [
    "#Normalidad - Shapiro \n",
    "shapiro.test(residuos)"
   ]
  },
  {
   "cell_type": "markdown",
   "id": "e98021eb",
   "metadata": {},
   "source": [
    "Con un nivel de confianza del 95% se rechaza la hipotesis nula, es decir que se puede concluir que los residuos del modelo no se distribuyen normales dado que al realizar la prueba de Shapiro el p-value = 0.04867 lo cual es menor a 5%"
   ]
  },
  {
   "cell_type": "markdown",
   "id": "d37c98ad",
   "metadata": {},
   "source": [
    "###### Autocorrelación\n",
    "Para evaluar si hay o no autocorrelación entre los datos del modelo se decir realizar dos pruebas, la primera es la prueba de Durbin-Watson y la segunda la de Breusch-Godfrey.\n",
    "\n",
    "* Prueba Durbin-Watson:\n",
    "$$\n",
    "H_0:\\rho=0\n",
    "$$\n",
    "\n",
    "$$\n",
    "H_1: \\rho>0\n",
    "$$\n"
   ]
  },
  {
   "cell_type": "code",
   "execution_count": 95,
   "id": "66252d31",
   "metadata": {},
   "outputs": [],
   "source": [
    "#Autocorrelacion\n",
    "dwtest(modelo)"
   ]
  },
  {
   "cell_type": "markdown",
   "id": "5af5a518",
   "metadata": {},
   "source": [
    "Como se puede ver, el resultado de la prueba de Durbin.Watson arrojó un p-value = 0.7863, por lo que no se rechaza la hipotesis nula dado que el p-value > 5%, es decir que con una confianza del 95% que no hay problemas de autocorrelación. \n",
    "\n"
   ]
  },
  {
   "cell_type": "markdown",
   "id": "8b6b86b5",
   "metadata": {},
   "source": [
    "* Prueba Breusch-Godfrey:\n",
    "$$\n",
    "H_0: \\rho_i=0  \\ \\ \\forall \\ i\\in N\n",
    "$$\n",
    "\n",
    "$$\n",
    "H_1:\\lnot\\ H_0\n",
    "$$"
   ]
  },
  {
   "cell_type": "code",
   "execution_count": null,
   "id": "c23a42c8",
   "metadata": {},
   "outputs": [],
   "source": [
    "#Autocorrelacion\n",
    "bgtest(modelo)"
   ]
  },
  {
   "cell_type": "markdown",
   "id": "1d8ecedc",
   "metadata": {},
   "source": [
    "Como se puede ver, el resultado de la prueba de Breusch-Godfrey arrojó un p-value = 0.4284, por lo que no se rechaza la hipotesis nula dado que el p-value > 5%, es decir que con una confianza del 95% que no hay problemas de autocorrelación. \n",
    "\n",
    "\n",
    "Es claro, por las dos pruebas realizadas que se puede concluir que los datos cumplen con el supuesto de la no autocorrelación. "
   ]
  },
  {
   "cell_type": "markdown",
   "id": "61dc219e",
   "metadata": {},
   "source": [
    "###### Multicolinealidad\n",
    "Para ver si hay o no problemas de multicolinealidad lo primero que se decide hacer es graficar el comportamiento de las variables"
   ]
  },
  {
   "cell_type": "code",
   "execution_count": 97,
   "id": "d1e98109",
   "metadata": {},
   "outputs": [],
   "source": [
    "#Multicolinealidad\n",
    "pairs(secadoras[,2:5])"
   ]
  },
  {
   "cell_type": "markdown",
   "id": "1726ddcb",
   "metadata": {},
   "source": [
    "Gráficamente no es claro que haya una tendencia entre los datos, pues se ve que las nubes de puntos no tienen una tendencia aparente, es decir que se puede pensar que no hay problemas de multicolinealidad. Sin embargo, para estar seguros se decide obtener los VIF del modelo. Si se llega a obtener algun VIF con un valor muy grande (aprox. mayor a 10) se considera que hay problemas de multicolinealidad. "
   ]
  },
  {
   "cell_type": "code",
   "execution_count": 98,
   "id": "517c6258",
   "metadata": {},
   "outputs": [],
   "source": [
    "vif(modelo)"
   ]
  },
  {
   "cell_type": "markdown",
   "id": "7bef77b6",
   "metadata": {},
   "source": [
    "Como se puede ver en cada uno de los VIF, ninguno es mayor a 10, en realidad son valores muy bajos pues no sobre pasan el 1.2, por tal motivo se puede concluir que el modelo no tiene problemas de multicolinealidad. "
   ]
  },
  {
   "cell_type": "markdown",
   "id": "8ab2035e",
   "metadata": {},
   "source": [
    "###### Heterocedasticidad\n",
    "Se procede ahora a evaluar el supuesto de homocedasticidad, para esto se realiza la prueba de Breusch-Pagan que consiste en evaluar el siguiente modelo:\n",
    "$$\n",
    "e_{i^2}=\\alpha_0+\\alpha_1X_{1i}+\\alpha_2X_{2i}+\\alpha_3X_{3i}+\\alpha_4X_{4i}+w_i\n",
    "$$\n",
    "\n",
    "y se plantea la siguiente prueba de hipotesis: \n",
    "$$\n",
    "H_0: \\alpha_1 = \\alpha_2 =\\alpha_3 =\\alpha_4= 0\n",
    "$$\n",
    "\n",
    "$$\n",
    "H_1:\\exists i \\in \\{1,2,3,4\\} | \\alpha_i \\neq 0\n",
    "$$"
   ]
  },
  {
   "cell_type": "code",
   "execution_count": null,
   "id": "498f1536",
   "metadata": {},
   "outputs": [],
   "source": [
    "#Heteroscedasticidad\n",
    "bptest(modelo)"
   ]
  },
  {
   "cell_type": "markdown",
   "id": "fd1eb8a4",
   "metadata": {},
   "source": [
    "Al realizar la prueba se puede concluir que con un nivel de confianza del 95% hay suficiente evidencia estadística para rechazar $H_0$, es decir que efectivamente hay problemas de heteroscedasticidad, dado que el p-value es 0.03641 lo cual es menor a 5% que es el nivel de significancia. "
   ]
  },
  {
   "cell_type": "markdown",
   "id": "8b503c94",
   "metadata": {},
   "source": [
    "Dado que se encontró problemas de heteroscedasticidad, se realizó la evaluación de las variables en las cuales se encuentran problemas de heteroscedasticidad dentro del modelo:"
   ]
  },
  {
   "cell_type": "code",
   "execution_count": null,
   "id": "cc223613",
   "metadata": {},
   "outputs": [],
   "source": [
    "residuos2 <- residuos^2\n",
    "n <- length(y)\n",
    "\n",
    "model1 <- lm(residuos2~precio) \n",
    "pvalor1 <- 1-pchisq(n*summary(model1)$r.squared,1)\n",
    "\n",
    "model2 <- lm(residuos2~consumo) \n",
    "pvalor2 <- 1-pchisq(n*summary(model2)$r.squared,1)\n",
    "\n",
    "model3 <- lm(residuos2~publicidad) \n",
    "pvalor3 <- 1-pchisq(n*summary(model3)$r.squared,1)\n",
    "\n",
    "model4 <- lm(residuos2~competencia) \n",
    "pvalor4 <- 1-pchisq(n*summary(model4)$r.squared,1)\n",
    "\n",
    "pvalores <- c(pvalor1,pvalor2,pvalor3,pvalor4)\n",
    "pvalores"
   ]
  },
  {
   "cell_type": "markdown",
   "id": "5d61c913",
   "metadata": {},
   "source": [
    "Al observar los p-values de cada una de las variables se puede concluir que las variables de Consumo y Competencia son las que están generando los problemas de heteroscedasticidad esto dado que los p-value de estas dos variables son menores a nuestro nivel de significancia del 5%. "
   ]
  },
  {
   "cell_type": "markdown",
   "id": "3f460bb8",
   "metadata": {},
   "source": [
    "###### Independencia\n",
    "Para corroborar si los datos son independiente se realiza la prueba de Durbin-Watson"
   ]
  },
  {
   "cell_type": "code",
   "execution_count": 101,
   "id": "93ea0ace",
   "metadata": {},
   "outputs": [
    {
     "data": {
      "text/plain": [
       "\n",
       "\tDurbin-Watson test\n",
       "\n",
       "data:  Reg\n",
       "DW = 2.1838, p-value = 0.7863\n",
       "alternative hypothesis: true autocorrelation is greater than 0\n"
      ]
     },
     "metadata": {},
     "output_type": "display_data"
    },
    {
     "data": {
      "image/png": "[encoded data removed]",
      "text/plain": [
       "plot without title"
      ]
     },
     "metadata": {
      "image/png": {
       "height": 420,
       "width": 420
      }
     },
     "output_type": "display_data"
    },
    {
     "data": {
      "image/png": "[encoded data removed]",
      "text/plain": [
       "plot without title"
      ]
     },
     "metadata": {
      "image/png": {
       "height": 420,
       "width": 420
      }
     },
     "output_type": "display_data"
    }
   ],
   "source": [
    "dwtest(Reg)\n",
    "plot(residuos,type=\"b\",lwd=2)\n",
    "abline(0,0, col=2, lwd=2)\n",
    "plot(residuos[1:(n-1)],residuos[2:n],lwd=2)\n",
    "abline(0,0, col=2, lwd=2)"
   ]
  },
  {
   "cell_type": "markdown",
   "id": "d2d050f1",
   "metadata": {},
   "source": [
    "Tanto con las gráficas como con la prueba se puede concluir bajo un nivel de significancia del 5% que no se rechaza la hipótesis nula por lo que el coeficiente de autocorrelación es cero y por lo tanto no se viola el supuesto de independencia. "
   ]
  },
  {
   "cell_type": "markdown",
   "id": "553c98af",
   "metadata": {},
   "source": [
    "#### 2. Encuentre una manera de solucionar el problema de las varianzas."
   ]
  },
  {
   "cell_type": "markdown",
   "id": "7b552573",
   "metadata": {},
   "source": [
    "Lo primero es recordar la prueba de heterocedasticidad, es decir la pruena de Breusch-Pagan que consiste en evaluar el siguiente modelo:\n",
    "$$\n",
    "e_{i^2}=\\alpha_0+\\alpha_1X_{1i}+\\alpha_2X_{2i}+\\alpha_3X_{3i}+\\alpha_4X_{4i}+w_i\n",
    "$$\n",
    "\n",
    "y se plantea la siguiente prueba de hipotesis: \n",
    "$$\n",
    "H_0: \\alpha_1 = \\alpha_2 =\\alpha_3 =\\alpha_4= 0\n",
    "$$\n",
    "\n",
    "$$\n",
    "H_1:\\exists i \\in \\{1,2,3,4\\} | \\alpha_i \\neq 0\n",
    "$$"
   ]
  },
  {
   "cell_type": "code",
   "execution_count": 102,
   "id": "4011dab8",
   "metadata": {},
   "outputs": [
    {
     "data": {
      "text/plain": [
       "\n",
       "\tstudentized Breusch-Pagan test\n",
       "\n",
       "data:  modelo\n",
       "BP = 10.251, df = 4, p-value = 0.03641\n"
      ]
     },
     "metadata": {},
     "output_type": "display_data"
    }
   ],
   "source": [
    "#Heteroscedasticidad\n",
    "bptest(modelo)"
   ]
  },
  {
   "cell_type": "markdown",
   "id": "deececf0",
   "metadata": {},
   "source": [
    "Al realizar la prueba se puede concluir que con un nivel de confianza del 95% hay suficiente evidencia estadística para rechazar $H_0$, es decir que efectivamente hay problemas de heteroscedasticidad, dado que el p-value es 0.03641 lo cual es menor a 5% que es el nivel de significancia. "
   ]
  },
  {
   "cell_type": "markdown",
   "id": "fa4d75d4",
   "metadata": {},
   "source": [
    "Dado que se encontró problemas de heteroscedasticidad, se realizó la evaluación de las variables en las cuales se encuentran problemas de heteroscedasticidad dentro del modelo:"
   ]
  },
  {
   "cell_type": "code",
   "execution_count": 103,
   "id": "2d7c0f76",
   "metadata": {
    "scrolled": true
   },
   "outputs": [
    {
     "data": {
      "text/html": [
       "<style>\n",
       ".list-inline {list-style: none; margin:0; padding: 0}\n",
       ".list-inline>li {display: inline-block}\n",
       ".list-inline>li:not(:last-child)::after {content: \"\\00b7\"; padding: 0 .5ex}\n",
       "</style>\n",
       "<ol class=list-inline><li>0.906034166224694</li><li>0.0249270999553429</li><li>0.654305765582234</li><li>0.0227439710579094</li></ol>\n"
      ],
      "text/latex": [
       "\\begin{enumerate*}\n",
       "\\item 0.906034166224694\n",
       "\\item 0.0249270999553429\n",
       "\\item 0.654305765582234\n",
       "\\item 0.0227439710579094\n",
       "\\end{enumerate*}\n"
      ],
      "text/markdown": [
       "1. 0.906034166224694\n",
       "2. 0.0249270999553429\n",
       "3. 0.654305765582234\n",
       "4. 0.0227439710579094\n",
       "\n",
       "\n"
      ],
      "text/plain": [
       "[1] 0.90603417 0.02492710 0.65430577 0.02274397"
      ]
     },
     "metadata": {},
     "output_type": "display_data"
    }
   ],
   "source": [
    "residuos2 <- residuos^2\n",
    "n <- length(y)\n",
    "\n",
    "model1 <- lm(residuos2~precio) \n",
    "pvalor1 <- 1-pchisq(n*summary(model1)$r.squared,1)\n",
    "\n",
    "model2 <- lm(residuos2~consumo) \n",
    "pvalor2 <- 1-pchisq(n*summary(model2)$r.squared,1)\n",
    "\n",
    "model3 <- lm(residuos2~publicidad) \n",
    "pvalor3 <- 1-pchisq(n*summary(model3)$r.squared,1)\n",
    "\n",
    "model4 <- lm(residuos2~competencia) \n",
    "pvalor4 <- 1-pchisq(n*summary(model4)$r.squared,1)\n",
    "\n",
    "pvalores <- c(pvalor1,pvalor2,pvalor3,pvalor4)\n",
    "pvalores"
   ]
  },
  {
   "cell_type": "markdown",
   "id": "af878979",
   "metadata": {},
   "source": [
    "Al observar los p-values de cada una de las variables se puede concluir que las variables de Consumo y Competencia son las que están generando los problemas de heteroscedasticidad esto dado que los p-value de estas dos variables son menores a nuestro nivel de significancia del 5%. "
   ]
  },
  {
   "cell_type": "markdown",
   "id": "f238f0c6",
   "metadata": {},
   "source": [
    "Para solucionar el problema de las varianzas se debe tener en cuenta que las variables donde se demostró que había los problemas eran: consumo y competencia. Por lo que para solucionarlo se procede a utilizar Mínimos Cuadrados Ponderados Factibles (FWLS). \n",
    "\n",
    "Lo primero que se debe hacer es calcular la matriz:\n",
    "$$\n",
    "\\hat{\\Omega}=\\left[\\begin{matrix}{\\hat{\\sigma}}_1^2&\\cdots&0\\\\\\vdots&\\ddots&\\vdots\\\\0&\\cdots&{\\hat{\\sigma}}_n^2\\\\\\end{matrix}\\right]\n",
    "$$\n",
    "Para poder encontrar los betas y las varianzas se emplean las siguientes ecuaciones:\n",
    "$$\n",
    "{\\hat{\\beta}}_{FWLS}=(X^T {\\hat{\\Omega}}^{-1} X)^{-1}(X^T {\\hat{\\Omega}}^{-1} Y)\n",
    "$$\n",
    "\n",
    "$$\n",
    "{\\widehat{Var}}_{FWLS}=(X^T {\\hat{\\Omega}}^{-1} X)^{-1}((X^T \\hat{\\Lambda} X))(X^T {\\hat{\\Omega}}^{-1} Y)^{-1}\n",
    "$$\n",
    "\n",
    "Sabiendo que:\n",
    "$$\n",
    "\\hat{\\Lambda}=\\left[\\begin{matrix}\\frac{\\left(e_{j_1}\\right)^2}{\\left({\\hat{\\sigma}}_1^2\\right)^2}&\\cdots&0\\\\\\vdots&\\ddots&\\vdots\\\\0&\\cdots&\\frac{\\left(e_{j_n}\\right)^2}{\\left({\\hat{\\sigma}}_n^2\\right)^2}\\\\\\end{matrix}\\right]\n",
    "$$"
   ]
  },
  {
   "cell_type": "code",
   "execution_count": 104,
   "id": "23de74ad",
   "metadata": {
    "scrolled": true
   },
   "outputs": [
    {
     "data": {
      "text/plain": [
       "\n",
       "Call:\n",
       "lm(formula = logResiduos2 ~ x2)\n",
       "\n",
       "Residuals:\n",
       "    Min      1Q  Median      3Q     Max \n",
       "-4.5056 -1.0302  0.0569  1.0845  3.4462 \n",
       "\n",
       "Coefficients:\n",
       "            Estimate Std. Error t value Pr(>|t|)   \n",
       "(Intercept)  2.40209    0.70245   3.420  0.00111 **\n",
       "x2           0.24809    0.09814   2.528  0.01404 * \n",
       "---\n",
       "Signif. codes:  0 '***' 0.001 '**' 0.01 '*' 0.05 '.' 0.1 ' ' 1\n",
       "\n",
       "Residual standard error: 1.672 on 62 degrees of freedom\n",
       "Multiple R-squared:  0.09344,\tAdjusted R-squared:  0.07882 \n",
       "F-statistic:  6.39 on 1 and 62 DF,  p-value: 0.01404\n"
      ]
     },
     "metadata": {},
     "output_type": "display_data"
    }
   ],
   "source": [
    "fit <- lm(y~x1 + x2 + x3 + x4)\n",
    "x <- as.matrix(cbind(rep(1,n), data[,2:5]))\n",
    "x22 <- as.matrix(cbind(rep(1,n), data[,3]))\n",
    "logResiduos2 <- log(residuos2)\n",
    "regresionlog <- lm(logResiduos2~x2)\n",
    "summary(regresionlog)"
   ]
  },
  {
   "cell_type": "markdown",
   "id": "7f5bcedf",
   "metadata": {},
   "source": [
    "Con el modelo de los residuales al cuadrado y calculado el logaritmo de esos residuales al cuadrado se procede a calcular $\\hat{\\sigma}^2 = exp(x_2*\\alpha)$"
   ]
  },
  {
   "cell_type": "code",
   "execution_count": 105,
   "id": "b25b6c17",
   "metadata": {},
   "outputs": [],
   "source": [
    "alpha <- regresionlog$coefficients\n",
    "yhat <- exp(x22 %*% alpha)\n",
    "sigma2 <- diag(as.numeric(yhat))\n",
    "Omega <- sigma2\n",
    "xwx <- solve(t(x) %*% solve(Omega) %*% x)\n",
    "\n",
    "betasFWLS <- (xwx) %*% t(x) %*% solve(Omega) %*% y"
   ]
  },
  {
   "cell_type": "markdown",
   "id": "e6953ae8",
   "metadata": {},
   "source": [
    "Con lo anterior ya se tiene todo lo necesario para calcular los ${\\hat{\\beta}}_{FWLS}$"
   ]
  },
  {
   "cell_type": "code",
   "execution_count": 106,
   "id": "57724ce3",
   "metadata": {},
   "outputs": [
    {
     "data": {
      "text/html": [
       "<style>\n",
       ".dl-inline {width: auto; margin:0; padding: 0}\n",
       ".dl-inline>dt, .dl-inline>dd {float: none; width: auto; display: inline-block}\n",
       ".dl-inline>dt::after {content: \":\\0020\"; padding-right: .5ex}\n",
       ".dl-inline>dt:not(:first-of-type) {padding-left: .5ex}\n",
       "</style><dl class=dl-inline><dt>rep(1, n)</dt><dd>61.8765895515794</dd><dt>precio</dt><dd>0.397257678705449</dd><dt>consumo</dt><dd>0.743750184339831</dd><dt>publicidad</dt><dd>0.664658090046234</dd><dt>competencia</dt><dd>0.703219120311748</dd></dl>\n"
      ],
      "text/latex": [
       "\\begin{description*}\n",
       "\\item[rep(1, n)] 61.8765895515794\n",
       "\\item[precio] 0.397257678705449\n",
       "\\item[consumo] 0.743750184339831\n",
       "\\item[publicidad] 0.664658090046234\n",
       "\\item[competencia] 0.703219120311748\n",
       "\\end{description*}\n"
      ],
      "text/markdown": [
       "rep(1, n)\n",
       ":   61.8765895515794precio\n",
       ":   0.397257678705449consumo\n",
       ":   0.743750184339831publicidad\n",
       ":   0.664658090046234competencia\n",
       ":   0.703219120311748\n",
       "\n"
      ],
      "text/plain": [
       "  rep(1, n)      precio     consumo  publicidad competencia \n",
       " 61.8765896   0.3972577   0.7437502   0.6646581   0.7032191 "
      ]
     },
     "metadata": {},
     "output_type": "display_data"
    },
    {
     "data": {
      "text/html": [
       "<table class=\"dataframe\">\n",
       "<caption>A matrix: 5 × 5 of type dbl</caption>\n",
       "<thead>\n",
       "\t<tr><th></th><th scope=col>rep(1, n)</th><th scope=col>precio</th><th scope=col>consumo</th><th scope=col>publicidad</th><th scope=col>competencia</th></tr>\n",
       "</thead>\n",
       "<tbody>\n",
       "\t<tr><th scope=row>rep(1, n)</th><td>61.8765896</td><td>-2.4217174</td><td>-0.4465377</td><td>-4.0217233</td><td> 0.7171486</td></tr>\n",
       "\t<tr><th scope=row>precio</th><td>-2.4217174</td><td> 0.3972577</td><td>-0.2739401</td><td> 0.0149117</td><td>-0.3346344</td></tr>\n",
       "\t<tr><th scope=row>consumo</th><td>-0.4465377</td><td>-0.2739401</td><td> 0.7437502</td><td>-0.1847683</td><td> 0.4873066</td></tr>\n",
       "\t<tr><th scope=row>publicidad</th><td>-4.0217233</td><td> 0.0149117</td><td>-0.1847683</td><td> 0.6646581</td><td>-0.1647921</td></tr>\n",
       "\t<tr><th scope=row>competencia</th><td> 0.7171486</td><td>-0.3346344</td><td> 0.4873066</td><td>-0.1647921</td><td> 0.7032191</td></tr>\n",
       "</tbody>\n",
       "</table>\n"
      ],
      "text/latex": [
       "A matrix: 5 × 5 of type dbl\n",
       "\\begin{tabular}{r|lllll}\n",
       "  & rep(1, n) & precio & consumo & publicidad & competencia\\\\\n",
       "\\hline\n",
       "\trep(1, n) & 61.8765896 & -2.4217174 & -0.4465377 & -4.0217233 &  0.7171486\\\\\n",
       "\tprecio & -2.4217174 &  0.3972577 & -0.2739401 &  0.0149117 & -0.3346344\\\\\n",
       "\tconsumo & -0.4465377 & -0.2739401 &  0.7437502 & -0.1847683 &  0.4873066\\\\\n",
       "\tpublicidad & -4.0217233 &  0.0149117 & -0.1847683 &  0.6646581 & -0.1647921\\\\\n",
       "\tcompetencia &  0.7171486 & -0.3346344 &  0.4873066 & -0.1647921 &  0.7032191\\\\\n",
       "\\end{tabular}\n"
      ],
      "text/markdown": [
       "\n",
       "A matrix: 5 × 5 of type dbl\n",
       "\n",
       "| <!--/--> | rep(1, n) | precio | consumo | publicidad | competencia |\n",
       "|---|---|---|---|---|---|\n",
       "| rep(1, n) | 61.8765896 | -2.4217174 | -0.4465377 | -4.0217233 |  0.7171486 |\n",
       "| precio | -2.4217174 |  0.3972577 | -0.2739401 |  0.0149117 | -0.3346344 |\n",
       "| consumo | -0.4465377 | -0.2739401 |  0.7437502 | -0.1847683 |  0.4873066 |\n",
       "| publicidad | -4.0217233 |  0.0149117 | -0.1847683 |  0.6646581 | -0.1647921 |\n",
       "| competencia |  0.7171486 | -0.3346344 |  0.4873066 | -0.1647921 |  0.7032191 |\n",
       "\n"
      ],
      "text/plain": [
       "            rep(1, n)  precio     consumo    publicidad competencia\n",
       "rep(1, n)   61.8765896 -2.4217174 -0.4465377 -4.0217233  0.7171486 \n",
       "precio      -2.4217174  0.3972577 -0.2739401  0.0149117 -0.3346344 \n",
       "consumo     -0.4465377 -0.2739401  0.7437502 -0.1847683  0.4873066 \n",
       "publicidad  -4.0217233  0.0149117 -0.1847683  0.6646581 -0.1647921 \n",
       "competencia  0.7171486 -0.3346344  0.4873066 -0.1647921  0.7032191 "
      ]
     },
     "metadata": {},
     "output_type": "display_data"
    }
   ],
   "source": [
    "library(lmtest)\n",
    "resinew <- (y - x %*% betasFWLS)^2\n",
    "aux <- lm(resinew ~ x1 + x2 + x3 + x4)\n",
    "v <- matrix(rep(0,64*64),ncol=64)\n",
    "v <- diag(as.numeric(resinew / diag(Omega^2)))\n",
    "xv <- t(x) %*% v %*% x\n",
    "varFWLS <- xwx %*% xv %*% xwx\n",
    "diag(varFWLS)\n",
    "varFWLS"
   ]
  },
  {
   "cell_type": "markdown",
   "id": "986d685e",
   "metadata": {},
   "source": [
    "Con el nuevo modelo se debe comprobar que se logró correguir el problema de la heterocedasticidad, por lo que se porcede a lo siguiente: "
   ]
  },
  {
   "cell_type": "code",
   "execution_count": 107,
   "id": "e723005d",
   "metadata": {},
   "outputs": [
    {
     "data": {
      "text/plain": [
       "\n",
       "Call:\n",
       "lm(formula = y ~ x1 + x2 + x3 + x4, weights = 1/error)\n",
       "\n",
       "Weighted Residuals:\n",
       "    Min      1Q  Median      3Q     Max \n",
       "-5.8604 -0.9888 -0.1396  1.2362  4.0739 \n",
       "\n",
       "Coefficients:\n",
       "            Estimate Std. Error t value Pr(>|t|)    \n",
       "(Intercept)  18.5547    11.0620   1.677 0.098769 .  \n",
       "x1           -4.2095     0.7203  -5.844 2.34e-07 ***\n",
       "x2           -8.1084     0.9022  -8.988 1.20e-12 ***\n",
       "x3            3.0404     0.9873   3.080 0.003145 ** \n",
       "x4            2.9430     0.7925   3.714 0.000455 ***\n",
       "---\n",
       "Signif. codes:  0 '***' 0.001 '**' 0.01 '*' 0.05 '.' 0.1 ' ' 1\n",
       "\n",
       "Residual standard error: 1.819 on 59 degrees of freedom\n",
       "Multiple R-squared:  0.7253,\tAdjusted R-squared:  0.7067 \n",
       "F-statistic: 38.94 on 4 and 59 DF,  p-value: 6.267e-16\n"
      ]
     },
     "metadata": {},
     "output_type": "display_data"
    },
    {
     "data": {
      "text/plain": [
       "\n",
       "\tstudentized Breusch-Pagan test\n",
       "\n",
       "data:  modelobp\n",
       "BP = 4.2568, df = 4, p-value = 0.3724\n"
      ]
     },
     "metadata": {},
     "output_type": "display_data"
    }
   ],
   "source": [
    "logerror <- predict(regresionlog)\n",
    "error <- exp(logerror)\n",
    "\n",
    "modelonew <- lm(y~ x1 + x2 + x3 + x4, weights = 1/error)\n",
    "summary(modelonew)\n",
    "\n",
    "resinew2 <- modelonew$residuals^2\n",
    "modelobp <- lm(resinew2~x1 + x2 + x3 + x4)\n",
    "bptest(modelobp)"
   ]
  },
  {
   "cell_type": "markdown",
   "id": "b0522273",
   "metadata": {},
   "source": [
    "Con este p-value = 0.3724 que es mayor a 5%, se puede concluir que el modelo ya no presenta problemas de heteroscedasticidad con un nivel de confianza del 95% dado que no se rechaza $H_0$."
   ]
  },
  {
   "cell_type": "markdown",
   "id": "44c6763e",
   "metadata": {},
   "source": [
    "#### 3. Un reconocido economista afirma que el efecto del precio es el mismo que el de la competencia pero son signo contrario, y además que el efecto del consumo de energía es cuatro veces que el del gasto en publicidad con signo contrario. Cree Usted que los datos contradicen la afirmación del economista? Use al menos dos formas diferentes adecuadas para probar esta hipótesis"
   ]
  },
  {
   "cell_type": "markdown",
   "id": "cec98124",
   "metadata": {},
   "source": [
    "El primer método para probar si la afirmación del economista es cierta o no, es una prueba de Wald con la siguiente prueba de hipótesis:\n",
    "$$\n",
    "H_0:\\ \\ \\ \\left\\{\\begin{matrix}\\beta_{1\\ \\left(FWLS\\right)}+\\beta_{4\\ \\left(FWLS\\right)}=0\\\\\\beta_{2\\ \\left(FWLS\\right)}+4{\\cdot\\beta}_{3\\ \\left(FWLS\\right)}=0\\\\\\end{matrix}\\right.\n",
    "$$\n",
    "\n",
    "$$\n",
    "H_1:\\ \\ \\ \\lnot\\ H_0\n",
    "$$\n",
    "\n"
   ]
  },
  {
   "cell_type": "code",
   "execution_count": 109,
   "id": "a9f6e0fb",
   "metadata": {},
   "outputs": [
    {
     "data": {
      "text/html": [
       "<table class=\"dataframe\">\n",
       "<caption>A matrix: 1 × 1 of type dbl</caption>\n",
       "<tbody>\n",
       "\t<tr><td>4.611612</td></tr>\n",
       "</tbody>\n",
       "</table>\n"
      ],
      "text/latex": [
       "A matrix: 1 × 1 of type dbl\n",
       "\\begin{tabular}{l}\n",
       "\t 4.611612\\\\\n",
       "\\end{tabular}\n"
      ],
      "text/markdown": [
       "\n",
       "A matrix: 1 × 1 of type dbl\n",
       "\n",
       "| 4.611612 |\n",
       "\n"
      ],
      "text/plain": [
       "     [,1]    \n",
       "[1,] 4.611612"
      ]
     },
     "metadata": {},
     "output_type": "display_data"
    },
    {
     "data": {
      "text/html": [
       "5.99146454710798"
      ],
      "text/latex": [
       "5.99146454710798"
      ],
      "text/markdown": [
       "5.99146454710798"
      ],
      "text/plain": [
       "[1] 5.991465"
      ]
     },
     "metadata": {},
     "output_type": "display_data"
    },
    {
     "data": {
      "text/html": [
       "<table class=\"dataframe\">\n",
       "<caption>A matrix: 1 × 1 of type dbl</caption>\n",
       "<tbody>\n",
       "\t<tr><td>0.09967841</td></tr>\n",
       "</tbody>\n",
       "</table>\n"
      ],
      "text/latex": [
       "A matrix: 1 × 1 of type dbl\n",
       "\\begin{tabular}{l}\n",
       "\t 0.09967841\\\\\n",
       "\\end{tabular}\n"
      ],
      "text/markdown": [
       "\n",
       "A matrix: 1 × 1 of type dbl\n",
       "\n",
       "| 0.09967841 |\n",
       "\n"
      ],
      "text/plain": [
       "     [,1]      \n",
       "[1,] 0.09967841"
      ]
     },
     "metadata": {},
     "output_type": "display_data"
    }
   ],
   "source": [
    "a <- matrix(c(0,1,0,0,1,0,0,1,4,0),ncol=5,byrow = T)\n",
    "EP <- t(a %*% betasFWLS) %*% solve(a %*% varFWLS %*% t(a)) %*% (a %*% betasFWLS)\n",
    "EP\n",
    "wcr <- qchisq(0.95,2) \n",
    "wcr\n",
    "pvalue <- 1-pchisq(EP,2)\n",
    "pvalue"
   ]
  },
  {
   "cell_type": "markdown",
   "id": "d293a000",
   "metadata": {},
   "source": [
    "Como se puede observar el valor del estadístico de prueba es $EP = 4.6116$ y el $w_{cr}=5.9915$ y el $p-value =0,0997$. Cómo el $EP<w_{cr}$ y p-value>5% entonces se puede concluir, bajo un nivel de confianza del 95% que no se rechaza la $H_0$, por lo cual no hay suficiente evidencia estadística para rechazar la afirmación del economista."
   ]
  },
  {
   "cell_type": "markdown",
   "id": "1357b2d7",
   "metadata": {},
   "source": [
    "Otro método que se puede utilizar para probar si la afirmación del economísta es correcta o no es el método de Bootstrap. Mediante este método se realizan remuestreos de las observaciones de la base de datos y se saca FWLS para cada uno de los conjuntos creados de la siguiente manera:"
   ]
  },
  {
   "cell_type": "code",
   "execution_count": 110,
   "id": "59bfab65",
   "metadata": {
    "scrolled": true
   },
   "outputs": [
    {
     "data": {
      "image/png": "[encoded data removed]",
      "text/plain": [
       "plot without title"
      ]
     },
     "metadata": {
      "image/png": {
       "height": 420,
       "width": 420
      }
     },
     "output_type": "display_data"
    }
   ],
   "source": [
    "##Bootstrap\n",
    "nn <- 1000\n",
    "B_Boot <- matrix(rep(0,nn * 5),ncol = 5)\n",
    "\n",
    "for(i in 1:1000){\n",
    "  id <- sample(seq(1:64),64,replace = T)\n",
    "  xs <- X[id,]\n",
    "  ys <- y[id]\n",
    "  beta_R <-solve(t(xs)%*%solve(Omega)%*%xs)%*%(t(xs)%*%solve(Omega)%*%ys)\n",
    "  B_Boot[i,] <-beta_R\n",
    "}\n",
    "    \n",
    "library(ggplot2) \n",
    "R1 <- B_Boot[,2] + B_Boot[,5]\n",
    "R2 <- B_Boot[,3] + 4 * B_Boot[,4]\n",
    "HE <- data.frame(R1,R2)\n",
    "ggplot(HE, aes(R1,R2))+geom_point()+stat_ellipse()+geom_point(aes(0,0), col=\"red\")                                   \n"
   ]
  },
  {
   "cell_type": "markdown",
   "id": "261a5d94",
   "metadata": {},
   "source": [
    "Dado que el punto 𝑐 = (0,0) cae dentro de la elipse de confianza, se puede concluir que los datos no contradicen la afirmación del economista bajo un nivel de confianza del 95%."
   ]
  },
  {
   "cell_type": "markdown",
   "id": "3df8075a",
   "metadata": {},
   "source": [
    "### Problema 5. Efectos de medidas preventivas en la severidad del coronavirus."
   ]
  },
  {
   "cell_type": "markdown",
   "id": "d4666e5c",
   "metadata": {},
   "source": [
    "Una de las preguntas más comunes en política de salud pública en la actualidad, es determinar el efecto de las medidas de restricción de movilidad o de actividades que impliquen reducir el contacto entre personas. Esto es por ejemplo, las cuarentenas, el pico y cédula, la prohibición de clases presenciales, uso de tapabocas, etc. Por conveniencia, estas medidas han sido agrupadas en una sola métrica conocide con el _Stringency Index_. Para entender cómo se calcula, puede revisar los documentos relacionados en: https://covidtracker.bsg.ox.ac.uk/."
   ]
  },
  {
   "cell_type": "markdown",
   "id": "6fdf6263",
   "metadata": {},
   "source": [
    "En un modelo simplificado, se quiere probar el efecto de esta medidas en Colombia (usando el _stringency\n",
    "index_) sobre la tasa de mortalidad usando el modelo:"
   ]
  },
  {
   "cell_type": "markdown",
   "id": "a613168f",
   "metadata": {},
   "source": [
    "$$\n",
    "    \\log(MR_t) = \\beta_0 + \\beta_1 SI_t + \\beta_2 \\log(NC_t) + \\varepsilon_t\n",
    "$$"
   ]
  },
  {
   "cell_type": "markdown",
   "id": "b48d5d77",
   "metadata": {},
   "source": [
    "Donde $MR_t$ corresponde a la tasa de mortalidad (número de muertes por Covid por cada millón de habitantes) en el día $t$, $NC_t$ corresponde al número de casos confirmados (por cada millón de habitantes) durante los últimos 14 días antes de $t$, y $SI_t$ corresponde al promedio del _stringency index_ para los 14 días anteriores a $t$, es decir:"
   ]
  },
  {
   "cell_type": "markdown",
   "id": "9acdc807",
   "metadata": {},
   "source": [
    "$$\n",
    "    SI_t = \\frac{\\sum_{i = 1}^{14}strind_{t-i}}{14},\n",
    "$$\n",
    "\n",
    "$$\n",
    "    NC_t = \\sum_{i = 1}^{14} nc_t.\n",
    "$$"
   ]
  },
  {
   "cell_type": "markdown",
   "id": "371b454e",
   "metadata": {},
   "source": [
    "$strind_t$ es la medida del _stringency index_ en el día $t$ y $nc_t$ es el número de casos confirmados en el día $t$. Para evitar problemas con los logaritmos, cuando las variables $MR_t$ o $NC_t$ tomen el valor de cero, entonces aproxímelos como 1. Si considera que en la base da datos existen variables importantes para tener un modelo mejor específicado, no dude en incluirlas."
   ]
  },
  {
   "cell_type": "markdown",
   "id": "77951987",
   "metadata": {},
   "source": [
    "Note que este modelo es definido sobre series de tiempo. Como periodo de estudio, use datos desde el noviembre 1 del 2020 hasta noviembre 1 de 2021. Para obtener los datos de las variables, puede revisar: https://ourworldindata.org/grapher/covid-stringency-index."
   ]
  },
  {
   "cell_type": "code",
   "execution_count": 12,
   "id": "d1925d02-7414-4c8c-89b4-060efdb0225e",
   "metadata": {},
   "outputs": [
    {
     "data": {
      "text/html": [
       "<table class=\"dataframe\">\n",
       "<caption>A tibble: 6 × 3</caption>\n",
       "<thead>\n",
       "\t<tr><th scope=col>new_deaths_per_million</th><th scope=col>SI_t</th><th scope=col>NC_t</th></tr>\n",
       "\t<tr><th scope=col>&lt;dbl&gt;</th><th scope=col>&lt;dbl&gt;</th><th scope=col>&lt;dbl&gt;</th></tr>\n",
       "</thead>\n",
       "<tbody>\n",
       "\t<tr><td>3.894</td><td>65.74</td><td>2264.138</td></tr>\n",
       "\t<tr><td>3.701</td><td>65.74</td><td>2225.101</td></tr>\n",
       "\t<tr><td>3.046</td><td>65.74</td><td>2158.324</td></tr>\n",
       "\t<tr><td>3.508</td><td>65.74</td><td>2153.986</td></tr>\n",
       "\t<tr><td>3.817</td><td>65.74</td><td>2118.921</td></tr>\n",
       "\t<tr><td>3.239</td><td>65.74</td><td>2072.578</td></tr>\n",
       "</tbody>\n",
       "</table>\n"
      ],
      "text/latex": [
       "A tibble: 6 × 3\n",
       "\\begin{tabular}{lll}\n",
       " new\\_deaths\\_per\\_million & SI\\_t & NC\\_t\\\\\n",
       " <dbl> & <dbl> & <dbl>\\\\\n",
       "\\hline\n",
       "\t 3.894 & 65.74 & 2264.138\\\\\n",
       "\t 3.701 & 65.74 & 2225.101\\\\\n",
       "\t 3.046 & 65.74 & 2158.324\\\\\n",
       "\t 3.508 & 65.74 & 2153.986\\\\\n",
       "\t 3.817 & 65.74 & 2118.921\\\\\n",
       "\t 3.239 & 65.74 & 2072.578\\\\\n",
       "\\end{tabular}\n"
      ],
      "text/markdown": [
       "\n",
       "A tibble: 6 × 3\n",
       "\n",
       "| new_deaths_per_million &lt;dbl&gt; | SI_t &lt;dbl&gt; | NC_t &lt;dbl&gt; |\n",
       "|---|---|---|\n",
       "| 3.894 | 65.74 | 2264.138 |\n",
       "| 3.701 | 65.74 | 2225.101 |\n",
       "| 3.046 | 65.74 | 2158.324 |\n",
       "| 3.508 | 65.74 | 2153.986 |\n",
       "| 3.817 | 65.74 | 2118.921 |\n",
       "| 3.239 | 65.74 | 2072.578 |\n",
       "\n"
      ],
      "text/plain": [
       "  new_deaths_per_million SI_t  NC_t    \n",
       "1 3.894                  65.74 2264.138\n",
       "2 3.701                  65.74 2225.101\n",
       "3 3.046                  65.74 2158.324\n",
       "4 3.508                  65.74 2153.986\n",
       "5 3.817                  65.74 2118.921\n",
       "6 3.239                  65.74 2072.578"
      ]
     },
     "metadata": {},
     "output_type": "display_data"
    }
   ],
   "source": [
    "library(readr)\n",
    "data_ <- read_csv(\"Archivos/owid-covid-data-filtered.csv\", show_col_types = FALSE)\n",
    "\n",
    "data <- data_[15:nrow(data_), \"new_deaths_per_million\"]\n",
    "\n",
    "for (i in seq_len(nrow(data_))[-(1:14)]) {\n",
    "    if (data[i - 14, \"new_deaths_per_million\"] < 1) {\n",
    "        data[i - 14, \"new_deaths_per_million\"] <- 1\n",
    "    }\n",
    "    \n",
    "    data[i - 14, \"SI_t\"] <- mean(data_[(i-14):(i-1), ]$stringency_index)\n",
    "    \n",
    "    data[i - 14, \"NC_t\"] <- sum(data_[(i-14):(i-1), ]$new_cases_per_million)\n",
    "    if (data[i - 14, \"NC_t\"] <= 1) {\n",
    "        data[i - 14, \"NC_t\"] <- 1\n",
    "    }\n",
    "}\n",
    "\n",
    "head(data)"
   ]
  },
  {
   "cell_type": "markdown",
   "id": "c41f3057",
   "metadata": {},
   "source": [
    "#### 1. Estime los parámetros del modelo e interpréte los intervalos de confianza correspondientes. Tenga en cuenta los logaritmos. ¿Encuentra coherencia en los resultados?"
   ]
  },
  {
   "cell_type": "code",
   "execution_count": 11,
   "id": "f655521e-ff2f-4028-a049-329a4f4973ff",
   "metadata": {},
   "outputs": [
    {
     "data": {
      "text/plain": [
       "\n",
       "Call:\n",
       "lm(formula = log(new_deaths_per_million) ~ SI_t + log(NC_t), \n",
       "    data = data)\n",
       "\n",
       "Residuals:\n",
       "     Min       1Q   Median       3Q      Max \n",
       "-1.55355 -0.09737  0.00437  0.10580  0.70630 \n",
       "\n",
       "Coefficients:\n",
       "              Estimate Std. Error t value Pr(>|t|)    \n",
       "(Intercept) -5.3492321  0.0772420  -69.25  < 2e-16 ***\n",
       "SI_t         0.0031804  0.0007519    4.23 2.99e-05 ***\n",
       "log(NC_t)    0.8499202  0.0107637   78.96  < 2e-16 ***\n",
       "---\n",
       "Signif. codes:  0 ‘***’ 0.001 ‘**’ 0.01 ‘*’ 0.05 ‘.’ 0.1 ‘ ’ 1\n",
       "\n",
       "Residual standard error: 0.1718 on 349 degrees of freedom\n",
       "Multiple R-squared:  0.9571,\tAdjusted R-squared:  0.9569 \n",
       "F-statistic:  3895 on 2 and 349 DF,  p-value: < 2.2e-16\n"
      ]
     },
     "metadata": {},
     "output_type": "display_data"
    },
    {
     "data": {
      "text/html": [
       "<table class=\"dataframe\">\n",
       "<caption>A matrix: 3 × 2 of type dbl</caption>\n",
       "<thead>\n",
       "\t<tr><th></th><th scope=col>2.5 %</th><th scope=col>97.5 %</th></tr>\n",
       "</thead>\n",
       "<tbody>\n",
       "\t<tr><th scope=row>(Intercept)</th><td>-5.501150474</td><td>-5.197313653</td></tr>\n",
       "\t<tr><th scope=row>SI_t</th><td> 0.001701668</td><td> 0.004659223</td></tr>\n",
       "\t<tr><th scope=row>log(NC_t)</th><td> 0.828750351</td><td> 0.871090144</td></tr>\n",
       "</tbody>\n",
       "</table>\n"
      ],
      "text/latex": [
       "A matrix: 3 × 2 of type dbl\n",
       "\\begin{tabular}{r|ll}\n",
       "  & 2.5 \\% & 97.5 \\%\\\\\n",
       "\\hline\n",
       "\t(Intercept) & -5.501150474 & -5.197313653\\\\\n",
       "\tSI\\_t &  0.001701668 &  0.004659223\\\\\n",
       "\tlog(NC\\_t) &  0.828750351 &  0.871090144\\\\\n",
       "\\end{tabular}\n"
      ],
      "text/markdown": [
       "\n",
       "A matrix: 3 × 2 of type dbl\n",
       "\n",
       "| <!--/--> | 2.5 % | 97.5 % |\n",
       "|---|---|---|\n",
       "| (Intercept) | -5.501150474 | -5.197313653 |\n",
       "| SI_t |  0.001701668 |  0.004659223 |\n",
       "| log(NC_t) |  0.828750351 |  0.871090144 |\n",
       "\n"
      ],
      "text/plain": [
       "            2.5 %        97.5 %      \n",
       "(Intercept) -5.501150474 -5.197313653\n",
       "SI_t         0.001701668  0.004659223\n",
       "log(NC_t)    0.828750351  0.871090144"
      ]
     },
     "metadata": {},
     "output_type": "display_data"
    }
   ],
   "source": [
    "modelo_init <- lm(log(new_deaths_per_million) ~ SI_t + log(NC_t), data = data)\n",
    "summary(modelo_init)\n",
    "confint(modelo_init)"
   ]
  },
  {
   "cell_type": "markdown",
   "id": "37566a54-ffbb-4c94-8ae1-7b1bf4ca2c98",
   "metadata": {},
   "source": [
    "El modelo parece ser globalmente y marginalmente significativo. También presenta un buen $R^{2}$ y $R^{2}_{\\text{adj}}$, lo que indica que tiene buen poder predictivo. Falta validar los suspuestos.\n",
    "\n",
    "Si tomamos literalemente por su significado los coeficientes, el modelo no tiene mucho sentido. Este sugiere que cuando en los últimos 14 días no han habido casos y no han habido medidas de mitigación ($SI_t = 0$), se logra una cantidad negativa de muertes por cada millon de habitantes. También sugiere, aunque por un coeficiente muy pequeño, que la tasa de mortalidad crece con el promedio de los últimos 14 días del _stringency index_, lo cual tiene poco sentido ya que se esperaría una disminución en las fatalidades por COVID, dadas restricciones más cautelosas. "
   ]
  },
  {
   "cell_type": "markdown",
   "id": "3867de12",
   "metadata": {},
   "source": [
    "#### 2. ¿Considera que el modelo tiene problemas de heteroscedasticidad?"
   ]
  },
  {
   "cell_type": "markdown",
   "id": "c4f870a2",
   "metadata": {},
   "source": []
  },
  {
   "cell_type": "code",
   "execution_count": 13,
   "id": "a53ecbec",
   "metadata": {},
   "outputs": [
    {
     "data": {
      "image/png": "[encoded data removed]",
      "text/plain": [
       "plot without title"
      ]
     },
     "metadata": {
      "image/png": {
       "height": 420,
       "width": 420
      }
     },
     "output_type": "display_data"
    },
    {
     "data": {
      "image/png": "[encoded data removed]",
      "text/plain": [
       "plot without title"
      ]
     },
     "metadata": {
      "image/png": {
       "height": 420,
       "width": 420
      }
     },
     "output_type": "display_data"
    },
    {
     "data": {
      "image/png": "[encoded data removed]",
      "text/plain": [
       "plot without title"
      ]
     },
     "metadata": {
      "image/png": {
       "height": 420,
       "width": 420
      }
     },
     "output_type": "display_data"
    }
   ],
   "source": [
    "res <- residuals(modelo_init)\n",
    "yhat <- fitted(modelo_init)\n",
    "plot(data$SI_t, res, xlab = \"SI_t\", ylab = \"residuals\")\n",
    "plot(log(data$NC_t), res, xlab = \"NC_t\", ylab = \"residuals\")\n",
    "plot(yhat, res, xlab = \"fitted values\", ylab = \"residuals\")"
   ]
  },
  {
   "cell_type": "markdown",
   "id": "dd85af66",
   "metadata": {},
   "source": [
    "#### 3. Dado que el modelo se stima con series de tiempo, es posible que se presenten problemas de autocorrelación. Revise si existe autocorrelación positiva. En caso de que sea así, estime el modelo correcto y realice el intervalo de confianza para cada parámetro (incluyendo el intercepto)."
   ]
  },
  {
   "cell_type": "markdown",
   "id": "85e80838",
   "metadata": {},
   "source": []
  },
  {
   "cell_type": "code",
   "execution_count": null,
   "id": "a0cc7a06",
   "metadata": {},
   "outputs": [],
   "source": []
  }
 ],
 "metadata": {
  "kernelspec": {
   "display_name": "R",
   "language": "R",
   "name": "ir"
  },
  "language_info": {
   "codemirror_mode": "r",
   "file_extension": ".r",
   "mimetype": "text/x-r-source",
   "name": "R",
   "pygments_lexer": "r",
   "version": "4.2.1"
  }
 },
 "nbformat": 4,
 "nbformat_minor": 5
}
