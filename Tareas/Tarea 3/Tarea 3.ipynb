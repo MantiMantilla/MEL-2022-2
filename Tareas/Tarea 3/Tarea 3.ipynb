{
 "cells": [
  {
   "cell_type": "markdown",
   "id": "c2f0b8e4",
   "metadata": {},
   "source": [
    "# Tarea 3 - MEL\n",
    "\n",
    "Alejandro Mantilla - 201711304\n",
    "\n",
    "Ximena Palacio - 201730995"
   ]
  },
  {
   "cell_type": "markdown",
   "id": "d9ec8b5f",
   "metadata": {},
   "source": [
    "## Índice\n",
    "\n",
    "- [Parte A](#Parte-A.-Problemas-computacionales.)\n",
    "\n",
    "    - [Problema 1](#Problema-1.-Bootstrap-para-pruebas-con-restricciones-lineales.)\n",
    "    - [Problema 2](#Problem-2.-Método-de-estimación-robusta.)\n",
    "\n",
    "- [Parte B](#Parte-B.-Problemas-teóricos,-conceptuales-y-experimentales.)\n",
    "\n",
    "    - [Problema BONO](#Problema-BONO.-Uso-de-leverage-para-medidas-de-desempeño.)\n",
    "    - [Problema 3](#Problema-3.-Problemas-de-especificación-y-selección-de-modelos.)\n",
    "    \n",
    "- [Parte C](#Parte-C.-Problemas-aplicados-con-datos-reales.)\n",
    "\n",
    "    - [Problema 4](#Problema-4.-Ventas-de-secadoras-eléctricas-en-Bogotá.)\n",
    "    - [Problema 5](#Problema-5.-Efectos-de-medidas-preventivas-en-la-severidad-del-coronavirus.)"
   ]
  },
  {
   "cell_type": "markdown",
   "id": "0b8d3940",
   "metadata": {},
   "source": [
    "## Parte A. Problemas computacionales."
   ]
  },
  {
   "cell_type": "markdown",
   "id": "eddb49f9",
   "metadata": {},
   "source": [
    "### Problema 1. Bootstrap para pruebas con restricciones lineales."
   ]
  },
  {
   "cell_type": "markdown",
   "id": "d8203196",
   "metadata": {},
   "source": []
  },
  {
   "cell_type": "code",
   "execution_count": null,
   "id": "9674b6d6",
   "metadata": {},
   "outputs": [],
   "source": []
  },
  {
   "cell_type": "markdown",
   "id": "924c3499",
   "metadata": {},
   "source": [
    "### Problem 2. Método de estimación robusta."
   ]
  },
  {
   "cell_type": "markdown",
   "id": "6cc7d494",
   "metadata": {},
   "source": []
  },
  {
   "cell_type": "code",
   "execution_count": null,
   "id": "3a26a6b3",
   "metadata": {},
   "outputs": [],
   "source": []
  },
  {
   "cell_type": "markdown",
   "id": "ba514b35",
   "metadata": {},
   "source": [
    "## Parte B. Problemas teóricos, conceptuales y experimentales."
   ]
  },
  {
   "cell_type": "markdown",
   "id": "34275cd1",
   "metadata": {},
   "source": [
    "### Problema BONO. Uso de _leverage_ para medidas de desempeño."
   ]
  },
  {
   "cell_type": "markdown",
   "id": "4522597f",
   "metadata": {},
   "source": []
  },
  {
   "cell_type": "code",
   "execution_count": null,
   "id": "08d2a537",
   "metadata": {},
   "outputs": [],
   "source": []
  },
  {
   "cell_type": "markdown",
   "id": "eb1150ea",
   "metadata": {},
   "source": [
    "### Problema 3. Problemas de especificación y selección de modelos."
   ]
  },
  {
   "cell_type": "code",
   "execution_count": null,
   "id": "ccb39072",
   "metadata": {},
   "outputs": [],
   "source": []
  },
  {
   "cell_type": "markdown",
   "id": "bdfd49d9",
   "metadata": {},
   "source": [
    "## Parte C. Problemas aplicados con datos reales."
   ]
  },
  {
   "cell_type": "markdown",
   "id": "196304cb",
   "metadata": {},
   "source": [
    "### Problema 4. Ventas de secadoras eléctricas en Bogotá."
   ]
  },
  {
   "cell_type": "markdown",
   "id": "13c53b98",
   "metadata": {},
   "source": []
  },
  {
   "cell_type": "code",
   "execution_count": null,
   "id": "ad8fe057",
   "metadata": {},
   "outputs": [],
   "source": []
  },
  {
   "cell_type": "markdown",
   "id": "3df8075a",
   "metadata": {},
   "source": [
    "### Problema 5. Efectos de medidas preventivas en la severidad del coronavirus."
   ]
  },
  {
   "cell_type": "markdown",
   "id": "b48d5d77",
   "metadata": {},
   "source": []
  },
  {
   "cell_type": "code",
   "execution_count": null,
   "id": "24ebbfd9",
   "metadata": {},
   "outputs": [],
   "source": []
  }
 ],
 "metadata": {
  "kernelspec": {
   "display_name": "R",
   "language": "R",
   "name": "ir"
  },
  "language_info": {
   "codemirror_mode": "r",
   "file_extension": ".r",
   "mimetype": "text/x-r-source",
   "name": "R",
   "pygments_lexer": "r",
   "version": "4.2.1"
  }
 },
 "nbformat": 4,
 "nbformat_minor": 5
}
