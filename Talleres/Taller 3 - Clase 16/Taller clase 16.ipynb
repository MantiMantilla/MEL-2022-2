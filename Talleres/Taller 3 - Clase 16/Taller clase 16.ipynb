{
 "cells": [
  {
   "cell_type": "markdown",
   "id": "5c1e0ad0",
   "metadata": {},
   "source": [
    "# TALLER Clase 16 - Multicolinealidad"
   ]
  },
  {
   "cell_type": "markdown",
   "id": "9efa6f9d",
   "metadata": {},
   "source": [
    "Alejandro Mantilla Redondo - 201711304\n",
    "\n",
    "Ximena Palacio Argüello - 201730995"
   ]
  },
  {
   "cell_type": "markdown",
   "id": "4bbfb5d7",
   "metadata": {},
   "source": [
    "En la base de datos adjunta (`diabetes.txt`), se mide el índice de glicemia ($Y$) en función de $3$ variables:\n",
    "\n",
    "- consumo promedio semanal de kilocalorías ($X1$),\n",
    "- horas semenales de ejercicio ($X2$),\n",
    "- y gasto semanal de calorías ($X3$). \n",
    "\n",
    "No se preocupe por las unidades."
   ]
  },
  {
   "cell_type": "code",
   "execution_count": 1,
   "id": "61c6acd9",
   "metadata": {},
   "outputs": [
    {
     "data": {
      "text/html": [
       "<table class=\"dataframe\">\n",
       "<caption>A data.frame: 6 × 4</caption>\n",
       "<thead>\n",
       "\t<tr><th></th><th scope=col>x1</th><th scope=col>x2</th><th scope=col>x3</th><th scope=col>y</th></tr>\n",
       "\t<tr><th></th><th scope=col>&lt;dbl&gt;</th><th scope=col>&lt;dbl&gt;</th><th scope=col>&lt;dbl&gt;</th><th scope=col>&lt;dbl&gt;</th></tr>\n",
       "</thead>\n",
       "<tbody>\n",
       "\t<tr><th scope=row>1</th><td>11.606388</td><td>22.48555</td><td>24.43439</td><td> 55.383524</td></tr>\n",
       "\t<tr><th scope=row>2</th><td> 7.100081</td><td>13.42065</td><td>41.85494</td><td>  5.942903</td></tr>\n",
       "\t<tr><th scope=row>3</th><td>13.502374</td><td>27.61742</td><td>16.95941</td><td> 80.365798</td></tr>\n",
       "\t<tr><th scope=row>4</th><td>17.057526</td><td>33.71953</td><td>12.24837</td><td>103.897950</td></tr>\n",
       "\t<tr><th scope=row>5</th><td>12.912375</td><td>23.47505</td><td>20.89624</td><td> 58.774471</td></tr>\n",
       "\t<tr><th scope=row>6</th><td>13.536525</td><td>29.51180</td><td>18.19033</td><td> 89.063619</td></tr>\n",
       "</tbody>\n",
       "</table>\n"
      ],
      "text/latex": [
       "A data.frame: 6 × 4\n",
       "\\begin{tabular}{r|llll}\n",
       "  & x1 & x2 & x3 & y\\\\\n",
       "  & <dbl> & <dbl> & <dbl> & <dbl>\\\\\n",
       "\\hline\n",
       "\t1 & 11.606388 & 22.48555 & 24.43439 &  55.383524\\\\\n",
       "\t2 &  7.100081 & 13.42065 & 41.85494 &   5.942903\\\\\n",
       "\t3 & 13.502374 & 27.61742 & 16.95941 &  80.365798\\\\\n",
       "\t4 & 17.057526 & 33.71953 & 12.24837 & 103.897950\\\\\n",
       "\t5 & 12.912375 & 23.47505 & 20.89624 &  58.774471\\\\\n",
       "\t6 & 13.536525 & 29.51180 & 18.19033 &  89.063619\\\\\n",
       "\\end{tabular}\n"
      ],
      "text/markdown": [
       "\n",
       "A data.frame: 6 × 4\n",
       "\n",
       "| <!--/--> | x1 &lt;dbl&gt; | x2 &lt;dbl&gt; | x3 &lt;dbl&gt; | y &lt;dbl&gt; |\n",
       "|---|---|---|---|---|\n",
       "| 1 | 11.606388 | 22.48555 | 24.43439 |  55.383524 |\n",
       "| 2 |  7.100081 | 13.42065 | 41.85494 |   5.942903 |\n",
       "| 3 | 13.502374 | 27.61742 | 16.95941 |  80.365798 |\n",
       "| 4 | 17.057526 | 33.71953 | 12.24837 | 103.897950 |\n",
       "| 5 | 12.912375 | 23.47505 | 20.89624 |  58.774471 |\n",
       "| 6 | 13.536525 | 29.51180 | 18.19033 |  89.063619 |\n",
       "\n"
      ],
      "text/plain": [
       "  x1        x2       x3       y         \n",
       "1 11.606388 22.48555 24.43439  55.383524\n",
       "2  7.100081 13.42065 41.85494   5.942903\n",
       "3 13.502374 27.61742 16.95941  80.365798\n",
       "4 17.057526 33.71953 12.24837 103.897950\n",
       "5 12.912375 23.47505 20.89624  58.774471\n",
       "6 13.536525 29.51180 18.19033  89.063619"
      ]
     },
     "metadata": {},
     "output_type": "display_data"
    }
   ],
   "source": [
    "data <- read.table(\"Archivos/diabetes.txt\", head = TRUE)\n",
    "head(data)"
   ]
  },
  {
   "cell_type": "markdown",
   "id": "bb031cee",
   "metadata": {},
   "source": [
    "1. Estime los parámetros $\\beta$ y determine cuáles de ellos son marginalmente significativos (pruebas $t$)."
   ]
  },
  {
   "cell_type": "code",
   "execution_count": 2,
   "id": "78159d57",
   "metadata": {},
   "outputs": [
    {
     "data": {
      "text/plain": [
       "\n",
       "Call:\n",
       "lm(formula = y ~ x1 + x2 + x3, data = data)\n",
       "\n",
       "Residuals:\n",
       "    Min      1Q  Median      3Q     Max \n",
       "-9.3879 -3.0560 -0.0921  3.0800  9.9467 \n",
       "\n",
       "Coefficients:\n",
       "            Estimate Std. Error t value Pr(>|t|)    \n",
       "(Intercept) -0.07458    9.25446  -0.008    0.994    \n",
       "x1           0.98200    0.70296   1.397    0.165    \n",
       "x2           3.06824    0.28722  10.683  < 2e-16 ***\n",
       "x3          -0.98235    0.14958  -6.567 1.85e-09 ***\n",
       "---\n",
       "Signif. codes:  0 '***' 0.001 '**' 0.01 '*' 0.05 '.' 0.1 ' ' 1\n",
       "\n",
       "Residual standard error: 4.27 on 108 degrees of freedom\n",
       "Multiple R-squared:  0.9803,\tAdjusted R-squared:  0.9797 \n",
       "F-statistic:  1789 on 3 and 108 DF,  p-value: < 2.2e-16\n"
      ]
     },
     "metadata": {},
     "output_type": "display_data"
    }
   ],
   "source": [
    "y  <- as.matrix(data$y, ncol = 1)\n",
    "x1 <- as.matrix(data$x1, ncol = 1)\n",
    "x2 <- as.matrix(data$x2, ncol = 1)\n",
    "x3 <- as.matrix(data$x3, ncol = 1)\n",
    "\n",
    "#Estimación de los Betas\n",
    "X <- cbind(1, x1, x2, x3)\n",
    "XTX <- t(X) %*% X\n",
    "beta <- solve(XTX) %*% t(X) %*% y\n",
    "\n",
    "#Cuales betas son marginalmente significativos. \n",
    "fit <- lm(y ~ x1 + x2 + x3, data = data)\n",
    "summary(fit)\n"
   ]
  },
  {
   "cell_type": "markdown",
   "id": "4ac684d0",
   "metadata": {},
   "source": [
    "Para un modelo convencional, con intercepto: no rechazamos las hipótesis marginales de que $\\beta_0 = 0$ y el $\\beta_{x_{1}} = 0$, con un $\\alpha = 0.05$."
   ]
  },
  {
   "cell_type": "markdown",
   "id": "7df5ef18",
   "metadata": {},
   "source": [
    "2. ¿Cree que existen problemas de multicolinealidad?"
   ]
  },
  {
   "cell_type": "code",
   "execution_count": 3,
   "id": "25289868",
   "metadata": {},
   "outputs": [
    {
     "name": "stderr",
     "output_type": "stream",
     "text": [
      "Loading required package: carData\n",
      "\n"
     ]
    },
    {
     "data": {
      "text/html": [
       "<style>\n",
       ".dl-inline {width: auto; margin:0; padding: 0}\n",
       ".dl-inline>dt, .dl-inline>dd {float: none; width: auto; display: inline-block}\n",
       ".dl-inline>dt::after {content: \":\\0020\"; padding-right: .5ex}\n",
       ".dl-inline>dt:not(:first-of-type) {padding-left: .5ex}\n",
       "</style><dl class=dl-inline><dt>x1</dt><dd>25.4186471893289</dd><dt>x2</dt><dd>17.3502631473983</dd><dt>x3</dt><dd>12.0750442217094</dd></dl>\n"
      ],
      "text/latex": [
       "\\begin{description*}\n",
       "\\item[x1] 25.4186471893289\n",
       "\\item[x2] 17.3502631473983\n",
       "\\item[x3] 12.0750442217094\n",
       "\\end{description*}\n"
      ],
      "text/markdown": [
       "x1\n",
       ":   25.4186471893289x2\n",
       ":   17.3502631473983x3\n",
       ":   12.0750442217094\n",
       "\n"
      ],
      "text/plain": [
       "      x1       x2       x3 \n",
       "25.41865 17.35026 12.07504 "
      ]
     },
     "metadata": {},
     "output_type": "display_data"
    },
    {
     "data": {
      "image/png": "[encoded data removed]",
      "text/plain": [
       "plot without title"
      ]
     },
     "metadata": {
      "image/png": {
       "height": 420,
       "width": 420
      }
     },
     "output_type": "display_data"
    }
   ],
   "source": [
    "library(car)\n",
    "\n",
    "pairs(data)\n",
    "vif(fit)\n"
   ]
  },
  {
   "cell_type": "markdown",
   "id": "1b6f123c",
   "metadata": {},
   "source": [
    "A nuestro criterio el VIF de $X_{1}$, que nos da $25.4$, es muy alto e implica un factor elevado de la varianza del $\\beta$ correspondiente. Esto indicativo suficiente de que el modelo tiene problemas de multicolinealidad. Ademas, los resultados obtenidos en la gráfica, donde se evidencia multicolinealidad entre todos los pares de variables, nos permite identifica una alta correlación entre las variables (tanto positiva como negativa)."
   ]
  },
  {
   "cell_type": "markdown",
   "id": "4d6d0d70",
   "metadata": {},
   "source": [
    "3. Estime los parámetros $\\beta$ usando penalización tipo Ridge con el $\\lambda$ que considere más apropiado. Recuerde que los datos se deben centrar y estandarizar."
   ]
  },
  {
   "cell_type": "code",
   "execution_count": 4,
   "id": "374ce33f",
   "metadata": {},
   "outputs": [
    {
     "data": {
      "image/png": "[encoded data removed]",
      "text/plain": [
       "plot without title"
      ]
     },
     "metadata": {
      "image/png": {
       "height": 420,
       "width": 420
      }
     },
     "output_type": "display_data"
    }
   ],
   "source": [
    "X <- cbind(x1, x2, x3)\n",
    "\n",
    "#Ridge Regression\n",
    "Xs <- scale(X, center = TRUE, scale = TRUE)\n",
    "n <- length(y)\n",
    "ys <- y - mean(y)\n",
    "\n",
    "XsTXs <- t(Xs) %*% Xs\n",
    "\n",
    "Hs <- solve(XsTXs)\n",
    "\n",
    "betas <- Hs %*% t(Xs) %*% ys\n",
    "\n",
    "#MSE=sum((ys-xs%*%betas)^2)/n-3\n",
    "\n",
    "#Voy a utilizar el estimador tipo Ridge\n",
    "\n",
    "lambda <- 0\n",
    "lambdas <- vector()\n",
    "\n",
    "VIF_lambda <- vector()\n",
    "\n",
    "lambda_def <- 0\n",
    "\n",
    "for(i in 0:1000){\n",
    "    \n",
    "    lambda <- lambda + i / 100000\n",
    "    lambdas <- c(lambdas, lambda)\n",
    "    \n",
    "    beta_R <- solve(XsTXs + diag(rep(lambda, 3))) %*% t(Xs) %*% ys\n",
    "\n",
    "    var_beta_no_s <- (solve(XsTXs + diag(rep(lambda, 3)))\n",
    "                      %*% XsTXs %*% solve(XsTXs + diag(rep(lambda, 3))))\n",
    "\n",
    "    new_VIF <- diag(var_beta_no_s) * (n - 1)\n",
    "    \n",
    "    VIF_lambda <- cbind(VIF_lambda, new_VIF)\n",
    "    \n",
    "    if(sum(new_VIF >= 10)){\n",
    "        lambda_def <- lambda\n",
    "    }\n",
    "    \n",
    "}\n",
    "\n",
    "plot(lambdas, VIF_lambda[1,], type = \"l\", col = \"blue\", ylab = \"VIF\")\n",
    "lines(lambdas, VIF_lambda[2,], col = \"red\")\n",
    "lines(lambdas, VIF_lambda[3,], col = \"black\")\n",
    "abline(10, 0, lty = 2)\n",
    "abline(v = lambda_def)\n",
    "legend(4, 25, legend = c(\"VIF X_1\", \"VIF X_2\", \"VIF X_3\"),\n",
    "       col = c(\"blue\", \"red\", \"black\"), lty = 1, cex = 0.8)\n"
   ]
  },
  {
   "cell_type": "markdown",
   "id": "d42ec71e",
   "metadata": {},
   "source": [
    "El lambda a partir del cual todos los VIF son menores a 10 es: 1.72578."
   ]
  },
  {
   "cell_type": "code",
   "execution_count": 5,
   "id": "1310997b",
   "metadata": {},
   "outputs": [
    {
     "data": {
      "text/html": [
       "<table class=\"dataframe\">\n",
       "<caption>A matrix: 3 × 1 of type dbl</caption>\n",
       "<tbody>\n",
       "\t<tr><td> 5.664391</td></tr>\n",
       "\t<tr><td>15.437419</td></tr>\n",
       "\t<tr><td>-8.852760</td></tr>\n",
       "</tbody>\n",
       "</table>\n"
      ],
      "text/latex": [
       "A matrix: 3 × 1 of type dbl\n",
       "\\begin{tabular}{l}\n",
       "\t  5.664391\\\\\n",
       "\t 15.437419\\\\\n",
       "\t -8.852760\\\\\n",
       "\\end{tabular}\n"
      ],
      "text/markdown": [
       "\n",
       "A matrix: 3 × 1 of type dbl\n",
       "\n",
       "|  5.664391 |\n",
       "| 15.437419 |\n",
       "| -8.852760 |\n",
       "\n"
      ],
      "text/plain": [
       "     [,1]     \n",
       "[1,]  5.664391\n",
       "[2,] 15.437419\n",
       "[3,] -8.852760"
      ]
     },
     "metadata": {},
     "output_type": "display_data"
    }
   ],
   "source": [
    "beta_R <- solve(XsTXs + diag(rep(lambda_def, 3))) %*% t(Xs) %*% ys\n",
    "beta_R"
   ]
  },
  {
   "cell_type": "markdown",
   "id": "8c4195d4",
   "metadata": {},
   "source": [
    "Note que estos $\\hat{\\beta}$ reflejan el efecto de las variables escaladas y centradas."
   ]
  },
  {
   "cell_type": "markdown",
   "id": "659f340d",
   "metadata": {},
   "source": [
    "4. Calcule un intervalo de confianza al $95\\%$ para el efecto de las horas semanales de ejercicio sobre el índice de glicemia en las unidades originales (antes de escalar)."
   ]
  },
  {
   "cell_type": "markdown",
   "id": "b74bb86e",
   "metadata": {},
   "source": [
    "Calculamos el intervalo de confianza por la técnica de muestreo _bootstrap_. El efecto lo calculamos a partir de regresión ridge con un $\\lambda = 1.72578$."
   ]
  },
  {
   "cell_type": "code",
   "execution_count": 6,
   "id": "98bd3643",
   "metadata": {},
   "outputs": [
    {
     "data": {
      "image/png": "[encoded data removed]",
      "text/plain": [
       "Plot with title “Histogram of betas_r_2”"
      ]
     },
     "metadata": {
      "image/png": {
       "height": 420,
       "width": 420
      }
     },
     "output_type": "display_data"
    }
   ],
   "source": [
    "sample_size <- 50\n",
    "\n",
    "num_iter <- 10000\n",
    "\n",
    "betas_r_2 <- vector()\n",
    "\n",
    "X <- cbind(data$x1, data$x2, data$x3)\n",
    "\n",
    "Xs <- scale(X, center = TRUE, scale = TRUE)\n",
    "ys <- y - mean(y)\n",
    "\n",
    "for(i in 1:num_iter){\n",
    "    \n",
    "    rows <- sample(nrow(data), sample_size)\n",
    "    \n",
    "    X_new_sample <- Xs[rows, ]\n",
    "    \n",
    "    y_new_sample <- ys[rows, ]\n",
    "    \n",
    "    XsTXs <- t(X_new_sample) %*% X_new_sample\n",
    "    \n",
    "    \n",
    "    beta_R <- solve(XsTXs + diag(rep(lambda_def, 3))) %*% t(X_new_sample) %*% y_new_sample\n",
    "    \n",
    "    betas_r_2 <- c(betas_r_2, beta_R[2])\n",
    "}\n",
    "\n",
    "\n",
    "betas_r_2 <- sqrt(sum((X[, 1] - mean(X[, 1]))^2) / (n - 1)) * betas_r_2\n",
    "\n",
    "IC <- quantile(betas_r_2, c(2.5 / 100, 97.5 / 100))\n",
    "\n",
    "hist(betas_r_2)\n",
    "abline(v = IC[1])\n",
    "abline(v = IC[2])"
   ]
  },
  {
   "cell_type": "code",
   "execution_count": 7,
   "id": "a6caf5df",
   "metadata": {},
   "outputs": [
    {
     "data": {
      "text/html": [
       "<style>\n",
       ".dl-inline {width: auto; margin:0; padding: 0}\n",
       ".dl-inline>dt, .dl-inline>dd {float: none; width: auto; display: inline-block}\n",
       ".dl-inline>dt::after {content: \":\\0020\"; padding-right: .5ex}\n",
       ".dl-inline>dt:not(:first-of-type) {padding-left: .5ex}\n",
       "</style><dl class=dl-inline><dt>2.5%</dt><dd>33.9180259255076</dd><dt>97.5%</dt><dd>46.041884002589</dd></dl>\n"
      ],
      "text/latex": [
       "\\begin{description*}\n",
       "\\item[2.5\\textbackslash{}\\%] 33.9180259255076\n",
       "\\item[97.5\\textbackslash{}\\%] 46.041884002589\n",
       "\\end{description*}\n"
      ],
      "text/markdown": [
       "2.5%\n",
       ":   33.918025925507697.5%\n",
       ":   46.041884002589\n",
       "\n"
      ],
      "text/plain": [
       "    2.5%    97.5% \n",
       "33.91803 46.04188 "
      ]
     },
     "metadata": {},
     "output_type": "display_data"
    }
   ],
   "source": [
    "quantile(betas_r_2, c(2.5 / 100, 97.5 / 100))"
   ]
  },
  {
   "cell_type": "markdown",
   "id": "7cf29172",
   "metadata": {},
   "source": [
    "Por medio de bootstrapping, afirmamos que el valor de $\\hat{\\beta}_{x_{2}}$ cae en este intervalo el 95% de las muestras."
   ]
  }
 ],
 "metadata": {
  "kernelspec": {
   "display_name": "R",
   "language": "R",
   "name": "ir"
  },
  "language_info": {
   "codemirror_mode": "r",
   "file_extension": ".r",
   "mimetype": "text/x-r-source",
   "name": "R",
   "pygments_lexer": "r",
   "version": "4.1.3"
  }
 },
 "nbformat": 4,
 "nbformat_minor": 5
}
