{
 "cells": [
  {
   "cell_type": "markdown",
   "id": "5c1e0ad0",
   "metadata": {},
   "source": [
    "# TALLER Clase 25 - Modelos lineales generalizados"
   ]
  },
  {
   "cell_type": "markdown",
   "id": "9efa6f9d",
   "metadata": {},
   "source": [
    "Alejandro Mantilla Redondo - 201711304\n",
    "\n",
    "Ximena Palacio Argüello - 201730995"
   ]
  },
  {
   "cell_type": "markdown",
   "id": "4f619dc5",
   "metadata": {},
   "source": [
    "En el paquete ISLR de R, la base de datos OJ contiene información sobre la venta de jugos de naranja (citrus hill `CH` o Minute Maid `MM`), en función de varias variables. Use las variables: precio de CH, precio de MM, descuento en CH, desceunto en MM, y las dos indicadoras de si son productos especiales."
   ]
  },
  {
   "cell_type": "code",
   "execution_count": 3,
   "id": "fda5f372",
   "metadata": {},
   "outputs": [
    {
     "data": {
      "text/html": [
       "<table class=\"dataframe\">\n",
       "<caption>A data.frame: 6 × 7</caption>\n",
       "<thead>\n",
       "\t<tr><th></th><th scope=col>Purchase</th><th scope=col>PriceCH</th><th scope=col>PriceMM</th><th scope=col>DiscCH</th><th scope=col>DiscMM</th><th scope=col>SpecialCH</th><th scope=col>SpecialMM</th></tr>\n",
       "\t<tr><th></th><th scope=col>&lt;dbl&gt;</th><th scope=col>&lt;dbl&gt;</th><th scope=col>&lt;dbl&gt;</th><th scope=col>&lt;dbl&gt;</th><th scope=col>&lt;dbl&gt;</th><th scope=col>&lt;dbl&gt;</th><th scope=col>&lt;dbl&gt;</th></tr>\n",
       "</thead>\n",
       "<tbody>\n",
       "\t<tr><th scope=row>1</th><td>1</td><td>1.75</td><td>1.99</td><td>0.00</td><td>0.0</td><td>0</td><td>0</td></tr>\n",
       "\t<tr><th scope=row>2</th><td>1</td><td>1.75</td><td>1.99</td><td>0.00</td><td>0.3</td><td>0</td><td>1</td></tr>\n",
       "\t<tr><th scope=row>3</th><td>1</td><td>1.86</td><td>2.09</td><td>0.17</td><td>0.0</td><td>0</td><td>0</td></tr>\n",
       "\t<tr><th scope=row>4</th><td>0</td><td>1.69</td><td>1.69</td><td>0.00</td><td>0.0</td><td>0</td><td>0</td></tr>\n",
       "\t<tr><th scope=row>5</th><td>1</td><td>1.69</td><td>1.69</td><td>0.00</td><td>0.0</td><td>0</td><td>0</td></tr>\n",
       "\t<tr><th scope=row>6</th><td>1</td><td>1.69</td><td>1.99</td><td>0.00</td><td>0.0</td><td>0</td><td>1</td></tr>\n",
       "</tbody>\n",
       "</table>\n"
      ],
      "text/latex": [
       "A data.frame: 6 × 7\n",
       "\\begin{tabular}{r|lllllll}\n",
       "  & Purchase & PriceCH & PriceMM & DiscCH & DiscMM & SpecialCH & SpecialMM\\\\\n",
       "  & <dbl> & <dbl> & <dbl> & <dbl> & <dbl> & <dbl> & <dbl>\\\\\n",
       "\\hline\n",
       "\t1 & 1 & 1.75 & 1.99 & 0.00 & 0.0 & 0 & 0\\\\\n",
       "\t2 & 1 & 1.75 & 1.99 & 0.00 & 0.3 & 0 & 1\\\\\n",
       "\t3 & 1 & 1.86 & 2.09 & 0.17 & 0.0 & 0 & 0\\\\\n",
       "\t4 & 0 & 1.69 & 1.69 & 0.00 & 0.0 & 0 & 0\\\\\n",
       "\t5 & 1 & 1.69 & 1.69 & 0.00 & 0.0 & 0 & 0\\\\\n",
       "\t6 & 1 & 1.69 & 1.99 & 0.00 & 0.0 & 0 & 1\\\\\n",
       "\\end{tabular}\n"
      ],
      "text/markdown": [
       "\n",
       "A data.frame: 6 × 7\n",
       "\n",
       "| <!--/--> | Purchase &lt;dbl&gt; | PriceCH &lt;dbl&gt; | PriceMM &lt;dbl&gt; | DiscCH &lt;dbl&gt; | DiscMM &lt;dbl&gt; | SpecialCH &lt;dbl&gt; | SpecialMM &lt;dbl&gt; |\n",
       "|---|---|---|---|---|---|---|---|\n",
       "| 1 | 1 | 1.75 | 1.99 | 0.00 | 0.0 | 0 | 0 |\n",
       "| 2 | 1 | 1.75 | 1.99 | 0.00 | 0.3 | 0 | 1 |\n",
       "| 3 | 1 | 1.86 | 2.09 | 0.17 | 0.0 | 0 | 0 |\n",
       "| 4 | 0 | 1.69 | 1.69 | 0.00 | 0.0 | 0 | 0 |\n",
       "| 5 | 1 | 1.69 | 1.69 | 0.00 | 0.0 | 0 | 0 |\n",
       "| 6 | 1 | 1.69 | 1.99 | 0.00 | 0.0 | 0 | 1 |\n",
       "\n"
      ],
      "text/plain": [
       "  Purchase PriceCH PriceMM DiscCH DiscMM SpecialCH SpecialMM\n",
       "1 1        1.75    1.99    0.00   0.0    0         0        \n",
       "2 1        1.75    1.99    0.00   0.3    0         1        \n",
       "3 1        1.86    2.09    0.17   0.0    0         0        \n",
       "4 0        1.69    1.69    0.00   0.0    0         0        \n",
       "5 1        1.69    1.69    0.00   0.0    0         0        \n",
       "6 1        1.69    1.99    0.00   0.0    0         1        "
      ]
     },
     "metadata": {},
     "output_type": "display_data"
    }
   ],
   "source": [
    "library(ISLR)\n",
    "datos <- ISLR::OJ[, c(\"Purchase\",\n",
    "                      \"PriceCH\",\n",
    "                      \"PriceMM\",\n",
    "                      \"DiscCH\",\n",
    "                      \"DiscMM\",\n",
    "                      \"SpecialCH\",\n",
    "                      \"SpecialMM\")]\n",
    "\n",
    "datos$Purchase <- ifelse(datos$Purchase == \"CH\", 1, 0)\n",
    "\n",
    "head(datos)\n"
   ]
  },
  {
   "cell_type": "markdown",
   "id": "66ea266a",
   "metadata": {},
   "source": [
    "## 1. Estime el modelo."
   ]
  },
  {
   "cell_type": "markdown",
   "id": "08626d18",
   "metadata": {},
   "source": [
    "$$\n",
    "\\ln(\\frac{p}{1-p}) = \\beta_0 + \\beta_{\\text{priceCH}}x_{\\text{priceCH}} + \\beta_{\\text{priceMM}}x_{\\text{priceMM}} + \\beta_{\\text{discCH}}x_{\\text{discCH}} + \\beta_{\\text{discMM}}x_{\\text{discMM}} + \\gamma_{\\text{specialCH}}x_{\\text{specialCH}} + \\gamma_{\\text{specialMM}}x_{\\text{specialMM}} \n",
    "$$\n",
    "\n",
    "En este modelo, $p$ es la probabilidad de `default = No`."
   ]
  },
  {
   "cell_type": "code",
   "execution_count": 4,
   "id": "edf043e6",
   "metadata": {},
   "outputs": [
    {
     "data": {
      "text/plain": [
       "\n",
       "Call:\n",
       "glm(formula = Purchase ~ (PriceCH + PriceMM + DiscCH + DiscMM) * \n",
       "    (SpecialCH + SpecialMM), family = \"binomial\", data = datos)\n",
       "\n",
       "Deviance Residuals: \n",
       "    Min       1Q   Median       3Q      Max  \n",
       "-2.5086  -1.2690   0.7940   0.9426   1.9369  \n",
       "\n",
       "Coefficients:\n",
       "                  Estimate Std. Error z value Pr(>|z|)    \n",
       "(Intercept)        -4.0257     1.5355  -2.622  0.00875 ** \n",
       "PriceCH            -1.4890     1.0121  -1.471  0.14125    \n",
       "PriceMM             3.4653     0.7261   4.773 1.82e-06 ***\n",
       "DiscCH              2.7951     1.6154   1.730  0.08358 .  \n",
       "DiscMM              0.2719     0.5745   0.473  0.63600    \n",
       "SpecialCH           5.7541     4.0490   1.421  0.15529    \n",
       "SpecialMM           6.6321     3.5393   1.874  0.06096 .  \n",
       "PriceCH:SpecialCH  -9.3119     3.2245  -2.888  0.00388 ** \n",
       "PriceCH:SpecialMM  -1.2363     2.7309  -0.453  0.65076    \n",
       "PriceMM:SpecialCH   5.8573     2.4468   2.394  0.01667 *  \n",
       "PriceMM:SpecialMM  -2.0766     1.8972  -1.095  0.27371    \n",
       "DiscCH:SpecialCH    1.5476     2.1430   0.722  0.47020    \n",
       "DiscCH:SpecialMM   -1.3142     2.2062  -0.596  0.55138    \n",
       "DiscMM:SpecialCH   -2.2665     1.2006  -1.888  0.05905 .  \n",
       "DiscMM:SpecialMM   -2.7739     0.9197  -3.016  0.00256 ** \n",
       "---\n",
       "Signif. codes:  0 ‘***’ 0.001 ‘**’ 0.01 ‘*’ 0.05 ‘.’ 0.1 ‘ ’ 1\n",
       "\n",
       "(Dispersion parameter for binomial family taken to be 1)\n",
       "\n",
       "    Null deviance: 1430.9  on 1069  degrees of freedom\n",
       "Residual deviance: 1288.0  on 1055  degrees of freedom\n",
       "AIC: 1318\n",
       "\n",
       "Number of Fisher Scoring iterations: 5\n"
      ]
     },
     "metadata": {},
     "output_type": "display_data"
    }
   ],
   "source": [
    "modelo <- glm(Purchase ~ (PriceCH + PriceMM + DiscCH + DiscMM)\n",
    "                       * (SpecialCH + SpecialMM),\n",
    "              data = datos, family = 'binomial')\n",
    "summary(modelo)\n"
   ]
  },
  {
   "cell_type": "markdown",
   "id": "041b65d0",
   "metadata": {},
   "source": [
    "## 2. Interprete los parámetros."
   ]
  },
  {
   "cell_type": "markdown",
   "id": "920596af",
   "metadata": {},
   "source": [
    "Toca cambiar esto que copié del taller original."
   ]
  },
  {
   "cell_type": "code",
   "execution_count": 5,
   "id": "70474f4b",
   "metadata": {
    "scrolled": true
   },
   "outputs": [
    {
     "data": {
      "text/html": [
       "<strong>(Intercept):</strong> 0.0175378986459565"
      ],
      "text/latex": [
       "\\textbf{(Intercept):} 0.0175378986459565"
      ],
      "text/markdown": [
       "**(Intercept):** 0.0175378986459565"
      ],
      "text/plain": [
       "(Intercept) \n",
       "  0.0175379 "
      ]
     },
     "metadata": {},
     "output_type": "display_data"
    }
   ],
   "source": [
    "p = 1 / (1 / exp(modelo$coefficients[1]) + 1)\n",
    "p"
   ]
  },
  {
   "cell_type": "markdown",
   "id": "da514196",
   "metadata": {},
   "source": [
    "El intercepto del modelo nos dice que el valor esperado del logaritmo del _odds ratio_ cuando no se es estudiante, no se tienen fondos y no se tienen ingresos, es -10.87. En terminos de la probabilidad de no default, $p = 0.000019$. "
   ]
  },
  {
   "cell_type": "code",
   "execution_count": 4,
   "id": "aa916f04",
   "metadata": {},
   "outputs": [
    {
     "data": {
      "text/html": [
       "<strong>(Intercept):</strong> 9.97098708026277e-06"
      ],
      "text/latex": [
       "\\textbf{(Intercept):} 9.97098708026277e-06"
      ],
      "text/markdown": [
       "**(Intercept):** 9.97098708026277e-06"
      ],
      "text/plain": [
       " (Intercept) \n",
       "9.970987e-06 "
      ]
     },
     "metadata": {},
     "output_type": "display_data"
    }
   ],
   "source": [
    "p = 1 / (1 / (exp(modelo$coefficients[1] + modelo$coefficients[2])) + 1)\n",
    "p"
   ]
  },
  {
   "cell_type": "markdown",
   "id": "8c35c9ff",
   "metadata": {},
   "source": [
    "El intercepto del modelo nos dice que el valor esperado del logaritmo del _odds ratio_ cuando se es estudiante, no se tienen fondos y no se tienen ingresos, es -11.515821002813. En terminos de la probabilidad de no default, $p = 0.00000997$. "
   ]
  },
  {
   "cell_type": "code",
   "execution_count": 5,
   "id": "3c62715f",
   "metadata": {},
   "outputs": [
    {
     "data": {
      "text/html": [
       "<strong>balance:</strong> 1.00575299050977"
      ],
      "text/latex": [
       "\\textbf{balance:} 1.00575299050977"
      ],
      "text/markdown": [
       "**balance:** 1.00575299050977"
      ],
      "text/plain": [
       " balance \n",
       "1.005753 "
      ]
     },
     "metadata": {},
     "output_type": "display_data"
    }
   ],
   "source": [
    "exp(modelo$coefficients[3])"
   ]
  },
  {
   "cell_type": "markdown",
   "id": "0e596ee2",
   "metadata": {},
   "source": [
    "Si el balance incrementa en una unidad, el logaritmo del _odds ratio_ incrementa $\\beta_{\\text{balance}}$ unidades, es decir, 0.005737. En términos del _odds ratio_, este incrementan en un factor de $e^{\\beta_{\\text{balance}}} = 1.00575299050977$."
   ]
  },
  {
   "cell_type": "code",
   "execution_count": 6,
   "id": "a0541bad",
   "metadata": {},
   "outputs": [
    {
     "data": {
      "text/html": [
       "<strong>income:</strong> 1.00000303345473"
      ],
      "text/latex": [
       "\\textbf{income:} 1.00000303345473"
      ],
      "text/markdown": [
       "**income:** 1.00000303345473"
      ],
      "text/plain": [
       "  income \n",
       "1.000003 "
      ]
     },
     "metadata": {},
     "output_type": "display_data"
    }
   ],
   "source": [
    "exp(modelo$coefficients[4])"
   ]
  },
  {
   "cell_type": "markdown",
   "id": "06dcc96e",
   "metadata": {},
   "source": [
    "Si el income incrementa en una unidad, el logaritmo del _odds ratio_ incrementa $\\beta_{\\text{income}}$ unidades, es decir, 0.000003033. En términos del _odds ratio_, este incrementan en un factor de $e^{\\beta_{\\text{income}}} = 1.00000303345473$."
   ]
  },
  {
   "cell_type": "markdown",
   "id": "56218211",
   "metadata": {},
   "source": []
  },
  {
   "cell_type": "code",
   "execution_count": null,
   "id": "27c312f5",
   "metadata": {},
   "outputs": [],
   "source": []
  },
  {
   "cell_type": "markdown",
   "id": "817aca04",
   "metadata": {},
   "source": [
    "## 3. ¿Es el modelo significativo?"
   ]
  },
  {
   "cell_type": "markdown",
   "id": "8d3d92fd",
   "metadata": {},
   "source": []
  },
  {
   "cell_type": "code",
   "execution_count": null,
   "id": "388c1133",
   "metadata": {},
   "outputs": [],
   "source": []
  },
  {
   "cell_type": "markdown",
   "id": "6d79f8bb",
   "metadata": {},
   "source": [
    "## 4. ¿Es cierto que las variables de si el producto es especial no afectan las ventas?"
   ]
  },
  {
   "cell_type": "markdown",
   "id": "1d1c6c76",
   "metadata": {},
   "source": []
  },
  {
   "cell_type": "code",
   "execution_count": null,
   "id": "8761eb87",
   "metadata": {},
   "outputs": [],
   "source": []
  },
  {
   "cell_type": "markdown",
   "id": "bdd4fbfc",
   "metadata": {},
   "source": [
    "## 5. ¿Es cierto que el efecto del precio de CH es el negativo del precio de MM?"
   ]
  },
  {
   "cell_type": "markdown",
   "id": "b10a7006",
   "metadata": {},
   "source": []
  },
  {
   "cell_type": "code",
   "execution_count": null,
   "id": "d4198bf9",
   "metadata": {},
   "outputs": [],
   "source": []
  },
  {
   "cell_type": "markdown",
   "id": "d847eb03",
   "metadata": {},
   "source": [
    "## 6. Haga un intervalo para la probabilidad de compra de MM si precio CH=1.5, precio MM=2.1, descuento CH=0, descuento MM=.2, Special CH=SpecialMM=0. "
   ]
  },
  {
   "cell_type": "markdown",
   "id": "46cc9fd2",
   "metadata": {},
   "source": []
  },
  {
   "cell_type": "code",
   "execution_count": null,
   "id": "6b8f6845",
   "metadata": {},
   "outputs": [],
   "source": []
  },
  {
   "cell_type": "code",
   "execution_count": null,
   "id": "45312b50",
   "metadata": {},
   "outputs": [],
   "source": [
    "\"\n",
    "Código clase 23.\n",
    "\n",
    "En el paquete ISLR de R, la base de datos Default contien información sobre\n",
    "si las personas que piden un préstamo no pagan (hacen default) o si lo pagan\n",
    "completo. La variable de respuesta es 'default' y se usan las variables \n",
    "explicativa que dicen si la persona es estudiante, el balance de la cuenta\n",
    "y el ingreso.\n",
    "\n",
    "1. Estime el modelo\n",
    "2. Interprete los parámetros\n",
    "3. Es el modelo significativo?\n",
    "4. Es cierto que las variables de estudiante y el ingreso se pueden omitir\n",
    "   en el modelo?\n",
    "5. Es cierto que el intercepto debe ser menor a 2?\n",
    "6. Es cierto que beta_2 es 100 veces beta 3?\n",
    "7. Haga un intervalo para la probabilidad de default para un estudiante\n",
    "   con balance 900 e ingreso 20000. \n",
    "8. De acuerdo al banco, para un estudiante con balance 1000 e ingreso 18000\n",
    "   la porbabilidad de default es 0.8, mientas para un estudiante con balance\n",
    "   de 1500 e ingreso de 22000, la porbabilidad es de 0.2. Encuentra evidencia\n",
    "   para refutar esta información?\n",
    "\"\n",
    "########################################################\n",
    "#Solution\n",
    "\n",
    "library(ISLR)\n",
    "data=Default\n",
    "\n",
    "fit=glm(default~.,data=data,family=\"binomial\")\n",
    "summary(fit)\n",
    "\n",
    "LR=2920.6-1571.5\n",
    "pvalor=1-pchisq(LR,3)\n",
    "\n",
    "pvalor\n",
    "\n",
    "nul=glm(default~1,data=data,family=\"binomial\")\n",
    "summary(nul)\n",
    "\n",
    "anova(nul,fit,test=\"LRT\")\n",
    "\n",
    "nul2=glm(default~balance,data=data,family=\"binomial\")\n",
    "\n",
    "anova(nul2,fit,test=\"LRT\")\n",
    "\n",
    "student2=ifelse(data$student==\"Yes\",1,0)\n",
    "data$student=student2\n",
    "\n",
    "x=as.matrix(cbind(rep(1,dim(data)[1]),data[,2:4]))\n",
    "head(x)\n",
    "\n",
    "var_beta=solve(t(x)%*%(diag(fit$fitted.values*(1-fit$fitted.values)))%*%x)\n",
    "\n",
    "ep=(fit$coefficients[1]-2)/sqrt(var_beta[1,1])\n",
    "\n",
    "########################################\n",
    "c=c(0,0,1,-100)\n",
    "theta=t(fit$coefficients)%*%c\n",
    "\n",
    "var_theta=t(c)%*%var_beta%*%c\n",
    "\n",
    "ep2=theta/sqrt(var_theta)\n",
    "\n",
    "\n",
    "############################################\n",
    "c=c(1,0,900,20000)\n",
    "mu=t(c)%*%fit$coefficients\n",
    "\n",
    "sup=mu+qnorm(0.975)*sqrt(t(c)%*%var_beta%*%c)\n",
    "inf=mu-qnorm(0.975)*sqrt(t(c)%*%var_beta%*%c)\n",
    "\n",
    "supp=exp(sup)/(1+exp(sup))\n",
    "infpp=exp(inf)/(1+exp(inf))\n",
    "interp=c(infpp,supp)"
   ]
  }
 ],
 "metadata": {
  "kernelspec": {
   "display_name": "R",
   "language": "R",
   "name": "ir"
  },
  "language_info": {
   "codemirror_mode": "r",
   "file_extension": ".r",
   "mimetype": "text/x-r-source",
   "name": "R",
   "pygments_lexer": "r",
   "version": "4.2.1"
  }
 },
 "nbformat": 4,
 "nbformat_minor": 5
}
