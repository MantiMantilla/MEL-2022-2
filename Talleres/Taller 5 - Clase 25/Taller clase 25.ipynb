{
 "cells": [
  {
   "cell_type": "markdown",
   "id": "5c1e0ad0",
   "metadata": {},
   "source": [
    "# TALLER Clase 25 - Modelos lineales generalizados"
   ]
  },
  {
   "cell_type": "markdown",
   "id": "9efa6f9d",
   "metadata": {},
   "source": [
    "Alejandro Mantilla Redondo - 201711304\n",
    "\n",
    "Ximena Palacio Argüello - 201730995"
   ]
  },
  {
   "cell_type": "markdown",
   "id": "4f619dc5",
   "metadata": {},
   "source": [
    "En el paquete ISLR de R, la base de datos `OJ` contiene información sobre la venta de jugos de naranja (citrus hill `CH` o Minute Maid `MM`), en función de varias variables. Use las variables: precio de CH, precio de MM, descuento en CH, desceunto en MM, y las dos indicadoras de si son productos especiales."
   ]
  },
  {
   "cell_type": "code",
   "execution_count": 1,
   "id": "fda5f372",
   "metadata": {},
   "outputs": [
    {
     "data": {
      "text/html": [
       "<table class=\"dataframe\">\n",
       "<caption>A data.frame: 6 × 7</caption>\n",
       "<thead>\n",
       "\t<tr><th></th><th scope=col>Purchase</th><th scope=col>PriceCH</th><th scope=col>PriceMM</th><th scope=col>DiscCH</th><th scope=col>DiscMM</th><th scope=col>SpecialCH</th><th scope=col>SpecialMM</th></tr>\n",
       "\t<tr><th></th><th scope=col>&lt;dbl&gt;</th><th scope=col>&lt;dbl&gt;</th><th scope=col>&lt;dbl&gt;</th><th scope=col>&lt;dbl&gt;</th><th scope=col>&lt;dbl&gt;</th><th scope=col>&lt;dbl&gt;</th><th scope=col>&lt;dbl&gt;</th></tr>\n",
       "</thead>\n",
       "<tbody>\n",
       "\t<tr><th scope=row>1</th><td>1</td><td>1.75</td><td>1.99</td><td>0.00</td><td>0.0</td><td>0</td><td>0</td></tr>\n",
       "\t<tr><th scope=row>2</th><td>1</td><td>1.75</td><td>1.99</td><td>0.00</td><td>0.3</td><td>0</td><td>1</td></tr>\n",
       "\t<tr><th scope=row>3</th><td>1</td><td>1.86</td><td>2.09</td><td>0.17</td><td>0.0</td><td>0</td><td>0</td></tr>\n",
       "\t<tr><th scope=row>4</th><td>0</td><td>1.69</td><td>1.69</td><td>0.00</td><td>0.0</td><td>0</td><td>0</td></tr>\n",
       "\t<tr><th scope=row>5</th><td>1</td><td>1.69</td><td>1.69</td><td>0.00</td><td>0.0</td><td>0</td><td>0</td></tr>\n",
       "\t<tr><th scope=row>6</th><td>1</td><td>1.69</td><td>1.99</td><td>0.00</td><td>0.0</td><td>0</td><td>1</td></tr>\n",
       "</tbody>\n",
       "</table>\n"
      ],
      "text/latex": [
       "A data.frame: 6 × 7\n",
       "\\begin{tabular}{r|lllllll}\n",
       "  & Purchase & PriceCH & PriceMM & DiscCH & DiscMM & SpecialCH & SpecialMM\\\\\n",
       "  & <dbl> & <dbl> & <dbl> & <dbl> & <dbl> & <dbl> & <dbl>\\\\\n",
       "\\hline\n",
       "\t1 & 1 & 1.75 & 1.99 & 0.00 & 0.0 & 0 & 0\\\\\n",
       "\t2 & 1 & 1.75 & 1.99 & 0.00 & 0.3 & 0 & 1\\\\\n",
       "\t3 & 1 & 1.86 & 2.09 & 0.17 & 0.0 & 0 & 0\\\\\n",
       "\t4 & 0 & 1.69 & 1.69 & 0.00 & 0.0 & 0 & 0\\\\\n",
       "\t5 & 1 & 1.69 & 1.69 & 0.00 & 0.0 & 0 & 0\\\\\n",
       "\t6 & 1 & 1.69 & 1.99 & 0.00 & 0.0 & 0 & 1\\\\\n",
       "\\end{tabular}\n"
      ],
      "text/markdown": [
       "\n",
       "A data.frame: 6 × 7\n",
       "\n",
       "| <!--/--> | Purchase &lt;dbl&gt; | PriceCH &lt;dbl&gt; | PriceMM &lt;dbl&gt; | DiscCH &lt;dbl&gt; | DiscMM &lt;dbl&gt; | SpecialCH &lt;dbl&gt; | SpecialMM &lt;dbl&gt; |\n",
       "|---|---|---|---|---|---|---|---|\n",
       "| 1 | 1 | 1.75 | 1.99 | 0.00 | 0.0 | 0 | 0 |\n",
       "| 2 | 1 | 1.75 | 1.99 | 0.00 | 0.3 | 0 | 1 |\n",
       "| 3 | 1 | 1.86 | 2.09 | 0.17 | 0.0 | 0 | 0 |\n",
       "| 4 | 0 | 1.69 | 1.69 | 0.00 | 0.0 | 0 | 0 |\n",
       "| 5 | 1 | 1.69 | 1.69 | 0.00 | 0.0 | 0 | 0 |\n",
       "| 6 | 1 | 1.69 | 1.99 | 0.00 | 0.0 | 0 | 1 |\n",
       "\n"
      ],
      "text/plain": [
       "  Purchase PriceCH PriceMM DiscCH DiscMM SpecialCH SpecialMM\n",
       "1 1        1.75    1.99    0.00   0.0    0         0        \n",
       "2 1        1.75    1.99    0.00   0.3    0         1        \n",
       "3 1        1.86    2.09    0.17   0.0    0         0        \n",
       "4 0        1.69    1.69    0.00   0.0    0         0        \n",
       "5 1        1.69    1.69    0.00   0.0    0         0        \n",
       "6 1        1.69    1.99    0.00   0.0    0         1        "
      ]
     },
     "metadata": {},
     "output_type": "display_data"
    }
   ],
   "source": [
    "library(ISLR)\n",
    "datos <- ISLR::OJ[, c(\"Purchase\",\n",
    "                      \"PriceCH\",\n",
    "                      \"PriceMM\",\n",
    "                      \"DiscCH\",\n",
    "                      \"DiscMM\",\n",
    "                      \"SpecialCH\",\n",
    "                      \"SpecialMM\")]\n",
    "\n",
    "datos$Purchase <- ifelse(datos$Purchase == \"CH\", 1, 0)\n",
    "\n",
    "head(datos)\n"
   ]
  },
  {
   "cell_type": "markdown",
   "id": "66ea266a",
   "metadata": {},
   "source": [
    "## 1. Estime el modelo."
   ]
  },
  {
   "cell_type": "markdown",
   "id": "08626d18",
   "metadata": {},
   "source": [
    "$$\n",
    "\\ln\\left(\\frac{p}{1-p}\\right) = \\beta_0 + \\beta_{\\text{priceCH}}x_{\\text{priceCH}} + \\beta_{\\text{priceMM}}x_{\\text{priceMM}} + \\beta_{\\text{discCH}}x_{\\text{discCH}} + \\beta_{\\text{discMM}}x_{\\text{discMM}}\n",
    "$$\n",
    "\n",
    "Se toma como una evento positivo la compra de `CH`. $p$ es por lo tanto la probabilidad estimada de que un registro resulte en la compra de `CH`."
   ]
  },
  {
   "cell_type": "code",
   "execution_count": 2,
   "id": "edf043e6",
   "metadata": {},
   "outputs": [
    {
     "data": {
      "text/plain": [
       "\n",
       "Call:\n",
       "glm(formula = Purchase ~ ., family = \"binomial\", data = datos)\n",
       "\n",
       "Deviance Residuals: \n",
       "    Min       1Q   Median       3Q      Max  \n",
       "-2.2208  -1.1650   0.7689   0.9473   1.7500  \n",
       "\n",
       "Coefficients:\n",
       "            Estimate Std. Error z value Pr(>|z|)    \n",
       "(Intercept)  -1.7940     1.2818  -1.400  0.16165    \n",
       "PriceCH      -2.4158     0.8602  -2.809  0.00498 ** \n",
       "PriceMM       3.2613     0.6220   5.243 1.58e-07 ***\n",
       "DiscCH        3.5402     0.8306   4.262 2.03e-05 ***\n",
       "DiscMM       -1.2438     0.3816  -3.259  0.00112 ** \n",
       "SpecialCH     0.4081     0.2509   1.627  0.10380    \n",
       "SpecialMM    -0.4951     0.2094  -2.364  0.01808 *  \n",
       "---\n",
       "Signif. codes:  0 ‘***’ 0.001 ‘**’ 0.01 ‘*’ 0.05 ‘.’ 0.1 ‘ ’ 1\n",
       "\n",
       "(Dispersion parameter for binomial family taken to be 1)\n",
       "\n",
       "    Null deviance: 1430.9  on 1069  degrees of freedom\n",
       "Residual deviance: 1318.8  on 1063  degrees of freedom\n",
       "AIC: 1332.8\n",
       "\n",
       "Number of Fisher Scoring iterations: 4\n"
      ]
     },
     "metadata": {},
     "output_type": "display_data"
    }
   ],
   "source": [
    "modelo <- glm(Purchase ~.,\n",
    "              data = datos, family = 'binomial')\n",
    "summary(modelo)\n"
   ]
  },
  {
   "cell_type": "markdown",
   "id": "041b65d0",
   "metadata": {},
   "source": [
    "## 2. Interprete los parámetros."
   ]
  },
  {
   "cell_type": "markdown",
   "id": "920596af",
   "metadata": {},
   "source": [
    "### Interceptos"
   ]
  },
  {
   "cell_type": "code",
   "execution_count": 3,
   "id": "70474f4b",
   "metadata": {
    "scrolled": true
   },
   "outputs": [
    {
     "data": {
      "text/html": [
       "<strong>(Intercept):</strong> 0.142582246030108"
      ],
      "text/latex": [
       "\\textbf{(Intercept):} 0.142582246030108"
      ],
      "text/markdown": [
       "**(Intercept):** 0.142582246030108"
      ],
      "text/plain": [
       "(Intercept) \n",
       "  0.1425822 "
      ]
     },
     "metadata": {},
     "output_type": "display_data"
    }
   ],
   "source": [
    "betas <- modelo$coefficients\n",
    "\n",
    "p = exp(betas[\"(Intercept)\"]) / (1 + exp(betas[\"(Intercept)\"]))\n",
    "p"
   ]
  },
  {
   "cell_type": "markdown",
   "id": "da514196",
   "metadata": {},
   "source": [
    "El intercepto del modelo nos dice que el valor esperado del logaritmo del _odds ratio_ cuando no es una venta especial (tanto para `CH` como para `MM`), el precio de venta es cero y no hay descuentos, es $-1.7940$ . En terminos de la probabilidad de que la venta sea de `CH`, $p = 0.143$. Esta probabilidad es menor a la que tendríamos en un modelo sin intercepto."
   ]
  },
  {
   "cell_type": "code",
   "execution_count": 4,
   "id": "aa916f04",
   "metadata": {},
   "outputs": [
    {
     "data": {
      "text/html": [
       "<strong>(Intercept):</strong> 0.20006594851549"
      ],
      "text/latex": [
       "\\textbf{(Intercept):} 0.20006594851549"
      ],
      "text/markdown": [
       "**(Intercept):** 0.20006594851549"
      ],
      "text/plain": [
       "(Intercept) \n",
       "  0.2000659 "
      ]
     },
     "metadata": {},
     "output_type": "display_data"
    }
   ],
   "source": [
    "p = (exp(betas[\"(Intercept)\"] + betas[\"SpecialCH\"])\n",
    "     / (1 + exp(betas[\"(Intercept)\"] + betas[\"SpecialCH\"])))\n",
    "p"
   ]
  },
  {
   "cell_type": "markdown",
   "id": "8c35c9ff",
   "metadata": {},
   "source": [
    "El intercepto del modelo nos dice que el valor esperado del logaritmo del _odds ratio_ cuando no es una venta especial (solo para `MM`), el precio de venta es cero y no hay descuentos, es $-1.386$ . En terminos de la probabilidad de que la venta sea de `CH`, $p = 0.200$. Esta probabilidad es menor a la que tendríamos en un modelo sin intercepto."
   ]
  },
  {
   "cell_type": "code",
   "execution_count": 5,
   "id": "a9e20fb6",
   "metadata": {},
   "outputs": [
    {
     "data": {
      "text/html": [
       "<strong>(Intercept):</strong> 0.0920263557284694"
      ],
      "text/latex": [
       "\\textbf{(Intercept):} 0.0920263557284694"
      ],
      "text/markdown": [
       "**(Intercept):** 0.0920263557284694"
      ],
      "text/plain": [
       "(Intercept) \n",
       " 0.09202636 "
      ]
     },
     "metadata": {},
     "output_type": "display_data"
    }
   ],
   "source": [
    "p = (exp(betas[\"(Intercept)\"] + betas[\"SpecialMM\"])\n",
    "     / (1 + exp(betas[\"(Intercept)\"] + betas[\"SpecialMM\"])))\n",
    "p"
   ]
  },
  {
   "cell_type": "markdown",
   "id": "bc13711f",
   "metadata": {},
   "source": [
    "El intercepto del modelo nos dice que el valor esperado del logaritmo del _odds ratio_ cuando no es una venta especial (solo para `CH`), el precio de venta es cero y no hay descuentos, es $-2.289$ . En terminos de la probabilidad de que la venta sea de `CH`, $p = 0.092$. Esta probabilidad es menor a la que tendríamos en un modelo sin intercepto."
   ]
  },
  {
   "cell_type": "code",
   "execution_count": 6,
   "id": "418f8213",
   "metadata": {},
   "outputs": [
    {
     "data": {
      "text/html": [
       "<strong>(Intercept):</strong> 0.132272181436296"
      ],
      "text/latex": [
       "\\textbf{(Intercept):} 0.132272181436296"
      ],
      "text/markdown": [
       "**(Intercept):** 0.132272181436296"
      ],
      "text/plain": [
       "(Intercept) \n",
       "  0.1322722 "
      ]
     },
     "metadata": {},
     "output_type": "display_data"
    }
   ],
   "source": [
    "p = (exp(betas[\"(Intercept)\"]\n",
    "         + betas[\"SpecialMM\"]\n",
    "         + betas[\"SpecialCH\"])\n",
    "     / (1 + exp(betas[\"(Intercept)\"]\n",
    "                + betas[\"SpecialMM\"]\n",
    "                + betas[\"SpecialCH\"])))\n",
    "p"
   ]
  },
  {
   "cell_type": "markdown",
   "id": "880bced1",
   "metadata": {},
   "source": [
    "El intercepto del modelo nos dice que el valor esperado del logaritmo del _odds ratio_ cuando es una venta especial (tanto para `CH` como para `MM`), el precio de venta es cero y no hay descuentos, es $-1.881$. En terminos de la probabilidad de que la venta sea de `CH`, $p = 0.132$. Esta probabilidad es menor a la que tendríamos en un modelo sin intercepto."
   ]
  },
  {
   "cell_type": "markdown",
   "id": "02b2ff25",
   "metadata": {},
   "source": [
    "### Efectos"
   ]
  },
  {
   "cell_type": "code",
   "execution_count": 7,
   "id": "3c62715f",
   "metadata": {},
   "outputs": [
    {
     "data": {
      "text/html": [
       "<strong>PriceCH:</strong> 0.0892972708033154"
      ],
      "text/latex": [
       "\\textbf{PriceCH:} 0.0892972708033154"
      ],
      "text/markdown": [
       "**PriceCH:** 0.0892972708033154"
      ],
      "text/plain": [
       "   PriceCH \n",
       "0.08929727 "
      ]
     },
     "metadata": {},
     "output_type": "display_data"
    }
   ],
   "source": [
    "exp(betas[\"PriceCH\"])"
   ]
  },
  {
   "cell_type": "markdown",
   "id": "0e596ee2",
   "metadata": {},
   "source": [
    "Si el precio de `CH` incrementa en una unidad, el logaritmo del _odds ratio_ incrementa $\\beta_{\\text{precioCH}}$ unidades, es decir, $-2.416$. En términos del _odds ratio_, este cambia en un factor de $e^{\\beta_{\\text{precioCH}}} = 0.089$. El _odds ratio_ disminuye con incrementos en el precio de `CH`."
   ]
  },
  {
   "cell_type": "code",
   "execution_count": 8,
   "id": "a0541bad",
   "metadata": {},
   "outputs": [
    {
     "data": {
      "text/html": [
       "<strong>PriceMM:</strong> 26.082883622821"
      ],
      "text/latex": [
       "\\textbf{PriceMM:} 26.082883622821"
      ],
      "text/markdown": [
       "**PriceMM:** 26.082883622821"
      ],
      "text/plain": [
       " PriceMM \n",
       "26.08288 "
      ]
     },
     "metadata": {},
     "output_type": "display_data"
    }
   ],
   "source": [
    "exp(betas[\"PriceMM\"])"
   ]
  },
  {
   "cell_type": "markdown",
   "id": "06dcc96e",
   "metadata": {},
   "source": [
    "Si el precio de `MM` incrementa en una unidad, el logaritmo del _odds ratio_ incrementa $\\beta_{\\text{precioMM}}$ unidades, es decir, $3.2613$. En términos del _odds ratio_, este cambia en un factor de $e^{\\beta_{\\text{precioMM}}} = 26.082$. El _odds ratio_ incrementa con incrementos en el precio de `MM`."
   ]
  },
  {
   "cell_type": "code",
   "execution_count": 9,
   "id": "c92a7e0a",
   "metadata": {},
   "outputs": [
    {
     "data": {
      "text/html": [
       "<strong>DiscCH:</strong> 34.4744444438495"
      ],
      "text/latex": [
       "\\textbf{DiscCH:} 34.4744444438495"
      ],
      "text/markdown": [
       "**DiscCH:** 34.4744444438495"
      ],
      "text/plain": [
       "  DiscCH \n",
       "34.47444 "
      ]
     },
     "metadata": {},
     "output_type": "display_data"
    }
   ],
   "source": [
    "exp(betas[\"DiscCH\"])"
   ]
  },
  {
   "cell_type": "markdown",
   "id": "b9b37050",
   "metadata": {},
   "source": [
    "Si el descuento de `CH` incrementa en una unidad, el logaritmo del _odds ratio_ incrementa $\\beta_{\\text{discCH}}$ unidades, es decir, $3.5402$. En términos del _odds ratio_, este cambia en un factor de $e^{\\beta_{\\text{discCH}}} = 34.474$. El _odds ratio_ incrementa con incrementos en el descuento de `CH`."
   ]
  },
  {
   "cell_type": "code",
   "execution_count": 10,
   "id": "7e408d26",
   "metadata": {},
   "outputs": [
    {
     "data": {
      "text/html": [
       "<strong>DiscMM:</strong> 0.288298684097833"
      ],
      "text/latex": [
       "\\textbf{DiscMM:} 0.288298684097833"
      ],
      "text/markdown": [
       "**DiscMM:** 0.288298684097833"
      ],
      "text/plain": [
       "   DiscMM \n",
       "0.2882987 "
      ]
     },
     "metadata": {},
     "output_type": "display_data"
    }
   ],
   "source": [
    "exp(betas[\"DiscMM\"])"
   ]
  },
  {
   "cell_type": "markdown",
   "id": "3dd22083",
   "metadata": {},
   "source": [
    "Si el descuento de `MM` incrementa en una unidad, el logaritmo del _odds ratio_ incrementa $\\beta_{\\text{discMM}}$ unidades, es decir, $-1.244$. En términos del _odds ratio_, este cambia en un factor de $e^{\\beta_{\\text{discMM}}} = 0.288$. El _odds ratio_ disminuye con incrementos en el descuento de `MM`."
   ]
  },
  {
   "cell_type": "markdown",
   "id": "817aca04",
   "metadata": {},
   "source": [
    "## 3. ¿Es el modelo significativo?"
   ]
  },
  {
   "cell_type": "markdown",
   "id": "11cda57f",
   "metadata": {},
   "source": [
    "### LRT"
   ]
  },
  {
   "cell_type": "markdown",
   "id": "8d3d92fd",
   "metadata": {},
   "source": [
    "Relizamos una prueba de significancia global.\n",
    "\n",
    "\\begin{align*}\n",
    "    H_{0} &: \\text{El modelo no es significativo.}\\\\\n",
    "    H_{a} &: \\neg H_{0}.\n",
    "\\end{align*}"
   ]
  },
  {
   "cell_type": "markdown",
   "id": "e63dc54c",
   "metadata": {},
   "source": [
    "#### Forma corta"
   ]
  },
  {
   "cell_type": "code",
   "execution_count": 12,
   "id": "c096e81e",
   "metadata": {},
   "outputs": [
    {
     "data": {
      "text/html": [
       "0"
      ],
      "text/latex": [
       "0"
      ],
      "text/markdown": [
       "0"
      ],
      "text/plain": [
       "[1] 0"
      ]
     },
     "metadata": {},
     "output_type": "display_data"
    }
   ],
   "source": [
    "ep <- summary(modelo)$deviance - summary(modelo)$null.deviance\n",
    "pchisq(ep, df = 7 - 1)"
   ]
  },
  {
   "cell_type": "code",
   "execution_count": 13,
   "id": "5be20025",
   "metadata": {},
   "outputs": [
    {
     "data": {
      "text/html": [
       "-112.092546308129"
      ],
      "text/latex": [
       "-112.092546308129"
      ],
      "text/markdown": [
       "-112.092546308129"
      ],
      "text/plain": [
       "[1] -112.0925"
      ]
     },
     "metadata": {},
     "output_type": "display_data"
    }
   ],
   "source": [
    "ep"
   ]
  },
  {
   "cell_type": "markdown",
   "id": "391853be",
   "metadata": {},
   "source": [
    "#### Forma larga"
   ]
  },
  {
   "cell_type": "code",
   "execution_count": null,
   "id": "01de1250",
   "metadata": {},
   "outputs": [],
   "source": [
    "comp <- 2 * (sum(datos$Purchase\n",
    "                * log(modelo$fitted.values))\n",
    "            + sum((1 - datos$Purchase)\n",
    "                  * log(1 - modelo$fitted.values)))\n",
    "\n",
    "red <- 2 * (sum(datos$Purchase\n",
    "                 * log(mean(datos$Purchase)))\n",
    "             + sum((1 - datos$Purchase)\n",
    "                   * log(1 - mean(datos$Purchase))))"
   ]
  },
  {
   "cell_type": "code",
   "execution_count": null,
   "id": "f8176369",
   "metadata": {},
   "outputs": [],
   "source": [
    "ep <- comp - red\n",
    "1 - pchisq(ep, df = 7 - 1)"
   ]
  },
  {
   "cell_type": "code",
   "execution_count": 15,
   "id": "06fecbc5",
   "metadata": {},
   "outputs": [],
   "source": [
    "modelo_red <- glm(Purchase ~ 1, data = datos, family = \"binomial\")\n",
    "\n",
    "# summary(modelo_red)\n",
    "# anova(modelo, modelo_red, test = \"LRT\")"
   ]
  },
  {
   "cell_type": "code",
   "execution_count": 17,
   "id": "d24f01bd",
   "metadata": {},
   "outputs": [
    {
     "data": {
      "text/html": [
       "-112.092546308129"
      ],
      "text/latex": [
       "-112.092546308129"
      ],
      "text/markdown": [
       "-112.092546308129"
      ],
      "text/plain": [
       "[1] -112.0925"
      ]
     },
     "metadata": {},
     "output_type": "display_data"
    }
   ],
   "source": [
    "ep <- summary(modelo)$deviance - summary(modelo_red)$deviance\n",
    "ep"
   ]
  },
  {
   "cell_type": "markdown",
   "id": "b3ab78bd",
   "metadata": {},
   "source": [
    "Dado que el $p$-value es menor a $\\alpha = 0.05$, rechazamos que el modelo no sea significativo."
   ]
  },
  {
   "cell_type": "markdown",
   "id": "6d79f8bb",
   "metadata": {},
   "source": [
    "## 4. ¿Es cierto que las variables de si el producto es especial no afectan las ventas?"
   ]
  },
  {
   "cell_type": "code",
   "execution_count": null,
   "id": "ed889cc1",
   "metadata": {},
   "outputs": [],
   "source": [
    "modelo_red <- glm(Purchase ~ . - SpecialCH - SpecialMM, data = datos, family = \"binomial\")\n",
    "\n",
    "ep <- summary(modelo)$null.deviance - summary(modelo_red)$null.deviance\n",
    "1 - pchisq(ep, df = nrow(datos) - 7)"
   ]
  },
  {
   "cell_type": "code",
   "execution_count": null,
   "id": "8e04179d",
   "metadata": {},
   "outputs": [],
   "source": [
    "summary(modelo_red)"
   ]
  },
  {
   "cell_type": "code",
   "execution_count": null,
   "id": "576eadcc",
   "metadata": {},
   "outputs": [],
   "source": [
    "ep"
   ]
  },
  {
   "cell_type": "code",
   "execution_count": null,
   "id": "8761eb87",
   "metadata": {},
   "outputs": [],
   "source": [
    "modelo_red <- glm(Purchase ~ SpecialCH + SpecialMM, data = datos, family = \"binomial\")\n",
    "\n",
    "anova(modelo_red, modelo, test = \"LRT\")"
   ]
  },
  {
   "cell_type": "code",
   "execution_count": null,
   "id": "963bdd67",
   "metadata": {},
   "outputs": [],
   "source": []
  },
  {
   "cell_type": "markdown",
   "id": "bdd4fbfc",
   "metadata": {},
   "source": [
    "## 5. ¿Es cierto que el efecto del precio de CH es el negativo del precio de MM?"
   ]
  },
  {
   "cell_type": "markdown",
   "id": "b10a7006",
   "metadata": {},
   "source": []
  },
  {
   "cell_type": "code",
   "execution_count": null,
   "id": "d4198bf9",
   "metadata": {},
   "outputs": [],
   "source": []
  },
  {
   "cell_type": "markdown",
   "id": "d847eb03",
   "metadata": {},
   "source": [
    "## 6. Haga un intervalo para la probabilidad de compra de MM si precio CH=1.5, precio MM=2.1, descuento CH=0, descuento MM=.2, Special CH=SpecialMM=0. "
   ]
  },
  {
   "cell_type": "markdown",
   "id": "46cc9fd2",
   "metadata": {},
   "source": []
  },
  {
   "cell_type": "code",
   "execution_count": null,
   "id": "6b8f6845",
   "metadata": {},
   "outputs": [],
   "source": []
  },
  {
   "cell_type": "code",
   "execution_count": null,
   "id": "45312b50",
   "metadata": {},
   "outputs": [],
   "source": [
    "\"\n",
    "Código clase 23.\n",
    "\n",
    "En el paquete ISLR de R, la base de datos Default contien información sobre\n",
    "si las personas que piden un préstamo no pagan (hacen default) o si lo pagan\n",
    "completo. La variable de respuesta es 'default' y se usan las variables \n",
    "explicativa que dicen si la persona es estudiante, el balance de la cuenta\n",
    "y el ingreso.\n",
    "\n",
    "1. Estime el modelo\n",
    "2. Interprete los parámetros\n",
    "3. Es el modelo significativo?\n",
    "4. Es cierto que las variables de estudiante y el ingreso se pueden omitir\n",
    "   en el modelo?\n",
    "5. Es cierto que el intercepto debe ser menor a 2?\n",
    "6. Es cierto que beta_2 es 100 veces beta 3?\n",
    "7. Haga un intervalo para la probabilidad de default para un estudiante\n",
    "   con balance 900 e ingreso 20000. \n",
    "8. De acuerdo al banco, para un estudiante con balance 1000 e ingreso 18000\n",
    "   la porbabilidad de default es 0.8, mientas para un estudiante con balance\n",
    "   de 1500 e ingreso de 22000, la porbabilidad es de 0.2. Encuentra evidencia\n",
    "   para refutar esta información?\n",
    "\"\n",
    "########################################################\n",
    "#Solution\n",
    "\n",
    "library(ISLR)\n",
    "data=Default\n",
    "\n",
    "fit=glm(default~.,data=data,family=\"binomial\")\n",
    "summary(fit)\n",
    "\n",
    "LR=2920.6-1571.5\n",
    "pvalor=1-pchisq(LR,3)\n",
    "\n",
    "pvalor\n",
    "\n",
    "nul=glm(default~1,data=data,family=\"binomial\")\n",
    "summary(nul)\n",
    "\n",
    "anova(nul,fit,test=\"LRT\")\n",
    "\n",
    "nul2=glm(default~balance,data=data,family=\"binomial\")\n",
    "\n",
    "anova(nul2,fit,test=\"LRT\")\n",
    "\n",
    "student2=ifelse(data$student==\"Yes\",1,0)\n",
    "data$student=student2\n",
    "\n",
    "x=as.matrix(cbind(rep(1,dim(data)[1]),data[,2:4]))\n",
    "head(x)\n",
    "\n",
    "var_beta=solve(t(x)%*%(diag(fit$fitted.values*(1-fit$fitted.values)))%*%x)\n",
    "\n",
    "ep=(fit$coefficients[1]-2)/sqrt(var_beta[1,1])\n",
    "\n",
    "########################################\n",
    "c=c(0,0,1,-100)\n",
    "theta=t(fit$coefficients)%*%c\n",
    "\n",
    "var_theta=t(c)%*%var_beta%*%c\n",
    "\n",
    "ep2=theta/sqrt(var_theta)\n",
    "\n",
    "\n",
    "############################################\n",
    "c=c(1,0,900,20000)\n",
    "mu=t(c)%*%fit$coefficients\n",
    "\n",
    "sup=mu+qnorm(0.975)*sqrt(t(c)%*%var_beta%*%c)\n",
    "inf=mu-qnorm(0.975)*sqrt(t(c)%*%var_beta%*%c)\n",
    "\n",
    "supp=exp(sup)/(1+exp(sup))\n",
    "infpp=exp(inf)/(1+exp(inf))\n",
    "interp=c(infpp,supp)"
   ]
  }
 ],
 "metadata": {
  "kernelspec": {
   "display_name": "R",
   "language": "R",
   "name": "ir"
  },
  "language_info": {
   "codemirror_mode": "r",
   "file_extension": ".r",
   "mimetype": "text/x-r-source",
   "name": "R",
   "pygments_lexer": "r",
   "version": "4.2.1"
  }
 },
 "nbformat": 4,
 "nbformat_minor": 5
}
