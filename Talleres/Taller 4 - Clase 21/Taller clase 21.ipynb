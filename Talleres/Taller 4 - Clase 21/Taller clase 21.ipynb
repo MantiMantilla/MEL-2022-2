{
 "cells": [
  {
   "cell_type": "markdown",
   "id": "5c1e0ad0",
   "metadata": {},
   "source": [
    "# TALLER Clase 21- Normalidad y autocorrelación de los errores"
   ]
  },
  {
   "cell_type": "markdown",
   "id": "9efa6f9d",
   "metadata": {},
   "source": [
    "Alejandro Mantilla Redondo - 201711304\n",
    "\n",
    "Ximena Palacio Argüello - 201730995"
   ]
  },
  {
   "cell_type": "markdown",
   "id": "4bbfb5d7",
   "metadata": {},
   "source": [
    "En el archivo `gasto.txt` se encuentra información sobre el gasto de un hogar determinado en términos del ingreso mensual durante 20 meses."
   ]
  },
  {
   "cell_type": "code",
   "execution_count": 6,
   "id": "61c6acd9",
   "metadata": {
    "scrolled": false
   },
   "outputs": [
    {
     "data": {
      "text/html": [
       "<table class=\"dataframe\">\n",
       "<caption>A data.frame: 6 × 2</caption>\n",
       "<thead>\n",
       "\t<tr><th></th><th scope=col>ingreso</th><th scope=col>gasto</th></tr>\n",
       "\t<tr><th></th><th scope=col>&lt;dbl&gt;</th><th scope=col>&lt;dbl&gt;</th></tr>\n",
       "</thead>\n",
       "<tbody>\n",
       "\t<tr><th scope=row>1</th><td>214.6</td><td>159.3</td></tr>\n",
       "\t<tr><th scope=row>2</th><td>217.7</td><td>161.2</td></tr>\n",
       "\t<tr><th scope=row>3</th><td>219.6</td><td>162.8</td></tr>\n",
       "\t<tr><th scope=row>4</th><td>227.2</td><td>164.6</td></tr>\n",
       "\t<tr><th scope=row>5</th><td>230.9</td><td>165.9</td></tr>\n",
       "\t<tr><th scope=row>6</th><td>233.3</td><td>167.9</td></tr>\n",
       "</tbody>\n",
       "</table>\n"
      ],
      "text/latex": [
       "A data.frame: 6 × 2\n",
       "\\begin{tabular}{r|ll}\n",
       "  & ingreso & gasto\\\\\n",
       "  & <dbl> & <dbl>\\\\\n",
       "\\hline\n",
       "\t1 & 214.6 & 159.3\\\\\n",
       "\t2 & 217.7 & 161.2\\\\\n",
       "\t3 & 219.6 & 162.8\\\\\n",
       "\t4 & 227.2 & 164.6\\\\\n",
       "\t5 & 230.9 & 165.9\\\\\n",
       "\t6 & 233.3 & 167.9\\\\\n",
       "\\end{tabular}\n"
      ],
      "text/markdown": [
       "\n",
       "A data.frame: 6 × 2\n",
       "\n",
       "| <!--/--> | ingreso &lt;dbl&gt; | gasto &lt;dbl&gt; |\n",
       "|---|---|---|\n",
       "| 1 | 214.6 | 159.3 |\n",
       "| 2 | 217.7 | 161.2 |\n",
       "| 3 | 219.6 | 162.8 |\n",
       "| 4 | 227.2 | 164.6 |\n",
       "| 5 | 230.9 | 165.9 |\n",
       "| 6 | 233.3 | 167.9 |\n",
       "\n"
      ],
      "text/plain": [
       "  ingreso gasto\n",
       "1 214.6   159.3\n",
       "2 217.7   161.2\n",
       "3 219.6   162.8\n",
       "4 227.2   164.6\n",
       "5 230.9   165.9\n",
       "6 233.3   167.9"
      ]
     },
     "metadata": {},
     "output_type": "display_data"
    }
   ],
   "source": [
    "data <- read.table(\"Archivos/gasto.txt\", head = TRUE)\n",
    "head(data)"
   ]
  },
  {
   "cell_type": "markdown",
   "id": "e34f1af0",
   "metadata": {},
   "source": [
    "Declaramos un modelo de regresión lineal simple."
   ]
  },
  {
   "cell_type": "code",
   "execution_count": 11,
   "id": "11c21109",
   "metadata": {},
   "outputs": [
    {
     "data": {
      "text/plain": [
       "\n",
       "Call:\n",
       "lm(formula = gasto ~ ingreso, data = data)\n",
       "\n",
       "Residuals:\n",
       "    Min      1Q  Median      3Q     Max \n",
       "-2.1684 -1.0469 -0.5359  1.4188  3.1144 \n",
       "\n",
       "Coefficients:\n",
       "            Estimate Std. Error t value Pr(>|t|)    \n",
       "(Intercept) 71.78129    5.05986   14.19 3.26e-11 ***\n",
       "ingreso      0.41614    0.02072   20.08 8.99e-14 ***\n",
       "---\n",
       "Signif. codes:  0 '***' 0.001 '**' 0.01 '*' 0.05 '.' 0.1 ' ' 1\n",
       "\n",
       "Residual standard error: 1.694 on 18 degrees of freedom\n",
       "Multiple R-squared:  0.9573,\tAdjusted R-squared:  0.9549 \n",
       "F-statistic: 403.2 on 1 and 18 DF,  p-value: 8.988e-14\n"
      ]
     },
     "metadata": {},
     "output_type": "display_data"
    }
   ],
   "source": [
    "modelo <- lm(gasto ~ ingreso, data = data)\n",
    "summary(modelo)"
   ]
  },
  {
   "cell_type": "markdown",
   "id": "39ce6c68",
   "metadata": {},
   "source": [
    "## 1. Revise el supuesto de normalidad"
   ]
  },
  {
   "cell_type": "markdown",
   "id": "3aac9543",
   "metadata": {},
   "source": [
    "Probaremos las hipótesis:\n",
    "\\begin{align*}\n",
    "    H_0: &\\varepsilon \\sim \\text{Normal}(0, \\sigma^2) \\\\\n",
    "    H_1: &\\neg H_0.\n",
    "\\end{align*}"
   ]
  },
  {
   "cell_type": "code",
   "execution_count": 15,
   "id": "b4e9d417",
   "metadata": {},
   "outputs": [
    {
     "data": {
      "text/plain": [
       "\n",
       "\tShapiro-Wilk normality test\n",
       "\n",
       "data:  residuos\n",
       "W = 0.91154, p-value = 0.06818\n"
      ]
     },
     "metadata": {},
     "output_type": "display_data"
    },
    {
     "data": {
      "image/png": "[encoded data removed]",
      "text/plain": [
       "Plot with title \"Normal Q-Q Plot\""
      ]
     },
     "metadata": {
      "image/png": {
       "height": 420,
       "width": 420
      }
     },
     "output_type": "display_data"
    }
   ],
   "source": [
    "# Prueba de normalidad de los residuos\n",
    "residuos <- modelo$residuals\n",
    "qqnorm(residuos)\n",
    "abline(0, 1, col = 2, lwd = 2)\n",
    "shapiro.test(residuos)"
   ]
  },
  {
   "cell_type": "markdown",
   "id": "b60fca32",
   "metadata": {},
   "source": [
    "Gráficamente se puede ver que no se cumple el supuesto de normalidad, pues los datos no se ajustan a una distribución normal. Los cuantiles teóricos no coindicen con los cuantiles reales del modelo.\n",
    "\n",
    "La prueba Shapiro-Wilk nos indica un probabilidad de 0.06, mayor a un $\\alpha=0.05$, por lo cual no rechazamos la hipótesis nula. Es decir, el error se distribuye normal. De igual manera estudiaremos una corrección."
   ]
  },
  {
   "cell_type": "markdown",
   "id": "e6c8c03c",
   "metadata": {},
   "source": [
    "## 2. Revise si es necesario transformar alguna de las variables"
   ]
  },
  {
   "cell_type": "markdown",
   "id": "510a6e83",
   "metadata": {},
   "source": [
    "Graficamos un diagrama de dispersión para identificar posibles transformaciones de las variables:"
   ]
  },
  {
   "cell_type": "code",
   "execution_count": 16,
   "id": "f7f4f6bf",
   "metadata": {},
   "outputs": [
    {
     "data": {
      "image/png": "[encoded data removed]",
      "text/plain": [
       "plot without title"
      ]
     },
     "metadata": {
      "image/png": {
       "height": 420,
       "width": 420
      }
     },
     "output_type": "display_data"
    }
   ],
   "source": [
    "plot(data)"
   ]
  },
  {
   "cell_type": "markdown",
   "id": "82247291",
   "metadata": {},
   "source": [
    "Pareciera que conforme crece el ingreso, incrementa el gasto, pero en menor proporción a mayores ingresos. Esto sugiere que se haga una transformación de la variable X con $g(x) = ln(x)$. Definimos el siguiente modelo con la transformación."
   ]
  },
  {
   "cell_type": "code",
   "execution_count": 20,
   "id": "634e9e55",
   "metadata": {},
   "outputs": [
    {
     "data": {
      "text/html": [
       "<table class=\"dataframe\">\n",
       "<caption>A data.frame: 6 × 2</caption>\n",
       "<thead>\n",
       "\t<tr><th></th><th scope=col>ingreso</th><th scope=col>gasto</th></tr>\n",
       "\t<tr><th></th><th scope=col>&lt;dbl&gt;</th><th scope=col>&lt;dbl&gt;</th></tr>\n",
       "</thead>\n",
       "<tbody>\n",
       "\t<tr><th scope=row>1</th><td>5.368776</td><td>159.3</td></tr>\n",
       "\t<tr><th scope=row>2</th><td>5.383118</td><td>161.2</td></tr>\n",
       "\t<tr><th scope=row>3</th><td>5.391808</td><td>162.8</td></tr>\n",
       "\t<tr><th scope=row>4</th><td>5.425831</td><td>164.6</td></tr>\n",
       "\t<tr><th scope=row>5</th><td>5.441985</td><td>165.9</td></tr>\n",
       "\t<tr><th scope=row>6</th><td>5.452325</td><td>167.9</td></tr>\n",
       "</tbody>\n",
       "</table>\n"
      ],
      "text/latex": [
       "A data.frame: 6 × 2\n",
       "\\begin{tabular}{r|ll}\n",
       "  & ingreso & gasto\\\\\n",
       "  & <dbl> & <dbl>\\\\\n",
       "\\hline\n",
       "\t1 & 5.368776 & 159.3\\\\\n",
       "\t2 & 5.383118 & 161.2\\\\\n",
       "\t3 & 5.391808 & 162.8\\\\\n",
       "\t4 & 5.425831 & 164.6\\\\\n",
       "\t5 & 5.441985 & 165.9\\\\\n",
       "\t6 & 5.452325 & 167.9\\\\\n",
       "\\end{tabular}\n"
      ],
      "text/markdown": [
       "\n",
       "A data.frame: 6 × 2\n",
       "\n",
       "| <!--/--> | ingreso &lt;dbl&gt; | gasto &lt;dbl&gt; |\n",
       "|---|---|---|\n",
       "| 1 | 5.368776 | 159.3 |\n",
       "| 2 | 5.383118 | 161.2 |\n",
       "| 3 | 5.391808 | 162.8 |\n",
       "| 4 | 5.425831 | 164.6 |\n",
       "| 5 | 5.441985 | 165.9 |\n",
       "| 6 | 5.452325 | 167.9 |\n",
       "\n"
      ],
      "text/plain": [
       "  ingreso  gasto\n",
       "1 5.368776 159.3\n",
       "2 5.383118 161.2\n",
       "3 5.391808 162.8\n",
       "4 5.425831 164.6\n",
       "5 5.441985 165.9\n",
       "6 5.452325 167.9"
      ]
     },
     "metadata": {},
     "output_type": "display_data"
    },
    {
     "data": {
      "image/png": "[encoded data removed]",
      "text/plain": [
       "plot without title"
      ]
     },
     "metadata": {
      "image/png": {
       "height": 420,
       "width": 420
      }
     },
     "output_type": "display_data"
    }
   ],
   "source": [
    "# Creamos un modelo transformado\n",
    "data_logged <- data\n",
    "data_logged[\"ingreso\"] <- log(data_logged[\"ingreso\"])\n",
    "head(data_logged)\n",
    "plot(data_logged)"
   ]
  },
  {
   "cell_type": "markdown",
   "id": "b47f1945",
   "metadata": {},
   "source": [
    "Evaluamos si el nuevo modelo tiene problemas de normalidad."
   ]
  },
  {
   "cell_type": "code",
   "execution_count": 21,
   "id": "1261b385",
   "metadata": {},
   "outputs": [
    {
     "data": {
      "text/plain": [
       "\n",
       "Call:\n",
       "lm(formula = gasto ~ ingreso, data = data_logged)\n",
       "\n",
       "Residuals:\n",
       "    Min      1Q  Median      3Q     Max \n",
       "-2.0655 -1.0850 -0.4646  1.2055  2.8293 \n",
       "\n",
       "Coefficients:\n",
       "            Estimate Std. Error t value Pr(>|t|)    \n",
       "(Intercept) -388.319     24.958  -15.56 6.98e-12 ***\n",
       "ingreso      102.221      4.544   22.50 1.25e-14 ***\n",
       "---\n",
       "Signif. codes:  0 '***' 0.001 '**' 0.01 '*' 0.05 '.' 0.1 ' ' 1\n",
       "\n",
       "Residual standard error: 1.519 on 18 degrees of freedom\n",
       "Multiple R-squared:  0.9657,\tAdjusted R-squared:  0.9637 \n",
       "F-statistic: 506.1 on 1 and 18 DF,  p-value: 1.253e-14\n"
      ]
     },
     "metadata": {},
     "output_type": "display_data"
    },
    {
     "data": {
      "text/plain": [
       "\n",
       "\tShapiro-Wilk normality test\n",
       "\n",
       "data:  residuos\n",
       "W = 0.92228, p-value = 0.1096\n"
      ]
     },
     "metadata": {},
     "output_type": "display_data"
    },
    {
     "data": {
      "image/png": "[encoded data removed]",
      "text/plain": [
       "Plot with title \"Normal Q-Q Plot\""
      ]
     },
     "metadata": {
      "image/png": {
       "height": 420,
       "width": 420
      }
     },
     "output_type": "display_data"
    }
   ],
   "source": [
    "# Prueba de normalidad de los nuevos residuos\n",
    "modelo_logged <- lm(gasto ~ ingreso, data = data_logged)\n",
    "summary(modelo_logged)\n",
    "residuos <- modelo_logged$residuals\n",
    "qqnorm(residuos)\n",
    "abline(0, 1, col = 2, lwd = 2)\n",
    "shapiro.test(residuos)"
   ]
  },
  {
   "cell_type": "markdown",
   "id": "ffc62050",
   "metadata": {},
   "source": [
    "Concluimos, con un $\\alpha = 0.05$, que no podemos rechazar la hipótesis nula y por lo tanto suponemos que el error del nuevo modelo sí se distribuye normal."
   ]
  },
  {
   "cell_type": "markdown",
   "id": "36813ef6",
   "metadata": {},
   "source": [
    "## 3. ¿Existe problema de autocorrelación positiva?"
   ]
  },
  {
   "cell_type": "markdown",
   "id": "82df386a",
   "metadata": {},
   "source": [
    "No hay una distacia o espacio obvio por el cual podríamos ordenar las observaciones por lo que suponemos el orden según los índices de la tabla."
   ]
  },
  {
   "cell_type": "code",
   "execution_count": 27,
   "id": "7f8c97e4",
   "metadata": {},
   "outputs": [
    {
     "data": {
      "image/png": "[encoded data removed]",
      "text/plain": [
       "plot without title"
      ]
     },
     "metadata": {
      "image/png": {
       "height": 420,
       "width": 420
      }
     },
     "output_type": "display_data"
    }
   ],
   "source": [
    "# Gráfica de los residuales\n",
    "resi=modelo$residuals\n",
    "plot(resi,type=\"b\",lwd=2)"
   ]
  },
  {
   "cell_type": "markdown",
   "id": "05dd1eeb",
   "metadata": {},
   "source": [
    "Dado los resultados obtenidos de la anterior gráfica, suponemos un lag de 1, es decir $k=1$."
   ]
  },
  {
   "cell_type": "markdown",
   "id": "5c91af98",
   "metadata": {},
   "source": [
    "Procedemos a realizar la prueba de Breusch-Godfrey.\n",
    "Probaremos las hipótesis:\n",
    "\\begin{align*}\n",
    "    H_0: &\\text{Modelo AR}(1)\\text{ no es significativo} \\\\\n",
    "    H_1: &\\neg H_0.\n",
    "\\end{align*}"
   ]
  },
  {
   "cell_type": "code",
   "execution_count": 36,
   "id": "5428a9c5",
   "metadata": {},
   "outputs": [
    {
     "data": {
      "text/html": [
       "<table class=\"dataframe\">\n",
       "<caption>A data.frame: 6 × 2</caption>\n",
       "<thead>\n",
       "\t<tr><th></th><th scope=col>e_t</th><th scope=col>e_t_1</th></tr>\n",
       "\t<tr><th></th><th scope=col>&lt;dbl&gt;</th><th scope=col>&lt;dbl&gt;</th></tr>\n",
       "</thead>\n",
       "<tbody>\n",
       "\t<tr><th scope=row>2</th><td>-1.1740950</td><td>-1.7840734</td></tr>\n",
       "\t<tr><th scope=row>3</th><td>-0.3647533</td><td>-1.1740950</td></tr>\n",
       "\t<tr><th scope=row>4</th><td>-1.7273868</td><td>-0.3647533</td></tr>\n",
       "\t<tr><th scope=row>5</th><td>-1.9670900</td><td>-1.7273868</td></tr>\n",
       "\t<tr><th scope=row>6</th><td>-0.9658163</td><td>-1.9670900</td></tr>\n",
       "\t<tr><th scope=row>7</th><td>-0.8987251</td><td>-0.9658163</td></tr>\n",
       "</tbody>\n",
       "</table>\n"
      ],
      "text/latex": [
       "A data.frame: 6 × 2\n",
       "\\begin{tabular}{r|ll}\n",
       "  & e\\_t & e\\_t\\_1\\\\\n",
       "  & <dbl> & <dbl>\\\\\n",
       "\\hline\n",
       "\t2 & -1.1740950 & -1.7840734\\\\\n",
       "\t3 & -0.3647533 & -1.1740950\\\\\n",
       "\t4 & -1.7273868 & -0.3647533\\\\\n",
       "\t5 & -1.9670900 & -1.7273868\\\\\n",
       "\t6 & -0.9658163 & -1.9670900\\\\\n",
       "\t7 & -0.8987251 & -0.9658163\\\\\n",
       "\\end{tabular}\n"
      ],
      "text/markdown": [
       "\n",
       "A data.frame: 6 × 2\n",
       "\n",
       "| <!--/--> | e_t &lt;dbl&gt; | e_t_1 &lt;dbl&gt; |\n",
       "|---|---|---|\n",
       "| 2 | -1.1740950 | -1.7840734 |\n",
       "| 3 | -0.3647533 | -1.1740950 |\n",
       "| 4 | -1.7273868 | -0.3647533 |\n",
       "| 5 | -1.9670900 | -1.7273868 |\n",
       "| 6 | -0.9658163 | -1.9670900 |\n",
       "| 7 | -0.8987251 | -0.9658163 |\n",
       "\n"
      ],
      "text/plain": [
       "  e_t        e_t_1     \n",
       "2 -1.1740950 -1.7840734\n",
       "3 -0.3647533 -1.1740950\n",
       "4 -1.7273868 -0.3647533\n",
       "5 -1.9670900 -1.7273868\n",
       "6 -0.9658163 -1.9670900\n",
       "7 -0.8987251 -0.9658163"
      ]
     },
     "metadata": {},
     "output_type": "display_data"
    }
   ],
   "source": [
    "n <- length(resi)\n",
    "data_resi <- data.frame(e_t = resi[2:n], e_t_1 = resi[1:n-1])\n",
    "head(data_resi)"
   ]
  },
  {
   "cell_type": "code",
   "execution_count": 46,
   "id": "5f8ddb50",
   "metadata": {},
   "outputs": [
    {
     "data": {
      "text/plain": [
       "\n",
       "Call:\n",
       "lm(formula = e_t ~ e_t_1, data = data_resi)\n",
       "\n",
       "Residuals:\n",
       "     Min       1Q   Median       3Q      Max \n",
       "-1.41830 -0.53122 -0.08384  0.52155  2.00875 \n",
       "\n",
       "Coefficients:\n",
       "             Estimate Std. Error t value Pr(>|t|)    \n",
       "(Intercept) -0.002139   0.217707  -0.010    0.992    \n",
       "e_t_1        0.841514   0.138499   6.076 1.24e-05 ***\n",
       "---\n",
       "Signif. codes:  0 '***' 0.001 '**' 0.01 '*' 0.05 '.' 0.1 ' ' 1\n",
       "\n",
       "Residual standard error: 0.9465 on 17 degrees of freedom\n",
       "Multiple R-squared:  0.6847,\tAdjusted R-squared:  0.6662 \n",
       "F-statistic: 36.92 on 1 and 17 DF,  p-value: 1.235e-05\n"
      ]
     },
     "metadata": {},
     "output_type": "display_data"
    }
   ],
   "source": [
    "modelo_resi <- lm(e_t ~ e_t_1, data = data_resi)\n",
    "summary(modelo_resi)"
   ]
  },
  {
   "cell_type": "code",
   "execution_count": 47,
   "id": "952f25ce",
   "metadata": {
    "scrolled": true
   },
   "outputs": [
    {
     "data": {
      "text/html": [
       "0.000215140737451325"
      ],
      "text/latex": [
       "0.000215140737451325"
      ],
      "text/markdown": [
       "0.000215140737451325"
      ],
      "text/plain": [
       "[1] 0.0002151407"
      ]
     },
     "metadata": {},
     "output_type": "display_data"
    }
   ],
   "source": [
    "# Breusch-Godfrey\n",
    "EP_BG <- n * 0.6847\n",
    "1-pchisq(EP_BG, df = 1)\n"
   ]
  },
  {
   "cell_type": "markdown",
   "id": "d9842f9d",
   "metadata": {},
   "source": [
    "Procedemos a realizar la prueba de Durbin-Watson.\n",
    "\n",
    "Probaremos las hipótesis para un modelo $e_t = \\rho e_{t-1} + w_t$:\n",
    "\\begin{align*}\n",
    "    H_0: &\\rho = 0 \\\\\n",
    "    H_1: &\\rho > 0.\n",
    "\\end{align*}"
   ]
  },
  {
   "cell_type": "code",
   "execution_count": 48,
   "id": "97ca3940",
   "metadata": {},
   "outputs": [
    {
     "data": {
      "text/plain": [
       "\n",
       "\tDurbin-Watson test\n",
       "\n",
       "data:  modelo\n",
       "DW = 0.31771, p-value = 1.603e-08\n",
       "alternative hypothesis: true autocorrelation is greater than 0\n"
      ]
     },
     "metadata": {},
     "output_type": "display_data"
    }
   ],
   "source": [
    "# Durbin-Watson\n",
    "library(lmtest)\n",
    "dwtest(modelo)\n"
   ]
  },
  {
   "cell_type": "markdown",
   "id": "fbd36b71",
   "metadata": {},
   "source": [
    "Concluimos, con un $\\alpha = 0.05$, por las pruebas Breusch-Godrey y Durbin-Watson, que el modelo original tiene problemas de autocorrelación para lags de una etapa."
   ]
  },
  {
   "cell_type": "markdown",
   "id": "8cd4cede",
   "metadata": {},
   "source": [
    "## 4. Corriga el problema si es necesario."
   ]
  },
  {
   "cell_type": "markdown",
   "id": "1c228106",
   "metadata": {},
   "source": [
    "Como vimos en el punto anterior, si es necesario corregir el problema de autocorrelación, por lo que se procede a realizar la corrección de Cochrane-Orcutt."
   ]
  },
  {
   "cell_type": "code",
   "execution_count": 50,
   "id": "4417208b",
   "metadata": {},
   "outputs": [
    {
     "data": {
      "text/plain": [
       "\n",
       "Call:\n",
       "lm(formula = y2 ~ x2)\n",
       "\n",
       "Residuals:\n",
       "    Min      1Q  Median      3Q     Max \n",
       "-1.3324 -0.3835 -0.1091  0.3513  1.3100 \n",
       "\n",
       "Coefficients:\n",
       "            Estimate Std. Error t value Pr(>|t|)    \n",
       "(Intercept) 19.79237    1.82877  10.823 4.80e-09 ***\n",
       "x2           0.25124    0.04056   6.194 9.81e-06 ***\n",
       "---\n",
       "Signif. codes:  0 '***' 0.001 '**' 0.01 '*' 0.05 '.' 0.1 ' ' 1\n",
       "\n",
       "Residual standard error: 0.6741 on 17 degrees of freedom\n",
       "Multiple R-squared:  0.693,\tAdjusted R-squared:  0.6749 \n",
       "F-statistic: 38.37 on 1 and 17 DF,  p-value: 9.807e-06\n"
      ]
     },
     "metadata": {},
     "output_type": "display_data"
    }
   ],
   "source": [
    "# Corrección de la autocorrelación\n",
    "rho <- cor(resi[1:(n-1)], resi[2:n])\n",
    "\n",
    "y2 <- data$gasto[2:n]-rho*data$gasto[1:(n-1)]\n",
    "x2 <- data$ingreso[2:n]-rho*data$ingreso[1:(n-1)]\n",
    "\n",
    "modelo_corregido=lm(y2~x2)\n",
    "summary(modelo_corregido)"
   ]
  },
  {
   "cell_type": "markdown",
   "id": "2d976175",
   "metadata": {},
   "source": [
    "Despues de hacer la corrección de cochrane.Orcutt debemos verificar que en efecto ya no hay problemas de autocorrelación positiva por lo que se vuelve a hacer la prueba de Durbin-Watson."
   ]
  },
  {
   "cell_type": "markdown",
   "id": "2fe45f38",
   "metadata": {},
   "source": [
    "Procedemos a realizar la prueba de Durbin-Watson.\n",
    "\n",
    "Probaremos las hipótesis para un modelo $e_t = \\rho e_{t-1} + w_t$:\n",
    "\\begin{align*}\n",
    "    H_0: &\\rho = 0 \\\\\n",
    "    H_1: &\\rho > 0.\n",
    "\\end{align*}"
   ]
  },
  {
   "cell_type": "code",
   "execution_count": 51,
   "id": "9512bacc",
   "metadata": {},
   "outputs": [
    {
     "data": {
      "text/plain": [
       "\n",
       "\tDurbin-Watson test\n",
       "\n",
       "data:  modelo_corregido\n",
       "DW = 1.5137, p-value = 0.09154\n",
       "alternative hypothesis: true autocorrelation is greater than 0\n"
      ]
     },
     "metadata": {},
     "output_type": "display_data"
    }
   ],
   "source": [
    "# Durbin-Watson\n",
    "dwtest(modelo_corregido)\n"
   ]
  },
  {
   "cell_type": "markdown",
   "id": "5e0f4ab4",
   "metadata": {},
   "source": [
    "Concluimos, con un $\\alpha = 0.05$, por la prueba de Durbin-Watson, que el nuevo modelo ya no tiene problemas de autocorrelación para lags de una etapa."
   ]
  }
 ],
 "metadata": {
  "kernelspec": {
   "display_name": "R",
   "language": "R",
   "name": "ir"
  },
  "language_info": {
   "codemirror_mode": "r",
   "file_extension": ".r",
   "mimetype": "text/x-r-source",
   "name": "R",
   "pygments_lexer": "r",
   "version": "4.1.3"
  }
 },
 "nbformat": 4,
 "nbformat_minor": 5
}
