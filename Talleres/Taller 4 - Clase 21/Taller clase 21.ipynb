{
 "cells": [
  {
   "cell_type": "markdown",
   "id": "5c1e0ad0",
   "metadata": {},
   "source": [
    "# TALLER Clase 21- Normalidad y autocorrelación de los errores"
   ]
  },
  {
   "cell_type": "markdown",
   "id": "9efa6f9d",
   "metadata": {},
   "source": [
    "Alejandro Mantilla Redondo - 201711304\n",
    "\n",
    "Ximena Palacio Argüello - 201730995"
   ]
  },
  {
   "cell_type": "markdown",
   "id": "4bbfb5d7",
   "metadata": {},
   "source": [
    "En el archivo `gasto.txt` se encuentra información sobre el gasto de un hogar determinado en términos del ingreso mensual durante 20 meses."
   ]
  },
  {
   "cell_type": "code",
   "execution_count": 1,
   "id": "61c6acd9",
   "metadata": {
    "scrolled": false
   },
   "outputs": [
    {
     "data": {
      "text/html": [
       "<table class=\"dataframe\">\n",
       "<caption>A data.frame: 6 × 2</caption>\n",
       "<thead>\n",
       "\t<tr><th></th><th scope=col>ingreso</th><th scope=col>gasto</th></tr>\n",
       "\t<tr><th></th><th scope=col>&lt;dbl&gt;</th><th scope=col>&lt;dbl&gt;</th></tr>\n",
       "</thead>\n",
       "<tbody>\n",
       "\t<tr><th scope=row>1</th><td>214.6</td><td>159.3</td></tr>\n",
       "\t<tr><th scope=row>2</th><td>217.7</td><td>161.2</td></tr>\n",
       "\t<tr><th scope=row>3</th><td>219.6</td><td>162.8</td></tr>\n",
       "\t<tr><th scope=row>4</th><td>227.2</td><td>164.6</td></tr>\n",
       "\t<tr><th scope=row>5</th><td>230.9</td><td>165.9</td></tr>\n",
       "\t<tr><th scope=row>6</th><td>233.3</td><td>167.9</td></tr>\n",
       "</tbody>\n",
       "</table>\n"
      ],
      "text/latex": [
       "A data.frame: 6 × 2\n",
       "\\begin{tabular}{r|ll}\n",
       "  & ingreso & gasto\\\\\n",
       "  & <dbl> & <dbl>\\\\\n",
       "\\hline\n",
       "\t1 & 214.6 & 159.3\\\\\n",
       "\t2 & 217.7 & 161.2\\\\\n",
       "\t3 & 219.6 & 162.8\\\\\n",
       "\t4 & 227.2 & 164.6\\\\\n",
       "\t5 & 230.9 & 165.9\\\\\n",
       "\t6 & 233.3 & 167.9\\\\\n",
       "\\end{tabular}\n"
      ],
      "text/markdown": [
       "\n",
       "A data.frame: 6 × 2\n",
       "\n",
       "| <!--/--> | ingreso &lt;dbl&gt; | gasto &lt;dbl&gt; |\n",
       "|---|---|---|\n",
       "| 1 | 214.6 | 159.3 |\n",
       "| 2 | 217.7 | 161.2 |\n",
       "| 3 | 219.6 | 162.8 |\n",
       "| 4 | 227.2 | 164.6 |\n",
       "| 5 | 230.9 | 165.9 |\n",
       "| 6 | 233.3 | 167.9 |\n",
       "\n"
      ],
      "text/plain": [
       "  ingreso gasto\n",
       "1 214.6   159.3\n",
       "2 217.7   161.2\n",
       "3 219.6   162.8\n",
       "4 227.2   164.6\n",
       "5 230.9   165.9\n",
       "6 233.3   167.9"
      ]
     },
     "metadata": {},
     "output_type": "display_data"
    }
   ],
   "source": [
    "data <- read.table(\"Archivos/gasto.txt\", head = TRUE)\n",
    "head(data)"
   ]
  },
  {
   "cell_type": "markdown",
   "id": "e34f1af0",
   "metadata": {},
   "source": [
    "Declaramos un modelo de regresión lineal simple."
   ]
  },
  {
   "cell_type": "code",
   "execution_count": 2,
   "id": "11c21109",
   "metadata": {},
   "outputs": [
    {
     "data": {
      "text/plain": [
       "\n",
       "Call:\n",
       "lm(formula = gasto ~ ingreso, data = data)\n",
       "\n",
       "Residuals:\n",
       "    Min      1Q  Median      3Q     Max \n",
       "-2.1684 -1.0469 -0.5359  1.4188  3.1144 \n",
       "\n",
       "Coefficients:\n",
       "            Estimate Std. Error t value Pr(>|t|)    \n",
       "(Intercept) 71.78129    5.05986   14.19 3.26e-11 ***\n",
       "ingreso      0.41614    0.02072   20.08 8.99e-14 ***\n",
       "---\n",
       "Signif. codes:  0 ‘***’ 0.001 ‘**’ 0.01 ‘*’ 0.05 ‘.’ 0.1 ‘ ’ 1\n",
       "\n",
       "Residual standard error: 1.694 on 18 degrees of freedom\n",
       "Multiple R-squared:  0.9573,\tAdjusted R-squared:  0.9549 \n",
       "F-statistic: 403.2 on 1 and 18 DF,  p-value: 8.988e-14\n"
      ]
     },
     "metadata": {},
     "output_type": "display_data"
    }
   ],
   "source": [
    "modelo <- lm(gasto~ingreso, data = data)\n",
    "summary(modelo)"
   ]
  },
  {
   "cell_type": "markdown",
   "id": "39ce6c68",
   "metadata": {},
   "source": [
    "## 1. Revise el supuesto de normalidad"
   ]
  },
  {
   "cell_type": "code",
   "execution_count": null,
   "id": "b4e9d417",
   "metadata": {},
   "outputs": [],
   "source": [
    "# Prueba de normalidad de los residuos\n"
   ]
  },
  {
   "cell_type": "markdown",
   "id": "aa2f55f8",
   "metadata": {},
   "source": [
    "Concluimos, con un $\\alpha = 0.05$, que ..."
   ]
  },
  {
   "cell_type": "markdown",
   "id": "e6c8c03c",
   "metadata": {},
   "source": [
    "## 2. Revise si es necesario transformar alguna de las variables"
   ]
  },
  {
   "cell_type": "markdown",
   "id": "89c5907d",
   "metadata": {},
   "source": [
    "Definimos el siguiente modelo con una transformación..."
   ]
  },
  {
   "cell_type": "code",
   "execution_count": 3,
   "id": "634e9e55",
   "metadata": {},
   "outputs": [],
   "source": [
    "# Creamos un modelo transformado\n"
   ]
  },
  {
   "cell_type": "markdown",
   "id": "b47f1945",
   "metadata": {},
   "source": [
    "Evaluamos si el nuevo modelo tiene problemas de normalidad."
   ]
  },
  {
   "cell_type": "code",
   "execution_count": null,
   "id": "1261b385",
   "metadata": {},
   "outputs": [],
   "source": [
    "# Prueba de normalidad de los nuevos residuos\n"
   ]
  },
  {
   "cell_type": "markdown",
   "id": "ffc62050",
   "metadata": {},
   "source": [
    "Concluimos, con un $\\alpha = 0.05$, que ..."
   ]
  },
  {
   "cell_type": "markdown",
   "id": "36813ef6",
   "metadata": {},
   "source": [
    "## 3. ¿Existe problema de autocorrelación positiva?"
   ]
  },
  {
   "cell_type": "code",
   "execution_count": null,
   "id": "7f8c97e4",
   "metadata": {},
   "outputs": [],
   "source": [
    "# Prueba de autocorrelación de los residuos\n"
   ]
  },
  {
   "cell_type": "markdown",
   "id": "d008dc9e",
   "metadata": {},
   "source": [
    "Concluimos, con un $\\alpha = 0.05$, que ..."
   ]
  },
  {
   "cell_type": "markdown",
   "id": "8cd4cede",
   "metadata": {},
   "source": [
    "## 4. Corriga el problema si es necesario."
   ]
  },
  {
   "cell_type": "code",
   "execution_count": null,
   "id": "26096761",
   "metadata": {},
   "outputs": [],
   "source": [
    "# Creamos un modelo transformado\n"
   ]
  },
  {
   "cell_type": "markdown",
   "id": "2d976175",
   "metadata": {},
   "source": [
    "Evaluamos si el nuevo modelo tiene problemas de autocorrelación positiva."
   ]
  },
  {
   "cell_type": "code",
   "execution_count": null,
   "id": "6655d04a",
   "metadata": {},
   "outputs": [],
   "source": [
    "# Prueba de autocorrelación de los nuevos residuos.\n"
   ]
  },
  {
   "cell_type": "markdown",
   "id": "b85c4ed3",
   "metadata": {},
   "source": [
    "Concluimos, con un $\\alpha = 0.05$, que ..."
   ]
  }
 ],
 "metadata": {
  "kernelspec": {
   "display_name": "R",
   "language": "R",
   "name": "ir"
  },
  "language_info": {
   "codemirror_mode": "r",
   "file_extension": ".r",
   "mimetype": "text/x-r-source",
   "name": "R",
   "pygments_lexer": "r",
   "version": "4.2.1"
  }
 },
 "nbformat": 4,
 "nbformat_minor": 5
}
