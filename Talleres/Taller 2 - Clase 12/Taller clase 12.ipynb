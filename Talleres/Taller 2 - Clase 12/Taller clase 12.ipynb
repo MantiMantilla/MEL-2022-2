{
 "cells": [
  {
   "cell_type": "markdown",
   "id": "5e3965db-3087-428f-8db3-6db2d5ef2c7d",
   "metadata": {},
   "source": [
    "# TALLER Clase 12"
   ]
  },
  {
   "cell_type": "markdown",
   "id": "d3a5d02c-ae64-45a5-9a44-8ba71edef123",
   "metadata": {},
   "source": [
    "Alejandro Mantilla Redondo - 201711304\n",
    "\n",
    "Juan Betancourt - 201632544\n"
   ]
  },
  {
   "cell_type": "markdown",
   "id": "7d37317d-74cb-421f-a919-e37fef1a074d",
   "metadata": {},
   "source": [
    "Usando los datos Carseats: Se usan como variables explicativas continuas Advertising e Income.\n",
    "Como variables categóricas se usan Urban y ShelveLoc."
   ]
  },
  {
   "cell_type": "markdown",
   "id": "331c7575-49f1-4299-9907-75c471b47979",
   "metadata": {},
   "source": [
    "Se considera un modelo con todas las dummies y todas las interacciones."
   ]
  },
  {
   "cell_type": "code",
   "execution_count": 1,
   "id": "89711fee-590d-404c-b1c0-edf405497629",
   "metadata": {
    "vscode": {
     "languageId": "r"
    }
   },
   "outputs": [
    {
     "data": {
      "text/html": [
       "<table class=\"dataframe\">\n",
       "<caption>A data.frame: 6 × 12</caption>\n",
       "<thead>\n",
       "\t<tr><th></th><th scope=col>Sales</th><th scope=col>Advertising</th><th scope=col>Income</th><th scope=col>Urban</th><th scope=col>Shelve_loc_bad</th><th scope=col>Shelve_loc_medium</th><th scope=col>Advertising:Shelve_loc_bad</th><th scope=col>Advertising:Shelve_loc_medium</th><th scope=col>Advertising:Urban</th><th scope=col>Income:Shelve_loc_bad</th><th scope=col>Income:Shelve_loc_medium</th><th scope=col>Income:Urban</th></tr>\n",
       "\t<tr><th></th><th scope=col>&lt;dbl&gt;</th><th scope=col>&lt;dbl&gt;</th><th scope=col>&lt;dbl&gt;</th><th scope=col>&lt;dbl&gt;</th><th scope=col>&lt;dbl&gt;</th><th scope=col>&lt;dbl&gt;</th><th scope=col>&lt;dbl&gt;</th><th scope=col>&lt;dbl&gt;</th><th scope=col>&lt;dbl&gt;</th><th scope=col>&lt;dbl&gt;</th><th scope=col>&lt;dbl&gt;</th><th scope=col>&lt;dbl&gt;</th></tr>\n",
       "</thead>\n",
       "<tbody>\n",
       "\t<tr><th scope=row>1</th><td> 9.50</td><td>11</td><td> 73</td><td>1</td><td>1</td><td>0</td><td>11</td><td> 0</td><td>11</td><td> 73</td><td>  0</td><td> 73</td></tr>\n",
       "\t<tr><th scope=row>2</th><td>11.22</td><td>16</td><td> 48</td><td>1</td><td>0</td><td>0</td><td> 0</td><td> 0</td><td>16</td><td>  0</td><td>  0</td><td> 48</td></tr>\n",
       "\t<tr><th scope=row>3</th><td>10.06</td><td>10</td><td> 35</td><td>1</td><td>0</td><td>1</td><td> 0</td><td>10</td><td>10</td><td>  0</td><td> 35</td><td> 35</td></tr>\n",
       "\t<tr><th scope=row>4</th><td> 7.40</td><td> 4</td><td>100</td><td>1</td><td>0</td><td>1</td><td> 0</td><td> 4</td><td> 4</td><td>  0</td><td>100</td><td>100</td></tr>\n",
       "\t<tr><th scope=row>5</th><td> 4.15</td><td> 3</td><td> 64</td><td>1</td><td>1</td><td>0</td><td> 3</td><td> 0</td><td> 3</td><td> 64</td><td>  0</td><td> 64</td></tr>\n",
       "\t<tr><th scope=row>6</th><td>10.81</td><td>13</td><td>113</td><td>0</td><td>1</td><td>0</td><td>13</td><td> 0</td><td> 0</td><td>113</td><td>  0</td><td>  0</td></tr>\n",
       "</tbody>\n",
       "</table>\n"
      ],
      "text/latex": [
       "A data.frame: 6 × 12\n",
       "\\begin{tabular}{r|llllllllllll}\n",
       "  & Sales & Advertising & Income & Urban & Shelve\\_loc\\_bad & Shelve\\_loc\\_medium & Advertising:Shelve\\_loc\\_bad & Advertising:Shelve\\_loc\\_medium & Advertising:Urban & Income:Shelve\\_loc\\_bad & Income:Shelve\\_loc\\_medium & Income:Urban\\\\\n",
       "  & <dbl> & <dbl> & <dbl> & <dbl> & <dbl> & <dbl> & <dbl> & <dbl> & <dbl> & <dbl> & <dbl> & <dbl>\\\\\n",
       "\\hline\n",
       "\t1 &  9.50 & 11 &  73 & 1 & 1 & 0 & 11 &  0 & 11 &  73 &   0 &  73\\\\\n",
       "\t2 & 11.22 & 16 &  48 & 1 & 0 & 0 &  0 &  0 & 16 &   0 &   0 &  48\\\\\n",
       "\t3 & 10.06 & 10 &  35 & 1 & 0 & 1 &  0 & 10 & 10 &   0 &  35 &  35\\\\\n",
       "\t4 &  7.40 &  4 & 100 & 1 & 0 & 1 &  0 &  4 &  4 &   0 & 100 & 100\\\\\n",
       "\t5 &  4.15 &  3 &  64 & 1 & 1 & 0 &  3 &  0 &  3 &  64 &   0 &  64\\\\\n",
       "\t6 & 10.81 & 13 & 113 & 0 & 1 & 0 & 13 &  0 &  0 & 113 &   0 &   0\\\\\n",
       "\\end{tabular}\n"
      ],
      "text/markdown": [
       "\n",
       "A data.frame: 6 × 12\n",
       "\n",
       "| <!--/--> | Sales &lt;dbl&gt; | Advertising &lt;dbl&gt; | Income &lt;dbl&gt; | Urban &lt;dbl&gt; | Shelve_loc_bad &lt;dbl&gt; | Shelve_loc_medium &lt;dbl&gt; | Advertising:Shelve_loc_bad &lt;dbl&gt; | Advertising:Shelve_loc_medium &lt;dbl&gt; | Advertising:Urban &lt;dbl&gt; | Income:Shelve_loc_bad &lt;dbl&gt; | Income:Shelve_loc_medium &lt;dbl&gt; | Income:Urban &lt;dbl&gt; |\n",
       "|---|---|---|---|---|---|---|---|---|---|---|---|---|\n",
       "| 1 |  9.50 | 11 |  73 | 1 | 1 | 0 | 11 |  0 | 11 |  73 |   0 |  73 |\n",
       "| 2 | 11.22 | 16 |  48 | 1 | 0 | 0 |  0 |  0 | 16 |   0 |   0 |  48 |\n",
       "| 3 | 10.06 | 10 |  35 | 1 | 0 | 1 |  0 | 10 | 10 |   0 |  35 |  35 |\n",
       "| 4 |  7.40 |  4 | 100 | 1 | 0 | 1 |  0 |  4 |  4 |   0 | 100 | 100 |\n",
       "| 5 |  4.15 |  3 |  64 | 1 | 1 | 0 |  3 |  0 |  3 |  64 |   0 |  64 |\n",
       "| 6 | 10.81 | 13 | 113 | 0 | 1 | 0 | 13 |  0 |  0 | 113 |   0 |   0 |\n",
       "\n"
      ],
      "text/plain": [
       "  Sales Advertising Income Urban Shelve_loc_bad Shelve_loc_medium\n",
       "1  9.50 11           73    1     1              0                \n",
       "2 11.22 16           48    1     0              0                \n",
       "3 10.06 10           35    1     0              1                \n",
       "4  7.40  4          100    1     0              1                \n",
       "5  4.15  3           64    1     1              0                \n",
       "6 10.81 13          113    0     1              0                \n",
       "  Advertising:Shelve_loc_bad Advertising:Shelve_loc_medium Advertising:Urban\n",
       "1 11                          0                            11               \n",
       "2  0                          0                            16               \n",
       "3  0                         10                            10               \n",
       "4  0                          4                             4               \n",
       "5  3                          0                             3               \n",
       "6 13                          0                             0               \n",
       "  Income:Shelve_loc_bad Income:Shelve_loc_medium Income:Urban\n",
       "1  73                     0                       73         \n",
       "2   0                     0                       48         \n",
       "3   0                    35                       35         \n",
       "4   0                   100                      100         \n",
       "5  64                     0                       64         \n",
       "6 113                     0                        0         "
      ]
     },
     "metadata": {},
     "output_type": "display_data"
    }
   ],
   "source": [
    "datos <- ISLR::Carseats\n",
    "\n",
    "# Excluimos la columna shelve_loc_good para no\n",
    "# introducir multicolinealidad al modelo.\n",
    "shelve_loc_bad <- as.double(datos$ShelveLoc == \"Bad\")\n",
    "shelve_loc_medium <- as.double(datos$ShelveLoc == \"Medium\")\n",
    "\n",
    "urban <- as.double(datos$Urban == \"Yes\")\n",
    "\n",
    "datos <- cbind(datos[c(1, 4, 3)], urban, shelve_loc_bad, shelve_loc_medium)\n",
    "\n",
    "colnames(datos) <- c(\"Sales\",\n",
    "                     \"Advertising\",\n",
    "                     \"Income\",\n",
    "                     \"Urban\",\n",
    "                     \"Shelve_loc_bad\",\n",
    "                     \"Shelve_loc_medium\")\n",
    "\n",
    "datos <- cbind(datos,\n",
    "               datos[\"Shelve_loc_bad\"]    * datos[\"Advertising\"],\n",
    "               datos[\"Shelve_loc_medium\"] * datos[\"Advertising\"],\n",
    "               datos[\"Urban\"]             * datos[\"Advertising\"],\n",
    "               datos[\"Shelve_loc_bad\"]    * datos[\"Income\"],\n",
    "               datos[\"Shelve_loc_medium\"] * datos[\"Income\"],\n",
    "               datos[\"Urban\"]             * datos[\"Income\"])\n",
    "\n",
    "colnames(datos) <- c(\"Sales\", \n",
    "                     \"Advertising\",\n",
    "                     \"Income\",\n",
    "                     \"Urban\",\n",
    "                     \"Shelve_loc_bad\",\n",
    "                     \"Shelve_loc_medium\",\n",
    "                     \"Advertising:Shelve_loc_bad\",\n",
    "                     \"Advertising:Shelve_loc_medium\",\n",
    "                     \"Advertising:Urban\",\n",
    "                     \"Income:Shelve_loc_bad\",\n",
    "                     \"Income:Shelve_loc_medium\",\n",
    "                     \"Income:Urban\")\n",
    "\n",
    "head(datos)"
   ]
  },
  {
   "cell_type": "markdown",
   "id": "c433a4d3-6a72-468f-a424-9d3786b88e54",
   "metadata": {},
   "source": [
    "Tomamos como modelo completo el descrito por la siguiente expresión. Excluimos las interacciones entre variables de mismo tipo (continuas con continuas, binarias con binarias)."
   ]
  },
  {
   "cell_type": "markdown",
   "id": "3f6ee65b-5606-41c4-8705-04efc5f64eb1",
   "metadata": {},
   "source": [
    "\\begin{align*}\n",
    "  \\text{Sales}\\ =\\ & \\beta_{0}\\cdot x_{0} + \\beta_{\\text{Advertising}}\\cdot x_{\\text{Advertising}} + \\beta_{\\text{Income}}\\cdot x_{\\text{Income}} +\\\\\n",
    "               & \\gamma_{\\text{Shelve_loc_bad}}\\cdot z_{\\text{Shelve_loc_bad}} + \\gamma_{\\text{Shelve_loc_medium}}\\cdot z_{\\text{Shelve_loc_medium}} + \\gamma_{\\text{Urban}}\\cdot z_{\\text{Urban}} + \\\\\n",
    "               & \\eta_{\\text{Urban}\\cdot \\text{Advertising}}\\cdot \\left(z_{\\text{Urban}}\\cdot x_{\\text{Advertising}}\\right) + \\eta_{\\text{Urban}\\cdot \\text{Income}}\\cdot \\left(z_{\\text{Urban}}\\cdot x_{\\text{Income}}\\right) +\\\\\n",
    "               & \\eta_{\\text{Shelve_loc_bad}\\cdot \\text{Advertising}}\\cdot \\left(z_{\\text{Shelve_loc_bad}}\\cdot x_{\\text{Advertising}}\\right) + \\eta_{\\text{Shelve_loc_bad}\\cdot \\text{Income}}\\cdot \\left(z_{\\text{Shelve_loc_bad}}\\cdot x_{\\text{Income}}\\right) +\\\\\n",
    "               & \\eta_{\\text{Shelve_loc_medium}\\cdot \\text{Advertising}}\\cdot \\left(z_{\\text{Shelve_loc_medium}}\\cdot x_{\\text{Advertising}}\\right) + \\eta_{\\text{Shelve_loc_medium}\\cdot \\text{Income}}\\cdot \\left(z_{\\text{Shelve_loc_medium}}\\cdot x_{\\text{Income}}\\right).\n",
    "\\end{align*}"
   ]
  },
  {
   "cell_type": "code",
   "execution_count": 2,
   "id": "ea14a238-3b31-4226-be38-ddba12971575",
   "metadata": {
    "vscode": {
     "languageId": "r"
    }
   },
   "outputs": [
    {
     "data": {
      "text/plain": [
       "\n",
       "Call:\n",
       "lm(formula = Sales ~ (Advertising + Income) * (Shelve_loc_bad + \n",
       "    Shelve_loc_medium + Urban), data = datos)\n",
       "\n",
       "Residuals:\n",
       "    Min      1Q  Median      3Q     Max \n",
       "-6.1366 -1.5673  0.0162  1.5435  6.2686 \n",
       "\n",
       "Coefficients:\n",
       "                               Estimate Std. Error t value Pr(>|t|)    \n",
       "(Intercept)                    8.529838   0.817714  10.431  < 2e-16 ***\n",
       "Advertising                    0.124337   0.044591   2.788  0.00556 ** \n",
       "Income                         0.011296   0.010397   1.086  0.27796    \n",
       "Shelve_loc_bad                -5.184761   0.946788  -5.476 7.83e-08 ***\n",
       "Shelve_loc_medium             -3.654387   0.789649  -4.628 5.04e-06 ***\n",
       "Urban                          0.658878   0.651054   1.012  0.31216    \n",
       "Advertising:Shelve_loc_bad    -0.030251   0.050147  -0.603  0.54670    \n",
       "Advertising:Shelve_loc_medium -0.003157   0.042007  -0.075  0.94014    \n",
       "Advertising:Urban             -0.027971   0.037536  -0.745  0.45662    \n",
       "Income:Shelve_loc_bad          0.010740   0.012051   0.891  0.37336    \n",
       "Income:Shelve_loc_medium       0.012656   0.010056   1.259  0.20896    \n",
       "Income:Urban                  -0.006453   0.008519  -0.757  0.44926    \n",
       "---\n",
       "Signif. codes:  0 ‘***’ 0.001 ‘**’ 0.01 ‘*’ 0.05 ‘.’ 0.1 ‘ ’ 1\n",
       "\n",
       "Residual standard error: 2.208 on 388 degrees of freedom\n",
       "Multiple R-squared:  0.4055,\tAdjusted R-squared:  0.3886 \n",
       "F-statistic: 24.06 on 11 and 388 DF,  p-value: < 2.2e-16\n"
      ]
     },
     "metadata": {},
     "output_type": "display_data"
    }
   ],
   "source": [
    "modelo <- lm(Sales ~ (Advertising + Income) *\n",
    "             (Shelve_loc_bad + Shelve_loc_medium + Urban), data = datos)\n",
    "\n",
    "summary(modelo)"
   ]
  },
  {
   "cell_type": "markdown",
   "id": "c0fa24af-1528-4f53-a759-51e6c7987215",
   "metadata": {},
   "source": [
    "Definimos una función que ejecute la prueba $F$ generalizada."
   ]
  },
  {
   "cell_type": "code",
   "execution_count": 3,
   "id": "ca2f8f09-8ed2-47e9-ac06-4dcfa8530a3b",
   "metadata": {},
   "outputs": [],
   "source": [
    "prueba_f_gen <- function(y, X, A, c){\n",
    "\n",
    "    n <- length(X[, 1])\n",
    "    p <- length(X[1,])\n",
    "    q <- length(A[, 1])\n",
    "\n",
    "    xtx <- t(X) %*% X\n",
    "    H <- solve(xtx)\n",
    "\n",
    "    beta_hat <- H %*% t(X) %*% y\n",
    "\n",
    "    y_hat <- X %*% beta_hat\n",
    "\n",
    "    s2 <- sum((y - y_hat)^2) / (n - p)\n",
    "\n",
    "    beta_r <- beta_hat +\n",
    "              (H %*% t(A) %*% solve(A %*% H %*% t(A)) %*% (c -\n",
    "                                                           (A %*% beta_hat)))\n",
    "\n",
    "    ep <- (sum((y_hat - (X %*% beta_r)) ^ 2) / q) / s2\n",
    "\n",
    "    pvalue <- 1 - pf(ep, q, (n - p))\n",
    "\n",
    "    return(c(ep, pvalue))\n",
    "}"
   ]
  },
  {
   "cell_type": "markdown",
   "id": "ecc082f9-9058-423e-9da2-9aae00fe11fd",
   "metadata": {},
   "source": [
    "Definimos nuestras matrices $X$ y $Y$."
   ]
  },
  {
   "cell_type": "code",
   "execution_count": 4,
   "id": "d90fee2a-bcb0-40c3-9868-f97fae9ba69b",
   "metadata": {},
   "outputs": [
    {
     "data": {
      "text/html": [
       "<table class=\"dataframe\">\n",
       "<caption>A matrix: 6 × 12 of type dbl</caption>\n",
       "<thead>\n",
       "\t<tr><th></th><th scope=col>1</th><th scope=col>Advertising</th><th scope=col>Income</th><th scope=col>Urban</th><th scope=col>Shelve_loc_bad</th><th scope=col>Shelve_loc_medium</th><th scope=col>Advertising:Shelve_loc_bad</th><th scope=col>Advertising:Shelve_loc_medium</th><th scope=col>Advertising:Urban</th><th scope=col>Income:Shelve_loc_bad</th><th scope=col>Income:Shelve_loc_medium</th><th scope=col>Income:Urban</th></tr>\n",
       "</thead>\n",
       "<tbody>\n",
       "\t<tr><th scope=row>1</th><td>1</td><td>11</td><td> 73</td><td>1</td><td>1</td><td>0</td><td>11</td><td> 0</td><td>11</td><td> 73</td><td>  0</td><td> 73</td></tr>\n",
       "\t<tr><th scope=row>2</th><td>1</td><td>16</td><td> 48</td><td>1</td><td>0</td><td>0</td><td> 0</td><td> 0</td><td>16</td><td>  0</td><td>  0</td><td> 48</td></tr>\n",
       "\t<tr><th scope=row>3</th><td>1</td><td>10</td><td> 35</td><td>1</td><td>0</td><td>1</td><td> 0</td><td>10</td><td>10</td><td>  0</td><td> 35</td><td> 35</td></tr>\n",
       "\t<tr><th scope=row>4</th><td>1</td><td> 4</td><td>100</td><td>1</td><td>0</td><td>1</td><td> 0</td><td> 4</td><td> 4</td><td>  0</td><td>100</td><td>100</td></tr>\n",
       "\t<tr><th scope=row>5</th><td>1</td><td> 3</td><td> 64</td><td>1</td><td>1</td><td>0</td><td> 3</td><td> 0</td><td> 3</td><td> 64</td><td>  0</td><td> 64</td></tr>\n",
       "\t<tr><th scope=row>6</th><td>1</td><td>13</td><td>113</td><td>0</td><td>1</td><td>0</td><td>13</td><td> 0</td><td> 0</td><td>113</td><td>  0</td><td>  0</td></tr>\n",
       "</tbody>\n",
       "</table>\n"
      ],
      "text/latex": [
       "A matrix: 6 × 12 of type dbl\n",
       "\\begin{tabular}{r|llllllllllll}\n",
       "  & 1 & Advertising & Income & Urban & Shelve\\_loc\\_bad & Shelve\\_loc\\_medium & Advertising:Shelve\\_loc\\_bad & Advertising:Shelve\\_loc\\_medium & Advertising:Urban & Income:Shelve\\_loc\\_bad & Income:Shelve\\_loc\\_medium & Income:Urban\\\\\n",
       "\\hline\n",
       "\t1 & 1 & 11 &  73 & 1 & 1 & 0 & 11 &  0 & 11 &  73 &   0 &  73\\\\\n",
       "\t2 & 1 & 16 &  48 & 1 & 0 & 0 &  0 &  0 & 16 &   0 &   0 &  48\\\\\n",
       "\t3 & 1 & 10 &  35 & 1 & 0 & 1 &  0 & 10 & 10 &   0 &  35 &  35\\\\\n",
       "\t4 & 1 &  4 & 100 & 1 & 0 & 1 &  0 &  4 &  4 &   0 & 100 & 100\\\\\n",
       "\t5 & 1 &  3 &  64 & 1 & 1 & 0 &  3 &  0 &  3 &  64 &   0 &  64\\\\\n",
       "\t6 & 1 & 13 & 113 & 0 & 1 & 0 & 13 &  0 &  0 & 113 &   0 &   0\\\\\n",
       "\\end{tabular}\n"
      ],
      "text/markdown": [
       "\n",
       "A matrix: 6 × 12 of type dbl\n",
       "\n",
       "| <!--/--> | 1 | Advertising | Income | Urban | Shelve_loc_bad | Shelve_loc_medium | Advertising:Shelve_loc_bad | Advertising:Shelve_loc_medium | Advertising:Urban | Income:Shelve_loc_bad | Income:Shelve_loc_medium | Income:Urban |\n",
       "|---|---|---|---|---|---|---|---|---|---|---|---|---|\n",
       "| 1 | 1 | 11 |  73 | 1 | 1 | 0 | 11 |  0 | 11 |  73 |   0 |  73 |\n",
       "| 2 | 1 | 16 |  48 | 1 | 0 | 0 |  0 |  0 | 16 |   0 |   0 |  48 |\n",
       "| 3 | 1 | 10 |  35 | 1 | 0 | 1 |  0 | 10 | 10 |   0 |  35 |  35 |\n",
       "| 4 | 1 |  4 | 100 | 1 | 0 | 1 |  0 |  4 |  4 |   0 | 100 | 100 |\n",
       "| 5 | 1 |  3 |  64 | 1 | 1 | 0 |  3 |  0 |  3 |  64 |   0 |  64 |\n",
       "| 6 | 1 | 13 | 113 | 0 | 1 | 0 | 13 |  0 |  0 | 113 |   0 |   0 |\n",
       "\n"
      ],
      "text/plain": [
       "  1 Advertising Income Urban Shelve_loc_bad Shelve_loc_medium\n",
       "1 1 11           73    1     1              0                \n",
       "2 1 16           48    1     0              0                \n",
       "3 1 10           35    1     0              1                \n",
       "4 1  4          100    1     0              1                \n",
       "5 1  3           64    1     1              0                \n",
       "6 1 13          113    0     1              0                \n",
       "  Advertising:Shelve_loc_bad Advertising:Shelve_loc_medium Advertising:Urban\n",
       "1 11                          0                            11               \n",
       "2  0                          0                            16               \n",
       "3  0                         10                            10               \n",
       "4  0                          4                             4               \n",
       "5  3                          0                             3               \n",
       "6 13                          0                             0               \n",
       "  Income:Shelve_loc_bad Income:Shelve_loc_medium Income:Urban\n",
       "1  73                     0                       73         \n",
       "2   0                     0                       48         \n",
       "3   0                    35                       35         \n",
       "4   0                   100                      100         \n",
       "5  64                     0                       64         \n",
       "6 113                     0                        0         "
      ]
     },
     "metadata": {},
     "output_type": "display_data"
    },
    {
     "data": {
      "text/html": [
       "<table class=\"dataframe\">\n",
       "<caption>A matrix: 6 × 1 of type dbl</caption>\n",
       "<thead>\n",
       "\t<tr><th></th><th scope=col>Sales</th></tr>\n",
       "</thead>\n",
       "<tbody>\n",
       "\t<tr><th scope=row>1</th><td> 9.50</td></tr>\n",
       "\t<tr><th scope=row>2</th><td>11.22</td></tr>\n",
       "\t<tr><th scope=row>3</th><td>10.06</td></tr>\n",
       "\t<tr><th scope=row>4</th><td> 7.40</td></tr>\n",
       "\t<tr><th scope=row>5</th><td> 4.15</td></tr>\n",
       "\t<tr><th scope=row>6</th><td>10.81</td></tr>\n",
       "</tbody>\n",
       "</table>\n"
      ],
      "text/latex": [
       "A matrix: 6 × 1 of type dbl\n",
       "\\begin{tabular}{r|l}\n",
       "  & Sales\\\\\n",
       "\\hline\n",
       "\t1 &  9.50\\\\\n",
       "\t2 & 11.22\\\\\n",
       "\t3 & 10.06\\\\\n",
       "\t4 &  7.40\\\\\n",
       "\t5 &  4.15\\\\\n",
       "\t6 & 10.81\\\\\n",
       "\\end{tabular}\n"
      ],
      "text/markdown": [
       "\n",
       "A matrix: 6 × 1 of type dbl\n",
       "\n",
       "| <!--/--> | Sales |\n",
       "|---|---|\n",
       "| 1 |  9.50 |\n",
       "| 2 | 11.22 |\n",
       "| 3 | 10.06 |\n",
       "| 4 |  7.40 |\n",
       "| 5 |  4.15 |\n",
       "| 6 | 10.81 |\n",
       "\n"
      ],
      "text/plain": [
       "  Sales\n",
       "1  9.50\n",
       "2 11.22\n",
       "3 10.06\n",
       "4  7.40\n",
       "5  4.15\n",
       "6 10.81"
      ]
     },
     "metadata": {},
     "output_type": "display_data"
    }
   ],
   "source": [
    "X <- as.matrix(cbind(1, datos[, -1]))\n",
    "head(X)\n",
    "y <- as.matrix(datos[\"Sales\"])\n",
    "head(y)"
   ]
  },
  {
   "cell_type": "markdown",
   "id": "4de78bce-db7f-4ca5-a411-e176c601b6f4",
   "metadata": {},
   "source": [
    "## 1. Es cierto que si el sitio es urbano o la posición en el estante no influyen sobre las ventas?"
   ]
  },
  {
   "cell_type": "markdown",
   "id": "e9b0e6ec-e7e0-4063-b27f-a65f607895d1",
   "metadata": {},
   "source": [
    "Consideramos las siguientes hipótesis.\n",
    "\n",
    "\\begin{align*}\n",
    "    H_{1}:\\ & \\gamma_{\\text{Urban}} + \\gamma_{\\text{Shelve_loc_bad}} + \\gamma_{\\text{Shelve_loc_medium}} = 0 \\ \\land \\\\\n",
    "          & \\eta_{\\text{Urban} \\cdot \\text{Advertising}} + \\eta_{\\text{Shelve_loc_medium}\\cdot \\text{Advertising}} + \\eta_{\\text{Shelve_loc_bad}\\cdot \\text{Advertising}} = 0  \\ \\land \\\\\n",
    "          & \\eta_{\\text{Urban}\\cdot \\text{Income}} + \\eta_{\\text{Shelve_loc_medium}\\cdot \\text{Income}} + \\eta_{\\text{Shelve_loc_bad}\\cdot \\text{Income}} = 0, \\\\\n",
    "    H_{0}:\\ & \\neg H_{1}.\n",
    "\\end{align*}"
   ]
  },
  {
   "cell_type": "code",
   "execution_count": 5,
   "id": "5ac47548-fc74-49f9-9fe7-c54425aa0847",
   "metadata": {
    "vscode": {
     "languageId": "r"
    }
   },
   "outputs": [
    {
     "name": "stdout",
     "output_type": "stream",
     "text": [
      "[1] \"El estadístico de prueba es: 52.723648858676\"\n",
      "[1] \"El p-value respectivo es:  0\"\n"
     ]
    }
   ],
   "source": [
    "A <- matrix(c(0, 0, 0, 1, 1, 1, 0, 0, 0, 0, 0, 0,\n",
    "              0, 0, 0, 0, 0, 0, 1, 1, 1, 0, 0, 0,\n",
    "              0, 0, 0, 0, 0, 0, 0, 0, 0, 1, 1, 1),\n",
    "            nrow = 3, byrow = TRUE)\n",
    "\n",
    "c <- matrix(0, nrow = 3, ncol = 1)\n",
    "\n",
    "resultado <- prueba_f_gen(y, X, A, c)\n",
    "\n",
    "print(paste(\"El estadístico de prueba es:\", resultado[1], sep = \" \"))\n",
    "print(paste(\"El p-value respectivo es: \", resultado[2], sep = \" \"))"
   ]
  },
  {
   "cell_type": "markdown",
   "id": "9c310e7d",
   "metadata": {},
   "source": [
    "Al evaluar la prueba de hipótesis a través del estadístico de prueba es posible ver la probabilidad de que una variable aleatoria con distribución $F_{3,388}$ sea mayor al estadístico de prueba es $0 < \\alpha=0.05$. Esto quiere decir que hay suficiente evidencia estadística para rechazar la hipótesis nula que se planteó. En términos prácticos del problema, podemos concluir que no es cierto que si el sitio es urbano o la posición en el estante no influyen sobre las ventas."
   ]
  },
  {
   "cell_type": "markdown",
   "id": "08c959f1-392d-4b0e-9b84-5d621090ff6d",
   "metadata": {},
   "source": [
    "## 2. Es cierto que la posición en el estante no influye sobre las ventas?"
   ]
  },
  {
   "cell_type": "markdown",
   "id": "9d535c25-dc82-46e5-b646-da0e8f020a68",
   "metadata": {},
   "source": [
    "Consideramos las siguientes hipótesis.\n",
    "\n",
    "\\begin{align*}\n",
    "    H_{1}:\\ & \\gamma_{\\text{Shelve_loc_bad}} = 0 \\ \\land \\\\\n",
    "            & \\gamma_{\\text{Shelve_loc_medium}} = 0 \\ \\land \\\\\n",
    "            & \\eta_{\\text{Shelve_loc_medium}\\cdot \\text{Advertising}} = 0 \\ \\land \\\\ \n",
    "            & \\eta_{\\text{Shelve_loc_bad}\\cdot \\text{Advertising}} = 0 \\ \\land \\\\\n",
    "            & \\eta_{\\text{Shelve_loc_medium}\\cdot \\text{Income}} = 0 \\ \\land \\\\\n",
    "            & \\eta_{\\text{Shelve_loc_bad}\\cdot \\text{Income}} = 0, \\\\\n",
    "    H_{0}:\\ & \\neg H_{1}.\n",
    "\\end{align*}"
   ]
  },
  {
   "cell_type": "code",
   "execution_count": 6,
   "id": "4c4d15c4-9417-4871-9b4b-e17baf86b696",
   "metadata": {
    "scrolled": true,
    "vscode": {
     "languageId": "r"
    }
   },
   "outputs": [
    {
     "data": {
      "text/html": [
       "'El estadístico de prueba es: 33.399225143868'"
      ],
      "text/latex": [
       "'El estadístico de prueba es: 33.399225143868'"
      ],
      "text/markdown": [
       "'El estadístico de prueba es: 33.399225143868'"
      ],
      "text/plain": [
       "[1] \"El estadístico de prueba es: 33.399225143868\""
      ]
     },
     "metadata": {},
     "output_type": "display_data"
    },
    {
     "data": {
      "text/html": [
       "<span style=white-space:pre-wrap>'El p-value respectivo es:  0'</span>"
      ],
      "text/latex": [
       "'El p-value respectivo es:  0'"
      ],
      "text/markdown": [
       "<span style=white-space:pre-wrap>'El p-value respectivo es:  0'</span>"
      ],
      "text/plain": [
       "[1] \"El p-value respectivo es:  0\""
      ]
     },
     "metadata": {},
     "output_type": "display_data"
    }
   ],
   "source": [
    "A <- matrix(c(0, 0, 0, 1, 0, 0, 0, 0, 0, 0, 0, 0,\n",
    "              0, 0, 0, 0, 1, 0, 0, 0, 0, 0, 0, 0,\n",
    "              0, 0, 0, 0, 0, 0, 1, 0, 0, 0, 0, 0,\n",
    "              0, 0, 0, 0, 0, 0, 0, 1, 0, 0, 0, 0,\n",
    "              0, 0, 0, 0, 0, 0, 0, 0, 0, 1, 0, 0,\n",
    "              0, 0, 0, 0, 0, 0, 0, 0, 0, 0, 1, 0),\n",
    "            nrow = 6, byrow = TRUE)\n",
    "\n",
    "c <- matrix(0, nrow = 6, ncol = 1)\n",
    "\n",
    "resultado <- prueba_f_gen(y, X, A, c)\n",
    "\n",
    "paste(\"El estadístico de prueba es:\", resultado[1], sep = \" \")\n",
    "paste(\"El p-value respectivo es: \", resultado[2], sep = \" \")"
   ]
  },
  {
   "cell_type": "markdown",
   "id": "f11cfeed",
   "metadata": {},
   "source": [
    "Al evaluar la prueba de hipótesis a través del estadístico de prueba es posible ver la probabilidad de que una variable aleatoria con distribución $F_{6,388}$ sea mayor al estadístico de prueba es $0 < \\alpha=0.05$. Esto quiere decir que hay suficiente evidencia estadística para rechazar la hipótesis nula que se planteó. En términos prácticos del problema, podemos concluir que no es cierto que la posición en el estante no influya sobre las ventas."
   ]
  },
  {
   "cell_type": "markdown",
   "id": "38ac9922-4c2b-4d67-8408-0809ce23514d",
   "metadata": {},
   "source": [
    "## 3. Es cierto que los modelos en todas las celdas son paralelos (los efectos no cambian)?"
   ]
  },
  {
   "cell_type": "markdown",
   "id": "a6041a9a-d50a-4212-af61-f6dd8c077f2b",
   "metadata": {},
   "source": [
    "Consideramos las siguientes hipótesis.\n",
    "\n",
    "\\begin{align*}\n",
    "    H_{1}:\\ & \\eta_{\\text{Urban}\\cdot \\text{Advertising}} = 0 \\ \\land \\\\\n",
    "            & \\eta_{\\text{Shelve_loc_bad}\\cdot \\text{Advertising}} = 0 \\ \\land \\\\\n",
    "            & \\eta_{\\text{Shelve_loc_medium}\\cdot \\text{Advertising}} = 0 \\ \\land \\\\\n",
    "            & \\eta_{\\text{Urban}\\cdot \\text{Income}} = 0 \\ \\land \\\\\n",
    "            & \\eta_{\\text{Shelve_loc_bad}\\cdot \\text{Income}} = 0 \\ \\land \\\\\n",
    "            & \\eta_{\\text{Shelve_loc_medium}\\cdot \\text{Income}} = 0, \\\\\n",
    "    H_{0}:\\ & \\neg H_{1}.\n",
    "\\end{align*}"
   ]
  },
  {
   "cell_type": "code",
   "execution_count": 7,
   "id": "5b41e172-d8cd-4390-9794-b27b22aeb584",
   "metadata": {
    "vscode": {
     "languageId": "r"
    }
   },
   "outputs": [
    {
     "data": {
      "text/html": [
       "'El estadístico de prueba es: 0.605767462892683'"
      ],
      "text/latex": [
       "'El estadístico de prueba es: 0.605767462892683'"
      ],
      "text/markdown": [
       "'El estadístico de prueba es: 0.605767462892683'"
      ],
      "text/plain": [
       "[1] \"El estadístico de prueba es: 0.605767462892683\""
      ]
     },
     "metadata": {},
     "output_type": "display_data"
    },
    {
     "data": {
      "text/html": [
       "<span style=white-space:pre-wrap>'El p-value respectivo es:  0.725757645321409'</span>"
      ],
      "text/latex": [
       "'El p-value respectivo es:  0.725757645321409'"
      ],
      "text/markdown": [
       "<span style=white-space:pre-wrap>'El p-value respectivo es:  0.725757645321409'</span>"
      ],
      "text/plain": [
       "[1] \"El p-value respectivo es:  0.725757645321409\""
      ]
     },
     "metadata": {},
     "output_type": "display_data"
    }
   ],
   "source": [
    "A <- matrix(c(0, 0, 0, 0, 0, 0, 1, 0, 0, 0, 0, 0,\n",
    "              0, 0, 0, 0, 0, 0, 0, 1, 0, 0, 0, 0,\n",
    "              0, 0, 0, 0, 0, 0, 0, 0, 1, 0, 0, 0,\n",
    "              0, 0, 0, 0, 0, 0, 0, 0, 0, 1, 0, 0,\n",
    "              0, 0, 0, 0, 0, 0, 0, 0, 0, 0, 1, 0,\n",
    "              0, 0, 0, 0, 0, 0, 0, 0, 0, 0, 0, 1),\n",
    "            nrow = 6, byrow = TRUE)\n",
    "\n",
    "c <- matrix(0, nrow = 6, ncol = 1)\n",
    "\n",
    "resultado <- prueba_f_gen(y, X, A, c)\n",
    "\n",
    "paste(\"El estadístico de prueba es:\", resultado[1], sep = \" \")\n",
    "paste(\"El p-value respectivo es: \", resultado[2], sep = \" \")"
   ]
  },
  {
   "cell_type": "markdown",
   "id": "ce52e336",
   "metadata": {},
   "source": [
    "Al evaluar la prueba de hipótesis a través del estadístico de prueba es posible ver la probabilidad de que una variable aleatoria con distribución $F_{6,388}$ sea mayor al estadístico de prueba es $0.73 > \\alpha=0.05$. Esto quiere decir que hay suficiente evidencia estadística para no rechazar la hipótesis nula que se planteó. En términos prácticos del problema, podemos concluir que es cierto que los modelos en todas las celdas son paralelos."
   ]
  },
  {
   "cell_type": "markdown",
   "id": "e373e2f4-97d9-4620-838f-336aa69305dd",
   "metadata": {},
   "source": [
    "## 4. Son los modelos para las ventas en una zona urbana con posición media en el estante, y en una zona rural con posición buena iguales?"
   ]
  },
  {
   "cell_type": "markdown",
   "id": "60a24f0e-fd3b-4830-9210-c2d1bbc1a19b",
   "metadata": {},
   "source": [
    "Consideramos las siguientes hipótesis.\n",
    "\n",
    "\\begin{align*}\n",
    "    H_{1}:\\ & \\gamma_{\\text{Urban}} + \\gamma_{\\text{Shelve_loc_medium}} = 0 \\ \\land \\\\\n",
    "            & \\eta_{\\text{Urban}\\cdot \\text{Advertising}} + \\eta_{\\text{Shelve_loc_medium}\\cdot \\text{Advertising}} = 0 \\ \\land\\\\\n",
    "            & \\eta_{\\text{Urban}\\cdot \\text{Income}} + \\eta_{\\text{Shelve_loc_medium}\\cdot \\text{Income}} = 0, \\\\\n",
    "    H_{0}:\\ & \\neg H_{1}.\n",
    "\\end{align*}"
   ]
  },
  {
   "cell_type": "code",
   "execution_count": 8,
   "id": "1b1ac0fc-6a4b-4454-b921-2e968604ed2f",
   "metadata": {
    "scrolled": true,
    "vscode": {
     "languageId": "r"
    }
   },
   "outputs": [
    {
     "data": {
      "text/html": [
       "'El estadístico de prueba es: 17.2384726794462'"
      ],
      "text/latex": [
       "'El estadístico de prueba es: 17.2384726794462'"
      ],
      "text/markdown": [
       "'El estadístico de prueba es: 17.2384726794462'"
      ],
      "text/plain": [
       "[1] \"El estadístico de prueba es: 17.2384726794462\""
      ]
     },
     "metadata": {},
     "output_type": "display_data"
    },
    {
     "data": {
      "text/html": [
       "<span style=white-space:pre-wrap>'El p-value respectivo es:  1.57975965642265e-10'</span>"
      ],
      "text/latex": [
       "'El p-value respectivo es:  1.57975965642265e-10'"
      ],
      "text/markdown": [
       "<span style=white-space:pre-wrap>'El p-value respectivo es:  1.57975965642265e-10'</span>"
      ],
      "text/plain": [
       "[1] \"El p-value respectivo es:  1.57975965642265e-10\""
      ]
     },
     "metadata": {},
     "output_type": "display_data"
    }
   ],
   "source": [
    "A <- matrix(c(0, 0, 0, 0, 1, 1, 0, 0, 0, 0, 0, 0,\n",
    "              0, 0, 0, 0, 0, 0, 0, 1, 1, 0, 0, 0,\n",
    "              0, 0, 0, 0, 0, 0, 0, 0, 0, 0, 1, 1),\n",
    "            nrow = 3, byrow = TRUE)\n",
    "\n",
    "c <- matrix(0, nrow = 3, ncol = 1)\n",
    "\n",
    "resultado <- prueba_f_gen(y, X, A, c)\n",
    "\n",
    "paste(\"El estadístico de prueba es:\", resultado[1], sep = \" \")\n",
    "paste(\"El p-value respectivo es: \", resultado[2], sep = \" \")"
   ]
  },
  {
   "cell_type": "markdown",
   "id": "e4b67b07",
   "metadata": {},
   "source": [
    "Al evaluar la prueba de hipótesis a través del estadístico de prueba es posible ver la probabilidad de que una variable aleatoria con distribución $F_{3,388}$ sea mayor al estadístico de prueba es $1.5*10^{-10} < \\alpha=0.05$. Esto quiere decir que hay suficiente evidencia estadística para rechazar la hipótesis nula que se planteó. En términos prácticos del problema, podemos concluir que no es cierto que los modelos para las ventas en una zona urbana con posición media en el estante, y en una zona rural con posición buena son iguales."
   ]
  },
  {
   "cell_type": "markdown",
   "id": "255b4bdb-3a69-4814-9158-6528c1e22fcd",
   "metadata": {},
   "source": [
    "## 5. Es cierto que el efecto de la publicidad es igual en la zona rural que la urbana?"
   ]
  },
  {
   "cell_type": "markdown",
   "id": "c33582cb-e7b9-486c-b1af-bb74a697b32b",
   "metadata": {},
   "source": [
    "Consideramos las siguientes hipótesis.\n",
    "\n",
    "\\begin{align*}\n",
    "    H_{1}:\\ & \\eta_{\\text{Urban} \\cdot \\text{Advertising}} = 0, \\\\\n",
    "    H_{0}:\\ & \\neg H_{1}.\n",
    "\\end{align*}"
   ]
  },
  {
   "cell_type": "code",
   "execution_count": 9,
   "id": "2faedf43-6ff7-4735-8a7d-a2dacbbee149",
   "metadata": {
    "vscode": {
     "languageId": "r"
    }
   },
   "outputs": [
    {
     "data": {
      "text/html": [
       "'El estadístico de prueba es: 0.555273776963337'"
      ],
      "text/latex": [
       "'El estadístico de prueba es: 0.555273776963337'"
      ],
      "text/markdown": [
       "'El estadístico de prueba es: 0.555273776963337'"
      ],
      "text/plain": [
       "[1] \"El estadístico de prueba es: 0.555273776963337\""
      ]
     },
     "metadata": {},
     "output_type": "display_data"
    },
    {
     "data": {
      "text/html": [
       "<span style=white-space:pre-wrap>'El p-value respectivo es:  0.456621940822689'</span>"
      ],
      "text/latex": [
       "'El p-value respectivo es:  0.456621940822689'"
      ],
      "text/markdown": [
       "<span style=white-space:pre-wrap>'El p-value respectivo es:  0.456621940822689'</span>"
      ],
      "text/plain": [
       "[1] \"El p-value respectivo es:  0.456621940822689\""
      ]
     },
     "metadata": {},
     "output_type": "display_data"
    }
   ],
   "source": [
    "A <- matrix(c(0, 0, 0, 0, 0, 0, 0, 0, 1, 0, 0, 0),\n",
    "            nrow = 1, byrow = TRUE)\n",
    "\n",
    "c <- matrix(0, nrow = 1, ncol = 1)\n",
    "\n",
    "resultado <- prueba_f_gen(y, X, A, c)\n",
    "\n",
    "paste(\"El estadístico de prueba es:\", resultado[1], sep = \" \")\n",
    "paste(\"El p-value respectivo es: \", resultado[2], sep = \" \")"
   ]
  },
  {
   "cell_type": "markdown",
   "id": "1b5d2ef0",
   "metadata": {},
   "source": [
    "Al evaluar la prueba de hipótesis a través del estadístico de prueba es posible ver la probabilidad de que una variable aleatoria con distribución $F_{1,388}$ sea mayor al estadístico de prueba es $0.45 > \\alpha=0.05$. Esto quiere decir que hay suficiente evidencia estadística para no rechazar la hipótesis nula que se planteó. En términos prácticos del problema, podemos concluir que es cierto que el efecto de la publicidad es igual en la zona rural que la urbana."
   ]
  },
  {
   "cell_type": "markdown",
   "id": "aa613c74-7b6f-4156-8d8b-040e111fa6c0",
   "metadata": {},
   "source": [
    "## 6. Es cierto que el efecto de la publicidad es igual en la zona rural con posición media que en la zona urbana con posición mala?"
   ]
  },
  {
   "cell_type": "markdown",
   "id": "384a6ab4-de86-4b4a-9def-dd32e06d50c9",
   "metadata": {},
   "source": [
    "Consideramos las siguientes hipótesis.\n",
    "\n",
    "\\begin{align*}\n",
    "    H_{1}:\\ & \\eta_{\\text{Urban} \\cdot \\text{Advertising}} + \\eta_{\\text{Shelve_loc_bad}\\cdot \\text{Advertising}} = \\eta_{\\text{Shelve_loc_medium}\\cdot \\text{Advertising}}, \\\\\n",
    "    H_{0}:\\ & \\neg H_{1}.\n",
    "\\end{align*}"
   ]
  },
  {
   "cell_type": "code",
   "execution_count": 10,
   "id": "32692fef-2c65-46be-8659-9896fbc7c2ca",
   "metadata": {
    "vscode": {
     "languageId": "r"
    }
   },
   "outputs": [
    {
     "data": {
      "text/html": [
       "'El estadístico de prueba es: 0.00353881901256342'"
      ],
      "text/latex": [
       "'El estadístico de prueba es: 0.00353881901256342'"
      ],
      "text/markdown": [
       "'El estadístico de prueba es: 0.00353881901256342'"
      ],
      "text/plain": [
       "[1] \"El estadístico de prueba es: 0.00353881901256342\""
      ]
     },
     "metadata": {},
     "output_type": "display_data"
    },
    {
     "data": {
      "text/html": [
       "<span style=white-space:pre-wrap>'El p-value respectivo es:  0.952594070991012'</span>"
      ],
      "text/latex": [
       "'El p-value respectivo es:  0.952594070991012'"
      ],
      "text/markdown": [
       "<span style=white-space:pre-wrap>'El p-value respectivo es:  0.952594070991012'</span>"
      ],
      "text/plain": [
       "[1] \"El p-value respectivo es:  0.952594070991012\""
      ]
     },
     "metadata": {},
     "output_type": "display_data"
    }
   ],
   "source": [
    "A <- matrix(c(0, 0, 0, 0, 0, 0, 1, 1, -1, 0, 0, 0),\n",
    "            nrow = 1, byrow = TRUE)\n",
    "\n",
    "c <- matrix(0, nrow = 1, ncol = 1)\n",
    "\n",
    "resultado <- prueba_f_gen(y, X, A, c)\n",
    "\n",
    "paste(\"El estadístico de prueba es:\", resultado[1], sep = \" \")\n",
    "paste(\"El p-value respectivo es: \", resultado[2], sep = \" \")"
   ]
  },
  {
   "cell_type": "markdown",
   "id": "e04fcacb",
   "metadata": {},
   "source": [
    "Al evaluar la prueba de hipótesis a través del estadístico de prueba es posible ver la probabilidad de que una variable aleatoria con distribución $F_{1,388}$ sea mayor al estadístico de prueba es $0.95 > \\alpha=0.05$. Esto quiere decir que hay suficiente evidencia estadística para no rechazar la hipótesis nula que se planteó. En términos prácticos del problema, podemos concluir que es cierto que el efecto de la publicidad es igual en la zona rural con posición media que en la zona urbana con posición mala."
   ]
  }
 ],
 "metadata": {
  "kernelspec": {
   "display_name": "R",
   "language": "R",
   "name": "ir"
  },
  "language_info": {
   "codemirror_mode": "r",
   "file_extension": ".r",
   "mimetype": "text/x-r-source",
   "name": "R",
   "pygments_lexer": "r",
   "version": "4.1.3"
  }
 },
 "nbformat": 4,
 "nbformat_minor": 5
}
