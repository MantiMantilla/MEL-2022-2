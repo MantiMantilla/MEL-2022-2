{
 "cells": [
  {
   "cell_type": "markdown",
   "id": "5e3965db-3087-428f-8db3-6db2d5ef2c7d",
   "metadata": {},
   "source": [
    "# TALLER Clase 12"
   ]
  },
  {
   "cell_type": "markdown",
   "id": "d3a5d02c-ae64-45a5-9a44-8ba71edef123",
   "metadata": {},
   "source": [
    "Alejandro Mantilla Redondo - 201711304"
   ]
  },
  {
   "cell_type": "markdown",
   "id": "7d37317d-74cb-421f-a919-e37fef1a074d",
   "metadata": {},
   "source": [
    "Usando los datos Carseats: Se usan como variables explicativas continuas Advertising e Income.\n",
    "Como variables categóricas se usan Urban y ShelveLoc."
   ]
  },
  {
   "cell_type": "markdown",
   "id": "331c7575-49f1-4299-9907-75c471b47979",
   "metadata": {},
   "source": [
    "Se considera un modelo con todas las dummies y todas las interacciones."
   ]
  },
  {
   "cell_type": "code",
   "execution_count": 9,
   "id": "89711fee-590d-404c-b1c0-edf405497629",
   "metadata": {},
   "outputs": [
    {
     "data": {
      "text/html": [
       "<table class=\"dataframe\">\n",
       "<caption>A data.frame: 6 × 6</caption>\n",
       "<thead>\n",
       "\t<tr><th></th><th scope=col>Sales</th><th scope=col>Advertising</th><th scope=col>Income</th><th scope=col>Urban</th><th scope=col>Shelve_loc_bad</th><th scope=col>Shelve_loc_medium</th></tr>\n",
       "\t<tr><th></th><th scope=col>&lt;dbl&gt;</th><th scope=col>&lt;dbl&gt;</th><th scope=col>&lt;dbl&gt;</th><th scope=col>&lt;dbl&gt;</th><th scope=col>&lt;dbl&gt;</th><th scope=col>&lt;dbl&gt;</th></tr>\n",
       "</thead>\n",
       "<tbody>\n",
       "\t<tr><th scope=row>1</th><td> 9.50</td><td>11</td><td> 73</td><td>1</td><td>1</td><td>0</td></tr>\n",
       "\t<tr><th scope=row>2</th><td>11.22</td><td>16</td><td> 48</td><td>1</td><td>0</td><td>0</td></tr>\n",
       "\t<tr><th scope=row>3</th><td>10.06</td><td>10</td><td> 35</td><td>1</td><td>0</td><td>1</td></tr>\n",
       "\t<tr><th scope=row>4</th><td> 7.40</td><td> 4</td><td>100</td><td>1</td><td>0</td><td>1</td></tr>\n",
       "\t<tr><th scope=row>5</th><td> 4.15</td><td> 3</td><td> 64</td><td>1</td><td>1</td><td>0</td></tr>\n",
       "\t<tr><th scope=row>6</th><td>10.81</td><td>13</td><td>113</td><td>0</td><td>1</td><td>0</td></tr>\n",
       "</tbody>\n",
       "</table>\n"
      ],
      "text/latex": [
       "A data.frame: 6 × 6\n",
       "\\begin{tabular}{r|llllll}\n",
       "  & Sales & Advertising & Income & Urban & Shelve\\_loc\\_bad & Shelve\\_loc\\_medium\\\\\n",
       "  & <dbl> & <dbl> & <dbl> & <dbl> & <dbl> & <dbl>\\\\\n",
       "\\hline\n",
       "\t1 &  9.50 & 11 &  73 & 1 & 1 & 0\\\\\n",
       "\t2 & 11.22 & 16 &  48 & 1 & 0 & 0\\\\\n",
       "\t3 & 10.06 & 10 &  35 & 1 & 0 & 1\\\\\n",
       "\t4 &  7.40 &  4 & 100 & 1 & 0 & 1\\\\\n",
       "\t5 &  4.15 &  3 &  64 & 1 & 1 & 0\\\\\n",
       "\t6 & 10.81 & 13 & 113 & 0 & 1 & 0\\\\\n",
       "\\end{tabular}\n"
      ],
      "text/markdown": [
       "\n",
       "A data.frame: 6 × 6\n",
       "\n",
       "| <!--/--> | Sales &lt;dbl&gt; | Advertising &lt;dbl&gt; | Income &lt;dbl&gt; | Urban &lt;dbl&gt; | Shelve_loc_bad &lt;dbl&gt; | Shelve_loc_medium &lt;dbl&gt; |\n",
       "|---|---|---|---|---|---|---|\n",
       "| 1 |  9.50 | 11 |  73 | 1 | 1 | 0 |\n",
       "| 2 | 11.22 | 16 |  48 | 1 | 0 | 0 |\n",
       "| 3 | 10.06 | 10 |  35 | 1 | 0 | 1 |\n",
       "| 4 |  7.40 |  4 | 100 | 1 | 0 | 1 |\n",
       "| 5 |  4.15 |  3 |  64 | 1 | 1 | 0 |\n",
       "| 6 | 10.81 | 13 | 113 | 0 | 1 | 0 |\n",
       "\n"
      ],
      "text/plain": [
       "  Sales Advertising Income Urban Shelve_loc_bad Shelve_loc_medium\n",
       "1  9.50 11           73    1     1              0                \n",
       "2 11.22 16           48    1     0              0                \n",
       "3 10.06 10           35    1     0              1                \n",
       "4  7.40  4          100    1     0              1                \n",
       "5  4.15  3           64    1     1              0                \n",
       "6 10.81 13          113    0     1              0                "
      ]
     },
     "metadata": {},
     "output_type": "display_data"
    }
   ],
   "source": [
    "datos <- ISLR::Carseats\n",
    "\n",
    "# Excluimos la columna shelve_loc_good para no\n",
    "# introducir multicolinealidad al modelo.\n",
    "shelve_loc_bad <- as.double(datos$ShelveLoc == \"Bad\")\n",
    "shelve_loc_medium <- as.double(datos$ShelveLoc == \"Medium\")\n",
    "\n",
    "urban <- as.double(datos$Urban == \"Yes\")\n",
    "\n",
    "datos <- cbind(datos[c(1, 4, 3)], urban, shelve_loc_bad, shelve_loc_medium)\n",
    "colnames(datos) <- c(\"Sales\", \"Advertising\", \"Income\", \"Urban\",\n",
    "                     \"Shelve_loc_bad\", \"Shelve_loc_medium\")\n",
    "\n",
    "head(datos)"
   ]
  },
  {
   "cell_type": "markdown",
   "id": "c433a4d3-6a72-468f-a424-9d3786b88e54",
   "metadata": {},
   "source": [
    "Tomamos commo modelo completo el medo descrito por la siguiente expresión. Excluimos las interacciones entre variables de mismo tipo (continuas con continuas, binarias con binarias)."
   ]
  },
  {
   "cell_type": "markdown",
   "id": "3f6ee65b-5606-41c4-8705-04efc5f64eb1",
   "metadata": {},
   "source": [
    "\\begin{align*}\n",
    "  \\text{sales}\\ =\\ & \\beta_{0}\\cdot x_{0} + \\beta_{\\text{Advertising}}\\cdot x_{\\text{Advertising}} + \\beta_{\\text{Income}}\\cdot x_{\\text{Income}} +\\\\\n",
    "               & \\gamma_{\\text{Shelve_loc_bad}}\\cdot z_{\\text{Shelve_loc_bad}} + \\gamma_{\\text{Shelve_loc_medium}}\\cdot z_{\\text{Shelve_loc_medium}} + \\gamma_{\\text{Urban}}\\cdot z_{\\text{Urban}} + \\\\\n",
    "               & \\eta_{\\text{Urban}\\cdot \\text{Advertising}}\\cdot \\left(z_{\\text{Urban}}\\cdot x_{\\text{Advertising}}\\right) + \\eta_{\\text{Urban}\\cdot \\text{Income}}\\cdot \\left(z_{\\text{Urban}}\\cdot x_{\\text{Income}}\\right) +\\\\\n",
    "               & \\eta_{\\text{Shelve_loc_bad}\\cdot \\text{Advertising}}\\cdot \\left(z_{\\text{Shelve_loc_bad}}\\cdot x_{\\text{Advertising}}\\right) + \\eta_{\\text{Shelve_loc_bad}\\cdot \\text{Income}}\\cdot \\left(z_{\\text{Shelve_loc_bad}}\\cdot x_{\\text{Income}}\\right) +\\\\\n",
    "               & \\eta_{\\text{Shelve_loc_medium}\\cdot \\text{Advertising}}\\cdot \\left(z_{\\text{Shelve_loc_medium}}\\cdot x_{\\text{Advertising}}\\right) + \\eta_{\\text{Shelve_loc_medium}\\cdot \\text{Income}}\\cdot \\left(z_{\\text{Shelve_loc_medium}}\\cdot x_{\\text{Income}}\\right).\n",
    "\\end{align*}"
   ]
  },
  {
   "cell_type": "markdown",
   "id": "4de78bce-db7f-4ca5-a411-e176c601b6f4",
   "metadata": {},
   "source": [
    "## 1. Es cierto que si el sitio es urbano o la posición en el estante no influyen sobre las ventas?"
   ]
  },
  {
   "cell_type": "markdown",
   "id": "e9b0e6ec-e7e0-4063-b27f-a65f607895d1",
   "metadata": {},
   "source": [
    "Consideramos las siguientes hipótesis.\n",
    "\n",
    "\\begin{align*}\n",
    "    H_{1}:\\ & \\gamma_{\\text{Urban}} + \\gamma_{\\text{Shelve_loc_bad}} + \\gamma_{\\text{Shelve_loc_medium}} = 0 \\ \\land \\\\\n",
    "          & \\eta_{\\text{Urban} \\cdot \\text{Advertising}} + \\eta_{\\text{Shelve_loc_medium}\\cdot \\text{Advertising}} + \\eta_{\\text{Shelve_loc_bad}\\cdot \\text{Advertising}} = 0  \\ \\land \\\\\n",
    "          & \\eta_{\\text{Urban}\\cdot \\text{Income}} + \\eta_{\\text{Shelve_loc_medium}\\cdot \\text{Income}} + \\eta_{\\text{Shelve_loc_bad}\\cdot \\text{Income}} = 0, \\\\\n",
    "    H_{0}:\\ & \\neg H_{1}.\n",
    "\\end{align*}"
   ]
  },
  {
   "cell_type": "code",
   "execution_count": null,
   "id": "5ac47548-fc74-49f9-9fe7-c54425aa0847",
   "metadata": {},
   "outputs": [],
   "source": []
  },
  {
   "cell_type": "markdown",
   "id": "08c959f1-392d-4b0e-9b84-5d621090ff6d",
   "metadata": {},
   "source": [
    "## 2. Es cierto que la posición en el estante no influye sobre las ventas?"
   ]
  },
  {
   "cell_type": "markdown",
   "id": "fed02ea1-0c48-444f-9e20-dd408010874d",
   "metadata": {},
   "source": [
    "Consideramos las siguientes hipótesis.\n",
    "\n",
    "\\begin{align*}\n",
    "    H_{1}:\\ & \\gamma_{\\text{Shelve_loc_bad}} + \\gamma_{\\text{Shelve_loc_medium}} = 0 \\ \\land \\\\\n",
    "            & \\eta_{\\text{Shelve_loc_medium}\\cdot \\text{Advertising}} + \\eta_{\\text{Shelve_loc_bad}\\cdot \\text{Advertising}} = 0  \\ \\land \\\\\n",
    "            & \\eta_{\\text{Shelve_loc_medium}\\cdot \\text{Income}} + \\eta_{\\text{Shelve_loc_bad}\\cdot \\text{Income}} = 0, \\\\\n",
    "    H_{0}:\\ & \\neg H_{1}.\n",
    "\\end{align*}"
   ]
  },
  {
   "cell_type": "code",
   "execution_count": null,
   "id": "4c4d15c4-9417-4871-9b4b-e17baf86b696",
   "metadata": {},
   "outputs": [],
   "source": []
  },
  {
   "cell_type": "markdown",
   "id": "38ac9922-4c2b-4d67-8408-0809ce23514d",
   "metadata": {},
   "source": [
    "## 3. Es cierto que los modelos en todas las celdas son paralelos (los efectos no cambian)?"
   ]
  },
  {
   "cell_type": "markdown",
   "id": "d83372b2-cbdd-4178-a67f-9a1e5210d4aa",
   "metadata": {},
   "source": [
    "### No se cuál de los siguientes dos usar"
   ]
  },
  {
   "cell_type": "markdown",
   "id": "0afc4109-372d-4ce5-a9eb-6c1cc1b9e0a6",
   "metadata": {},
   "source": [
    "Consideramos las siguientes hipótesis.\n",
    "\n",
    "\\begin{align*}\n",
    "    H_{1}:\\ & \\eta_{\\text{Urban}\\cdot \\text{Advertising}} + \\eta_{\\text{Shelve_loc_bad}\\cdot \\text{Advertising}} + \\eta_{\\text{Shelve_loc_medium}\\cdot \\text{Advertising}} = 0 \\ \\land\\\\\n",
    "            & \\eta_{\\text{Urban}\\cdot \\text{Income}} + \\eta_{\\text{Shelve_loc_bad}\\cdot \\text{Income}} + \\eta_{\\text{Shelve_loc_medium}\\cdot \\text{Income}} = 0, \\\\\n",
    "    H_{0}:\\ & \\neg H_{1}.\n",
    "\\end{align*}"
   ]
  },
  {
   "cell_type": "markdown",
   "id": "a6041a9a-d50a-4212-af61-f6dd8c077f2b",
   "metadata": {},
   "source": [
    "Consideramos las siguientes hipótesis.\n",
    "\n",
    "\\begin{align*}\n",
    "    H_{1}:\\ & \\eta_{\\text{Urban}\\cdot \\text{Advertising}} = 0 \\ \\land \\\\\n",
    "            & \\eta_{\\text{Shelve_loc_bad}\\cdot \\text{Advertising}} = 0 \\ \\land \\\\\n",
    "            & \\eta_{\\text{Shelve_loc_medium}\\cdot \\text{Advertising}} = 0 \\ \\land \\\\\n",
    "            & \\eta_{\\text{Urban}\\cdot \\text{Income}} = 0 \\ \\land \\\\\n",
    "            & \\eta_{\\text{Shelve_loc_bad}\\cdot \\text{Income}} = 0 \\ \\land \\\\\n",
    "            & \\eta_{\\text{Shelve_loc_medium}\\cdot \\text{Income}} = 0, \\\\\n",
    "    H_{0}:\\ & \\neg H_{1}.\n",
    "\\end{align*}"
   ]
  },
  {
   "cell_type": "code",
   "execution_count": null,
   "id": "5b41e172-d8cd-4390-9794-b27b22aeb584",
   "metadata": {},
   "outputs": [],
   "source": []
  },
  {
   "cell_type": "markdown",
   "id": "e373e2f4-97d9-4620-838f-336aa69305dd",
   "metadata": {},
   "source": [
    "## 4. Son los modelos para las ventas en una zona urbana con posición media en el estante, y en una zona rural con posición buena iguales?"
   ]
  },
  {
   "cell_type": "markdown",
   "id": "60a24f0e-fd3b-4830-9210-c2d1bbc1a19b",
   "metadata": {},
   "source": [
    "Consideramos las siguientes hipótesis.\n",
    "\n",
    "\\begin{align*}\n",
    "    H_{1}:\\ & \\gamma_{\\text{Urban}} + \\gamma_{\\text{Shelve_loc_medium}} = 0 \\ \\land \\\\\n",
    "            & \\eta_{\\text{Urban}\\cdot \\text{Advertising}} + \\eta_{\\text{Shelve_loc_medium}\\cdot \\text{Advertising}} = 0 \\ \\land\\\\\n",
    "            & \\eta_{\\text{Urban}\\cdot \\text{Income}} + \\eta_{\\text{Shelve_loc_medium}\\cdot \\text{Income}} = 0, \\\\\n",
    "    H_{0}:\\ & \\neg H_{1}.\n",
    "\\end{align*}"
   ]
  },
  {
   "cell_type": "code",
   "execution_count": null,
   "id": "1b1ac0fc-6a4b-4454-b921-2e968604ed2f",
   "metadata": {},
   "outputs": [],
   "source": []
  },
  {
   "cell_type": "markdown",
   "id": "255b4bdb-3a69-4814-9158-6528c1e22fcd",
   "metadata": {},
   "source": [
    "## 5. Es cierto que el efecto de la publicidad es igual en la zona rural que la urbana?"
   ]
  },
  {
   "cell_type": "markdown",
   "id": "c33582cb-e7b9-486c-b1af-bb74a697b32b",
   "metadata": {},
   "source": [
    "Consideramos las siguientes hipótesis.\n",
    "\n",
    "\\begin{align*}\n",
    "    H_{1}:\\ & \\eta_{\\text{Urban} \\cdot \\text{Advertising}} = 0, \\\\\n",
    "    H_{0}:\\ & \\neg H_{1}.\n",
    "\\end{align*}"
   ]
  },
  {
   "cell_type": "code",
   "execution_count": null,
   "id": "2faedf43-6ff7-4735-8a7d-a2dacbbee149",
   "metadata": {},
   "outputs": [],
   "source": []
  },
  {
   "cell_type": "markdown",
   "id": "aa613c74-7b6f-4156-8d8b-040e111fa6c0",
   "metadata": {},
   "source": [
    "## 6. Es cierto que el efecto de la publicidad es igual en la zona rural con posición media que en la zona urbana con posición mala?"
   ]
  },
  {
   "cell_type": "markdown",
   "id": "384a6ab4-de86-4b4a-9def-dd32e06d50c9",
   "metadata": {},
   "source": [
    "Consideramos las siguientes hipótesis.\n",
    "\n",
    "\\begin{align*}\n",
    "    H_{1}:\\ & \\eta_{\\text{Urban} \\cdot \\text{Advertising}} + \\eta_{\\text{Shelve_loc_bad}\\cdot \\text{Advertising}} = \\eta_{\\text{Shelve_loc_medium}\\cdot \\text{Advertising}}, \\\\\n",
    "    H_{0}:\\ & \\neg H_{1}.\n",
    "\\end{align*}"
   ]
  },
  {
   "cell_type": "code",
   "execution_count": null,
   "id": "32692fef-2c65-46be-8659-9896fbc7c2ca",
   "metadata": {},
   "outputs": [],
   "source": []
  }
 ],
 "metadata": {
  "kernelspec": {
   "display_name": "R",
   "language": "R",
   "name": "ir"
  },
  "language_info": {
   "codemirror_mode": "r",
   "file_extension": ".r",
   "mimetype": "text/x-r-source",
   "name": "R",
   "pygments_lexer": "r",
   "version": "4.1.3"
  }
 },
 "nbformat": 4,
 "nbformat_minor": 5
}
