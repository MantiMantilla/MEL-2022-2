{
 "cells": [
  {
   "cell_type": "markdown",
   "id": "faeeb1dc",
   "metadata": {},
   "source": [
    "# TALLER Clase 10"
   ]
  },
  {
   "cell_type": "markdown",
   "id": "2374dac1",
   "metadata": {},
   "source": [
    "Ximena Palacio Arguello - 201730995\n",
    "\n",
    "Alejandro Mantilla Redondo - 201711304 "
   ]
  },
  {
   "cell_type": "code",
   "execution_count": 1,
   "id": "57fcb19d",
   "metadata": {},
   "outputs": [
    {
     "data": {
      "text/html": [
       "<table class=\"dataframe\">\n",
       "<caption>A data.frame: 6 × 5</caption>\n",
       "<thead>\n",
       "\t<tr><th></th><th scope=col>mpg</th><th scope=col>cylinders</th><th scope=col>displacement</th><th scope=col>horsepower</th><th scope=col>weight</th></tr>\n",
       "\t<tr><th></th><th scope=col>&lt;dbl&gt;</th><th scope=col>&lt;dbl&gt;</th><th scope=col>&lt;dbl&gt;</th><th scope=col>&lt;dbl&gt;</th><th scope=col>&lt;dbl&gt;</th></tr>\n",
       "</thead>\n",
       "<tbody>\n",
       "\t<tr><th scope=row>1</th><td>18</td><td>8</td><td>307</td><td>130</td><td>3504</td></tr>\n",
       "\t<tr><th scope=row>2</th><td>15</td><td>8</td><td>350</td><td>165</td><td>3693</td></tr>\n",
       "\t<tr><th scope=row>3</th><td>18</td><td>8</td><td>318</td><td>150</td><td>3436</td></tr>\n",
       "\t<tr><th scope=row>4</th><td>16</td><td>8</td><td>304</td><td>150</td><td>3433</td></tr>\n",
       "\t<tr><th scope=row>5</th><td>17</td><td>8</td><td>302</td><td>140</td><td>3449</td></tr>\n",
       "\t<tr><th scope=row>6</th><td>15</td><td>8</td><td>429</td><td>198</td><td>4341</td></tr>\n",
       "</tbody>\n",
       "</table>\n"
      ],
      "text/latex": [
       "A data.frame: 6 × 5\n",
       "\\begin{tabular}{r|lllll}\n",
       "  & mpg & cylinders & displacement & horsepower & weight\\\\\n",
       "  & <dbl> & <dbl> & <dbl> & <dbl> & <dbl>\\\\\n",
       "\\hline\n",
       "\t1 & 18 & 8 & 307 & 130 & 3504\\\\\n",
       "\t2 & 15 & 8 & 350 & 165 & 3693\\\\\n",
       "\t3 & 18 & 8 & 318 & 150 & 3436\\\\\n",
       "\t4 & 16 & 8 & 304 & 150 & 3433\\\\\n",
       "\t5 & 17 & 8 & 302 & 140 & 3449\\\\\n",
       "\t6 & 15 & 8 & 429 & 198 & 4341\\\\\n",
       "\\end{tabular}\n"
      ],
      "text/markdown": [
       "\n",
       "A data.frame: 6 × 5\n",
       "\n",
       "| <!--/--> | mpg &lt;dbl&gt; | cylinders &lt;dbl&gt; | displacement &lt;dbl&gt; | horsepower &lt;dbl&gt; | weight &lt;dbl&gt; |\n",
       "|---|---|---|---|---|---|\n",
       "| 1 | 18 | 8 | 307 | 130 | 3504 |\n",
       "| 2 | 15 | 8 | 350 | 165 | 3693 |\n",
       "| 3 | 18 | 8 | 318 | 150 | 3436 |\n",
       "| 4 | 16 | 8 | 304 | 150 | 3433 |\n",
       "| 5 | 17 | 8 | 302 | 140 | 3449 |\n",
       "| 6 | 15 | 8 | 429 | 198 | 4341 |\n",
       "\n"
      ],
      "text/plain": [
       "  mpg cylinders displacement horsepower weight\n",
       "1 18  8         307          130        3504  \n",
       "2 15  8         350          165        3693  \n",
       "3 18  8         318          150        3436  \n",
       "4 16  8         304          150        3433  \n",
       "5 17  8         302          140        3449  \n",
       "6 15  8         429          198        4341  "
      ]
     },
     "metadata": {},
     "output_type": "display_data"
    }
   ],
   "source": [
    "library(ISLR)\n",
    "data  <- Auto\n",
    "names <- Auto$name[1:100]\n",
    "data  <- data[1:100, 1:5]\n",
    "head(data)"
   ]
  },
  {
   "cell_type": "code",
   "execution_count": 2,
   "id": "5d283a0c",
   "metadata": {},
   "outputs": [],
   "source": [
    "y  <- data$mpg\n",
    "\n",
    "x1 <- data$cylinders\n",
    "x2 <- data$displacement\n",
    "x3 <- data$horsepower\n",
    "x4 <- data$weight"
   ]
  },
  {
   "cell_type": "markdown",
   "id": "81f27641",
   "metadata": {},
   "source": [
    "## 1. Pruebe si es cierta la hipótesis de que el peso del carro y el número de cilindros no influyen sobre el consumo de combustible."
   ]
  },
  {
   "cell_type": "markdown",
   "id": "ce553092",
   "metadata": {},
   "source": [
    "\\begin{align*}\n",
    "    H_{1}&: \\quad \\beta_{\\text{cylinders}} = \\beta_{\\text{weight}} = 0 \\\\\n",
    "    H_{0}&: \\quad \\beta_{\\text{cylinders}} \\neq 0 \\lor \\beta_{\\text{weight}} \\neq 0\n",
    "\\end{align*}"
   ]
  },
  {
   "cell_type": "code",
   "execution_count": 3,
   "id": "1c25fa70",
   "metadata": {},
   "outputs": [
    {
     "data": {
      "text/plain": [
       "\n",
       "Call:\n",
       "lm(formula = y ~ x1 + x2 + x3 + x4)\n",
       "\n",
       "Residuals:\n",
       "    Min      1Q  Median      3Q     Max \n",
       "-6.3515 -1.5074 -0.0247  1.3277  7.5697 \n",
       "\n",
       "Coefficients:\n",
       "              Estimate Std. Error t value Pr(>|t|)    \n",
       "(Intercept) 37.0815630  1.3359753  27.756  < 2e-16 ***\n",
       "x1          -0.7708441  0.4027480  -1.914   0.0586 .  \n",
       "x2          -0.0022439  0.0074304  -0.302   0.7633    \n",
       "x3           0.0024429  0.0117569   0.208   0.8358    \n",
       "x4          -0.0040762  0.0006431  -6.338 7.76e-09 ***\n",
       "---\n",
       "Signif. codes:  0 ‘***’ 0.001 ‘**’ 0.01 ‘*’ 0.05 ‘.’ 0.1 ‘ ’ 1\n",
       "\n",
       "Residual standard error: 2.13 on 95 degrees of freedom\n",
       "Multiple R-squared:  0.8695,\tAdjusted R-squared:  0.864 \n",
       "F-statistic: 158.2 on 4 and 95 DF,  p-value: < 2.2e-16\n"
      ]
     },
     "metadata": {},
     "output_type": "display_data"
    }
   ],
   "source": [
    "fit1 <- lm(y ~ x1 + x2 + x3 + x4)\n",
    "summary(fit1)"
   ]
  },
  {
   "cell_type": "code",
   "execution_count": 4,
   "id": "e660b1f9",
   "metadata": {},
   "outputs": [
    {
     "data": {
      "text/plain": [
       "\n",
       "Call:\n",
       "lm(formula = y ~ x2 + x3)\n",
       "\n",
       "Residuals:\n",
       "    Min      1Q  Median      3Q     Max \n",
       "-6.6230 -1.6138 -0.1509  1.6851  9.0603 \n",
       "\n",
       "Coefficients:\n",
       "             Estimate Std. Error t value Pr(>|t|)    \n",
       "(Intercept) 29.568696   0.831937  35.542  < 2e-16 ***\n",
       "x2          -0.037029   0.005489  -6.746  1.1e-09 ***\n",
       "x3          -0.013956   0.014104  -0.989    0.325    \n",
       "---\n",
       "Signif. codes:  0 ‘***’ 0.001 ‘**’ 0.01 ‘*’ 0.05 ‘.’ 0.1 ‘ ’ 1\n",
       "\n",
       "Residual standard error: 2.681 on 97 degrees of freedom\n",
       "Multiple R-squared:  0.7888,\tAdjusted R-squared:  0.7845 \n",
       "F-statistic: 181.2 on 2 and 97 DF,  p-value: < 2.2e-16\n"
      ]
     },
     "metadata": {},
     "output_type": "display_data"
    }
   ],
   "source": [
    "fit2 <- lm(y ~ x2 + x3)\n",
    "summary(fit2)"
   ]
  },
  {
   "cell_type": "code",
   "execution_count": 5,
   "id": "f071e8e4",
   "metadata": {},
   "outputs": [
    {
     "data": {
      "text/html": [
       "<table class=\"dataframe\">\n",
       "<caption>A anova: 2 × 6</caption>\n",
       "<thead>\n",
       "\t<tr><th></th><th scope=col>Res.Df</th><th scope=col>RSS</th><th scope=col>Df</th><th scope=col>Sum of Sq</th><th scope=col>F</th><th scope=col>Pr(&gt;F)</th></tr>\n",
       "\t<tr><th></th><th scope=col>&lt;dbl&gt;</th><th scope=col>&lt;dbl&gt;</th><th scope=col>&lt;dbl&gt;</th><th scope=col>&lt;dbl&gt;</th><th scope=col>&lt;dbl&gt;</th><th scope=col>&lt;dbl&gt;</th></tr>\n",
       "</thead>\n",
       "<tbody>\n",
       "\t<tr><th scope=row>1</th><td>95</td><td>431.0788</td><td>NA</td><td>       NA</td><td>     NA</td><td>          NA</td></tr>\n",
       "\t<tr><th scope=row>2</th><td>97</td><td>697.4692</td><td>-2</td><td>-266.3904</td><td>29.3532</td><td>1.185777e-10</td></tr>\n",
       "</tbody>\n",
       "</table>\n"
      ],
      "text/latex": [
       "A anova: 2 × 6\n",
       "\\begin{tabular}{r|llllll}\n",
       "  & Res.Df & RSS & Df & Sum of Sq & F & Pr(>F)\\\\\n",
       "  & <dbl> & <dbl> & <dbl> & <dbl> & <dbl> & <dbl>\\\\\n",
       "\\hline\n",
       "\t1 & 95 & 431.0788 & NA &        NA &      NA &           NA\\\\\n",
       "\t2 & 97 & 697.4692 & -2 & -266.3904 & 29.3532 & 1.185777e-10\\\\\n",
       "\\end{tabular}\n"
      ],
      "text/markdown": [
       "\n",
       "A anova: 2 × 6\n",
       "\n",
       "| <!--/--> | Res.Df &lt;dbl&gt; | RSS &lt;dbl&gt; | Df &lt;dbl&gt; | Sum of Sq &lt;dbl&gt; | F &lt;dbl&gt; | Pr(&gt;F) &lt;dbl&gt; |\n",
       "|---|---|---|---|---|---|---|\n",
       "| 1 | 95 | 431.0788 | NA |        NA |      NA |           NA |\n",
       "| 2 | 97 | 697.4692 | -2 | -266.3904 | 29.3532 | 1.185777e-10 |\n",
       "\n"
      ],
      "text/plain": [
       "  Res.Df RSS      Df Sum of Sq F       Pr(>F)      \n",
       "1 95     431.0788 NA        NA      NA           NA\n",
       "2 97     697.4692 -2 -266.3904 29.3532 1.185777e-10"
      ]
     },
     "metadata": {},
     "output_type": "display_data"
    }
   ],
   "source": [
    "anova(fit1, fit2)"
   ]
  },
  {
   "cell_type": "markdown",
   "id": "96823698",
   "metadata": {},
   "source": [
    "Con $\\alpha = 0.05$, $P(f \\geq EP) = 1.185 \\cdot 10 ^{-10} < \\alpha$, es decir que rechazamos la hipótesis nula y afirmamos que el peso del carro y el número de cilindros sí influyen sobre el consumo de combustible. "
   ]
  },
  {
   "cell_type": "markdown",
   "id": "13f969cb",
   "metadata": {},
   "source": [
    "## 2. Suponga que un vendedor de carros vende 3 modelos, para los cuales asegura que el consume medio de combustible es 15, 14 y 12 mpg."
   ]
  },
  {
   "cell_type": "markdown",
   "id": "f4b666cb",
   "metadata": {},
   "source": [
    "Los cilindros, desplazamiento, potencia y peso son respectivamente:"
   ]
  },
  {
   "cell_type": "code",
   "execution_count": 6,
   "id": "1888794a",
   "metadata": {},
   "outputs": [],
   "source": [
    "xp1 <- c(6, 300, 150, 3600)\n",
    "xp2 <- c(6, 300, 100, 2800)\n",
    "xp3 <- c(4, 250, 100, 3000)"
   ]
  },
  {
   "cell_type": "markdown",
   "id": "b950ccf3",
   "metadata": {},
   "source": [
    "Con una prueba de hipótesis adecuada, pruebe si la afirmación del vendedor es cierta.\n",
    "\n",
    "Ayuda: No olvide el intercepto."
   ]
  },
  {
   "cell_type": "markdown",
   "id": "18f7e752-c35d-4aff-ba2b-c3bbaefc3936",
   "metadata": {},
   "source": [
    "\\begin{align*}\n",
    "    H_{1}&:\n",
    "    \\left[\\begin{matrix}\n",
    "        1 & 6 & 300 & 150 & 3600 \\\\\n",
    "        1 & 6 & 300 & 100 & 2800 \\\\\n",
    "        1 & 4 & 250 & 100 & 3000 \\\\\n",
    "    \\end{matrix}\\right]\n",
    "    \\left[\\begin{matrix}\n",
    "        \\beta_{0} \\\\\n",
    "        \\beta_{\\text{cylinders}} \\\\\n",
    "        \\beta_{\\text{displacement}} \\\\\n",
    "        \\beta_{\\text{horsepower}} \\\\\n",
    "        \\beta_{\\text{weight}} \\\\\n",
    "    \\end{matrix}\\right] = \n",
    "    \\left[\\begin{matrix}\n",
    "        15 \\\\\n",
    "        14 \\\\\n",
    "        12\n",
    "    \\end{matrix}\\right] \\\\\n",
    "    H_{0}&: \\neg H_{1}\n",
    "\\end{align*}"
   ]
  },
  {
   "cell_type": "code",
   "execution_count": 8,
   "id": "b8548200-15e3-4b1e-9ab9-0cfb8e966c15",
   "metadata": {},
   "outputs": [
    {
     "data": {
      "text/html": [
       "2.22044604925031e-16"
      ],
      "text/latex": [
       "2.22044604925031e-16"
      ],
      "text/markdown": [
       "2.22044604925031e-16"
      ],
      "text/plain": [
       "[1] 2.220446e-16"
      ]
     },
     "metadata": {},
     "output_type": "display_data"
    }
   ],
   "source": [
    "n <- length(x1)\n",
    "p <- 5\n",
    "q <- 3\n",
    "\n",
    "xp <- rbind(xp1, xp2, xp3)\n",
    "A <- cbind(1, xp)\n",
    "\n",
    "c <- c(15, 14, 12)\n",
    "\n",
    "X <- cbind(1, x1, x2, x3, x4)\n",
    "\n",
    "xtx <- t(X) %*% X\n",
    "H <- solve(xtx)\n",
    "\n",
    "beta_hat <- H %*% t(X) %*% y\n",
    "\n",
    "y_hat <- X %*% beta_hat\n",
    "\n",
    "s2 <- sum((y - y_hat)^2) / (n - p)\n",
    "\n",
    "beta_r <- beta_hat +\n",
    "          (H %*% t(A) %*% solve(A %*% H %*% t(A)) %*% (c - (A %*% beta_hat)))\n",
    "\n",
    "EP <- (sum((y_hat - (X %*% beta_r)) ^ 2) / q) / s2\n",
    "\n",
    "pvalue <- 1 - pf(EP, q, (n - p))\n",
    "pvalue"
   ]
  },
  {
   "cell_type": "markdown",
   "id": "75435677-fd33-458e-b406-5c35a7288bcd",
   "metadata": {},
   "source": [
    "Con $\\alpha = 0.05$, $P(f \\geq EP) = 2.220 \\cdot 10 ^{-16} < \\alpha$, es decir que rechazamos la hipótesis nula y afirmamos que la afirmación del vendedor es errada. "
   ]
  },
  {
   "cell_type": "markdown",
   "id": "638a3ab0-78ad-4356-bd37-c03b527f405d",
   "metadata": {},
   "source": [
    "## 3. Encuentre el coeficiente de determinación del modelo. "
   ]
  },
  {
   "cell_type": "code",
   "execution_count": 16,
   "id": "5449c30a-7ce6-4e17-8795-fc96305e4c93",
   "metadata": {},
   "outputs": [
    {
     "data": {
      "text/html": [
       "65088.765625"
      ],
      "text/latex": [
       "65088.765625"
      ],
      "text/markdown": [
       "65088.765625"
      ],
      "text/plain": [
       "[1] 65088.77"
      ]
     },
     "metadata": {},
     "output_type": "display_data"
    }
   ],
   "source": [
    "SSR <- sum(y_hat - mean(y)) ^ 2\n",
    "\n",
    "SST <- sum(y - mean(y)) ^ 2\n",
    "\n",
    "R2 <- SSR / SST\n",
    "R2"
   ]
  }
 ],
 "metadata": {
  "kernelspec": {
   "display_name": "R",
   "language": "R",
   "name": "ir"
  },
  "language_info": {
   "codemirror_mode": "r",
   "file_extension": ".r",
   "mimetype": "text/x-r-source",
   "name": "R",
   "pygments_lexer": "r",
   "version": "4.1.3"
  }
 },
 "nbformat": 4,
 "nbformat_minor": 5
}
