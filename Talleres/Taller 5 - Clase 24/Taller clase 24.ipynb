{
 "cells": [
  {
   "cell_type": "markdown",
   "id": "5c1e0ad0",
   "metadata": {},
   "source": [
    "# TALLER Clase 24 - Modelos lineales generalizados"
   ]
  },
  {
   "cell_type": "markdown",
   "id": "9efa6f9d",
   "metadata": {},
   "source": [
    "Alejandro Mantilla Redondo - 201711304\n",
    "\n",
    "Ximena Palacio Argüello - 201730995"
   ]
  },
  {
   "cell_type": "markdown",
   "id": "2d8d123b",
   "metadata": {},
   "source": [
    "En el paquete ISLR de R, la base de datos Default contien información sobre si las personas que piden un préstamo no pagan (hacen default) o si lo pagan completo. La variable de respuesta es `default` y se usan las variables explicativas que dicen si la persona es estudiante, el balance de la cuenta y el ingreso. Use los primeros 200 individuos."
   ]
  },
  {
   "cell_type": "code",
   "execution_count": 1,
   "id": "fda5f372",
   "metadata": {},
   "outputs": [
    {
     "data": {
      "text/html": [
       "<table class=\"dataframe\">\n",
       "<caption>A data.frame: 6 × 4</caption>\n",
       "<thead>\n",
       "\t<tr><th></th><th scope=col>default</th><th scope=col>student</th><th scope=col>balance</th><th scope=col>income</th></tr>\n",
       "\t<tr><th></th><th scope=col>&lt;fct&gt;</th><th scope=col>&lt;fct&gt;</th><th scope=col>&lt;dbl&gt;</th><th scope=col>&lt;dbl&gt;</th></tr>\n",
       "</thead>\n",
       "<tbody>\n",
       "\t<tr><th scope=row>1</th><td>No</td><td>No </td><td> 729.5265</td><td>44361.625</td></tr>\n",
       "\t<tr><th scope=row>2</th><td>No</td><td>Yes</td><td> 817.1804</td><td>12106.135</td></tr>\n",
       "\t<tr><th scope=row>3</th><td>No</td><td>No </td><td>1073.5492</td><td>31767.139</td></tr>\n",
       "\t<tr><th scope=row>4</th><td>No</td><td>No </td><td> 529.2506</td><td>35704.494</td></tr>\n",
       "\t<tr><th scope=row>5</th><td>No</td><td>No </td><td> 785.6559</td><td>38463.496</td></tr>\n",
       "\t<tr><th scope=row>6</th><td>No</td><td>Yes</td><td> 919.5885</td><td> 7491.559</td></tr>\n",
       "</tbody>\n",
       "</table>\n"
      ],
      "text/latex": [
       "A data.frame: 6 × 4\n",
       "\\begin{tabular}{r|llll}\n",
       "  & default & student & balance & income\\\\\n",
       "  & <fct> & <fct> & <dbl> & <dbl>\\\\\n",
       "\\hline\n",
       "\t1 & No & No  &  729.5265 & 44361.625\\\\\n",
       "\t2 & No & Yes &  817.1804 & 12106.135\\\\\n",
       "\t3 & No & No  & 1073.5492 & 31767.139\\\\\n",
       "\t4 & No & No  &  529.2506 & 35704.494\\\\\n",
       "\t5 & No & No  &  785.6559 & 38463.496\\\\\n",
       "\t6 & No & Yes &  919.5885 &  7491.559\\\\\n",
       "\\end{tabular}\n"
      ],
      "text/markdown": [
       "\n",
       "A data.frame: 6 × 4\n",
       "\n",
       "| <!--/--> | default &lt;fct&gt; | student &lt;fct&gt; | balance &lt;dbl&gt; | income &lt;dbl&gt; |\n",
       "|---|---|---|---|---|\n",
       "| 1 | No | No  |  729.5265 | 44361.625 |\n",
       "| 2 | No | Yes |  817.1804 | 12106.135 |\n",
       "| 3 | No | No  | 1073.5492 | 31767.139 |\n",
       "| 4 | No | No  |  529.2506 | 35704.494 |\n",
       "| 5 | No | No  |  785.6559 | 38463.496 |\n",
       "| 6 | No | Yes |  919.5885 |  7491.559 |\n",
       "\n"
      ],
      "text/plain": [
       "  default student balance   income   \n",
       "1 No      No       729.5265 44361.625\n",
       "2 No      Yes      817.1804 12106.135\n",
       "3 No      No      1073.5492 31767.139\n",
       "4 No      No       529.2506 35704.494\n",
       "5 No      No       785.6559 38463.496\n",
       "6 No      Yes      919.5885  7491.559"
      ]
     },
     "metadata": {},
     "output_type": "display_data"
    }
   ],
   "source": [
    "library(ISLR)\n",
    "datos <- ISLR::Default#[1:200, ]\n",
    "head(datos)"
   ]
  },
  {
   "cell_type": "markdown",
   "id": "77a2c23a",
   "metadata": {},
   "source": [
    "## 1. Estime el modelo"
   ]
  },
  {
   "cell_type": "markdown",
   "id": "359d82f6",
   "metadata": {},
   "source": [
    "$$\n",
    "\\ln(\\frac{p}{1-p}) = \\beta_0 + \\beta_{\\text{student}}x_{\\text{student}} + \\beta_{\\text{balance}}x_{\\text{balance}} + \\beta_{\\text{income}}x_{\\text{income}}\n",
    "$$\n",
    "\n",
    "En este modelo, $p$ es la probabilidad de `default = No`."
   ]
  },
  {
   "cell_type": "code",
   "execution_count": 2,
   "id": "0f0e95a3",
   "metadata": {},
   "outputs": [
    {
     "data": {
      "text/plain": [
       "\n",
       "Call:\n",
       "glm(formula = default ~ ., family = \"binomial\", data = datos)\n",
       "\n",
       "Deviance Residuals: \n",
       "    Min       1Q   Median       3Q      Max  \n",
       "-2.4691  -0.1418  -0.0557  -0.0203   3.7383  \n",
       "\n",
       "Coefficients:\n",
       "              Estimate Std. Error z value Pr(>|z|)    \n",
       "(Intercept) -1.087e+01  4.923e-01 -22.080  < 2e-16 ***\n",
       "studentYes  -6.468e-01  2.363e-01  -2.738  0.00619 ** \n",
       "balance      5.737e-03  2.319e-04  24.738  < 2e-16 ***\n",
       "income       3.033e-06  8.203e-06   0.370  0.71152    \n",
       "---\n",
       "Signif. codes:  0 ‘***’ 0.001 ‘**’ 0.01 ‘*’ 0.05 ‘.’ 0.1 ‘ ’ 1\n",
       "\n",
       "(Dispersion parameter for binomial family taken to be 1)\n",
       "\n",
       "    Null deviance: 2920.6  on 9999  degrees of freedom\n",
       "Residual deviance: 1571.5  on 9996  degrees of freedom\n",
       "AIC: 1579.5\n",
       "\n",
       "Number of Fisher Scoring iterations: 8\n"
      ]
     },
     "metadata": {},
     "output_type": "display_data"
    }
   ],
   "source": [
    "modelo <- glm(default ~ ., data = datos, family = 'binomial')\n",
    "summary(modelo)"
   ]
  },
  {
   "cell_type": "markdown",
   "id": "f18a46c1",
   "metadata": {},
   "source": [
    "## 2. Interprete los parámetros"
   ]
  },
  {
   "cell_type": "code",
   "execution_count": 3,
   "id": "70474f4b",
   "metadata": {},
   "outputs": [
    {
     "data": {
      "text/html": [
       "<strong>(Intercept):</strong> 1.90381778463612e-05"
      ],
      "text/latex": [
       "\\textbf{(Intercept):} 1.90381778463612e-05"
      ],
      "text/markdown": [
       "**(Intercept):** 1.90381778463612e-05"
      ],
      "text/plain": [
       " (Intercept) \n",
       "1.903818e-05 "
      ]
     },
     "metadata": {},
     "output_type": "display_data"
    }
   ],
   "source": [
    "p = 1 / (1 / exp(modelo$coefficients[1]) + 1)\n",
    "p"
   ]
  },
  {
   "cell_type": "markdown",
   "id": "da514196",
   "metadata": {},
   "source": [
    "El intercepto del modelo nos dice que el valor esperado del logaritmo del _odds ratio_ cuando no se es estudiante, no se tienen fondos y no se tienen ingresos, es -10.87. En terminos de la probabilidad de no default, $p = 0.000019$. "
   ]
  },
  {
   "cell_type": "code",
   "execution_count": 4,
   "id": "aa916f04",
   "metadata": {},
   "outputs": [
    {
     "data": {
      "text/html": [
       "<strong>(Intercept):</strong> 9.97098708026277e-06"
      ],
      "text/latex": [
       "\\textbf{(Intercept):} 9.97098708026277e-06"
      ],
      "text/markdown": [
       "**(Intercept):** 9.97098708026277e-06"
      ],
      "text/plain": [
       " (Intercept) \n",
       "9.970987e-06 "
      ]
     },
     "metadata": {},
     "output_type": "display_data"
    }
   ],
   "source": [
    "p = 1 / (1 / (exp(modelo$coefficients[1] + modelo$coefficients[2])) + 1)\n",
    "p"
   ]
  },
  {
   "cell_type": "markdown",
   "id": "8c35c9ff",
   "metadata": {},
   "source": [
    "El intercepto del modelo nos dice que el valor esperado del logaritmo del _odds ratio_ cuando se es estudiante, no se tienen fondos y no se tienen ingresos, es -11.515821002813. En terminos de la probabilidad de no default, $p = 0.00000997$. "
   ]
  },
  {
   "cell_type": "code",
   "execution_count": 5,
   "id": "3c62715f",
   "metadata": {},
   "outputs": [
    {
     "data": {
      "text/html": [
       "<strong>balance:</strong> 1.00575299050977"
      ],
      "text/latex": [
       "\\textbf{balance:} 1.00575299050977"
      ],
      "text/markdown": [
       "**balance:** 1.00575299050977"
      ],
      "text/plain": [
       " balance \n",
       "1.005753 "
      ]
     },
     "metadata": {},
     "output_type": "display_data"
    }
   ],
   "source": [
    "exp(modelo$coefficients[3])"
   ]
  },
  {
   "cell_type": "markdown",
   "id": "0e596ee2",
   "metadata": {},
   "source": [
    "Si el balance incrementa en una unidad, el logaritmo del _odds ratio_ incrementa $\\beta_{\\text{balance}}$ unidades, es decir, 0.005737. En términos del _odds ratio_, este incrementan en un factor de $e^{\\beta_{\\text{balance}}} = 1.00575299050977$."
   ]
  },
  {
   "cell_type": "code",
   "execution_count": 6,
   "id": "a0541bad",
   "metadata": {},
   "outputs": [
    {
     "data": {
      "text/html": [
       "<strong>income:</strong> 1.00000303345473"
      ],
      "text/latex": [
       "\\textbf{income:} 1.00000303345473"
      ],
      "text/markdown": [
       "**income:** 1.00000303345473"
      ],
      "text/plain": [
       "  income \n",
       "1.000003 "
      ]
     },
     "metadata": {},
     "output_type": "display_data"
    }
   ],
   "source": [
    "exp(modelo$coefficients[4])"
   ]
  },
  {
   "cell_type": "markdown",
   "id": "06dcc96e",
   "metadata": {},
   "source": [
    "Si el income incrementa en una unidad, el logaritmo del _odds ratio_ incrementa $\\beta_{\\text{income}}$ unidades, es decir, 0.000003033. En términos del _odds ratio_, este incrementan en un factor de $e^{\\beta_{\\text{income}}} = 1.00000303345473$."
   ]
  },
  {
   "cell_type": "markdown",
   "id": "9ec9ce0e",
   "metadata": {},
   "source": [
    "## 3. ¿Es cierto que el intercepto debe ser menor a 2?"
   ]
  },
  {
   "cell_type": "markdown",
   "id": "88d2289b",
   "metadata": {},
   "source": []
  },
  {
   "cell_type": "code",
   "execution_count": 7,
   "id": "9336750c",
   "metadata": {},
   "outputs": [
    {
     "data": {
      "text/html": [
       "<strong>(Intercept):</strong> -26.1421089028797"
      ],
      "text/latex": [
       "\\textbf{(Intercept):} -26.1421089028797"
      ],
      "text/markdown": [
       "**(Intercept):** -26.1421089028797"
      ],
      "text/plain": [
       "(Intercept) \n",
       "  -26.14211 "
      ]
     },
     "metadata": {},
     "output_type": "display_data"
    }
   ],
   "source": [
    "student2 <- ifelse(datos$student == \"Yes\", 1, 0)\n",
    "datos$student <- student2\n",
    "x <- as.matrix(cbind(rep(1, dim(datos)[1]), datos[, 2:4]))\n",
    "var_beta <- solve(t(x) %*% (diag(modelo$fitted.values * (1 - modelo$fitted.values))) %*% x)\n",
    "ep <- (modelo$coefficients[1]-2)/sqrt(var_beta[1,1])\n",
    "ep"
   ]
  },
  {
   "cell_type": "markdown",
   "id": "be62f52a",
   "metadata": {},
   "source": [
    "## 4. Es cierto que $\\beta_1$ es 100 veces $\\beta_2$?"
   ]
  },
  {
   "cell_type": "markdown",
   "id": "9d929bbc",
   "metadata": {},
   "source": []
  },
  {
   "cell_type": "code",
   "execution_count": null,
   "id": "c4e43a83",
   "metadata": {},
   "outputs": [],
   "source": []
  },
  {
   "cell_type": "markdown",
   "id": "91c0bad3",
   "metadata": {},
   "source": [
    "## 5. Haga un intervalo para la probabilidad de default para un estudiante con balance 900 e ingreso 20000. "
   ]
  },
  {
   "cell_type": "markdown",
   "id": "91a3bc7e",
   "metadata": {},
   "source": []
  },
  {
   "cell_type": "code",
   "execution_count": null,
   "id": "ab04f7f2",
   "metadata": {},
   "outputs": [],
   "source": []
  },
  {
   "cell_type": "code",
   "execution_count": null,
   "id": "45312b50",
   "metadata": {},
   "outputs": [],
   "source": [
    "\"\n",
    "Código clase 23.\n",
    "\n",
    "En el paquete ISLR de R, la base de datos Default contien información sobre\n",
    "si las personas que piden un préstamo no pagan (hacen default) o si lo pagan\n",
    "completo. La variable de respuesta es 'default' y se usan las variables \n",
    "explicativa que dicen si la persona es estudiante, el balance de la cuenta\n",
    "y el ingreso.\n",
    "\n",
    "1. Estime el modelo\n",
    "2. Interprete los parámetros\n",
    "3. Es el modelo significativo?\n",
    "4. Es cierto que las variables de estudiante y el ingreso se pueden omitir\n",
    "   en el modelo?\n",
    "5. Es cierto que el intercepto debe ser menor a 2?\n",
    "6. Es cierto que beta_2 es 100 veces beta 3?\n",
    "7. Haga un intervalo para la probabilidad de default para un estudiante\n",
    "   con balance 900 e ingreso 20000. \n",
    "8. De acuerdo al banco, para un estudiante con balance 1000 e ingreso 18000\n",
    "   la porbabilidad de default es 0.8, mientas para un estudiante con balance\n",
    "   de 1500 e ingreso de 22000, la porbabilidad es de 0.2. Encuentra evidencia\n",
    "   para refutar esta información?\n",
    "\"\n",
    "########################################################\n",
    "#Solution\n",
    "\n",
    "library(ISLR)\n",
    "data=Default\n",
    "\n",
    "fit=glm(default~.,data=data,family=\"binomial\")\n",
    "summary(fit)"
   ]
  },
  {
   "cell_type": "code",
   "execution_count": null,
   "id": "b6b47213",
   "metadata": {},
   "outputs": [],
   "source": [
    "LR=2920.6-1571.5\n",
    "pvalor=1-pchisq(LR,3)"
   ]
  },
  {
   "cell_type": "code",
   "execution_count": null,
   "id": "0893af6c",
   "metadata": {},
   "outputs": [],
   "source": [
    "pvalor"
   ]
  },
  {
   "cell_type": "code",
   "execution_count": null,
   "id": "b0cc002d",
   "metadata": {},
   "outputs": [],
   "source": [
    "nul=glm(default~1,data=data,family=\"binomial\")\n",
    "summary(nul)"
   ]
  },
  {
   "cell_type": "code",
   "execution_count": null,
   "id": "1039960e",
   "metadata": {},
   "outputs": [],
   "source": [
    "anova(nul,fit,test=\"LRT\")"
   ]
  },
  {
   "cell_type": "code",
   "execution_count": null,
   "id": "a793d37c",
   "metadata": {},
   "outputs": [],
   "source": [
    "nul2=glm(default~balance,data=data,family=\"binomial\")"
   ]
  },
  {
   "cell_type": "code",
   "execution_count": null,
   "id": "4ed215aa",
   "metadata": {},
   "outputs": [],
   "source": [
    "anova(nul2,fit,test=\"LRT\")"
   ]
  },
  {
   "cell_type": "code",
   "execution_count": null,
   "id": "63f4f416",
   "metadata": {},
   "outputs": [],
   "source": [
    "student2=ifelse(data$student==\"Yes\",1,0)\n",
    "data$student=student2"
   ]
  },
  {
   "cell_type": "code",
   "execution_count": null,
   "id": "d80ddba4",
   "metadata": {},
   "outputs": [],
   "source": [
    "x=as.matrix(cbind(rep(1,dim(data)[1]),data[,2:4]))\n",
    "head(x)"
   ]
  },
  {
   "cell_type": "code",
   "execution_count": null,
   "id": "09488e54",
   "metadata": {},
   "outputs": [],
   "source": [
    "var_beta=solve(t(x)%*%(diag(fit$fitted.values*(1-fit$fitted.values)))%*%x)"
   ]
  },
  {
   "cell_type": "code",
   "execution_count": null,
   "id": "c3d74fde",
   "metadata": {},
   "outputs": [],
   "source": [
    "ep=(fit$coefficients[1]-2)/sqrt(var_beta[1,1])"
   ]
  },
  {
   "cell_type": "code",
   "execution_count": null,
   "id": "c862b04d",
   "metadata": {},
   "outputs": [],
   "source": [
    "########################################\n",
    "c=c(0,0,1,-100)\n",
    "theta=t(fit$coefficients)%*%c\n",
    "\n",
    "var_theta=t(c)%*%var_beta%*%c\n",
    "\n",
    "ep2=theta/sqrt(var_theta)\n",
    "\n",
    "\n",
    "############################################\n",
    "c=c(1,0,900,20000)\n",
    "mu=t(c)%*%fit$coefficients\n",
    "\n",
    "sup=mu+qnorm(0.975)*sqrt(t(c)%*%var_beta%*%c)\n",
    "inf=mu-qnorm(0.975)*sqrt(t(c)%*%var_beta%*%c)\n",
    "\n",
    "supp=exp(sup)/(1+exp(sup))\n",
    "infpp=exp(inf)/(1+exp(inf))\n",
    "interp=c(infpp,supp)"
   ]
  }
 ],
 "metadata": {
  "kernelspec": {
   "display_name": "R",
   "language": "R",
   "name": "ir"
  },
  "language_info": {
   "codemirror_mode": "r",
   "file_extension": ".r",
   "mimetype": "text/x-r-source",
   "name": "R",
   "pygments_lexer": "r",
   "version": "4.2.1"
  }
 },
 "nbformat": 4,
 "nbformat_minor": 5
}
